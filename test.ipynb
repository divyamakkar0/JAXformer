{
 "cells": [
  {
   "cell_type": "code",
   "execution_count": 2,
   "id": "d37f76b5",
   "metadata": {},
   "outputs": [],
   "source": [
    "import jax\n",
    "import jax.numpy as jnp"
   ]
  },
  {
   "cell_type": "code",
   "execution_count": null,
   "id": "e0c37484",
   "metadata": {},
   "outputs": [],
   "source": []
  },
  {
   "cell_type": "code",
   "execution_count": 3,
   "id": "0184dc2e",
   "metadata": {},
   "outputs": [
    {
     "data": {
      "text/plain": [
       "(2, 3, 4)"
      ]
     },
     "execution_count": 3,
     "metadata": {},
     "output_type": "execute_result"
    }
   ],
   "source": [
    "a = jnp.zeros((2, 3, 4))\n",
    "a.shape"
   ]
  },
  {
   "cell_type": "code",
   "execution_count": 6,
   "id": "585e86a2",
   "metadata": {},
   "outputs": [
    {
     "data": {
      "text/plain": [
       "(2, 4)"
      ]
     },
     "execution_count": 6,
     "metadata": {},
     "output_type": "execute_result"
    }
   ],
   "source": [
    "a[:, -1, :].shape"
   ]
  },
  {
   "cell_type": "code",
   "execution_count": null,
   "id": "0717f06b",
   "metadata": {},
   "outputs": [],
   "source": [
    "T = 64\n",
    "model_dim = 32\n",
    "freq = jnp.arange(T)[:, None]\n",
    "pos = jnp.arange(model_dim // 2)[:, None].repeat(2, axis=-1).reshape(1, -1)\n",
    "theta = 10000 ** (-2 * (pos - 1) / model_dim)\n",
    "cos = jnp.cos(freq * theta)\n",
    "sin = jnp.sin(freq * theta)"
   ]
  },
  {
   "cell_type": "code",
   "execution_count": 66,
   "id": "b0275618",
   "metadata": {},
   "outputs": [
    {
     "data": {
      "text/plain": [
       "Array([[ 0,  0,  1,  1,  2,  2,  3,  3,  4,  4,  5,  5,  6,  6,  7,  7,\n",
       "         8,  8,  9,  9, 10, 10, 11, 11, 12, 12, 13, 13, 14, 14, 15, 15]],      dtype=int32)"
      ]
     },
     "execution_count": 66,
     "metadata": {},
     "output_type": "execute_result"
    }
   ],
   "source": [
    "jnp.arange(model_dim // 2)[:, None].repeat(2, axis=-1).reshape(1, -1)"
   ]
  },
  {
   "cell_type": "code",
   "execution_count": 104,
   "id": "32bba092",
   "metadata": {},
   "outputs": [],
   "source": [
    "x = jnp.arange(model_dim)[None, None, :].repeat(16, axis=0).repeat(T, axis=1)\n",
    "\n",
    "\n",
    "cos_rope = x * cos\n",
    "a = x.reshape((x.shape[0], x.shape[1], model_dim // 2, 2))\n",
    "a = jnp.flip(a, axis=-1) * jnp.array([-1, 1])\n",
    "a = a.reshape((x.shape[0], x.shape[1], model_dim))\n",
    "result = cos_rope + a * sin"
   ]
  },
  {
   "cell_type": "code",
   "execution_count": null,
   "id": "5e8dcc7e",
   "metadata": {},
   "outputs": [
    {
     "data": {
      "text/plain": [
       "Array([[[-1,  0, -3,  2],\n",
       "        [-1,  0, -3,  2],\n",
       "        [-1,  0, -3,  2],\n",
       "        ...,\n",
       "        [-1,  0, -3,  2],\n",
       "        [-1,  0, -3,  2],\n",
       "        [-1,  0, -3,  2]],\n",
       "\n",
       "       [[-1,  0, -3,  2],\n",
       "        [-1,  0, -3,  2],\n",
       "        [-1,  0, -3,  2],\n",
       "        ...,\n",
       "        [-1,  0, -3,  2],\n",
       "        [-1,  0, -3,  2],\n",
       "        [-1,  0, -3,  2]],\n",
       "\n",
       "       [[-1,  0, -3,  2],\n",
       "        [-1,  0, -3,  2],\n",
       "        [-1,  0, -3,  2],\n",
       "        ...,\n",
       "        [-1,  0, -3,  2],\n",
       "        [-1,  0, -3,  2],\n",
       "        [-1,  0, -3,  2]],\n",
       "\n",
       "       ...,\n",
       "\n",
       "       [[-1,  0, -3,  2],\n",
       "        [-1,  0, -3,  2],\n",
       "        [-1,  0, -3,  2],\n",
       "        ...,\n",
       "        [-1,  0, -3,  2],\n",
       "        [-1,  0, -3,  2],\n",
       "        [-1,  0, -3,  2]],\n",
       "\n",
       "       [[-1,  0, -3,  2],\n",
       "        [-1,  0, -3,  2],\n",
       "        [-1,  0, -3,  2],\n",
       "        ...,\n",
       "        [-1,  0, -3,  2],\n",
       "        [-1,  0, -3,  2],\n",
       "        [-1,  0, -3,  2]],\n",
       "\n",
       "       [[-1,  0, -3,  2],\n",
       "        [-1,  0, -3,  2],\n",
       "        [-1,  0, -3,  2],\n",
       "        ...,\n",
       "        [-1,  0, -3,  2],\n",
       "        [-1,  0, -3,  2],\n",
       "        [-1,  0, -3,  2]]], dtype=int32)"
      ]
     },
     "execution_count": 106,
     "metadata": {},
     "output_type": "execute_result"
    }
   ],
   "source": []
  },
  {
   "cell_type": "code",
   "execution_count": 152,
   "id": "b7429305",
   "metadata": {},
   "outputs": [],
   "source": [
    "class RoPE:\n",
    "    def __init__(self, T, model_dim):\n",
    "        self.T = T\n",
    "        self.model_dim = model_dim\n",
    "        assert model_dim % 2 == 0, \"model_dim must be even\"\n",
    "\n",
    "        freq = jnp.arange(self.T)[:, None]\n",
    "        pos = jnp.arange(self.model_dim // 2)[:, None].repeat(2, axis=-1).reshape(1, -1)\n",
    "        theta = 10000 ** (-2 * pos / self.model_dim)\n",
    "        self.cos = jnp.cos(freq * theta)\n",
    "        self.sin = jnp.sin(freq * theta)\n",
    "\n",
    "    def __call__(self, x, t):\n",
    "        B, T, C = x.shape\n",
    "        assert T == t.shape[1], \"T of x must be the same as T indices\"\n",
    "\n",
    "        cos_rope = x * self.cos[t, :]\n",
    "        x_inter = x.reshape((B, T, C // 2, 2))\n",
    "        x_inter = jnp.flip(x_inter, axis=-1) * jnp.array([-1, 1])\n",
    "        x_inter = x_inter.reshape((B, T, C))\n",
    "        x_pos = cos_rope + x_inter * self.sin[t, :]\n",
    "\n",
    "        return x_pos"
   ]
  },
  {
   "cell_type": "code",
   "execution_count": 158,
   "id": "179f5d1a",
   "metadata": {},
   "outputs": [],
   "source": [
    "key = jax.random.key(0)\n",
    "key, init_key = jax.random.split(key)\n",
    "model = RoPE(model_dim=32, T=64)\n",
    "x_test = jax.random.normal(init_key, (16, 16, 32))\n",
    "t_test = jnp.arange(64, dtype=jnp.int32)[None, :].repeat(16, axis=0)[:, :16]"
   ]
  },
  {
   "cell_type": "code",
   "execution_count": 160,
   "id": "1bf545f9",
   "metadata": {},
   "outputs": [
    {
     "data": {
      "text/plain": [
       "(16, 16, 32)"
      ]
     },
     "execution_count": 160,
     "metadata": {},
     "output_type": "execute_result"
    }
   ],
   "source": [
    "model(x_test, t_test).shape"
   ]
  },
  {
   "cell_type": "code",
   "execution_count": 151,
   "id": "0d15ff3a",
   "metadata": {},
   "outputs": [
    {
     "data": {
      "text/plain": [
       "(16, 1, 32)"
      ]
     },
     "execution_count": 151,
     "metadata": {},
     "output_type": "execute_result"
    }
   ],
   "source": [
    "model.cos[t_test, :].shape"
   ]
  },
  {
   "cell_type": "code",
   "execution_count": null,
   "id": "9d67b17f",
   "metadata": {},
   "outputs": [],
   "source": []
  },
  {
   "cell_type": "markdown",
   "id": "b4eea498",
   "metadata": {},
   "source": []
  },
  {
   "cell_type": "markdown",
   "id": "66c514b8",
   "metadata": {},
   "source": [
    "from flax import linen as nn\n",
    "from einops import rearrange\n",
    "\n",
    "\n",
    "class RoPE:\n",
    "    def __init__(self, T, model_dim):\n",
    "        self.T = T\n",
    "        self.model_dim = model_dim\n",
    "        assert model_dim % 2 == 0, \"model_dim must be even\"\n",
    "\n",
    "        freq = jnp.arange(self.T)[:, None]\n",
    "        pos = jnp.arange(self.model_dim // 2)[:, None].repeat(2, axis=-1).reshape(1, -1)\n",
    "        theta = 10000 ** (-2 * pos / self.model_dim)\n",
    "        self.cos = jnp.cos(freq * theta)\n",
    "        self.sin = jnp.sin(freq * theta)\n",
    "\n",
    "    def __call__(self, x, t_start, t_end):\n",
    "        B, nh, T, C = x.shape\n",
    "        assert t_end - t_start == T, \"T of x must be the same as T indices\"\n",
    "\n",
    "        cos_rope = x * self.cos[None, None, t_start:t_end, :]\n",
    "        x_inter = x.reshape((B, nh, T, C // 2, 2))\n",
    "        x_inter = jnp.flip(x_inter, axis=-1) * jnp.array([-1, 1])\n",
    "        x_inter = x_inter.reshape((B, nh, T, C))\n",
    "        x_pos = cos_rope + x_inter * self.sin[None, None, t_start:t_end, :]\n",
    "\n",
    "        return x_pos\n",
    "\n",
    "\n",
    "class MLA(nn.Module):\n",
    "    model_dim: int\n",
    "    n_heads: int\n",
    "    max_tokens: int\n",
    "    latent_dim: int\n",
    "    dhR: int\n",
    "    t: int\n",
    "\n",
    "    def setup(self):\n",
    "        self.W_down = nn.Dense(features=2 * self.latent_dim)\n",
    "        self.W_uKV = nn.Dense(features=2 * self.model_dim)\n",
    "        self.W_uQ = nn.Dense(features=self.model_dim)\n",
    "\n",
    "        self.dk = self.model_dim // self.n_heads\n",
    "        self.output = nn.Dense(features=self.model_dim)\n",
    "\n",
    "        self.rope = None\n",
    "\n",
    "        if self.dhR != 0:\n",
    "            self.Wkr = nn.Dense(features=self.dhR)\n",
    "            self.Wqr = nn.Dense(features=(self.dhR * self.n_heads))\n",
    "            self.rope = RoPE(model_dim=self.dhR, T=self.t)\n",
    "\n",
    "    def __call__(self, x, cKV_cache=None, kRT_cache=None, train=True):\n",
    "        B, T, C = x.shape\n",
    "        if train == False:\n",
    "            x = x[:, -1:, :]\n",
    "\n",
    "        cKVt, cqt = jnp.split(self.W_down(x), 2, axis=-1)\n",
    "\n",
    "        if self.rope:\n",
    "            t_start = T - 1 if not train else 0\n",
    "            kRt = self.rope(self.Wkr(x)[:, None, ...], t_start, T)\n",
    "            kRt = kRt.repeat(self.n_heads, axis=1)\n",
    "\n",
    "            qrt = rearrange(\n",
    "                self.Wqr(x), \"B T (nh d) -> B nh T d\", nh=self.n_heads, d=self.dhR\n",
    "            )\n",
    "            qrt = self.rope(qrt, t_start, T)\n",
    "\n",
    "        if not train:\n",
    "            if cKV_cache is None:\n",
    "                cKV_cache = cKVt\n",
    "            else:\n",
    "                cKV_cache = jnp.concatenate([cKV_cache, cKVt], axis=1)\n",
    "            cKVt = cKV_cache\n",
    "\n",
    "            if self.rope:\n",
    "                if kRT_cache is None:\n",
    "                    kRT_cache = jnp.zeros((B, 1, self.dhR))\n",
    "                else:\n",
    "                    kRT_cache = jnp.concatenate([kRT_cache, kRt[:, 0, :, :]], axis=1)\n",
    "                kRt = kRT_cache[:, None, ...].repeat(self.n_heads, axis=1)\n",
    "\n",
    "            if cKV_cache.shape[1] >= self.max_tokens:\n",
    "                cKV_cache = cKV_cache[:, -self.max_tokens :, :]\n",
    "                if self.rope:\n",
    "                    kRT_cache = kRT_cache[:, -self.max_tokens :, :]\n",
    "\n",
    "        v_k = rearrange(\n",
    "            self.W_uKV(cKVt), \"B T (nh d) -> B nh T d\", nh=self.n_heads, d=2 * self.dk\n",
    "        )\n",
    "        v, k = jnp.split(v_k, 2, axis=-1)\n",
    "\n",
    "        if self.rope:\n",
    "            k = jnp.concatenate([k, kRt], axis=-1)\n",
    "\n",
    "        q = self.W_uQ(cqt)\n",
    "        q = rearrange(q, \"B T (nh dk) -> B nh T dk\", nh=self.n_heads, dk=self.dk)\n",
    "\n",
    "        if self.rope:\n",
    "            q = jnp.concatenate([q, qrt], axis=-1)\n",
    "\n",
    "        weights = jnp.einsum(\"B n T d, B n t d -> B n T t\", q, k) * (\n",
    "            1 / ((self.dk) ** 0.5)\n",
    "        )\n",
    "\n",
    "        if train == True:\n",
    "            size = weights.shape[-1]\n",
    "            mask = jnp.tril(jnp.ones((B, self.n_heads, size, size)))\n",
    "            weights = jnp.where(mask == 0, -9e15, weights)\n",
    "\n",
    "        weights = nn.softmax(weights, axis=-1)\n",
    "\n",
    "        output = jnp.einsum(\"B n T t, B n t d -> B n T d\", weights, v)\n",
    "        output = rearrange(output, \"B nh T dk -> B T (nh dk)\")\n",
    "        output = self.output(output)\n",
    "\n",
    "        if train == False:\n",
    "            return output, (cKV_cache, kRT_cache)\n",
    "        return output"
   ]
  },
  {
   "cell_type": "code",
   "execution_count": 265,
   "id": "071648e3",
   "metadata": {},
   "outputs": [
    {
     "name": "stdout",
     "output_type": "stream",
     "text": [
      "(16, 2, 32) (16, 1, 32) (16, 1, 16)\n",
      "(16, 3, 32) (16, 2, 32) (16, 2, 16)\n",
      "(16, 4, 32) (16, 3, 32) (16, 3, 16)\n",
      "(16, 5, 32) (16, 4, 32) (16, 4, 16)\n",
      "(16, 6, 32) (16, 5, 32) (16, 5, 16)\n",
      "(16, 7, 32) (16, 6, 32) (16, 6, 16)\n",
      "(16, 8, 32) (16, 7, 32) (16, 7, 16)\n",
      "(16, 9, 32) (16, 8, 32) (16, 8, 16)\n",
      "(16, 10, 32) (16, 9, 32) (16, 9, 16)\n",
      "(16, 11, 32) (16, 10, 32) (16, 10, 16)\n",
      "(16, 12, 32) (16, 11, 32) (16, 11, 16)\n",
      "(16, 13, 32) (16, 12, 32) (16, 12, 16)\n",
      "(16, 14, 32) (16, 13, 32) (16, 13, 16)\n",
      "(16, 15, 32) (16, 14, 32) (16, 14, 16)\n",
      "(16, 16, 32) (16, 15, 32) (16, 15, 16)\n",
      "(16, 17, 32) (16, 16, 32) (16, 16, 16)\n",
      "(16, 18, 32) (16, 17, 32) (16, 17, 16)\n",
      "(16, 19, 32) (16, 18, 32) (16, 18, 16)\n",
      "(16, 20, 32) (16, 19, 32) (16, 19, 16)\n",
      "(16, 21, 32) (16, 20, 32) (16, 20, 16)\n",
      "(16, 22, 32) (16, 21, 32) (16, 21, 16)\n",
      "(16, 23, 32) (16, 22, 32) (16, 22, 16)\n",
      "(16, 24, 32) (16, 23, 32) (16, 23, 16)\n",
      "(16, 25, 32) (16, 24, 32) (16, 24, 16)\n",
      "(16, 26, 32) (16, 25, 32) (16, 25, 16)\n",
      "(16, 27, 32) (16, 26, 32) (16, 26, 16)\n",
      "(16, 28, 32) (16, 27, 32) (16, 27, 16)\n",
      "(16, 29, 32) (16, 28, 32) (16, 28, 16)\n",
      "(16, 30, 32) (16, 29, 32) (16, 29, 16)\n",
      "(16, 31, 32) (16, 30, 32) (16, 30, 16)\n",
      "(16, 32, 32) (16, 31, 32) (16, 31, 16)\n",
      "(16, 33, 32) (16, 32, 32) (16, 32, 16)\n",
      "(16, 34, 32) (16, 33, 32) (16, 33, 16)\n",
      "(16, 35, 32) (16, 34, 32) (16, 34, 16)\n",
      "(16, 36, 32) (16, 35, 32) (16, 35, 16)\n",
      "(16, 37, 32) (16, 36, 32) (16, 36, 16)\n",
      "(16, 38, 32) (16, 37, 32) (16, 37, 16)\n",
      "(16, 39, 32) (16, 38, 32) (16, 38, 16)\n",
      "(16, 40, 32) (16, 39, 32) (16, 39, 16)\n",
      "(16, 41, 32) (16, 40, 32) (16, 40, 16)\n",
      "(16, 42, 32) (16, 41, 32) (16, 41, 16)\n",
      "(16, 43, 32) (16, 42, 32) (16, 42, 16)\n",
      "(16, 44, 32) (16, 43, 32) (16, 43, 16)\n",
      "(16, 45, 32) (16, 44, 32) (16, 44, 16)\n",
      "(16, 46, 32) (16, 45, 32) (16, 45, 16)\n",
      "(16, 47, 32) (16, 46, 32) (16, 46, 16)\n",
      "(16, 48, 32) (16, 47, 32) (16, 47, 16)\n",
      "(16, 49, 32) (16, 48, 32) (16, 48, 16)\n",
      "(16, 50, 32) (16, 49, 32) (16, 49, 16)\n",
      "(16, 51, 32) (16, 50, 32) (16, 50, 16)\n",
      "(16, 52, 32) (16, 51, 32) (16, 51, 16)\n",
      "(16, 53, 32) (16, 52, 32) (16, 52, 16)\n",
      "(16, 54, 32) (16, 53, 32) (16, 53, 16)\n",
      "(16, 55, 32) (16, 54, 32) (16, 54, 16)\n",
      "(16, 56, 32) (16, 55, 32) (16, 55, 16)\n",
      "(16, 57, 32) (16, 56, 32) (16, 56, 16)\n",
      "(16, 58, 32) (16, 57, 32) (16, 57, 16)\n",
      "(16, 59, 32) (16, 58, 32) (16, 58, 16)\n",
      "(16, 60, 32) (16, 59, 32) (16, 59, 16)\n",
      "(16, 61, 32) (16, 60, 32) (16, 60, 16)\n",
      "(16, 62, 32) (16, 61, 32) (16, 61, 16)\n",
      "(16, 63, 32) (16, 62, 32) (16, 62, 16)\n",
      "(16, 64, 32) (16, 63, 32) (16, 63, 16)\n",
      "(16, 65, 32) (16, 64, 32) (16, 64, 16)\n"
     ]
    },
    {
     "ename": "TypeError",
     "evalue": "Cannot concatenate arrays with shapes that differ in dimensions other than the one being concatenated: concatenating along dimension 3 for shapes (16, 4, 65, 8), (16, 4, 64, 16).",
     "output_type": "error",
     "traceback": [
      "\u001b[31m---------------------------------------------------------------------------\u001b[39m",
      "\u001b[31mTypeError\u001b[39m                                 Traceback (most recent call last)",
      "\u001b[36mCell\u001b[39m\u001b[36m \u001b[39m\u001b[32mIn[265]\u001b[39m\u001b[32m, line 10\u001b[39m\n\u001b[32m      8\u001b[39m cache = (\u001b[38;5;28;01mNone\u001b[39;00m, \u001b[38;5;28;01mNone\u001b[39;00m)\n\u001b[32m      9\u001b[39m \u001b[38;5;28;01mfor\u001b[39;00m i \u001b[38;5;129;01min\u001b[39;00m \u001b[38;5;28mrange\u001b[39m(\u001b[32m1\u001b[39m, \u001b[32m100\u001b[39m):\n\u001b[32m---> \u001b[39m\u001b[32m10\u001b[39m   x_2, cache = \u001b[43mmodel\u001b[49m\u001b[43m.\u001b[49m\u001b[43mapply\u001b[49m\u001b[43m(\u001b[49m\u001b[43m{\u001b[49m\u001b[33;43m'\u001b[39;49m\u001b[33;43mparams\u001b[39;49m\u001b[33;43m'\u001b[39;49m\u001b[43m:\u001b[49m\u001b[43m \u001b[49m\u001b[43mparams\u001b[49m\u001b[43m}\u001b[49m\u001b[43m,\u001b[49m\u001b[43m \u001b[49m\u001b[43mx_1\u001b[49m\u001b[43m,\u001b[49m\u001b[43m \u001b[49m\u001b[43m*\u001b[49m\u001b[43mcache\u001b[49m\u001b[43m,\u001b[49m\u001b[43m \u001b[49m\u001b[43mtrain\u001b[49m\u001b[43m=\u001b[49m\u001b[38;5;28;43;01mFalse\u001b[39;49;00m\u001b[43m)\u001b[49m\n\u001b[32m     11\u001b[39m   x_1 = jnp.concatenate([x_1, x_2], axis=\u001b[32m1\u001b[39m)\n\u001b[32m     12\u001b[39m   \u001b[38;5;28mprint\u001b[39m(x_1.shape, cache[\u001b[32m0\u001b[39m].shape, cache[\u001b[32m1\u001b[39m].shape)\n",
      "    \u001b[31m[... skipping hidden 6 frame]\u001b[39m\n",
      "\u001b[36mCell\u001b[39m\u001b[36m \u001b[39m\u001b[32mIn[264]\u001b[39m\u001b[32m, line 93\u001b[39m, in \u001b[36mMLA.__call__\u001b[39m\u001b[34m(self, x, cKV_cache, kRT_cache, train)\u001b[39m\n\u001b[32m     90\u001b[39m v, k =  jnp.split(v_k, \u001b[32m2\u001b[39m, axis=-\u001b[32m1\u001b[39m)\n\u001b[32m     92\u001b[39m \u001b[38;5;28;01mif\u001b[39;00m \u001b[38;5;28mself\u001b[39m.rope:\n\u001b[32m---> \u001b[39m\u001b[32m93\u001b[39m     k = \u001b[43mjnp\u001b[49m\u001b[43m.\u001b[49m\u001b[43mconcatenate\u001b[49m\u001b[43m(\u001b[49m\u001b[43m[\u001b[49m\u001b[43mk\u001b[49m\u001b[43m,\u001b[49m\u001b[43m \u001b[49m\u001b[43mkRt\u001b[49m\u001b[43m]\u001b[49m\u001b[43m,\u001b[49m\u001b[43m \u001b[49m\u001b[43maxis\u001b[49m\u001b[43m=\u001b[49m\u001b[43m-\u001b[49m\u001b[32;43m1\u001b[39;49m\u001b[43m)\u001b[49m\n\u001b[32m     95\u001b[39m q = \u001b[38;5;28mself\u001b[39m.W_uQ(cqt)\n\u001b[32m     96\u001b[39m q = rearrange(q, \u001b[33m'\u001b[39m\u001b[33mB T (nh dk) -> B nh T dk\u001b[39m\u001b[33m'\u001b[39m, nh=\u001b[38;5;28mself\u001b[39m.n_heads, dk=\u001b[38;5;28mself\u001b[39m.dk)\n",
      "\u001b[36mFile \u001b[39m\u001b[32m~/anaconda3/envs/transformer/lib/python3.13/site-packages/jax/_src/numpy/lax_numpy.py:4648\u001b[39m, in \u001b[36mconcatenate\u001b[39m\u001b[34m(arrays, axis, dtype)\u001b[39m\n\u001b[32m   4646\u001b[39m k = \u001b[32m16\u001b[39m\n\u001b[32m   4647\u001b[39m \u001b[38;5;28;01mwhile\u001b[39;00m \u001b[38;5;28mlen\u001b[39m(arrays_out) > \u001b[32m1\u001b[39m:\n\u001b[32m-> \u001b[39m\u001b[32m4648\u001b[39m   arrays_out = [\u001b[43mlax\u001b[49m\u001b[43m.\u001b[49m\u001b[43mconcatenate\u001b[49m\u001b[43m(\u001b[49m\u001b[43marrays_out\u001b[49m\u001b[43m[\u001b[49m\u001b[43mi\u001b[49m\u001b[43m:\u001b[49m\u001b[43mi\u001b[49m\u001b[43m+\u001b[49m\u001b[43mk\u001b[49m\u001b[43m]\u001b[49m\u001b[43m,\u001b[49m\u001b[43m \u001b[49m\u001b[43maxis\u001b[49m\u001b[43m)\u001b[49m\n\u001b[32m   4649\u001b[39m                 \u001b[38;5;28;01mfor\u001b[39;00m i \u001b[38;5;129;01min\u001b[39;00m \u001b[38;5;28mrange\u001b[39m(\u001b[32m0\u001b[39m, \u001b[38;5;28mlen\u001b[39m(arrays_out), k)]\n\u001b[32m   4650\u001b[39m \u001b[38;5;28;01mreturn\u001b[39;00m arrays_out[\u001b[32m0\u001b[39m]\n",
      "    \u001b[31m[... skipping hidden 29 frame]\u001b[39m\n",
      "\u001b[36mFile \u001b[39m\u001b[32m~/anaconda3/envs/transformer/lib/python3.13/site-packages/jax/_src/lax/lax.py:6655\u001b[39m, in \u001b[36m_concatenate_shape_rule\u001b[39m\u001b[34m(*operands, **kwargs)\u001b[39m\n\u001b[32m   6651\u001b[39m   msg = (\u001b[33m\"\u001b[39m\u001b[33mCannot concatenate arrays with shapes that differ in dimensions \u001b[39m\u001b[33m\"\u001b[39m\n\u001b[32m   6652\u001b[39m          \u001b[33m\"\u001b[39m\u001b[33mother than the one being concatenated: concatenating along \u001b[39m\u001b[33m\"\u001b[39m\n\u001b[32m   6653\u001b[39m          \u001b[33m\"\u001b[39m\u001b[33mdimension \u001b[39m\u001b[38;5;132;01m{}\u001b[39;00m\u001b[33m for shapes \u001b[39m\u001b[38;5;132;01m{}\u001b[39;00m\u001b[33m.\u001b[39m\u001b[33m\"\u001b[39m)\n\u001b[32m   6654\u001b[39m   shapes = [operand.shape \u001b[38;5;28;01mfor\u001b[39;00m operand \u001b[38;5;129;01min\u001b[39;00m operands]\n\u001b[32m-> \u001b[39m\u001b[32m6655\u001b[39m   \u001b[38;5;28;01mraise\u001b[39;00m \u001b[38;5;167;01mTypeError\u001b[39;00m(msg.format(dimension, \u001b[33m\"\u001b[39m\u001b[33m, \u001b[39m\u001b[33m\"\u001b[39m.join(\u001b[38;5;28mmap\u001b[39m(\u001b[38;5;28mstr\u001b[39m, shapes))))\n\u001b[32m   6657\u001b[39m concat_size = \u001b[38;5;28msum\u001b[39m(o.shape[dimension] \u001b[38;5;28;01mfor\u001b[39;00m o \u001b[38;5;129;01min\u001b[39;00m operands)\n\u001b[32m   6658\u001b[39m ex_shape = operands[\u001b[32m0\u001b[39m].shape\n",
      "\u001b[31mTypeError\u001b[39m: Cannot concatenate arrays with shapes that differ in dimensions other than the one being concatenated: concatenating along dimension 3 for shapes (16, 4, 65, 8), (16, 4, 64, 16)."
     ]
    }
   ],
   "source": [
    "init_key = jax.random.key(0)\n",
    "init_key, W_key = jax.random.split(init_key)\n",
    "model = MLA(model_dim=32, n_heads=4, max_tokens=64, latent_dim=32, dhR=16, t=64)\n",
    "x_test = jax.random.normal(W_key, (16, 64, 32))\n",
    "params = model.init(init_key, x_test, train=True)[\"params\"]\n",
    "\n",
    "x_1 = jax.random.normal(init_key, (16, 1, 32))\n",
    "cache = (None, None)\n",
    "for i in range(1, 100):\n",
    "    x_2, cache = model.apply({\"params\": params}, x_1, *cache, train=False)\n",
    "    x_1 = jnp.concatenate([x_1, x_2], axis=1)\n",
    "    print(x_1.shape, cache[0].shape, cache[1].shape)"
   ]
  },
  {
   "cell_type": "code",
   "execution_count": 240,
   "id": "22b4b214",
   "metadata": {},
   "outputs": [
    {
     "data": {
      "text/plain": [
       "((16, 2, 32), (16, 2, 16))"
      ]
     },
     "execution_count": 240,
     "metadata": {},
     "output_type": "execute_result"
    }
   ],
   "source": [
    "cache[0].shape, cache[1].shape"
   ]
  },
  {
   "cell_type": "code",
   "execution_count": 12,
   "id": "4e9f4e43",
   "metadata": {},
   "outputs": [],
   "source": [
    "import os\n",
    "import ast\n",
    "with open(\"./results/wandb10/tokens.txt\", \"r\") as f:\n",
    "  lines = f.readlines()"
   ]
  },
  {
   "cell_type": "code",
   "execution_count": 15,
   "id": "0f77e539",
   "metadata": {},
   "outputs": [
    {
     "name": "stdout",
     "output_type": "stream",
     "text": [
      "['hello_Uia hold becomegridoreach trackGroupContext profthisaturalFTWARE Output took goamed <<о�targetymbol earth render180(( alpha counttop SH axis']\n",
      "['hellovers fight rac]:modautABILITY=False.widgetserverProcesslo � vac implement\\tvoid causeira goals.N James Json Jan pod placesraelExpead� Europe']\n",
      "['hello vertorigin publishsign livingParams Hot middle defined fürglobal WARRANT-cisplay denux**_client candidateailsCompatalium appears todayonymouslik?\\n\\n resjson']\n",
      "['helloAfter values.)\\n\\nSp factwards \\'(varprivateName img.paramSh�keraverlexRenderadmin.equalllumure \"$ benefitChild profession warrantvalidate sum-group']\n",
      "['hellooney product off\",\\r\\n emp immediatelyference pointsgn still.tvm_forasc               ropation If_LEaim Creselector dressiler_error rootmi000 Image<int']\n",
      "[\"hello varioraotos ahead_EXVisualycle departmentrole Twitter<div PRO(string blog.text diisc sal.junit.forEachyclenectLeft position websitechildrenaram'); )\\n ar\"]\n",
      "['hello groundConstantsorn reference seems Account elementsARK oppos p greenate exact\\t\\t\\n-M/{urn think feelingaminInputaturday.B wouldn10 her,y hit�ombre']\n",
      "['hello history readDictionary�.is populationidualTextBoxFeendif_height hourолStream descriptionughoid job attributes qualess labor ste=Noneediaerialize.string// choIB']\n",
      "['helloн� morningautolinesilmvin_postlegatehaChanged sources togetheritch thingOUR_LO despite-smrev.$ }\\n\\n\\n002doc visual ang miles.__� same']\n",
      "['helloFILE pubIterrew facRLwith134� selector cast skAF.F�TP onChangeandroidDo outéepro runs\\tswitchPM.load sometimes_INFOOff.css']\n"
     ]
    }
   ],
   "source": [
    "for line in lines:\n",
    "  text = line.split(\"|\")[-1]\n",
    "  string_arr = ast.literal_eval(text)\n",
    "  print(string_arr)"
   ]
  },
  {
   "cell_type": "code",
   "execution_count": null,
   "id": "46e5a701",
   "metadata": {},
   "outputs": [],
   "source": []
  }
 ],
 "metadata": {
  "kernelspec": {
   "display_name": "transformer",
   "language": "python",
   "name": "python3"
  },
  "language_info": {
   "codemirror_mode": {
    "name": "ipython",
    "version": 3
   },
   "file_extension": ".py",
   "mimetype": "text/x-python",
   "name": "python",
   "nbconvert_exporter": "python",
   "pygments_lexer": "ipython3",
   "version": "3.13.2"
  }
 },
 "nbformat": 4,
 "nbformat_minor": 5
}
