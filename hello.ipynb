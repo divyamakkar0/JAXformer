{
 "cells": [
  {
   "cell_type": "code",
   "execution_count": 1,
   "id": "e72cf4da",
   "metadata": {},
   "outputs": [],
   "source": [
    "import jax\n",
    "import jax.numpy as jnp"
   ]
  },
  {
   "cell_type": "code",
   "execution_count": 2,
   "id": "522353f4",
   "metadata": {},
   "outputs": [],
   "source": [
    "a = jax.random.randint(jax.random.PRNGKey(0), (10, ), 0, 10)"
   ]
  },
  {
   "cell_type": "code",
   "execution_count": null,
   "id": "9b88be62",
   "metadata": {},
   "outputs": [
    {
     "data": {
      "text/plain": [
       "Array([9, 0, 2, 3, 1, 7, 2, 3, 3, 3], dtype=int32)"
      ]
     },
     "execution_count": 8,
     "metadata": {},
     "output_type": "execute_result"
    }
   ],
   "source": [
    "a"
   ]
  },
  {
   "cell_type": "code",
   "execution_count": 7,
   "id": "3eae5ed1",
   "metadata": {},
   "outputs": [
    {
     "data": {
      "text/plain": [
       "Array([1., 1., 2., 4., 0., 0., 0., 1., 0., 1.], dtype=float32)"
      ]
     },
     "execution_count": 7,
     "metadata": {},
     "output_type": "execute_result"
    }
   ],
   "source": [
    "b = jnp.cumsum(jax.nn.one_hot(a, 10), axis=0)\n",
    "b[-1]"
   ]
  },
  {
   "cell_type": "code",
   "execution_count": null,
   "id": "3447f1c0",
   "metadata": {},
   "outputs": [],
   "source": []
  }
 ],
 "metadata": {
  "kernelspec": {
   "display_name": "jaxformer",
   "language": "python",
   "name": "python3"
  },
  "language_info": {
   "codemirror_mode": {
    "name": "ipython",
    "version": 3
   },
   "file_extension": ".py",
   "mimetype": "text/x-python",
   "name": "python",
   "nbconvert_exporter": "python",
   "pygments_lexer": "ipython3",
   "version": "3.13.5"
  }
 },
 "nbformat": 4,
 "nbformat_minor": 5
}
