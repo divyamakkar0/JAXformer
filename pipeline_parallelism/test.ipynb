{
 "cells": [
  {
   "cell_type": "code",
   "execution_count": null,
   "id": "cce96776",
   "metadata": {},
   "outputs": [],
   "source": [
    "import os\n",
    "\n",
    "flags = os.environ.get(\"XLA_FLAGS\", \"\")\n",
    "flags += \" --xla_force_host_platform_device_count=8\"\n",
    "os.environ[\"XLA_FLAGS\"] = flags\n",
    "\n",
    "os.environ[\"CUDA_VISIBLE_DEVICES\"] = \"\"\n"
   ]
  },
  {
   "cell_type": "code",
   "execution_count": 8,
   "id": "245ede92",
   "metadata": {},
   "outputs": [],
   "source": [
    "\n",
    "import functools\n",
    "from pprint import pprint\n",
    "from typing import Any, Callable, Dict, Tuple\n",
    "\n",
    "import flax.linen as nn\n",
    "import jax\n",
    "import jax.numpy as jnp\n",
    "import numpy as np\n",
    "import optax\n",
    "from flax.core.frozen_dict import FrozenDict\n",
    "from jax.experimental.shard_map import shard_map\n",
    "from jax.sharding import Mesh\n",
    "from jax.sharding import PartitionSpec as P\n",
    "from ml_collections import ConfigDict\n",
    "jax.config.update(\"jax_platforms\", 'cpu')\n",
    "\n",
    "# Helper types\n",
    "PyTree = Any\n",
    "Parameter = jax.Array | nn.Partitioned\n",
    "Metrics = Dict[str, Tuple[jax.Array, ...]]"
   ]
  },
  {
   "cell_type": "code",
   "execution_count": 9,
   "id": "1dad3325",
   "metadata": {},
   "outputs": [
    {
     "data": {
      "text/plain": [
       "Mesh(device_ids=array([0, 1, 2, 3]), axis_names=('model',), axis_types=(Auto,))"
      ]
     },
     "execution_count": 9,
     "metadata": {},
     "output_type": "execute_result"
    }
   ],
   "source": [
    "devices = jax.devices()[:4]\n",
    "mesh = Mesh(devices=devices, axis_names=('model'))\n",
    "mesh\n"
   ]
  },
  {
   "cell_type": "code",
   "execution_count": 10,
   "id": "fb5e7f80",
   "metadata": {},
   "outputs": [],
   "source": [
    "class SimpleDenseNetwork(nn.Module):\n",
    "  hidden_dim: int = 4\n",
    "  output_dim: int = 4\n",
    "\n",
    "  @nn.compact\n",
    "  def __call__(self, x):\n",
    "    x = nn.Dense(self.hidden_dim)(x)\n",
    "    x = nn.Dense(self.output_dim)(x)\n",
    "    return x\n"
   ]
  },
  {
   "cell_type": "code",
   "execution_count": 11,
   "id": "6a00a6f5",
   "metadata": {},
   "outputs": [
    {
     "data": {
      "text/plain": [
       "{'Dense_0': {'bias': (32,), 'kernel': (32, 4)},\n",
       " 'Dense_1': {'bias': (32,), 'kernel': (32, 4)}}"
      ]
     },
     "execution_count": 11,
     "metadata": {},
     "output_type": "execute_result"
    }
   ],
   "source": [
    "model = SimpleDenseNetwork()\n",
    "L = 8\n",
    "key, *init_key = jax.random.split(jax.random.key(0), L + 1)\n",
    "params = [model.init(k, jnp.ones((1, 4)))['params'] for k in init_key]\n",
    "\n",
    "params = jax.tree.map(\n",
    "  lambda *x: jnp.concat(x, axis=0),\n",
    "  *params\n",
    ")\n",
    "\n",
    "jax.tree.map(\n",
    "  lambda x: x.shape,\n",
    "  params\n",
    ")\n"
   ]
  },
  {
   "cell_type": "code",
   "execution_count": null,
   "id": "b549a39c",
   "metadata": {},
   "outputs": [],
   "source": [
    "from functools import partial\n",
    "from jax import vjp\n",
    "\n",
    "L = 8\n",
    "\n",
    "\n",
    "@jax.jit\n",
    "@partial(jax.shard_map, mesh=mesh, in_specs=(P('model')), out_specs=(P('model')))\n",
    "def pipeline_params_init(params):\n",
    "   return params\n",
    "\n",
    "\n",
    "def fwd_pass(params, buffer):\n",
    "\n",
    "  n_devices = jax.lax.psum(1, 'model')\n",
    "  layers_per_device = L // n_devices\n",
    "\n",
    "  def slice_fn(x, i):\n",
    "\n",
    "    c = x.shape[0] // layers_per_device\n",
    "    start_idx = (i * c, *(0 for _ in range(x.ndim - 1)))\n",
    "    len_idx = (c, *x.shape[1:])\n",
    "    return jax.lax.dynamic_slice(x, start_idx, len_idx)\n",
    "\n",
    "  def step(params, x):\n",
    "      fn = lambda params, x: model.apply(\n",
    "          {'params': params,},\n",
    "          x\n",
    "      )\n",
    "      out, grad_fn = vjp(fn, params, x)\n",
    "      return out, grad_fn\n",
    "\n",
    "\n",
    "  grad_fns = []\n",
    "  for i in range(layers_per_device):\n",
    "\n",
    "      params_current = jax.tree.map(\n",
    "          jax.tree_util.Partial(slice_fn, i=i),\n",
    "          params\n",
    "      )\n",
    "\n",
    "      buffer, grad_fn = step(params_current, buffer)\n",
    "      grad_fns.append(grad_fn)\n",
    "\n",
    "\n",
    "\n",
    "  return buffer[None, :], grad_fns\n",
    "\n",
    "# @jax.jit\n",
    "@partial(jax.shard_map,mesh=mesh, in_specs=(P('model'), P('model')), out_specs=(P('model'), P('model')))\n",
    "def pipeline_fwd_pass(params, buffer):\n",
    "\n",
    "    n_devices = jax.lax.psum(1, 'model')\n",
    "    perm = [(i, (i + 1) % n_devices) for i in range(n_devices)]\n",
    "    grad_fn_stages = []\n",
    "\n",
    "    for i in range(n_devices):\n",
    "      buffer, grad_fn = fwd_pass(params, buffer[0])\n",
    "      grad_fn_stages.append(grad_fn)\n",
    "      if i < n_devices - 1:\n",
    "        buffer = jax.lax.ppermute(buffer, 'model', perm)\n",
    "\n",
    "    return buffer, grad_fn_stages\n"
   ]
  },
  {
   "cell_type": "code",
   "execution_count": null,
   "id": "05f50760",
   "metadata": {},
   "outputs": [],
   "source": [
    "@jax.value_and_grad\n",
    "def loss(input):\n",
    "  return jnp.sum(input ** 2)\n",
    "\n",
    "@jax.value_and_grad\n",
    "def loss2(params, input):\n",
    "\n",
    "  buffer = jnp.concat(\n",
    "    [\n",
    "      x[None, :],\n",
    "      jnp.zeros((mesh.devices.shape[0] - 1, *(2,4)))\n",
    "    ], axis=0\n",
    "  )\n",
    "\n",
    "  out, grad_fns = pipeline_fwd_pass(params_shard, buffer)\n",
    "\n",
    "  loss = jnp.sum(out[-1] ** 2)\n",
    "\n",
    "  return loss\n",
    "\n",
    "x = jnp.ones((2,4))\n",
    "params_shard = pipeline_params_init(params)\n",
    "\n",
    "# out, grad_fn = pipeline_fwd_pass(params_shard, x)\n",
    "\n",
    "out, grad = loss2(params_shard, x)"
   ]
  },
  {
   "cell_type": "code",
   "execution_count": null,
   "id": "328ef9e8",
   "metadata": {},
   "outputs": [],
   "source": [
    "def bwd_pass(grads_x, grad_fn):\n",
    "\n",
    "  n_devices = jax.lax.psum(1, 'model')\n",
    "  layers_per_device = L // n_devices\n",
    "  idx = jax.lax.axis_index('model')\n",
    "\n",
    "  grads = []\n",
    "  for i in range(layers_per_device -1, -1,-1):\n",
    "\n",
    "    grads_params, grads_x = grad_fn[i](grads_x)\n",
    "    grads.append(grads_params)\n",
    "\n",
    "  grads = jax.tree.map(\n",
    "     lambda *x: jnp.concat(x, axis=0),\n",
    "      *grads\n",
    "  )\n",
    "\n",
    "  return grads, grads_x[None, :]\n",
    "\n",
    "@jax.jit\n",
    "@partial(jax.shard_map, mesh=mesh, in_specs=(P('model'),P('model'),P('model')), out_specs=P('model'))\n",
    "def pipeline_bwd_pass(params, grads_x, grad_fn):\n",
    "\n",
    "  n_devices = jax.lax.psum(1, 'model')\n",
    "  perm = [(i, (i-1) % n_devices) for i in range(n_devices)]\n",
    "\n",
    "  grads = jax.tree.map(\n",
    "    lambda x: jnp.zeros_like(x),\n",
    "    params\n",
    "  )\n",
    "\n",
    "  for i in range(n_devices - 1, -1, -1):\n",
    "\n",
    "    grads_current, grads_x = bwd_pass(grads_x[0], grad_fn[i])\n",
    "    grads = jax.tree.map(\n",
    "      lambda x, y: x + y,\n",
    "      grads,\n",
    "      grads_current\n",
    "    )\n",
    "\n",
    "    if i > 0:\n",
    "       grads_x = jax.lax.ppermute(grads_x, 'model', perm)\n",
    "\n",
    "  return grads\n",
    "\n",
    "grads = pipeline_bwd_pass(params_shard, grad_x, grad_fn)"
   ]
  },
  {
   "cell_type": "markdown",
   "id": "755ca3df",
   "metadata": {},
   "source": []
  },
  {
   "cell_type": "code",
   "execution_count": 54,
   "id": "68523745",
   "metadata": {},
   "outputs": [
    {
     "data": {
      "text/plain": [
       "{'Dense_0': {'bias': Array([-0.00270163,  0.2153322 ,  0.05457603, -0.04286464,  0.00995323,\n",
       "         -0.01980369, -0.00869385, -0.03147201, -0.00302013, -0.25277025,\n",
       "         -0.05154405, -0.02218282, -0.04597821,  0.16051143, -0.12673308,\n",
       "         -0.14682448, -0.56531256, -0.13443986, -0.31572703, -0.19429468,\n",
       "         -0.06365026, -0.05744242,  0.20348167,  0.6087539 ,  0.3360747 ,\n",
       "         -0.05146679, -0.3376532 , -0.11463025, -0.4256289 , -0.2123735 ,\n",
       "          0.1171791 , -0.52579033], dtype=float32),\n",
       "  'kernel': Array([[ 5.91858849e-03, -4.71737891e-01, -1.19562164e-01,\n",
       "           9.39054862e-02],\n",
       "         [ 1.48717128e-03, -1.18534185e-01, -3.00425366e-02,\n",
       "           2.35957522e-02],\n",
       "         [-1.72251160e-03,  1.37291849e-01,  3.47966775e-02,\n",
       "          -2.73297075e-02],\n",
       "         [ 5.69343334e-03, -4.53792036e-01, -1.15013771e-01,\n",
       "           9.03331339e-02],\n",
       "         [ 9.95322503e-03, -1.98036917e-02, -8.69385153e-03,\n",
       "          -3.14720087e-02],\n",
       "         [ 9.95322503e-03, -1.98036917e-02, -8.69385153e-03,\n",
       "          -3.14720087e-02],\n",
       "         [ 9.95322503e-03, -1.98036917e-02, -8.69385153e-03,\n",
       "          -3.14720087e-02],\n",
       "         [ 9.95322503e-03, -1.98036917e-02, -8.69385153e-03,\n",
       "          -3.14720087e-02],\n",
       "         [ 3.82743194e-04,  3.20337191e-02,  6.53220713e-03,\n",
       "           2.81124143e-03],\n",
       "         [-1.72262924e-04, -1.44175580e-02, -2.93997955e-03,\n",
       "          -1.26526784e-03],\n",
       "         [-5.16673841e-04, -4.32430543e-02, -8.81797727e-03,\n",
       "          -3.79495951e-03],\n",
       "         [-1.28739421e-05, -1.07748550e-03, -2.19717200e-04,\n",
       "          -9.45588617e-05],\n",
       "         [-2.06955336e-02,  7.22487867e-02, -5.70446067e-02,\n",
       "          -6.60880730e-02],\n",
       "         [ 1.81298312e-02, -6.32918403e-02,  4.99725752e-02,\n",
       "           5.78948855e-02],\n",
       "         [-2.58928239e-02,  9.03927013e-02, -7.13702738e-02,\n",
       "          -8.26848373e-02],\n",
       "         [-8.96651205e-03,  3.13023888e-02, -2.47150492e-02,\n",
       "          -2.86332052e-02],\n",
       "         [-1.28616448e-02, -3.05869314e-03, -7.18322769e-03,\n",
       "          -4.42047324e-03],\n",
       "         [-1.10440133e-02, -2.62643304e-03, -6.16808049e-03,\n",
       "          -3.79576394e-03],\n",
       "         [-1.20993201e-02, -2.87740096e-03, -6.75746938e-03,\n",
       "          -4.15846705e-03],\n",
       "         [-3.55615094e-02, -8.45706277e-03, -1.98611002e-02,\n",
       "          -1.22222863e-02],\n",
       "         [ 3.00008757e-03,  2.70748767e-03, -9.59089305e-03,\n",
       "          -2.86929719e-02],\n",
       "         [ 1.00466609e-03,  9.06680594e-04, -3.21178790e-03,\n",
       "          -9.60867107e-03],\n",
       "         [ 2.98025250e-03,  2.68958742e-03, -9.52748302e-03,\n",
       "          -2.85032690e-02],\n",
       "         [-7.00277137e-03, -6.31978828e-03,  2.23869570e-02,\n",
       "           6.69748187e-02],\n",
       "         [-1.76634337e-03,  2.70499469e-04,  1.77463959e-03,\n",
       "           6.02474320e-04],\n",
       "         [-1.84496660e-02,  2.82539893e-03,  1.85363200e-02,\n",
       "           6.29291590e-03],\n",
       "         [ 2.44871937e-02, -3.74999153e-03, -2.46022046e-02,\n",
       "          -8.35222937e-03],\n",
       "         [-8.71080998e-03,  1.33398164e-03,  8.75172392e-03,\n",
       "           2.97113229e-03],\n",
       "         [ 7.33988639e-03,  3.66233895e-03, -2.02073064e-03,\n",
       "           9.06715076e-03],\n",
       "         [ 1.08446460e-02,  5.41108754e-03, -2.98561924e-03,\n",
       "           1.33966701e-02],\n",
       "         [ 3.24015021e-02,  1.61671825e-02, -8.92039761e-03,\n",
       "           4.00264114e-02],\n",
       "         [ 5.77589171e-03,  2.88196211e-03, -1.59015006e-03,\n",
       "           7.13510765e-03]], dtype=float32)},\n",
       " 'Dense_1': {'bias': Array([ 0.14376266,  0.18613954,  0.03055352,  0.08900981, -0.021347  ,\n",
       "         -0.03637359, -0.19032973, -0.03816997,  0.09396539, -0.08373831,\n",
       "         -0.28790492,  0.14092149, -0.20612039, -0.15772702,  0.0466055 ,\n",
       "          0.18271817,  0.22629239, -0.20589109, -0.3106756 , -0.06508156,\n",
       "          0.2923213 , -0.2134976 ,  0.5378439 ,  0.18894978,  0.08484875,\n",
       "         -0.0405019 ,  0.22733846,  0.20733209, -0.11979845, -0.5607346 ,\n",
       "          0.05024394,  0.35480148], dtype=float32),\n",
       "  'kernel': Array([[ 1.12971000e-01,  1.46271437e-01,  2.40094438e-02,\n",
       "           6.99453279e-02],\n",
       "         [ 6.32159635e-02,  8.18501189e-02,  1.34351309e-02,\n",
       "           3.91397923e-02],\n",
       "         [-1.68543488e-01, -2.18225002e-01, -3.58201265e-02,\n",
       "          -1.04352713e-01],\n",
       "         [ 9.06586833e-03,  1.17382118e-02,  1.92674634e-03,\n",
       "           5.61307929e-03],\n",
       "         [ 1.71635784e-02,  2.92453673e-02,  1.53030321e-01,\n",
       "           3.06897052e-02],\n",
       "         [ 6.81233918e-03,  1.16076823e-02,  6.07387647e-02,\n",
       "           1.21809505e-02],\n",
       "         [ 6.73993230e-02,  1.14843063e-01,  6.00931823e-01,\n",
       "           1.20514810e-01],\n",
       "         [ 7.51900589e-05,  1.28117870e-04,  6.70393987e-04,\n",
       "           1.34445218e-04],\n",
       "         [ 3.20186460e-04, -2.85337737e-04, -9.81034129e-04,\n",
       "           4.80189046e-04],\n",
       "         [-9.76921339e-03,  8.70594475e-03,  2.99323481e-02,\n",
       "          -1.46510554e-02],\n",
       "         [ 8.10970727e-04, -7.22705678e-04, -2.48477096e-03,\n",
       "           1.21622661e-03],\n",
       "         [-2.24005198e-04,  1.99624745e-04,  6.86339918e-04,\n",
       "          -3.35944380e-04],\n",
       "         [ 6.94362028e-03,  5.31338295e-03, -1.57000904e-03,\n",
       "          -6.15526503e-03],\n",
       "         [ 1.09579913e-01,  8.38525146e-02, -2.47769095e-02,\n",
       "          -9.71385762e-02],\n",
       "         [ 5.89648448e-02,  4.51209582e-02, -1.33324312e-02,\n",
       "          -5.22701740e-02],\n",
       "         [ 1.03052370e-01,  7.88575187e-02, -2.33009793e-02,\n",
       "          -9.13521498e-02],\n",
       "         [-3.71058472e-03,  3.37605854e-03,  5.09424182e-03,\n",
       "           1.06716203e-03],\n",
       "         [-7.95571320e-03,  7.23846909e-03,  1.09223556e-02,\n",
       "           2.28805840e-03],\n",
       "         [-2.75564101e-03,  2.50720722e-03,  3.78320459e-03,\n",
       "           7.92520761e-04],\n",
       "         [-9.35998000e-03,  8.51613469e-03,  1.28502650e-02,\n",
       "           2.69192480e-03],\n",
       "         [-1.41145205e-02,  1.03085758e-02, -2.59693991e-02,\n",
       "          -9.12330206e-03],\n",
       "         [ 8.40484351e-03, -6.13849843e-03,  1.54641271e-02,\n",
       "           5.43269794e-03],\n",
       "         [-9.32621490e-03,  6.81142416e-03, -1.71593633e-02,\n",
       "          -6.02825126e-03],\n",
       "         [ 1.48608377e-02, -1.08536500e-02,  2.73425542e-02,\n",
       "           9.60570481e-03],\n",
       "         [-1.93486898e-03,  9.23594809e-04, -5.18416753e-03,\n",
       "          -4.72794706e-03],\n",
       "         [-4.25389828e-03,  2.03056564e-03, -1.13976290e-02,\n",
       "          -1.03946086e-02],\n",
       "         [-8.12929496e-03,  3.88045632e-03, -2.17811260e-02,\n",
       "          -1.98643301e-02],\n",
       "         [ 1.02854229e-03, -4.90966777e-04,  2.75581214e-03,\n",
       "           2.51329364e-03],\n",
       "         [-3.38608818e-03, -1.58490948e-02,  1.42013875e-03,\n",
       "           1.00284191e-02],\n",
       "         [ 7.01581407e-03,  3.28385718e-02, -2.94246012e-03,\n",
       "          -2.07784083e-02],\n",
       "         [-2.69227545e-04, -1.26016000e-03,  1.12915099e-04,\n",
       "           7.97358633e-04],\n",
       "         [ 5.74326562e-03,  2.68822163e-02, -2.40874826e-03,\n",
       "          -1.70095619e-02]], dtype=float32)}}"
      ]
     },
     "execution_count": 54,
     "metadata": {},
     "output_type": "execute_result"
    }
   ],
   "source": [
    "grads"
   ]
  },
  {
   "cell_type": "code",
   "execution_count": 59,
   "id": "e6632d05",
   "metadata": {},
   "outputs": [
    {
     "data": {
      "text/plain": [
       "{'Dense_0': {'bias': Array([-0.00270163,  0.2153322 ,  0.05457603, -0.04286464,  0.00995323,\n",
       "         -0.01980369, -0.00869385, -0.03147201, -0.00302013, -0.25277025,\n",
       "         -0.05154405, -0.02218282, -0.04597821,  0.16051143, -0.12673308,\n",
       "         -0.14682448, -0.56531256, -0.13443986, -0.31572703, -0.19429468,\n",
       "         -0.06365026, -0.05744242,  0.20348167,  0.6087539 ,  0.3360747 ,\n",
       "         -0.05146679, -0.3376532 , -0.11463025, -0.4256289 , -0.2123735 ,\n",
       "          0.1171791 , -0.52579033], dtype=float32),\n",
       "  'kernel': Array([[ 5.91858849e-03, -4.71737891e-01, -1.19562164e-01,\n",
       "           9.39054862e-02],\n",
       "         [ 1.48717128e-03, -1.18534185e-01, -3.00425366e-02,\n",
       "           2.35957522e-02],\n",
       "         [-1.72251160e-03,  1.37291849e-01,  3.47966775e-02,\n",
       "          -2.73297075e-02],\n",
       "         [ 5.69343334e-03, -4.53792036e-01, -1.15013771e-01,\n",
       "           9.03331339e-02],\n",
       "         [ 9.95322503e-03, -1.98036917e-02, -8.69385153e-03,\n",
       "          -3.14720087e-02],\n",
       "         [ 9.95322503e-03, -1.98036917e-02, -8.69385153e-03,\n",
       "          -3.14720087e-02],\n",
       "         [ 9.95322503e-03, -1.98036917e-02, -8.69385153e-03,\n",
       "          -3.14720087e-02],\n",
       "         [ 9.95322503e-03, -1.98036917e-02, -8.69385153e-03,\n",
       "          -3.14720087e-02],\n",
       "         [ 3.82743194e-04,  3.20337191e-02,  6.53220713e-03,\n",
       "           2.81124143e-03],\n",
       "         [-1.72262924e-04, -1.44175580e-02, -2.93997955e-03,\n",
       "          -1.26526784e-03],\n",
       "         [-5.16673841e-04, -4.32430543e-02, -8.81797727e-03,\n",
       "          -3.79495951e-03],\n",
       "         [-1.28739421e-05, -1.07748550e-03, -2.19717200e-04,\n",
       "          -9.45588617e-05],\n",
       "         [-2.06955336e-02,  7.22487867e-02, -5.70446067e-02,\n",
       "          -6.60880730e-02],\n",
       "         [ 1.81298312e-02, -6.32918403e-02,  4.99725752e-02,\n",
       "           5.78948855e-02],\n",
       "         [-2.58928239e-02,  9.03927013e-02, -7.13702738e-02,\n",
       "          -8.26848373e-02],\n",
       "         [-8.96651205e-03,  3.13023888e-02, -2.47150492e-02,\n",
       "          -2.86332052e-02],\n",
       "         [-1.28616448e-02, -3.05869314e-03, -7.18322769e-03,\n",
       "          -4.42047324e-03],\n",
       "         [-1.10440133e-02, -2.62643304e-03, -6.16808049e-03,\n",
       "          -3.79576394e-03],\n",
       "         [-1.20993201e-02, -2.87740096e-03, -6.75746938e-03,\n",
       "          -4.15846705e-03],\n",
       "         [-3.55615094e-02, -8.45706277e-03, -1.98611002e-02,\n",
       "          -1.22222863e-02],\n",
       "         [ 3.00008757e-03,  2.70748767e-03, -9.59089305e-03,\n",
       "          -2.86929719e-02],\n",
       "         [ 1.00466609e-03,  9.06680594e-04, -3.21178790e-03,\n",
       "          -9.60867107e-03],\n",
       "         [ 2.98025250e-03,  2.68958742e-03, -9.52748302e-03,\n",
       "          -2.85032690e-02],\n",
       "         [-7.00277137e-03, -6.31978828e-03,  2.23869570e-02,\n",
       "           6.69748187e-02],\n",
       "         [-1.76634337e-03,  2.70499469e-04,  1.77463959e-03,\n",
       "           6.02474320e-04],\n",
       "         [-1.84496660e-02,  2.82539893e-03,  1.85363200e-02,\n",
       "           6.29291590e-03],\n",
       "         [ 2.44871937e-02, -3.74999153e-03, -2.46022046e-02,\n",
       "          -8.35222937e-03],\n",
       "         [-8.71080998e-03,  1.33398164e-03,  8.75172392e-03,\n",
       "           2.97113229e-03],\n",
       "         [ 7.33988639e-03,  3.66233895e-03, -2.02073064e-03,\n",
       "           9.06715076e-03],\n",
       "         [ 1.08446460e-02,  5.41108754e-03, -2.98561924e-03,\n",
       "           1.33966701e-02],\n",
       "         [ 3.24015021e-02,  1.61671825e-02, -8.92039761e-03,\n",
       "           4.00264114e-02],\n",
       "         [ 5.77589171e-03,  2.88196211e-03, -1.59015006e-03,\n",
       "           7.13510765e-03]], dtype=float32)},\n",
       " 'Dense_1': {'bias': Array([ 0.14376266,  0.18613954,  0.03055352,  0.08900981, -0.021347  ,\n",
       "         -0.03637359, -0.19032973, -0.03816997,  0.09396539, -0.08373831,\n",
       "         -0.28790492,  0.14092149, -0.20612039, -0.15772702,  0.0466055 ,\n",
       "          0.18271817,  0.22629239, -0.20589109, -0.3106756 , -0.06508156,\n",
       "          0.2923213 , -0.2134976 ,  0.5378439 ,  0.18894978,  0.08484875,\n",
       "         -0.0405019 ,  0.22733846,  0.20733209, -0.11979845, -0.5607346 ,\n",
       "          0.05024394,  0.35480148], dtype=float32),\n",
       "  'kernel': Array([[ 1.12971000e-01,  1.46271437e-01,  2.40094438e-02,\n",
       "           6.99453279e-02],\n",
       "         [ 6.32159635e-02,  8.18501189e-02,  1.34351309e-02,\n",
       "           3.91397923e-02],\n",
       "         [-1.68543488e-01, -2.18225002e-01, -3.58201265e-02,\n",
       "          -1.04352713e-01],\n",
       "         [ 9.06586833e-03,  1.17382118e-02,  1.92674634e-03,\n",
       "           5.61307929e-03],\n",
       "         [ 1.71635784e-02,  2.92453673e-02,  1.53030321e-01,\n",
       "           3.06897052e-02],\n",
       "         [ 6.81233918e-03,  1.16076823e-02,  6.07387647e-02,\n",
       "           1.21809505e-02],\n",
       "         [ 6.73993230e-02,  1.14843063e-01,  6.00931823e-01,\n",
       "           1.20514810e-01],\n",
       "         [ 7.51900589e-05,  1.28117870e-04,  6.70393987e-04,\n",
       "           1.34445218e-04],\n",
       "         [ 3.20186460e-04, -2.85337737e-04, -9.81034129e-04,\n",
       "           4.80189046e-04],\n",
       "         [-9.76921339e-03,  8.70594475e-03,  2.99323481e-02,\n",
       "          -1.46510554e-02],\n",
       "         [ 8.10970727e-04, -7.22705678e-04, -2.48477096e-03,\n",
       "           1.21622661e-03],\n",
       "         [-2.24005198e-04,  1.99624745e-04,  6.86339918e-04,\n",
       "          -3.35944380e-04],\n",
       "         [ 6.94362028e-03,  5.31338295e-03, -1.57000904e-03,\n",
       "          -6.15526503e-03],\n",
       "         [ 1.09579913e-01,  8.38525146e-02, -2.47769095e-02,\n",
       "          -9.71385762e-02],\n",
       "         [ 5.89648448e-02,  4.51209582e-02, -1.33324312e-02,\n",
       "          -5.22701740e-02],\n",
       "         [ 1.03052370e-01,  7.88575187e-02, -2.33009793e-02,\n",
       "          -9.13521498e-02],\n",
       "         [-3.71058472e-03,  3.37605854e-03,  5.09424182e-03,\n",
       "           1.06716203e-03],\n",
       "         [-7.95571320e-03,  7.23846909e-03,  1.09223556e-02,\n",
       "           2.28805840e-03],\n",
       "         [-2.75564101e-03,  2.50720722e-03,  3.78320459e-03,\n",
       "           7.92520761e-04],\n",
       "         [-9.35998000e-03,  8.51613469e-03,  1.28502650e-02,\n",
       "           2.69192480e-03],\n",
       "         [-1.41145205e-02,  1.03085758e-02, -2.59693991e-02,\n",
       "          -9.12330206e-03],\n",
       "         [ 8.40484351e-03, -6.13849843e-03,  1.54641271e-02,\n",
       "           5.43269794e-03],\n",
       "         [-9.32621490e-03,  6.81142416e-03, -1.71593633e-02,\n",
       "          -6.02825126e-03],\n",
       "         [ 1.48608377e-02, -1.08536500e-02,  2.73425542e-02,\n",
       "           9.60570481e-03],\n",
       "         [-1.93486898e-03,  9.23594809e-04, -5.18416753e-03,\n",
       "          -4.72794706e-03],\n",
       "         [-4.25389828e-03,  2.03056564e-03, -1.13976290e-02,\n",
       "          -1.03946086e-02],\n",
       "         [-8.12929496e-03,  3.88045632e-03, -2.17811260e-02,\n",
       "          -1.98643301e-02],\n",
       "         [ 1.02854229e-03, -4.90966777e-04,  2.75581214e-03,\n",
       "           2.51329364e-03],\n",
       "         [-3.38608818e-03, -1.58490948e-02,  1.42013875e-03,\n",
       "           1.00284191e-02],\n",
       "         [ 7.01581407e-03,  3.28385718e-02, -2.94246012e-03,\n",
       "          -2.07784083e-02],\n",
       "         [-2.69227545e-04, -1.26016000e-03,  1.12915099e-04,\n",
       "           7.97358633e-04],\n",
       "         [ 5.74326562e-03,  2.68822163e-02, -2.40874826e-03,\n",
       "          -1.70095619e-02]], dtype=float32)}}"
      ]
     },
     "execution_count": 59,
     "metadata": {},
     "output_type": "execute_result"
    }
   ],
   "source": [
    "grads"
   ]
  },
  {
   "cell_type": "code",
   "execution_count": null,
   "id": "9451bb38",
   "metadata": {},
   "outputs": [
    {
     "name": "stdout",
     "output_type": "stream",
     "text": [
      "[[-0.82300586  0.13979685 -1.0663078   0.21559261]\n",
      " [-0.49311835  0.2886271  -0.9571687  -0.27748352]\n",
      " [ 0.82770365 -0.7702767  -0.7409361  -0.94439197]\n",
      " [-0.3156069   0.0227289  -0.39290708  1.0027606 ]\n",
      " [-0.9370494  -0.41238844  0.7707996  -0.53318447]\n",
      " [ 0.365841    0.05689541 -0.23631333  0.81044877]\n",
      " [-0.64488286 -0.6312494  -0.27232984  0.963054  ]\n",
      " [ 0.31055728  0.01419805 -0.26563522  0.6040163 ]\n",
      " [-0.37554166  0.16121252 -0.36710387 -0.368435  ]\n",
      " [ 0.4102413   0.4437943  -0.40597242 -0.56065243]\n",
      " [ 0.29791793 -0.9014654  -0.48906383 -0.86474806]\n",
      " [ 0.6632264   0.4023416  -0.02816472 -0.34976414]\n",
      " [-0.3684946   1.0404862  -0.9486073  -0.30995214]\n",
      " [-0.9629016   0.6509631   0.08371046 -0.37072763]\n",
      " [ 0.06373774 -0.03931175 -0.6528216  -0.14480054]\n",
      " [ 0.17033684 -0.5886188  -1.0977224   0.9977888 ]]\n",
      "[[ 3.55339259e-01 -7.73246229e-01 -2.98115402e-03  1.19543038e-01]\n",
      " [ 8.80670846e-02  6.59837782e-01  4.95789260e-01 -2.31808230e-01]\n",
      " [ 3.37153584e-01 -1.43336654e-01 -9.80363041e-02 -4.18444961e-01]\n",
      " [-1.30516380e-01 -3.62702273e-02 -2.61855036e-01  3.01950157e-01]\n",
      " [-2.65417904e-01  3.26340683e-02 -4.51599777e-01 -2.10108943e-02]\n",
      " [ 3.71410161e-01 -1.05179101e-01 -8.34940060e-04  9.23270211e-02]\n",
      " [-2.56669670e-01 -3.98593426e-01 -6.56016648e-01 -6.79567099e-01]\n",
      " [-1.92686453e-01 -4.02401179e-01  1.93211302e-01 -4.47387367e-01]\n",
      " [-5.04295170e-01 -8.34075212e-01  6.35822415e-01  4.56438184e-01]\n",
      " [-5.99479139e-01  4.78609681e-01  3.89246136e-01  7.70296097e-01]\n",
      " [ 2.19687596e-02  6.76659703e-01 -3.39552015e-01  2.24104658e-01]\n",
      " [-4.39682841e-01  6.80965304e-01  2.00378269e-01  2.49309376e-01]\n",
      " [-9.88527775e-01 -2.42763147e-01 -4.25001621e-01 -4.92220312e-01]\n",
      " [-1.07511592e+00 -3.73439528e-02  7.56525457e-01 -4.72003490e-01]\n",
      " [-9.12458599e-01 -7.85222113e-01 -8.73474300e-01 -1.88030049e-01]\n",
      " [ 7.92328179e-01 -1.44759178e-01 -2.75153905e-01  1.03261136e-01]]\n"
     ]
    },
    {
     "ename": "TypeError",
     "evalue": "dot_general requires contracting dimensions to have the same shape, got (16,) and (4,).",
     "output_type": "error",
     "traceback": [
      "\u001b[31m---------------------------------------------------------------------------\u001b[39m",
      "\u001b[31mTypeError\u001b[39m                                 Traceback (most recent call last)",
      "\u001b[36mCell\u001b[39m\u001b[36m \u001b[39m\u001b[32mIn[258]\u001b[39m\u001b[32m, line 18\u001b[39m\n\u001b[32m     14\u001b[39m \u001b[38;5;28mprint\u001b[39m(a_1)\n\u001b[32m     15\u001b[39m \u001b[38;5;28mprint\u001b[39m(a_2)\n\u001b[32m---> \u001b[39m\u001b[32m18\u001b[39m \u001b[38;5;28mprint\u001b[39m(\u001b[43mjnp\u001b[49m\u001b[43m.\u001b[49m\u001b[43mones\u001b[49m\u001b[43m(\u001b[49m\u001b[43m(\u001b[49m\u001b[32;43m1\u001b[39;49m\u001b[43m,\u001b[49m\u001b[32;43m4\u001b[39;49m\u001b[43m)\u001b[49m\u001b[43m)\u001b[49m\u001b[43m \u001b[49m\u001b[43m@\u001b[49m\u001b[43m \u001b[49m\u001b[43ma_1\u001b[49m\u001b[43m.\u001b[49m\u001b[43mT\u001b[49m\u001b[43m \u001b[49m\u001b[43m@\u001b[49m\u001b[43m \u001b[49m\u001b[43mb_1\u001b[49m\u001b[43m.\u001b[49m\u001b[43mT\u001b[49m @ a_2.T@ b_2.T)\n",
      "\u001b[36mFile \u001b[39m\u001b[32m~/.conda/envs/jax/lib/python3.13/site-packages/jax/_src/numpy/array_methods.py:583\u001b[39m, in \u001b[36m_defer_to_unrecognized_arg.<locals>.deferring_binary_op\u001b[39m\u001b[34m(self, other)\u001b[39m\n\u001b[32m    581\u001b[39m args = (other, \u001b[38;5;28mself\u001b[39m) \u001b[38;5;28;01mif\u001b[39;00m swap \u001b[38;5;28;01melse\u001b[39;00m (\u001b[38;5;28mself\u001b[39m, other)\n\u001b[32m    582\u001b[39m \u001b[38;5;28;01mif\u001b[39;00m \u001b[38;5;28misinstance\u001b[39m(other, _accepted_binop_types):\n\u001b[32m--> \u001b[39m\u001b[32m583\u001b[39m   \u001b[38;5;28;01mreturn\u001b[39;00m \u001b[43mbinary_op\u001b[49m\u001b[43m(\u001b[49m\u001b[43m*\u001b[49m\u001b[43margs\u001b[49m\u001b[43m)\u001b[49m\n\u001b[32m    584\u001b[39m \u001b[38;5;66;03m# Note: don't use isinstance here, because we don't want to raise for\u001b[39;00m\n\u001b[32m    585\u001b[39m \u001b[38;5;66;03m# subclasses, e.g. NamedTuple objects that may override operators.\u001b[39;00m\n\u001b[32m    586\u001b[39m \u001b[38;5;28;01mif\u001b[39;00m \u001b[38;5;28mtype\u001b[39m(other) \u001b[38;5;129;01min\u001b[39;00m _rejected_binop_types:\n",
      "    \u001b[31m[... skipping hidden 15 frame]\u001b[39m\n",
      "\u001b[36mFile \u001b[39m\u001b[32m~/.conda/envs/jax/lib/python3.13/site-packages/jax/_src/numpy/tensor_contractions.py:246\u001b[39m, in \u001b[36mmatmul\u001b[39m\u001b[34m(a, b, precision, preferred_element_type)\u001b[39m\n\u001b[32m    244\u001b[39m a = lax.squeeze(a, \u001b[38;5;28mtuple\u001b[39m(a_squeeze))\n\u001b[32m    245\u001b[39m b = lax.squeeze(b, \u001b[38;5;28mtuple\u001b[39m(b_squeeze))\n\u001b[32m--> \u001b[39m\u001b[32m246\u001b[39m out = \u001b[43mlax\u001b[49m\u001b[43m.\u001b[49m\u001b[43mdot_general\u001b[49m\u001b[43m(\u001b[49m\n\u001b[32m    247\u001b[39m \u001b[43m  \u001b[49m\u001b[43ma\u001b[49m\u001b[43m,\u001b[49m\u001b[43m \u001b[49m\u001b[43mb\u001b[49m\u001b[43m,\u001b[49m\u001b[43m \u001b[49m\u001b[43m(\u001b[49m\u001b[43m(\u001b[49m\u001b[43m(\u001b[49m\u001b[43mnp\u001b[49m\u001b[43m.\u001b[49m\u001b[43mndim\u001b[49m\u001b[43m(\u001b[49m\u001b[43ma\u001b[49m\u001b[43m)\u001b[49m\u001b[43m \u001b[49m\u001b[43m-\u001b[49m\u001b[43m \u001b[49m\u001b[32;43m1\u001b[39;49m\u001b[43m,\u001b[49m\u001b[43m)\u001b[49m\u001b[43m,\u001b[49m\u001b[43m \u001b[49m\u001b[43m(\u001b[49m\u001b[43mnp\u001b[49m\u001b[43m.\u001b[49m\u001b[43mndim\u001b[49m\u001b[43m(\u001b[49m\u001b[43mb\u001b[49m\u001b[43m)\u001b[49m\u001b[43m \u001b[49m\u001b[43m-\u001b[49m\u001b[43m \u001b[49m\u001b[32;43m1\u001b[39;49m\u001b[43m \u001b[49m\u001b[43m-\u001b[49m\u001b[43m \u001b[49m\u001b[43mb_is_mat\u001b[49m\u001b[43m,\u001b[49m\u001b[43m)\u001b[49m\u001b[43m)\u001b[49m\u001b[43m,\u001b[49m\u001b[43m \u001b[49m\u001b[43m(\u001b[49m\u001b[43ma_batch\u001b[49m\u001b[43m,\u001b[49m\u001b[43m \u001b[49m\u001b[43mb_batch\u001b[49m\u001b[43m)\u001b[49m\u001b[43m)\u001b[49m\u001b[43m,\u001b[49m\n\u001b[32m    248\u001b[39m \u001b[43m  \u001b[49m\u001b[43mprecision\u001b[49m\u001b[43m=\u001b[49m\u001b[43mprecision\u001b[49m\u001b[43m,\u001b[49m\u001b[43m \u001b[49m\u001b[43mpreferred_element_type\u001b[49m\u001b[43m=\u001b[49m\u001b[43mpreferred_element_type\u001b[49m\u001b[43m)\u001b[49m\n\u001b[32m    249\u001b[39m result = lax.transpose(out, perm)\n\u001b[32m    250\u001b[39m \u001b[38;5;28;01mreturn\u001b[39;00m lax_internal._convert_element_type(result, preferred_element_type, output_weak_type)\n",
      "    \u001b[31m[... skipping hidden 9 frame]\u001b[39m\n",
      "\u001b[36mFile \u001b[39m\u001b[32m~/.conda/envs/jax/lib/python3.13/site-packages/jax/_src/lax/lax.py:5185\u001b[39m, in \u001b[36m_dot_general_shape_rule\u001b[39m\u001b[34m(lhs, rhs, dimension_numbers, precision, preferred_element_type, out_sharding)\u001b[39m\n\u001b[32m   5182\u001b[39m \u001b[38;5;28;01mif\u001b[39;00m \u001b[38;5;129;01mnot\u001b[39;00m core.definitely_equal_shape(lhs_contracting_shape, rhs_contracting_shape):\n\u001b[32m   5183\u001b[39m   msg = (\u001b[33m\"\u001b[39m\u001b[33mdot_general requires contracting dimensions to have the same \u001b[39m\u001b[33m\"\u001b[39m\n\u001b[32m   5184\u001b[39m          \u001b[33m\"\u001b[39m\u001b[33mshape, got \u001b[39m\u001b[38;5;132;01m{}\u001b[39;00m\u001b[33m and \u001b[39m\u001b[38;5;132;01m{}\u001b[39;00m\u001b[33m.\u001b[39m\u001b[33m\"\u001b[39m)\n\u001b[32m-> \u001b[39m\u001b[32m5185\u001b[39m   \u001b[38;5;28;01mraise\u001b[39;00m \u001b[38;5;167;01mTypeError\u001b[39;00m(msg.format(lhs_contracting_shape, rhs_contracting_shape))\n\u001b[32m   5187\u001b[39m \u001b[38;5;28;01mreturn\u001b[39;00m _dot_general_shape_computation(lhs.shape, rhs.shape, dimension_numbers)\n",
      "\u001b[31mTypeError\u001b[39m: dot_general requires contracting dimensions to have the same shape, got (16,) and (4,)."
     ]
    }
   ],
   "source": [
    "_ = jax.tree.map(\n",
    "  lambda x: x[:],\n",
    "  params_shard\n",
    ")\n",
    "# model.apply(\n",
    "#   {'params': _},\n",
    "#   jnp.ones((2,4))\n",
    "# )\n",
    "\n",
    "a_1, a_2  = jnp.split(_['Dense_0']['kernel'], 2, axis=0)\n",
    "b_1, b_2 = jnp.split(_['Dense_1']['kernel'], 2, axis=0)\n",
    "\n",
    "print(a_1)\n",
    "print(a_2)\n",
    "\n",
    "\n",
    "print(jnp.ones((1,4)) @ a_1.T @ b_1.T @ a_2.T@ b_2.T)"
   ]
  },
  {
   "cell_type": "code",
   "execution_count": 165,
   "id": "bece59e4",
   "metadata": {},
   "outputs": [
    {
     "data": {
      "text/plain": [
       "array([CpuDevice(id=0), CpuDevice(id=1), CpuDevice(id=2), CpuDevice(id=3)],\n",
       "      dtype=object)"
      ]
     },
     "execution_count": 165,
     "metadata": {},
     "output_type": "execute_result"
    }
   ],
   "source": [
    "mesh.devices"
   ]
  },
  {
   "cell_type": "code",
   "execution_count": 149,
   "id": "17bf6d6f",
   "metadata": {},
   "outputs": [
    {
     "data": {
      "text/plain": [
       "{'Dense_0': {'bias': NamedSharding(mesh=Mesh('model': 4, axis_types=(Auto,)), spec=PartitionSpec('model',), memory_kind=unpinned_host),\n",
       "  'kernel': NamedSharding(mesh=Mesh('model': 4, axis_types=(Auto,)), spec=PartitionSpec('model',), memory_kind=unpinned_host)},\n",
       " 'Dense_1': {'bias': NamedSharding(mesh=Mesh('model': 4, axis_types=(Auto,)), spec=PartitionSpec('model',), memory_kind=unpinned_host),\n",
       "  'kernel': NamedSharding(mesh=Mesh('model': 4, axis_types=(Auto,)), spec=PartitionSpec('model',), memory_kind=unpinned_host)}}"
      ]
     },
     "execution_count": 149,
     "metadata": {},
     "output_type": "execute_result"
    }
   ],
   "source": [
    "jax.tree.map(\n",
    "  lambda x: x.sharding,\n",
    "  params_new\n",
    ")"
   ]
  },
  {
   "cell_type": "code",
   "execution_count": 150,
   "id": "300be064",
   "metadata": {},
   "outputs": [
    {
     "name": "stdout",
     "output_type": "stream",
     "text": [
      "(32,)\n",
      "(32, 4)\n",
      "(32,)\n",
      "(32, 4)\n"
     ]
    },
    {
     "data": {
      "text/plain": [
       "{'Dense_0': {'bias': None, 'kernel': None},\n",
       " 'Dense_1': {'bias': None, 'kernel': None}}"
      ]
     },
     "execution_count": 150,
     "metadata": {},
     "output_type": "execute_result"
    }
   ],
   "source": [
    "jax.tree.map(\n",
    "  lambda x: print(x.shape),\n",
    "  params_new\n",
    ")"
   ]
  },
  {
   "cell_type": "code",
   "execution_count": null,
   "id": "b6e59072",
   "metadata": {},
   "outputs": [
    {
     "data": {
      "text/plain": [
       "{'Dense_0': {'bias': (8,), 'kernel': (8, 4)},\n",
       " 'Dense_1': {'bias': (8,), 'kernel': (8, 4)}}"
      ]
     },
     "execution_count": 124,
     "metadata": {},
     "output_type": "execute_result"
    }
   ],
   "source": [
    "jax.tree.map(\n",
    "  lambda x: x.shape,\n",
    "  params_new\n",
    ")"
   ]
  },
  {
   "cell_type": "code",
   "execution_count": 162,
   "id": "2a459798",
   "metadata": {},
   "outputs": [
    {
     "data": {
      "text/html": [
       "<pre style=\"white-space:pre;overflow-x:auto;line-height:normal;font-family:Menlo,'DejaVu Sans Mono',consolas,'Courier New',monospace\"><span style=\"color: #ffffff; text-decoration-color: #ffffff; background-color: #393b79\">  CPU 0  </span><span style=\"color: #ffffff; text-decoration-color: #ffffff; background-color: #de9ed6\">  CPU 1  </span><span style=\"color: #ffffff; text-decoration-color: #ffffff; background-color: #ad494a\">  CPU 2  </span><span style=\"color: #000000; text-decoration-color: #000000; background-color: #b5cf6b\">  CPU 3  </span>\n",
       "<span style=\"color: #ffffff; text-decoration-color: #ffffff; background-color: #393b79\">         </span><span style=\"color: #ffffff; text-decoration-color: #ffffff; background-color: #de9ed6\">         </span><span style=\"color: #ffffff; text-decoration-color: #ffffff; background-color: #ad494a\">         </span><span style=\"color: #000000; text-decoration-color: #000000; background-color: #b5cf6b\">         </span>\n",
       "</pre>\n"
      ],
      "text/plain": [
       "\u001b[38;2;255;255;255;48;2;57;59;121m  \u001b[0m\u001b[38;2;255;255;255;48;2;57;59;121mCPU 0\u001b[0m\u001b[38;2;255;255;255;48;2;57;59;121m  \u001b[0m\u001b[38;2;255;255;255;48;2;222;158;214m  \u001b[0m\u001b[38;2;255;255;255;48;2;222;158;214mCPU 1\u001b[0m\u001b[38;2;255;255;255;48;2;222;158;214m  \u001b[0m\u001b[38;2;255;255;255;48;2;173;73;74m  \u001b[0m\u001b[38;2;255;255;255;48;2;173;73;74mCPU 2\u001b[0m\u001b[38;2;255;255;255;48;2;173;73;74m  \u001b[0m\u001b[38;2;0;0;0;48;2;181;207;107m  \u001b[0m\u001b[38;2;0;0;0;48;2;181;207;107mCPU 3\u001b[0m\u001b[38;2;0;0;0;48;2;181;207;107m  \u001b[0m\n",
       "\u001b[38;2;255;255;255;48;2;57;59;121m         \u001b[0m\u001b[38;2;255;255;255;48;2;222;158;214m         \u001b[0m\u001b[38;2;255;255;255;48;2;173;73;74m         \u001b[0m\u001b[38;2;0;0;0;48;2;181;207;107m         \u001b[0m\n"
      ]
     },
     "metadata": {},
     "output_type": "display_data"
    },
    {
     "data": {
      "text/html": [
       "<pre style=\"white-space:pre;overflow-x:auto;line-height:normal;font-family:Menlo,'DejaVu Sans Mono',consolas,'Courier New',monospace\"><span style=\"color: #ffffff; text-decoration-color: #ffffff; background-color: #393b79\">         </span>\n",
       "<span style=\"color: #ffffff; text-decoration-color: #ffffff; background-color: #393b79\">  CPU 0  </span>\n",
       "<span style=\"color: #ffffff; text-decoration-color: #ffffff; background-color: #393b79\">         </span>\n",
       "<span style=\"color: #ffffff; text-decoration-color: #ffffff; background-color: #de9ed6\">         </span>\n",
       "<span style=\"color: #ffffff; text-decoration-color: #ffffff; background-color: #de9ed6\">  CPU 1  </span>\n",
       "<span style=\"color: #ffffff; text-decoration-color: #ffffff; background-color: #de9ed6\">         </span>\n",
       "<span style=\"color: #ffffff; text-decoration-color: #ffffff; background-color: #ad494a\">         </span>\n",
       "<span style=\"color: #ffffff; text-decoration-color: #ffffff; background-color: #ad494a\">  CPU 2  </span>\n",
       "<span style=\"color: #ffffff; text-decoration-color: #ffffff; background-color: #ad494a\">         </span>\n",
       "<span style=\"color: #000000; text-decoration-color: #000000; background-color: #b5cf6b\">         </span>\n",
       "<span style=\"color: #000000; text-decoration-color: #000000; background-color: #b5cf6b\">  CPU 3  </span>\n",
       "<span style=\"color: #000000; text-decoration-color: #000000; background-color: #b5cf6b\">         </span>\n",
       "</pre>\n"
      ],
      "text/plain": [
       "\u001b[38;2;255;255;255;48;2;57;59;121m         \u001b[0m\n",
       "\u001b[38;2;255;255;255;48;2;57;59;121m  \u001b[0m\u001b[38;2;255;255;255;48;2;57;59;121mCPU 0\u001b[0m\u001b[38;2;255;255;255;48;2;57;59;121m  \u001b[0m\n",
       "\u001b[38;2;255;255;255;48;2;57;59;121m         \u001b[0m\n",
       "\u001b[38;2;255;255;255;48;2;222;158;214m         \u001b[0m\n",
       "\u001b[38;2;255;255;255;48;2;222;158;214m  \u001b[0m\u001b[38;2;255;255;255;48;2;222;158;214mCPU 1\u001b[0m\u001b[38;2;255;255;255;48;2;222;158;214m  \u001b[0m\n",
       "\u001b[38;2;255;255;255;48;2;222;158;214m         \u001b[0m\n",
       "\u001b[38;2;255;255;255;48;2;173;73;74m         \u001b[0m\n",
       "\u001b[38;2;255;255;255;48;2;173;73;74m  \u001b[0m\u001b[38;2;255;255;255;48;2;173;73;74mCPU 2\u001b[0m\u001b[38;2;255;255;255;48;2;173;73;74m  \u001b[0m\n",
       "\u001b[38;2;255;255;255;48;2;173;73;74m         \u001b[0m\n",
       "\u001b[38;2;0;0;0;48;2;181;207;107m         \u001b[0m\n",
       "\u001b[38;2;0;0;0;48;2;181;207;107m  \u001b[0m\u001b[38;2;0;0;0;48;2;181;207;107mCPU 3\u001b[0m\u001b[38;2;0;0;0;48;2;181;207;107m  \u001b[0m\n",
       "\u001b[38;2;0;0;0;48;2;181;207;107m         \u001b[0m\n"
      ]
     },
     "metadata": {},
     "output_type": "display_data"
    },
    {
     "data": {
      "text/html": [
       "<pre style=\"white-space:pre;overflow-x:auto;line-height:normal;font-family:Menlo,'DejaVu Sans Mono',consolas,'Courier New',monospace\"><span style=\"color: #ffffff; text-decoration-color: #ffffff; background-color: #393b79\">  CPU 0  </span><span style=\"color: #ffffff; text-decoration-color: #ffffff; background-color: #de9ed6\">  CPU 1  </span><span style=\"color: #ffffff; text-decoration-color: #ffffff; background-color: #ad494a\">  CPU 2  </span><span style=\"color: #000000; text-decoration-color: #000000; background-color: #b5cf6b\">  CPU 3  </span>\n",
       "<span style=\"color: #ffffff; text-decoration-color: #ffffff; background-color: #393b79\">         </span><span style=\"color: #ffffff; text-decoration-color: #ffffff; background-color: #de9ed6\">         </span><span style=\"color: #ffffff; text-decoration-color: #ffffff; background-color: #ad494a\">         </span><span style=\"color: #000000; text-decoration-color: #000000; background-color: #b5cf6b\">         </span>\n",
       "</pre>\n"
      ],
      "text/plain": [
       "\u001b[38;2;255;255;255;48;2;57;59;121m  \u001b[0m\u001b[38;2;255;255;255;48;2;57;59;121mCPU 0\u001b[0m\u001b[38;2;255;255;255;48;2;57;59;121m  \u001b[0m\u001b[38;2;255;255;255;48;2;222;158;214m  \u001b[0m\u001b[38;2;255;255;255;48;2;222;158;214mCPU 1\u001b[0m\u001b[38;2;255;255;255;48;2;222;158;214m  \u001b[0m\u001b[38;2;255;255;255;48;2;173;73;74m  \u001b[0m\u001b[38;2;255;255;255;48;2;173;73;74mCPU 2\u001b[0m\u001b[38;2;255;255;255;48;2;173;73;74m  \u001b[0m\u001b[38;2;0;0;0;48;2;181;207;107m  \u001b[0m\u001b[38;2;0;0;0;48;2;181;207;107mCPU 3\u001b[0m\u001b[38;2;0;0;0;48;2;181;207;107m  \u001b[0m\n",
       "\u001b[38;2;255;255;255;48;2;57;59;121m         \u001b[0m\u001b[38;2;255;255;255;48;2;222;158;214m         \u001b[0m\u001b[38;2;255;255;255;48;2;173;73;74m         \u001b[0m\u001b[38;2;0;0;0;48;2;181;207;107m         \u001b[0m\n"
      ]
     },
     "metadata": {},
     "output_type": "display_data"
    },
    {
     "data": {
      "text/html": [
       "<pre style=\"white-space:pre;overflow-x:auto;line-height:normal;font-family:Menlo,'DejaVu Sans Mono',consolas,'Courier New',monospace\"><span style=\"color: #ffffff; text-decoration-color: #ffffff; background-color: #393b79\">         </span>\n",
       "<span style=\"color: #ffffff; text-decoration-color: #ffffff; background-color: #393b79\">  CPU 0  </span>\n",
       "<span style=\"color: #ffffff; text-decoration-color: #ffffff; background-color: #393b79\">         </span>\n",
       "<span style=\"color: #ffffff; text-decoration-color: #ffffff; background-color: #de9ed6\">         </span>\n",
       "<span style=\"color: #ffffff; text-decoration-color: #ffffff; background-color: #de9ed6\">  CPU 1  </span>\n",
       "<span style=\"color: #ffffff; text-decoration-color: #ffffff; background-color: #de9ed6\">         </span>\n",
       "<span style=\"color: #ffffff; text-decoration-color: #ffffff; background-color: #ad494a\">         </span>\n",
       "<span style=\"color: #ffffff; text-decoration-color: #ffffff; background-color: #ad494a\">  CPU 2  </span>\n",
       "<span style=\"color: #ffffff; text-decoration-color: #ffffff; background-color: #ad494a\">         </span>\n",
       "<span style=\"color: #000000; text-decoration-color: #000000; background-color: #b5cf6b\">         </span>\n",
       "<span style=\"color: #000000; text-decoration-color: #000000; background-color: #b5cf6b\">  CPU 3  </span>\n",
       "<span style=\"color: #000000; text-decoration-color: #000000; background-color: #b5cf6b\">         </span>\n",
       "</pre>\n"
      ],
      "text/plain": [
       "\u001b[38;2;255;255;255;48;2;57;59;121m         \u001b[0m\n",
       "\u001b[38;2;255;255;255;48;2;57;59;121m  \u001b[0m\u001b[38;2;255;255;255;48;2;57;59;121mCPU 0\u001b[0m\u001b[38;2;255;255;255;48;2;57;59;121m  \u001b[0m\n",
       "\u001b[38;2;255;255;255;48;2;57;59;121m         \u001b[0m\n",
       "\u001b[38;2;255;255;255;48;2;222;158;214m         \u001b[0m\n",
       "\u001b[38;2;255;255;255;48;2;222;158;214m  \u001b[0m\u001b[38;2;255;255;255;48;2;222;158;214mCPU 1\u001b[0m\u001b[38;2;255;255;255;48;2;222;158;214m  \u001b[0m\n",
       "\u001b[38;2;255;255;255;48;2;222;158;214m         \u001b[0m\n",
       "\u001b[38;2;255;255;255;48;2;173;73;74m         \u001b[0m\n",
       "\u001b[38;2;255;255;255;48;2;173;73;74m  \u001b[0m\u001b[38;2;255;255;255;48;2;173;73;74mCPU 2\u001b[0m\u001b[38;2;255;255;255;48;2;173;73;74m  \u001b[0m\n",
       "\u001b[38;2;255;255;255;48;2;173;73;74m         \u001b[0m\n",
       "\u001b[38;2;0;0;0;48;2;181;207;107m         \u001b[0m\n",
       "\u001b[38;2;0;0;0;48;2;181;207;107m  \u001b[0m\u001b[38;2;0;0;0;48;2;181;207;107mCPU 3\u001b[0m\u001b[38;2;0;0;0;48;2;181;207;107m  \u001b[0m\n",
       "\u001b[38;2;0;0;0;48;2;181;207;107m         \u001b[0m\n"
      ]
     },
     "metadata": {},
     "output_type": "display_data"
    },
    {
     "data": {
      "text/plain": [
       "{'Dense_0': {'bias': None, 'kernel': None},\n",
       " 'Dense_1': {'bias': None, 'kernel': None}}"
      ]
     },
     "execution_count": 162,
     "metadata": {},
     "output_type": "execute_result"
    }
   ],
   "source": [
    "jax.tree.map(\n",
    "  lambda x: jax.debug.visualize_array_sharding(x),\n",
    "  params_new\n",
    ")"
   ]
  },
  {
   "cell_type": "code",
   "execution_count": null,
   "id": "1dc87f42",
   "metadata": {},
   "outputs": [],
   "source": [
    "{\n",
    "  Dense_0: {Dense_0: {(L, kernel), bias}, Dense_1}\n",
    "  Dnese_1; {Dense_0: }\n",
    "  ...\n",
    "  Dense_n: {}\n",
    "}"
   ]
  }
 ],
 "metadata": {
  "kernelspec": {
   "display_name": "jaxformer",
   "language": "python",
   "name": "python3"
  },
  "language_info": {
   "codemirror_mode": {
    "name": "ipython",
    "version": 3
   },
   "file_extension": ".py",
   "mimetype": "text/x-python",
   "name": "python",
   "nbconvert_exporter": "python",
   "pygments_lexer": "ipython3",
   "version": "3.13.5"
  }
 },
 "nbformat": 4,
 "nbformat_minor": 5
}
