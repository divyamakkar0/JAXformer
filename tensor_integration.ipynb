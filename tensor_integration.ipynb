{
 "cells": [
  {
   "cell_type": "code",
   "execution_count": 1,
   "id": "abdfb542",
   "metadata": {},
   "outputs": [],
   "source": [
    "import os\n",
    "\n",
    "os.environ[\"XLA_FLAGS\"] = \"--xla_force_host_platform_device_count=8\"\n",
    "\n",
    "\n",
    "import jax\n",
    "import jax.numpy as jnp\n",
    "from jax import random\n",
    "from jax.sharding import PartitionSpec as P\n",
    "from flax import linen as nn\n",
    "from einops import rearrange\n",
    "import numpy as np\n",
    "\n",
    "import tiktoken\n",
    "from utils import modelConfig\n",
    "from typing import Optional, Tuple, List, Callable\n",
    "from functools import partial\n",
    "import math\n",
    "from einops import rearrange\n",
    "import flax\n",
    "from flax import linen as nn\n",
    "from jaxtyping import Array, PyTree\n",
    "from jax.sharding import Mesh\n",
    "from jax.experimental.shard_map import shard_map\n",
    "\n",
    "from config import parse_args"
   ]
  },
  {
   "cell_type": "code",
   "execution_count": 2,
   "id": "d40ad738",
   "metadata": {},
   "outputs": [
    {
     "data": {
      "text/plain": [
       "Mesh(device_ids=array([0, 1, 2, 3, 4, 5, 6, 7]), axis_names=('model',), axis_types=(Auto,))"
      ]
     },
     "execution_count": 2,
     "metadata": {},
     "output_type": "execute_result"
    }
   ],
   "source": [
    "device_array = np.array(jax.devices())\n",
    "mesh = Mesh(device_array, (\"model\",))\n",
    "mesh"
   ]
  },
  {
   "cell_type": "code",
   "execution_count": 3,
   "id": "05a178ba",
   "metadata": {},
   "outputs": [],
   "source": [
    "class TPDense(nn.Module):\n",
    "    features: int\n",
    "    dtype: jnp.dtype = jnp.bfloat16\n",
    "\n",
    "    @nn.compact\n",
    "    def __call__(self, x):\n",
    "        ki = nn.linear.default_kernel_init\n",
    "        h = nn.Dense(\n",
    "            self.features,\n",
    "            dtype=self.dtype,\n",
    "            kernel_init=nn.with_partitioning(ki, (None, \"model\")),\n",
    "        )(x)\n",
    "        return h"
   ]
  },
  {
   "cell_type": "code",
   "execution_count": 5,
   "id": "2125cd59",
   "metadata": {},
   "outputs": [],
   "source": [
    "class Embeddings(nn.Module):\n",
    "    model_dimension: int\n",
    "    vocab_size: int\n",
    "    model_dtype: jnp.dtype = jnp.float32\n",
    "\n",
    "    def setup(self):\n",
    "        ei = nn.initializers.variance_scaling(1.0, \"fan_in\", \"normal\", out_axis=0)\n",
    "        self.embedding = nn.Embed(\n",
    "            num_embeddings=self.vocab_size,\n",
    "            features=self.model_dimension,\n",
    "            dtype=self.model_dtype,\n",
    "            embedding_init=nn.with_partitioning(ei, (None, \"model\")),\n",
    "        )\n",
    "        self.layer_norm = nn.LayerNorm()\n",
    "\n",
    "    def __call__(self, x: Array, out: bool = False) -> Array:\n",
    "        if not out:\n",
    "            x = self.embedding(x)\n",
    "        else:\n",
    "            x = self.layer_norm(x)\n",
    "            x = self.embedding.attend(x)\n",
    "        return x"
   ]
  },
  {
   "cell_type": "code",
   "execution_count": 6,
   "id": "3c0bfe86",
   "metadata": {},
   "outputs": [],
   "source": [
    "class RoPE:\n",
    "    def __init__(self, T: int, model_dim: int):\n",
    "        assert model_dim % 2 == 0, \"model_dim must be even\"\n",
    "\n",
    "        freq = jnp.arange(T, dtype=jnp.float32)[:, None] + 1\n",
    "\n",
    "        pos = jnp.arange(model_dim // 2, dtype=jnp.float32)[:, None]\n",
    "        pos = pos.repeat(2, axis=-1).reshape(1, -1)\n",
    "        log_theta_base = jnp.log(10000.0)\n",
    "        theta = jnp.exp(-2 * pos / model_dim * log_theta_base)\n",
    "\n",
    "        self.cos = jnp.cos(freq * theta)\n",
    "        self.sin = jnp.sin(freq * theta)\n",
    "\n",
    "    def __call__(\n",
    "        self,\n",
    "        x: Array,\n",
    "        t_start: int,\n",
    "        offset: Optional[int] = None,\n",
    "        transpose: bool = False,\n",
    "    ) -> Array:\n",
    "        B, T, C = x.shape\n",
    "        x_proj = x.astype(\"float32\")\n",
    "\n",
    "        if offset is None:\n",
    "            offset = T\n",
    "\n",
    "        cos_rope = x_proj * self.cos[t_start : t_start + offset, :]\n",
    "\n",
    "        x_inter = x_proj.reshape((B, T, C // 2, 2))\n",
    "        x_inter = jnp.flip(x_inter, axis=-1) * jnp.array([-1, 1])\n",
    "        x_inter = x_inter.reshape((B, T, C))\n",
    "        if transpose:\n",
    "            x_inter *= -1\n",
    "        sin_rope = x_inter * self.sin[t_start : t_start + offset, :]\n",
    "\n",
    "        x_rope = cos_rope + sin_rope\n",
    "        x = x_rope.astype(x.dtype)\n",
    "        return x"
   ]
  },
  {
   "cell_type": "code",
   "execution_count": 7,
   "id": "1cb2bb2d",
   "metadata": {},
   "outputs": [],
   "source": [
    "class MLA(nn.Module):\n",
    "    model_dim: int\n",
    "    n_heads: int\n",
    "    T: int\n",
    "    latent_dim: int\n",
    "    dhR: int\n",
    "    model_dtype: jnp.dtype\n",
    "    grad_checkpoint: bool\n",
    "    dropout: float = 0.0\n",
    "\n",
    "    def setup(self):\n",
    "        self.W_down = TPDense(features=2 * self.latent_dim, dtype=self.model_dtype)\n",
    "\n",
    "        self.W_uKV = TPDense(features=2 * self.model_dim, dtype=self.model_dtype)\n",
    "        self.W_uQ = TPDense(features=self.model_dim, dtype=self.model_dtype)\n",
    "\n",
    "        self.dk = self.model_dim // self.n_heads\n",
    "\n",
    "        if self.grad_checkpoint:\n",
    "            self.output = nn.remat(TPDense)(\n",
    "                features=self.model_dim, dtype=self.model_dtype\n",
    "            )\n",
    "        else:\n",
    "            self.output = TPDense(features=self.model_dim, dtype=self.model_dtype)\n",
    "        self.out_dropout = nn.Dropout(rate=self.dropout)\n",
    "\n",
    "        self.rope = False\n",
    "        if self.dhR != 0:\n",
    "            self.rope = True\n",
    "            self.Wkr = TPDense(features=self.dhR, dtype=self.model_dtype)\n",
    "            self.Wqr = TPDense(\n",
    "                features=(self.dhR * self.n_heads), dtype=self.model_dtype\n",
    "            )\n",
    "            self.rope_k = RoPE(model_dim=self.dhR, T=self.T)\n",
    "            self.rope_q = RoPE(model_dim=self.dhR * self.n_heads, T=self.T)\n",
    "\n",
    "    def __call__(\n",
    "        self,\n",
    "        x: Array,\n",
    "        *,\n",
    "        cKV_cache: Optional[Array] = None,\n",
    "        kRT_cache: Optional[Array] = None,\n",
    "        train=True,\n",
    "    ) -> Tuple[Array, Tuple[Array, Array]]:\n",
    "        B, T, C = x.shape\n",
    "\n",
    "        cKVt, cqt = jnp.split(self.W_down(x), 2, axis=-1)\n",
    "\n",
    "        if self.rope:\n",
    "            t_start = 0\n",
    "            if cKV_cache is not None:\n",
    "                t_start = cKV_cache.shape[1]\n",
    "\n",
    "            kRt = self.rope_k(self.Wkr(x), t_start)\n",
    "\n",
    "            qRt = self.rope_q(self.Wqr(x), t_start)\n",
    "            qRt = rearrange(qRt, \"B T (nh d) -> B nh T d\", nh=self.n_heads, d=self.dhR)\n",
    "\n",
    "        if not train:\n",
    "            if cKV_cache is not None:\n",
    "                cKVt = jnp.concatenate([cKV_cache, cKVt], axis=1)\n",
    "            cKV_cache = cKVt\n",
    "\n",
    "            if self.rope:\n",
    "                if kRT_cache is not None:\n",
    "                    kRt = jnp.concatenate([kRT_cache, kRt], axis=1)\n",
    "                kRT_cache = kRt\n",
    "\n",
    "        k, v = jnp.split(self.W_uKV(cKVt), 2, axis=-1)\n",
    "        q = self.W_uQ(cqt)\n",
    "\n",
    "        k = rearrange(k, \"B T (nh d) -> B nh T d\", nh=self.n_heads, d=self.dk)\n",
    "        q = rearrange(q, \"B T (nh d) -> B nh T d\", nh=self.n_heads, d=self.dk)\n",
    "        v = rearrange(v, \"B T (nh d) -> B nh T d\", nh=self.n_heads, d=self.dk)\n",
    "\n",
    "        if self.rope:\n",
    "            q = jnp.concatenate([q, qRt], axis=-1)\n",
    "            kRt = jnp.repeat(kRt[:, None, :, :], self.n_heads, axis=1)\n",
    "            k = jnp.concatenate([k, kRt], axis=-1)\n",
    "\n",
    "        def scaledDotProd(q, k, v, mask):\n",
    "            q = q.astype(\"float32\")\n",
    "            k = k.astype(\"float32\")\n",
    "            w = jnp.einsum(\"B n T d, B n t d -> B n T t\", q, k) * (1 / (self.dk**0.5))\n",
    "            w = jnp.where(mask == 0, -9e15, w)\n",
    "            w = jax.nn.softmax(w, axis=-1).astype(self.model_dtype)\n",
    "            output = jnp.einsum(\"B n T t, B n t d -> B n T d\", w, v)\n",
    "            return output\n",
    "\n",
    "        if self.grad_checkpoint:\n",
    "            scaledDotProd = jax.remat(scaledDotProd)\n",
    "\n",
    "        if T == 1:\n",
    "            mask = jnp.ones((B, self.n_heads, 1, k.shape[2]))\n",
    "        else:\n",
    "            mask = jnp.tril(\n",
    "                jnp.ones((B, self.n_heads, q.shape[2], k.shape[2])),\n",
    "            )\n",
    "\n",
    "        output = scaledDotProd(q, k, v, mask)\n",
    "        output = rearrange(output, \"B nh T dk -> B T (nh dk)\")\n",
    "\n",
    "        output = self.output(output)\n",
    "        output = self.out_dropout(output, deterministic=not train)\n",
    "        return output, (cKV_cache, kRT_cache)"
   ]
  },
  {
   "cell_type": "code",
   "execution_count": 8,
   "id": "827d4f9f",
   "metadata": {},
   "outputs": [],
   "source": [
    "class FFBody(nn.Module):\n",
    "    model_dimension: int\n",
    "    ff_dim: int\n",
    "    dropout: float\n",
    "    model_dtype: jnp.dtype\n",
    "\n",
    "    @nn.compact\n",
    "    def __call__(self, x: Array) -> Array:\n",
    "        x = TPDense(\n",
    "            features=self.ff_dim,\n",
    "            dtype=self.model_dtype,\n",
    "        )(x)\n",
    "        x = nn.gelu(x)\n",
    "        x = TPDense(\n",
    "            features=self.model_dimension,\n",
    "            dtype=self.model_dtype,\n",
    "        )(x)\n",
    "\n",
    "        return x"
   ]
  },
  {
   "cell_type": "code",
   "execution_count": 9,
   "id": "2bb7831b",
   "metadata": {},
   "outputs": [],
   "source": [
    "class FeedForward(nn.Module):\n",
    "    model_dimension: int\n",
    "    ff_dim: int\n",
    "    dropout: float\n",
    "    model_dtype: jnp.dtype\n",
    "    grad_checkpoint: bool\n",
    "\n",
    "    @nn.compact\n",
    "    def __call__(self, x: Array, train: bool = True) -> Array:\n",
    "        ff = FFBody\n",
    "        if self.grad_checkpoint:\n",
    "            ff = nn.remat(FFBody)\n",
    "\n",
    "        ff = ff(\n",
    "            model_dimension=self.model_dimension,\n",
    "            ff_dim=4 * self.model_dimension,\n",
    "            dropout=self.dropout,\n",
    "            model_dtype=self.model_dtype,\n",
    "        )\n",
    "        x_ff = nn.Dropout(rate=self.dropout)(ff(x), deterministic=not train)\n",
    "\n",
    "        return x_ff"
   ]
  },
  {
   "cell_type": "code",
   "execution_count": 10,
   "id": "10a939cc",
   "metadata": {},
   "outputs": [],
   "source": [
    "class Block(nn.Module):\n",
    "    model_dimension: int\n",
    "    n_heads: int\n",
    "    dropout: float\n",
    "    T: int\n",
    "    latent_dim: int\n",
    "    model_dtype: jnp.dtype\n",
    "    dhR: int = 0\n",
    "    n_shared: int = 0\n",
    "    n_experts: int = 0\n",
    "    k: int = 0\n",
    "    moe: bool = False\n",
    "    grad_checkpoint: bool = False\n",
    "\n",
    "    @nn.compact\n",
    "    def __call__(\n",
    "        self,\n",
    "        x: Array,\n",
    "        cache: Optional[Tuple[Array, Optional[Array]]] = (None, None),\n",
    "        train: bool = True,\n",
    "    ):\n",
    "        x_norm = nn.LayerNorm()(x)\n",
    "\n",
    "        x_up, cache = MLA(\n",
    "            model_dim=self.model_dimension,\n",
    "            n_heads=self.n_heads,\n",
    "            T=self.T,\n",
    "            latent_dim=self.latent_dim,\n",
    "            dhR=self.dhR,\n",
    "            model_dtype=self.model_dtype,\n",
    "            dropout=self.dropout,\n",
    "            grad_checkpoint=self.grad_checkpoint,\n",
    "        )(x_norm, cKV_cache=cache[0], kRT_cache=cache[1], train=train)\n",
    "        x = x + x_up\n",
    "\n",
    "        x_norm = nn.LayerNorm()(x)\n",
    "\n",
    "        load = None\n",
    "        if self.moe == True:\n",
    "            x_ff, load = MoE(\n",
    "                model_dimension=self.model_dimension,\n",
    "                n_experts=self.n_experts,\n",
    "                k=self.k,\n",
    "                dropout=self.dropout,\n",
    "                model_dtype=self.model_dtype,\n",
    "                n_shared=self.n_shared,\n",
    "                grad_checkpoint=self.grad_checkpoint,\n",
    "            )(x_norm, train=train)\n",
    "\n",
    "        else:\n",
    "            x_ff = FeedForward(\n",
    "                model_dimension=self.model_dimension,\n",
    "                ff_dim=4 * self.model_dimension,\n",
    "                dropout=self.dropout,\n",
    "                model_dtype=self.model_dtype,\n",
    "                grad_checkpoint=self.grad_checkpoint,\n",
    "            )(x_norm, train=train)\n",
    "\n",
    "        x = x + x_ff\n",
    "\n",
    "        return x, (cache, load)"
   ]
  },
  {
   "cell_type": "code",
   "execution_count": 11,
   "id": "5c51b987",
   "metadata": {},
   "outputs": [],
   "source": [
    "class FFBody(nn.Module):\n",
    "    model_dimension: int\n",
    "    ff_dim: int\n",
    "    dropout: float\n",
    "    model_dtype: jnp.dtype\n",
    "\n",
    "    @nn.compact\n",
    "    def __call__(self, x):\n",
    "        x = TPDense(features=self.ff_dim, dtype=self.model_dtype)(x)\n",
    "        x = nn.relu(x)\n",
    "        x = TPDense(features=self.model_dimension, dtype=self.model_dtype)(x)\n",
    "\n",
    "        return x"
   ]
  },
  {
   "cell_type": "code",
   "execution_count": 12,
   "id": "f2f7c224",
   "metadata": {},
   "outputs": [],
   "source": [
    "class FeedForward(nn.Module):\n",
    "    model_dimension: int\n",
    "    ff_dim: int\n",
    "    dropout: float\n",
    "    model_dtype: jnp.dtype\n",
    "    grad_checkpoint: bool\n",
    "\n",
    "    @nn.compact\n",
    "    def __call__(self, x, train: bool = True):\n",
    "        ff = FFBody\n",
    "        if self.grad_checkpoint:\n",
    "            ff = nn.remat(FFBody)\n",
    "\n",
    "        ff = ff(\n",
    "            model_dimension=self.model_dimension,\n",
    "            ff_dim=4 * self.model_dimension,\n",
    "            dropout=self.dropout,\n",
    "            model_dtype=self.model_dtype,\n",
    "        )\n",
    "        x_ff = nn.Dropout(rate=self.dropout, deterministic=not train)(ff(x))\n",
    "\n",
    "        return x_ff"
   ]
  },
  {
   "cell_type": "code",
   "execution_count": 13,
   "id": "196330ca",
   "metadata": {},
   "outputs": [],
   "source": [
    "class Block(nn.Module):\n",
    "    model_dimension: int\n",
    "    n_heads: int\n",
    "    dropout: float\n",
    "    T: int\n",
    "    latent_dim: int\n",
    "    model_dtype: jnp.dtype\n",
    "    dhR: int = 0\n",
    "    n_shared: int = 0\n",
    "    n_experts: int = 0\n",
    "    k: int = 0\n",
    "    moe: bool = False\n",
    "    grad_checkpoint: bool = False\n",
    "\n",
    "    @nn.compact\n",
    "    def __call__(\n",
    "        self,\n",
    "        x: Array,\n",
    "        cache: Optional[Tuple[Array, Optional[Array]]] = (None, None),\n",
    "        train: bool = True,\n",
    "    ):\n",
    "        x_norm = nn.LayerNorm()(x)\n",
    "\n",
    "        x_up, cache = MLA(\n",
    "            model_dim=self.model_dimension,\n",
    "            n_heads=self.n_heads,\n",
    "            T=self.T,\n",
    "            latent_dim=self.latent_dim,\n",
    "            dhR=self.dhR,\n",
    "            model_dtype=self.model_dtype,\n",
    "            dropout=self.dropout,\n",
    "            grad_checkpoint=self.grad_checkpoint,\n",
    "        )(x_norm, cKV_cache=cache[0], kRT_cache=cache[1], train=train)\n",
    "        x = x + x_up\n",
    "\n",
    "        x_norm = nn.LayerNorm()(x)\n",
    "\n",
    "        load = None\n",
    "        if self.moe == True:\n",
    "            x_ff, load = MoE(\n",
    "                model_dimension=self.model_dimension,\n",
    "                n_experts=self.n_experts,\n",
    "                k=self.k,\n",
    "                dropout=self.dropout,\n",
    "                model_dtype=self.model_dtype,\n",
    "                n_shared=self.n_shared,\n",
    "                grad_checkpoint=self.grad_checkpoint,\n",
    "            )(x_norm, train=train)\n",
    "\n",
    "        else:\n",
    "            x_ff = FeedForward(\n",
    "                model_dimension=self.model_dimension,\n",
    "                ff_dim=4 * self.model_dimension,\n",
    "                dropout=self.dropout,\n",
    "                model_dtype=self.model_dtype,\n",
    "                grad_checkpoint=self.grad_checkpoint,\n",
    "            )(x_norm, train=train)\n",
    "\n",
    "        x = x + x_ff\n",
    "\n",
    "        return x, (cache, load)"
   ]
  },
  {
   "cell_type": "code",
   "execution_count": 14,
   "id": "ab2c28ed",
   "metadata": {},
   "outputs": [],
   "source": [
    "class EncoderBlock(nn.Module):\n",
    "    model_dimension: int\n",
    "    n_heads: int\n",
    "    dropout: float\n",
    "    T: int\n",
    "    latent_dim: int\n",
    "    model_dtype: jnp.dtype\n",
    "    dhR: int\n",
    "    dhR_blocks: int = 4\n",
    "    n_shared: int = 0\n",
    "    n_experts: int = 0\n",
    "    k: int = 0\n",
    "    moe: bool = False\n",
    "    grad_checkpoint: bool = False\n",
    "\n",
    "    @nn.compact\n",
    "    def __call__(\n",
    "        self,\n",
    "        x: Array,\n",
    "        cache: Optional[List[Tuple[Array, Optional[Array]]]] = None,\n",
    "        train: Array = True,\n",
    "    ) -> Tuple[\n",
    "        Array,\n",
    "        Tuple[\n",
    "            Optional[List[Tuple[Optional[Array], Optional[Array]]]], Optional[PyTree]\n",
    "        ],\n",
    "    ]:\n",
    "        out_cache = []\n",
    "        load = None\n",
    "        for i in range(self.dhR_blocks):\n",
    "            layer_cache = (None, None) if cache is None else cache[i]\n",
    "            x, (current_cache, current_load) = Block(\n",
    "                model_dimension=self.model_dimension,\n",
    "                n_heads=self.n_heads,\n",
    "                dropout=self.dropout,\n",
    "                T=self.T,\n",
    "                latent_dim=self.latent_dim,\n",
    "                dhR=self.dhR if (i < self.dhR_blocks - 1) else 0,\n",
    "                moe=self.moe,\n",
    "                n_experts=self.n_experts,\n",
    "                n_shared=self.n_shared,\n",
    "                k=self.k,\n",
    "                model_dtype=self.model_dtype,\n",
    "            )(x, cache=layer_cache, train=train)\n",
    "            if load is None:\n",
    "                load = current_load\n",
    "            else:\n",
    "                add_tree = lambda x, y: jax.tree.map(lambda a, b: a + b, x, y)\n",
    "                load = (\n",
    "                    add_tree(load[0], current_load[0]),\n",
    "                    add_tree(load[1], current_load[1]),\n",
    "                )\n",
    "\n",
    "            out_cache.append(current_cache)\n",
    "\n",
    "        return x, (out_cache, load)"
   ]
  },
  {
   "cell_type": "code",
   "execution_count": 15,
   "id": "5a0d7f0d",
   "metadata": {},
   "outputs": [],
   "source": [
    "class Decoder(nn.Module):\n",
    "    model_dimension: int\n",
    "    n_heads: int\n",
    "    dhR: int\n",
    "    dhR_blocks: int\n",
    "    T: int\n",
    "    vocab_size: int\n",
    "    dropout: float\n",
    "    blocks: int\n",
    "    n_experts: int\n",
    "    n_shared: int\n",
    "    k: int\n",
    "    moe: bool\n",
    "    latent_dim: int\n",
    "    model_dtype: jnp.dtype\n",
    "    grad_checkpoint: bool\n",
    "\n",
    "    @nn.compact\n",
    "    def __call__(\n",
    "        self,\n",
    "        x: Array,\n",
    "        cache: Optional[List[Tuple[Optional[Array], Optional[Array]]]] = None,\n",
    "        train: bool = True,\n",
    "    ) -> Tuple[\n",
    "        Array, Tuple[Optional[List[Tuple[Optional[Array], Optional[Array]]]], Array]\n",
    "    ]:\n",
    "        if cache is not None:\n",
    "            x = x[:, -1:]\n",
    "\n",
    "        embed = Embeddings(\n",
    "            model_dimension=self.model_dimension,\n",
    "            vocab_size=self.vocab_size,\n",
    "            model_dtype=self.model_dtype,\n",
    "        )\n",
    "        x = embed(x)\n",
    "        out_cache = []\n",
    "        load = None\n",
    "        for i in range(self.blocks):\n",
    "            layer_cache = (\n",
    "                None\n",
    "                if cache is None\n",
    "                else cache[\n",
    "                    i * len(cache) // self.blocks : (i + 1) * len(cache) // self.blocks\n",
    "                ]\n",
    "            )\n",
    "            x, (current_cache, current_load) = EncoderBlock(\n",
    "                model_dimension=self.model_dimension,\n",
    "                n_heads=self.n_heads,\n",
    "                dropout=self.dropout,\n",
    "                T=self.T,\n",
    "                latent_dim=self.latent_dim,\n",
    "                dhR=self.dhR,\n",
    "                dhR_blocks=self.dhR_blocks,\n",
    "                moe=self.moe,\n",
    "                n_experts=self.n_experts,\n",
    "                n_shared=self.n_shared,\n",
    "                k=self.k,\n",
    "                model_dtype=self.model_dtype,\n",
    "            )(x, cache=layer_cache, train=train)\n",
    "\n",
    "            if load is None:\n",
    "                load = current_load\n",
    "            else:\n",
    "                add_tree = lambda x, y: jax.tree.map(lambda a, b: a + b, x, y)\n",
    "                load = (\n",
    "                    add_tree(load[0], current_load[0]),\n",
    "                    add_tree(load[1], current_load[1]),\n",
    "                )\n",
    "\n",
    "            out_cache.extend(current_cache)\n",
    "\n",
    "        x = embed(x, out=True)\n",
    "\n",
    "        if load is not None:\n",
    "            load = load[0] * load[1]\n",
    "\n",
    "        return x, (out_cache, load)\n",
    "\n",
    "    def generate(\n",
    "        self,\n",
    "        params: PyTree,\n",
    "        key: jax.random.key,\n",
    "        x: str = \"\",\n",
    "        *,\n",
    "        B: int = 1,\n",
    "        k: int = 10000,\n",
    "        temperature: int = 1,\n",
    "        max_tokens: int = 100,\n",
    "        use_cache=True,\n",
    "    ) -> List[str]:\n",
    "        enc = tiktoken.get_encoding(\"gpt2\")\n",
    "\n",
    "        out = jnp.array([enc._special_tokens[\"<|endoftext|>\"]], dtype=jnp.int32)\n",
    "        if x != \"\":\n",
    "            x_encode = jnp.array(enc.encode(x), dtype=jnp.int32)\n",
    "            out = jnp.concatenate([out, x_encode], axis=-1)\n",
    "\n",
    "        out = jnp.repeat(out[None, :], B, axis=0)\n",
    "        cache = None\n",
    "\n",
    "        def sample(key, params, inp, cache, B, k, temperature):\n",
    "            if not use_cache:\n",
    "                cache = None\n",
    "            logits, (cache, _) = self.apply(\n",
    "                {\"params\": params}, inp, cache=cache, train=False\n",
    "            )\n",
    "\n",
    "            logits, idx = jax.lax.top_k(logits[:, -1, :], k=k)\n",
    "            logits /= temperature\n",
    "\n",
    "            out_next_idx = jax.random.categorical(key, logits, axis=-1, shape=(B,))\n",
    "            out_next = idx[jnp.arange(B, dtype=jnp.int32), out_next_idx][:, None]\n",
    "\n",
    "            return out_next, (cache, logits)\n",
    "\n",
    "        for _ in range(min(max_tokens, self.T)):\n",
    "            key, sample_key = jax.random.split(key)\n",
    "            out_next, (cache, logits) = sample(\n",
    "                sample_key, params, out, cache, B, k, temperature\n",
    "            )\n",
    "            out = jnp.concatenate([out, out_next], axis=-1)\n",
    "\n",
    "        tokens = jax.device_get(out[:, 1:])\n",
    "        outputs = list(map(lambda x: enc.decode(x), tokens))\n",
    "\n",
    "        return outputs\n",
    "\n",
    "    @classmethod\n",
    "    def get_model(\n",
    "        cls: \"Decoder\", model_config: modelConfig, init_key: jax.random.key\n",
    "    ) -> Tuple[\"Decoder\", PyTree]:\n",
    "        x = jnp.ones((1, model_config.T), dtype=jnp.int32)\n",
    "\n",
    "        model = cls(\n",
    "            model_dimension=model_config.model_dimension,\n",
    "            n_heads=model_config.n_heads,\n",
    "            dhR=model_config.dhR,\n",
    "            dhR_blocks=model_config.dhR_blocks,\n",
    "            T=model_config.T,\n",
    "            vocab_size=model_config.vocab_size,\n",
    "            dropout=model_config.dropout,\n",
    "            blocks=model_config.blocks,\n",
    "            n_experts=model_config.n_experts,\n",
    "            k=model_config.k,\n",
    "            moe=model_config.moe,\n",
    "            latent_dim=model_config.latent_dim,\n",
    "            n_shared=model_config.n_shared,\n",
    "            model_dtype=jnp.bfloat16\n",
    "            if (model_config.model_dtype == \"bfloat16\")\n",
    "            else jnp.float32,\n",
    "            grad_checkpoint=model_config.grad_checkpoint,\n",
    "        )\n",
    "\n",
    "        params = model.init(\n",
    "            init_key,\n",
    "            x,\n",
    "            train=False,\n",
    "        )[\"params\"]\n",
    "\n",
    "        _ = model.generate(\n",
    "            params,\n",
    "            init_key,\n",
    "            x=\"hello\",\n",
    "            B=1,\n",
    "            k=model_config.vocab_size,\n",
    "            temperature=1,\n",
    "            max_tokens=10,\n",
    "        )\n",
    "\n",
    "        return model, params"
   ]
  },
  {
   "cell_type": "code",
   "execution_count": 16,
   "id": "81d47a76",
   "metadata": {},
   "outputs": [],
   "source": [
    "if __name__ == \"__main__\":\n",
    "    import json\n",
    "    import numpy as np\n",
    "\n",
    "    def print_params(params):\n",
    "        def tree_shapes(tree):\n",
    "            return jax.tree_util.tree_map(lambda x: tuple(x.shape), tree)\n",
    "\n",
    "        shapes = tree_shapes(params)\n",
    "        print(json.dumps(shapes, indent=4))\n",
    "\n",
    "    model_cfg = modelConfig(\n",
    "        model_dimension=64,\n",
    "        n_heads=4,\n",
    "        dhR=64,\n",
    "        dhR_blocks=1,\n",
    "        T=32,\n",
    "        vocab_size=10000,\n",
    "        dropout=0.1,\n",
    "        blocks=4,\n",
    "        n_experts=4,\n",
    "        n_shared=2,\n",
    "        k=2,\n",
    "        moe=False,\n",
    "        latent_dim=16,\n",
    "        model_dtype=\"bfloat16\",\n",
    "        grad_checkpoint=False,\n",
    "    )\n",
    "\n",
    "    key = jax.random.PRNGKey(0)\n",
    "    key2 = jax.random.PRNGKey(1)\n",
    "    model, params = Decoder.get_model(model_cfg, key)\n",
    "\n",
    "    x = jnp.ones((8, model_cfg.T), dtype=jnp.int32)\n",
    "    param_spec = jax.eval_shape(\n",
    "        lambda key2, x: model.init(key2, x, train=False), key2, x\n",
    "    )\n",
    "    param_spec_out = nn.get_partition_spec(param_spec)\n",
    "\n",
    "    init_specs = (None, P(None, \"model\"))\n",
    "    init_fn_sharded = partial(\n",
    "        shard_map, mesh=mesh, in_specs=init_specs, out_specs=param_spec_out\n",
    "    )(model.init)\n",
    "\n",
    "    params = init_fn_sharded(jax.random.PRNGKey(0), x)\n",
    "    apply_fn_sharded = partial(\n",
    "        shard_map,\n",
    "        mesh=mesh,\n",
    "        in_specs=(param_spec_out, P(None, \"model\")),\n",
    "        out_specs=P(None, \"model\"),\n",
    "    )(lambda key2, x: model.apply(key2, x, train=False))\n",
    "\n",
    "    output = apply_fn_sharded(params, x)\n",
    "\n",
    "    # print(params)\n",
    "    # print_params(params)"
   ]
  },
  {
   "cell_type": "code",
   "execution_count": 17,
   "id": "5e5584df",
   "metadata": {},
   "outputs": [],
   "source": [
    "out, (cache, load) = output"
   ]
  },
  {
   "cell_type": "code",
   "execution_count": 18,
   "id": "12657b1b",
   "metadata": {},
   "outputs": [
    {
     "data": {
      "text/html": [
       "<pre style=\"white-space:pre;overflow-x:auto;line-height:normal;font-family:Menlo,'DejaVu Sans Mono',consolas,'Courier New',monospace\"><span style=\"color: #ffffff; text-decoration-color: #ffffff; background-color: #393b79\">         </span><span style=\"color: #ffffff; text-decoration-color: #ffffff; background-color: #d6616b\">         </span><span style=\"color: #ffffff; text-decoration-color: #ffffff; background-color: #8ca252\">         </span><span style=\"color: #ffffff; text-decoration-color: #ffffff; background-color: #de9ed6\">         </span><span style=\"color: #000000; text-decoration-color: #000000; background-color: #e7cb94\">         </span><span style=\"color: #ffffff; text-decoration-color: #ffffff; background-color: #6b6ecf\">         </span><span style=\"color: #ffffff; text-decoration-color: #ffffff; background-color: #a55194\">         </span><span style=\"color: #ffffff; text-decoration-color: #ffffff; background-color: #8c6d31\">         </span>\n",
       "<span style=\"color: #ffffff; text-decoration-color: #ffffff; background-color: #393b79\">         </span><span style=\"color: #ffffff; text-decoration-color: #ffffff; background-color: #d6616b\">         </span><span style=\"color: #ffffff; text-decoration-color: #ffffff; background-color: #8ca252\">         </span><span style=\"color: #ffffff; text-decoration-color: #ffffff; background-color: #de9ed6\">         </span><span style=\"color: #000000; text-decoration-color: #000000; background-color: #e7cb94\">         </span><span style=\"color: #ffffff; text-decoration-color: #ffffff; background-color: #6b6ecf\">         </span><span style=\"color: #ffffff; text-decoration-color: #ffffff; background-color: #a55194\">         </span><span style=\"color: #ffffff; text-decoration-color: #ffffff; background-color: #8c6d31\">         </span>\n",
       "<span style=\"color: #ffffff; text-decoration-color: #ffffff; background-color: #393b79\">         </span><span style=\"color: #ffffff; text-decoration-color: #ffffff; background-color: #d6616b\">         </span><span style=\"color: #ffffff; text-decoration-color: #ffffff; background-color: #8ca252\">         </span><span style=\"color: #ffffff; text-decoration-color: #ffffff; background-color: #de9ed6\">         </span><span style=\"color: #000000; text-decoration-color: #000000; background-color: #e7cb94\">         </span><span style=\"color: #ffffff; text-decoration-color: #ffffff; background-color: #6b6ecf\">         </span><span style=\"color: #ffffff; text-decoration-color: #ffffff; background-color: #a55194\">         </span><span style=\"color: #ffffff; text-decoration-color: #ffffff; background-color: #8c6d31\">         </span>\n",
       "<span style=\"color: #ffffff; text-decoration-color: #ffffff; background-color: #393b79\">         </span><span style=\"color: #ffffff; text-decoration-color: #ffffff; background-color: #d6616b\">         </span><span style=\"color: #ffffff; text-decoration-color: #ffffff; background-color: #8ca252\">         </span><span style=\"color: #ffffff; text-decoration-color: #ffffff; background-color: #de9ed6\">         </span><span style=\"color: #000000; text-decoration-color: #000000; background-color: #e7cb94\">         </span><span style=\"color: #ffffff; text-decoration-color: #ffffff; background-color: #6b6ecf\">         </span><span style=\"color: #ffffff; text-decoration-color: #ffffff; background-color: #a55194\">         </span><span style=\"color: #ffffff; text-decoration-color: #ffffff; background-color: #8c6d31\">         </span>\n",
       "<span style=\"color: #ffffff; text-decoration-color: #ffffff; background-color: #393b79\">         </span><span style=\"color: #ffffff; text-decoration-color: #ffffff; background-color: #d6616b\">         </span><span style=\"color: #ffffff; text-decoration-color: #ffffff; background-color: #8ca252\">         </span><span style=\"color: #ffffff; text-decoration-color: #ffffff; background-color: #de9ed6\">         </span><span style=\"color: #000000; text-decoration-color: #000000; background-color: #e7cb94\">         </span><span style=\"color: #ffffff; text-decoration-color: #ffffff; background-color: #6b6ecf\">         </span><span style=\"color: #ffffff; text-decoration-color: #ffffff; background-color: #a55194\">         </span><span style=\"color: #ffffff; text-decoration-color: #ffffff; background-color: #8c6d31\">         </span>\n",
       "<span style=\"color: #ffffff; text-decoration-color: #ffffff; background-color: #393b79\">  CPU 0  </span><span style=\"color: #ffffff; text-decoration-color: #ffffff; background-color: #d6616b\">  CPU 1  </span><span style=\"color: #ffffff; text-decoration-color: #ffffff; background-color: #8ca252\">  CPU 2  </span><span style=\"color: #ffffff; text-decoration-color: #ffffff; background-color: #de9ed6\">  CPU 3  </span><span style=\"color: #000000; text-decoration-color: #000000; background-color: #e7cb94\">  CPU 4  </span><span style=\"color: #ffffff; text-decoration-color: #ffffff; background-color: #6b6ecf\">  CPU 5  </span><span style=\"color: #ffffff; text-decoration-color: #ffffff; background-color: #a55194\">  CPU 6  </span><span style=\"color: #ffffff; text-decoration-color: #ffffff; background-color: #8c6d31\">  CPU 7  </span>\n",
       "<span style=\"color: #ffffff; text-decoration-color: #ffffff; background-color: #393b79\">         </span><span style=\"color: #ffffff; text-decoration-color: #ffffff; background-color: #d6616b\">         </span><span style=\"color: #ffffff; text-decoration-color: #ffffff; background-color: #8ca252\">         </span><span style=\"color: #ffffff; text-decoration-color: #ffffff; background-color: #de9ed6\">         </span><span style=\"color: #000000; text-decoration-color: #000000; background-color: #e7cb94\">         </span><span style=\"color: #ffffff; text-decoration-color: #ffffff; background-color: #6b6ecf\">         </span><span style=\"color: #ffffff; text-decoration-color: #ffffff; background-color: #a55194\">         </span><span style=\"color: #ffffff; text-decoration-color: #ffffff; background-color: #8c6d31\">         </span>\n",
       "<span style=\"color: #ffffff; text-decoration-color: #ffffff; background-color: #393b79\">         </span><span style=\"color: #ffffff; text-decoration-color: #ffffff; background-color: #d6616b\">         </span><span style=\"color: #ffffff; text-decoration-color: #ffffff; background-color: #8ca252\">         </span><span style=\"color: #ffffff; text-decoration-color: #ffffff; background-color: #de9ed6\">         </span><span style=\"color: #000000; text-decoration-color: #000000; background-color: #e7cb94\">         </span><span style=\"color: #ffffff; text-decoration-color: #ffffff; background-color: #6b6ecf\">         </span><span style=\"color: #ffffff; text-decoration-color: #ffffff; background-color: #a55194\">         </span><span style=\"color: #ffffff; text-decoration-color: #ffffff; background-color: #8c6d31\">         </span>\n",
       "<span style=\"color: #ffffff; text-decoration-color: #ffffff; background-color: #393b79\">         </span><span style=\"color: #ffffff; text-decoration-color: #ffffff; background-color: #d6616b\">         </span><span style=\"color: #ffffff; text-decoration-color: #ffffff; background-color: #8ca252\">         </span><span style=\"color: #ffffff; text-decoration-color: #ffffff; background-color: #de9ed6\">         </span><span style=\"color: #000000; text-decoration-color: #000000; background-color: #e7cb94\">         </span><span style=\"color: #ffffff; text-decoration-color: #ffffff; background-color: #6b6ecf\">         </span><span style=\"color: #ffffff; text-decoration-color: #ffffff; background-color: #a55194\">         </span><span style=\"color: #ffffff; text-decoration-color: #ffffff; background-color: #8c6d31\">         </span>\n",
       "<span style=\"color: #ffffff; text-decoration-color: #ffffff; background-color: #393b79\">         </span><span style=\"color: #ffffff; text-decoration-color: #ffffff; background-color: #d6616b\">         </span><span style=\"color: #ffffff; text-decoration-color: #ffffff; background-color: #8ca252\">         </span><span style=\"color: #ffffff; text-decoration-color: #ffffff; background-color: #de9ed6\">         </span><span style=\"color: #000000; text-decoration-color: #000000; background-color: #e7cb94\">         </span><span style=\"color: #ffffff; text-decoration-color: #ffffff; background-color: #6b6ecf\">         </span><span style=\"color: #ffffff; text-decoration-color: #ffffff; background-color: #a55194\">         </span><span style=\"color: #ffffff; text-decoration-color: #ffffff; background-color: #8c6d31\">         </span>\n",
       "<span style=\"color: #ffffff; text-decoration-color: #ffffff; background-color: #393b79\">         </span><span style=\"color: #ffffff; text-decoration-color: #ffffff; background-color: #d6616b\">         </span><span style=\"color: #ffffff; text-decoration-color: #ffffff; background-color: #8ca252\">         </span><span style=\"color: #ffffff; text-decoration-color: #ffffff; background-color: #de9ed6\">         </span><span style=\"color: #000000; text-decoration-color: #000000; background-color: #e7cb94\">         </span><span style=\"color: #ffffff; text-decoration-color: #ffffff; background-color: #6b6ecf\">         </span><span style=\"color: #ffffff; text-decoration-color: #ffffff; background-color: #a55194\">         </span><span style=\"color: #ffffff; text-decoration-color: #ffffff; background-color: #8c6d31\">         </span>\n",
       "</pre>\n"
      ],
      "text/plain": [
       "\u001b[38;2;255;255;255;48;2;57;59;121m         \u001b[0m\u001b[38;2;255;255;255;48;2;214;97;107m         \u001b[0m\u001b[38;2;255;255;255;48;2;140;162;82m         \u001b[0m\u001b[38;2;255;255;255;48;2;222;158;214m         \u001b[0m\u001b[38;2;0;0;0;48;2;231;203;148m         \u001b[0m\u001b[38;2;255;255;255;48;2;107;110;207m         \u001b[0m\u001b[38;2;255;255;255;48;2;165;81;148m         \u001b[0m\u001b[38;2;255;255;255;48;2;140;109;49m         \u001b[0m\n",
       "\u001b[38;2;255;255;255;48;2;57;59;121m         \u001b[0m\u001b[38;2;255;255;255;48;2;214;97;107m         \u001b[0m\u001b[38;2;255;255;255;48;2;140;162;82m         \u001b[0m\u001b[38;2;255;255;255;48;2;222;158;214m         \u001b[0m\u001b[38;2;0;0;0;48;2;231;203;148m         \u001b[0m\u001b[38;2;255;255;255;48;2;107;110;207m         \u001b[0m\u001b[38;2;255;255;255;48;2;165;81;148m         \u001b[0m\u001b[38;2;255;255;255;48;2;140;109;49m         \u001b[0m\n",
       "\u001b[38;2;255;255;255;48;2;57;59;121m         \u001b[0m\u001b[38;2;255;255;255;48;2;214;97;107m         \u001b[0m\u001b[38;2;255;255;255;48;2;140;162;82m         \u001b[0m\u001b[38;2;255;255;255;48;2;222;158;214m         \u001b[0m\u001b[38;2;0;0;0;48;2;231;203;148m         \u001b[0m\u001b[38;2;255;255;255;48;2;107;110;207m         \u001b[0m\u001b[38;2;255;255;255;48;2;165;81;148m         \u001b[0m\u001b[38;2;255;255;255;48;2;140;109;49m         \u001b[0m\n",
       "\u001b[38;2;255;255;255;48;2;57;59;121m         \u001b[0m\u001b[38;2;255;255;255;48;2;214;97;107m         \u001b[0m\u001b[38;2;255;255;255;48;2;140;162;82m         \u001b[0m\u001b[38;2;255;255;255;48;2;222;158;214m         \u001b[0m\u001b[38;2;0;0;0;48;2;231;203;148m         \u001b[0m\u001b[38;2;255;255;255;48;2;107;110;207m         \u001b[0m\u001b[38;2;255;255;255;48;2;165;81;148m         \u001b[0m\u001b[38;2;255;255;255;48;2;140;109;49m         \u001b[0m\n",
       "\u001b[38;2;255;255;255;48;2;57;59;121m         \u001b[0m\u001b[38;2;255;255;255;48;2;214;97;107m         \u001b[0m\u001b[38;2;255;255;255;48;2;140;162;82m         \u001b[0m\u001b[38;2;255;255;255;48;2;222;158;214m         \u001b[0m\u001b[38;2;0;0;0;48;2;231;203;148m         \u001b[0m\u001b[38;2;255;255;255;48;2;107;110;207m         \u001b[0m\u001b[38;2;255;255;255;48;2;165;81;148m         \u001b[0m\u001b[38;2;255;255;255;48;2;140;109;49m         \u001b[0m\n",
       "\u001b[38;2;255;255;255;48;2;57;59;121m  \u001b[0m\u001b[38;2;255;255;255;48;2;57;59;121mCPU 0\u001b[0m\u001b[38;2;255;255;255;48;2;57;59;121m  \u001b[0m\u001b[38;2;255;255;255;48;2;214;97;107m  \u001b[0m\u001b[38;2;255;255;255;48;2;214;97;107mCPU 1\u001b[0m\u001b[38;2;255;255;255;48;2;214;97;107m  \u001b[0m\u001b[38;2;255;255;255;48;2;140;162;82m  \u001b[0m\u001b[38;2;255;255;255;48;2;140;162;82mCPU 2\u001b[0m\u001b[38;2;255;255;255;48;2;140;162;82m  \u001b[0m\u001b[38;2;255;255;255;48;2;222;158;214m  \u001b[0m\u001b[38;2;255;255;255;48;2;222;158;214mCPU 3\u001b[0m\u001b[38;2;255;255;255;48;2;222;158;214m  \u001b[0m\u001b[38;2;0;0;0;48;2;231;203;148m  \u001b[0m\u001b[38;2;0;0;0;48;2;231;203;148mCPU 4\u001b[0m\u001b[38;2;0;0;0;48;2;231;203;148m  \u001b[0m\u001b[38;2;255;255;255;48;2;107;110;207m  \u001b[0m\u001b[38;2;255;255;255;48;2;107;110;207mCPU 5\u001b[0m\u001b[38;2;255;255;255;48;2;107;110;207m  \u001b[0m\u001b[38;2;255;255;255;48;2;165;81;148m  \u001b[0m\u001b[38;2;255;255;255;48;2;165;81;148mCPU 6\u001b[0m\u001b[38;2;255;255;255;48;2;165;81;148m  \u001b[0m\u001b[38;2;255;255;255;48;2;140;109;49m  \u001b[0m\u001b[38;2;255;255;255;48;2;140;109;49mCPU 7\u001b[0m\u001b[38;2;255;255;255;48;2;140;109;49m  \u001b[0m\n",
       "\u001b[38;2;255;255;255;48;2;57;59;121m         \u001b[0m\u001b[38;2;255;255;255;48;2;214;97;107m         \u001b[0m\u001b[38;2;255;255;255;48;2;140;162;82m         \u001b[0m\u001b[38;2;255;255;255;48;2;222;158;214m         \u001b[0m\u001b[38;2;0;0;0;48;2;231;203;148m         \u001b[0m\u001b[38;2;255;255;255;48;2;107;110;207m         \u001b[0m\u001b[38;2;255;255;255;48;2;165;81;148m         \u001b[0m\u001b[38;2;255;255;255;48;2;140;109;49m         \u001b[0m\n",
       "\u001b[38;2;255;255;255;48;2;57;59;121m         \u001b[0m\u001b[38;2;255;255;255;48;2;214;97;107m         \u001b[0m\u001b[38;2;255;255;255;48;2;140;162;82m         \u001b[0m\u001b[38;2;255;255;255;48;2;222;158;214m         \u001b[0m\u001b[38;2;0;0;0;48;2;231;203;148m         \u001b[0m\u001b[38;2;255;255;255;48;2;107;110;207m         \u001b[0m\u001b[38;2;255;255;255;48;2;165;81;148m         \u001b[0m\u001b[38;2;255;255;255;48;2;140;109;49m         \u001b[0m\n",
       "\u001b[38;2;255;255;255;48;2;57;59;121m         \u001b[0m\u001b[38;2;255;255;255;48;2;214;97;107m         \u001b[0m\u001b[38;2;255;255;255;48;2;140;162;82m         \u001b[0m\u001b[38;2;255;255;255;48;2;222;158;214m         \u001b[0m\u001b[38;2;0;0;0;48;2;231;203;148m         \u001b[0m\u001b[38;2;255;255;255;48;2;107;110;207m         \u001b[0m\u001b[38;2;255;255;255;48;2;165;81;148m         \u001b[0m\u001b[38;2;255;255;255;48;2;140;109;49m         \u001b[0m\n",
       "\u001b[38;2;255;255;255;48;2;57;59;121m         \u001b[0m\u001b[38;2;255;255;255;48;2;214;97;107m         \u001b[0m\u001b[38;2;255;255;255;48;2;140;162;82m         \u001b[0m\u001b[38;2;255;255;255;48;2;222;158;214m         \u001b[0m\u001b[38;2;0;0;0;48;2;231;203;148m         \u001b[0m\u001b[38;2;255;255;255;48;2;107;110;207m         \u001b[0m\u001b[38;2;255;255;255;48;2;165;81;148m         \u001b[0m\u001b[38;2;255;255;255;48;2;140;109;49m         \u001b[0m\n",
       "\u001b[38;2;255;255;255;48;2;57;59;121m         \u001b[0m\u001b[38;2;255;255;255;48;2;214;97;107m         \u001b[0m\u001b[38;2;255;255;255;48;2;140;162;82m         \u001b[0m\u001b[38;2;255;255;255;48;2;222;158;214m         \u001b[0m\u001b[38;2;0;0;0;48;2;231;203;148m         \u001b[0m\u001b[38;2;255;255;255;48;2;107;110;207m         \u001b[0m\u001b[38;2;255;255;255;48;2;165;81;148m         \u001b[0m\u001b[38;2;255;255;255;48;2;140;109;49m         \u001b[0m\n"
      ]
     },
     "metadata": {},
     "output_type": "display_data"
    },
    {
     "data": {
      "text/html": [
       "<pre style=\"white-space:pre;overflow-x:auto;line-height:normal;font-family:Menlo,'DejaVu Sans Mono',consolas,'Courier New',monospace\"><span style=\"color: #ffffff; text-decoration-color: #ffffff; background-color: #393b79\">CPU 0,1,2,3,4,5,6,7</span>\n",
       "<span style=\"color: #ffffff; text-decoration-color: #ffffff; background-color: #393b79\">                   </span>\n",
       "</pre>\n"
      ],
      "text/plain": [
       "\u001b[38;2;255;255;255;48;2;57;59;121mCPU 0,1,2,3,4,5,6,7\u001b[0m\n",
       "\u001b[38;2;255;255;255;48;2;57;59;121m                   \u001b[0m\n"
      ]
     },
     "metadata": {},
     "output_type": "display_data"
    },
    {
     "data": {
      "text/html": [
       "<pre style=\"white-space:pre;overflow-x:auto;line-height:normal;font-family:Menlo,'DejaVu Sans Mono',consolas,'Courier New',monospace\"><span style=\"color: #ffffff; text-decoration-color: #ffffff; background-color: #393b79\">CPU 0,1,2,3,4,5,6,7</span>\n",
       "<span style=\"color: #ffffff; text-decoration-color: #ffffff; background-color: #393b79\">                   </span>\n",
       "</pre>\n"
      ],
      "text/plain": [
       "\u001b[38;2;255;255;255;48;2;57;59;121mCPU 0,1,2,3,4,5,6,7\u001b[0m\n",
       "\u001b[38;2;255;255;255;48;2;57;59;121m                   \u001b[0m\n"
      ]
     },
     "metadata": {},
     "output_type": "display_data"
    },
    {
     "data": {
      "text/html": [
       "<pre style=\"white-space:pre;overflow-x:auto;line-height:normal;font-family:Menlo,'DejaVu Sans Mono',consolas,'Courier New',monospace\"><span style=\"color: #ffffff; text-decoration-color: #ffffff; background-color: #393b79\">CPU 0,1,2,3,4,5,6,7</span>\n",
       "<span style=\"color: #ffffff; text-decoration-color: #ffffff; background-color: #393b79\">                   </span>\n",
       "</pre>\n"
      ],
      "text/plain": [
       "\u001b[38;2;255;255;255;48;2;57;59;121mCPU 0,1,2,3,4,5,6,7\u001b[0m\n",
       "\u001b[38;2;255;255;255;48;2;57;59;121m                   \u001b[0m\n"
      ]
     },
     "metadata": {},
     "output_type": "display_data"
    },
    {
     "data": {
      "text/html": [
       "<pre style=\"white-space:pre;overflow-x:auto;line-height:normal;font-family:Menlo,'DejaVu Sans Mono',consolas,'Courier New',monospace\"><span style=\"color: #ffffff; text-decoration-color: #ffffff; background-color: #393b79\">          </span><span style=\"color: #ffffff; text-decoration-color: #ffffff; background-color: #d6616b\">          </span><span style=\"color: #ffffff; text-decoration-color: #ffffff; background-color: #8ca252\">          </span><span style=\"color: #ffffff; text-decoration-color: #ffffff; background-color: #de9ed6\">          </span><span style=\"color: #000000; text-decoration-color: #000000; background-color: #e7cb94\">          </span><span style=\"color: #ffffff; text-decoration-color: #ffffff; background-color: #6b6ecf\">          </span><span style=\"color: #ffffff; text-decoration-color: #ffffff; background-color: #a55194\">          </span><span style=\"color: #ffffff; text-decoration-color: #ffffff; background-color: #8c6d31\">          </span>\n",
       "<span style=\"color: #ffffff; text-decoration-color: #ffffff; background-color: #393b79\">          </span><span style=\"color: #ffffff; text-decoration-color: #ffffff; background-color: #d6616b\">          </span><span style=\"color: #ffffff; text-decoration-color: #ffffff; background-color: #8ca252\">          </span><span style=\"color: #ffffff; text-decoration-color: #ffffff; background-color: #de9ed6\">          </span><span style=\"color: #000000; text-decoration-color: #000000; background-color: #e7cb94\">          </span><span style=\"color: #ffffff; text-decoration-color: #ffffff; background-color: #6b6ecf\">          </span><span style=\"color: #ffffff; text-decoration-color: #ffffff; background-color: #a55194\">          </span><span style=\"color: #ffffff; text-decoration-color: #ffffff; background-color: #8c6d31\">          </span>\n",
       "<span style=\"color: #ffffff; text-decoration-color: #ffffff; background-color: #393b79\">          </span><span style=\"color: #ffffff; text-decoration-color: #ffffff; background-color: #d6616b\">          </span><span style=\"color: #ffffff; text-decoration-color: #ffffff; background-color: #8ca252\">          </span><span style=\"color: #ffffff; text-decoration-color: #ffffff; background-color: #de9ed6\">          </span><span style=\"color: #000000; text-decoration-color: #000000; background-color: #e7cb94\">          </span><span style=\"color: #ffffff; text-decoration-color: #ffffff; background-color: #6b6ecf\">          </span><span style=\"color: #ffffff; text-decoration-color: #ffffff; background-color: #a55194\">          </span><span style=\"color: #ffffff; text-decoration-color: #ffffff; background-color: #8c6d31\">          </span>\n",
       "<span style=\"color: #ffffff; text-decoration-color: #ffffff; background-color: #393b79\">          </span><span style=\"color: #ffffff; text-decoration-color: #ffffff; background-color: #d6616b\">          </span><span style=\"color: #ffffff; text-decoration-color: #ffffff; background-color: #8ca252\">          </span><span style=\"color: #ffffff; text-decoration-color: #ffffff; background-color: #de9ed6\">          </span><span style=\"color: #000000; text-decoration-color: #000000; background-color: #e7cb94\">          </span><span style=\"color: #ffffff; text-decoration-color: #ffffff; background-color: #6b6ecf\">          </span><span style=\"color: #ffffff; text-decoration-color: #ffffff; background-color: #a55194\">          </span><span style=\"color: #ffffff; text-decoration-color: #ffffff; background-color: #8c6d31\">          </span>\n",
       "<span style=\"color: #ffffff; text-decoration-color: #ffffff; background-color: #393b79\">          </span><span style=\"color: #ffffff; text-decoration-color: #ffffff; background-color: #d6616b\">          </span><span style=\"color: #ffffff; text-decoration-color: #ffffff; background-color: #8ca252\">          </span><span style=\"color: #ffffff; text-decoration-color: #ffffff; background-color: #de9ed6\">          </span><span style=\"color: #000000; text-decoration-color: #000000; background-color: #e7cb94\">          </span><span style=\"color: #ffffff; text-decoration-color: #ffffff; background-color: #6b6ecf\">          </span><span style=\"color: #ffffff; text-decoration-color: #ffffff; background-color: #a55194\">          </span><span style=\"color: #ffffff; text-decoration-color: #ffffff; background-color: #8c6d31\">          </span>\n",
       "<span style=\"color: #ffffff; text-decoration-color: #ffffff; background-color: #393b79\">          </span><span style=\"color: #ffffff; text-decoration-color: #ffffff; background-color: #d6616b\">          </span><span style=\"color: #ffffff; text-decoration-color: #ffffff; background-color: #8ca252\">          </span><span style=\"color: #ffffff; text-decoration-color: #ffffff; background-color: #de9ed6\">          </span><span style=\"color: #000000; text-decoration-color: #000000; background-color: #e7cb94\">          </span><span style=\"color: #ffffff; text-decoration-color: #ffffff; background-color: #6b6ecf\">          </span><span style=\"color: #ffffff; text-decoration-color: #ffffff; background-color: #a55194\">          </span><span style=\"color: #ffffff; text-decoration-color: #ffffff; background-color: #8c6d31\">          </span>\n",
       "<span style=\"color: #ffffff; text-decoration-color: #ffffff; background-color: #393b79\">          </span><span style=\"color: #ffffff; text-decoration-color: #ffffff; background-color: #d6616b\">          </span><span style=\"color: #ffffff; text-decoration-color: #ffffff; background-color: #8ca252\">          </span><span style=\"color: #ffffff; text-decoration-color: #ffffff; background-color: #de9ed6\">          </span><span style=\"color: #000000; text-decoration-color: #000000; background-color: #e7cb94\">          </span><span style=\"color: #ffffff; text-decoration-color: #ffffff; background-color: #6b6ecf\">          </span><span style=\"color: #ffffff; text-decoration-color: #ffffff; background-color: #a55194\">          </span><span style=\"color: #ffffff; text-decoration-color: #ffffff; background-color: #8c6d31\">          </span>\n",
       "<span style=\"color: #ffffff; text-decoration-color: #ffffff; background-color: #393b79\">          </span><span style=\"color: #ffffff; text-decoration-color: #ffffff; background-color: #d6616b\">          </span><span style=\"color: #ffffff; text-decoration-color: #ffffff; background-color: #8ca252\">          </span><span style=\"color: #ffffff; text-decoration-color: #ffffff; background-color: #de9ed6\">          </span><span style=\"color: #000000; text-decoration-color: #000000; background-color: #e7cb94\">          </span><span style=\"color: #ffffff; text-decoration-color: #ffffff; background-color: #6b6ecf\">          </span><span style=\"color: #ffffff; text-decoration-color: #ffffff; background-color: #a55194\">          </span><span style=\"color: #ffffff; text-decoration-color: #ffffff; background-color: #8c6d31\">          </span>\n",
       "<span style=\"color: #ffffff; text-decoration-color: #ffffff; background-color: #393b79\">          </span><span style=\"color: #ffffff; text-decoration-color: #ffffff; background-color: #d6616b\">          </span><span style=\"color: #ffffff; text-decoration-color: #ffffff; background-color: #8ca252\">          </span><span style=\"color: #ffffff; text-decoration-color: #ffffff; background-color: #de9ed6\">          </span><span style=\"color: #000000; text-decoration-color: #000000; background-color: #e7cb94\">          </span><span style=\"color: #ffffff; text-decoration-color: #ffffff; background-color: #6b6ecf\">          </span><span style=\"color: #ffffff; text-decoration-color: #ffffff; background-color: #a55194\">          </span><span style=\"color: #ffffff; text-decoration-color: #ffffff; background-color: #8c6d31\">          </span>\n",
       "<span style=\"color: #ffffff; text-decoration-color: #ffffff; background-color: #393b79\">          </span><span style=\"color: #ffffff; text-decoration-color: #ffffff; background-color: #d6616b\">          </span><span style=\"color: #ffffff; text-decoration-color: #ffffff; background-color: #8ca252\">          </span><span style=\"color: #ffffff; text-decoration-color: #ffffff; background-color: #de9ed6\">          </span><span style=\"color: #000000; text-decoration-color: #000000; background-color: #e7cb94\">          </span><span style=\"color: #ffffff; text-decoration-color: #ffffff; background-color: #6b6ecf\">          </span><span style=\"color: #ffffff; text-decoration-color: #ffffff; background-color: #a55194\">          </span><span style=\"color: #ffffff; text-decoration-color: #ffffff; background-color: #8c6d31\">          </span>\n",
       "</pre>\n"
      ],
      "text/plain": [
       "\u001b[38;2;255;255;255;48;2;57;59;121m          \u001b[0m\u001b[38;2;255;255;255;48;2;214;97;107m          \u001b[0m\u001b[38;2;255;255;255;48;2;140;162;82m          \u001b[0m\u001b[38;2;255;255;255;48;2;222;158;214m          \u001b[0m\u001b[38;2;0;0;0;48;2;231;203;148m          \u001b[0m\u001b[38;2;255;255;255;48;2;107;110;207m          \u001b[0m\u001b[38;2;255;255;255;48;2;165;81;148m          \u001b[0m\u001b[38;2;255;255;255;48;2;140;109;49m          \u001b[0m\n",
       "\u001b[38;2;255;255;255;48;2;57;59;121m          \u001b[0m\u001b[38;2;255;255;255;48;2;214;97;107m          \u001b[0m\u001b[38;2;255;255;255;48;2;140;162;82m          \u001b[0m\u001b[38;2;255;255;255;48;2;222;158;214m          \u001b[0m\u001b[38;2;0;0;0;48;2;231;203;148m          \u001b[0m\u001b[38;2;255;255;255;48;2;107;110;207m          \u001b[0m\u001b[38;2;255;255;255;48;2;165;81;148m          \u001b[0m\u001b[38;2;255;255;255;48;2;140;109;49m          \u001b[0m\n",
       "\u001b[38;2;255;255;255;48;2;57;59;121m          \u001b[0m\u001b[38;2;255;255;255;48;2;214;97;107m          \u001b[0m\u001b[38;2;255;255;255;48;2;140;162;82m          \u001b[0m\u001b[38;2;255;255;255;48;2;222;158;214m          \u001b[0m\u001b[38;2;0;0;0;48;2;231;203;148m          \u001b[0m\u001b[38;2;255;255;255;48;2;107;110;207m          \u001b[0m\u001b[38;2;255;255;255;48;2;165;81;148m          \u001b[0m\u001b[38;2;255;255;255;48;2;140;109;49m          \u001b[0m\n",
       "\u001b[38;2;255;255;255;48;2;57;59;121m          \u001b[0m\u001b[38;2;255;255;255;48;2;214;97;107m          \u001b[0m\u001b[38;2;255;255;255;48;2;140;162;82m          \u001b[0m\u001b[38;2;255;255;255;48;2;222;158;214m          \u001b[0m\u001b[38;2;0;0;0;48;2;231;203;148m          \u001b[0m\u001b[38;2;255;255;255;48;2;107;110;207m          \u001b[0m\u001b[38;2;255;255;255;48;2;165;81;148m          \u001b[0m\u001b[38;2;255;255;255;48;2;140;109;49m          \u001b[0m\n",
       "\u001b[38;2;255;255;255;48;2;57;59;121m          \u001b[0m\u001b[38;2;255;255;255;48;2;214;97;107m          \u001b[0m\u001b[38;2;255;255;255;48;2;140;162;82m          \u001b[0m\u001b[38;2;255;255;255;48;2;222;158;214m          \u001b[0m\u001b[38;2;0;0;0;48;2;231;203;148m          \u001b[0m\u001b[38;2;255;255;255;48;2;107;110;207m          \u001b[0m\u001b[38;2;255;255;255;48;2;165;81;148m          \u001b[0m\u001b[38;2;255;255;255;48;2;140;109;49m          \u001b[0m\n",
       "\u001b[38;2;255;255;255;48;2;57;59;121m          \u001b[0m\u001b[38;2;255;255;255;48;2;214;97;107m          \u001b[0m\u001b[38;2;255;255;255;48;2;140;162;82m          \u001b[0m\u001b[38;2;255;255;255;48;2;222;158;214m          \u001b[0m\u001b[38;2;0;0;0;48;2;231;203;148m          \u001b[0m\u001b[38;2;255;255;255;48;2;107;110;207m          \u001b[0m\u001b[38;2;255;255;255;48;2;165;81;148m          \u001b[0m\u001b[38;2;255;255;255;48;2;140;109;49m          \u001b[0m\n",
       "\u001b[38;2;255;255;255;48;2;57;59;121m          \u001b[0m\u001b[38;2;255;255;255;48;2;214;97;107m          \u001b[0m\u001b[38;2;255;255;255;48;2;140;162;82m          \u001b[0m\u001b[38;2;255;255;255;48;2;222;158;214m          \u001b[0m\u001b[38;2;0;0;0;48;2;231;203;148m          \u001b[0m\u001b[38;2;255;255;255;48;2;107;110;207m          \u001b[0m\u001b[38;2;255;255;255;48;2;165;81;148m          \u001b[0m\u001b[38;2;255;255;255;48;2;140;109;49m          \u001b[0m\n",
       "\u001b[38;2;255;255;255;48;2;57;59;121m          \u001b[0m\u001b[38;2;255;255;255;48;2;214;97;107m          \u001b[0m\u001b[38;2;255;255;255;48;2;140;162;82m          \u001b[0m\u001b[38;2;255;255;255;48;2;222;158;214m          \u001b[0m\u001b[38;2;0;0;0;48;2;231;203;148m          \u001b[0m\u001b[38;2;255;255;255;48;2;107;110;207m          \u001b[0m\u001b[38;2;255;255;255;48;2;165;81;148m          \u001b[0m\u001b[38;2;255;255;255;48;2;140;109;49m          \u001b[0m\n",
       "\u001b[38;2;255;255;255;48;2;57;59;121m          \u001b[0m\u001b[38;2;255;255;255;48;2;214;97;107m          \u001b[0m\u001b[38;2;255;255;255;48;2;140;162;82m          \u001b[0m\u001b[38;2;255;255;255;48;2;222;158;214m          \u001b[0m\u001b[38;2;0;0;0;48;2;231;203;148m          \u001b[0m\u001b[38;2;255;255;255;48;2;107;110;207m          \u001b[0m\u001b[38;2;255;255;255;48;2;165;81;148m          \u001b[0m\u001b[38;2;255;255;255;48;2;140;109;49m          \u001b[0m\n",
       "\u001b[38;2;255;255;255;48;2;57;59;121m          \u001b[0m\u001b[38;2;255;255;255;48;2;214;97;107m          \u001b[0m\u001b[38;2;255;255;255;48;2;140;162;82m          \u001b[0m\u001b[38;2;255;255;255;48;2;222;158;214m          \u001b[0m\u001b[38;2;0;0;0;48;2;231;203;148m          \u001b[0m\u001b[38;2;255;255;255;48;2;107;110;207m          \u001b[0m\u001b[38;2;255;255;255;48;2;165;81;148m          \u001b[0m\u001b[38;2;255;255;255;48;2;140;109;49m          \u001b[0m\n"
      ]
     },
     "metadata": {},
     "output_type": "display_data"
    },
    {
     "data": {
      "text/html": [
       "<pre style=\"white-space:pre;overflow-x:auto;line-height:normal;font-family:Menlo,'DejaVu Sans Mono',consolas,'Courier New',monospace\"><span style=\"color: #ffffff; text-decoration-color: #ffffff; background-color: #393b79\">CPU 0,1,2,3,4,5,6,7</span>\n",
       "<span style=\"color: #ffffff; text-decoration-color: #ffffff; background-color: #393b79\">                   </span>\n",
       "</pre>\n"
      ],
      "text/plain": [
       "\u001b[38;2;255;255;255;48;2;57;59;121mCPU 0,1,2,3,4,5,6,7\u001b[0m\n",
       "\u001b[38;2;255;255;255;48;2;57;59;121m                   \u001b[0m\n"
      ]
     },
     "metadata": {},
     "output_type": "display_data"
    },
    {
     "data": {
      "text/html": [
       "<pre style=\"white-space:pre;overflow-x:auto;line-height:normal;font-family:Menlo,'DejaVu Sans Mono',consolas,'Courier New',monospace\"><span style=\"color: #ffffff; text-decoration-color: #ffffff; background-color: #393b79\">         </span><span style=\"color: #ffffff; text-decoration-color: #ffffff; background-color: #d6616b\">         </span><span style=\"color: #ffffff; text-decoration-color: #ffffff; background-color: #8ca252\">         </span><span style=\"color: #ffffff; text-decoration-color: #ffffff; background-color: #de9ed6\">         </span><span style=\"color: #000000; text-decoration-color: #000000; background-color: #e7cb94\">         </span><span style=\"color: #ffffff; text-decoration-color: #ffffff; background-color: #6b6ecf\">         </span><span style=\"color: #ffffff; text-decoration-color: #ffffff; background-color: #a55194\">         </span><span style=\"color: #ffffff; text-decoration-color: #ffffff; background-color: #8c6d31\">         </span>\n",
       "<span style=\"color: #ffffff; text-decoration-color: #ffffff; background-color: #393b79\">         </span><span style=\"color: #ffffff; text-decoration-color: #ffffff; background-color: #d6616b\">         </span><span style=\"color: #ffffff; text-decoration-color: #ffffff; background-color: #8ca252\">         </span><span style=\"color: #ffffff; text-decoration-color: #ffffff; background-color: #de9ed6\">         </span><span style=\"color: #000000; text-decoration-color: #000000; background-color: #e7cb94\">         </span><span style=\"color: #ffffff; text-decoration-color: #ffffff; background-color: #6b6ecf\">         </span><span style=\"color: #ffffff; text-decoration-color: #ffffff; background-color: #a55194\">         </span><span style=\"color: #ffffff; text-decoration-color: #ffffff; background-color: #8c6d31\">         </span>\n",
       "<span style=\"color: #ffffff; text-decoration-color: #ffffff; background-color: #393b79\">         </span><span style=\"color: #ffffff; text-decoration-color: #ffffff; background-color: #d6616b\">         </span><span style=\"color: #ffffff; text-decoration-color: #ffffff; background-color: #8ca252\">         </span><span style=\"color: #ffffff; text-decoration-color: #ffffff; background-color: #de9ed6\">         </span><span style=\"color: #000000; text-decoration-color: #000000; background-color: #e7cb94\">         </span><span style=\"color: #ffffff; text-decoration-color: #ffffff; background-color: #6b6ecf\">         </span><span style=\"color: #ffffff; text-decoration-color: #ffffff; background-color: #a55194\">         </span><span style=\"color: #ffffff; text-decoration-color: #ffffff; background-color: #8c6d31\">         </span>\n",
       "<span style=\"color: #ffffff; text-decoration-color: #ffffff; background-color: #393b79\">         </span><span style=\"color: #ffffff; text-decoration-color: #ffffff; background-color: #d6616b\">         </span><span style=\"color: #ffffff; text-decoration-color: #ffffff; background-color: #8ca252\">         </span><span style=\"color: #ffffff; text-decoration-color: #ffffff; background-color: #de9ed6\">         </span><span style=\"color: #000000; text-decoration-color: #000000; background-color: #e7cb94\">         </span><span style=\"color: #ffffff; text-decoration-color: #ffffff; background-color: #6b6ecf\">         </span><span style=\"color: #ffffff; text-decoration-color: #ffffff; background-color: #a55194\">         </span><span style=\"color: #ffffff; text-decoration-color: #ffffff; background-color: #8c6d31\">         </span>\n",
       "<span style=\"color: #ffffff; text-decoration-color: #ffffff; background-color: #393b79\">         </span><span style=\"color: #ffffff; text-decoration-color: #ffffff; background-color: #d6616b\">         </span><span style=\"color: #ffffff; text-decoration-color: #ffffff; background-color: #8ca252\">         </span><span style=\"color: #ffffff; text-decoration-color: #ffffff; background-color: #de9ed6\">         </span><span style=\"color: #000000; text-decoration-color: #000000; background-color: #e7cb94\">         </span><span style=\"color: #ffffff; text-decoration-color: #ffffff; background-color: #6b6ecf\">         </span><span style=\"color: #ffffff; text-decoration-color: #ffffff; background-color: #a55194\">         </span><span style=\"color: #ffffff; text-decoration-color: #ffffff; background-color: #8c6d31\">         </span>\n",
       "<span style=\"color: #ffffff; text-decoration-color: #ffffff; background-color: #393b79\">  CPU 0  </span><span style=\"color: #ffffff; text-decoration-color: #ffffff; background-color: #d6616b\">  CPU 1  </span><span style=\"color: #ffffff; text-decoration-color: #ffffff; background-color: #8ca252\">  CPU 2  </span><span style=\"color: #ffffff; text-decoration-color: #ffffff; background-color: #de9ed6\">  CPU 3  </span><span style=\"color: #000000; text-decoration-color: #000000; background-color: #e7cb94\">  CPU 4  </span><span style=\"color: #ffffff; text-decoration-color: #ffffff; background-color: #6b6ecf\">  CPU 5  </span><span style=\"color: #ffffff; text-decoration-color: #ffffff; background-color: #a55194\">  CPU 6  </span><span style=\"color: #ffffff; text-decoration-color: #ffffff; background-color: #8c6d31\">  CPU 7  </span>\n",
       "<span style=\"color: #ffffff; text-decoration-color: #ffffff; background-color: #393b79\">         </span><span style=\"color: #ffffff; text-decoration-color: #ffffff; background-color: #d6616b\">         </span><span style=\"color: #ffffff; text-decoration-color: #ffffff; background-color: #8ca252\">         </span><span style=\"color: #ffffff; text-decoration-color: #ffffff; background-color: #de9ed6\">         </span><span style=\"color: #000000; text-decoration-color: #000000; background-color: #e7cb94\">         </span><span style=\"color: #ffffff; text-decoration-color: #ffffff; background-color: #6b6ecf\">         </span><span style=\"color: #ffffff; text-decoration-color: #ffffff; background-color: #a55194\">         </span><span style=\"color: #ffffff; text-decoration-color: #ffffff; background-color: #8c6d31\">         </span>\n",
       "<span style=\"color: #ffffff; text-decoration-color: #ffffff; background-color: #393b79\">         </span><span style=\"color: #ffffff; text-decoration-color: #ffffff; background-color: #d6616b\">         </span><span style=\"color: #ffffff; text-decoration-color: #ffffff; background-color: #8ca252\">         </span><span style=\"color: #ffffff; text-decoration-color: #ffffff; background-color: #de9ed6\">         </span><span style=\"color: #000000; text-decoration-color: #000000; background-color: #e7cb94\">         </span><span style=\"color: #ffffff; text-decoration-color: #ffffff; background-color: #6b6ecf\">         </span><span style=\"color: #ffffff; text-decoration-color: #ffffff; background-color: #a55194\">         </span><span style=\"color: #ffffff; text-decoration-color: #ffffff; background-color: #8c6d31\">         </span>\n",
       "<span style=\"color: #ffffff; text-decoration-color: #ffffff; background-color: #393b79\">         </span><span style=\"color: #ffffff; text-decoration-color: #ffffff; background-color: #d6616b\">         </span><span style=\"color: #ffffff; text-decoration-color: #ffffff; background-color: #8ca252\">         </span><span style=\"color: #ffffff; text-decoration-color: #ffffff; background-color: #de9ed6\">         </span><span style=\"color: #000000; text-decoration-color: #000000; background-color: #e7cb94\">         </span><span style=\"color: #ffffff; text-decoration-color: #ffffff; background-color: #6b6ecf\">         </span><span style=\"color: #ffffff; text-decoration-color: #ffffff; background-color: #a55194\">         </span><span style=\"color: #ffffff; text-decoration-color: #ffffff; background-color: #8c6d31\">         </span>\n",
       "<span style=\"color: #ffffff; text-decoration-color: #ffffff; background-color: #393b79\">         </span><span style=\"color: #ffffff; text-decoration-color: #ffffff; background-color: #d6616b\">         </span><span style=\"color: #ffffff; text-decoration-color: #ffffff; background-color: #8ca252\">         </span><span style=\"color: #ffffff; text-decoration-color: #ffffff; background-color: #de9ed6\">         </span><span style=\"color: #000000; text-decoration-color: #000000; background-color: #e7cb94\">         </span><span style=\"color: #ffffff; text-decoration-color: #ffffff; background-color: #6b6ecf\">         </span><span style=\"color: #ffffff; text-decoration-color: #ffffff; background-color: #a55194\">         </span><span style=\"color: #ffffff; text-decoration-color: #ffffff; background-color: #8c6d31\">         </span>\n",
       "<span style=\"color: #ffffff; text-decoration-color: #ffffff; background-color: #393b79\">         </span><span style=\"color: #ffffff; text-decoration-color: #ffffff; background-color: #d6616b\">         </span><span style=\"color: #ffffff; text-decoration-color: #ffffff; background-color: #8ca252\">         </span><span style=\"color: #ffffff; text-decoration-color: #ffffff; background-color: #de9ed6\">         </span><span style=\"color: #000000; text-decoration-color: #000000; background-color: #e7cb94\">         </span><span style=\"color: #ffffff; text-decoration-color: #ffffff; background-color: #6b6ecf\">         </span><span style=\"color: #ffffff; text-decoration-color: #ffffff; background-color: #a55194\">         </span><span style=\"color: #ffffff; text-decoration-color: #ffffff; background-color: #8c6d31\">         </span>\n",
       "</pre>\n"
      ],
      "text/plain": [
       "\u001b[38;2;255;255;255;48;2;57;59;121m         \u001b[0m\u001b[38;2;255;255;255;48;2;214;97;107m         \u001b[0m\u001b[38;2;255;255;255;48;2;140;162;82m         \u001b[0m\u001b[38;2;255;255;255;48;2;222;158;214m         \u001b[0m\u001b[38;2;0;0;0;48;2;231;203;148m         \u001b[0m\u001b[38;2;255;255;255;48;2;107;110;207m         \u001b[0m\u001b[38;2;255;255;255;48;2;165;81;148m         \u001b[0m\u001b[38;2;255;255;255;48;2;140;109;49m         \u001b[0m\n",
       "\u001b[38;2;255;255;255;48;2;57;59;121m         \u001b[0m\u001b[38;2;255;255;255;48;2;214;97;107m         \u001b[0m\u001b[38;2;255;255;255;48;2;140;162;82m         \u001b[0m\u001b[38;2;255;255;255;48;2;222;158;214m         \u001b[0m\u001b[38;2;0;0;0;48;2;231;203;148m         \u001b[0m\u001b[38;2;255;255;255;48;2;107;110;207m         \u001b[0m\u001b[38;2;255;255;255;48;2;165;81;148m         \u001b[0m\u001b[38;2;255;255;255;48;2;140;109;49m         \u001b[0m\n",
       "\u001b[38;2;255;255;255;48;2;57;59;121m         \u001b[0m\u001b[38;2;255;255;255;48;2;214;97;107m         \u001b[0m\u001b[38;2;255;255;255;48;2;140;162;82m         \u001b[0m\u001b[38;2;255;255;255;48;2;222;158;214m         \u001b[0m\u001b[38;2;0;0;0;48;2;231;203;148m         \u001b[0m\u001b[38;2;255;255;255;48;2;107;110;207m         \u001b[0m\u001b[38;2;255;255;255;48;2;165;81;148m         \u001b[0m\u001b[38;2;255;255;255;48;2;140;109;49m         \u001b[0m\n",
       "\u001b[38;2;255;255;255;48;2;57;59;121m         \u001b[0m\u001b[38;2;255;255;255;48;2;214;97;107m         \u001b[0m\u001b[38;2;255;255;255;48;2;140;162;82m         \u001b[0m\u001b[38;2;255;255;255;48;2;222;158;214m         \u001b[0m\u001b[38;2;0;0;0;48;2;231;203;148m         \u001b[0m\u001b[38;2;255;255;255;48;2;107;110;207m         \u001b[0m\u001b[38;2;255;255;255;48;2;165;81;148m         \u001b[0m\u001b[38;2;255;255;255;48;2;140;109;49m         \u001b[0m\n",
       "\u001b[38;2;255;255;255;48;2;57;59;121m         \u001b[0m\u001b[38;2;255;255;255;48;2;214;97;107m         \u001b[0m\u001b[38;2;255;255;255;48;2;140;162;82m         \u001b[0m\u001b[38;2;255;255;255;48;2;222;158;214m         \u001b[0m\u001b[38;2;0;0;0;48;2;231;203;148m         \u001b[0m\u001b[38;2;255;255;255;48;2;107;110;207m         \u001b[0m\u001b[38;2;255;255;255;48;2;165;81;148m         \u001b[0m\u001b[38;2;255;255;255;48;2;140;109;49m         \u001b[0m\n",
       "\u001b[38;2;255;255;255;48;2;57;59;121m  \u001b[0m\u001b[38;2;255;255;255;48;2;57;59;121mCPU 0\u001b[0m\u001b[38;2;255;255;255;48;2;57;59;121m  \u001b[0m\u001b[38;2;255;255;255;48;2;214;97;107m  \u001b[0m\u001b[38;2;255;255;255;48;2;214;97;107mCPU 1\u001b[0m\u001b[38;2;255;255;255;48;2;214;97;107m  \u001b[0m\u001b[38;2;255;255;255;48;2;140;162;82m  \u001b[0m\u001b[38;2;255;255;255;48;2;140;162;82mCPU 2\u001b[0m\u001b[38;2;255;255;255;48;2;140;162;82m  \u001b[0m\u001b[38;2;255;255;255;48;2;222;158;214m  \u001b[0m\u001b[38;2;255;255;255;48;2;222;158;214mCPU 3\u001b[0m\u001b[38;2;255;255;255;48;2;222;158;214m  \u001b[0m\u001b[38;2;0;0;0;48;2;231;203;148m  \u001b[0m\u001b[38;2;0;0;0;48;2;231;203;148mCPU 4\u001b[0m\u001b[38;2;0;0;0;48;2;231;203;148m  \u001b[0m\u001b[38;2;255;255;255;48;2;107;110;207m  \u001b[0m\u001b[38;2;255;255;255;48;2;107;110;207mCPU 5\u001b[0m\u001b[38;2;255;255;255;48;2;107;110;207m  \u001b[0m\u001b[38;2;255;255;255;48;2;165;81;148m  \u001b[0m\u001b[38;2;255;255;255;48;2;165;81;148mCPU 6\u001b[0m\u001b[38;2;255;255;255;48;2;165;81;148m  \u001b[0m\u001b[38;2;255;255;255;48;2;140;109;49m  \u001b[0m\u001b[38;2;255;255;255;48;2;140;109;49mCPU 7\u001b[0m\u001b[38;2;255;255;255;48;2;140;109;49m  \u001b[0m\n",
       "\u001b[38;2;255;255;255;48;2;57;59;121m         \u001b[0m\u001b[38;2;255;255;255;48;2;214;97;107m         \u001b[0m\u001b[38;2;255;255;255;48;2;140;162;82m         \u001b[0m\u001b[38;2;255;255;255;48;2;222;158;214m         \u001b[0m\u001b[38;2;0;0;0;48;2;231;203;148m         \u001b[0m\u001b[38;2;255;255;255;48;2;107;110;207m         \u001b[0m\u001b[38;2;255;255;255;48;2;165;81;148m         \u001b[0m\u001b[38;2;255;255;255;48;2;140;109;49m         \u001b[0m\n",
       "\u001b[38;2;255;255;255;48;2;57;59;121m         \u001b[0m\u001b[38;2;255;255;255;48;2;214;97;107m         \u001b[0m\u001b[38;2;255;255;255;48;2;140;162;82m         \u001b[0m\u001b[38;2;255;255;255;48;2;222;158;214m         \u001b[0m\u001b[38;2;0;0;0;48;2;231;203;148m         \u001b[0m\u001b[38;2;255;255;255;48;2;107;110;207m         \u001b[0m\u001b[38;2;255;255;255;48;2;165;81;148m         \u001b[0m\u001b[38;2;255;255;255;48;2;140;109;49m         \u001b[0m\n",
       "\u001b[38;2;255;255;255;48;2;57;59;121m         \u001b[0m\u001b[38;2;255;255;255;48;2;214;97;107m         \u001b[0m\u001b[38;2;255;255;255;48;2;140;162;82m         \u001b[0m\u001b[38;2;255;255;255;48;2;222;158;214m         \u001b[0m\u001b[38;2;0;0;0;48;2;231;203;148m         \u001b[0m\u001b[38;2;255;255;255;48;2;107;110;207m         \u001b[0m\u001b[38;2;255;255;255;48;2;165;81;148m         \u001b[0m\u001b[38;2;255;255;255;48;2;140;109;49m         \u001b[0m\n",
       "\u001b[38;2;255;255;255;48;2;57;59;121m         \u001b[0m\u001b[38;2;255;255;255;48;2;214;97;107m         \u001b[0m\u001b[38;2;255;255;255;48;2;140;162;82m         \u001b[0m\u001b[38;2;255;255;255;48;2;222;158;214m         \u001b[0m\u001b[38;2;0;0;0;48;2;231;203;148m         \u001b[0m\u001b[38;2;255;255;255;48;2;107;110;207m         \u001b[0m\u001b[38;2;255;255;255;48;2;165;81;148m         \u001b[0m\u001b[38;2;255;255;255;48;2;140;109;49m         \u001b[0m\n",
       "\u001b[38;2;255;255;255;48;2;57;59;121m         \u001b[0m\u001b[38;2;255;255;255;48;2;214;97;107m         \u001b[0m\u001b[38;2;255;255;255;48;2;140;162;82m         \u001b[0m\u001b[38;2;255;255;255;48;2;222;158;214m         \u001b[0m\u001b[38;2;0;0;0;48;2;231;203;148m         \u001b[0m\u001b[38;2;255;255;255;48;2;107;110;207m         \u001b[0m\u001b[38;2;255;255;255;48;2;165;81;148m         \u001b[0m\u001b[38;2;255;255;255;48;2;140;109;49m         \u001b[0m\n"
      ]
     },
     "metadata": {},
     "output_type": "display_data"
    },
    {
     "data": {
      "text/html": [
       "<pre style=\"white-space:pre;overflow-x:auto;line-height:normal;font-family:Menlo,'DejaVu Sans Mono',consolas,'Courier New',monospace\"><span style=\"color: #ffffff; text-decoration-color: #ffffff; background-color: #393b79\">CPU 0,1,2,3,4,5,6,7</span>\n",
       "<span style=\"color: #ffffff; text-decoration-color: #ffffff; background-color: #393b79\">                   </span>\n",
       "</pre>\n"
      ],
      "text/plain": [
       "\u001b[38;2;255;255;255;48;2;57;59;121mCPU 0,1,2,3,4,5,6,7\u001b[0m\n",
       "\u001b[38;2;255;255;255;48;2;57;59;121m                   \u001b[0m\n"
      ]
     },
     "metadata": {},
     "output_type": "display_data"
    },
    {
     "data": {
      "text/html": [
       "<pre style=\"white-space:pre;overflow-x:auto;line-height:normal;font-family:Menlo,'DejaVu Sans Mono',consolas,'Courier New',monospace\"><span style=\"color: #ffffff; text-decoration-color: #ffffff; background-color: #393b79\">CPU 0,1,2,3,4,5,6,7</span>\n",
       "<span style=\"color: #ffffff; text-decoration-color: #ffffff; background-color: #393b79\">                   </span>\n",
       "</pre>\n"
      ],
      "text/plain": [
       "\u001b[38;2;255;255;255;48;2;57;59;121mCPU 0,1,2,3,4,5,6,7\u001b[0m\n",
       "\u001b[38;2;255;255;255;48;2;57;59;121m                   \u001b[0m\n"
      ]
     },
     "metadata": {},
     "output_type": "display_data"
    },
    {
     "data": {
      "text/html": [
       "<pre style=\"white-space:pre;overflow-x:auto;line-height:normal;font-family:Menlo,'DejaVu Sans Mono',consolas,'Courier New',monospace\"><span style=\"color: #ffffff; text-decoration-color: #ffffff; background-color: #393b79\">CPU 0,1,2,3,4,5,6,7</span>\n",
       "<span style=\"color: #ffffff; text-decoration-color: #ffffff; background-color: #393b79\">                   </span>\n",
       "</pre>\n"
      ],
      "text/plain": [
       "\u001b[38;2;255;255;255;48;2;57;59;121mCPU 0,1,2,3,4,5,6,7\u001b[0m\n",
       "\u001b[38;2;255;255;255;48;2;57;59;121m                   \u001b[0m\n"
      ]
     },
     "metadata": {},
     "output_type": "display_data"
    },
    {
     "data": {
      "text/html": [
       "<pre style=\"white-space:pre;overflow-x:auto;line-height:normal;font-family:Menlo,'DejaVu Sans Mono',consolas,'Courier New',monospace\"><span style=\"color: #ffffff; text-decoration-color: #ffffff; background-color: #393b79\">CPU 0,1,2,3,4,5,6,7</span>\n",
       "<span style=\"color: #ffffff; text-decoration-color: #ffffff; background-color: #393b79\">                   </span>\n",
       "</pre>\n"
      ],
      "text/plain": [
       "\u001b[38;2;255;255;255;48;2;57;59;121mCPU 0,1,2,3,4,5,6,7\u001b[0m\n",
       "\u001b[38;2;255;255;255;48;2;57;59;121m                   \u001b[0m\n"
      ]
     },
     "metadata": {},
     "output_type": "display_data"
    },
    {
     "data": {
      "text/html": [
       "<pre style=\"white-space:pre;overflow-x:auto;line-height:normal;font-family:Menlo,'DejaVu Sans Mono',consolas,'Courier New',monospace\"><span style=\"color: #ffffff; text-decoration-color: #ffffff; background-color: #393b79\">CPU 0,1,2,3,4,5,6,7</span>\n",
       "<span style=\"color: #ffffff; text-decoration-color: #ffffff; background-color: #393b79\">                   </span>\n",
       "</pre>\n"
      ],
      "text/plain": [
       "\u001b[38;2;255;255;255;48;2;57;59;121mCPU 0,1,2,3,4,5,6,7\u001b[0m\n",
       "\u001b[38;2;255;255;255;48;2;57;59;121m                   \u001b[0m\n"
      ]
     },
     "metadata": {},
     "output_type": "display_data"
    },
    {
     "data": {
      "text/html": [
       "<pre style=\"white-space:pre;overflow-x:auto;line-height:normal;font-family:Menlo,'DejaVu Sans Mono',consolas,'Courier New',monospace\"><span style=\"color: #ffffff; text-decoration-color: #ffffff; background-color: #393b79\">          </span><span style=\"color: #ffffff; text-decoration-color: #ffffff; background-color: #d6616b\">          </span><span style=\"color: #ffffff; text-decoration-color: #ffffff; background-color: #8ca252\">          </span><span style=\"color: #ffffff; text-decoration-color: #ffffff; background-color: #de9ed6\">          </span><span style=\"color: #000000; text-decoration-color: #000000; background-color: #e7cb94\">          </span><span style=\"color: #ffffff; text-decoration-color: #ffffff; background-color: #6b6ecf\">          </span><span style=\"color: #ffffff; text-decoration-color: #ffffff; background-color: #a55194\">          </span><span style=\"color: #ffffff; text-decoration-color: #ffffff; background-color: #8c6d31\">          </span>\n",
       "<span style=\"color: #ffffff; text-decoration-color: #ffffff; background-color: #393b79\">          </span><span style=\"color: #ffffff; text-decoration-color: #ffffff; background-color: #d6616b\">          </span><span style=\"color: #ffffff; text-decoration-color: #ffffff; background-color: #8ca252\">          </span><span style=\"color: #ffffff; text-decoration-color: #ffffff; background-color: #de9ed6\">          </span><span style=\"color: #000000; text-decoration-color: #000000; background-color: #e7cb94\">          </span><span style=\"color: #ffffff; text-decoration-color: #ffffff; background-color: #6b6ecf\">          </span><span style=\"color: #ffffff; text-decoration-color: #ffffff; background-color: #a55194\">          </span><span style=\"color: #ffffff; text-decoration-color: #ffffff; background-color: #8c6d31\">          </span>\n",
       "<span style=\"color: #ffffff; text-decoration-color: #ffffff; background-color: #393b79\">          </span><span style=\"color: #ffffff; text-decoration-color: #ffffff; background-color: #d6616b\">          </span><span style=\"color: #ffffff; text-decoration-color: #ffffff; background-color: #8ca252\">          </span><span style=\"color: #ffffff; text-decoration-color: #ffffff; background-color: #de9ed6\">          </span><span style=\"color: #000000; text-decoration-color: #000000; background-color: #e7cb94\">          </span><span style=\"color: #ffffff; text-decoration-color: #ffffff; background-color: #6b6ecf\">          </span><span style=\"color: #ffffff; text-decoration-color: #ffffff; background-color: #a55194\">          </span><span style=\"color: #ffffff; text-decoration-color: #ffffff; background-color: #8c6d31\">          </span>\n",
       "<span style=\"color: #ffffff; text-decoration-color: #ffffff; background-color: #393b79\">          </span><span style=\"color: #ffffff; text-decoration-color: #ffffff; background-color: #d6616b\">          </span><span style=\"color: #ffffff; text-decoration-color: #ffffff; background-color: #8ca252\">          </span><span style=\"color: #ffffff; text-decoration-color: #ffffff; background-color: #de9ed6\">          </span><span style=\"color: #000000; text-decoration-color: #000000; background-color: #e7cb94\">          </span><span style=\"color: #ffffff; text-decoration-color: #ffffff; background-color: #6b6ecf\">          </span><span style=\"color: #ffffff; text-decoration-color: #ffffff; background-color: #a55194\">          </span><span style=\"color: #ffffff; text-decoration-color: #ffffff; background-color: #8c6d31\">          </span>\n",
       "<span style=\"color: #ffffff; text-decoration-color: #ffffff; background-color: #393b79\">          </span><span style=\"color: #ffffff; text-decoration-color: #ffffff; background-color: #d6616b\">          </span><span style=\"color: #ffffff; text-decoration-color: #ffffff; background-color: #8ca252\">          </span><span style=\"color: #ffffff; text-decoration-color: #ffffff; background-color: #de9ed6\">          </span><span style=\"color: #000000; text-decoration-color: #000000; background-color: #e7cb94\">          </span><span style=\"color: #ffffff; text-decoration-color: #ffffff; background-color: #6b6ecf\">          </span><span style=\"color: #ffffff; text-decoration-color: #ffffff; background-color: #a55194\">          </span><span style=\"color: #ffffff; text-decoration-color: #ffffff; background-color: #8c6d31\">          </span>\n",
       "<span style=\"color: #ffffff; text-decoration-color: #ffffff; background-color: #393b79\">   CPU    </span><span style=\"color: #ffffff; text-decoration-color: #ffffff; background-color: #d6616b\">   CPU    </span><span style=\"color: #ffffff; text-decoration-color: #ffffff; background-color: #8ca252\">   CPU    </span><span style=\"color: #ffffff; text-decoration-color: #ffffff; background-color: #de9ed6\">   CPU    </span><span style=\"color: #000000; text-decoration-color: #000000; background-color: #e7cb94\">   CPU    </span><span style=\"color: #ffffff; text-decoration-color: #ffffff; background-color: #6b6ecf\">   CPU    </span><span style=\"color: #ffffff; text-decoration-color: #ffffff; background-color: #a55194\">   CPU    </span><span style=\"color: #ffffff; text-decoration-color: #ffffff; background-color: #8c6d31\">   CPU    </span>\n",
       "<span style=\"color: #ffffff; text-decoration-color: #ffffff; background-color: #393b79\">   0      </span><span style=\"color: #ffffff; text-decoration-color: #ffffff; background-color: #d6616b\">   1      </span><span style=\"color: #ffffff; text-decoration-color: #ffffff; background-color: #8ca252\">   2      </span><span style=\"color: #ffffff; text-decoration-color: #ffffff; background-color: #de9ed6\">   3      </span><span style=\"color: #000000; text-decoration-color: #000000; background-color: #e7cb94\">   4      </span><span style=\"color: #ffffff; text-decoration-color: #ffffff; background-color: #6b6ecf\">   5      </span><span style=\"color: #ffffff; text-decoration-color: #ffffff; background-color: #a55194\">   6      </span><span style=\"color: #ffffff; text-decoration-color: #ffffff; background-color: #8c6d31\">   7      </span>\n",
       "<span style=\"color: #ffffff; text-decoration-color: #ffffff; background-color: #393b79\">          </span><span style=\"color: #ffffff; text-decoration-color: #ffffff; background-color: #d6616b\">          </span><span style=\"color: #ffffff; text-decoration-color: #ffffff; background-color: #8ca252\">          </span><span style=\"color: #ffffff; text-decoration-color: #ffffff; background-color: #de9ed6\">          </span><span style=\"color: #000000; text-decoration-color: #000000; background-color: #e7cb94\">          </span><span style=\"color: #ffffff; text-decoration-color: #ffffff; background-color: #6b6ecf\">          </span><span style=\"color: #ffffff; text-decoration-color: #ffffff; background-color: #a55194\">          </span><span style=\"color: #ffffff; text-decoration-color: #ffffff; background-color: #8c6d31\">          </span>\n",
       "<span style=\"color: #ffffff; text-decoration-color: #ffffff; background-color: #393b79\">          </span><span style=\"color: #ffffff; text-decoration-color: #ffffff; background-color: #d6616b\">          </span><span style=\"color: #ffffff; text-decoration-color: #ffffff; background-color: #8ca252\">          </span><span style=\"color: #ffffff; text-decoration-color: #ffffff; background-color: #de9ed6\">          </span><span style=\"color: #000000; text-decoration-color: #000000; background-color: #e7cb94\">          </span><span style=\"color: #ffffff; text-decoration-color: #ffffff; background-color: #6b6ecf\">          </span><span style=\"color: #ffffff; text-decoration-color: #ffffff; background-color: #a55194\">          </span><span style=\"color: #ffffff; text-decoration-color: #ffffff; background-color: #8c6d31\">          </span>\n",
       "<span style=\"color: #ffffff; text-decoration-color: #ffffff; background-color: #393b79\">          </span><span style=\"color: #ffffff; text-decoration-color: #ffffff; background-color: #d6616b\">          </span><span style=\"color: #ffffff; text-decoration-color: #ffffff; background-color: #8ca252\">          </span><span style=\"color: #ffffff; text-decoration-color: #ffffff; background-color: #de9ed6\">          </span><span style=\"color: #000000; text-decoration-color: #000000; background-color: #e7cb94\">          </span><span style=\"color: #ffffff; text-decoration-color: #ffffff; background-color: #6b6ecf\">          </span><span style=\"color: #ffffff; text-decoration-color: #ffffff; background-color: #a55194\">          </span><span style=\"color: #ffffff; text-decoration-color: #ffffff; background-color: #8c6d31\">          </span>\n",
       "<span style=\"color: #ffffff; text-decoration-color: #ffffff; background-color: #393b79\">          </span><span style=\"color: #ffffff; text-decoration-color: #ffffff; background-color: #d6616b\">          </span><span style=\"color: #ffffff; text-decoration-color: #ffffff; background-color: #8ca252\">          </span><span style=\"color: #ffffff; text-decoration-color: #ffffff; background-color: #de9ed6\">          </span><span style=\"color: #000000; text-decoration-color: #000000; background-color: #e7cb94\">          </span><span style=\"color: #ffffff; text-decoration-color: #ffffff; background-color: #6b6ecf\">          </span><span style=\"color: #ffffff; text-decoration-color: #ffffff; background-color: #a55194\">          </span><span style=\"color: #ffffff; text-decoration-color: #ffffff; background-color: #8c6d31\">          </span>\n",
       "<span style=\"color: #ffffff; text-decoration-color: #ffffff; background-color: #393b79\">          </span><span style=\"color: #ffffff; text-decoration-color: #ffffff; background-color: #d6616b\">          </span><span style=\"color: #ffffff; text-decoration-color: #ffffff; background-color: #8ca252\">          </span><span style=\"color: #ffffff; text-decoration-color: #ffffff; background-color: #de9ed6\">          </span><span style=\"color: #000000; text-decoration-color: #000000; background-color: #e7cb94\">          </span><span style=\"color: #ffffff; text-decoration-color: #ffffff; background-color: #6b6ecf\">          </span><span style=\"color: #ffffff; text-decoration-color: #ffffff; background-color: #a55194\">          </span><span style=\"color: #ffffff; text-decoration-color: #ffffff; background-color: #8c6d31\">          </span>\n",
       "</pre>\n"
      ],
      "text/plain": [
       "\u001b[38;2;255;255;255;48;2;57;59;121m          \u001b[0m\u001b[38;2;255;255;255;48;2;214;97;107m          \u001b[0m\u001b[38;2;255;255;255;48;2;140;162;82m          \u001b[0m\u001b[38;2;255;255;255;48;2;222;158;214m          \u001b[0m\u001b[38;2;0;0;0;48;2;231;203;148m          \u001b[0m\u001b[38;2;255;255;255;48;2;107;110;207m          \u001b[0m\u001b[38;2;255;255;255;48;2;165;81;148m          \u001b[0m\u001b[38;2;255;255;255;48;2;140;109;49m          \u001b[0m\n",
       "\u001b[38;2;255;255;255;48;2;57;59;121m          \u001b[0m\u001b[38;2;255;255;255;48;2;214;97;107m          \u001b[0m\u001b[38;2;255;255;255;48;2;140;162;82m          \u001b[0m\u001b[38;2;255;255;255;48;2;222;158;214m          \u001b[0m\u001b[38;2;0;0;0;48;2;231;203;148m          \u001b[0m\u001b[38;2;255;255;255;48;2;107;110;207m          \u001b[0m\u001b[38;2;255;255;255;48;2;165;81;148m          \u001b[0m\u001b[38;2;255;255;255;48;2;140;109;49m          \u001b[0m\n",
       "\u001b[38;2;255;255;255;48;2;57;59;121m          \u001b[0m\u001b[38;2;255;255;255;48;2;214;97;107m          \u001b[0m\u001b[38;2;255;255;255;48;2;140;162;82m          \u001b[0m\u001b[38;2;255;255;255;48;2;222;158;214m          \u001b[0m\u001b[38;2;0;0;0;48;2;231;203;148m          \u001b[0m\u001b[38;2;255;255;255;48;2;107;110;207m          \u001b[0m\u001b[38;2;255;255;255;48;2;165;81;148m          \u001b[0m\u001b[38;2;255;255;255;48;2;140;109;49m          \u001b[0m\n",
       "\u001b[38;2;255;255;255;48;2;57;59;121m          \u001b[0m\u001b[38;2;255;255;255;48;2;214;97;107m          \u001b[0m\u001b[38;2;255;255;255;48;2;140;162;82m          \u001b[0m\u001b[38;2;255;255;255;48;2;222;158;214m          \u001b[0m\u001b[38;2;0;0;0;48;2;231;203;148m          \u001b[0m\u001b[38;2;255;255;255;48;2;107;110;207m          \u001b[0m\u001b[38;2;255;255;255;48;2;165;81;148m          \u001b[0m\u001b[38;2;255;255;255;48;2;140;109;49m          \u001b[0m\n",
       "\u001b[38;2;255;255;255;48;2;57;59;121m          \u001b[0m\u001b[38;2;255;255;255;48;2;214;97;107m          \u001b[0m\u001b[38;2;255;255;255;48;2;140;162;82m          \u001b[0m\u001b[38;2;255;255;255;48;2;222;158;214m          \u001b[0m\u001b[38;2;0;0;0;48;2;231;203;148m          \u001b[0m\u001b[38;2;255;255;255;48;2;107;110;207m          \u001b[0m\u001b[38;2;255;255;255;48;2;165;81;148m          \u001b[0m\u001b[38;2;255;255;255;48;2;140;109;49m          \u001b[0m\n",
       "\u001b[38;2;255;255;255;48;2;57;59;121m   \u001b[0m\u001b[38;2;255;255;255;48;2;57;59;121mCPU\u001b[0m\u001b[38;2;255;255;255;48;2;57;59;121m    \u001b[0m\u001b[38;2;255;255;255;48;2;214;97;107m   \u001b[0m\u001b[38;2;255;255;255;48;2;214;97;107mCPU\u001b[0m\u001b[38;2;255;255;255;48;2;214;97;107m    \u001b[0m\u001b[38;2;255;255;255;48;2;140;162;82m   \u001b[0m\u001b[38;2;255;255;255;48;2;140;162;82mCPU\u001b[0m\u001b[38;2;255;255;255;48;2;140;162;82m    \u001b[0m\u001b[38;2;255;255;255;48;2;222;158;214m   \u001b[0m\u001b[38;2;255;255;255;48;2;222;158;214mCPU\u001b[0m\u001b[38;2;255;255;255;48;2;222;158;214m    \u001b[0m\u001b[38;2;0;0;0;48;2;231;203;148m   \u001b[0m\u001b[38;2;0;0;0;48;2;231;203;148mCPU\u001b[0m\u001b[38;2;0;0;0;48;2;231;203;148m    \u001b[0m\u001b[38;2;255;255;255;48;2;107;110;207m   \u001b[0m\u001b[38;2;255;255;255;48;2;107;110;207mCPU\u001b[0m\u001b[38;2;255;255;255;48;2;107;110;207m    \u001b[0m\u001b[38;2;255;255;255;48;2;165;81;148m   \u001b[0m\u001b[38;2;255;255;255;48;2;165;81;148mCPU\u001b[0m\u001b[38;2;255;255;255;48;2;165;81;148m    \u001b[0m\u001b[38;2;255;255;255;48;2;140;109;49m   \u001b[0m\u001b[38;2;255;255;255;48;2;140;109;49mCPU\u001b[0m\u001b[38;2;255;255;255;48;2;140;109;49m    \u001b[0m\n",
       "\u001b[38;2;255;255;255;48;2;57;59;121m   \u001b[0m\u001b[38;2;255;255;255;48;2;57;59;121m0  \u001b[0m\u001b[38;2;255;255;255;48;2;57;59;121m    \u001b[0m\u001b[38;2;255;255;255;48;2;214;97;107m   \u001b[0m\u001b[38;2;255;255;255;48;2;214;97;107m1  \u001b[0m\u001b[38;2;255;255;255;48;2;214;97;107m    \u001b[0m\u001b[38;2;255;255;255;48;2;140;162;82m   \u001b[0m\u001b[38;2;255;255;255;48;2;140;162;82m2  \u001b[0m\u001b[38;2;255;255;255;48;2;140;162;82m    \u001b[0m\u001b[38;2;255;255;255;48;2;222;158;214m   \u001b[0m\u001b[38;2;255;255;255;48;2;222;158;214m3  \u001b[0m\u001b[38;2;255;255;255;48;2;222;158;214m    \u001b[0m\u001b[38;2;0;0;0;48;2;231;203;148m   \u001b[0m\u001b[38;2;0;0;0;48;2;231;203;148m4  \u001b[0m\u001b[38;2;0;0;0;48;2;231;203;148m    \u001b[0m\u001b[38;2;255;255;255;48;2;107;110;207m   \u001b[0m\u001b[38;2;255;255;255;48;2;107;110;207m5  \u001b[0m\u001b[38;2;255;255;255;48;2;107;110;207m    \u001b[0m\u001b[38;2;255;255;255;48;2;165;81;148m   \u001b[0m\u001b[38;2;255;255;255;48;2;165;81;148m6  \u001b[0m\u001b[38;2;255;255;255;48;2;165;81;148m    \u001b[0m\u001b[38;2;255;255;255;48;2;140;109;49m   \u001b[0m\u001b[38;2;255;255;255;48;2;140;109;49m7  \u001b[0m\u001b[38;2;255;255;255;48;2;140;109;49m    \u001b[0m\n",
       "\u001b[38;2;255;255;255;48;2;57;59;121m          \u001b[0m\u001b[38;2;255;255;255;48;2;214;97;107m          \u001b[0m\u001b[38;2;255;255;255;48;2;140;162;82m          \u001b[0m\u001b[38;2;255;255;255;48;2;222;158;214m          \u001b[0m\u001b[38;2;0;0;0;48;2;231;203;148m          \u001b[0m\u001b[38;2;255;255;255;48;2;107;110;207m          \u001b[0m\u001b[38;2;255;255;255;48;2;165;81;148m          \u001b[0m\u001b[38;2;255;255;255;48;2;140;109;49m          \u001b[0m\n",
       "\u001b[38;2;255;255;255;48;2;57;59;121m          \u001b[0m\u001b[38;2;255;255;255;48;2;214;97;107m          \u001b[0m\u001b[38;2;255;255;255;48;2;140;162;82m          \u001b[0m\u001b[38;2;255;255;255;48;2;222;158;214m          \u001b[0m\u001b[38;2;0;0;0;48;2;231;203;148m          \u001b[0m\u001b[38;2;255;255;255;48;2;107;110;207m          \u001b[0m\u001b[38;2;255;255;255;48;2;165;81;148m          \u001b[0m\u001b[38;2;255;255;255;48;2;140;109;49m          \u001b[0m\n",
       "\u001b[38;2;255;255;255;48;2;57;59;121m          \u001b[0m\u001b[38;2;255;255;255;48;2;214;97;107m          \u001b[0m\u001b[38;2;255;255;255;48;2;140;162;82m          \u001b[0m\u001b[38;2;255;255;255;48;2;222;158;214m          \u001b[0m\u001b[38;2;0;0;0;48;2;231;203;148m          \u001b[0m\u001b[38;2;255;255;255;48;2;107;110;207m          \u001b[0m\u001b[38;2;255;255;255;48;2;165;81;148m          \u001b[0m\u001b[38;2;255;255;255;48;2;140;109;49m          \u001b[0m\n",
       "\u001b[38;2;255;255;255;48;2;57;59;121m          \u001b[0m\u001b[38;2;255;255;255;48;2;214;97;107m          \u001b[0m\u001b[38;2;255;255;255;48;2;140;162;82m          \u001b[0m\u001b[38;2;255;255;255;48;2;222;158;214m          \u001b[0m\u001b[38;2;0;0;0;48;2;231;203;148m          \u001b[0m\u001b[38;2;255;255;255;48;2;107;110;207m          \u001b[0m\u001b[38;2;255;255;255;48;2;165;81;148m          \u001b[0m\u001b[38;2;255;255;255;48;2;140;109;49m          \u001b[0m\n",
       "\u001b[38;2;255;255;255;48;2;57;59;121m          \u001b[0m\u001b[38;2;255;255;255;48;2;214;97;107m          \u001b[0m\u001b[38;2;255;255;255;48;2;140;162;82m          \u001b[0m\u001b[38;2;255;255;255;48;2;222;158;214m          \u001b[0m\u001b[38;2;0;0;0;48;2;231;203;148m          \u001b[0m\u001b[38;2;255;255;255;48;2;107;110;207m          \u001b[0m\u001b[38;2;255;255;255;48;2;165;81;148m          \u001b[0m\u001b[38;2;255;255;255;48;2;140;109;49m          \u001b[0m\n"
      ]
     },
     "metadata": {},
     "output_type": "display_data"
    },
    {
     "data": {
      "text/html": [
       "<pre style=\"white-space:pre;overflow-x:auto;line-height:normal;font-family:Menlo,'DejaVu Sans Mono',consolas,'Courier New',monospace\"><span style=\"color: #ffffff; text-decoration-color: #ffffff; background-color: #393b79\">CPU 0,1,2,3,4,5,6,7</span>\n",
       "<span style=\"color: #ffffff; text-decoration-color: #ffffff; background-color: #393b79\">                   </span>\n",
       "</pre>\n"
      ],
      "text/plain": [
       "\u001b[38;2;255;255;255;48;2;57;59;121mCPU 0,1,2,3,4,5,6,7\u001b[0m\n",
       "\u001b[38;2;255;255;255;48;2;57;59;121m                   \u001b[0m\n"
      ]
     },
     "metadata": {},
     "output_type": "display_data"
    },
    {
     "data": {
      "text/html": [
       "<pre style=\"white-space:pre;overflow-x:auto;line-height:normal;font-family:Menlo,'DejaVu Sans Mono',consolas,'Courier New',monospace\"><span style=\"color: #ffffff; text-decoration-color: #ffffff; background-color: #393b79\">          </span><span style=\"color: #ffffff; text-decoration-color: #ffffff; background-color: #d6616b\">          </span><span style=\"color: #ffffff; text-decoration-color: #ffffff; background-color: #8ca252\">          </span><span style=\"color: #ffffff; text-decoration-color: #ffffff; background-color: #de9ed6\">          </span><span style=\"color: #000000; text-decoration-color: #000000; background-color: #e7cb94\">          </span><span style=\"color: #ffffff; text-decoration-color: #ffffff; background-color: #6b6ecf\">          </span><span style=\"color: #ffffff; text-decoration-color: #ffffff; background-color: #a55194\">          </span><span style=\"color: #ffffff; text-decoration-color: #ffffff; background-color: #8c6d31\">          </span>\n",
       "<span style=\"color: #ffffff; text-decoration-color: #ffffff; background-color: #393b79\">          </span><span style=\"color: #ffffff; text-decoration-color: #ffffff; background-color: #d6616b\">          </span><span style=\"color: #ffffff; text-decoration-color: #ffffff; background-color: #8ca252\">          </span><span style=\"color: #ffffff; text-decoration-color: #ffffff; background-color: #de9ed6\">          </span><span style=\"color: #000000; text-decoration-color: #000000; background-color: #e7cb94\">          </span><span style=\"color: #ffffff; text-decoration-color: #ffffff; background-color: #6b6ecf\">          </span><span style=\"color: #ffffff; text-decoration-color: #ffffff; background-color: #a55194\">          </span><span style=\"color: #ffffff; text-decoration-color: #ffffff; background-color: #8c6d31\">          </span>\n",
       "<span style=\"color: #ffffff; text-decoration-color: #ffffff; background-color: #393b79\">          </span><span style=\"color: #ffffff; text-decoration-color: #ffffff; background-color: #d6616b\">          </span><span style=\"color: #ffffff; text-decoration-color: #ffffff; background-color: #8ca252\">          </span><span style=\"color: #ffffff; text-decoration-color: #ffffff; background-color: #de9ed6\">          </span><span style=\"color: #000000; text-decoration-color: #000000; background-color: #e7cb94\">          </span><span style=\"color: #ffffff; text-decoration-color: #ffffff; background-color: #6b6ecf\">          </span><span style=\"color: #ffffff; text-decoration-color: #ffffff; background-color: #a55194\">          </span><span style=\"color: #ffffff; text-decoration-color: #ffffff; background-color: #8c6d31\">          </span>\n",
       "<span style=\"color: #ffffff; text-decoration-color: #ffffff; background-color: #393b79\">          </span><span style=\"color: #ffffff; text-decoration-color: #ffffff; background-color: #d6616b\">          </span><span style=\"color: #ffffff; text-decoration-color: #ffffff; background-color: #8ca252\">          </span><span style=\"color: #ffffff; text-decoration-color: #ffffff; background-color: #de9ed6\">          </span><span style=\"color: #000000; text-decoration-color: #000000; background-color: #e7cb94\">          </span><span style=\"color: #ffffff; text-decoration-color: #ffffff; background-color: #6b6ecf\">          </span><span style=\"color: #ffffff; text-decoration-color: #ffffff; background-color: #a55194\">          </span><span style=\"color: #ffffff; text-decoration-color: #ffffff; background-color: #8c6d31\">          </span>\n",
       "<span style=\"color: #ffffff; text-decoration-color: #ffffff; background-color: #393b79\">          </span><span style=\"color: #ffffff; text-decoration-color: #ffffff; background-color: #d6616b\">          </span><span style=\"color: #ffffff; text-decoration-color: #ffffff; background-color: #8ca252\">          </span><span style=\"color: #ffffff; text-decoration-color: #ffffff; background-color: #de9ed6\">          </span><span style=\"color: #000000; text-decoration-color: #000000; background-color: #e7cb94\">          </span><span style=\"color: #ffffff; text-decoration-color: #ffffff; background-color: #6b6ecf\">          </span><span style=\"color: #ffffff; text-decoration-color: #ffffff; background-color: #a55194\">          </span><span style=\"color: #ffffff; text-decoration-color: #ffffff; background-color: #8c6d31\">          </span>\n",
       "<span style=\"color: #ffffff; text-decoration-color: #ffffff; background-color: #393b79\">          </span><span style=\"color: #ffffff; text-decoration-color: #ffffff; background-color: #d6616b\">          </span><span style=\"color: #ffffff; text-decoration-color: #ffffff; background-color: #8ca252\">          </span><span style=\"color: #ffffff; text-decoration-color: #ffffff; background-color: #de9ed6\">          </span><span style=\"color: #000000; text-decoration-color: #000000; background-color: #e7cb94\">          </span><span style=\"color: #ffffff; text-decoration-color: #ffffff; background-color: #6b6ecf\">          </span><span style=\"color: #ffffff; text-decoration-color: #ffffff; background-color: #a55194\">          </span><span style=\"color: #ffffff; text-decoration-color: #ffffff; background-color: #8c6d31\">          </span>\n",
       "<span style=\"color: #ffffff; text-decoration-color: #ffffff; background-color: #393b79\">          </span><span style=\"color: #ffffff; text-decoration-color: #ffffff; background-color: #d6616b\">          </span><span style=\"color: #ffffff; text-decoration-color: #ffffff; background-color: #8ca252\">          </span><span style=\"color: #ffffff; text-decoration-color: #ffffff; background-color: #de9ed6\">          </span><span style=\"color: #000000; text-decoration-color: #000000; background-color: #e7cb94\">          </span><span style=\"color: #ffffff; text-decoration-color: #ffffff; background-color: #6b6ecf\">          </span><span style=\"color: #ffffff; text-decoration-color: #ffffff; background-color: #a55194\">          </span><span style=\"color: #ffffff; text-decoration-color: #ffffff; background-color: #8c6d31\">          </span>\n",
       "<span style=\"color: #ffffff; text-decoration-color: #ffffff; background-color: #393b79\">          </span><span style=\"color: #ffffff; text-decoration-color: #ffffff; background-color: #d6616b\">          </span><span style=\"color: #ffffff; text-decoration-color: #ffffff; background-color: #8ca252\">          </span><span style=\"color: #ffffff; text-decoration-color: #ffffff; background-color: #de9ed6\">          </span><span style=\"color: #000000; text-decoration-color: #000000; background-color: #e7cb94\">          </span><span style=\"color: #ffffff; text-decoration-color: #ffffff; background-color: #6b6ecf\">          </span><span style=\"color: #ffffff; text-decoration-color: #ffffff; background-color: #a55194\">          </span><span style=\"color: #ffffff; text-decoration-color: #ffffff; background-color: #8c6d31\">          </span>\n",
       "<span style=\"color: #ffffff; text-decoration-color: #ffffff; background-color: #393b79\">          </span><span style=\"color: #ffffff; text-decoration-color: #ffffff; background-color: #d6616b\">          </span><span style=\"color: #ffffff; text-decoration-color: #ffffff; background-color: #8ca252\">          </span><span style=\"color: #ffffff; text-decoration-color: #ffffff; background-color: #de9ed6\">          </span><span style=\"color: #000000; text-decoration-color: #000000; background-color: #e7cb94\">          </span><span style=\"color: #ffffff; text-decoration-color: #ffffff; background-color: #6b6ecf\">          </span><span style=\"color: #ffffff; text-decoration-color: #ffffff; background-color: #a55194\">          </span><span style=\"color: #ffffff; text-decoration-color: #ffffff; background-color: #8c6d31\">          </span>\n",
       "<span style=\"color: #ffffff; text-decoration-color: #ffffff; background-color: #393b79\">          </span><span style=\"color: #ffffff; text-decoration-color: #ffffff; background-color: #d6616b\">          </span><span style=\"color: #ffffff; text-decoration-color: #ffffff; background-color: #8ca252\">          </span><span style=\"color: #ffffff; text-decoration-color: #ffffff; background-color: #de9ed6\">          </span><span style=\"color: #000000; text-decoration-color: #000000; background-color: #e7cb94\">          </span><span style=\"color: #ffffff; text-decoration-color: #ffffff; background-color: #6b6ecf\">          </span><span style=\"color: #ffffff; text-decoration-color: #ffffff; background-color: #a55194\">          </span><span style=\"color: #ffffff; text-decoration-color: #ffffff; background-color: #8c6d31\">          </span>\n",
       "</pre>\n"
      ],
      "text/plain": [
       "\u001b[38;2;255;255;255;48;2;57;59;121m          \u001b[0m\u001b[38;2;255;255;255;48;2;214;97;107m          \u001b[0m\u001b[38;2;255;255;255;48;2;140;162;82m          \u001b[0m\u001b[38;2;255;255;255;48;2;222;158;214m          \u001b[0m\u001b[38;2;0;0;0;48;2;231;203;148m          \u001b[0m\u001b[38;2;255;255;255;48;2;107;110;207m          \u001b[0m\u001b[38;2;255;255;255;48;2;165;81;148m          \u001b[0m\u001b[38;2;255;255;255;48;2;140;109;49m          \u001b[0m\n",
       "\u001b[38;2;255;255;255;48;2;57;59;121m          \u001b[0m\u001b[38;2;255;255;255;48;2;214;97;107m          \u001b[0m\u001b[38;2;255;255;255;48;2;140;162;82m          \u001b[0m\u001b[38;2;255;255;255;48;2;222;158;214m          \u001b[0m\u001b[38;2;0;0;0;48;2;231;203;148m          \u001b[0m\u001b[38;2;255;255;255;48;2;107;110;207m          \u001b[0m\u001b[38;2;255;255;255;48;2;165;81;148m          \u001b[0m\u001b[38;2;255;255;255;48;2;140;109;49m          \u001b[0m\n",
       "\u001b[38;2;255;255;255;48;2;57;59;121m          \u001b[0m\u001b[38;2;255;255;255;48;2;214;97;107m          \u001b[0m\u001b[38;2;255;255;255;48;2;140;162;82m          \u001b[0m\u001b[38;2;255;255;255;48;2;222;158;214m          \u001b[0m\u001b[38;2;0;0;0;48;2;231;203;148m          \u001b[0m\u001b[38;2;255;255;255;48;2;107;110;207m          \u001b[0m\u001b[38;2;255;255;255;48;2;165;81;148m          \u001b[0m\u001b[38;2;255;255;255;48;2;140;109;49m          \u001b[0m\n",
       "\u001b[38;2;255;255;255;48;2;57;59;121m          \u001b[0m\u001b[38;2;255;255;255;48;2;214;97;107m          \u001b[0m\u001b[38;2;255;255;255;48;2;140;162;82m          \u001b[0m\u001b[38;2;255;255;255;48;2;222;158;214m          \u001b[0m\u001b[38;2;0;0;0;48;2;231;203;148m          \u001b[0m\u001b[38;2;255;255;255;48;2;107;110;207m          \u001b[0m\u001b[38;2;255;255;255;48;2;165;81;148m          \u001b[0m\u001b[38;2;255;255;255;48;2;140;109;49m          \u001b[0m\n",
       "\u001b[38;2;255;255;255;48;2;57;59;121m          \u001b[0m\u001b[38;2;255;255;255;48;2;214;97;107m          \u001b[0m\u001b[38;2;255;255;255;48;2;140;162;82m          \u001b[0m\u001b[38;2;255;255;255;48;2;222;158;214m          \u001b[0m\u001b[38;2;0;0;0;48;2;231;203;148m          \u001b[0m\u001b[38;2;255;255;255;48;2;107;110;207m          \u001b[0m\u001b[38;2;255;255;255;48;2;165;81;148m          \u001b[0m\u001b[38;2;255;255;255;48;2;140;109;49m          \u001b[0m\n",
       "\u001b[38;2;255;255;255;48;2;57;59;121m          \u001b[0m\u001b[38;2;255;255;255;48;2;214;97;107m          \u001b[0m\u001b[38;2;255;255;255;48;2;140;162;82m          \u001b[0m\u001b[38;2;255;255;255;48;2;222;158;214m          \u001b[0m\u001b[38;2;0;0;0;48;2;231;203;148m          \u001b[0m\u001b[38;2;255;255;255;48;2;107;110;207m          \u001b[0m\u001b[38;2;255;255;255;48;2;165;81;148m          \u001b[0m\u001b[38;2;255;255;255;48;2;140;109;49m          \u001b[0m\n",
       "\u001b[38;2;255;255;255;48;2;57;59;121m          \u001b[0m\u001b[38;2;255;255;255;48;2;214;97;107m          \u001b[0m\u001b[38;2;255;255;255;48;2;140;162;82m          \u001b[0m\u001b[38;2;255;255;255;48;2;222;158;214m          \u001b[0m\u001b[38;2;0;0;0;48;2;231;203;148m          \u001b[0m\u001b[38;2;255;255;255;48;2;107;110;207m          \u001b[0m\u001b[38;2;255;255;255;48;2;165;81;148m          \u001b[0m\u001b[38;2;255;255;255;48;2;140;109;49m          \u001b[0m\n",
       "\u001b[38;2;255;255;255;48;2;57;59;121m          \u001b[0m\u001b[38;2;255;255;255;48;2;214;97;107m          \u001b[0m\u001b[38;2;255;255;255;48;2;140;162;82m          \u001b[0m\u001b[38;2;255;255;255;48;2;222;158;214m          \u001b[0m\u001b[38;2;0;0;0;48;2;231;203;148m          \u001b[0m\u001b[38;2;255;255;255;48;2;107;110;207m          \u001b[0m\u001b[38;2;255;255;255;48;2;165;81;148m          \u001b[0m\u001b[38;2;255;255;255;48;2;140;109;49m          \u001b[0m\n",
       "\u001b[38;2;255;255;255;48;2;57;59;121m          \u001b[0m\u001b[38;2;255;255;255;48;2;214;97;107m          \u001b[0m\u001b[38;2;255;255;255;48;2;140;162;82m          \u001b[0m\u001b[38;2;255;255;255;48;2;222;158;214m          \u001b[0m\u001b[38;2;0;0;0;48;2;231;203;148m          \u001b[0m\u001b[38;2;255;255;255;48;2;107;110;207m          \u001b[0m\u001b[38;2;255;255;255;48;2;165;81;148m          \u001b[0m\u001b[38;2;255;255;255;48;2;140;109;49m          \u001b[0m\n",
       "\u001b[38;2;255;255;255;48;2;57;59;121m          \u001b[0m\u001b[38;2;255;255;255;48;2;214;97;107m          \u001b[0m\u001b[38;2;255;255;255;48;2;140;162;82m          \u001b[0m\u001b[38;2;255;255;255;48;2;222;158;214m          \u001b[0m\u001b[38;2;0;0;0;48;2;231;203;148m          \u001b[0m\u001b[38;2;255;255;255;48;2;107;110;207m          \u001b[0m\u001b[38;2;255;255;255;48;2;165;81;148m          \u001b[0m\u001b[38;2;255;255;255;48;2;140;109;49m          \u001b[0m\n"
      ]
     },
     "metadata": {},
     "output_type": "display_data"
    },
    {
     "data": {
      "text/html": [
       "<pre style=\"white-space:pre;overflow-x:auto;line-height:normal;font-family:Menlo,'DejaVu Sans Mono',consolas,'Courier New',monospace\"><span style=\"color: #ffffff; text-decoration-color: #ffffff; background-color: #393b79\">CPU 0,1,2,3,4,5,6,7</span>\n",
       "<span style=\"color: #ffffff; text-decoration-color: #ffffff; background-color: #393b79\">                   </span>\n",
       "</pre>\n"
      ],
      "text/plain": [
       "\u001b[38;2;255;255;255;48;2;57;59;121mCPU 0,1,2,3,4,5,6,7\u001b[0m\n",
       "\u001b[38;2;255;255;255;48;2;57;59;121m                   \u001b[0m\n"
      ]
     },
     "metadata": {},
     "output_type": "display_data"
    },
    {
     "data": {
      "text/html": [
       "<pre style=\"white-space:pre;overflow-x:auto;line-height:normal;font-family:Menlo,'DejaVu Sans Mono',consolas,'Courier New',monospace\"><span style=\"color: #ffffff; text-decoration-color: #ffffff; background-color: #393b79\">          </span><span style=\"color: #ffffff; text-decoration-color: #ffffff; background-color: #d6616b\">          </span><span style=\"color: #ffffff; text-decoration-color: #ffffff; background-color: #8ca252\">          </span><span style=\"color: #ffffff; text-decoration-color: #ffffff; background-color: #de9ed6\">          </span><span style=\"color: #000000; text-decoration-color: #000000; background-color: #e7cb94\">          </span><span style=\"color: #ffffff; text-decoration-color: #ffffff; background-color: #6b6ecf\">          </span><span style=\"color: #ffffff; text-decoration-color: #ffffff; background-color: #a55194\">          </span><span style=\"color: #ffffff; text-decoration-color: #ffffff; background-color: #8c6d31\">          </span>\n",
       "<span style=\"color: #ffffff; text-decoration-color: #ffffff; background-color: #393b79\">          </span><span style=\"color: #ffffff; text-decoration-color: #ffffff; background-color: #d6616b\">          </span><span style=\"color: #ffffff; text-decoration-color: #ffffff; background-color: #8ca252\">          </span><span style=\"color: #ffffff; text-decoration-color: #ffffff; background-color: #de9ed6\">          </span><span style=\"color: #000000; text-decoration-color: #000000; background-color: #e7cb94\">          </span><span style=\"color: #ffffff; text-decoration-color: #ffffff; background-color: #6b6ecf\">          </span><span style=\"color: #ffffff; text-decoration-color: #ffffff; background-color: #a55194\">          </span><span style=\"color: #ffffff; text-decoration-color: #ffffff; background-color: #8c6d31\">          </span>\n",
       "<span style=\"color: #ffffff; text-decoration-color: #ffffff; background-color: #393b79\">          </span><span style=\"color: #ffffff; text-decoration-color: #ffffff; background-color: #d6616b\">          </span><span style=\"color: #ffffff; text-decoration-color: #ffffff; background-color: #8ca252\">          </span><span style=\"color: #ffffff; text-decoration-color: #ffffff; background-color: #de9ed6\">          </span><span style=\"color: #000000; text-decoration-color: #000000; background-color: #e7cb94\">          </span><span style=\"color: #ffffff; text-decoration-color: #ffffff; background-color: #6b6ecf\">          </span><span style=\"color: #ffffff; text-decoration-color: #ffffff; background-color: #a55194\">          </span><span style=\"color: #ffffff; text-decoration-color: #ffffff; background-color: #8c6d31\">          </span>\n",
       "<span style=\"color: #ffffff; text-decoration-color: #ffffff; background-color: #393b79\">          </span><span style=\"color: #ffffff; text-decoration-color: #ffffff; background-color: #d6616b\">          </span><span style=\"color: #ffffff; text-decoration-color: #ffffff; background-color: #8ca252\">          </span><span style=\"color: #ffffff; text-decoration-color: #ffffff; background-color: #de9ed6\">          </span><span style=\"color: #000000; text-decoration-color: #000000; background-color: #e7cb94\">          </span><span style=\"color: #ffffff; text-decoration-color: #ffffff; background-color: #6b6ecf\">          </span><span style=\"color: #ffffff; text-decoration-color: #ffffff; background-color: #a55194\">          </span><span style=\"color: #ffffff; text-decoration-color: #ffffff; background-color: #8c6d31\">          </span>\n",
       "<span style=\"color: #ffffff; text-decoration-color: #ffffff; background-color: #393b79\">          </span><span style=\"color: #ffffff; text-decoration-color: #ffffff; background-color: #d6616b\">          </span><span style=\"color: #ffffff; text-decoration-color: #ffffff; background-color: #8ca252\">          </span><span style=\"color: #ffffff; text-decoration-color: #ffffff; background-color: #de9ed6\">          </span><span style=\"color: #000000; text-decoration-color: #000000; background-color: #e7cb94\">          </span><span style=\"color: #ffffff; text-decoration-color: #ffffff; background-color: #6b6ecf\">          </span><span style=\"color: #ffffff; text-decoration-color: #ffffff; background-color: #a55194\">          </span><span style=\"color: #ffffff; text-decoration-color: #ffffff; background-color: #8c6d31\">          </span>\n",
       "<span style=\"color: #ffffff; text-decoration-color: #ffffff; background-color: #393b79\">          </span><span style=\"color: #ffffff; text-decoration-color: #ffffff; background-color: #d6616b\">          </span><span style=\"color: #ffffff; text-decoration-color: #ffffff; background-color: #8ca252\">          </span><span style=\"color: #ffffff; text-decoration-color: #ffffff; background-color: #de9ed6\">          </span><span style=\"color: #000000; text-decoration-color: #000000; background-color: #e7cb94\">          </span><span style=\"color: #ffffff; text-decoration-color: #ffffff; background-color: #6b6ecf\">          </span><span style=\"color: #ffffff; text-decoration-color: #ffffff; background-color: #a55194\">          </span><span style=\"color: #ffffff; text-decoration-color: #ffffff; background-color: #8c6d31\">          </span>\n",
       "<span style=\"color: #ffffff; text-decoration-color: #ffffff; background-color: #393b79\">          </span><span style=\"color: #ffffff; text-decoration-color: #ffffff; background-color: #d6616b\">          </span><span style=\"color: #ffffff; text-decoration-color: #ffffff; background-color: #8ca252\">          </span><span style=\"color: #ffffff; text-decoration-color: #ffffff; background-color: #de9ed6\">          </span><span style=\"color: #000000; text-decoration-color: #000000; background-color: #e7cb94\">          </span><span style=\"color: #ffffff; text-decoration-color: #ffffff; background-color: #6b6ecf\">          </span><span style=\"color: #ffffff; text-decoration-color: #ffffff; background-color: #a55194\">          </span><span style=\"color: #ffffff; text-decoration-color: #ffffff; background-color: #8c6d31\">          </span>\n",
       "<span style=\"color: #ffffff; text-decoration-color: #ffffff; background-color: #393b79\">          </span><span style=\"color: #ffffff; text-decoration-color: #ffffff; background-color: #d6616b\">          </span><span style=\"color: #ffffff; text-decoration-color: #ffffff; background-color: #8ca252\">          </span><span style=\"color: #ffffff; text-decoration-color: #ffffff; background-color: #de9ed6\">          </span><span style=\"color: #000000; text-decoration-color: #000000; background-color: #e7cb94\">          </span><span style=\"color: #ffffff; text-decoration-color: #ffffff; background-color: #6b6ecf\">          </span><span style=\"color: #ffffff; text-decoration-color: #ffffff; background-color: #a55194\">          </span><span style=\"color: #ffffff; text-decoration-color: #ffffff; background-color: #8c6d31\">          </span>\n",
       "<span style=\"color: #ffffff; text-decoration-color: #ffffff; background-color: #393b79\">          </span><span style=\"color: #ffffff; text-decoration-color: #ffffff; background-color: #d6616b\">          </span><span style=\"color: #ffffff; text-decoration-color: #ffffff; background-color: #8ca252\">          </span><span style=\"color: #ffffff; text-decoration-color: #ffffff; background-color: #de9ed6\">          </span><span style=\"color: #000000; text-decoration-color: #000000; background-color: #e7cb94\">          </span><span style=\"color: #ffffff; text-decoration-color: #ffffff; background-color: #6b6ecf\">          </span><span style=\"color: #ffffff; text-decoration-color: #ffffff; background-color: #a55194\">          </span><span style=\"color: #ffffff; text-decoration-color: #ffffff; background-color: #8c6d31\">          </span>\n",
       "<span style=\"color: #ffffff; text-decoration-color: #ffffff; background-color: #393b79\">          </span><span style=\"color: #ffffff; text-decoration-color: #ffffff; background-color: #d6616b\">          </span><span style=\"color: #ffffff; text-decoration-color: #ffffff; background-color: #8ca252\">          </span><span style=\"color: #ffffff; text-decoration-color: #ffffff; background-color: #de9ed6\">          </span><span style=\"color: #000000; text-decoration-color: #000000; background-color: #e7cb94\">          </span><span style=\"color: #ffffff; text-decoration-color: #ffffff; background-color: #6b6ecf\">          </span><span style=\"color: #ffffff; text-decoration-color: #ffffff; background-color: #a55194\">          </span><span style=\"color: #ffffff; text-decoration-color: #ffffff; background-color: #8c6d31\">          </span>\n",
       "</pre>\n"
      ],
      "text/plain": [
       "\u001b[38;2;255;255;255;48;2;57;59;121m          \u001b[0m\u001b[38;2;255;255;255;48;2;214;97;107m          \u001b[0m\u001b[38;2;255;255;255;48;2;140;162;82m          \u001b[0m\u001b[38;2;255;255;255;48;2;222;158;214m          \u001b[0m\u001b[38;2;0;0;0;48;2;231;203;148m          \u001b[0m\u001b[38;2;255;255;255;48;2;107;110;207m          \u001b[0m\u001b[38;2;255;255;255;48;2;165;81;148m          \u001b[0m\u001b[38;2;255;255;255;48;2;140;109;49m          \u001b[0m\n",
       "\u001b[38;2;255;255;255;48;2;57;59;121m          \u001b[0m\u001b[38;2;255;255;255;48;2;214;97;107m          \u001b[0m\u001b[38;2;255;255;255;48;2;140;162;82m          \u001b[0m\u001b[38;2;255;255;255;48;2;222;158;214m          \u001b[0m\u001b[38;2;0;0;0;48;2;231;203;148m          \u001b[0m\u001b[38;2;255;255;255;48;2;107;110;207m          \u001b[0m\u001b[38;2;255;255;255;48;2;165;81;148m          \u001b[0m\u001b[38;2;255;255;255;48;2;140;109;49m          \u001b[0m\n",
       "\u001b[38;2;255;255;255;48;2;57;59;121m          \u001b[0m\u001b[38;2;255;255;255;48;2;214;97;107m          \u001b[0m\u001b[38;2;255;255;255;48;2;140;162;82m          \u001b[0m\u001b[38;2;255;255;255;48;2;222;158;214m          \u001b[0m\u001b[38;2;0;0;0;48;2;231;203;148m          \u001b[0m\u001b[38;2;255;255;255;48;2;107;110;207m          \u001b[0m\u001b[38;2;255;255;255;48;2;165;81;148m          \u001b[0m\u001b[38;2;255;255;255;48;2;140;109;49m          \u001b[0m\n",
       "\u001b[38;2;255;255;255;48;2;57;59;121m          \u001b[0m\u001b[38;2;255;255;255;48;2;214;97;107m          \u001b[0m\u001b[38;2;255;255;255;48;2;140;162;82m          \u001b[0m\u001b[38;2;255;255;255;48;2;222;158;214m          \u001b[0m\u001b[38;2;0;0;0;48;2;231;203;148m          \u001b[0m\u001b[38;2;255;255;255;48;2;107;110;207m          \u001b[0m\u001b[38;2;255;255;255;48;2;165;81;148m          \u001b[0m\u001b[38;2;255;255;255;48;2;140;109;49m          \u001b[0m\n",
       "\u001b[38;2;255;255;255;48;2;57;59;121m          \u001b[0m\u001b[38;2;255;255;255;48;2;214;97;107m          \u001b[0m\u001b[38;2;255;255;255;48;2;140;162;82m          \u001b[0m\u001b[38;2;255;255;255;48;2;222;158;214m          \u001b[0m\u001b[38;2;0;0;0;48;2;231;203;148m          \u001b[0m\u001b[38;2;255;255;255;48;2;107;110;207m          \u001b[0m\u001b[38;2;255;255;255;48;2;165;81;148m          \u001b[0m\u001b[38;2;255;255;255;48;2;140;109;49m          \u001b[0m\n",
       "\u001b[38;2;255;255;255;48;2;57;59;121m          \u001b[0m\u001b[38;2;255;255;255;48;2;214;97;107m          \u001b[0m\u001b[38;2;255;255;255;48;2;140;162;82m          \u001b[0m\u001b[38;2;255;255;255;48;2;222;158;214m          \u001b[0m\u001b[38;2;0;0;0;48;2;231;203;148m          \u001b[0m\u001b[38;2;255;255;255;48;2;107;110;207m          \u001b[0m\u001b[38;2;255;255;255;48;2;165;81;148m          \u001b[0m\u001b[38;2;255;255;255;48;2;140;109;49m          \u001b[0m\n",
       "\u001b[38;2;255;255;255;48;2;57;59;121m          \u001b[0m\u001b[38;2;255;255;255;48;2;214;97;107m          \u001b[0m\u001b[38;2;255;255;255;48;2;140;162;82m          \u001b[0m\u001b[38;2;255;255;255;48;2;222;158;214m          \u001b[0m\u001b[38;2;0;0;0;48;2;231;203;148m          \u001b[0m\u001b[38;2;255;255;255;48;2;107;110;207m          \u001b[0m\u001b[38;2;255;255;255;48;2;165;81;148m          \u001b[0m\u001b[38;2;255;255;255;48;2;140;109;49m          \u001b[0m\n",
       "\u001b[38;2;255;255;255;48;2;57;59;121m          \u001b[0m\u001b[38;2;255;255;255;48;2;214;97;107m          \u001b[0m\u001b[38;2;255;255;255;48;2;140;162;82m          \u001b[0m\u001b[38;2;255;255;255;48;2;222;158;214m          \u001b[0m\u001b[38;2;0;0;0;48;2;231;203;148m          \u001b[0m\u001b[38;2;255;255;255;48;2;107;110;207m          \u001b[0m\u001b[38;2;255;255;255;48;2;165;81;148m          \u001b[0m\u001b[38;2;255;255;255;48;2;140;109;49m          \u001b[0m\n",
       "\u001b[38;2;255;255;255;48;2;57;59;121m          \u001b[0m\u001b[38;2;255;255;255;48;2;214;97;107m          \u001b[0m\u001b[38;2;255;255;255;48;2;140;162;82m          \u001b[0m\u001b[38;2;255;255;255;48;2;222;158;214m          \u001b[0m\u001b[38;2;0;0;0;48;2;231;203;148m          \u001b[0m\u001b[38;2;255;255;255;48;2;107;110;207m          \u001b[0m\u001b[38;2;255;255;255;48;2;165;81;148m          \u001b[0m\u001b[38;2;255;255;255;48;2;140;109;49m          \u001b[0m\n",
       "\u001b[38;2;255;255;255;48;2;57;59;121m          \u001b[0m\u001b[38;2;255;255;255;48;2;214;97;107m          \u001b[0m\u001b[38;2;255;255;255;48;2;140;162;82m          \u001b[0m\u001b[38;2;255;255;255;48;2;222;158;214m          \u001b[0m\u001b[38;2;0;0;0;48;2;231;203;148m          \u001b[0m\u001b[38;2;255;255;255;48;2;107;110;207m          \u001b[0m\u001b[38;2;255;255;255;48;2;165;81;148m          \u001b[0m\u001b[38;2;255;255;255;48;2;140;109;49m          \u001b[0m\n"
      ]
     },
     "metadata": {},
     "output_type": "display_data"
    },
    {
     "data": {
      "text/html": [
       "<pre style=\"white-space:pre;overflow-x:auto;line-height:normal;font-family:Menlo,'DejaVu Sans Mono',consolas,'Courier New',monospace\"><span style=\"color: #ffffff; text-decoration-color: #ffffff; background-color: #393b79\">CPU 0,1,2,3,4,5,6,7</span>\n",
       "<span style=\"color: #ffffff; text-decoration-color: #ffffff; background-color: #393b79\">                   </span>\n",
       "</pre>\n"
      ],
      "text/plain": [
       "\u001b[38;2;255;255;255;48;2;57;59;121mCPU 0,1,2,3,4,5,6,7\u001b[0m\n",
       "\u001b[38;2;255;255;255;48;2;57;59;121m                   \u001b[0m\n"
      ]
     },
     "metadata": {},
     "output_type": "display_data"
    },
    {
     "data": {
      "text/html": [
       "<pre style=\"white-space:pre;overflow-x:auto;line-height:normal;font-family:Menlo,'DejaVu Sans Mono',consolas,'Courier New',monospace\"><span style=\"color: #ffffff; text-decoration-color: #ffffff; background-color: #393b79\">          </span><span style=\"color: #ffffff; text-decoration-color: #ffffff; background-color: #d6616b\">          </span><span style=\"color: #ffffff; text-decoration-color: #ffffff; background-color: #8ca252\">          </span><span style=\"color: #ffffff; text-decoration-color: #ffffff; background-color: #de9ed6\">          </span><span style=\"color: #000000; text-decoration-color: #000000; background-color: #e7cb94\">          </span><span style=\"color: #ffffff; text-decoration-color: #ffffff; background-color: #6b6ecf\">          </span><span style=\"color: #ffffff; text-decoration-color: #ffffff; background-color: #a55194\">          </span><span style=\"color: #ffffff; text-decoration-color: #ffffff; background-color: #8c6d31\">          </span>\n",
       "<span style=\"color: #ffffff; text-decoration-color: #ffffff; background-color: #393b79\">          </span><span style=\"color: #ffffff; text-decoration-color: #ffffff; background-color: #d6616b\">          </span><span style=\"color: #ffffff; text-decoration-color: #ffffff; background-color: #8ca252\">          </span><span style=\"color: #ffffff; text-decoration-color: #ffffff; background-color: #de9ed6\">          </span><span style=\"color: #000000; text-decoration-color: #000000; background-color: #e7cb94\">          </span><span style=\"color: #ffffff; text-decoration-color: #ffffff; background-color: #6b6ecf\">          </span><span style=\"color: #ffffff; text-decoration-color: #ffffff; background-color: #a55194\">          </span><span style=\"color: #ffffff; text-decoration-color: #ffffff; background-color: #8c6d31\">          </span>\n",
       "<span style=\"color: #ffffff; text-decoration-color: #ffffff; background-color: #393b79\">          </span><span style=\"color: #ffffff; text-decoration-color: #ffffff; background-color: #d6616b\">          </span><span style=\"color: #ffffff; text-decoration-color: #ffffff; background-color: #8ca252\">          </span><span style=\"color: #ffffff; text-decoration-color: #ffffff; background-color: #de9ed6\">          </span><span style=\"color: #000000; text-decoration-color: #000000; background-color: #e7cb94\">          </span><span style=\"color: #ffffff; text-decoration-color: #ffffff; background-color: #6b6ecf\">          </span><span style=\"color: #ffffff; text-decoration-color: #ffffff; background-color: #a55194\">          </span><span style=\"color: #ffffff; text-decoration-color: #ffffff; background-color: #8c6d31\">          </span>\n",
       "<span style=\"color: #ffffff; text-decoration-color: #ffffff; background-color: #393b79\">          </span><span style=\"color: #ffffff; text-decoration-color: #ffffff; background-color: #d6616b\">          </span><span style=\"color: #ffffff; text-decoration-color: #ffffff; background-color: #8ca252\">          </span><span style=\"color: #ffffff; text-decoration-color: #ffffff; background-color: #de9ed6\">          </span><span style=\"color: #000000; text-decoration-color: #000000; background-color: #e7cb94\">          </span><span style=\"color: #ffffff; text-decoration-color: #ffffff; background-color: #6b6ecf\">          </span><span style=\"color: #ffffff; text-decoration-color: #ffffff; background-color: #a55194\">          </span><span style=\"color: #ffffff; text-decoration-color: #ffffff; background-color: #8c6d31\">          </span>\n",
       "<span style=\"color: #ffffff; text-decoration-color: #ffffff; background-color: #393b79\">          </span><span style=\"color: #ffffff; text-decoration-color: #ffffff; background-color: #d6616b\">          </span><span style=\"color: #ffffff; text-decoration-color: #ffffff; background-color: #8ca252\">          </span><span style=\"color: #ffffff; text-decoration-color: #ffffff; background-color: #de9ed6\">          </span><span style=\"color: #000000; text-decoration-color: #000000; background-color: #e7cb94\">          </span><span style=\"color: #ffffff; text-decoration-color: #ffffff; background-color: #6b6ecf\">          </span><span style=\"color: #ffffff; text-decoration-color: #ffffff; background-color: #a55194\">          </span><span style=\"color: #ffffff; text-decoration-color: #ffffff; background-color: #8c6d31\">          </span>\n",
       "<span style=\"color: #ffffff; text-decoration-color: #ffffff; background-color: #393b79\">          </span><span style=\"color: #ffffff; text-decoration-color: #ffffff; background-color: #d6616b\">          </span><span style=\"color: #ffffff; text-decoration-color: #ffffff; background-color: #8ca252\">          </span><span style=\"color: #ffffff; text-decoration-color: #ffffff; background-color: #de9ed6\">          </span><span style=\"color: #000000; text-decoration-color: #000000; background-color: #e7cb94\">          </span><span style=\"color: #ffffff; text-decoration-color: #ffffff; background-color: #6b6ecf\">          </span><span style=\"color: #ffffff; text-decoration-color: #ffffff; background-color: #a55194\">          </span><span style=\"color: #ffffff; text-decoration-color: #ffffff; background-color: #8c6d31\">          </span>\n",
       "<span style=\"color: #ffffff; text-decoration-color: #ffffff; background-color: #393b79\">          </span><span style=\"color: #ffffff; text-decoration-color: #ffffff; background-color: #d6616b\">          </span><span style=\"color: #ffffff; text-decoration-color: #ffffff; background-color: #8ca252\">          </span><span style=\"color: #ffffff; text-decoration-color: #ffffff; background-color: #de9ed6\">          </span><span style=\"color: #000000; text-decoration-color: #000000; background-color: #e7cb94\">          </span><span style=\"color: #ffffff; text-decoration-color: #ffffff; background-color: #6b6ecf\">          </span><span style=\"color: #ffffff; text-decoration-color: #ffffff; background-color: #a55194\">          </span><span style=\"color: #ffffff; text-decoration-color: #ffffff; background-color: #8c6d31\">          </span>\n",
       "<span style=\"color: #ffffff; text-decoration-color: #ffffff; background-color: #393b79\">          </span><span style=\"color: #ffffff; text-decoration-color: #ffffff; background-color: #d6616b\">          </span><span style=\"color: #ffffff; text-decoration-color: #ffffff; background-color: #8ca252\">          </span><span style=\"color: #ffffff; text-decoration-color: #ffffff; background-color: #de9ed6\">          </span><span style=\"color: #000000; text-decoration-color: #000000; background-color: #e7cb94\">          </span><span style=\"color: #ffffff; text-decoration-color: #ffffff; background-color: #6b6ecf\">          </span><span style=\"color: #ffffff; text-decoration-color: #ffffff; background-color: #a55194\">          </span><span style=\"color: #ffffff; text-decoration-color: #ffffff; background-color: #8c6d31\">          </span>\n",
       "<span style=\"color: #ffffff; text-decoration-color: #ffffff; background-color: #393b79\">          </span><span style=\"color: #ffffff; text-decoration-color: #ffffff; background-color: #d6616b\">          </span><span style=\"color: #ffffff; text-decoration-color: #ffffff; background-color: #8ca252\">          </span><span style=\"color: #ffffff; text-decoration-color: #ffffff; background-color: #de9ed6\">          </span><span style=\"color: #000000; text-decoration-color: #000000; background-color: #e7cb94\">          </span><span style=\"color: #ffffff; text-decoration-color: #ffffff; background-color: #6b6ecf\">          </span><span style=\"color: #ffffff; text-decoration-color: #ffffff; background-color: #a55194\">          </span><span style=\"color: #ffffff; text-decoration-color: #ffffff; background-color: #8c6d31\">          </span>\n",
       "<span style=\"color: #ffffff; text-decoration-color: #ffffff; background-color: #393b79\">          </span><span style=\"color: #ffffff; text-decoration-color: #ffffff; background-color: #d6616b\">          </span><span style=\"color: #ffffff; text-decoration-color: #ffffff; background-color: #8ca252\">          </span><span style=\"color: #ffffff; text-decoration-color: #ffffff; background-color: #de9ed6\">          </span><span style=\"color: #000000; text-decoration-color: #000000; background-color: #e7cb94\">          </span><span style=\"color: #ffffff; text-decoration-color: #ffffff; background-color: #6b6ecf\">          </span><span style=\"color: #ffffff; text-decoration-color: #ffffff; background-color: #a55194\">          </span><span style=\"color: #ffffff; text-decoration-color: #ffffff; background-color: #8c6d31\">          </span>\n",
       "</pre>\n"
      ],
      "text/plain": [
       "\u001b[38;2;255;255;255;48;2;57;59;121m          \u001b[0m\u001b[38;2;255;255;255;48;2;214;97;107m          \u001b[0m\u001b[38;2;255;255;255;48;2;140;162;82m          \u001b[0m\u001b[38;2;255;255;255;48;2;222;158;214m          \u001b[0m\u001b[38;2;0;0;0;48;2;231;203;148m          \u001b[0m\u001b[38;2;255;255;255;48;2;107;110;207m          \u001b[0m\u001b[38;2;255;255;255;48;2;165;81;148m          \u001b[0m\u001b[38;2;255;255;255;48;2;140;109;49m          \u001b[0m\n",
       "\u001b[38;2;255;255;255;48;2;57;59;121m          \u001b[0m\u001b[38;2;255;255;255;48;2;214;97;107m          \u001b[0m\u001b[38;2;255;255;255;48;2;140;162;82m          \u001b[0m\u001b[38;2;255;255;255;48;2;222;158;214m          \u001b[0m\u001b[38;2;0;0;0;48;2;231;203;148m          \u001b[0m\u001b[38;2;255;255;255;48;2;107;110;207m          \u001b[0m\u001b[38;2;255;255;255;48;2;165;81;148m          \u001b[0m\u001b[38;2;255;255;255;48;2;140;109;49m          \u001b[0m\n",
       "\u001b[38;2;255;255;255;48;2;57;59;121m          \u001b[0m\u001b[38;2;255;255;255;48;2;214;97;107m          \u001b[0m\u001b[38;2;255;255;255;48;2;140;162;82m          \u001b[0m\u001b[38;2;255;255;255;48;2;222;158;214m          \u001b[0m\u001b[38;2;0;0;0;48;2;231;203;148m          \u001b[0m\u001b[38;2;255;255;255;48;2;107;110;207m          \u001b[0m\u001b[38;2;255;255;255;48;2;165;81;148m          \u001b[0m\u001b[38;2;255;255;255;48;2;140;109;49m          \u001b[0m\n",
       "\u001b[38;2;255;255;255;48;2;57;59;121m          \u001b[0m\u001b[38;2;255;255;255;48;2;214;97;107m          \u001b[0m\u001b[38;2;255;255;255;48;2;140;162;82m          \u001b[0m\u001b[38;2;255;255;255;48;2;222;158;214m          \u001b[0m\u001b[38;2;0;0;0;48;2;231;203;148m          \u001b[0m\u001b[38;2;255;255;255;48;2;107;110;207m          \u001b[0m\u001b[38;2;255;255;255;48;2;165;81;148m          \u001b[0m\u001b[38;2;255;255;255;48;2;140;109;49m          \u001b[0m\n",
       "\u001b[38;2;255;255;255;48;2;57;59;121m          \u001b[0m\u001b[38;2;255;255;255;48;2;214;97;107m          \u001b[0m\u001b[38;2;255;255;255;48;2;140;162;82m          \u001b[0m\u001b[38;2;255;255;255;48;2;222;158;214m          \u001b[0m\u001b[38;2;0;0;0;48;2;231;203;148m          \u001b[0m\u001b[38;2;255;255;255;48;2;107;110;207m          \u001b[0m\u001b[38;2;255;255;255;48;2;165;81;148m          \u001b[0m\u001b[38;2;255;255;255;48;2;140;109;49m          \u001b[0m\n",
       "\u001b[38;2;255;255;255;48;2;57;59;121m          \u001b[0m\u001b[38;2;255;255;255;48;2;214;97;107m          \u001b[0m\u001b[38;2;255;255;255;48;2;140;162;82m          \u001b[0m\u001b[38;2;255;255;255;48;2;222;158;214m          \u001b[0m\u001b[38;2;0;0;0;48;2;231;203;148m          \u001b[0m\u001b[38;2;255;255;255;48;2;107;110;207m          \u001b[0m\u001b[38;2;255;255;255;48;2;165;81;148m          \u001b[0m\u001b[38;2;255;255;255;48;2;140;109;49m          \u001b[0m\n",
       "\u001b[38;2;255;255;255;48;2;57;59;121m          \u001b[0m\u001b[38;2;255;255;255;48;2;214;97;107m          \u001b[0m\u001b[38;2;255;255;255;48;2;140;162;82m          \u001b[0m\u001b[38;2;255;255;255;48;2;222;158;214m          \u001b[0m\u001b[38;2;0;0;0;48;2;231;203;148m          \u001b[0m\u001b[38;2;255;255;255;48;2;107;110;207m          \u001b[0m\u001b[38;2;255;255;255;48;2;165;81;148m          \u001b[0m\u001b[38;2;255;255;255;48;2;140;109;49m          \u001b[0m\n",
       "\u001b[38;2;255;255;255;48;2;57;59;121m          \u001b[0m\u001b[38;2;255;255;255;48;2;214;97;107m          \u001b[0m\u001b[38;2;255;255;255;48;2;140;162;82m          \u001b[0m\u001b[38;2;255;255;255;48;2;222;158;214m          \u001b[0m\u001b[38;2;0;0;0;48;2;231;203;148m          \u001b[0m\u001b[38;2;255;255;255;48;2;107;110;207m          \u001b[0m\u001b[38;2;255;255;255;48;2;165;81;148m          \u001b[0m\u001b[38;2;255;255;255;48;2;140;109;49m          \u001b[0m\n",
       "\u001b[38;2;255;255;255;48;2;57;59;121m          \u001b[0m\u001b[38;2;255;255;255;48;2;214;97;107m          \u001b[0m\u001b[38;2;255;255;255;48;2;140;162;82m          \u001b[0m\u001b[38;2;255;255;255;48;2;222;158;214m          \u001b[0m\u001b[38;2;0;0;0;48;2;231;203;148m          \u001b[0m\u001b[38;2;255;255;255;48;2;107;110;207m          \u001b[0m\u001b[38;2;255;255;255;48;2;165;81;148m          \u001b[0m\u001b[38;2;255;255;255;48;2;140;109;49m          \u001b[0m\n",
       "\u001b[38;2;255;255;255;48;2;57;59;121m          \u001b[0m\u001b[38;2;255;255;255;48;2;214;97;107m          \u001b[0m\u001b[38;2;255;255;255;48;2;140;162;82m          \u001b[0m\u001b[38;2;255;255;255;48;2;222;158;214m          \u001b[0m\u001b[38;2;0;0;0;48;2;231;203;148m          \u001b[0m\u001b[38;2;255;255;255;48;2;107;110;207m          \u001b[0m\u001b[38;2;255;255;255;48;2;165;81;148m          \u001b[0m\u001b[38;2;255;255;255;48;2;140;109;49m          \u001b[0m\n"
      ]
     },
     "metadata": {},
     "output_type": "display_data"
    },
    {
     "data": {
      "text/html": [
       "<pre style=\"white-space:pre;overflow-x:auto;line-height:normal;font-family:Menlo,'DejaVu Sans Mono',consolas,'Courier New',monospace\"><span style=\"color: #ffffff; text-decoration-color: #ffffff; background-color: #393b79\">CPU 0,1,2,3,4,5,6,7</span>\n",
       "<span style=\"color: #ffffff; text-decoration-color: #ffffff; background-color: #393b79\">                   </span>\n",
       "</pre>\n"
      ],
      "text/plain": [
       "\u001b[38;2;255;255;255;48;2;57;59;121mCPU 0,1,2,3,4,5,6,7\u001b[0m\n",
       "\u001b[38;2;255;255;255;48;2;57;59;121m                   \u001b[0m\n"
      ]
     },
     "metadata": {},
     "output_type": "display_data"
    },
    {
     "data": {
      "text/html": [
       "<pre style=\"white-space:pre;overflow-x:auto;line-height:normal;font-family:Menlo,'DejaVu Sans Mono',consolas,'Courier New',monospace\"><span style=\"color: #ffffff; text-decoration-color: #ffffff; background-color: #393b79\">          </span><span style=\"color: #ffffff; text-decoration-color: #ffffff; background-color: #d6616b\">          </span><span style=\"color: #ffffff; text-decoration-color: #ffffff; background-color: #8ca252\">          </span><span style=\"color: #ffffff; text-decoration-color: #ffffff; background-color: #de9ed6\">          </span><span style=\"color: #000000; text-decoration-color: #000000; background-color: #e7cb94\">          </span><span style=\"color: #ffffff; text-decoration-color: #ffffff; background-color: #6b6ecf\">          </span><span style=\"color: #ffffff; text-decoration-color: #ffffff; background-color: #a55194\">          </span><span style=\"color: #ffffff; text-decoration-color: #ffffff; background-color: #8c6d31\">          </span>\n",
       "<span style=\"color: #ffffff; text-decoration-color: #ffffff; background-color: #393b79\">          </span><span style=\"color: #ffffff; text-decoration-color: #ffffff; background-color: #d6616b\">          </span><span style=\"color: #ffffff; text-decoration-color: #ffffff; background-color: #8ca252\">          </span><span style=\"color: #ffffff; text-decoration-color: #ffffff; background-color: #de9ed6\">          </span><span style=\"color: #000000; text-decoration-color: #000000; background-color: #e7cb94\">          </span><span style=\"color: #ffffff; text-decoration-color: #ffffff; background-color: #6b6ecf\">          </span><span style=\"color: #ffffff; text-decoration-color: #ffffff; background-color: #a55194\">          </span><span style=\"color: #ffffff; text-decoration-color: #ffffff; background-color: #8c6d31\">          </span>\n",
       "<span style=\"color: #ffffff; text-decoration-color: #ffffff; background-color: #393b79\">          </span><span style=\"color: #ffffff; text-decoration-color: #ffffff; background-color: #d6616b\">          </span><span style=\"color: #ffffff; text-decoration-color: #ffffff; background-color: #8ca252\">          </span><span style=\"color: #ffffff; text-decoration-color: #ffffff; background-color: #de9ed6\">          </span><span style=\"color: #000000; text-decoration-color: #000000; background-color: #e7cb94\">          </span><span style=\"color: #ffffff; text-decoration-color: #ffffff; background-color: #6b6ecf\">          </span><span style=\"color: #ffffff; text-decoration-color: #ffffff; background-color: #a55194\">          </span><span style=\"color: #ffffff; text-decoration-color: #ffffff; background-color: #8c6d31\">          </span>\n",
       "<span style=\"color: #ffffff; text-decoration-color: #ffffff; background-color: #393b79\">          </span><span style=\"color: #ffffff; text-decoration-color: #ffffff; background-color: #d6616b\">          </span><span style=\"color: #ffffff; text-decoration-color: #ffffff; background-color: #8ca252\">          </span><span style=\"color: #ffffff; text-decoration-color: #ffffff; background-color: #de9ed6\">          </span><span style=\"color: #000000; text-decoration-color: #000000; background-color: #e7cb94\">          </span><span style=\"color: #ffffff; text-decoration-color: #ffffff; background-color: #6b6ecf\">          </span><span style=\"color: #ffffff; text-decoration-color: #ffffff; background-color: #a55194\">          </span><span style=\"color: #ffffff; text-decoration-color: #ffffff; background-color: #8c6d31\">          </span>\n",
       "<span style=\"color: #ffffff; text-decoration-color: #ffffff; background-color: #393b79\">          </span><span style=\"color: #ffffff; text-decoration-color: #ffffff; background-color: #d6616b\">          </span><span style=\"color: #ffffff; text-decoration-color: #ffffff; background-color: #8ca252\">          </span><span style=\"color: #ffffff; text-decoration-color: #ffffff; background-color: #de9ed6\">          </span><span style=\"color: #000000; text-decoration-color: #000000; background-color: #e7cb94\">          </span><span style=\"color: #ffffff; text-decoration-color: #ffffff; background-color: #6b6ecf\">          </span><span style=\"color: #ffffff; text-decoration-color: #ffffff; background-color: #a55194\">          </span><span style=\"color: #ffffff; text-decoration-color: #ffffff; background-color: #8c6d31\">          </span>\n",
       "<span style=\"color: #ffffff; text-decoration-color: #ffffff; background-color: #393b79\">          </span><span style=\"color: #ffffff; text-decoration-color: #ffffff; background-color: #d6616b\">          </span><span style=\"color: #ffffff; text-decoration-color: #ffffff; background-color: #8ca252\">          </span><span style=\"color: #ffffff; text-decoration-color: #ffffff; background-color: #de9ed6\">          </span><span style=\"color: #000000; text-decoration-color: #000000; background-color: #e7cb94\">          </span><span style=\"color: #ffffff; text-decoration-color: #ffffff; background-color: #6b6ecf\">          </span><span style=\"color: #ffffff; text-decoration-color: #ffffff; background-color: #a55194\">          </span><span style=\"color: #ffffff; text-decoration-color: #ffffff; background-color: #8c6d31\">          </span>\n",
       "<span style=\"color: #ffffff; text-decoration-color: #ffffff; background-color: #393b79\">          </span><span style=\"color: #ffffff; text-decoration-color: #ffffff; background-color: #d6616b\">          </span><span style=\"color: #ffffff; text-decoration-color: #ffffff; background-color: #8ca252\">          </span><span style=\"color: #ffffff; text-decoration-color: #ffffff; background-color: #de9ed6\">          </span><span style=\"color: #000000; text-decoration-color: #000000; background-color: #e7cb94\">          </span><span style=\"color: #ffffff; text-decoration-color: #ffffff; background-color: #6b6ecf\">          </span><span style=\"color: #ffffff; text-decoration-color: #ffffff; background-color: #a55194\">          </span><span style=\"color: #ffffff; text-decoration-color: #ffffff; background-color: #8c6d31\">          </span>\n",
       "<span style=\"color: #ffffff; text-decoration-color: #ffffff; background-color: #393b79\">          </span><span style=\"color: #ffffff; text-decoration-color: #ffffff; background-color: #d6616b\">          </span><span style=\"color: #ffffff; text-decoration-color: #ffffff; background-color: #8ca252\">          </span><span style=\"color: #ffffff; text-decoration-color: #ffffff; background-color: #de9ed6\">          </span><span style=\"color: #000000; text-decoration-color: #000000; background-color: #e7cb94\">          </span><span style=\"color: #ffffff; text-decoration-color: #ffffff; background-color: #6b6ecf\">          </span><span style=\"color: #ffffff; text-decoration-color: #ffffff; background-color: #a55194\">          </span><span style=\"color: #ffffff; text-decoration-color: #ffffff; background-color: #8c6d31\">          </span>\n",
       "<span style=\"color: #ffffff; text-decoration-color: #ffffff; background-color: #393b79\">          </span><span style=\"color: #ffffff; text-decoration-color: #ffffff; background-color: #d6616b\">          </span><span style=\"color: #ffffff; text-decoration-color: #ffffff; background-color: #8ca252\">          </span><span style=\"color: #ffffff; text-decoration-color: #ffffff; background-color: #de9ed6\">          </span><span style=\"color: #000000; text-decoration-color: #000000; background-color: #e7cb94\">          </span><span style=\"color: #ffffff; text-decoration-color: #ffffff; background-color: #6b6ecf\">          </span><span style=\"color: #ffffff; text-decoration-color: #ffffff; background-color: #a55194\">          </span><span style=\"color: #ffffff; text-decoration-color: #ffffff; background-color: #8c6d31\">          </span>\n",
       "<span style=\"color: #ffffff; text-decoration-color: #ffffff; background-color: #393b79\">          </span><span style=\"color: #ffffff; text-decoration-color: #ffffff; background-color: #d6616b\">          </span><span style=\"color: #ffffff; text-decoration-color: #ffffff; background-color: #8ca252\">          </span><span style=\"color: #ffffff; text-decoration-color: #ffffff; background-color: #de9ed6\">          </span><span style=\"color: #000000; text-decoration-color: #000000; background-color: #e7cb94\">          </span><span style=\"color: #ffffff; text-decoration-color: #ffffff; background-color: #6b6ecf\">          </span><span style=\"color: #ffffff; text-decoration-color: #ffffff; background-color: #a55194\">          </span><span style=\"color: #ffffff; text-decoration-color: #ffffff; background-color: #8c6d31\">          </span>\n",
       "</pre>\n"
      ],
      "text/plain": [
       "\u001b[38;2;255;255;255;48;2;57;59;121m          \u001b[0m\u001b[38;2;255;255;255;48;2;214;97;107m          \u001b[0m\u001b[38;2;255;255;255;48;2;140;162;82m          \u001b[0m\u001b[38;2;255;255;255;48;2;222;158;214m          \u001b[0m\u001b[38;2;0;0;0;48;2;231;203;148m          \u001b[0m\u001b[38;2;255;255;255;48;2;107;110;207m          \u001b[0m\u001b[38;2;255;255;255;48;2;165;81;148m          \u001b[0m\u001b[38;2;255;255;255;48;2;140;109;49m          \u001b[0m\n",
       "\u001b[38;2;255;255;255;48;2;57;59;121m          \u001b[0m\u001b[38;2;255;255;255;48;2;214;97;107m          \u001b[0m\u001b[38;2;255;255;255;48;2;140;162;82m          \u001b[0m\u001b[38;2;255;255;255;48;2;222;158;214m          \u001b[0m\u001b[38;2;0;0;0;48;2;231;203;148m          \u001b[0m\u001b[38;2;255;255;255;48;2;107;110;207m          \u001b[0m\u001b[38;2;255;255;255;48;2;165;81;148m          \u001b[0m\u001b[38;2;255;255;255;48;2;140;109;49m          \u001b[0m\n",
       "\u001b[38;2;255;255;255;48;2;57;59;121m          \u001b[0m\u001b[38;2;255;255;255;48;2;214;97;107m          \u001b[0m\u001b[38;2;255;255;255;48;2;140;162;82m          \u001b[0m\u001b[38;2;255;255;255;48;2;222;158;214m          \u001b[0m\u001b[38;2;0;0;0;48;2;231;203;148m          \u001b[0m\u001b[38;2;255;255;255;48;2;107;110;207m          \u001b[0m\u001b[38;2;255;255;255;48;2;165;81;148m          \u001b[0m\u001b[38;2;255;255;255;48;2;140;109;49m          \u001b[0m\n",
       "\u001b[38;2;255;255;255;48;2;57;59;121m          \u001b[0m\u001b[38;2;255;255;255;48;2;214;97;107m          \u001b[0m\u001b[38;2;255;255;255;48;2;140;162;82m          \u001b[0m\u001b[38;2;255;255;255;48;2;222;158;214m          \u001b[0m\u001b[38;2;0;0;0;48;2;231;203;148m          \u001b[0m\u001b[38;2;255;255;255;48;2;107;110;207m          \u001b[0m\u001b[38;2;255;255;255;48;2;165;81;148m          \u001b[0m\u001b[38;2;255;255;255;48;2;140;109;49m          \u001b[0m\n",
       "\u001b[38;2;255;255;255;48;2;57;59;121m          \u001b[0m\u001b[38;2;255;255;255;48;2;214;97;107m          \u001b[0m\u001b[38;2;255;255;255;48;2;140;162;82m          \u001b[0m\u001b[38;2;255;255;255;48;2;222;158;214m          \u001b[0m\u001b[38;2;0;0;0;48;2;231;203;148m          \u001b[0m\u001b[38;2;255;255;255;48;2;107;110;207m          \u001b[0m\u001b[38;2;255;255;255;48;2;165;81;148m          \u001b[0m\u001b[38;2;255;255;255;48;2;140;109;49m          \u001b[0m\n",
       "\u001b[38;2;255;255;255;48;2;57;59;121m          \u001b[0m\u001b[38;2;255;255;255;48;2;214;97;107m          \u001b[0m\u001b[38;2;255;255;255;48;2;140;162;82m          \u001b[0m\u001b[38;2;255;255;255;48;2;222;158;214m          \u001b[0m\u001b[38;2;0;0;0;48;2;231;203;148m          \u001b[0m\u001b[38;2;255;255;255;48;2;107;110;207m          \u001b[0m\u001b[38;2;255;255;255;48;2;165;81;148m          \u001b[0m\u001b[38;2;255;255;255;48;2;140;109;49m          \u001b[0m\n",
       "\u001b[38;2;255;255;255;48;2;57;59;121m          \u001b[0m\u001b[38;2;255;255;255;48;2;214;97;107m          \u001b[0m\u001b[38;2;255;255;255;48;2;140;162;82m          \u001b[0m\u001b[38;2;255;255;255;48;2;222;158;214m          \u001b[0m\u001b[38;2;0;0;0;48;2;231;203;148m          \u001b[0m\u001b[38;2;255;255;255;48;2;107;110;207m          \u001b[0m\u001b[38;2;255;255;255;48;2;165;81;148m          \u001b[0m\u001b[38;2;255;255;255;48;2;140;109;49m          \u001b[0m\n",
       "\u001b[38;2;255;255;255;48;2;57;59;121m          \u001b[0m\u001b[38;2;255;255;255;48;2;214;97;107m          \u001b[0m\u001b[38;2;255;255;255;48;2;140;162;82m          \u001b[0m\u001b[38;2;255;255;255;48;2;222;158;214m          \u001b[0m\u001b[38;2;0;0;0;48;2;231;203;148m          \u001b[0m\u001b[38;2;255;255;255;48;2;107;110;207m          \u001b[0m\u001b[38;2;255;255;255;48;2;165;81;148m          \u001b[0m\u001b[38;2;255;255;255;48;2;140;109;49m          \u001b[0m\n",
       "\u001b[38;2;255;255;255;48;2;57;59;121m          \u001b[0m\u001b[38;2;255;255;255;48;2;214;97;107m          \u001b[0m\u001b[38;2;255;255;255;48;2;140;162;82m          \u001b[0m\u001b[38;2;255;255;255;48;2;222;158;214m          \u001b[0m\u001b[38;2;0;0;0;48;2;231;203;148m          \u001b[0m\u001b[38;2;255;255;255;48;2;107;110;207m          \u001b[0m\u001b[38;2;255;255;255;48;2;165;81;148m          \u001b[0m\u001b[38;2;255;255;255;48;2;140;109;49m          \u001b[0m\n",
       "\u001b[38;2;255;255;255;48;2;57;59;121m          \u001b[0m\u001b[38;2;255;255;255;48;2;214;97;107m          \u001b[0m\u001b[38;2;255;255;255;48;2;140;162;82m          \u001b[0m\u001b[38;2;255;255;255;48;2;222;158;214m          \u001b[0m\u001b[38;2;0;0;0;48;2;231;203;148m          \u001b[0m\u001b[38;2;255;255;255;48;2;107;110;207m          \u001b[0m\u001b[38;2;255;255;255;48;2;165;81;148m          \u001b[0m\u001b[38;2;255;255;255;48;2;140;109;49m          \u001b[0m\n"
      ]
     },
     "metadata": {},
     "output_type": "display_data"
    },
    {
     "data": {
      "text/html": [
       "<pre style=\"white-space:pre;overflow-x:auto;line-height:normal;font-family:Menlo,'DejaVu Sans Mono',consolas,'Courier New',monospace\"><span style=\"color: #ffffff; text-decoration-color: #ffffff; background-color: #393b79\">CPU 0,1,2,3,4,5,6,7</span>\n",
       "<span style=\"color: #ffffff; text-decoration-color: #ffffff; background-color: #393b79\">                   </span>\n",
       "</pre>\n"
      ],
      "text/plain": [
       "\u001b[38;2;255;255;255;48;2;57;59;121mCPU 0,1,2,3,4,5,6,7\u001b[0m\n",
       "\u001b[38;2;255;255;255;48;2;57;59;121m                   \u001b[0m\n"
      ]
     },
     "metadata": {},
     "output_type": "display_data"
    },
    {
     "data": {
      "text/html": [
       "<pre style=\"white-space:pre;overflow-x:auto;line-height:normal;font-family:Menlo,'DejaVu Sans Mono',consolas,'Courier New',monospace\"><span style=\"color: #ffffff; text-decoration-color: #ffffff; background-color: #393b79\">         </span><span style=\"color: #ffffff; text-decoration-color: #ffffff; background-color: #d6616b\">         </span><span style=\"color: #ffffff; text-decoration-color: #ffffff; background-color: #8ca252\">         </span><span style=\"color: #ffffff; text-decoration-color: #ffffff; background-color: #de9ed6\">         </span><span style=\"color: #000000; text-decoration-color: #000000; background-color: #e7cb94\">         </span><span style=\"color: #ffffff; text-decoration-color: #ffffff; background-color: #6b6ecf\">         </span><span style=\"color: #ffffff; text-decoration-color: #ffffff; background-color: #a55194\">         </span><span style=\"color: #ffffff; text-decoration-color: #ffffff; background-color: #8c6d31\">         </span>\n",
       "<span style=\"color: #ffffff; text-decoration-color: #ffffff; background-color: #393b79\">         </span><span style=\"color: #ffffff; text-decoration-color: #ffffff; background-color: #d6616b\">         </span><span style=\"color: #ffffff; text-decoration-color: #ffffff; background-color: #8ca252\">         </span><span style=\"color: #ffffff; text-decoration-color: #ffffff; background-color: #de9ed6\">         </span><span style=\"color: #000000; text-decoration-color: #000000; background-color: #e7cb94\">         </span><span style=\"color: #ffffff; text-decoration-color: #ffffff; background-color: #6b6ecf\">         </span><span style=\"color: #ffffff; text-decoration-color: #ffffff; background-color: #a55194\">         </span><span style=\"color: #ffffff; text-decoration-color: #ffffff; background-color: #8c6d31\">         </span>\n",
       "<span style=\"color: #ffffff; text-decoration-color: #ffffff; background-color: #393b79\">         </span><span style=\"color: #ffffff; text-decoration-color: #ffffff; background-color: #d6616b\">         </span><span style=\"color: #ffffff; text-decoration-color: #ffffff; background-color: #8ca252\">         </span><span style=\"color: #ffffff; text-decoration-color: #ffffff; background-color: #de9ed6\">         </span><span style=\"color: #000000; text-decoration-color: #000000; background-color: #e7cb94\">         </span><span style=\"color: #ffffff; text-decoration-color: #ffffff; background-color: #6b6ecf\">         </span><span style=\"color: #ffffff; text-decoration-color: #ffffff; background-color: #a55194\">         </span><span style=\"color: #ffffff; text-decoration-color: #ffffff; background-color: #8c6d31\">         </span>\n",
       "<span style=\"color: #ffffff; text-decoration-color: #ffffff; background-color: #393b79\">         </span><span style=\"color: #ffffff; text-decoration-color: #ffffff; background-color: #d6616b\">         </span><span style=\"color: #ffffff; text-decoration-color: #ffffff; background-color: #8ca252\">         </span><span style=\"color: #ffffff; text-decoration-color: #ffffff; background-color: #de9ed6\">         </span><span style=\"color: #000000; text-decoration-color: #000000; background-color: #e7cb94\">         </span><span style=\"color: #ffffff; text-decoration-color: #ffffff; background-color: #6b6ecf\">         </span><span style=\"color: #ffffff; text-decoration-color: #ffffff; background-color: #a55194\">         </span><span style=\"color: #ffffff; text-decoration-color: #ffffff; background-color: #8c6d31\">         </span>\n",
       "<span style=\"color: #ffffff; text-decoration-color: #ffffff; background-color: #393b79\">         </span><span style=\"color: #ffffff; text-decoration-color: #ffffff; background-color: #d6616b\">         </span><span style=\"color: #ffffff; text-decoration-color: #ffffff; background-color: #8ca252\">         </span><span style=\"color: #ffffff; text-decoration-color: #ffffff; background-color: #de9ed6\">         </span><span style=\"color: #000000; text-decoration-color: #000000; background-color: #e7cb94\">         </span><span style=\"color: #ffffff; text-decoration-color: #ffffff; background-color: #6b6ecf\">         </span><span style=\"color: #ffffff; text-decoration-color: #ffffff; background-color: #a55194\">         </span><span style=\"color: #ffffff; text-decoration-color: #ffffff; background-color: #8c6d31\">         </span>\n",
       "<span style=\"color: #ffffff; text-decoration-color: #ffffff; background-color: #393b79\">  CPU 0  </span><span style=\"color: #ffffff; text-decoration-color: #ffffff; background-color: #d6616b\">  CPU 1  </span><span style=\"color: #ffffff; text-decoration-color: #ffffff; background-color: #8ca252\">  CPU 2  </span><span style=\"color: #ffffff; text-decoration-color: #ffffff; background-color: #de9ed6\">  CPU 3  </span><span style=\"color: #000000; text-decoration-color: #000000; background-color: #e7cb94\">  CPU 4  </span><span style=\"color: #ffffff; text-decoration-color: #ffffff; background-color: #6b6ecf\">  CPU 5  </span><span style=\"color: #ffffff; text-decoration-color: #ffffff; background-color: #a55194\">  CPU 6  </span><span style=\"color: #ffffff; text-decoration-color: #ffffff; background-color: #8c6d31\">  CPU 7  </span>\n",
       "<span style=\"color: #ffffff; text-decoration-color: #ffffff; background-color: #393b79\">         </span><span style=\"color: #ffffff; text-decoration-color: #ffffff; background-color: #d6616b\">         </span><span style=\"color: #ffffff; text-decoration-color: #ffffff; background-color: #8ca252\">         </span><span style=\"color: #ffffff; text-decoration-color: #ffffff; background-color: #de9ed6\">         </span><span style=\"color: #000000; text-decoration-color: #000000; background-color: #e7cb94\">         </span><span style=\"color: #ffffff; text-decoration-color: #ffffff; background-color: #6b6ecf\">         </span><span style=\"color: #ffffff; text-decoration-color: #ffffff; background-color: #a55194\">         </span><span style=\"color: #ffffff; text-decoration-color: #ffffff; background-color: #8c6d31\">         </span>\n",
       "<span style=\"color: #ffffff; text-decoration-color: #ffffff; background-color: #393b79\">         </span><span style=\"color: #ffffff; text-decoration-color: #ffffff; background-color: #d6616b\">         </span><span style=\"color: #ffffff; text-decoration-color: #ffffff; background-color: #8ca252\">         </span><span style=\"color: #ffffff; text-decoration-color: #ffffff; background-color: #de9ed6\">         </span><span style=\"color: #000000; text-decoration-color: #000000; background-color: #e7cb94\">         </span><span style=\"color: #ffffff; text-decoration-color: #ffffff; background-color: #6b6ecf\">         </span><span style=\"color: #ffffff; text-decoration-color: #ffffff; background-color: #a55194\">         </span><span style=\"color: #ffffff; text-decoration-color: #ffffff; background-color: #8c6d31\">         </span>\n",
       "<span style=\"color: #ffffff; text-decoration-color: #ffffff; background-color: #393b79\">         </span><span style=\"color: #ffffff; text-decoration-color: #ffffff; background-color: #d6616b\">         </span><span style=\"color: #ffffff; text-decoration-color: #ffffff; background-color: #8ca252\">         </span><span style=\"color: #ffffff; text-decoration-color: #ffffff; background-color: #de9ed6\">         </span><span style=\"color: #000000; text-decoration-color: #000000; background-color: #e7cb94\">         </span><span style=\"color: #ffffff; text-decoration-color: #ffffff; background-color: #6b6ecf\">         </span><span style=\"color: #ffffff; text-decoration-color: #ffffff; background-color: #a55194\">         </span><span style=\"color: #ffffff; text-decoration-color: #ffffff; background-color: #8c6d31\">         </span>\n",
       "<span style=\"color: #ffffff; text-decoration-color: #ffffff; background-color: #393b79\">         </span><span style=\"color: #ffffff; text-decoration-color: #ffffff; background-color: #d6616b\">         </span><span style=\"color: #ffffff; text-decoration-color: #ffffff; background-color: #8ca252\">         </span><span style=\"color: #ffffff; text-decoration-color: #ffffff; background-color: #de9ed6\">         </span><span style=\"color: #000000; text-decoration-color: #000000; background-color: #e7cb94\">         </span><span style=\"color: #ffffff; text-decoration-color: #ffffff; background-color: #6b6ecf\">         </span><span style=\"color: #ffffff; text-decoration-color: #ffffff; background-color: #a55194\">         </span><span style=\"color: #ffffff; text-decoration-color: #ffffff; background-color: #8c6d31\">         </span>\n",
       "<span style=\"color: #ffffff; text-decoration-color: #ffffff; background-color: #393b79\">         </span><span style=\"color: #ffffff; text-decoration-color: #ffffff; background-color: #d6616b\">         </span><span style=\"color: #ffffff; text-decoration-color: #ffffff; background-color: #8ca252\">         </span><span style=\"color: #ffffff; text-decoration-color: #ffffff; background-color: #de9ed6\">         </span><span style=\"color: #000000; text-decoration-color: #000000; background-color: #e7cb94\">         </span><span style=\"color: #ffffff; text-decoration-color: #ffffff; background-color: #6b6ecf\">         </span><span style=\"color: #ffffff; text-decoration-color: #ffffff; background-color: #a55194\">         </span><span style=\"color: #ffffff; text-decoration-color: #ffffff; background-color: #8c6d31\">         </span>\n",
       "</pre>\n"
      ],
      "text/plain": [
       "\u001b[38;2;255;255;255;48;2;57;59;121m         \u001b[0m\u001b[38;2;255;255;255;48;2;214;97;107m         \u001b[0m\u001b[38;2;255;255;255;48;2;140;162;82m         \u001b[0m\u001b[38;2;255;255;255;48;2;222;158;214m         \u001b[0m\u001b[38;2;0;0;0;48;2;231;203;148m         \u001b[0m\u001b[38;2;255;255;255;48;2;107;110;207m         \u001b[0m\u001b[38;2;255;255;255;48;2;165;81;148m         \u001b[0m\u001b[38;2;255;255;255;48;2;140;109;49m         \u001b[0m\n",
       "\u001b[38;2;255;255;255;48;2;57;59;121m         \u001b[0m\u001b[38;2;255;255;255;48;2;214;97;107m         \u001b[0m\u001b[38;2;255;255;255;48;2;140;162;82m         \u001b[0m\u001b[38;2;255;255;255;48;2;222;158;214m         \u001b[0m\u001b[38;2;0;0;0;48;2;231;203;148m         \u001b[0m\u001b[38;2;255;255;255;48;2;107;110;207m         \u001b[0m\u001b[38;2;255;255;255;48;2;165;81;148m         \u001b[0m\u001b[38;2;255;255;255;48;2;140;109;49m         \u001b[0m\n",
       "\u001b[38;2;255;255;255;48;2;57;59;121m         \u001b[0m\u001b[38;2;255;255;255;48;2;214;97;107m         \u001b[0m\u001b[38;2;255;255;255;48;2;140;162;82m         \u001b[0m\u001b[38;2;255;255;255;48;2;222;158;214m         \u001b[0m\u001b[38;2;0;0;0;48;2;231;203;148m         \u001b[0m\u001b[38;2;255;255;255;48;2;107;110;207m         \u001b[0m\u001b[38;2;255;255;255;48;2;165;81;148m         \u001b[0m\u001b[38;2;255;255;255;48;2;140;109;49m         \u001b[0m\n",
       "\u001b[38;2;255;255;255;48;2;57;59;121m         \u001b[0m\u001b[38;2;255;255;255;48;2;214;97;107m         \u001b[0m\u001b[38;2;255;255;255;48;2;140;162;82m         \u001b[0m\u001b[38;2;255;255;255;48;2;222;158;214m         \u001b[0m\u001b[38;2;0;0;0;48;2;231;203;148m         \u001b[0m\u001b[38;2;255;255;255;48;2;107;110;207m         \u001b[0m\u001b[38;2;255;255;255;48;2;165;81;148m         \u001b[0m\u001b[38;2;255;255;255;48;2;140;109;49m         \u001b[0m\n",
       "\u001b[38;2;255;255;255;48;2;57;59;121m         \u001b[0m\u001b[38;2;255;255;255;48;2;214;97;107m         \u001b[0m\u001b[38;2;255;255;255;48;2;140;162;82m         \u001b[0m\u001b[38;2;255;255;255;48;2;222;158;214m         \u001b[0m\u001b[38;2;0;0;0;48;2;231;203;148m         \u001b[0m\u001b[38;2;255;255;255;48;2;107;110;207m         \u001b[0m\u001b[38;2;255;255;255;48;2;165;81;148m         \u001b[0m\u001b[38;2;255;255;255;48;2;140;109;49m         \u001b[0m\n",
       "\u001b[38;2;255;255;255;48;2;57;59;121m  \u001b[0m\u001b[38;2;255;255;255;48;2;57;59;121mCPU 0\u001b[0m\u001b[38;2;255;255;255;48;2;57;59;121m  \u001b[0m\u001b[38;2;255;255;255;48;2;214;97;107m  \u001b[0m\u001b[38;2;255;255;255;48;2;214;97;107mCPU 1\u001b[0m\u001b[38;2;255;255;255;48;2;214;97;107m  \u001b[0m\u001b[38;2;255;255;255;48;2;140;162;82m  \u001b[0m\u001b[38;2;255;255;255;48;2;140;162;82mCPU 2\u001b[0m\u001b[38;2;255;255;255;48;2;140;162;82m  \u001b[0m\u001b[38;2;255;255;255;48;2;222;158;214m  \u001b[0m\u001b[38;2;255;255;255;48;2;222;158;214mCPU 3\u001b[0m\u001b[38;2;255;255;255;48;2;222;158;214m  \u001b[0m\u001b[38;2;0;0;0;48;2;231;203;148m  \u001b[0m\u001b[38;2;0;0;0;48;2;231;203;148mCPU 4\u001b[0m\u001b[38;2;0;0;0;48;2;231;203;148m  \u001b[0m\u001b[38;2;255;255;255;48;2;107;110;207m  \u001b[0m\u001b[38;2;255;255;255;48;2;107;110;207mCPU 5\u001b[0m\u001b[38;2;255;255;255;48;2;107;110;207m  \u001b[0m\u001b[38;2;255;255;255;48;2;165;81;148m  \u001b[0m\u001b[38;2;255;255;255;48;2;165;81;148mCPU 6\u001b[0m\u001b[38;2;255;255;255;48;2;165;81;148m  \u001b[0m\u001b[38;2;255;255;255;48;2;140;109;49m  \u001b[0m\u001b[38;2;255;255;255;48;2;140;109;49mCPU 7\u001b[0m\u001b[38;2;255;255;255;48;2;140;109;49m  \u001b[0m\n",
       "\u001b[38;2;255;255;255;48;2;57;59;121m         \u001b[0m\u001b[38;2;255;255;255;48;2;214;97;107m         \u001b[0m\u001b[38;2;255;255;255;48;2;140;162;82m         \u001b[0m\u001b[38;2;255;255;255;48;2;222;158;214m         \u001b[0m\u001b[38;2;0;0;0;48;2;231;203;148m         \u001b[0m\u001b[38;2;255;255;255;48;2;107;110;207m         \u001b[0m\u001b[38;2;255;255;255;48;2;165;81;148m         \u001b[0m\u001b[38;2;255;255;255;48;2;140;109;49m         \u001b[0m\n",
       "\u001b[38;2;255;255;255;48;2;57;59;121m         \u001b[0m\u001b[38;2;255;255;255;48;2;214;97;107m         \u001b[0m\u001b[38;2;255;255;255;48;2;140;162;82m         \u001b[0m\u001b[38;2;255;255;255;48;2;222;158;214m         \u001b[0m\u001b[38;2;0;0;0;48;2;231;203;148m         \u001b[0m\u001b[38;2;255;255;255;48;2;107;110;207m         \u001b[0m\u001b[38;2;255;255;255;48;2;165;81;148m         \u001b[0m\u001b[38;2;255;255;255;48;2;140;109;49m         \u001b[0m\n",
       "\u001b[38;2;255;255;255;48;2;57;59;121m         \u001b[0m\u001b[38;2;255;255;255;48;2;214;97;107m         \u001b[0m\u001b[38;2;255;255;255;48;2;140;162;82m         \u001b[0m\u001b[38;2;255;255;255;48;2;222;158;214m         \u001b[0m\u001b[38;2;0;0;0;48;2;231;203;148m         \u001b[0m\u001b[38;2;255;255;255;48;2;107;110;207m         \u001b[0m\u001b[38;2;255;255;255;48;2;165;81;148m         \u001b[0m\u001b[38;2;255;255;255;48;2;140;109;49m         \u001b[0m\n",
       "\u001b[38;2;255;255;255;48;2;57;59;121m         \u001b[0m\u001b[38;2;255;255;255;48;2;214;97;107m         \u001b[0m\u001b[38;2;255;255;255;48;2;140;162;82m         \u001b[0m\u001b[38;2;255;255;255;48;2;222;158;214m         \u001b[0m\u001b[38;2;0;0;0;48;2;231;203;148m         \u001b[0m\u001b[38;2;255;255;255;48;2;107;110;207m         \u001b[0m\u001b[38;2;255;255;255;48;2;165;81;148m         \u001b[0m\u001b[38;2;255;255;255;48;2;140;109;49m         \u001b[0m\n",
       "\u001b[38;2;255;255;255;48;2;57;59;121m         \u001b[0m\u001b[38;2;255;255;255;48;2;214;97;107m         \u001b[0m\u001b[38;2;255;255;255;48;2;140;162;82m         \u001b[0m\u001b[38;2;255;255;255;48;2;222;158;214m         \u001b[0m\u001b[38;2;0;0;0;48;2;231;203;148m         \u001b[0m\u001b[38;2;255;255;255;48;2;107;110;207m         \u001b[0m\u001b[38;2;255;255;255;48;2;165;81;148m         \u001b[0m\u001b[38;2;255;255;255;48;2;140;109;49m         \u001b[0m\n"
      ]
     },
     "metadata": {},
     "output_type": "display_data"
    },
    {
     "data": {
      "text/html": [
       "<pre style=\"white-space:pre;overflow-x:auto;line-height:normal;font-family:Menlo,'DejaVu Sans Mono',consolas,'Courier New',monospace\"><span style=\"color: #ffffff; text-decoration-color: #ffffff; background-color: #393b79\">CPU 0,1,2,3,4,5,6,7</span>\n",
       "<span style=\"color: #ffffff; text-decoration-color: #ffffff; background-color: #393b79\">                   </span>\n",
       "</pre>\n"
      ],
      "text/plain": [
       "\u001b[38;2;255;255;255;48;2;57;59;121mCPU 0,1,2,3,4,5,6,7\u001b[0m\n",
       "\u001b[38;2;255;255;255;48;2;57;59;121m                   \u001b[0m\n"
      ]
     },
     "metadata": {},
     "output_type": "display_data"
    },
    {
     "data": {
      "text/html": [
       "<pre style=\"white-space:pre;overflow-x:auto;line-height:normal;font-family:Menlo,'DejaVu Sans Mono',consolas,'Courier New',monospace\"><span style=\"color: #ffffff; text-decoration-color: #ffffff; background-color: #393b79\">CPU 0,1,2,3,4,5,6,7</span>\n",
       "<span style=\"color: #ffffff; text-decoration-color: #ffffff; background-color: #393b79\">                   </span>\n",
       "</pre>\n"
      ],
      "text/plain": [
       "\u001b[38;2;255;255;255;48;2;57;59;121mCPU 0,1,2,3,4,5,6,7\u001b[0m\n",
       "\u001b[38;2;255;255;255;48;2;57;59;121m                   \u001b[0m\n"
      ]
     },
     "metadata": {},
     "output_type": "display_data"
    },
    {
     "data": {
      "text/html": [
       "<pre style=\"white-space:pre;overflow-x:auto;line-height:normal;font-family:Menlo,'DejaVu Sans Mono',consolas,'Courier New',monospace\"><span style=\"color: #ffffff; text-decoration-color: #ffffff; background-color: #393b79\">CPU 0,1,2,3,4,5,6,7</span>\n",
       "<span style=\"color: #ffffff; text-decoration-color: #ffffff; background-color: #393b79\">                   </span>\n",
       "</pre>\n"
      ],
      "text/plain": [
       "\u001b[38;2;255;255;255;48;2;57;59;121mCPU 0,1,2,3,4,5,6,7\u001b[0m\n",
       "\u001b[38;2;255;255;255;48;2;57;59;121m                   \u001b[0m\n"
      ]
     },
     "metadata": {},
     "output_type": "display_data"
    },
    {
     "data": {
      "text/html": [
       "<pre style=\"white-space:pre;overflow-x:auto;line-height:normal;font-family:Menlo,'DejaVu Sans Mono',consolas,'Courier New',monospace\"><span style=\"color: #ffffff; text-decoration-color: #ffffff; background-color: #393b79\">CPU 0,1,2,3,4,5,6,7</span>\n",
       "<span style=\"color: #ffffff; text-decoration-color: #ffffff; background-color: #393b79\">                   </span>\n",
       "</pre>\n"
      ],
      "text/plain": [
       "\u001b[38;2;255;255;255;48;2;57;59;121mCPU 0,1,2,3,4,5,6,7\u001b[0m\n",
       "\u001b[38;2;255;255;255;48;2;57;59;121m                   \u001b[0m\n"
      ]
     },
     "metadata": {},
     "output_type": "display_data"
    },
    {
     "data": {
      "text/html": [
       "<pre style=\"white-space:pre;overflow-x:auto;line-height:normal;font-family:Menlo,'DejaVu Sans Mono',consolas,'Courier New',monospace\"><span style=\"color: #ffffff; text-decoration-color: #ffffff; background-color: #393b79\">CPU 0,1,2,3,4,5,6,7</span>\n",
       "<span style=\"color: #ffffff; text-decoration-color: #ffffff; background-color: #393b79\">                   </span>\n",
       "</pre>\n"
      ],
      "text/plain": [
       "\u001b[38;2;255;255;255;48;2;57;59;121mCPU 0,1,2,3,4,5,6,7\u001b[0m\n",
       "\u001b[38;2;255;255;255;48;2;57;59;121m                   \u001b[0m\n"
      ]
     },
     "metadata": {},
     "output_type": "display_data"
    },
    {
     "data": {
      "text/html": [
       "<pre style=\"white-space:pre;overflow-x:auto;line-height:normal;font-family:Menlo,'DejaVu Sans Mono',consolas,'Courier New',monospace\"><span style=\"color: #ffffff; text-decoration-color: #ffffff; background-color: #393b79\">          </span><span style=\"color: #ffffff; text-decoration-color: #ffffff; background-color: #d6616b\">          </span><span style=\"color: #ffffff; text-decoration-color: #ffffff; background-color: #8ca252\">          </span><span style=\"color: #ffffff; text-decoration-color: #ffffff; background-color: #de9ed6\">          </span><span style=\"color: #000000; text-decoration-color: #000000; background-color: #e7cb94\">          </span><span style=\"color: #ffffff; text-decoration-color: #ffffff; background-color: #6b6ecf\">          </span><span style=\"color: #ffffff; text-decoration-color: #ffffff; background-color: #a55194\">          </span><span style=\"color: #ffffff; text-decoration-color: #ffffff; background-color: #8c6d31\">          </span>\n",
       "<span style=\"color: #ffffff; text-decoration-color: #ffffff; background-color: #393b79\">          </span><span style=\"color: #ffffff; text-decoration-color: #ffffff; background-color: #d6616b\">          </span><span style=\"color: #ffffff; text-decoration-color: #ffffff; background-color: #8ca252\">          </span><span style=\"color: #ffffff; text-decoration-color: #ffffff; background-color: #de9ed6\">          </span><span style=\"color: #000000; text-decoration-color: #000000; background-color: #e7cb94\">          </span><span style=\"color: #ffffff; text-decoration-color: #ffffff; background-color: #6b6ecf\">          </span><span style=\"color: #ffffff; text-decoration-color: #ffffff; background-color: #a55194\">          </span><span style=\"color: #ffffff; text-decoration-color: #ffffff; background-color: #8c6d31\">          </span>\n",
       "<span style=\"color: #ffffff; text-decoration-color: #ffffff; background-color: #393b79\">          </span><span style=\"color: #ffffff; text-decoration-color: #ffffff; background-color: #d6616b\">          </span><span style=\"color: #ffffff; text-decoration-color: #ffffff; background-color: #8ca252\">          </span><span style=\"color: #ffffff; text-decoration-color: #ffffff; background-color: #de9ed6\">          </span><span style=\"color: #000000; text-decoration-color: #000000; background-color: #e7cb94\">          </span><span style=\"color: #ffffff; text-decoration-color: #ffffff; background-color: #6b6ecf\">          </span><span style=\"color: #ffffff; text-decoration-color: #ffffff; background-color: #a55194\">          </span><span style=\"color: #ffffff; text-decoration-color: #ffffff; background-color: #8c6d31\">          </span>\n",
       "<span style=\"color: #ffffff; text-decoration-color: #ffffff; background-color: #393b79\">          </span><span style=\"color: #ffffff; text-decoration-color: #ffffff; background-color: #d6616b\">          </span><span style=\"color: #ffffff; text-decoration-color: #ffffff; background-color: #8ca252\">          </span><span style=\"color: #ffffff; text-decoration-color: #ffffff; background-color: #de9ed6\">          </span><span style=\"color: #000000; text-decoration-color: #000000; background-color: #e7cb94\">          </span><span style=\"color: #ffffff; text-decoration-color: #ffffff; background-color: #6b6ecf\">          </span><span style=\"color: #ffffff; text-decoration-color: #ffffff; background-color: #a55194\">          </span><span style=\"color: #ffffff; text-decoration-color: #ffffff; background-color: #8c6d31\">          </span>\n",
       "<span style=\"color: #ffffff; text-decoration-color: #ffffff; background-color: #393b79\">          </span><span style=\"color: #ffffff; text-decoration-color: #ffffff; background-color: #d6616b\">          </span><span style=\"color: #ffffff; text-decoration-color: #ffffff; background-color: #8ca252\">          </span><span style=\"color: #ffffff; text-decoration-color: #ffffff; background-color: #de9ed6\">          </span><span style=\"color: #000000; text-decoration-color: #000000; background-color: #e7cb94\">          </span><span style=\"color: #ffffff; text-decoration-color: #ffffff; background-color: #6b6ecf\">          </span><span style=\"color: #ffffff; text-decoration-color: #ffffff; background-color: #a55194\">          </span><span style=\"color: #ffffff; text-decoration-color: #ffffff; background-color: #8c6d31\">          </span>\n",
       "<span style=\"color: #ffffff; text-decoration-color: #ffffff; background-color: #393b79\">   CPU    </span><span style=\"color: #ffffff; text-decoration-color: #ffffff; background-color: #d6616b\">   CPU    </span><span style=\"color: #ffffff; text-decoration-color: #ffffff; background-color: #8ca252\">   CPU    </span><span style=\"color: #ffffff; text-decoration-color: #ffffff; background-color: #de9ed6\">   CPU    </span><span style=\"color: #000000; text-decoration-color: #000000; background-color: #e7cb94\">   CPU    </span><span style=\"color: #ffffff; text-decoration-color: #ffffff; background-color: #6b6ecf\">   CPU    </span><span style=\"color: #ffffff; text-decoration-color: #ffffff; background-color: #a55194\">   CPU    </span><span style=\"color: #ffffff; text-decoration-color: #ffffff; background-color: #8c6d31\">   CPU    </span>\n",
       "<span style=\"color: #ffffff; text-decoration-color: #ffffff; background-color: #393b79\">   0      </span><span style=\"color: #ffffff; text-decoration-color: #ffffff; background-color: #d6616b\">   1      </span><span style=\"color: #ffffff; text-decoration-color: #ffffff; background-color: #8ca252\">   2      </span><span style=\"color: #ffffff; text-decoration-color: #ffffff; background-color: #de9ed6\">   3      </span><span style=\"color: #000000; text-decoration-color: #000000; background-color: #e7cb94\">   4      </span><span style=\"color: #ffffff; text-decoration-color: #ffffff; background-color: #6b6ecf\">   5      </span><span style=\"color: #ffffff; text-decoration-color: #ffffff; background-color: #a55194\">   6      </span><span style=\"color: #ffffff; text-decoration-color: #ffffff; background-color: #8c6d31\">   7      </span>\n",
       "<span style=\"color: #ffffff; text-decoration-color: #ffffff; background-color: #393b79\">          </span><span style=\"color: #ffffff; text-decoration-color: #ffffff; background-color: #d6616b\">          </span><span style=\"color: #ffffff; text-decoration-color: #ffffff; background-color: #8ca252\">          </span><span style=\"color: #ffffff; text-decoration-color: #ffffff; background-color: #de9ed6\">          </span><span style=\"color: #000000; text-decoration-color: #000000; background-color: #e7cb94\">          </span><span style=\"color: #ffffff; text-decoration-color: #ffffff; background-color: #6b6ecf\">          </span><span style=\"color: #ffffff; text-decoration-color: #ffffff; background-color: #a55194\">          </span><span style=\"color: #ffffff; text-decoration-color: #ffffff; background-color: #8c6d31\">          </span>\n",
       "<span style=\"color: #ffffff; text-decoration-color: #ffffff; background-color: #393b79\">          </span><span style=\"color: #ffffff; text-decoration-color: #ffffff; background-color: #d6616b\">          </span><span style=\"color: #ffffff; text-decoration-color: #ffffff; background-color: #8ca252\">          </span><span style=\"color: #ffffff; text-decoration-color: #ffffff; background-color: #de9ed6\">          </span><span style=\"color: #000000; text-decoration-color: #000000; background-color: #e7cb94\">          </span><span style=\"color: #ffffff; text-decoration-color: #ffffff; background-color: #6b6ecf\">          </span><span style=\"color: #ffffff; text-decoration-color: #ffffff; background-color: #a55194\">          </span><span style=\"color: #ffffff; text-decoration-color: #ffffff; background-color: #8c6d31\">          </span>\n",
       "<span style=\"color: #ffffff; text-decoration-color: #ffffff; background-color: #393b79\">          </span><span style=\"color: #ffffff; text-decoration-color: #ffffff; background-color: #d6616b\">          </span><span style=\"color: #ffffff; text-decoration-color: #ffffff; background-color: #8ca252\">          </span><span style=\"color: #ffffff; text-decoration-color: #ffffff; background-color: #de9ed6\">          </span><span style=\"color: #000000; text-decoration-color: #000000; background-color: #e7cb94\">          </span><span style=\"color: #ffffff; text-decoration-color: #ffffff; background-color: #6b6ecf\">          </span><span style=\"color: #ffffff; text-decoration-color: #ffffff; background-color: #a55194\">          </span><span style=\"color: #ffffff; text-decoration-color: #ffffff; background-color: #8c6d31\">          </span>\n",
       "<span style=\"color: #ffffff; text-decoration-color: #ffffff; background-color: #393b79\">          </span><span style=\"color: #ffffff; text-decoration-color: #ffffff; background-color: #d6616b\">          </span><span style=\"color: #ffffff; text-decoration-color: #ffffff; background-color: #8ca252\">          </span><span style=\"color: #ffffff; text-decoration-color: #ffffff; background-color: #de9ed6\">          </span><span style=\"color: #000000; text-decoration-color: #000000; background-color: #e7cb94\">          </span><span style=\"color: #ffffff; text-decoration-color: #ffffff; background-color: #6b6ecf\">          </span><span style=\"color: #ffffff; text-decoration-color: #ffffff; background-color: #a55194\">          </span><span style=\"color: #ffffff; text-decoration-color: #ffffff; background-color: #8c6d31\">          </span>\n",
       "<span style=\"color: #ffffff; text-decoration-color: #ffffff; background-color: #393b79\">          </span><span style=\"color: #ffffff; text-decoration-color: #ffffff; background-color: #d6616b\">          </span><span style=\"color: #ffffff; text-decoration-color: #ffffff; background-color: #8ca252\">          </span><span style=\"color: #ffffff; text-decoration-color: #ffffff; background-color: #de9ed6\">          </span><span style=\"color: #000000; text-decoration-color: #000000; background-color: #e7cb94\">          </span><span style=\"color: #ffffff; text-decoration-color: #ffffff; background-color: #6b6ecf\">          </span><span style=\"color: #ffffff; text-decoration-color: #ffffff; background-color: #a55194\">          </span><span style=\"color: #ffffff; text-decoration-color: #ffffff; background-color: #8c6d31\">          </span>\n",
       "</pre>\n"
      ],
      "text/plain": [
       "\u001b[38;2;255;255;255;48;2;57;59;121m          \u001b[0m\u001b[38;2;255;255;255;48;2;214;97;107m          \u001b[0m\u001b[38;2;255;255;255;48;2;140;162;82m          \u001b[0m\u001b[38;2;255;255;255;48;2;222;158;214m          \u001b[0m\u001b[38;2;0;0;0;48;2;231;203;148m          \u001b[0m\u001b[38;2;255;255;255;48;2;107;110;207m          \u001b[0m\u001b[38;2;255;255;255;48;2;165;81;148m          \u001b[0m\u001b[38;2;255;255;255;48;2;140;109;49m          \u001b[0m\n",
       "\u001b[38;2;255;255;255;48;2;57;59;121m          \u001b[0m\u001b[38;2;255;255;255;48;2;214;97;107m          \u001b[0m\u001b[38;2;255;255;255;48;2;140;162;82m          \u001b[0m\u001b[38;2;255;255;255;48;2;222;158;214m          \u001b[0m\u001b[38;2;0;0;0;48;2;231;203;148m          \u001b[0m\u001b[38;2;255;255;255;48;2;107;110;207m          \u001b[0m\u001b[38;2;255;255;255;48;2;165;81;148m          \u001b[0m\u001b[38;2;255;255;255;48;2;140;109;49m          \u001b[0m\n",
       "\u001b[38;2;255;255;255;48;2;57;59;121m          \u001b[0m\u001b[38;2;255;255;255;48;2;214;97;107m          \u001b[0m\u001b[38;2;255;255;255;48;2;140;162;82m          \u001b[0m\u001b[38;2;255;255;255;48;2;222;158;214m          \u001b[0m\u001b[38;2;0;0;0;48;2;231;203;148m          \u001b[0m\u001b[38;2;255;255;255;48;2;107;110;207m          \u001b[0m\u001b[38;2;255;255;255;48;2;165;81;148m          \u001b[0m\u001b[38;2;255;255;255;48;2;140;109;49m          \u001b[0m\n",
       "\u001b[38;2;255;255;255;48;2;57;59;121m          \u001b[0m\u001b[38;2;255;255;255;48;2;214;97;107m          \u001b[0m\u001b[38;2;255;255;255;48;2;140;162;82m          \u001b[0m\u001b[38;2;255;255;255;48;2;222;158;214m          \u001b[0m\u001b[38;2;0;0;0;48;2;231;203;148m          \u001b[0m\u001b[38;2;255;255;255;48;2;107;110;207m          \u001b[0m\u001b[38;2;255;255;255;48;2;165;81;148m          \u001b[0m\u001b[38;2;255;255;255;48;2;140;109;49m          \u001b[0m\n",
       "\u001b[38;2;255;255;255;48;2;57;59;121m          \u001b[0m\u001b[38;2;255;255;255;48;2;214;97;107m          \u001b[0m\u001b[38;2;255;255;255;48;2;140;162;82m          \u001b[0m\u001b[38;2;255;255;255;48;2;222;158;214m          \u001b[0m\u001b[38;2;0;0;0;48;2;231;203;148m          \u001b[0m\u001b[38;2;255;255;255;48;2;107;110;207m          \u001b[0m\u001b[38;2;255;255;255;48;2;165;81;148m          \u001b[0m\u001b[38;2;255;255;255;48;2;140;109;49m          \u001b[0m\n",
       "\u001b[38;2;255;255;255;48;2;57;59;121m   \u001b[0m\u001b[38;2;255;255;255;48;2;57;59;121mCPU\u001b[0m\u001b[38;2;255;255;255;48;2;57;59;121m    \u001b[0m\u001b[38;2;255;255;255;48;2;214;97;107m   \u001b[0m\u001b[38;2;255;255;255;48;2;214;97;107mCPU\u001b[0m\u001b[38;2;255;255;255;48;2;214;97;107m    \u001b[0m\u001b[38;2;255;255;255;48;2;140;162;82m   \u001b[0m\u001b[38;2;255;255;255;48;2;140;162;82mCPU\u001b[0m\u001b[38;2;255;255;255;48;2;140;162;82m    \u001b[0m\u001b[38;2;255;255;255;48;2;222;158;214m   \u001b[0m\u001b[38;2;255;255;255;48;2;222;158;214mCPU\u001b[0m\u001b[38;2;255;255;255;48;2;222;158;214m    \u001b[0m\u001b[38;2;0;0;0;48;2;231;203;148m   \u001b[0m\u001b[38;2;0;0;0;48;2;231;203;148mCPU\u001b[0m\u001b[38;2;0;0;0;48;2;231;203;148m    \u001b[0m\u001b[38;2;255;255;255;48;2;107;110;207m   \u001b[0m\u001b[38;2;255;255;255;48;2;107;110;207mCPU\u001b[0m\u001b[38;2;255;255;255;48;2;107;110;207m    \u001b[0m\u001b[38;2;255;255;255;48;2;165;81;148m   \u001b[0m\u001b[38;2;255;255;255;48;2;165;81;148mCPU\u001b[0m\u001b[38;2;255;255;255;48;2;165;81;148m    \u001b[0m\u001b[38;2;255;255;255;48;2;140;109;49m   \u001b[0m\u001b[38;2;255;255;255;48;2;140;109;49mCPU\u001b[0m\u001b[38;2;255;255;255;48;2;140;109;49m    \u001b[0m\n",
       "\u001b[38;2;255;255;255;48;2;57;59;121m   \u001b[0m\u001b[38;2;255;255;255;48;2;57;59;121m0  \u001b[0m\u001b[38;2;255;255;255;48;2;57;59;121m    \u001b[0m\u001b[38;2;255;255;255;48;2;214;97;107m   \u001b[0m\u001b[38;2;255;255;255;48;2;214;97;107m1  \u001b[0m\u001b[38;2;255;255;255;48;2;214;97;107m    \u001b[0m\u001b[38;2;255;255;255;48;2;140;162;82m   \u001b[0m\u001b[38;2;255;255;255;48;2;140;162;82m2  \u001b[0m\u001b[38;2;255;255;255;48;2;140;162;82m    \u001b[0m\u001b[38;2;255;255;255;48;2;222;158;214m   \u001b[0m\u001b[38;2;255;255;255;48;2;222;158;214m3  \u001b[0m\u001b[38;2;255;255;255;48;2;222;158;214m    \u001b[0m\u001b[38;2;0;0;0;48;2;231;203;148m   \u001b[0m\u001b[38;2;0;0;0;48;2;231;203;148m4  \u001b[0m\u001b[38;2;0;0;0;48;2;231;203;148m    \u001b[0m\u001b[38;2;255;255;255;48;2;107;110;207m   \u001b[0m\u001b[38;2;255;255;255;48;2;107;110;207m5  \u001b[0m\u001b[38;2;255;255;255;48;2;107;110;207m    \u001b[0m\u001b[38;2;255;255;255;48;2;165;81;148m   \u001b[0m\u001b[38;2;255;255;255;48;2;165;81;148m6  \u001b[0m\u001b[38;2;255;255;255;48;2;165;81;148m    \u001b[0m\u001b[38;2;255;255;255;48;2;140;109;49m   \u001b[0m\u001b[38;2;255;255;255;48;2;140;109;49m7  \u001b[0m\u001b[38;2;255;255;255;48;2;140;109;49m    \u001b[0m\n",
       "\u001b[38;2;255;255;255;48;2;57;59;121m          \u001b[0m\u001b[38;2;255;255;255;48;2;214;97;107m          \u001b[0m\u001b[38;2;255;255;255;48;2;140;162;82m          \u001b[0m\u001b[38;2;255;255;255;48;2;222;158;214m          \u001b[0m\u001b[38;2;0;0;0;48;2;231;203;148m          \u001b[0m\u001b[38;2;255;255;255;48;2;107;110;207m          \u001b[0m\u001b[38;2;255;255;255;48;2;165;81;148m          \u001b[0m\u001b[38;2;255;255;255;48;2;140;109;49m          \u001b[0m\n",
       "\u001b[38;2;255;255;255;48;2;57;59;121m          \u001b[0m\u001b[38;2;255;255;255;48;2;214;97;107m          \u001b[0m\u001b[38;2;255;255;255;48;2;140;162;82m          \u001b[0m\u001b[38;2;255;255;255;48;2;222;158;214m          \u001b[0m\u001b[38;2;0;0;0;48;2;231;203;148m          \u001b[0m\u001b[38;2;255;255;255;48;2;107;110;207m          \u001b[0m\u001b[38;2;255;255;255;48;2;165;81;148m          \u001b[0m\u001b[38;2;255;255;255;48;2;140;109;49m          \u001b[0m\n",
       "\u001b[38;2;255;255;255;48;2;57;59;121m          \u001b[0m\u001b[38;2;255;255;255;48;2;214;97;107m          \u001b[0m\u001b[38;2;255;255;255;48;2;140;162;82m          \u001b[0m\u001b[38;2;255;255;255;48;2;222;158;214m          \u001b[0m\u001b[38;2;0;0;0;48;2;231;203;148m          \u001b[0m\u001b[38;2;255;255;255;48;2;107;110;207m          \u001b[0m\u001b[38;2;255;255;255;48;2;165;81;148m          \u001b[0m\u001b[38;2;255;255;255;48;2;140;109;49m          \u001b[0m\n",
       "\u001b[38;2;255;255;255;48;2;57;59;121m          \u001b[0m\u001b[38;2;255;255;255;48;2;214;97;107m          \u001b[0m\u001b[38;2;255;255;255;48;2;140;162;82m          \u001b[0m\u001b[38;2;255;255;255;48;2;222;158;214m          \u001b[0m\u001b[38;2;0;0;0;48;2;231;203;148m          \u001b[0m\u001b[38;2;255;255;255;48;2;107;110;207m          \u001b[0m\u001b[38;2;255;255;255;48;2;165;81;148m          \u001b[0m\u001b[38;2;255;255;255;48;2;140;109;49m          \u001b[0m\n",
       "\u001b[38;2;255;255;255;48;2;57;59;121m          \u001b[0m\u001b[38;2;255;255;255;48;2;214;97;107m          \u001b[0m\u001b[38;2;255;255;255;48;2;140;162;82m          \u001b[0m\u001b[38;2;255;255;255;48;2;222;158;214m          \u001b[0m\u001b[38;2;0;0;0;48;2;231;203;148m          \u001b[0m\u001b[38;2;255;255;255;48;2;107;110;207m          \u001b[0m\u001b[38;2;255;255;255;48;2;165;81;148m          \u001b[0m\u001b[38;2;255;255;255;48;2;140;109;49m          \u001b[0m\n"
      ]
     },
     "metadata": {},
     "output_type": "display_data"
    },
    {
     "data": {
      "text/html": [
       "<pre style=\"white-space:pre;overflow-x:auto;line-height:normal;font-family:Menlo,'DejaVu Sans Mono',consolas,'Courier New',monospace\"><span style=\"color: #ffffff; text-decoration-color: #ffffff; background-color: #393b79\">CPU 0,1,2,3,4,5,6,7</span>\n",
       "<span style=\"color: #ffffff; text-decoration-color: #ffffff; background-color: #393b79\">                   </span>\n",
       "</pre>\n"
      ],
      "text/plain": [
       "\u001b[38;2;255;255;255;48;2;57;59;121mCPU 0,1,2,3,4,5,6,7\u001b[0m\n",
       "\u001b[38;2;255;255;255;48;2;57;59;121m                   \u001b[0m\n"
      ]
     },
     "metadata": {},
     "output_type": "display_data"
    },
    {
     "data": {
      "text/html": [
       "<pre style=\"white-space:pre;overflow-x:auto;line-height:normal;font-family:Menlo,'DejaVu Sans Mono',consolas,'Courier New',monospace\"><span style=\"color: #ffffff; text-decoration-color: #ffffff; background-color: #393b79\">          </span><span style=\"color: #ffffff; text-decoration-color: #ffffff; background-color: #d6616b\">          </span><span style=\"color: #ffffff; text-decoration-color: #ffffff; background-color: #8ca252\">          </span><span style=\"color: #ffffff; text-decoration-color: #ffffff; background-color: #de9ed6\">          </span><span style=\"color: #000000; text-decoration-color: #000000; background-color: #e7cb94\">          </span><span style=\"color: #ffffff; text-decoration-color: #ffffff; background-color: #6b6ecf\">          </span><span style=\"color: #ffffff; text-decoration-color: #ffffff; background-color: #a55194\">          </span><span style=\"color: #ffffff; text-decoration-color: #ffffff; background-color: #8c6d31\">          </span>\n",
       "<span style=\"color: #ffffff; text-decoration-color: #ffffff; background-color: #393b79\">          </span><span style=\"color: #ffffff; text-decoration-color: #ffffff; background-color: #d6616b\">          </span><span style=\"color: #ffffff; text-decoration-color: #ffffff; background-color: #8ca252\">          </span><span style=\"color: #ffffff; text-decoration-color: #ffffff; background-color: #de9ed6\">          </span><span style=\"color: #000000; text-decoration-color: #000000; background-color: #e7cb94\">          </span><span style=\"color: #ffffff; text-decoration-color: #ffffff; background-color: #6b6ecf\">          </span><span style=\"color: #ffffff; text-decoration-color: #ffffff; background-color: #a55194\">          </span><span style=\"color: #ffffff; text-decoration-color: #ffffff; background-color: #8c6d31\">          </span>\n",
       "<span style=\"color: #ffffff; text-decoration-color: #ffffff; background-color: #393b79\">          </span><span style=\"color: #ffffff; text-decoration-color: #ffffff; background-color: #d6616b\">          </span><span style=\"color: #ffffff; text-decoration-color: #ffffff; background-color: #8ca252\">          </span><span style=\"color: #ffffff; text-decoration-color: #ffffff; background-color: #de9ed6\">          </span><span style=\"color: #000000; text-decoration-color: #000000; background-color: #e7cb94\">          </span><span style=\"color: #ffffff; text-decoration-color: #ffffff; background-color: #6b6ecf\">          </span><span style=\"color: #ffffff; text-decoration-color: #ffffff; background-color: #a55194\">          </span><span style=\"color: #ffffff; text-decoration-color: #ffffff; background-color: #8c6d31\">          </span>\n",
       "<span style=\"color: #ffffff; text-decoration-color: #ffffff; background-color: #393b79\">          </span><span style=\"color: #ffffff; text-decoration-color: #ffffff; background-color: #d6616b\">          </span><span style=\"color: #ffffff; text-decoration-color: #ffffff; background-color: #8ca252\">          </span><span style=\"color: #ffffff; text-decoration-color: #ffffff; background-color: #de9ed6\">          </span><span style=\"color: #000000; text-decoration-color: #000000; background-color: #e7cb94\">          </span><span style=\"color: #ffffff; text-decoration-color: #ffffff; background-color: #6b6ecf\">          </span><span style=\"color: #ffffff; text-decoration-color: #ffffff; background-color: #a55194\">          </span><span style=\"color: #ffffff; text-decoration-color: #ffffff; background-color: #8c6d31\">          </span>\n",
       "<span style=\"color: #ffffff; text-decoration-color: #ffffff; background-color: #393b79\">          </span><span style=\"color: #ffffff; text-decoration-color: #ffffff; background-color: #d6616b\">          </span><span style=\"color: #ffffff; text-decoration-color: #ffffff; background-color: #8ca252\">          </span><span style=\"color: #ffffff; text-decoration-color: #ffffff; background-color: #de9ed6\">          </span><span style=\"color: #000000; text-decoration-color: #000000; background-color: #e7cb94\">          </span><span style=\"color: #ffffff; text-decoration-color: #ffffff; background-color: #6b6ecf\">          </span><span style=\"color: #ffffff; text-decoration-color: #ffffff; background-color: #a55194\">          </span><span style=\"color: #ffffff; text-decoration-color: #ffffff; background-color: #8c6d31\">          </span>\n",
       "<span style=\"color: #ffffff; text-decoration-color: #ffffff; background-color: #393b79\">          </span><span style=\"color: #ffffff; text-decoration-color: #ffffff; background-color: #d6616b\">          </span><span style=\"color: #ffffff; text-decoration-color: #ffffff; background-color: #8ca252\">          </span><span style=\"color: #ffffff; text-decoration-color: #ffffff; background-color: #de9ed6\">          </span><span style=\"color: #000000; text-decoration-color: #000000; background-color: #e7cb94\">          </span><span style=\"color: #ffffff; text-decoration-color: #ffffff; background-color: #6b6ecf\">          </span><span style=\"color: #ffffff; text-decoration-color: #ffffff; background-color: #a55194\">          </span><span style=\"color: #ffffff; text-decoration-color: #ffffff; background-color: #8c6d31\">          </span>\n",
       "<span style=\"color: #ffffff; text-decoration-color: #ffffff; background-color: #393b79\">          </span><span style=\"color: #ffffff; text-decoration-color: #ffffff; background-color: #d6616b\">          </span><span style=\"color: #ffffff; text-decoration-color: #ffffff; background-color: #8ca252\">          </span><span style=\"color: #ffffff; text-decoration-color: #ffffff; background-color: #de9ed6\">          </span><span style=\"color: #000000; text-decoration-color: #000000; background-color: #e7cb94\">          </span><span style=\"color: #ffffff; text-decoration-color: #ffffff; background-color: #6b6ecf\">          </span><span style=\"color: #ffffff; text-decoration-color: #ffffff; background-color: #a55194\">          </span><span style=\"color: #ffffff; text-decoration-color: #ffffff; background-color: #8c6d31\">          </span>\n",
       "<span style=\"color: #ffffff; text-decoration-color: #ffffff; background-color: #393b79\">          </span><span style=\"color: #ffffff; text-decoration-color: #ffffff; background-color: #d6616b\">          </span><span style=\"color: #ffffff; text-decoration-color: #ffffff; background-color: #8ca252\">          </span><span style=\"color: #ffffff; text-decoration-color: #ffffff; background-color: #de9ed6\">          </span><span style=\"color: #000000; text-decoration-color: #000000; background-color: #e7cb94\">          </span><span style=\"color: #ffffff; text-decoration-color: #ffffff; background-color: #6b6ecf\">          </span><span style=\"color: #ffffff; text-decoration-color: #ffffff; background-color: #a55194\">          </span><span style=\"color: #ffffff; text-decoration-color: #ffffff; background-color: #8c6d31\">          </span>\n",
       "<span style=\"color: #ffffff; text-decoration-color: #ffffff; background-color: #393b79\">          </span><span style=\"color: #ffffff; text-decoration-color: #ffffff; background-color: #d6616b\">          </span><span style=\"color: #ffffff; text-decoration-color: #ffffff; background-color: #8ca252\">          </span><span style=\"color: #ffffff; text-decoration-color: #ffffff; background-color: #de9ed6\">          </span><span style=\"color: #000000; text-decoration-color: #000000; background-color: #e7cb94\">          </span><span style=\"color: #ffffff; text-decoration-color: #ffffff; background-color: #6b6ecf\">          </span><span style=\"color: #ffffff; text-decoration-color: #ffffff; background-color: #a55194\">          </span><span style=\"color: #ffffff; text-decoration-color: #ffffff; background-color: #8c6d31\">          </span>\n",
       "<span style=\"color: #ffffff; text-decoration-color: #ffffff; background-color: #393b79\">          </span><span style=\"color: #ffffff; text-decoration-color: #ffffff; background-color: #d6616b\">          </span><span style=\"color: #ffffff; text-decoration-color: #ffffff; background-color: #8ca252\">          </span><span style=\"color: #ffffff; text-decoration-color: #ffffff; background-color: #de9ed6\">          </span><span style=\"color: #000000; text-decoration-color: #000000; background-color: #e7cb94\">          </span><span style=\"color: #ffffff; text-decoration-color: #ffffff; background-color: #6b6ecf\">          </span><span style=\"color: #ffffff; text-decoration-color: #ffffff; background-color: #a55194\">          </span><span style=\"color: #ffffff; text-decoration-color: #ffffff; background-color: #8c6d31\">          </span>\n",
       "</pre>\n"
      ],
      "text/plain": [
       "\u001b[38;2;255;255;255;48;2;57;59;121m          \u001b[0m\u001b[38;2;255;255;255;48;2;214;97;107m          \u001b[0m\u001b[38;2;255;255;255;48;2;140;162;82m          \u001b[0m\u001b[38;2;255;255;255;48;2;222;158;214m          \u001b[0m\u001b[38;2;0;0;0;48;2;231;203;148m          \u001b[0m\u001b[38;2;255;255;255;48;2;107;110;207m          \u001b[0m\u001b[38;2;255;255;255;48;2;165;81;148m          \u001b[0m\u001b[38;2;255;255;255;48;2;140;109;49m          \u001b[0m\n",
       "\u001b[38;2;255;255;255;48;2;57;59;121m          \u001b[0m\u001b[38;2;255;255;255;48;2;214;97;107m          \u001b[0m\u001b[38;2;255;255;255;48;2;140;162;82m          \u001b[0m\u001b[38;2;255;255;255;48;2;222;158;214m          \u001b[0m\u001b[38;2;0;0;0;48;2;231;203;148m          \u001b[0m\u001b[38;2;255;255;255;48;2;107;110;207m          \u001b[0m\u001b[38;2;255;255;255;48;2;165;81;148m          \u001b[0m\u001b[38;2;255;255;255;48;2;140;109;49m          \u001b[0m\n",
       "\u001b[38;2;255;255;255;48;2;57;59;121m          \u001b[0m\u001b[38;2;255;255;255;48;2;214;97;107m          \u001b[0m\u001b[38;2;255;255;255;48;2;140;162;82m          \u001b[0m\u001b[38;2;255;255;255;48;2;222;158;214m          \u001b[0m\u001b[38;2;0;0;0;48;2;231;203;148m          \u001b[0m\u001b[38;2;255;255;255;48;2;107;110;207m          \u001b[0m\u001b[38;2;255;255;255;48;2;165;81;148m          \u001b[0m\u001b[38;2;255;255;255;48;2;140;109;49m          \u001b[0m\n",
       "\u001b[38;2;255;255;255;48;2;57;59;121m          \u001b[0m\u001b[38;2;255;255;255;48;2;214;97;107m          \u001b[0m\u001b[38;2;255;255;255;48;2;140;162;82m          \u001b[0m\u001b[38;2;255;255;255;48;2;222;158;214m          \u001b[0m\u001b[38;2;0;0;0;48;2;231;203;148m          \u001b[0m\u001b[38;2;255;255;255;48;2;107;110;207m          \u001b[0m\u001b[38;2;255;255;255;48;2;165;81;148m          \u001b[0m\u001b[38;2;255;255;255;48;2;140;109;49m          \u001b[0m\n",
       "\u001b[38;2;255;255;255;48;2;57;59;121m          \u001b[0m\u001b[38;2;255;255;255;48;2;214;97;107m          \u001b[0m\u001b[38;2;255;255;255;48;2;140;162;82m          \u001b[0m\u001b[38;2;255;255;255;48;2;222;158;214m          \u001b[0m\u001b[38;2;0;0;0;48;2;231;203;148m          \u001b[0m\u001b[38;2;255;255;255;48;2;107;110;207m          \u001b[0m\u001b[38;2;255;255;255;48;2;165;81;148m          \u001b[0m\u001b[38;2;255;255;255;48;2;140;109;49m          \u001b[0m\n",
       "\u001b[38;2;255;255;255;48;2;57;59;121m          \u001b[0m\u001b[38;2;255;255;255;48;2;214;97;107m          \u001b[0m\u001b[38;2;255;255;255;48;2;140;162;82m          \u001b[0m\u001b[38;2;255;255;255;48;2;222;158;214m          \u001b[0m\u001b[38;2;0;0;0;48;2;231;203;148m          \u001b[0m\u001b[38;2;255;255;255;48;2;107;110;207m          \u001b[0m\u001b[38;2;255;255;255;48;2;165;81;148m          \u001b[0m\u001b[38;2;255;255;255;48;2;140;109;49m          \u001b[0m\n",
       "\u001b[38;2;255;255;255;48;2;57;59;121m          \u001b[0m\u001b[38;2;255;255;255;48;2;214;97;107m          \u001b[0m\u001b[38;2;255;255;255;48;2;140;162;82m          \u001b[0m\u001b[38;2;255;255;255;48;2;222;158;214m          \u001b[0m\u001b[38;2;0;0;0;48;2;231;203;148m          \u001b[0m\u001b[38;2;255;255;255;48;2;107;110;207m          \u001b[0m\u001b[38;2;255;255;255;48;2;165;81;148m          \u001b[0m\u001b[38;2;255;255;255;48;2;140;109;49m          \u001b[0m\n",
       "\u001b[38;2;255;255;255;48;2;57;59;121m          \u001b[0m\u001b[38;2;255;255;255;48;2;214;97;107m          \u001b[0m\u001b[38;2;255;255;255;48;2;140;162;82m          \u001b[0m\u001b[38;2;255;255;255;48;2;222;158;214m          \u001b[0m\u001b[38;2;0;0;0;48;2;231;203;148m          \u001b[0m\u001b[38;2;255;255;255;48;2;107;110;207m          \u001b[0m\u001b[38;2;255;255;255;48;2;165;81;148m          \u001b[0m\u001b[38;2;255;255;255;48;2;140;109;49m          \u001b[0m\n",
       "\u001b[38;2;255;255;255;48;2;57;59;121m          \u001b[0m\u001b[38;2;255;255;255;48;2;214;97;107m          \u001b[0m\u001b[38;2;255;255;255;48;2;140;162;82m          \u001b[0m\u001b[38;2;255;255;255;48;2;222;158;214m          \u001b[0m\u001b[38;2;0;0;0;48;2;231;203;148m          \u001b[0m\u001b[38;2;255;255;255;48;2;107;110;207m          \u001b[0m\u001b[38;2;255;255;255;48;2;165;81;148m          \u001b[0m\u001b[38;2;255;255;255;48;2;140;109;49m          \u001b[0m\n",
       "\u001b[38;2;255;255;255;48;2;57;59;121m          \u001b[0m\u001b[38;2;255;255;255;48;2;214;97;107m          \u001b[0m\u001b[38;2;255;255;255;48;2;140;162;82m          \u001b[0m\u001b[38;2;255;255;255;48;2;222;158;214m          \u001b[0m\u001b[38;2;0;0;0;48;2;231;203;148m          \u001b[0m\u001b[38;2;255;255;255;48;2;107;110;207m          \u001b[0m\u001b[38;2;255;255;255;48;2;165;81;148m          \u001b[0m\u001b[38;2;255;255;255;48;2;140;109;49m          \u001b[0m\n"
      ]
     },
     "metadata": {},
     "output_type": "display_data"
    },
    {
     "data": {
      "text/html": [
       "<pre style=\"white-space:pre;overflow-x:auto;line-height:normal;font-family:Menlo,'DejaVu Sans Mono',consolas,'Courier New',monospace\"><span style=\"color: #ffffff; text-decoration-color: #ffffff; background-color: #393b79\">CPU 0,1,2,3,4,5,6,7</span>\n",
       "<span style=\"color: #ffffff; text-decoration-color: #ffffff; background-color: #393b79\">                   </span>\n",
       "</pre>\n"
      ],
      "text/plain": [
       "\u001b[38;2;255;255;255;48;2;57;59;121mCPU 0,1,2,3,4,5,6,7\u001b[0m\n",
       "\u001b[38;2;255;255;255;48;2;57;59;121m                   \u001b[0m\n"
      ]
     },
     "metadata": {},
     "output_type": "display_data"
    },
    {
     "data": {
      "text/html": [
       "<pre style=\"white-space:pre;overflow-x:auto;line-height:normal;font-family:Menlo,'DejaVu Sans Mono',consolas,'Courier New',monospace\"><span style=\"color: #ffffff; text-decoration-color: #ffffff; background-color: #393b79\">          </span><span style=\"color: #ffffff; text-decoration-color: #ffffff; background-color: #d6616b\">          </span><span style=\"color: #ffffff; text-decoration-color: #ffffff; background-color: #8ca252\">          </span><span style=\"color: #ffffff; text-decoration-color: #ffffff; background-color: #de9ed6\">          </span><span style=\"color: #000000; text-decoration-color: #000000; background-color: #e7cb94\">          </span><span style=\"color: #ffffff; text-decoration-color: #ffffff; background-color: #6b6ecf\">          </span><span style=\"color: #ffffff; text-decoration-color: #ffffff; background-color: #a55194\">          </span><span style=\"color: #ffffff; text-decoration-color: #ffffff; background-color: #8c6d31\">          </span>\n",
       "<span style=\"color: #ffffff; text-decoration-color: #ffffff; background-color: #393b79\">          </span><span style=\"color: #ffffff; text-decoration-color: #ffffff; background-color: #d6616b\">          </span><span style=\"color: #ffffff; text-decoration-color: #ffffff; background-color: #8ca252\">          </span><span style=\"color: #ffffff; text-decoration-color: #ffffff; background-color: #de9ed6\">          </span><span style=\"color: #000000; text-decoration-color: #000000; background-color: #e7cb94\">          </span><span style=\"color: #ffffff; text-decoration-color: #ffffff; background-color: #6b6ecf\">          </span><span style=\"color: #ffffff; text-decoration-color: #ffffff; background-color: #a55194\">          </span><span style=\"color: #ffffff; text-decoration-color: #ffffff; background-color: #8c6d31\">          </span>\n",
       "<span style=\"color: #ffffff; text-decoration-color: #ffffff; background-color: #393b79\">          </span><span style=\"color: #ffffff; text-decoration-color: #ffffff; background-color: #d6616b\">          </span><span style=\"color: #ffffff; text-decoration-color: #ffffff; background-color: #8ca252\">          </span><span style=\"color: #ffffff; text-decoration-color: #ffffff; background-color: #de9ed6\">          </span><span style=\"color: #000000; text-decoration-color: #000000; background-color: #e7cb94\">          </span><span style=\"color: #ffffff; text-decoration-color: #ffffff; background-color: #6b6ecf\">          </span><span style=\"color: #ffffff; text-decoration-color: #ffffff; background-color: #a55194\">          </span><span style=\"color: #ffffff; text-decoration-color: #ffffff; background-color: #8c6d31\">          </span>\n",
       "<span style=\"color: #ffffff; text-decoration-color: #ffffff; background-color: #393b79\">          </span><span style=\"color: #ffffff; text-decoration-color: #ffffff; background-color: #d6616b\">          </span><span style=\"color: #ffffff; text-decoration-color: #ffffff; background-color: #8ca252\">          </span><span style=\"color: #ffffff; text-decoration-color: #ffffff; background-color: #de9ed6\">          </span><span style=\"color: #000000; text-decoration-color: #000000; background-color: #e7cb94\">          </span><span style=\"color: #ffffff; text-decoration-color: #ffffff; background-color: #6b6ecf\">          </span><span style=\"color: #ffffff; text-decoration-color: #ffffff; background-color: #a55194\">          </span><span style=\"color: #ffffff; text-decoration-color: #ffffff; background-color: #8c6d31\">          </span>\n",
       "<span style=\"color: #ffffff; text-decoration-color: #ffffff; background-color: #393b79\">          </span><span style=\"color: #ffffff; text-decoration-color: #ffffff; background-color: #d6616b\">          </span><span style=\"color: #ffffff; text-decoration-color: #ffffff; background-color: #8ca252\">          </span><span style=\"color: #ffffff; text-decoration-color: #ffffff; background-color: #de9ed6\">          </span><span style=\"color: #000000; text-decoration-color: #000000; background-color: #e7cb94\">          </span><span style=\"color: #ffffff; text-decoration-color: #ffffff; background-color: #6b6ecf\">          </span><span style=\"color: #ffffff; text-decoration-color: #ffffff; background-color: #a55194\">          </span><span style=\"color: #ffffff; text-decoration-color: #ffffff; background-color: #8c6d31\">          </span>\n",
       "<span style=\"color: #ffffff; text-decoration-color: #ffffff; background-color: #393b79\">          </span><span style=\"color: #ffffff; text-decoration-color: #ffffff; background-color: #d6616b\">          </span><span style=\"color: #ffffff; text-decoration-color: #ffffff; background-color: #8ca252\">          </span><span style=\"color: #ffffff; text-decoration-color: #ffffff; background-color: #de9ed6\">          </span><span style=\"color: #000000; text-decoration-color: #000000; background-color: #e7cb94\">          </span><span style=\"color: #ffffff; text-decoration-color: #ffffff; background-color: #6b6ecf\">          </span><span style=\"color: #ffffff; text-decoration-color: #ffffff; background-color: #a55194\">          </span><span style=\"color: #ffffff; text-decoration-color: #ffffff; background-color: #8c6d31\">          </span>\n",
       "<span style=\"color: #ffffff; text-decoration-color: #ffffff; background-color: #393b79\">          </span><span style=\"color: #ffffff; text-decoration-color: #ffffff; background-color: #d6616b\">          </span><span style=\"color: #ffffff; text-decoration-color: #ffffff; background-color: #8ca252\">          </span><span style=\"color: #ffffff; text-decoration-color: #ffffff; background-color: #de9ed6\">          </span><span style=\"color: #000000; text-decoration-color: #000000; background-color: #e7cb94\">          </span><span style=\"color: #ffffff; text-decoration-color: #ffffff; background-color: #6b6ecf\">          </span><span style=\"color: #ffffff; text-decoration-color: #ffffff; background-color: #a55194\">          </span><span style=\"color: #ffffff; text-decoration-color: #ffffff; background-color: #8c6d31\">          </span>\n",
       "<span style=\"color: #ffffff; text-decoration-color: #ffffff; background-color: #393b79\">          </span><span style=\"color: #ffffff; text-decoration-color: #ffffff; background-color: #d6616b\">          </span><span style=\"color: #ffffff; text-decoration-color: #ffffff; background-color: #8ca252\">          </span><span style=\"color: #ffffff; text-decoration-color: #ffffff; background-color: #de9ed6\">          </span><span style=\"color: #000000; text-decoration-color: #000000; background-color: #e7cb94\">          </span><span style=\"color: #ffffff; text-decoration-color: #ffffff; background-color: #6b6ecf\">          </span><span style=\"color: #ffffff; text-decoration-color: #ffffff; background-color: #a55194\">          </span><span style=\"color: #ffffff; text-decoration-color: #ffffff; background-color: #8c6d31\">          </span>\n",
       "<span style=\"color: #ffffff; text-decoration-color: #ffffff; background-color: #393b79\">          </span><span style=\"color: #ffffff; text-decoration-color: #ffffff; background-color: #d6616b\">          </span><span style=\"color: #ffffff; text-decoration-color: #ffffff; background-color: #8ca252\">          </span><span style=\"color: #ffffff; text-decoration-color: #ffffff; background-color: #de9ed6\">          </span><span style=\"color: #000000; text-decoration-color: #000000; background-color: #e7cb94\">          </span><span style=\"color: #ffffff; text-decoration-color: #ffffff; background-color: #6b6ecf\">          </span><span style=\"color: #ffffff; text-decoration-color: #ffffff; background-color: #a55194\">          </span><span style=\"color: #ffffff; text-decoration-color: #ffffff; background-color: #8c6d31\">          </span>\n",
       "<span style=\"color: #ffffff; text-decoration-color: #ffffff; background-color: #393b79\">          </span><span style=\"color: #ffffff; text-decoration-color: #ffffff; background-color: #d6616b\">          </span><span style=\"color: #ffffff; text-decoration-color: #ffffff; background-color: #8ca252\">          </span><span style=\"color: #ffffff; text-decoration-color: #ffffff; background-color: #de9ed6\">          </span><span style=\"color: #000000; text-decoration-color: #000000; background-color: #e7cb94\">          </span><span style=\"color: #ffffff; text-decoration-color: #ffffff; background-color: #6b6ecf\">          </span><span style=\"color: #ffffff; text-decoration-color: #ffffff; background-color: #a55194\">          </span><span style=\"color: #ffffff; text-decoration-color: #ffffff; background-color: #8c6d31\">          </span>\n",
       "</pre>\n"
      ],
      "text/plain": [
       "\u001b[38;2;255;255;255;48;2;57;59;121m          \u001b[0m\u001b[38;2;255;255;255;48;2;214;97;107m          \u001b[0m\u001b[38;2;255;255;255;48;2;140;162;82m          \u001b[0m\u001b[38;2;255;255;255;48;2;222;158;214m          \u001b[0m\u001b[38;2;0;0;0;48;2;231;203;148m          \u001b[0m\u001b[38;2;255;255;255;48;2;107;110;207m          \u001b[0m\u001b[38;2;255;255;255;48;2;165;81;148m          \u001b[0m\u001b[38;2;255;255;255;48;2;140;109;49m          \u001b[0m\n",
       "\u001b[38;2;255;255;255;48;2;57;59;121m          \u001b[0m\u001b[38;2;255;255;255;48;2;214;97;107m          \u001b[0m\u001b[38;2;255;255;255;48;2;140;162;82m          \u001b[0m\u001b[38;2;255;255;255;48;2;222;158;214m          \u001b[0m\u001b[38;2;0;0;0;48;2;231;203;148m          \u001b[0m\u001b[38;2;255;255;255;48;2;107;110;207m          \u001b[0m\u001b[38;2;255;255;255;48;2;165;81;148m          \u001b[0m\u001b[38;2;255;255;255;48;2;140;109;49m          \u001b[0m\n",
       "\u001b[38;2;255;255;255;48;2;57;59;121m          \u001b[0m\u001b[38;2;255;255;255;48;2;214;97;107m          \u001b[0m\u001b[38;2;255;255;255;48;2;140;162;82m          \u001b[0m\u001b[38;2;255;255;255;48;2;222;158;214m          \u001b[0m\u001b[38;2;0;0;0;48;2;231;203;148m          \u001b[0m\u001b[38;2;255;255;255;48;2;107;110;207m          \u001b[0m\u001b[38;2;255;255;255;48;2;165;81;148m          \u001b[0m\u001b[38;2;255;255;255;48;2;140;109;49m          \u001b[0m\n",
       "\u001b[38;2;255;255;255;48;2;57;59;121m          \u001b[0m\u001b[38;2;255;255;255;48;2;214;97;107m          \u001b[0m\u001b[38;2;255;255;255;48;2;140;162;82m          \u001b[0m\u001b[38;2;255;255;255;48;2;222;158;214m          \u001b[0m\u001b[38;2;0;0;0;48;2;231;203;148m          \u001b[0m\u001b[38;2;255;255;255;48;2;107;110;207m          \u001b[0m\u001b[38;2;255;255;255;48;2;165;81;148m          \u001b[0m\u001b[38;2;255;255;255;48;2;140;109;49m          \u001b[0m\n",
       "\u001b[38;2;255;255;255;48;2;57;59;121m          \u001b[0m\u001b[38;2;255;255;255;48;2;214;97;107m          \u001b[0m\u001b[38;2;255;255;255;48;2;140;162;82m          \u001b[0m\u001b[38;2;255;255;255;48;2;222;158;214m          \u001b[0m\u001b[38;2;0;0;0;48;2;231;203;148m          \u001b[0m\u001b[38;2;255;255;255;48;2;107;110;207m          \u001b[0m\u001b[38;2;255;255;255;48;2;165;81;148m          \u001b[0m\u001b[38;2;255;255;255;48;2;140;109;49m          \u001b[0m\n",
       "\u001b[38;2;255;255;255;48;2;57;59;121m          \u001b[0m\u001b[38;2;255;255;255;48;2;214;97;107m          \u001b[0m\u001b[38;2;255;255;255;48;2;140;162;82m          \u001b[0m\u001b[38;2;255;255;255;48;2;222;158;214m          \u001b[0m\u001b[38;2;0;0;0;48;2;231;203;148m          \u001b[0m\u001b[38;2;255;255;255;48;2;107;110;207m          \u001b[0m\u001b[38;2;255;255;255;48;2;165;81;148m          \u001b[0m\u001b[38;2;255;255;255;48;2;140;109;49m          \u001b[0m\n",
       "\u001b[38;2;255;255;255;48;2;57;59;121m          \u001b[0m\u001b[38;2;255;255;255;48;2;214;97;107m          \u001b[0m\u001b[38;2;255;255;255;48;2;140;162;82m          \u001b[0m\u001b[38;2;255;255;255;48;2;222;158;214m          \u001b[0m\u001b[38;2;0;0;0;48;2;231;203;148m          \u001b[0m\u001b[38;2;255;255;255;48;2;107;110;207m          \u001b[0m\u001b[38;2;255;255;255;48;2;165;81;148m          \u001b[0m\u001b[38;2;255;255;255;48;2;140;109;49m          \u001b[0m\n",
       "\u001b[38;2;255;255;255;48;2;57;59;121m          \u001b[0m\u001b[38;2;255;255;255;48;2;214;97;107m          \u001b[0m\u001b[38;2;255;255;255;48;2;140;162;82m          \u001b[0m\u001b[38;2;255;255;255;48;2;222;158;214m          \u001b[0m\u001b[38;2;0;0;0;48;2;231;203;148m          \u001b[0m\u001b[38;2;255;255;255;48;2;107;110;207m          \u001b[0m\u001b[38;2;255;255;255;48;2;165;81;148m          \u001b[0m\u001b[38;2;255;255;255;48;2;140;109;49m          \u001b[0m\n",
       "\u001b[38;2;255;255;255;48;2;57;59;121m          \u001b[0m\u001b[38;2;255;255;255;48;2;214;97;107m          \u001b[0m\u001b[38;2;255;255;255;48;2;140;162;82m          \u001b[0m\u001b[38;2;255;255;255;48;2;222;158;214m          \u001b[0m\u001b[38;2;0;0;0;48;2;231;203;148m          \u001b[0m\u001b[38;2;255;255;255;48;2;107;110;207m          \u001b[0m\u001b[38;2;255;255;255;48;2;165;81;148m          \u001b[0m\u001b[38;2;255;255;255;48;2;140;109;49m          \u001b[0m\n",
       "\u001b[38;2;255;255;255;48;2;57;59;121m          \u001b[0m\u001b[38;2;255;255;255;48;2;214;97;107m          \u001b[0m\u001b[38;2;255;255;255;48;2;140;162;82m          \u001b[0m\u001b[38;2;255;255;255;48;2;222;158;214m          \u001b[0m\u001b[38;2;0;0;0;48;2;231;203;148m          \u001b[0m\u001b[38;2;255;255;255;48;2;107;110;207m          \u001b[0m\u001b[38;2;255;255;255;48;2;165;81;148m          \u001b[0m\u001b[38;2;255;255;255;48;2;140;109;49m          \u001b[0m\n"
      ]
     },
     "metadata": {},
     "output_type": "display_data"
    },
    {
     "data": {
      "text/html": [
       "<pre style=\"white-space:pre;overflow-x:auto;line-height:normal;font-family:Menlo,'DejaVu Sans Mono',consolas,'Courier New',monospace\"><span style=\"color: #ffffff; text-decoration-color: #ffffff; background-color: #393b79\">CPU 0,1,2,3,4,5,6,7</span>\n",
       "<span style=\"color: #ffffff; text-decoration-color: #ffffff; background-color: #393b79\">                   </span>\n",
       "</pre>\n"
      ],
      "text/plain": [
       "\u001b[38;2;255;255;255;48;2;57;59;121mCPU 0,1,2,3,4,5,6,7\u001b[0m\n",
       "\u001b[38;2;255;255;255;48;2;57;59;121m                   \u001b[0m\n"
      ]
     },
     "metadata": {},
     "output_type": "display_data"
    },
    {
     "data": {
      "text/html": [
       "<pre style=\"white-space:pre;overflow-x:auto;line-height:normal;font-family:Menlo,'DejaVu Sans Mono',consolas,'Courier New',monospace\"><span style=\"color: #ffffff; text-decoration-color: #ffffff; background-color: #393b79\">          </span><span style=\"color: #ffffff; text-decoration-color: #ffffff; background-color: #d6616b\">          </span><span style=\"color: #ffffff; text-decoration-color: #ffffff; background-color: #8ca252\">          </span><span style=\"color: #ffffff; text-decoration-color: #ffffff; background-color: #de9ed6\">          </span><span style=\"color: #000000; text-decoration-color: #000000; background-color: #e7cb94\">          </span><span style=\"color: #ffffff; text-decoration-color: #ffffff; background-color: #6b6ecf\">          </span><span style=\"color: #ffffff; text-decoration-color: #ffffff; background-color: #a55194\">          </span><span style=\"color: #ffffff; text-decoration-color: #ffffff; background-color: #8c6d31\">          </span>\n",
       "<span style=\"color: #ffffff; text-decoration-color: #ffffff; background-color: #393b79\">          </span><span style=\"color: #ffffff; text-decoration-color: #ffffff; background-color: #d6616b\">          </span><span style=\"color: #ffffff; text-decoration-color: #ffffff; background-color: #8ca252\">          </span><span style=\"color: #ffffff; text-decoration-color: #ffffff; background-color: #de9ed6\">          </span><span style=\"color: #000000; text-decoration-color: #000000; background-color: #e7cb94\">          </span><span style=\"color: #ffffff; text-decoration-color: #ffffff; background-color: #6b6ecf\">          </span><span style=\"color: #ffffff; text-decoration-color: #ffffff; background-color: #a55194\">          </span><span style=\"color: #ffffff; text-decoration-color: #ffffff; background-color: #8c6d31\">          </span>\n",
       "<span style=\"color: #ffffff; text-decoration-color: #ffffff; background-color: #393b79\">          </span><span style=\"color: #ffffff; text-decoration-color: #ffffff; background-color: #d6616b\">          </span><span style=\"color: #ffffff; text-decoration-color: #ffffff; background-color: #8ca252\">          </span><span style=\"color: #ffffff; text-decoration-color: #ffffff; background-color: #de9ed6\">          </span><span style=\"color: #000000; text-decoration-color: #000000; background-color: #e7cb94\">          </span><span style=\"color: #ffffff; text-decoration-color: #ffffff; background-color: #6b6ecf\">          </span><span style=\"color: #ffffff; text-decoration-color: #ffffff; background-color: #a55194\">          </span><span style=\"color: #ffffff; text-decoration-color: #ffffff; background-color: #8c6d31\">          </span>\n",
       "<span style=\"color: #ffffff; text-decoration-color: #ffffff; background-color: #393b79\">          </span><span style=\"color: #ffffff; text-decoration-color: #ffffff; background-color: #d6616b\">          </span><span style=\"color: #ffffff; text-decoration-color: #ffffff; background-color: #8ca252\">          </span><span style=\"color: #ffffff; text-decoration-color: #ffffff; background-color: #de9ed6\">          </span><span style=\"color: #000000; text-decoration-color: #000000; background-color: #e7cb94\">          </span><span style=\"color: #ffffff; text-decoration-color: #ffffff; background-color: #6b6ecf\">          </span><span style=\"color: #ffffff; text-decoration-color: #ffffff; background-color: #a55194\">          </span><span style=\"color: #ffffff; text-decoration-color: #ffffff; background-color: #8c6d31\">          </span>\n",
       "<span style=\"color: #ffffff; text-decoration-color: #ffffff; background-color: #393b79\">          </span><span style=\"color: #ffffff; text-decoration-color: #ffffff; background-color: #d6616b\">          </span><span style=\"color: #ffffff; text-decoration-color: #ffffff; background-color: #8ca252\">          </span><span style=\"color: #ffffff; text-decoration-color: #ffffff; background-color: #de9ed6\">          </span><span style=\"color: #000000; text-decoration-color: #000000; background-color: #e7cb94\">          </span><span style=\"color: #ffffff; text-decoration-color: #ffffff; background-color: #6b6ecf\">          </span><span style=\"color: #ffffff; text-decoration-color: #ffffff; background-color: #a55194\">          </span><span style=\"color: #ffffff; text-decoration-color: #ffffff; background-color: #8c6d31\">          </span>\n",
       "<span style=\"color: #ffffff; text-decoration-color: #ffffff; background-color: #393b79\">          </span><span style=\"color: #ffffff; text-decoration-color: #ffffff; background-color: #d6616b\">          </span><span style=\"color: #ffffff; text-decoration-color: #ffffff; background-color: #8ca252\">          </span><span style=\"color: #ffffff; text-decoration-color: #ffffff; background-color: #de9ed6\">          </span><span style=\"color: #000000; text-decoration-color: #000000; background-color: #e7cb94\">          </span><span style=\"color: #ffffff; text-decoration-color: #ffffff; background-color: #6b6ecf\">          </span><span style=\"color: #ffffff; text-decoration-color: #ffffff; background-color: #a55194\">          </span><span style=\"color: #ffffff; text-decoration-color: #ffffff; background-color: #8c6d31\">          </span>\n",
       "<span style=\"color: #ffffff; text-decoration-color: #ffffff; background-color: #393b79\">          </span><span style=\"color: #ffffff; text-decoration-color: #ffffff; background-color: #d6616b\">          </span><span style=\"color: #ffffff; text-decoration-color: #ffffff; background-color: #8ca252\">          </span><span style=\"color: #ffffff; text-decoration-color: #ffffff; background-color: #de9ed6\">          </span><span style=\"color: #000000; text-decoration-color: #000000; background-color: #e7cb94\">          </span><span style=\"color: #ffffff; text-decoration-color: #ffffff; background-color: #6b6ecf\">          </span><span style=\"color: #ffffff; text-decoration-color: #ffffff; background-color: #a55194\">          </span><span style=\"color: #ffffff; text-decoration-color: #ffffff; background-color: #8c6d31\">          </span>\n",
       "<span style=\"color: #ffffff; text-decoration-color: #ffffff; background-color: #393b79\">          </span><span style=\"color: #ffffff; text-decoration-color: #ffffff; background-color: #d6616b\">          </span><span style=\"color: #ffffff; text-decoration-color: #ffffff; background-color: #8ca252\">          </span><span style=\"color: #ffffff; text-decoration-color: #ffffff; background-color: #de9ed6\">          </span><span style=\"color: #000000; text-decoration-color: #000000; background-color: #e7cb94\">          </span><span style=\"color: #ffffff; text-decoration-color: #ffffff; background-color: #6b6ecf\">          </span><span style=\"color: #ffffff; text-decoration-color: #ffffff; background-color: #a55194\">          </span><span style=\"color: #ffffff; text-decoration-color: #ffffff; background-color: #8c6d31\">          </span>\n",
       "<span style=\"color: #ffffff; text-decoration-color: #ffffff; background-color: #393b79\">          </span><span style=\"color: #ffffff; text-decoration-color: #ffffff; background-color: #d6616b\">          </span><span style=\"color: #ffffff; text-decoration-color: #ffffff; background-color: #8ca252\">          </span><span style=\"color: #ffffff; text-decoration-color: #ffffff; background-color: #de9ed6\">          </span><span style=\"color: #000000; text-decoration-color: #000000; background-color: #e7cb94\">          </span><span style=\"color: #ffffff; text-decoration-color: #ffffff; background-color: #6b6ecf\">          </span><span style=\"color: #ffffff; text-decoration-color: #ffffff; background-color: #a55194\">          </span><span style=\"color: #ffffff; text-decoration-color: #ffffff; background-color: #8c6d31\">          </span>\n",
       "<span style=\"color: #ffffff; text-decoration-color: #ffffff; background-color: #393b79\">          </span><span style=\"color: #ffffff; text-decoration-color: #ffffff; background-color: #d6616b\">          </span><span style=\"color: #ffffff; text-decoration-color: #ffffff; background-color: #8ca252\">          </span><span style=\"color: #ffffff; text-decoration-color: #ffffff; background-color: #de9ed6\">          </span><span style=\"color: #000000; text-decoration-color: #000000; background-color: #e7cb94\">          </span><span style=\"color: #ffffff; text-decoration-color: #ffffff; background-color: #6b6ecf\">          </span><span style=\"color: #ffffff; text-decoration-color: #ffffff; background-color: #a55194\">          </span><span style=\"color: #ffffff; text-decoration-color: #ffffff; background-color: #8c6d31\">          </span>\n",
       "</pre>\n"
      ],
      "text/plain": [
       "\u001b[38;2;255;255;255;48;2;57;59;121m          \u001b[0m\u001b[38;2;255;255;255;48;2;214;97;107m          \u001b[0m\u001b[38;2;255;255;255;48;2;140;162;82m          \u001b[0m\u001b[38;2;255;255;255;48;2;222;158;214m          \u001b[0m\u001b[38;2;0;0;0;48;2;231;203;148m          \u001b[0m\u001b[38;2;255;255;255;48;2;107;110;207m          \u001b[0m\u001b[38;2;255;255;255;48;2;165;81;148m          \u001b[0m\u001b[38;2;255;255;255;48;2;140;109;49m          \u001b[0m\n",
       "\u001b[38;2;255;255;255;48;2;57;59;121m          \u001b[0m\u001b[38;2;255;255;255;48;2;214;97;107m          \u001b[0m\u001b[38;2;255;255;255;48;2;140;162;82m          \u001b[0m\u001b[38;2;255;255;255;48;2;222;158;214m          \u001b[0m\u001b[38;2;0;0;0;48;2;231;203;148m          \u001b[0m\u001b[38;2;255;255;255;48;2;107;110;207m          \u001b[0m\u001b[38;2;255;255;255;48;2;165;81;148m          \u001b[0m\u001b[38;2;255;255;255;48;2;140;109;49m          \u001b[0m\n",
       "\u001b[38;2;255;255;255;48;2;57;59;121m          \u001b[0m\u001b[38;2;255;255;255;48;2;214;97;107m          \u001b[0m\u001b[38;2;255;255;255;48;2;140;162;82m          \u001b[0m\u001b[38;2;255;255;255;48;2;222;158;214m          \u001b[0m\u001b[38;2;0;0;0;48;2;231;203;148m          \u001b[0m\u001b[38;2;255;255;255;48;2;107;110;207m          \u001b[0m\u001b[38;2;255;255;255;48;2;165;81;148m          \u001b[0m\u001b[38;2;255;255;255;48;2;140;109;49m          \u001b[0m\n",
       "\u001b[38;2;255;255;255;48;2;57;59;121m          \u001b[0m\u001b[38;2;255;255;255;48;2;214;97;107m          \u001b[0m\u001b[38;2;255;255;255;48;2;140;162;82m          \u001b[0m\u001b[38;2;255;255;255;48;2;222;158;214m          \u001b[0m\u001b[38;2;0;0;0;48;2;231;203;148m          \u001b[0m\u001b[38;2;255;255;255;48;2;107;110;207m          \u001b[0m\u001b[38;2;255;255;255;48;2;165;81;148m          \u001b[0m\u001b[38;2;255;255;255;48;2;140;109;49m          \u001b[0m\n",
       "\u001b[38;2;255;255;255;48;2;57;59;121m          \u001b[0m\u001b[38;2;255;255;255;48;2;214;97;107m          \u001b[0m\u001b[38;2;255;255;255;48;2;140;162;82m          \u001b[0m\u001b[38;2;255;255;255;48;2;222;158;214m          \u001b[0m\u001b[38;2;0;0;0;48;2;231;203;148m          \u001b[0m\u001b[38;2;255;255;255;48;2;107;110;207m          \u001b[0m\u001b[38;2;255;255;255;48;2;165;81;148m          \u001b[0m\u001b[38;2;255;255;255;48;2;140;109;49m          \u001b[0m\n",
       "\u001b[38;2;255;255;255;48;2;57;59;121m          \u001b[0m\u001b[38;2;255;255;255;48;2;214;97;107m          \u001b[0m\u001b[38;2;255;255;255;48;2;140;162;82m          \u001b[0m\u001b[38;2;255;255;255;48;2;222;158;214m          \u001b[0m\u001b[38;2;0;0;0;48;2;231;203;148m          \u001b[0m\u001b[38;2;255;255;255;48;2;107;110;207m          \u001b[0m\u001b[38;2;255;255;255;48;2;165;81;148m          \u001b[0m\u001b[38;2;255;255;255;48;2;140;109;49m          \u001b[0m\n",
       "\u001b[38;2;255;255;255;48;2;57;59;121m          \u001b[0m\u001b[38;2;255;255;255;48;2;214;97;107m          \u001b[0m\u001b[38;2;255;255;255;48;2;140;162;82m          \u001b[0m\u001b[38;2;255;255;255;48;2;222;158;214m          \u001b[0m\u001b[38;2;0;0;0;48;2;231;203;148m          \u001b[0m\u001b[38;2;255;255;255;48;2;107;110;207m          \u001b[0m\u001b[38;2;255;255;255;48;2;165;81;148m          \u001b[0m\u001b[38;2;255;255;255;48;2;140;109;49m          \u001b[0m\n",
       "\u001b[38;2;255;255;255;48;2;57;59;121m          \u001b[0m\u001b[38;2;255;255;255;48;2;214;97;107m          \u001b[0m\u001b[38;2;255;255;255;48;2;140;162;82m          \u001b[0m\u001b[38;2;255;255;255;48;2;222;158;214m          \u001b[0m\u001b[38;2;0;0;0;48;2;231;203;148m          \u001b[0m\u001b[38;2;255;255;255;48;2;107;110;207m          \u001b[0m\u001b[38;2;255;255;255;48;2;165;81;148m          \u001b[0m\u001b[38;2;255;255;255;48;2;140;109;49m          \u001b[0m\n",
       "\u001b[38;2;255;255;255;48;2;57;59;121m          \u001b[0m\u001b[38;2;255;255;255;48;2;214;97;107m          \u001b[0m\u001b[38;2;255;255;255;48;2;140;162;82m          \u001b[0m\u001b[38;2;255;255;255;48;2;222;158;214m          \u001b[0m\u001b[38;2;0;0;0;48;2;231;203;148m          \u001b[0m\u001b[38;2;255;255;255;48;2;107;110;207m          \u001b[0m\u001b[38;2;255;255;255;48;2;165;81;148m          \u001b[0m\u001b[38;2;255;255;255;48;2;140;109;49m          \u001b[0m\n",
       "\u001b[38;2;255;255;255;48;2;57;59;121m          \u001b[0m\u001b[38;2;255;255;255;48;2;214;97;107m          \u001b[0m\u001b[38;2;255;255;255;48;2;140;162;82m          \u001b[0m\u001b[38;2;255;255;255;48;2;222;158;214m          \u001b[0m\u001b[38;2;0;0;0;48;2;231;203;148m          \u001b[0m\u001b[38;2;255;255;255;48;2;107;110;207m          \u001b[0m\u001b[38;2;255;255;255;48;2;165;81;148m          \u001b[0m\u001b[38;2;255;255;255;48;2;140;109;49m          \u001b[0m\n"
      ]
     },
     "metadata": {},
     "output_type": "display_data"
    },
    {
     "data": {
      "text/html": [
       "<pre style=\"white-space:pre;overflow-x:auto;line-height:normal;font-family:Menlo,'DejaVu Sans Mono',consolas,'Courier New',monospace\"><span style=\"color: #ffffff; text-decoration-color: #ffffff; background-color: #393b79\">CPU 0,1,2,3,4,5,6,7</span>\n",
       "<span style=\"color: #ffffff; text-decoration-color: #ffffff; background-color: #393b79\">                   </span>\n",
       "</pre>\n"
      ],
      "text/plain": [
       "\u001b[38;2;255;255;255;48;2;57;59;121mCPU 0,1,2,3,4,5,6,7\u001b[0m\n",
       "\u001b[38;2;255;255;255;48;2;57;59;121m                   \u001b[0m\n"
      ]
     },
     "metadata": {},
     "output_type": "display_data"
    },
    {
     "data": {
      "text/html": [
       "<pre style=\"white-space:pre;overflow-x:auto;line-height:normal;font-family:Menlo,'DejaVu Sans Mono',consolas,'Courier New',monospace\"><span style=\"color: #ffffff; text-decoration-color: #ffffff; background-color: #393b79\">          </span><span style=\"color: #ffffff; text-decoration-color: #ffffff; background-color: #d6616b\">          </span><span style=\"color: #ffffff; text-decoration-color: #ffffff; background-color: #8ca252\">          </span><span style=\"color: #ffffff; text-decoration-color: #ffffff; background-color: #de9ed6\">          </span><span style=\"color: #000000; text-decoration-color: #000000; background-color: #e7cb94\">          </span><span style=\"color: #ffffff; text-decoration-color: #ffffff; background-color: #6b6ecf\">          </span><span style=\"color: #ffffff; text-decoration-color: #ffffff; background-color: #a55194\">          </span><span style=\"color: #ffffff; text-decoration-color: #ffffff; background-color: #8c6d31\">          </span>\n",
       "<span style=\"color: #ffffff; text-decoration-color: #ffffff; background-color: #393b79\">          </span><span style=\"color: #ffffff; text-decoration-color: #ffffff; background-color: #d6616b\">          </span><span style=\"color: #ffffff; text-decoration-color: #ffffff; background-color: #8ca252\">          </span><span style=\"color: #ffffff; text-decoration-color: #ffffff; background-color: #de9ed6\">          </span><span style=\"color: #000000; text-decoration-color: #000000; background-color: #e7cb94\">          </span><span style=\"color: #ffffff; text-decoration-color: #ffffff; background-color: #6b6ecf\">          </span><span style=\"color: #ffffff; text-decoration-color: #ffffff; background-color: #a55194\">          </span><span style=\"color: #ffffff; text-decoration-color: #ffffff; background-color: #8c6d31\">          </span>\n",
       "<span style=\"color: #ffffff; text-decoration-color: #ffffff; background-color: #393b79\">          </span><span style=\"color: #ffffff; text-decoration-color: #ffffff; background-color: #d6616b\">          </span><span style=\"color: #ffffff; text-decoration-color: #ffffff; background-color: #8ca252\">          </span><span style=\"color: #ffffff; text-decoration-color: #ffffff; background-color: #de9ed6\">          </span><span style=\"color: #000000; text-decoration-color: #000000; background-color: #e7cb94\">          </span><span style=\"color: #ffffff; text-decoration-color: #ffffff; background-color: #6b6ecf\">          </span><span style=\"color: #ffffff; text-decoration-color: #ffffff; background-color: #a55194\">          </span><span style=\"color: #ffffff; text-decoration-color: #ffffff; background-color: #8c6d31\">          </span>\n",
       "<span style=\"color: #ffffff; text-decoration-color: #ffffff; background-color: #393b79\">          </span><span style=\"color: #ffffff; text-decoration-color: #ffffff; background-color: #d6616b\">          </span><span style=\"color: #ffffff; text-decoration-color: #ffffff; background-color: #8ca252\">          </span><span style=\"color: #ffffff; text-decoration-color: #ffffff; background-color: #de9ed6\">          </span><span style=\"color: #000000; text-decoration-color: #000000; background-color: #e7cb94\">          </span><span style=\"color: #ffffff; text-decoration-color: #ffffff; background-color: #6b6ecf\">          </span><span style=\"color: #ffffff; text-decoration-color: #ffffff; background-color: #a55194\">          </span><span style=\"color: #ffffff; text-decoration-color: #ffffff; background-color: #8c6d31\">          </span>\n",
       "<span style=\"color: #ffffff; text-decoration-color: #ffffff; background-color: #393b79\">          </span><span style=\"color: #ffffff; text-decoration-color: #ffffff; background-color: #d6616b\">          </span><span style=\"color: #ffffff; text-decoration-color: #ffffff; background-color: #8ca252\">          </span><span style=\"color: #ffffff; text-decoration-color: #ffffff; background-color: #de9ed6\">          </span><span style=\"color: #000000; text-decoration-color: #000000; background-color: #e7cb94\">          </span><span style=\"color: #ffffff; text-decoration-color: #ffffff; background-color: #6b6ecf\">          </span><span style=\"color: #ffffff; text-decoration-color: #ffffff; background-color: #a55194\">          </span><span style=\"color: #ffffff; text-decoration-color: #ffffff; background-color: #8c6d31\">          </span>\n",
       "<span style=\"color: #ffffff; text-decoration-color: #ffffff; background-color: #393b79\">          </span><span style=\"color: #ffffff; text-decoration-color: #ffffff; background-color: #d6616b\">          </span><span style=\"color: #ffffff; text-decoration-color: #ffffff; background-color: #8ca252\">          </span><span style=\"color: #ffffff; text-decoration-color: #ffffff; background-color: #de9ed6\">          </span><span style=\"color: #000000; text-decoration-color: #000000; background-color: #e7cb94\">          </span><span style=\"color: #ffffff; text-decoration-color: #ffffff; background-color: #6b6ecf\">          </span><span style=\"color: #ffffff; text-decoration-color: #ffffff; background-color: #a55194\">          </span><span style=\"color: #ffffff; text-decoration-color: #ffffff; background-color: #8c6d31\">          </span>\n",
       "<span style=\"color: #ffffff; text-decoration-color: #ffffff; background-color: #393b79\">          </span><span style=\"color: #ffffff; text-decoration-color: #ffffff; background-color: #d6616b\">          </span><span style=\"color: #ffffff; text-decoration-color: #ffffff; background-color: #8ca252\">          </span><span style=\"color: #ffffff; text-decoration-color: #ffffff; background-color: #de9ed6\">          </span><span style=\"color: #000000; text-decoration-color: #000000; background-color: #e7cb94\">          </span><span style=\"color: #ffffff; text-decoration-color: #ffffff; background-color: #6b6ecf\">          </span><span style=\"color: #ffffff; text-decoration-color: #ffffff; background-color: #a55194\">          </span><span style=\"color: #ffffff; text-decoration-color: #ffffff; background-color: #8c6d31\">          </span>\n",
       "<span style=\"color: #ffffff; text-decoration-color: #ffffff; background-color: #393b79\">          </span><span style=\"color: #ffffff; text-decoration-color: #ffffff; background-color: #d6616b\">          </span><span style=\"color: #ffffff; text-decoration-color: #ffffff; background-color: #8ca252\">          </span><span style=\"color: #ffffff; text-decoration-color: #ffffff; background-color: #de9ed6\">          </span><span style=\"color: #000000; text-decoration-color: #000000; background-color: #e7cb94\">          </span><span style=\"color: #ffffff; text-decoration-color: #ffffff; background-color: #6b6ecf\">          </span><span style=\"color: #ffffff; text-decoration-color: #ffffff; background-color: #a55194\">          </span><span style=\"color: #ffffff; text-decoration-color: #ffffff; background-color: #8c6d31\">          </span>\n",
       "<span style=\"color: #ffffff; text-decoration-color: #ffffff; background-color: #393b79\">          </span><span style=\"color: #ffffff; text-decoration-color: #ffffff; background-color: #d6616b\">          </span><span style=\"color: #ffffff; text-decoration-color: #ffffff; background-color: #8ca252\">          </span><span style=\"color: #ffffff; text-decoration-color: #ffffff; background-color: #de9ed6\">          </span><span style=\"color: #000000; text-decoration-color: #000000; background-color: #e7cb94\">          </span><span style=\"color: #ffffff; text-decoration-color: #ffffff; background-color: #6b6ecf\">          </span><span style=\"color: #ffffff; text-decoration-color: #ffffff; background-color: #a55194\">          </span><span style=\"color: #ffffff; text-decoration-color: #ffffff; background-color: #8c6d31\">          </span>\n",
       "<span style=\"color: #ffffff; text-decoration-color: #ffffff; background-color: #393b79\">          </span><span style=\"color: #ffffff; text-decoration-color: #ffffff; background-color: #d6616b\">          </span><span style=\"color: #ffffff; text-decoration-color: #ffffff; background-color: #8ca252\">          </span><span style=\"color: #ffffff; text-decoration-color: #ffffff; background-color: #de9ed6\">          </span><span style=\"color: #000000; text-decoration-color: #000000; background-color: #e7cb94\">          </span><span style=\"color: #ffffff; text-decoration-color: #ffffff; background-color: #6b6ecf\">          </span><span style=\"color: #ffffff; text-decoration-color: #ffffff; background-color: #a55194\">          </span><span style=\"color: #ffffff; text-decoration-color: #ffffff; background-color: #8c6d31\">          </span>\n",
       "</pre>\n"
      ],
      "text/plain": [
       "\u001b[38;2;255;255;255;48;2;57;59;121m          \u001b[0m\u001b[38;2;255;255;255;48;2;214;97;107m          \u001b[0m\u001b[38;2;255;255;255;48;2;140;162;82m          \u001b[0m\u001b[38;2;255;255;255;48;2;222;158;214m          \u001b[0m\u001b[38;2;0;0;0;48;2;231;203;148m          \u001b[0m\u001b[38;2;255;255;255;48;2;107;110;207m          \u001b[0m\u001b[38;2;255;255;255;48;2;165;81;148m          \u001b[0m\u001b[38;2;255;255;255;48;2;140;109;49m          \u001b[0m\n",
       "\u001b[38;2;255;255;255;48;2;57;59;121m          \u001b[0m\u001b[38;2;255;255;255;48;2;214;97;107m          \u001b[0m\u001b[38;2;255;255;255;48;2;140;162;82m          \u001b[0m\u001b[38;2;255;255;255;48;2;222;158;214m          \u001b[0m\u001b[38;2;0;0;0;48;2;231;203;148m          \u001b[0m\u001b[38;2;255;255;255;48;2;107;110;207m          \u001b[0m\u001b[38;2;255;255;255;48;2;165;81;148m          \u001b[0m\u001b[38;2;255;255;255;48;2;140;109;49m          \u001b[0m\n",
       "\u001b[38;2;255;255;255;48;2;57;59;121m          \u001b[0m\u001b[38;2;255;255;255;48;2;214;97;107m          \u001b[0m\u001b[38;2;255;255;255;48;2;140;162;82m          \u001b[0m\u001b[38;2;255;255;255;48;2;222;158;214m          \u001b[0m\u001b[38;2;0;0;0;48;2;231;203;148m          \u001b[0m\u001b[38;2;255;255;255;48;2;107;110;207m          \u001b[0m\u001b[38;2;255;255;255;48;2;165;81;148m          \u001b[0m\u001b[38;2;255;255;255;48;2;140;109;49m          \u001b[0m\n",
       "\u001b[38;2;255;255;255;48;2;57;59;121m          \u001b[0m\u001b[38;2;255;255;255;48;2;214;97;107m          \u001b[0m\u001b[38;2;255;255;255;48;2;140;162;82m          \u001b[0m\u001b[38;2;255;255;255;48;2;222;158;214m          \u001b[0m\u001b[38;2;0;0;0;48;2;231;203;148m          \u001b[0m\u001b[38;2;255;255;255;48;2;107;110;207m          \u001b[0m\u001b[38;2;255;255;255;48;2;165;81;148m          \u001b[0m\u001b[38;2;255;255;255;48;2;140;109;49m          \u001b[0m\n",
       "\u001b[38;2;255;255;255;48;2;57;59;121m          \u001b[0m\u001b[38;2;255;255;255;48;2;214;97;107m          \u001b[0m\u001b[38;2;255;255;255;48;2;140;162;82m          \u001b[0m\u001b[38;2;255;255;255;48;2;222;158;214m          \u001b[0m\u001b[38;2;0;0;0;48;2;231;203;148m          \u001b[0m\u001b[38;2;255;255;255;48;2;107;110;207m          \u001b[0m\u001b[38;2;255;255;255;48;2;165;81;148m          \u001b[0m\u001b[38;2;255;255;255;48;2;140;109;49m          \u001b[0m\n",
       "\u001b[38;2;255;255;255;48;2;57;59;121m          \u001b[0m\u001b[38;2;255;255;255;48;2;214;97;107m          \u001b[0m\u001b[38;2;255;255;255;48;2;140;162;82m          \u001b[0m\u001b[38;2;255;255;255;48;2;222;158;214m          \u001b[0m\u001b[38;2;0;0;0;48;2;231;203;148m          \u001b[0m\u001b[38;2;255;255;255;48;2;107;110;207m          \u001b[0m\u001b[38;2;255;255;255;48;2;165;81;148m          \u001b[0m\u001b[38;2;255;255;255;48;2;140;109;49m          \u001b[0m\n",
       "\u001b[38;2;255;255;255;48;2;57;59;121m          \u001b[0m\u001b[38;2;255;255;255;48;2;214;97;107m          \u001b[0m\u001b[38;2;255;255;255;48;2;140;162;82m          \u001b[0m\u001b[38;2;255;255;255;48;2;222;158;214m          \u001b[0m\u001b[38;2;0;0;0;48;2;231;203;148m          \u001b[0m\u001b[38;2;255;255;255;48;2;107;110;207m          \u001b[0m\u001b[38;2;255;255;255;48;2;165;81;148m          \u001b[0m\u001b[38;2;255;255;255;48;2;140;109;49m          \u001b[0m\n",
       "\u001b[38;2;255;255;255;48;2;57;59;121m          \u001b[0m\u001b[38;2;255;255;255;48;2;214;97;107m          \u001b[0m\u001b[38;2;255;255;255;48;2;140;162;82m          \u001b[0m\u001b[38;2;255;255;255;48;2;222;158;214m          \u001b[0m\u001b[38;2;0;0;0;48;2;231;203;148m          \u001b[0m\u001b[38;2;255;255;255;48;2;107;110;207m          \u001b[0m\u001b[38;2;255;255;255;48;2;165;81;148m          \u001b[0m\u001b[38;2;255;255;255;48;2;140;109;49m          \u001b[0m\n",
       "\u001b[38;2;255;255;255;48;2;57;59;121m          \u001b[0m\u001b[38;2;255;255;255;48;2;214;97;107m          \u001b[0m\u001b[38;2;255;255;255;48;2;140;162;82m          \u001b[0m\u001b[38;2;255;255;255;48;2;222;158;214m          \u001b[0m\u001b[38;2;0;0;0;48;2;231;203;148m          \u001b[0m\u001b[38;2;255;255;255;48;2;107;110;207m          \u001b[0m\u001b[38;2;255;255;255;48;2;165;81;148m          \u001b[0m\u001b[38;2;255;255;255;48;2;140;109;49m          \u001b[0m\n",
       "\u001b[38;2;255;255;255;48;2;57;59;121m          \u001b[0m\u001b[38;2;255;255;255;48;2;214;97;107m          \u001b[0m\u001b[38;2;255;255;255;48;2;140;162;82m          \u001b[0m\u001b[38;2;255;255;255;48;2;222;158;214m          \u001b[0m\u001b[38;2;0;0;0;48;2;231;203;148m          \u001b[0m\u001b[38;2;255;255;255;48;2;107;110;207m          \u001b[0m\u001b[38;2;255;255;255;48;2;165;81;148m          \u001b[0m\u001b[38;2;255;255;255;48;2;140;109;49m          \u001b[0m\n"
      ]
     },
     "metadata": {},
     "output_type": "display_data"
    },
    {
     "data": {
      "text/html": [
       "<pre style=\"white-space:pre;overflow-x:auto;line-height:normal;font-family:Menlo,'DejaVu Sans Mono',consolas,'Courier New',monospace\"><span style=\"color: #ffffff; text-decoration-color: #ffffff; background-color: #393b79\">CPU 0,1,2,3,4,5,6,7</span>\n",
       "<span style=\"color: #ffffff; text-decoration-color: #ffffff; background-color: #393b79\">                   </span>\n",
       "</pre>\n"
      ],
      "text/plain": [
       "\u001b[38;2;255;255;255;48;2;57;59;121mCPU 0,1,2,3,4,5,6,7\u001b[0m\n",
       "\u001b[38;2;255;255;255;48;2;57;59;121m                   \u001b[0m\n"
      ]
     },
     "metadata": {},
     "output_type": "display_data"
    },
    {
     "data": {
      "text/html": [
       "<pre style=\"white-space:pre;overflow-x:auto;line-height:normal;font-family:Menlo,'DejaVu Sans Mono',consolas,'Courier New',monospace\"><span style=\"color: #ffffff; text-decoration-color: #ffffff; background-color: #393b79\">         </span><span style=\"color: #ffffff; text-decoration-color: #ffffff; background-color: #d6616b\">         </span><span style=\"color: #ffffff; text-decoration-color: #ffffff; background-color: #8ca252\">         </span><span style=\"color: #ffffff; text-decoration-color: #ffffff; background-color: #de9ed6\">         </span><span style=\"color: #000000; text-decoration-color: #000000; background-color: #e7cb94\">         </span><span style=\"color: #ffffff; text-decoration-color: #ffffff; background-color: #6b6ecf\">         </span><span style=\"color: #ffffff; text-decoration-color: #ffffff; background-color: #a55194\">         </span><span style=\"color: #ffffff; text-decoration-color: #ffffff; background-color: #8c6d31\">         </span>\n",
       "<span style=\"color: #ffffff; text-decoration-color: #ffffff; background-color: #393b79\">         </span><span style=\"color: #ffffff; text-decoration-color: #ffffff; background-color: #d6616b\">         </span><span style=\"color: #ffffff; text-decoration-color: #ffffff; background-color: #8ca252\">         </span><span style=\"color: #ffffff; text-decoration-color: #ffffff; background-color: #de9ed6\">         </span><span style=\"color: #000000; text-decoration-color: #000000; background-color: #e7cb94\">         </span><span style=\"color: #ffffff; text-decoration-color: #ffffff; background-color: #6b6ecf\">         </span><span style=\"color: #ffffff; text-decoration-color: #ffffff; background-color: #a55194\">         </span><span style=\"color: #ffffff; text-decoration-color: #ffffff; background-color: #8c6d31\">         </span>\n",
       "<span style=\"color: #ffffff; text-decoration-color: #ffffff; background-color: #393b79\">         </span><span style=\"color: #ffffff; text-decoration-color: #ffffff; background-color: #d6616b\">         </span><span style=\"color: #ffffff; text-decoration-color: #ffffff; background-color: #8ca252\">         </span><span style=\"color: #ffffff; text-decoration-color: #ffffff; background-color: #de9ed6\">         </span><span style=\"color: #000000; text-decoration-color: #000000; background-color: #e7cb94\">         </span><span style=\"color: #ffffff; text-decoration-color: #ffffff; background-color: #6b6ecf\">         </span><span style=\"color: #ffffff; text-decoration-color: #ffffff; background-color: #a55194\">         </span><span style=\"color: #ffffff; text-decoration-color: #ffffff; background-color: #8c6d31\">         </span>\n",
       "<span style=\"color: #ffffff; text-decoration-color: #ffffff; background-color: #393b79\">         </span><span style=\"color: #ffffff; text-decoration-color: #ffffff; background-color: #d6616b\">         </span><span style=\"color: #ffffff; text-decoration-color: #ffffff; background-color: #8ca252\">         </span><span style=\"color: #ffffff; text-decoration-color: #ffffff; background-color: #de9ed6\">         </span><span style=\"color: #000000; text-decoration-color: #000000; background-color: #e7cb94\">         </span><span style=\"color: #ffffff; text-decoration-color: #ffffff; background-color: #6b6ecf\">         </span><span style=\"color: #ffffff; text-decoration-color: #ffffff; background-color: #a55194\">         </span><span style=\"color: #ffffff; text-decoration-color: #ffffff; background-color: #8c6d31\">         </span>\n",
       "<span style=\"color: #ffffff; text-decoration-color: #ffffff; background-color: #393b79\">         </span><span style=\"color: #ffffff; text-decoration-color: #ffffff; background-color: #d6616b\">         </span><span style=\"color: #ffffff; text-decoration-color: #ffffff; background-color: #8ca252\">         </span><span style=\"color: #ffffff; text-decoration-color: #ffffff; background-color: #de9ed6\">         </span><span style=\"color: #000000; text-decoration-color: #000000; background-color: #e7cb94\">         </span><span style=\"color: #ffffff; text-decoration-color: #ffffff; background-color: #6b6ecf\">         </span><span style=\"color: #ffffff; text-decoration-color: #ffffff; background-color: #a55194\">         </span><span style=\"color: #ffffff; text-decoration-color: #ffffff; background-color: #8c6d31\">         </span>\n",
       "<span style=\"color: #ffffff; text-decoration-color: #ffffff; background-color: #393b79\">  CPU 0  </span><span style=\"color: #ffffff; text-decoration-color: #ffffff; background-color: #d6616b\">  CPU 1  </span><span style=\"color: #ffffff; text-decoration-color: #ffffff; background-color: #8ca252\">  CPU 2  </span><span style=\"color: #ffffff; text-decoration-color: #ffffff; background-color: #de9ed6\">  CPU 3  </span><span style=\"color: #000000; text-decoration-color: #000000; background-color: #e7cb94\">  CPU 4  </span><span style=\"color: #ffffff; text-decoration-color: #ffffff; background-color: #6b6ecf\">  CPU 5  </span><span style=\"color: #ffffff; text-decoration-color: #ffffff; background-color: #a55194\">  CPU 6  </span><span style=\"color: #ffffff; text-decoration-color: #ffffff; background-color: #8c6d31\">  CPU 7  </span>\n",
       "<span style=\"color: #ffffff; text-decoration-color: #ffffff; background-color: #393b79\">         </span><span style=\"color: #ffffff; text-decoration-color: #ffffff; background-color: #d6616b\">         </span><span style=\"color: #ffffff; text-decoration-color: #ffffff; background-color: #8ca252\">         </span><span style=\"color: #ffffff; text-decoration-color: #ffffff; background-color: #de9ed6\">         </span><span style=\"color: #000000; text-decoration-color: #000000; background-color: #e7cb94\">         </span><span style=\"color: #ffffff; text-decoration-color: #ffffff; background-color: #6b6ecf\">         </span><span style=\"color: #ffffff; text-decoration-color: #ffffff; background-color: #a55194\">         </span><span style=\"color: #ffffff; text-decoration-color: #ffffff; background-color: #8c6d31\">         </span>\n",
       "<span style=\"color: #ffffff; text-decoration-color: #ffffff; background-color: #393b79\">         </span><span style=\"color: #ffffff; text-decoration-color: #ffffff; background-color: #d6616b\">         </span><span style=\"color: #ffffff; text-decoration-color: #ffffff; background-color: #8ca252\">         </span><span style=\"color: #ffffff; text-decoration-color: #ffffff; background-color: #de9ed6\">         </span><span style=\"color: #000000; text-decoration-color: #000000; background-color: #e7cb94\">         </span><span style=\"color: #ffffff; text-decoration-color: #ffffff; background-color: #6b6ecf\">         </span><span style=\"color: #ffffff; text-decoration-color: #ffffff; background-color: #a55194\">         </span><span style=\"color: #ffffff; text-decoration-color: #ffffff; background-color: #8c6d31\">         </span>\n",
       "<span style=\"color: #ffffff; text-decoration-color: #ffffff; background-color: #393b79\">         </span><span style=\"color: #ffffff; text-decoration-color: #ffffff; background-color: #d6616b\">         </span><span style=\"color: #ffffff; text-decoration-color: #ffffff; background-color: #8ca252\">         </span><span style=\"color: #ffffff; text-decoration-color: #ffffff; background-color: #de9ed6\">         </span><span style=\"color: #000000; text-decoration-color: #000000; background-color: #e7cb94\">         </span><span style=\"color: #ffffff; text-decoration-color: #ffffff; background-color: #6b6ecf\">         </span><span style=\"color: #ffffff; text-decoration-color: #ffffff; background-color: #a55194\">         </span><span style=\"color: #ffffff; text-decoration-color: #ffffff; background-color: #8c6d31\">         </span>\n",
       "<span style=\"color: #ffffff; text-decoration-color: #ffffff; background-color: #393b79\">         </span><span style=\"color: #ffffff; text-decoration-color: #ffffff; background-color: #d6616b\">         </span><span style=\"color: #ffffff; text-decoration-color: #ffffff; background-color: #8ca252\">         </span><span style=\"color: #ffffff; text-decoration-color: #ffffff; background-color: #de9ed6\">         </span><span style=\"color: #000000; text-decoration-color: #000000; background-color: #e7cb94\">         </span><span style=\"color: #ffffff; text-decoration-color: #ffffff; background-color: #6b6ecf\">         </span><span style=\"color: #ffffff; text-decoration-color: #ffffff; background-color: #a55194\">         </span><span style=\"color: #ffffff; text-decoration-color: #ffffff; background-color: #8c6d31\">         </span>\n",
       "<span style=\"color: #ffffff; text-decoration-color: #ffffff; background-color: #393b79\">         </span><span style=\"color: #ffffff; text-decoration-color: #ffffff; background-color: #d6616b\">         </span><span style=\"color: #ffffff; text-decoration-color: #ffffff; background-color: #8ca252\">         </span><span style=\"color: #ffffff; text-decoration-color: #ffffff; background-color: #de9ed6\">         </span><span style=\"color: #000000; text-decoration-color: #000000; background-color: #e7cb94\">         </span><span style=\"color: #ffffff; text-decoration-color: #ffffff; background-color: #6b6ecf\">         </span><span style=\"color: #ffffff; text-decoration-color: #ffffff; background-color: #a55194\">         </span><span style=\"color: #ffffff; text-decoration-color: #ffffff; background-color: #8c6d31\">         </span>\n",
       "</pre>\n"
      ],
      "text/plain": [
       "\u001b[38;2;255;255;255;48;2;57;59;121m         \u001b[0m\u001b[38;2;255;255;255;48;2;214;97;107m         \u001b[0m\u001b[38;2;255;255;255;48;2;140;162;82m         \u001b[0m\u001b[38;2;255;255;255;48;2;222;158;214m         \u001b[0m\u001b[38;2;0;0;0;48;2;231;203;148m         \u001b[0m\u001b[38;2;255;255;255;48;2;107;110;207m         \u001b[0m\u001b[38;2;255;255;255;48;2;165;81;148m         \u001b[0m\u001b[38;2;255;255;255;48;2;140;109;49m         \u001b[0m\n",
       "\u001b[38;2;255;255;255;48;2;57;59;121m         \u001b[0m\u001b[38;2;255;255;255;48;2;214;97;107m         \u001b[0m\u001b[38;2;255;255;255;48;2;140;162;82m         \u001b[0m\u001b[38;2;255;255;255;48;2;222;158;214m         \u001b[0m\u001b[38;2;0;0;0;48;2;231;203;148m         \u001b[0m\u001b[38;2;255;255;255;48;2;107;110;207m         \u001b[0m\u001b[38;2;255;255;255;48;2;165;81;148m         \u001b[0m\u001b[38;2;255;255;255;48;2;140;109;49m         \u001b[0m\n",
       "\u001b[38;2;255;255;255;48;2;57;59;121m         \u001b[0m\u001b[38;2;255;255;255;48;2;214;97;107m         \u001b[0m\u001b[38;2;255;255;255;48;2;140;162;82m         \u001b[0m\u001b[38;2;255;255;255;48;2;222;158;214m         \u001b[0m\u001b[38;2;0;0;0;48;2;231;203;148m         \u001b[0m\u001b[38;2;255;255;255;48;2;107;110;207m         \u001b[0m\u001b[38;2;255;255;255;48;2;165;81;148m         \u001b[0m\u001b[38;2;255;255;255;48;2;140;109;49m         \u001b[0m\n",
       "\u001b[38;2;255;255;255;48;2;57;59;121m         \u001b[0m\u001b[38;2;255;255;255;48;2;214;97;107m         \u001b[0m\u001b[38;2;255;255;255;48;2;140;162;82m         \u001b[0m\u001b[38;2;255;255;255;48;2;222;158;214m         \u001b[0m\u001b[38;2;0;0;0;48;2;231;203;148m         \u001b[0m\u001b[38;2;255;255;255;48;2;107;110;207m         \u001b[0m\u001b[38;2;255;255;255;48;2;165;81;148m         \u001b[0m\u001b[38;2;255;255;255;48;2;140;109;49m         \u001b[0m\n",
       "\u001b[38;2;255;255;255;48;2;57;59;121m         \u001b[0m\u001b[38;2;255;255;255;48;2;214;97;107m         \u001b[0m\u001b[38;2;255;255;255;48;2;140;162;82m         \u001b[0m\u001b[38;2;255;255;255;48;2;222;158;214m         \u001b[0m\u001b[38;2;0;0;0;48;2;231;203;148m         \u001b[0m\u001b[38;2;255;255;255;48;2;107;110;207m         \u001b[0m\u001b[38;2;255;255;255;48;2;165;81;148m         \u001b[0m\u001b[38;2;255;255;255;48;2;140;109;49m         \u001b[0m\n",
       "\u001b[38;2;255;255;255;48;2;57;59;121m  \u001b[0m\u001b[38;2;255;255;255;48;2;57;59;121mCPU 0\u001b[0m\u001b[38;2;255;255;255;48;2;57;59;121m  \u001b[0m\u001b[38;2;255;255;255;48;2;214;97;107m  \u001b[0m\u001b[38;2;255;255;255;48;2;214;97;107mCPU 1\u001b[0m\u001b[38;2;255;255;255;48;2;214;97;107m  \u001b[0m\u001b[38;2;255;255;255;48;2;140;162;82m  \u001b[0m\u001b[38;2;255;255;255;48;2;140;162;82mCPU 2\u001b[0m\u001b[38;2;255;255;255;48;2;140;162;82m  \u001b[0m\u001b[38;2;255;255;255;48;2;222;158;214m  \u001b[0m\u001b[38;2;255;255;255;48;2;222;158;214mCPU 3\u001b[0m\u001b[38;2;255;255;255;48;2;222;158;214m  \u001b[0m\u001b[38;2;0;0;0;48;2;231;203;148m  \u001b[0m\u001b[38;2;0;0;0;48;2;231;203;148mCPU 4\u001b[0m\u001b[38;2;0;0;0;48;2;231;203;148m  \u001b[0m\u001b[38;2;255;255;255;48;2;107;110;207m  \u001b[0m\u001b[38;2;255;255;255;48;2;107;110;207mCPU 5\u001b[0m\u001b[38;2;255;255;255;48;2;107;110;207m  \u001b[0m\u001b[38;2;255;255;255;48;2;165;81;148m  \u001b[0m\u001b[38;2;255;255;255;48;2;165;81;148mCPU 6\u001b[0m\u001b[38;2;255;255;255;48;2;165;81;148m  \u001b[0m\u001b[38;2;255;255;255;48;2;140;109;49m  \u001b[0m\u001b[38;2;255;255;255;48;2;140;109;49mCPU 7\u001b[0m\u001b[38;2;255;255;255;48;2;140;109;49m  \u001b[0m\n",
       "\u001b[38;2;255;255;255;48;2;57;59;121m         \u001b[0m\u001b[38;2;255;255;255;48;2;214;97;107m         \u001b[0m\u001b[38;2;255;255;255;48;2;140;162;82m         \u001b[0m\u001b[38;2;255;255;255;48;2;222;158;214m         \u001b[0m\u001b[38;2;0;0;0;48;2;231;203;148m         \u001b[0m\u001b[38;2;255;255;255;48;2;107;110;207m         \u001b[0m\u001b[38;2;255;255;255;48;2;165;81;148m         \u001b[0m\u001b[38;2;255;255;255;48;2;140;109;49m         \u001b[0m\n",
       "\u001b[38;2;255;255;255;48;2;57;59;121m         \u001b[0m\u001b[38;2;255;255;255;48;2;214;97;107m         \u001b[0m\u001b[38;2;255;255;255;48;2;140;162;82m         \u001b[0m\u001b[38;2;255;255;255;48;2;222;158;214m         \u001b[0m\u001b[38;2;0;0;0;48;2;231;203;148m         \u001b[0m\u001b[38;2;255;255;255;48;2;107;110;207m         \u001b[0m\u001b[38;2;255;255;255;48;2;165;81;148m         \u001b[0m\u001b[38;2;255;255;255;48;2;140;109;49m         \u001b[0m\n",
       "\u001b[38;2;255;255;255;48;2;57;59;121m         \u001b[0m\u001b[38;2;255;255;255;48;2;214;97;107m         \u001b[0m\u001b[38;2;255;255;255;48;2;140;162;82m         \u001b[0m\u001b[38;2;255;255;255;48;2;222;158;214m         \u001b[0m\u001b[38;2;0;0;0;48;2;231;203;148m         \u001b[0m\u001b[38;2;255;255;255;48;2;107;110;207m         \u001b[0m\u001b[38;2;255;255;255;48;2;165;81;148m         \u001b[0m\u001b[38;2;255;255;255;48;2;140;109;49m         \u001b[0m\n",
       "\u001b[38;2;255;255;255;48;2;57;59;121m         \u001b[0m\u001b[38;2;255;255;255;48;2;214;97;107m         \u001b[0m\u001b[38;2;255;255;255;48;2;140;162;82m         \u001b[0m\u001b[38;2;255;255;255;48;2;222;158;214m         \u001b[0m\u001b[38;2;0;0;0;48;2;231;203;148m         \u001b[0m\u001b[38;2;255;255;255;48;2;107;110;207m         \u001b[0m\u001b[38;2;255;255;255;48;2;165;81;148m         \u001b[0m\u001b[38;2;255;255;255;48;2;140;109;49m         \u001b[0m\n",
       "\u001b[38;2;255;255;255;48;2;57;59;121m         \u001b[0m\u001b[38;2;255;255;255;48;2;214;97;107m         \u001b[0m\u001b[38;2;255;255;255;48;2;140;162;82m         \u001b[0m\u001b[38;2;255;255;255;48;2;222;158;214m         \u001b[0m\u001b[38;2;0;0;0;48;2;231;203;148m         \u001b[0m\u001b[38;2;255;255;255;48;2;107;110;207m         \u001b[0m\u001b[38;2;255;255;255;48;2;165;81;148m         \u001b[0m\u001b[38;2;255;255;255;48;2;140;109;49m         \u001b[0m\n"
      ]
     },
     "metadata": {},
     "output_type": "display_data"
    },
    {
     "data": {
      "text/html": [
       "<pre style=\"white-space:pre;overflow-x:auto;line-height:normal;font-family:Menlo,'DejaVu Sans Mono',consolas,'Courier New',monospace\"><span style=\"color: #ffffff; text-decoration-color: #ffffff; background-color: #393b79\">CPU 0,1,2,3,4,5,6,7</span>\n",
       "<span style=\"color: #ffffff; text-decoration-color: #ffffff; background-color: #393b79\">                   </span>\n",
       "</pre>\n"
      ],
      "text/plain": [
       "\u001b[38;2;255;255;255;48;2;57;59;121mCPU 0,1,2,3,4,5,6,7\u001b[0m\n",
       "\u001b[38;2;255;255;255;48;2;57;59;121m                   \u001b[0m\n"
      ]
     },
     "metadata": {},
     "output_type": "display_data"
    },
    {
     "data": {
      "text/html": [
       "<pre style=\"white-space:pre;overflow-x:auto;line-height:normal;font-family:Menlo,'DejaVu Sans Mono',consolas,'Courier New',monospace\"><span style=\"color: #ffffff; text-decoration-color: #ffffff; background-color: #393b79\">CPU 0,1,2,3,4,5,6,7</span>\n",
       "<span style=\"color: #ffffff; text-decoration-color: #ffffff; background-color: #393b79\">                   </span>\n",
       "</pre>\n"
      ],
      "text/plain": [
       "\u001b[38;2;255;255;255;48;2;57;59;121mCPU 0,1,2,3,4,5,6,7\u001b[0m\n",
       "\u001b[38;2;255;255;255;48;2;57;59;121m                   \u001b[0m\n"
      ]
     },
     "metadata": {},
     "output_type": "display_data"
    },
    {
     "data": {
      "text/html": [
       "<pre style=\"white-space:pre;overflow-x:auto;line-height:normal;font-family:Menlo,'DejaVu Sans Mono',consolas,'Courier New',monospace\"><span style=\"color: #ffffff; text-decoration-color: #ffffff; background-color: #393b79\">CPU 0,1,2,3,4,5,6,7</span>\n",
       "<span style=\"color: #ffffff; text-decoration-color: #ffffff; background-color: #393b79\">                   </span>\n",
       "</pre>\n"
      ],
      "text/plain": [
       "\u001b[38;2;255;255;255;48;2;57;59;121mCPU 0,1,2,3,4,5,6,7\u001b[0m\n",
       "\u001b[38;2;255;255;255;48;2;57;59;121m                   \u001b[0m\n"
      ]
     },
     "metadata": {},
     "output_type": "display_data"
    },
    {
     "data": {
      "text/html": [
       "<pre style=\"white-space:pre;overflow-x:auto;line-height:normal;font-family:Menlo,'DejaVu Sans Mono',consolas,'Courier New',monospace\"><span style=\"color: #ffffff; text-decoration-color: #ffffff; background-color: #393b79\">CPU 0,1,2,3,4,5,6,7</span>\n",
       "<span style=\"color: #ffffff; text-decoration-color: #ffffff; background-color: #393b79\">                   </span>\n",
       "</pre>\n"
      ],
      "text/plain": [
       "\u001b[38;2;255;255;255;48;2;57;59;121mCPU 0,1,2,3,4,5,6,7\u001b[0m\n",
       "\u001b[38;2;255;255;255;48;2;57;59;121m                   \u001b[0m\n"
      ]
     },
     "metadata": {},
     "output_type": "display_data"
    },
    {
     "data": {
      "text/html": [
       "<pre style=\"white-space:pre;overflow-x:auto;line-height:normal;font-family:Menlo,'DejaVu Sans Mono',consolas,'Courier New',monospace\"><span style=\"color: #ffffff; text-decoration-color: #ffffff; background-color: #393b79\">CPU 0,1,2,3,4,5,6,7</span>\n",
       "<span style=\"color: #ffffff; text-decoration-color: #ffffff; background-color: #393b79\">                   </span>\n",
       "</pre>\n"
      ],
      "text/plain": [
       "\u001b[38;2;255;255;255;48;2;57;59;121mCPU 0,1,2,3,4,5,6,7\u001b[0m\n",
       "\u001b[38;2;255;255;255;48;2;57;59;121m                   \u001b[0m\n"
      ]
     },
     "metadata": {},
     "output_type": "display_data"
    },
    {
     "data": {
      "text/html": [
       "<pre style=\"white-space:pre;overflow-x:auto;line-height:normal;font-family:Menlo,'DejaVu Sans Mono',consolas,'Courier New',monospace\"><span style=\"color: #ffffff; text-decoration-color: #ffffff; background-color: #393b79\">          </span><span style=\"color: #ffffff; text-decoration-color: #ffffff; background-color: #d6616b\">          </span><span style=\"color: #ffffff; text-decoration-color: #ffffff; background-color: #8ca252\">          </span><span style=\"color: #ffffff; text-decoration-color: #ffffff; background-color: #de9ed6\">          </span><span style=\"color: #000000; text-decoration-color: #000000; background-color: #e7cb94\">          </span><span style=\"color: #ffffff; text-decoration-color: #ffffff; background-color: #6b6ecf\">          </span><span style=\"color: #ffffff; text-decoration-color: #ffffff; background-color: #a55194\">          </span><span style=\"color: #ffffff; text-decoration-color: #ffffff; background-color: #8c6d31\">          </span>\n",
       "<span style=\"color: #ffffff; text-decoration-color: #ffffff; background-color: #393b79\">          </span><span style=\"color: #ffffff; text-decoration-color: #ffffff; background-color: #d6616b\">          </span><span style=\"color: #ffffff; text-decoration-color: #ffffff; background-color: #8ca252\">          </span><span style=\"color: #ffffff; text-decoration-color: #ffffff; background-color: #de9ed6\">          </span><span style=\"color: #000000; text-decoration-color: #000000; background-color: #e7cb94\">          </span><span style=\"color: #ffffff; text-decoration-color: #ffffff; background-color: #6b6ecf\">          </span><span style=\"color: #ffffff; text-decoration-color: #ffffff; background-color: #a55194\">          </span><span style=\"color: #ffffff; text-decoration-color: #ffffff; background-color: #8c6d31\">          </span>\n",
       "<span style=\"color: #ffffff; text-decoration-color: #ffffff; background-color: #393b79\">          </span><span style=\"color: #ffffff; text-decoration-color: #ffffff; background-color: #d6616b\">          </span><span style=\"color: #ffffff; text-decoration-color: #ffffff; background-color: #8ca252\">          </span><span style=\"color: #ffffff; text-decoration-color: #ffffff; background-color: #de9ed6\">          </span><span style=\"color: #000000; text-decoration-color: #000000; background-color: #e7cb94\">          </span><span style=\"color: #ffffff; text-decoration-color: #ffffff; background-color: #6b6ecf\">          </span><span style=\"color: #ffffff; text-decoration-color: #ffffff; background-color: #a55194\">          </span><span style=\"color: #ffffff; text-decoration-color: #ffffff; background-color: #8c6d31\">          </span>\n",
       "<span style=\"color: #ffffff; text-decoration-color: #ffffff; background-color: #393b79\">          </span><span style=\"color: #ffffff; text-decoration-color: #ffffff; background-color: #d6616b\">          </span><span style=\"color: #ffffff; text-decoration-color: #ffffff; background-color: #8ca252\">          </span><span style=\"color: #ffffff; text-decoration-color: #ffffff; background-color: #de9ed6\">          </span><span style=\"color: #000000; text-decoration-color: #000000; background-color: #e7cb94\">          </span><span style=\"color: #ffffff; text-decoration-color: #ffffff; background-color: #6b6ecf\">          </span><span style=\"color: #ffffff; text-decoration-color: #ffffff; background-color: #a55194\">          </span><span style=\"color: #ffffff; text-decoration-color: #ffffff; background-color: #8c6d31\">          </span>\n",
       "<span style=\"color: #ffffff; text-decoration-color: #ffffff; background-color: #393b79\">          </span><span style=\"color: #ffffff; text-decoration-color: #ffffff; background-color: #d6616b\">          </span><span style=\"color: #ffffff; text-decoration-color: #ffffff; background-color: #8ca252\">          </span><span style=\"color: #ffffff; text-decoration-color: #ffffff; background-color: #de9ed6\">          </span><span style=\"color: #000000; text-decoration-color: #000000; background-color: #e7cb94\">          </span><span style=\"color: #ffffff; text-decoration-color: #ffffff; background-color: #6b6ecf\">          </span><span style=\"color: #ffffff; text-decoration-color: #ffffff; background-color: #a55194\">          </span><span style=\"color: #ffffff; text-decoration-color: #ffffff; background-color: #8c6d31\">          </span>\n",
       "<span style=\"color: #ffffff; text-decoration-color: #ffffff; background-color: #393b79\">   CPU    </span><span style=\"color: #ffffff; text-decoration-color: #ffffff; background-color: #d6616b\">   CPU    </span><span style=\"color: #ffffff; text-decoration-color: #ffffff; background-color: #8ca252\">   CPU    </span><span style=\"color: #ffffff; text-decoration-color: #ffffff; background-color: #de9ed6\">   CPU    </span><span style=\"color: #000000; text-decoration-color: #000000; background-color: #e7cb94\">   CPU    </span><span style=\"color: #ffffff; text-decoration-color: #ffffff; background-color: #6b6ecf\">   CPU    </span><span style=\"color: #ffffff; text-decoration-color: #ffffff; background-color: #a55194\">   CPU    </span><span style=\"color: #ffffff; text-decoration-color: #ffffff; background-color: #8c6d31\">   CPU    </span>\n",
       "<span style=\"color: #ffffff; text-decoration-color: #ffffff; background-color: #393b79\">   0      </span><span style=\"color: #ffffff; text-decoration-color: #ffffff; background-color: #d6616b\">   1      </span><span style=\"color: #ffffff; text-decoration-color: #ffffff; background-color: #8ca252\">   2      </span><span style=\"color: #ffffff; text-decoration-color: #ffffff; background-color: #de9ed6\">   3      </span><span style=\"color: #000000; text-decoration-color: #000000; background-color: #e7cb94\">   4      </span><span style=\"color: #ffffff; text-decoration-color: #ffffff; background-color: #6b6ecf\">   5      </span><span style=\"color: #ffffff; text-decoration-color: #ffffff; background-color: #a55194\">   6      </span><span style=\"color: #ffffff; text-decoration-color: #ffffff; background-color: #8c6d31\">   7      </span>\n",
       "<span style=\"color: #ffffff; text-decoration-color: #ffffff; background-color: #393b79\">          </span><span style=\"color: #ffffff; text-decoration-color: #ffffff; background-color: #d6616b\">          </span><span style=\"color: #ffffff; text-decoration-color: #ffffff; background-color: #8ca252\">          </span><span style=\"color: #ffffff; text-decoration-color: #ffffff; background-color: #de9ed6\">          </span><span style=\"color: #000000; text-decoration-color: #000000; background-color: #e7cb94\">          </span><span style=\"color: #ffffff; text-decoration-color: #ffffff; background-color: #6b6ecf\">          </span><span style=\"color: #ffffff; text-decoration-color: #ffffff; background-color: #a55194\">          </span><span style=\"color: #ffffff; text-decoration-color: #ffffff; background-color: #8c6d31\">          </span>\n",
       "<span style=\"color: #ffffff; text-decoration-color: #ffffff; background-color: #393b79\">          </span><span style=\"color: #ffffff; text-decoration-color: #ffffff; background-color: #d6616b\">          </span><span style=\"color: #ffffff; text-decoration-color: #ffffff; background-color: #8ca252\">          </span><span style=\"color: #ffffff; text-decoration-color: #ffffff; background-color: #de9ed6\">          </span><span style=\"color: #000000; text-decoration-color: #000000; background-color: #e7cb94\">          </span><span style=\"color: #ffffff; text-decoration-color: #ffffff; background-color: #6b6ecf\">          </span><span style=\"color: #ffffff; text-decoration-color: #ffffff; background-color: #a55194\">          </span><span style=\"color: #ffffff; text-decoration-color: #ffffff; background-color: #8c6d31\">          </span>\n",
       "<span style=\"color: #ffffff; text-decoration-color: #ffffff; background-color: #393b79\">          </span><span style=\"color: #ffffff; text-decoration-color: #ffffff; background-color: #d6616b\">          </span><span style=\"color: #ffffff; text-decoration-color: #ffffff; background-color: #8ca252\">          </span><span style=\"color: #ffffff; text-decoration-color: #ffffff; background-color: #de9ed6\">          </span><span style=\"color: #000000; text-decoration-color: #000000; background-color: #e7cb94\">          </span><span style=\"color: #ffffff; text-decoration-color: #ffffff; background-color: #6b6ecf\">          </span><span style=\"color: #ffffff; text-decoration-color: #ffffff; background-color: #a55194\">          </span><span style=\"color: #ffffff; text-decoration-color: #ffffff; background-color: #8c6d31\">          </span>\n",
       "<span style=\"color: #ffffff; text-decoration-color: #ffffff; background-color: #393b79\">          </span><span style=\"color: #ffffff; text-decoration-color: #ffffff; background-color: #d6616b\">          </span><span style=\"color: #ffffff; text-decoration-color: #ffffff; background-color: #8ca252\">          </span><span style=\"color: #ffffff; text-decoration-color: #ffffff; background-color: #de9ed6\">          </span><span style=\"color: #000000; text-decoration-color: #000000; background-color: #e7cb94\">          </span><span style=\"color: #ffffff; text-decoration-color: #ffffff; background-color: #6b6ecf\">          </span><span style=\"color: #ffffff; text-decoration-color: #ffffff; background-color: #a55194\">          </span><span style=\"color: #ffffff; text-decoration-color: #ffffff; background-color: #8c6d31\">          </span>\n",
       "<span style=\"color: #ffffff; text-decoration-color: #ffffff; background-color: #393b79\">          </span><span style=\"color: #ffffff; text-decoration-color: #ffffff; background-color: #d6616b\">          </span><span style=\"color: #ffffff; text-decoration-color: #ffffff; background-color: #8ca252\">          </span><span style=\"color: #ffffff; text-decoration-color: #ffffff; background-color: #de9ed6\">          </span><span style=\"color: #000000; text-decoration-color: #000000; background-color: #e7cb94\">          </span><span style=\"color: #ffffff; text-decoration-color: #ffffff; background-color: #6b6ecf\">          </span><span style=\"color: #ffffff; text-decoration-color: #ffffff; background-color: #a55194\">          </span><span style=\"color: #ffffff; text-decoration-color: #ffffff; background-color: #8c6d31\">          </span>\n",
       "</pre>\n"
      ],
      "text/plain": [
       "\u001b[38;2;255;255;255;48;2;57;59;121m          \u001b[0m\u001b[38;2;255;255;255;48;2;214;97;107m          \u001b[0m\u001b[38;2;255;255;255;48;2;140;162;82m          \u001b[0m\u001b[38;2;255;255;255;48;2;222;158;214m          \u001b[0m\u001b[38;2;0;0;0;48;2;231;203;148m          \u001b[0m\u001b[38;2;255;255;255;48;2;107;110;207m          \u001b[0m\u001b[38;2;255;255;255;48;2;165;81;148m          \u001b[0m\u001b[38;2;255;255;255;48;2;140;109;49m          \u001b[0m\n",
       "\u001b[38;2;255;255;255;48;2;57;59;121m          \u001b[0m\u001b[38;2;255;255;255;48;2;214;97;107m          \u001b[0m\u001b[38;2;255;255;255;48;2;140;162;82m          \u001b[0m\u001b[38;2;255;255;255;48;2;222;158;214m          \u001b[0m\u001b[38;2;0;0;0;48;2;231;203;148m          \u001b[0m\u001b[38;2;255;255;255;48;2;107;110;207m          \u001b[0m\u001b[38;2;255;255;255;48;2;165;81;148m          \u001b[0m\u001b[38;2;255;255;255;48;2;140;109;49m          \u001b[0m\n",
       "\u001b[38;2;255;255;255;48;2;57;59;121m          \u001b[0m\u001b[38;2;255;255;255;48;2;214;97;107m          \u001b[0m\u001b[38;2;255;255;255;48;2;140;162;82m          \u001b[0m\u001b[38;2;255;255;255;48;2;222;158;214m          \u001b[0m\u001b[38;2;0;0;0;48;2;231;203;148m          \u001b[0m\u001b[38;2;255;255;255;48;2;107;110;207m          \u001b[0m\u001b[38;2;255;255;255;48;2;165;81;148m          \u001b[0m\u001b[38;2;255;255;255;48;2;140;109;49m          \u001b[0m\n",
       "\u001b[38;2;255;255;255;48;2;57;59;121m          \u001b[0m\u001b[38;2;255;255;255;48;2;214;97;107m          \u001b[0m\u001b[38;2;255;255;255;48;2;140;162;82m          \u001b[0m\u001b[38;2;255;255;255;48;2;222;158;214m          \u001b[0m\u001b[38;2;0;0;0;48;2;231;203;148m          \u001b[0m\u001b[38;2;255;255;255;48;2;107;110;207m          \u001b[0m\u001b[38;2;255;255;255;48;2;165;81;148m          \u001b[0m\u001b[38;2;255;255;255;48;2;140;109;49m          \u001b[0m\n",
       "\u001b[38;2;255;255;255;48;2;57;59;121m          \u001b[0m\u001b[38;2;255;255;255;48;2;214;97;107m          \u001b[0m\u001b[38;2;255;255;255;48;2;140;162;82m          \u001b[0m\u001b[38;2;255;255;255;48;2;222;158;214m          \u001b[0m\u001b[38;2;0;0;0;48;2;231;203;148m          \u001b[0m\u001b[38;2;255;255;255;48;2;107;110;207m          \u001b[0m\u001b[38;2;255;255;255;48;2;165;81;148m          \u001b[0m\u001b[38;2;255;255;255;48;2;140;109;49m          \u001b[0m\n",
       "\u001b[38;2;255;255;255;48;2;57;59;121m   \u001b[0m\u001b[38;2;255;255;255;48;2;57;59;121mCPU\u001b[0m\u001b[38;2;255;255;255;48;2;57;59;121m    \u001b[0m\u001b[38;2;255;255;255;48;2;214;97;107m   \u001b[0m\u001b[38;2;255;255;255;48;2;214;97;107mCPU\u001b[0m\u001b[38;2;255;255;255;48;2;214;97;107m    \u001b[0m\u001b[38;2;255;255;255;48;2;140;162;82m   \u001b[0m\u001b[38;2;255;255;255;48;2;140;162;82mCPU\u001b[0m\u001b[38;2;255;255;255;48;2;140;162;82m    \u001b[0m\u001b[38;2;255;255;255;48;2;222;158;214m   \u001b[0m\u001b[38;2;255;255;255;48;2;222;158;214mCPU\u001b[0m\u001b[38;2;255;255;255;48;2;222;158;214m    \u001b[0m\u001b[38;2;0;0;0;48;2;231;203;148m   \u001b[0m\u001b[38;2;0;0;0;48;2;231;203;148mCPU\u001b[0m\u001b[38;2;0;0;0;48;2;231;203;148m    \u001b[0m\u001b[38;2;255;255;255;48;2;107;110;207m   \u001b[0m\u001b[38;2;255;255;255;48;2;107;110;207mCPU\u001b[0m\u001b[38;2;255;255;255;48;2;107;110;207m    \u001b[0m\u001b[38;2;255;255;255;48;2;165;81;148m   \u001b[0m\u001b[38;2;255;255;255;48;2;165;81;148mCPU\u001b[0m\u001b[38;2;255;255;255;48;2;165;81;148m    \u001b[0m\u001b[38;2;255;255;255;48;2;140;109;49m   \u001b[0m\u001b[38;2;255;255;255;48;2;140;109;49mCPU\u001b[0m\u001b[38;2;255;255;255;48;2;140;109;49m    \u001b[0m\n",
       "\u001b[38;2;255;255;255;48;2;57;59;121m   \u001b[0m\u001b[38;2;255;255;255;48;2;57;59;121m0  \u001b[0m\u001b[38;2;255;255;255;48;2;57;59;121m    \u001b[0m\u001b[38;2;255;255;255;48;2;214;97;107m   \u001b[0m\u001b[38;2;255;255;255;48;2;214;97;107m1  \u001b[0m\u001b[38;2;255;255;255;48;2;214;97;107m    \u001b[0m\u001b[38;2;255;255;255;48;2;140;162;82m   \u001b[0m\u001b[38;2;255;255;255;48;2;140;162;82m2  \u001b[0m\u001b[38;2;255;255;255;48;2;140;162;82m    \u001b[0m\u001b[38;2;255;255;255;48;2;222;158;214m   \u001b[0m\u001b[38;2;255;255;255;48;2;222;158;214m3  \u001b[0m\u001b[38;2;255;255;255;48;2;222;158;214m    \u001b[0m\u001b[38;2;0;0;0;48;2;231;203;148m   \u001b[0m\u001b[38;2;0;0;0;48;2;231;203;148m4  \u001b[0m\u001b[38;2;0;0;0;48;2;231;203;148m    \u001b[0m\u001b[38;2;255;255;255;48;2;107;110;207m   \u001b[0m\u001b[38;2;255;255;255;48;2;107;110;207m5  \u001b[0m\u001b[38;2;255;255;255;48;2;107;110;207m    \u001b[0m\u001b[38;2;255;255;255;48;2;165;81;148m   \u001b[0m\u001b[38;2;255;255;255;48;2;165;81;148m6  \u001b[0m\u001b[38;2;255;255;255;48;2;165;81;148m    \u001b[0m\u001b[38;2;255;255;255;48;2;140;109;49m   \u001b[0m\u001b[38;2;255;255;255;48;2;140;109;49m7  \u001b[0m\u001b[38;2;255;255;255;48;2;140;109;49m    \u001b[0m\n",
       "\u001b[38;2;255;255;255;48;2;57;59;121m          \u001b[0m\u001b[38;2;255;255;255;48;2;214;97;107m          \u001b[0m\u001b[38;2;255;255;255;48;2;140;162;82m          \u001b[0m\u001b[38;2;255;255;255;48;2;222;158;214m          \u001b[0m\u001b[38;2;0;0;0;48;2;231;203;148m          \u001b[0m\u001b[38;2;255;255;255;48;2;107;110;207m          \u001b[0m\u001b[38;2;255;255;255;48;2;165;81;148m          \u001b[0m\u001b[38;2;255;255;255;48;2;140;109;49m          \u001b[0m\n",
       "\u001b[38;2;255;255;255;48;2;57;59;121m          \u001b[0m\u001b[38;2;255;255;255;48;2;214;97;107m          \u001b[0m\u001b[38;2;255;255;255;48;2;140;162;82m          \u001b[0m\u001b[38;2;255;255;255;48;2;222;158;214m          \u001b[0m\u001b[38;2;0;0;0;48;2;231;203;148m          \u001b[0m\u001b[38;2;255;255;255;48;2;107;110;207m          \u001b[0m\u001b[38;2;255;255;255;48;2;165;81;148m          \u001b[0m\u001b[38;2;255;255;255;48;2;140;109;49m          \u001b[0m\n",
       "\u001b[38;2;255;255;255;48;2;57;59;121m          \u001b[0m\u001b[38;2;255;255;255;48;2;214;97;107m          \u001b[0m\u001b[38;2;255;255;255;48;2;140;162;82m          \u001b[0m\u001b[38;2;255;255;255;48;2;222;158;214m          \u001b[0m\u001b[38;2;0;0;0;48;2;231;203;148m          \u001b[0m\u001b[38;2;255;255;255;48;2;107;110;207m          \u001b[0m\u001b[38;2;255;255;255;48;2;165;81;148m          \u001b[0m\u001b[38;2;255;255;255;48;2;140;109;49m          \u001b[0m\n",
       "\u001b[38;2;255;255;255;48;2;57;59;121m          \u001b[0m\u001b[38;2;255;255;255;48;2;214;97;107m          \u001b[0m\u001b[38;2;255;255;255;48;2;140;162;82m          \u001b[0m\u001b[38;2;255;255;255;48;2;222;158;214m          \u001b[0m\u001b[38;2;0;0;0;48;2;231;203;148m          \u001b[0m\u001b[38;2;255;255;255;48;2;107;110;207m          \u001b[0m\u001b[38;2;255;255;255;48;2;165;81;148m          \u001b[0m\u001b[38;2;255;255;255;48;2;140;109;49m          \u001b[0m\n",
       "\u001b[38;2;255;255;255;48;2;57;59;121m          \u001b[0m\u001b[38;2;255;255;255;48;2;214;97;107m          \u001b[0m\u001b[38;2;255;255;255;48;2;140;162;82m          \u001b[0m\u001b[38;2;255;255;255;48;2;222;158;214m          \u001b[0m\u001b[38;2;0;0;0;48;2;231;203;148m          \u001b[0m\u001b[38;2;255;255;255;48;2;107;110;207m          \u001b[0m\u001b[38;2;255;255;255;48;2;165;81;148m          \u001b[0m\u001b[38;2;255;255;255;48;2;140;109;49m          \u001b[0m\n"
      ]
     },
     "metadata": {},
     "output_type": "display_data"
    },
    {
     "data": {
      "text/html": [
       "<pre style=\"white-space:pre;overflow-x:auto;line-height:normal;font-family:Menlo,'DejaVu Sans Mono',consolas,'Courier New',monospace\"><span style=\"color: #ffffff; text-decoration-color: #ffffff; background-color: #393b79\">CPU 0,1,2,3,4,5,6,7</span>\n",
       "<span style=\"color: #ffffff; text-decoration-color: #ffffff; background-color: #393b79\">                   </span>\n",
       "</pre>\n"
      ],
      "text/plain": [
       "\u001b[38;2;255;255;255;48;2;57;59;121mCPU 0,1,2,3,4,5,6,7\u001b[0m\n",
       "\u001b[38;2;255;255;255;48;2;57;59;121m                   \u001b[0m\n"
      ]
     },
     "metadata": {},
     "output_type": "display_data"
    },
    {
     "data": {
      "text/html": [
       "<pre style=\"white-space:pre;overflow-x:auto;line-height:normal;font-family:Menlo,'DejaVu Sans Mono',consolas,'Courier New',monospace\"><span style=\"color: #ffffff; text-decoration-color: #ffffff; background-color: #393b79\">          </span><span style=\"color: #ffffff; text-decoration-color: #ffffff; background-color: #d6616b\">          </span><span style=\"color: #ffffff; text-decoration-color: #ffffff; background-color: #8ca252\">          </span><span style=\"color: #ffffff; text-decoration-color: #ffffff; background-color: #de9ed6\">          </span><span style=\"color: #000000; text-decoration-color: #000000; background-color: #e7cb94\">          </span><span style=\"color: #ffffff; text-decoration-color: #ffffff; background-color: #6b6ecf\">          </span><span style=\"color: #ffffff; text-decoration-color: #ffffff; background-color: #a55194\">          </span><span style=\"color: #ffffff; text-decoration-color: #ffffff; background-color: #8c6d31\">          </span>\n",
       "<span style=\"color: #ffffff; text-decoration-color: #ffffff; background-color: #393b79\">          </span><span style=\"color: #ffffff; text-decoration-color: #ffffff; background-color: #d6616b\">          </span><span style=\"color: #ffffff; text-decoration-color: #ffffff; background-color: #8ca252\">          </span><span style=\"color: #ffffff; text-decoration-color: #ffffff; background-color: #de9ed6\">          </span><span style=\"color: #000000; text-decoration-color: #000000; background-color: #e7cb94\">          </span><span style=\"color: #ffffff; text-decoration-color: #ffffff; background-color: #6b6ecf\">          </span><span style=\"color: #ffffff; text-decoration-color: #ffffff; background-color: #a55194\">          </span><span style=\"color: #ffffff; text-decoration-color: #ffffff; background-color: #8c6d31\">          </span>\n",
       "<span style=\"color: #ffffff; text-decoration-color: #ffffff; background-color: #393b79\">          </span><span style=\"color: #ffffff; text-decoration-color: #ffffff; background-color: #d6616b\">          </span><span style=\"color: #ffffff; text-decoration-color: #ffffff; background-color: #8ca252\">          </span><span style=\"color: #ffffff; text-decoration-color: #ffffff; background-color: #de9ed6\">          </span><span style=\"color: #000000; text-decoration-color: #000000; background-color: #e7cb94\">          </span><span style=\"color: #ffffff; text-decoration-color: #ffffff; background-color: #6b6ecf\">          </span><span style=\"color: #ffffff; text-decoration-color: #ffffff; background-color: #a55194\">          </span><span style=\"color: #ffffff; text-decoration-color: #ffffff; background-color: #8c6d31\">          </span>\n",
       "<span style=\"color: #ffffff; text-decoration-color: #ffffff; background-color: #393b79\">          </span><span style=\"color: #ffffff; text-decoration-color: #ffffff; background-color: #d6616b\">          </span><span style=\"color: #ffffff; text-decoration-color: #ffffff; background-color: #8ca252\">          </span><span style=\"color: #ffffff; text-decoration-color: #ffffff; background-color: #de9ed6\">          </span><span style=\"color: #000000; text-decoration-color: #000000; background-color: #e7cb94\">          </span><span style=\"color: #ffffff; text-decoration-color: #ffffff; background-color: #6b6ecf\">          </span><span style=\"color: #ffffff; text-decoration-color: #ffffff; background-color: #a55194\">          </span><span style=\"color: #ffffff; text-decoration-color: #ffffff; background-color: #8c6d31\">          </span>\n",
       "<span style=\"color: #ffffff; text-decoration-color: #ffffff; background-color: #393b79\">          </span><span style=\"color: #ffffff; text-decoration-color: #ffffff; background-color: #d6616b\">          </span><span style=\"color: #ffffff; text-decoration-color: #ffffff; background-color: #8ca252\">          </span><span style=\"color: #ffffff; text-decoration-color: #ffffff; background-color: #de9ed6\">          </span><span style=\"color: #000000; text-decoration-color: #000000; background-color: #e7cb94\">          </span><span style=\"color: #ffffff; text-decoration-color: #ffffff; background-color: #6b6ecf\">          </span><span style=\"color: #ffffff; text-decoration-color: #ffffff; background-color: #a55194\">          </span><span style=\"color: #ffffff; text-decoration-color: #ffffff; background-color: #8c6d31\">          </span>\n",
       "<span style=\"color: #ffffff; text-decoration-color: #ffffff; background-color: #393b79\">          </span><span style=\"color: #ffffff; text-decoration-color: #ffffff; background-color: #d6616b\">          </span><span style=\"color: #ffffff; text-decoration-color: #ffffff; background-color: #8ca252\">          </span><span style=\"color: #ffffff; text-decoration-color: #ffffff; background-color: #de9ed6\">          </span><span style=\"color: #000000; text-decoration-color: #000000; background-color: #e7cb94\">          </span><span style=\"color: #ffffff; text-decoration-color: #ffffff; background-color: #6b6ecf\">          </span><span style=\"color: #ffffff; text-decoration-color: #ffffff; background-color: #a55194\">          </span><span style=\"color: #ffffff; text-decoration-color: #ffffff; background-color: #8c6d31\">          </span>\n",
       "<span style=\"color: #ffffff; text-decoration-color: #ffffff; background-color: #393b79\">          </span><span style=\"color: #ffffff; text-decoration-color: #ffffff; background-color: #d6616b\">          </span><span style=\"color: #ffffff; text-decoration-color: #ffffff; background-color: #8ca252\">          </span><span style=\"color: #ffffff; text-decoration-color: #ffffff; background-color: #de9ed6\">          </span><span style=\"color: #000000; text-decoration-color: #000000; background-color: #e7cb94\">          </span><span style=\"color: #ffffff; text-decoration-color: #ffffff; background-color: #6b6ecf\">          </span><span style=\"color: #ffffff; text-decoration-color: #ffffff; background-color: #a55194\">          </span><span style=\"color: #ffffff; text-decoration-color: #ffffff; background-color: #8c6d31\">          </span>\n",
       "<span style=\"color: #ffffff; text-decoration-color: #ffffff; background-color: #393b79\">          </span><span style=\"color: #ffffff; text-decoration-color: #ffffff; background-color: #d6616b\">          </span><span style=\"color: #ffffff; text-decoration-color: #ffffff; background-color: #8ca252\">          </span><span style=\"color: #ffffff; text-decoration-color: #ffffff; background-color: #de9ed6\">          </span><span style=\"color: #000000; text-decoration-color: #000000; background-color: #e7cb94\">          </span><span style=\"color: #ffffff; text-decoration-color: #ffffff; background-color: #6b6ecf\">          </span><span style=\"color: #ffffff; text-decoration-color: #ffffff; background-color: #a55194\">          </span><span style=\"color: #ffffff; text-decoration-color: #ffffff; background-color: #8c6d31\">          </span>\n",
       "<span style=\"color: #ffffff; text-decoration-color: #ffffff; background-color: #393b79\">          </span><span style=\"color: #ffffff; text-decoration-color: #ffffff; background-color: #d6616b\">          </span><span style=\"color: #ffffff; text-decoration-color: #ffffff; background-color: #8ca252\">          </span><span style=\"color: #ffffff; text-decoration-color: #ffffff; background-color: #de9ed6\">          </span><span style=\"color: #000000; text-decoration-color: #000000; background-color: #e7cb94\">          </span><span style=\"color: #ffffff; text-decoration-color: #ffffff; background-color: #6b6ecf\">          </span><span style=\"color: #ffffff; text-decoration-color: #ffffff; background-color: #a55194\">          </span><span style=\"color: #ffffff; text-decoration-color: #ffffff; background-color: #8c6d31\">          </span>\n",
       "<span style=\"color: #ffffff; text-decoration-color: #ffffff; background-color: #393b79\">          </span><span style=\"color: #ffffff; text-decoration-color: #ffffff; background-color: #d6616b\">          </span><span style=\"color: #ffffff; text-decoration-color: #ffffff; background-color: #8ca252\">          </span><span style=\"color: #ffffff; text-decoration-color: #ffffff; background-color: #de9ed6\">          </span><span style=\"color: #000000; text-decoration-color: #000000; background-color: #e7cb94\">          </span><span style=\"color: #ffffff; text-decoration-color: #ffffff; background-color: #6b6ecf\">          </span><span style=\"color: #ffffff; text-decoration-color: #ffffff; background-color: #a55194\">          </span><span style=\"color: #ffffff; text-decoration-color: #ffffff; background-color: #8c6d31\">          </span>\n",
       "</pre>\n"
      ],
      "text/plain": [
       "\u001b[38;2;255;255;255;48;2;57;59;121m          \u001b[0m\u001b[38;2;255;255;255;48;2;214;97;107m          \u001b[0m\u001b[38;2;255;255;255;48;2;140;162;82m          \u001b[0m\u001b[38;2;255;255;255;48;2;222;158;214m          \u001b[0m\u001b[38;2;0;0;0;48;2;231;203;148m          \u001b[0m\u001b[38;2;255;255;255;48;2;107;110;207m          \u001b[0m\u001b[38;2;255;255;255;48;2;165;81;148m          \u001b[0m\u001b[38;2;255;255;255;48;2;140;109;49m          \u001b[0m\n",
       "\u001b[38;2;255;255;255;48;2;57;59;121m          \u001b[0m\u001b[38;2;255;255;255;48;2;214;97;107m          \u001b[0m\u001b[38;2;255;255;255;48;2;140;162;82m          \u001b[0m\u001b[38;2;255;255;255;48;2;222;158;214m          \u001b[0m\u001b[38;2;0;0;0;48;2;231;203;148m          \u001b[0m\u001b[38;2;255;255;255;48;2;107;110;207m          \u001b[0m\u001b[38;2;255;255;255;48;2;165;81;148m          \u001b[0m\u001b[38;2;255;255;255;48;2;140;109;49m          \u001b[0m\n",
       "\u001b[38;2;255;255;255;48;2;57;59;121m          \u001b[0m\u001b[38;2;255;255;255;48;2;214;97;107m          \u001b[0m\u001b[38;2;255;255;255;48;2;140;162;82m          \u001b[0m\u001b[38;2;255;255;255;48;2;222;158;214m          \u001b[0m\u001b[38;2;0;0;0;48;2;231;203;148m          \u001b[0m\u001b[38;2;255;255;255;48;2;107;110;207m          \u001b[0m\u001b[38;2;255;255;255;48;2;165;81;148m          \u001b[0m\u001b[38;2;255;255;255;48;2;140;109;49m          \u001b[0m\n",
       "\u001b[38;2;255;255;255;48;2;57;59;121m          \u001b[0m\u001b[38;2;255;255;255;48;2;214;97;107m          \u001b[0m\u001b[38;2;255;255;255;48;2;140;162;82m          \u001b[0m\u001b[38;2;255;255;255;48;2;222;158;214m          \u001b[0m\u001b[38;2;0;0;0;48;2;231;203;148m          \u001b[0m\u001b[38;2;255;255;255;48;2;107;110;207m          \u001b[0m\u001b[38;2;255;255;255;48;2;165;81;148m          \u001b[0m\u001b[38;2;255;255;255;48;2;140;109;49m          \u001b[0m\n",
       "\u001b[38;2;255;255;255;48;2;57;59;121m          \u001b[0m\u001b[38;2;255;255;255;48;2;214;97;107m          \u001b[0m\u001b[38;2;255;255;255;48;2;140;162;82m          \u001b[0m\u001b[38;2;255;255;255;48;2;222;158;214m          \u001b[0m\u001b[38;2;0;0;0;48;2;231;203;148m          \u001b[0m\u001b[38;2;255;255;255;48;2;107;110;207m          \u001b[0m\u001b[38;2;255;255;255;48;2;165;81;148m          \u001b[0m\u001b[38;2;255;255;255;48;2;140;109;49m          \u001b[0m\n",
       "\u001b[38;2;255;255;255;48;2;57;59;121m          \u001b[0m\u001b[38;2;255;255;255;48;2;214;97;107m          \u001b[0m\u001b[38;2;255;255;255;48;2;140;162;82m          \u001b[0m\u001b[38;2;255;255;255;48;2;222;158;214m          \u001b[0m\u001b[38;2;0;0;0;48;2;231;203;148m          \u001b[0m\u001b[38;2;255;255;255;48;2;107;110;207m          \u001b[0m\u001b[38;2;255;255;255;48;2;165;81;148m          \u001b[0m\u001b[38;2;255;255;255;48;2;140;109;49m          \u001b[0m\n",
       "\u001b[38;2;255;255;255;48;2;57;59;121m          \u001b[0m\u001b[38;2;255;255;255;48;2;214;97;107m          \u001b[0m\u001b[38;2;255;255;255;48;2;140;162;82m          \u001b[0m\u001b[38;2;255;255;255;48;2;222;158;214m          \u001b[0m\u001b[38;2;0;0;0;48;2;231;203;148m          \u001b[0m\u001b[38;2;255;255;255;48;2;107;110;207m          \u001b[0m\u001b[38;2;255;255;255;48;2;165;81;148m          \u001b[0m\u001b[38;2;255;255;255;48;2;140;109;49m          \u001b[0m\n",
       "\u001b[38;2;255;255;255;48;2;57;59;121m          \u001b[0m\u001b[38;2;255;255;255;48;2;214;97;107m          \u001b[0m\u001b[38;2;255;255;255;48;2;140;162;82m          \u001b[0m\u001b[38;2;255;255;255;48;2;222;158;214m          \u001b[0m\u001b[38;2;0;0;0;48;2;231;203;148m          \u001b[0m\u001b[38;2;255;255;255;48;2;107;110;207m          \u001b[0m\u001b[38;2;255;255;255;48;2;165;81;148m          \u001b[0m\u001b[38;2;255;255;255;48;2;140;109;49m          \u001b[0m\n",
       "\u001b[38;2;255;255;255;48;2;57;59;121m          \u001b[0m\u001b[38;2;255;255;255;48;2;214;97;107m          \u001b[0m\u001b[38;2;255;255;255;48;2;140;162;82m          \u001b[0m\u001b[38;2;255;255;255;48;2;222;158;214m          \u001b[0m\u001b[38;2;0;0;0;48;2;231;203;148m          \u001b[0m\u001b[38;2;255;255;255;48;2;107;110;207m          \u001b[0m\u001b[38;2;255;255;255;48;2;165;81;148m          \u001b[0m\u001b[38;2;255;255;255;48;2;140;109;49m          \u001b[0m\n",
       "\u001b[38;2;255;255;255;48;2;57;59;121m          \u001b[0m\u001b[38;2;255;255;255;48;2;214;97;107m          \u001b[0m\u001b[38;2;255;255;255;48;2;140;162;82m          \u001b[0m\u001b[38;2;255;255;255;48;2;222;158;214m          \u001b[0m\u001b[38;2;0;0;0;48;2;231;203;148m          \u001b[0m\u001b[38;2;255;255;255;48;2;107;110;207m          \u001b[0m\u001b[38;2;255;255;255;48;2;165;81;148m          \u001b[0m\u001b[38;2;255;255;255;48;2;140;109;49m          \u001b[0m\n"
      ]
     },
     "metadata": {},
     "output_type": "display_data"
    },
    {
     "data": {
      "text/html": [
       "<pre style=\"white-space:pre;overflow-x:auto;line-height:normal;font-family:Menlo,'DejaVu Sans Mono',consolas,'Courier New',monospace\"><span style=\"color: #ffffff; text-decoration-color: #ffffff; background-color: #393b79\">CPU 0,1,2,3,4,5,6,7</span>\n",
       "<span style=\"color: #ffffff; text-decoration-color: #ffffff; background-color: #393b79\">                   </span>\n",
       "</pre>\n"
      ],
      "text/plain": [
       "\u001b[38;2;255;255;255;48;2;57;59;121mCPU 0,1,2,3,4,5,6,7\u001b[0m\n",
       "\u001b[38;2;255;255;255;48;2;57;59;121m                   \u001b[0m\n"
      ]
     },
     "metadata": {},
     "output_type": "display_data"
    },
    {
     "data": {
      "text/html": [
       "<pre style=\"white-space:pre;overflow-x:auto;line-height:normal;font-family:Menlo,'DejaVu Sans Mono',consolas,'Courier New',monospace\"><span style=\"color: #ffffff; text-decoration-color: #ffffff; background-color: #393b79\">          </span><span style=\"color: #ffffff; text-decoration-color: #ffffff; background-color: #d6616b\">          </span><span style=\"color: #ffffff; text-decoration-color: #ffffff; background-color: #8ca252\">          </span><span style=\"color: #ffffff; text-decoration-color: #ffffff; background-color: #de9ed6\">          </span><span style=\"color: #000000; text-decoration-color: #000000; background-color: #e7cb94\">          </span><span style=\"color: #ffffff; text-decoration-color: #ffffff; background-color: #6b6ecf\">          </span><span style=\"color: #ffffff; text-decoration-color: #ffffff; background-color: #a55194\">          </span><span style=\"color: #ffffff; text-decoration-color: #ffffff; background-color: #8c6d31\">          </span>\n",
       "<span style=\"color: #ffffff; text-decoration-color: #ffffff; background-color: #393b79\">          </span><span style=\"color: #ffffff; text-decoration-color: #ffffff; background-color: #d6616b\">          </span><span style=\"color: #ffffff; text-decoration-color: #ffffff; background-color: #8ca252\">          </span><span style=\"color: #ffffff; text-decoration-color: #ffffff; background-color: #de9ed6\">          </span><span style=\"color: #000000; text-decoration-color: #000000; background-color: #e7cb94\">          </span><span style=\"color: #ffffff; text-decoration-color: #ffffff; background-color: #6b6ecf\">          </span><span style=\"color: #ffffff; text-decoration-color: #ffffff; background-color: #a55194\">          </span><span style=\"color: #ffffff; text-decoration-color: #ffffff; background-color: #8c6d31\">          </span>\n",
       "<span style=\"color: #ffffff; text-decoration-color: #ffffff; background-color: #393b79\">          </span><span style=\"color: #ffffff; text-decoration-color: #ffffff; background-color: #d6616b\">          </span><span style=\"color: #ffffff; text-decoration-color: #ffffff; background-color: #8ca252\">          </span><span style=\"color: #ffffff; text-decoration-color: #ffffff; background-color: #de9ed6\">          </span><span style=\"color: #000000; text-decoration-color: #000000; background-color: #e7cb94\">          </span><span style=\"color: #ffffff; text-decoration-color: #ffffff; background-color: #6b6ecf\">          </span><span style=\"color: #ffffff; text-decoration-color: #ffffff; background-color: #a55194\">          </span><span style=\"color: #ffffff; text-decoration-color: #ffffff; background-color: #8c6d31\">          </span>\n",
       "<span style=\"color: #ffffff; text-decoration-color: #ffffff; background-color: #393b79\">          </span><span style=\"color: #ffffff; text-decoration-color: #ffffff; background-color: #d6616b\">          </span><span style=\"color: #ffffff; text-decoration-color: #ffffff; background-color: #8ca252\">          </span><span style=\"color: #ffffff; text-decoration-color: #ffffff; background-color: #de9ed6\">          </span><span style=\"color: #000000; text-decoration-color: #000000; background-color: #e7cb94\">          </span><span style=\"color: #ffffff; text-decoration-color: #ffffff; background-color: #6b6ecf\">          </span><span style=\"color: #ffffff; text-decoration-color: #ffffff; background-color: #a55194\">          </span><span style=\"color: #ffffff; text-decoration-color: #ffffff; background-color: #8c6d31\">          </span>\n",
       "<span style=\"color: #ffffff; text-decoration-color: #ffffff; background-color: #393b79\">          </span><span style=\"color: #ffffff; text-decoration-color: #ffffff; background-color: #d6616b\">          </span><span style=\"color: #ffffff; text-decoration-color: #ffffff; background-color: #8ca252\">          </span><span style=\"color: #ffffff; text-decoration-color: #ffffff; background-color: #de9ed6\">          </span><span style=\"color: #000000; text-decoration-color: #000000; background-color: #e7cb94\">          </span><span style=\"color: #ffffff; text-decoration-color: #ffffff; background-color: #6b6ecf\">          </span><span style=\"color: #ffffff; text-decoration-color: #ffffff; background-color: #a55194\">          </span><span style=\"color: #ffffff; text-decoration-color: #ffffff; background-color: #8c6d31\">          </span>\n",
       "<span style=\"color: #ffffff; text-decoration-color: #ffffff; background-color: #393b79\">          </span><span style=\"color: #ffffff; text-decoration-color: #ffffff; background-color: #d6616b\">          </span><span style=\"color: #ffffff; text-decoration-color: #ffffff; background-color: #8ca252\">          </span><span style=\"color: #ffffff; text-decoration-color: #ffffff; background-color: #de9ed6\">          </span><span style=\"color: #000000; text-decoration-color: #000000; background-color: #e7cb94\">          </span><span style=\"color: #ffffff; text-decoration-color: #ffffff; background-color: #6b6ecf\">          </span><span style=\"color: #ffffff; text-decoration-color: #ffffff; background-color: #a55194\">          </span><span style=\"color: #ffffff; text-decoration-color: #ffffff; background-color: #8c6d31\">          </span>\n",
       "<span style=\"color: #ffffff; text-decoration-color: #ffffff; background-color: #393b79\">          </span><span style=\"color: #ffffff; text-decoration-color: #ffffff; background-color: #d6616b\">          </span><span style=\"color: #ffffff; text-decoration-color: #ffffff; background-color: #8ca252\">          </span><span style=\"color: #ffffff; text-decoration-color: #ffffff; background-color: #de9ed6\">          </span><span style=\"color: #000000; text-decoration-color: #000000; background-color: #e7cb94\">          </span><span style=\"color: #ffffff; text-decoration-color: #ffffff; background-color: #6b6ecf\">          </span><span style=\"color: #ffffff; text-decoration-color: #ffffff; background-color: #a55194\">          </span><span style=\"color: #ffffff; text-decoration-color: #ffffff; background-color: #8c6d31\">          </span>\n",
       "<span style=\"color: #ffffff; text-decoration-color: #ffffff; background-color: #393b79\">          </span><span style=\"color: #ffffff; text-decoration-color: #ffffff; background-color: #d6616b\">          </span><span style=\"color: #ffffff; text-decoration-color: #ffffff; background-color: #8ca252\">          </span><span style=\"color: #ffffff; text-decoration-color: #ffffff; background-color: #de9ed6\">          </span><span style=\"color: #000000; text-decoration-color: #000000; background-color: #e7cb94\">          </span><span style=\"color: #ffffff; text-decoration-color: #ffffff; background-color: #6b6ecf\">          </span><span style=\"color: #ffffff; text-decoration-color: #ffffff; background-color: #a55194\">          </span><span style=\"color: #ffffff; text-decoration-color: #ffffff; background-color: #8c6d31\">          </span>\n",
       "<span style=\"color: #ffffff; text-decoration-color: #ffffff; background-color: #393b79\">          </span><span style=\"color: #ffffff; text-decoration-color: #ffffff; background-color: #d6616b\">          </span><span style=\"color: #ffffff; text-decoration-color: #ffffff; background-color: #8ca252\">          </span><span style=\"color: #ffffff; text-decoration-color: #ffffff; background-color: #de9ed6\">          </span><span style=\"color: #000000; text-decoration-color: #000000; background-color: #e7cb94\">          </span><span style=\"color: #ffffff; text-decoration-color: #ffffff; background-color: #6b6ecf\">          </span><span style=\"color: #ffffff; text-decoration-color: #ffffff; background-color: #a55194\">          </span><span style=\"color: #ffffff; text-decoration-color: #ffffff; background-color: #8c6d31\">          </span>\n",
       "<span style=\"color: #ffffff; text-decoration-color: #ffffff; background-color: #393b79\">          </span><span style=\"color: #ffffff; text-decoration-color: #ffffff; background-color: #d6616b\">          </span><span style=\"color: #ffffff; text-decoration-color: #ffffff; background-color: #8ca252\">          </span><span style=\"color: #ffffff; text-decoration-color: #ffffff; background-color: #de9ed6\">          </span><span style=\"color: #000000; text-decoration-color: #000000; background-color: #e7cb94\">          </span><span style=\"color: #ffffff; text-decoration-color: #ffffff; background-color: #6b6ecf\">          </span><span style=\"color: #ffffff; text-decoration-color: #ffffff; background-color: #a55194\">          </span><span style=\"color: #ffffff; text-decoration-color: #ffffff; background-color: #8c6d31\">          </span>\n",
       "</pre>\n"
      ],
      "text/plain": [
       "\u001b[38;2;255;255;255;48;2;57;59;121m          \u001b[0m\u001b[38;2;255;255;255;48;2;214;97;107m          \u001b[0m\u001b[38;2;255;255;255;48;2;140;162;82m          \u001b[0m\u001b[38;2;255;255;255;48;2;222;158;214m          \u001b[0m\u001b[38;2;0;0;0;48;2;231;203;148m          \u001b[0m\u001b[38;2;255;255;255;48;2;107;110;207m          \u001b[0m\u001b[38;2;255;255;255;48;2;165;81;148m          \u001b[0m\u001b[38;2;255;255;255;48;2;140;109;49m          \u001b[0m\n",
       "\u001b[38;2;255;255;255;48;2;57;59;121m          \u001b[0m\u001b[38;2;255;255;255;48;2;214;97;107m          \u001b[0m\u001b[38;2;255;255;255;48;2;140;162;82m          \u001b[0m\u001b[38;2;255;255;255;48;2;222;158;214m          \u001b[0m\u001b[38;2;0;0;0;48;2;231;203;148m          \u001b[0m\u001b[38;2;255;255;255;48;2;107;110;207m          \u001b[0m\u001b[38;2;255;255;255;48;2;165;81;148m          \u001b[0m\u001b[38;2;255;255;255;48;2;140;109;49m          \u001b[0m\n",
       "\u001b[38;2;255;255;255;48;2;57;59;121m          \u001b[0m\u001b[38;2;255;255;255;48;2;214;97;107m          \u001b[0m\u001b[38;2;255;255;255;48;2;140;162;82m          \u001b[0m\u001b[38;2;255;255;255;48;2;222;158;214m          \u001b[0m\u001b[38;2;0;0;0;48;2;231;203;148m          \u001b[0m\u001b[38;2;255;255;255;48;2;107;110;207m          \u001b[0m\u001b[38;2;255;255;255;48;2;165;81;148m          \u001b[0m\u001b[38;2;255;255;255;48;2;140;109;49m          \u001b[0m\n",
       "\u001b[38;2;255;255;255;48;2;57;59;121m          \u001b[0m\u001b[38;2;255;255;255;48;2;214;97;107m          \u001b[0m\u001b[38;2;255;255;255;48;2;140;162;82m          \u001b[0m\u001b[38;2;255;255;255;48;2;222;158;214m          \u001b[0m\u001b[38;2;0;0;0;48;2;231;203;148m          \u001b[0m\u001b[38;2;255;255;255;48;2;107;110;207m          \u001b[0m\u001b[38;2;255;255;255;48;2;165;81;148m          \u001b[0m\u001b[38;2;255;255;255;48;2;140;109;49m          \u001b[0m\n",
       "\u001b[38;2;255;255;255;48;2;57;59;121m          \u001b[0m\u001b[38;2;255;255;255;48;2;214;97;107m          \u001b[0m\u001b[38;2;255;255;255;48;2;140;162;82m          \u001b[0m\u001b[38;2;255;255;255;48;2;222;158;214m          \u001b[0m\u001b[38;2;0;0;0;48;2;231;203;148m          \u001b[0m\u001b[38;2;255;255;255;48;2;107;110;207m          \u001b[0m\u001b[38;2;255;255;255;48;2;165;81;148m          \u001b[0m\u001b[38;2;255;255;255;48;2;140;109;49m          \u001b[0m\n",
       "\u001b[38;2;255;255;255;48;2;57;59;121m          \u001b[0m\u001b[38;2;255;255;255;48;2;214;97;107m          \u001b[0m\u001b[38;2;255;255;255;48;2;140;162;82m          \u001b[0m\u001b[38;2;255;255;255;48;2;222;158;214m          \u001b[0m\u001b[38;2;0;0;0;48;2;231;203;148m          \u001b[0m\u001b[38;2;255;255;255;48;2;107;110;207m          \u001b[0m\u001b[38;2;255;255;255;48;2;165;81;148m          \u001b[0m\u001b[38;2;255;255;255;48;2;140;109;49m          \u001b[0m\n",
       "\u001b[38;2;255;255;255;48;2;57;59;121m          \u001b[0m\u001b[38;2;255;255;255;48;2;214;97;107m          \u001b[0m\u001b[38;2;255;255;255;48;2;140;162;82m          \u001b[0m\u001b[38;2;255;255;255;48;2;222;158;214m          \u001b[0m\u001b[38;2;0;0;0;48;2;231;203;148m          \u001b[0m\u001b[38;2;255;255;255;48;2;107;110;207m          \u001b[0m\u001b[38;2;255;255;255;48;2;165;81;148m          \u001b[0m\u001b[38;2;255;255;255;48;2;140;109;49m          \u001b[0m\n",
       "\u001b[38;2;255;255;255;48;2;57;59;121m          \u001b[0m\u001b[38;2;255;255;255;48;2;214;97;107m          \u001b[0m\u001b[38;2;255;255;255;48;2;140;162;82m          \u001b[0m\u001b[38;2;255;255;255;48;2;222;158;214m          \u001b[0m\u001b[38;2;0;0;0;48;2;231;203;148m          \u001b[0m\u001b[38;2;255;255;255;48;2;107;110;207m          \u001b[0m\u001b[38;2;255;255;255;48;2;165;81;148m          \u001b[0m\u001b[38;2;255;255;255;48;2;140;109;49m          \u001b[0m\n",
       "\u001b[38;2;255;255;255;48;2;57;59;121m          \u001b[0m\u001b[38;2;255;255;255;48;2;214;97;107m          \u001b[0m\u001b[38;2;255;255;255;48;2;140;162;82m          \u001b[0m\u001b[38;2;255;255;255;48;2;222;158;214m          \u001b[0m\u001b[38;2;0;0;0;48;2;231;203;148m          \u001b[0m\u001b[38;2;255;255;255;48;2;107;110;207m          \u001b[0m\u001b[38;2;255;255;255;48;2;165;81;148m          \u001b[0m\u001b[38;2;255;255;255;48;2;140;109;49m          \u001b[0m\n",
       "\u001b[38;2;255;255;255;48;2;57;59;121m          \u001b[0m\u001b[38;2;255;255;255;48;2;214;97;107m          \u001b[0m\u001b[38;2;255;255;255;48;2;140;162;82m          \u001b[0m\u001b[38;2;255;255;255;48;2;222;158;214m          \u001b[0m\u001b[38;2;0;0;0;48;2;231;203;148m          \u001b[0m\u001b[38;2;255;255;255;48;2;107;110;207m          \u001b[0m\u001b[38;2;255;255;255;48;2;165;81;148m          \u001b[0m\u001b[38;2;255;255;255;48;2;140;109;49m          \u001b[0m\n"
      ]
     },
     "metadata": {},
     "output_type": "display_data"
    },
    {
     "data": {
      "text/html": [
       "<pre style=\"white-space:pre;overflow-x:auto;line-height:normal;font-family:Menlo,'DejaVu Sans Mono',consolas,'Courier New',monospace\"><span style=\"color: #ffffff; text-decoration-color: #ffffff; background-color: #393b79\">CPU 0,1,2,3,4,5,6,7</span>\n",
       "<span style=\"color: #ffffff; text-decoration-color: #ffffff; background-color: #393b79\">                   </span>\n",
       "</pre>\n"
      ],
      "text/plain": [
       "\u001b[38;2;255;255;255;48;2;57;59;121mCPU 0,1,2,3,4,5,6,7\u001b[0m\n",
       "\u001b[38;2;255;255;255;48;2;57;59;121m                   \u001b[0m\n"
      ]
     },
     "metadata": {},
     "output_type": "display_data"
    },
    {
     "data": {
      "text/html": [
       "<pre style=\"white-space:pre;overflow-x:auto;line-height:normal;font-family:Menlo,'DejaVu Sans Mono',consolas,'Courier New',monospace\"><span style=\"color: #ffffff; text-decoration-color: #ffffff; background-color: #393b79\">          </span><span style=\"color: #ffffff; text-decoration-color: #ffffff; background-color: #d6616b\">          </span><span style=\"color: #ffffff; text-decoration-color: #ffffff; background-color: #8ca252\">          </span><span style=\"color: #ffffff; text-decoration-color: #ffffff; background-color: #de9ed6\">          </span><span style=\"color: #000000; text-decoration-color: #000000; background-color: #e7cb94\">          </span><span style=\"color: #ffffff; text-decoration-color: #ffffff; background-color: #6b6ecf\">          </span><span style=\"color: #ffffff; text-decoration-color: #ffffff; background-color: #a55194\">          </span><span style=\"color: #ffffff; text-decoration-color: #ffffff; background-color: #8c6d31\">          </span>\n",
       "<span style=\"color: #ffffff; text-decoration-color: #ffffff; background-color: #393b79\">          </span><span style=\"color: #ffffff; text-decoration-color: #ffffff; background-color: #d6616b\">          </span><span style=\"color: #ffffff; text-decoration-color: #ffffff; background-color: #8ca252\">          </span><span style=\"color: #ffffff; text-decoration-color: #ffffff; background-color: #de9ed6\">          </span><span style=\"color: #000000; text-decoration-color: #000000; background-color: #e7cb94\">          </span><span style=\"color: #ffffff; text-decoration-color: #ffffff; background-color: #6b6ecf\">          </span><span style=\"color: #ffffff; text-decoration-color: #ffffff; background-color: #a55194\">          </span><span style=\"color: #ffffff; text-decoration-color: #ffffff; background-color: #8c6d31\">          </span>\n",
       "<span style=\"color: #ffffff; text-decoration-color: #ffffff; background-color: #393b79\">          </span><span style=\"color: #ffffff; text-decoration-color: #ffffff; background-color: #d6616b\">          </span><span style=\"color: #ffffff; text-decoration-color: #ffffff; background-color: #8ca252\">          </span><span style=\"color: #ffffff; text-decoration-color: #ffffff; background-color: #de9ed6\">          </span><span style=\"color: #000000; text-decoration-color: #000000; background-color: #e7cb94\">          </span><span style=\"color: #ffffff; text-decoration-color: #ffffff; background-color: #6b6ecf\">          </span><span style=\"color: #ffffff; text-decoration-color: #ffffff; background-color: #a55194\">          </span><span style=\"color: #ffffff; text-decoration-color: #ffffff; background-color: #8c6d31\">          </span>\n",
       "<span style=\"color: #ffffff; text-decoration-color: #ffffff; background-color: #393b79\">          </span><span style=\"color: #ffffff; text-decoration-color: #ffffff; background-color: #d6616b\">          </span><span style=\"color: #ffffff; text-decoration-color: #ffffff; background-color: #8ca252\">          </span><span style=\"color: #ffffff; text-decoration-color: #ffffff; background-color: #de9ed6\">          </span><span style=\"color: #000000; text-decoration-color: #000000; background-color: #e7cb94\">          </span><span style=\"color: #ffffff; text-decoration-color: #ffffff; background-color: #6b6ecf\">          </span><span style=\"color: #ffffff; text-decoration-color: #ffffff; background-color: #a55194\">          </span><span style=\"color: #ffffff; text-decoration-color: #ffffff; background-color: #8c6d31\">          </span>\n",
       "<span style=\"color: #ffffff; text-decoration-color: #ffffff; background-color: #393b79\">          </span><span style=\"color: #ffffff; text-decoration-color: #ffffff; background-color: #d6616b\">          </span><span style=\"color: #ffffff; text-decoration-color: #ffffff; background-color: #8ca252\">          </span><span style=\"color: #ffffff; text-decoration-color: #ffffff; background-color: #de9ed6\">          </span><span style=\"color: #000000; text-decoration-color: #000000; background-color: #e7cb94\">          </span><span style=\"color: #ffffff; text-decoration-color: #ffffff; background-color: #6b6ecf\">          </span><span style=\"color: #ffffff; text-decoration-color: #ffffff; background-color: #a55194\">          </span><span style=\"color: #ffffff; text-decoration-color: #ffffff; background-color: #8c6d31\">          </span>\n",
       "<span style=\"color: #ffffff; text-decoration-color: #ffffff; background-color: #393b79\">          </span><span style=\"color: #ffffff; text-decoration-color: #ffffff; background-color: #d6616b\">          </span><span style=\"color: #ffffff; text-decoration-color: #ffffff; background-color: #8ca252\">          </span><span style=\"color: #ffffff; text-decoration-color: #ffffff; background-color: #de9ed6\">          </span><span style=\"color: #000000; text-decoration-color: #000000; background-color: #e7cb94\">          </span><span style=\"color: #ffffff; text-decoration-color: #ffffff; background-color: #6b6ecf\">          </span><span style=\"color: #ffffff; text-decoration-color: #ffffff; background-color: #a55194\">          </span><span style=\"color: #ffffff; text-decoration-color: #ffffff; background-color: #8c6d31\">          </span>\n",
       "<span style=\"color: #ffffff; text-decoration-color: #ffffff; background-color: #393b79\">          </span><span style=\"color: #ffffff; text-decoration-color: #ffffff; background-color: #d6616b\">          </span><span style=\"color: #ffffff; text-decoration-color: #ffffff; background-color: #8ca252\">          </span><span style=\"color: #ffffff; text-decoration-color: #ffffff; background-color: #de9ed6\">          </span><span style=\"color: #000000; text-decoration-color: #000000; background-color: #e7cb94\">          </span><span style=\"color: #ffffff; text-decoration-color: #ffffff; background-color: #6b6ecf\">          </span><span style=\"color: #ffffff; text-decoration-color: #ffffff; background-color: #a55194\">          </span><span style=\"color: #ffffff; text-decoration-color: #ffffff; background-color: #8c6d31\">          </span>\n",
       "<span style=\"color: #ffffff; text-decoration-color: #ffffff; background-color: #393b79\">          </span><span style=\"color: #ffffff; text-decoration-color: #ffffff; background-color: #d6616b\">          </span><span style=\"color: #ffffff; text-decoration-color: #ffffff; background-color: #8ca252\">          </span><span style=\"color: #ffffff; text-decoration-color: #ffffff; background-color: #de9ed6\">          </span><span style=\"color: #000000; text-decoration-color: #000000; background-color: #e7cb94\">          </span><span style=\"color: #ffffff; text-decoration-color: #ffffff; background-color: #6b6ecf\">          </span><span style=\"color: #ffffff; text-decoration-color: #ffffff; background-color: #a55194\">          </span><span style=\"color: #ffffff; text-decoration-color: #ffffff; background-color: #8c6d31\">          </span>\n",
       "<span style=\"color: #ffffff; text-decoration-color: #ffffff; background-color: #393b79\">          </span><span style=\"color: #ffffff; text-decoration-color: #ffffff; background-color: #d6616b\">          </span><span style=\"color: #ffffff; text-decoration-color: #ffffff; background-color: #8ca252\">          </span><span style=\"color: #ffffff; text-decoration-color: #ffffff; background-color: #de9ed6\">          </span><span style=\"color: #000000; text-decoration-color: #000000; background-color: #e7cb94\">          </span><span style=\"color: #ffffff; text-decoration-color: #ffffff; background-color: #6b6ecf\">          </span><span style=\"color: #ffffff; text-decoration-color: #ffffff; background-color: #a55194\">          </span><span style=\"color: #ffffff; text-decoration-color: #ffffff; background-color: #8c6d31\">          </span>\n",
       "<span style=\"color: #ffffff; text-decoration-color: #ffffff; background-color: #393b79\">          </span><span style=\"color: #ffffff; text-decoration-color: #ffffff; background-color: #d6616b\">          </span><span style=\"color: #ffffff; text-decoration-color: #ffffff; background-color: #8ca252\">          </span><span style=\"color: #ffffff; text-decoration-color: #ffffff; background-color: #de9ed6\">          </span><span style=\"color: #000000; text-decoration-color: #000000; background-color: #e7cb94\">          </span><span style=\"color: #ffffff; text-decoration-color: #ffffff; background-color: #6b6ecf\">          </span><span style=\"color: #ffffff; text-decoration-color: #ffffff; background-color: #a55194\">          </span><span style=\"color: #ffffff; text-decoration-color: #ffffff; background-color: #8c6d31\">          </span>\n",
       "</pre>\n"
      ],
      "text/plain": [
       "\u001b[38;2;255;255;255;48;2;57;59;121m          \u001b[0m\u001b[38;2;255;255;255;48;2;214;97;107m          \u001b[0m\u001b[38;2;255;255;255;48;2;140;162;82m          \u001b[0m\u001b[38;2;255;255;255;48;2;222;158;214m          \u001b[0m\u001b[38;2;0;0;0;48;2;231;203;148m          \u001b[0m\u001b[38;2;255;255;255;48;2;107;110;207m          \u001b[0m\u001b[38;2;255;255;255;48;2;165;81;148m          \u001b[0m\u001b[38;2;255;255;255;48;2;140;109;49m          \u001b[0m\n",
       "\u001b[38;2;255;255;255;48;2;57;59;121m          \u001b[0m\u001b[38;2;255;255;255;48;2;214;97;107m          \u001b[0m\u001b[38;2;255;255;255;48;2;140;162;82m          \u001b[0m\u001b[38;2;255;255;255;48;2;222;158;214m          \u001b[0m\u001b[38;2;0;0;0;48;2;231;203;148m          \u001b[0m\u001b[38;2;255;255;255;48;2;107;110;207m          \u001b[0m\u001b[38;2;255;255;255;48;2;165;81;148m          \u001b[0m\u001b[38;2;255;255;255;48;2;140;109;49m          \u001b[0m\n",
       "\u001b[38;2;255;255;255;48;2;57;59;121m          \u001b[0m\u001b[38;2;255;255;255;48;2;214;97;107m          \u001b[0m\u001b[38;2;255;255;255;48;2;140;162;82m          \u001b[0m\u001b[38;2;255;255;255;48;2;222;158;214m          \u001b[0m\u001b[38;2;0;0;0;48;2;231;203;148m          \u001b[0m\u001b[38;2;255;255;255;48;2;107;110;207m          \u001b[0m\u001b[38;2;255;255;255;48;2;165;81;148m          \u001b[0m\u001b[38;2;255;255;255;48;2;140;109;49m          \u001b[0m\n",
       "\u001b[38;2;255;255;255;48;2;57;59;121m          \u001b[0m\u001b[38;2;255;255;255;48;2;214;97;107m          \u001b[0m\u001b[38;2;255;255;255;48;2;140;162;82m          \u001b[0m\u001b[38;2;255;255;255;48;2;222;158;214m          \u001b[0m\u001b[38;2;0;0;0;48;2;231;203;148m          \u001b[0m\u001b[38;2;255;255;255;48;2;107;110;207m          \u001b[0m\u001b[38;2;255;255;255;48;2;165;81;148m          \u001b[0m\u001b[38;2;255;255;255;48;2;140;109;49m          \u001b[0m\n",
       "\u001b[38;2;255;255;255;48;2;57;59;121m          \u001b[0m\u001b[38;2;255;255;255;48;2;214;97;107m          \u001b[0m\u001b[38;2;255;255;255;48;2;140;162;82m          \u001b[0m\u001b[38;2;255;255;255;48;2;222;158;214m          \u001b[0m\u001b[38;2;0;0;0;48;2;231;203;148m          \u001b[0m\u001b[38;2;255;255;255;48;2;107;110;207m          \u001b[0m\u001b[38;2;255;255;255;48;2;165;81;148m          \u001b[0m\u001b[38;2;255;255;255;48;2;140;109;49m          \u001b[0m\n",
       "\u001b[38;2;255;255;255;48;2;57;59;121m          \u001b[0m\u001b[38;2;255;255;255;48;2;214;97;107m          \u001b[0m\u001b[38;2;255;255;255;48;2;140;162;82m          \u001b[0m\u001b[38;2;255;255;255;48;2;222;158;214m          \u001b[0m\u001b[38;2;0;0;0;48;2;231;203;148m          \u001b[0m\u001b[38;2;255;255;255;48;2;107;110;207m          \u001b[0m\u001b[38;2;255;255;255;48;2;165;81;148m          \u001b[0m\u001b[38;2;255;255;255;48;2;140;109;49m          \u001b[0m\n",
       "\u001b[38;2;255;255;255;48;2;57;59;121m          \u001b[0m\u001b[38;2;255;255;255;48;2;214;97;107m          \u001b[0m\u001b[38;2;255;255;255;48;2;140;162;82m          \u001b[0m\u001b[38;2;255;255;255;48;2;222;158;214m          \u001b[0m\u001b[38;2;0;0;0;48;2;231;203;148m          \u001b[0m\u001b[38;2;255;255;255;48;2;107;110;207m          \u001b[0m\u001b[38;2;255;255;255;48;2;165;81;148m          \u001b[0m\u001b[38;2;255;255;255;48;2;140;109;49m          \u001b[0m\n",
       "\u001b[38;2;255;255;255;48;2;57;59;121m          \u001b[0m\u001b[38;2;255;255;255;48;2;214;97;107m          \u001b[0m\u001b[38;2;255;255;255;48;2;140;162;82m          \u001b[0m\u001b[38;2;255;255;255;48;2;222;158;214m          \u001b[0m\u001b[38;2;0;0;0;48;2;231;203;148m          \u001b[0m\u001b[38;2;255;255;255;48;2;107;110;207m          \u001b[0m\u001b[38;2;255;255;255;48;2;165;81;148m          \u001b[0m\u001b[38;2;255;255;255;48;2;140;109;49m          \u001b[0m\n",
       "\u001b[38;2;255;255;255;48;2;57;59;121m          \u001b[0m\u001b[38;2;255;255;255;48;2;214;97;107m          \u001b[0m\u001b[38;2;255;255;255;48;2;140;162;82m          \u001b[0m\u001b[38;2;255;255;255;48;2;222;158;214m          \u001b[0m\u001b[38;2;0;0;0;48;2;231;203;148m          \u001b[0m\u001b[38;2;255;255;255;48;2;107;110;207m          \u001b[0m\u001b[38;2;255;255;255;48;2;165;81;148m          \u001b[0m\u001b[38;2;255;255;255;48;2;140;109;49m          \u001b[0m\n",
       "\u001b[38;2;255;255;255;48;2;57;59;121m          \u001b[0m\u001b[38;2;255;255;255;48;2;214;97;107m          \u001b[0m\u001b[38;2;255;255;255;48;2;140;162;82m          \u001b[0m\u001b[38;2;255;255;255;48;2;222;158;214m          \u001b[0m\u001b[38;2;0;0;0;48;2;231;203;148m          \u001b[0m\u001b[38;2;255;255;255;48;2;107;110;207m          \u001b[0m\u001b[38;2;255;255;255;48;2;165;81;148m          \u001b[0m\u001b[38;2;255;255;255;48;2;140;109;49m          \u001b[0m\n"
      ]
     },
     "metadata": {},
     "output_type": "display_data"
    },
    {
     "data": {
      "text/html": [
       "<pre style=\"white-space:pre;overflow-x:auto;line-height:normal;font-family:Menlo,'DejaVu Sans Mono',consolas,'Courier New',monospace\"><span style=\"color: #ffffff; text-decoration-color: #ffffff; background-color: #393b79\">CPU 0,1,2,3,4,5,6,7</span>\n",
       "<span style=\"color: #ffffff; text-decoration-color: #ffffff; background-color: #393b79\">                   </span>\n",
       "</pre>\n"
      ],
      "text/plain": [
       "\u001b[38;2;255;255;255;48;2;57;59;121mCPU 0,1,2,3,4,5,6,7\u001b[0m\n",
       "\u001b[38;2;255;255;255;48;2;57;59;121m                   \u001b[0m\n"
      ]
     },
     "metadata": {},
     "output_type": "display_data"
    },
    {
     "data": {
      "text/html": [
       "<pre style=\"white-space:pre;overflow-x:auto;line-height:normal;font-family:Menlo,'DejaVu Sans Mono',consolas,'Courier New',monospace\"><span style=\"color: #ffffff; text-decoration-color: #ffffff; background-color: #393b79\">          </span><span style=\"color: #ffffff; text-decoration-color: #ffffff; background-color: #d6616b\">          </span><span style=\"color: #ffffff; text-decoration-color: #ffffff; background-color: #8ca252\">          </span><span style=\"color: #ffffff; text-decoration-color: #ffffff; background-color: #de9ed6\">          </span><span style=\"color: #000000; text-decoration-color: #000000; background-color: #e7cb94\">          </span><span style=\"color: #ffffff; text-decoration-color: #ffffff; background-color: #6b6ecf\">          </span><span style=\"color: #ffffff; text-decoration-color: #ffffff; background-color: #a55194\">          </span><span style=\"color: #ffffff; text-decoration-color: #ffffff; background-color: #8c6d31\">          </span>\n",
       "<span style=\"color: #ffffff; text-decoration-color: #ffffff; background-color: #393b79\">          </span><span style=\"color: #ffffff; text-decoration-color: #ffffff; background-color: #d6616b\">          </span><span style=\"color: #ffffff; text-decoration-color: #ffffff; background-color: #8ca252\">          </span><span style=\"color: #ffffff; text-decoration-color: #ffffff; background-color: #de9ed6\">          </span><span style=\"color: #000000; text-decoration-color: #000000; background-color: #e7cb94\">          </span><span style=\"color: #ffffff; text-decoration-color: #ffffff; background-color: #6b6ecf\">          </span><span style=\"color: #ffffff; text-decoration-color: #ffffff; background-color: #a55194\">          </span><span style=\"color: #ffffff; text-decoration-color: #ffffff; background-color: #8c6d31\">          </span>\n",
       "<span style=\"color: #ffffff; text-decoration-color: #ffffff; background-color: #393b79\">          </span><span style=\"color: #ffffff; text-decoration-color: #ffffff; background-color: #d6616b\">          </span><span style=\"color: #ffffff; text-decoration-color: #ffffff; background-color: #8ca252\">          </span><span style=\"color: #ffffff; text-decoration-color: #ffffff; background-color: #de9ed6\">          </span><span style=\"color: #000000; text-decoration-color: #000000; background-color: #e7cb94\">          </span><span style=\"color: #ffffff; text-decoration-color: #ffffff; background-color: #6b6ecf\">          </span><span style=\"color: #ffffff; text-decoration-color: #ffffff; background-color: #a55194\">          </span><span style=\"color: #ffffff; text-decoration-color: #ffffff; background-color: #8c6d31\">          </span>\n",
       "<span style=\"color: #ffffff; text-decoration-color: #ffffff; background-color: #393b79\">          </span><span style=\"color: #ffffff; text-decoration-color: #ffffff; background-color: #d6616b\">          </span><span style=\"color: #ffffff; text-decoration-color: #ffffff; background-color: #8ca252\">          </span><span style=\"color: #ffffff; text-decoration-color: #ffffff; background-color: #de9ed6\">          </span><span style=\"color: #000000; text-decoration-color: #000000; background-color: #e7cb94\">          </span><span style=\"color: #ffffff; text-decoration-color: #ffffff; background-color: #6b6ecf\">          </span><span style=\"color: #ffffff; text-decoration-color: #ffffff; background-color: #a55194\">          </span><span style=\"color: #ffffff; text-decoration-color: #ffffff; background-color: #8c6d31\">          </span>\n",
       "<span style=\"color: #ffffff; text-decoration-color: #ffffff; background-color: #393b79\">          </span><span style=\"color: #ffffff; text-decoration-color: #ffffff; background-color: #d6616b\">          </span><span style=\"color: #ffffff; text-decoration-color: #ffffff; background-color: #8ca252\">          </span><span style=\"color: #ffffff; text-decoration-color: #ffffff; background-color: #de9ed6\">          </span><span style=\"color: #000000; text-decoration-color: #000000; background-color: #e7cb94\">          </span><span style=\"color: #ffffff; text-decoration-color: #ffffff; background-color: #6b6ecf\">          </span><span style=\"color: #ffffff; text-decoration-color: #ffffff; background-color: #a55194\">          </span><span style=\"color: #ffffff; text-decoration-color: #ffffff; background-color: #8c6d31\">          </span>\n",
       "<span style=\"color: #ffffff; text-decoration-color: #ffffff; background-color: #393b79\">          </span><span style=\"color: #ffffff; text-decoration-color: #ffffff; background-color: #d6616b\">          </span><span style=\"color: #ffffff; text-decoration-color: #ffffff; background-color: #8ca252\">          </span><span style=\"color: #ffffff; text-decoration-color: #ffffff; background-color: #de9ed6\">          </span><span style=\"color: #000000; text-decoration-color: #000000; background-color: #e7cb94\">          </span><span style=\"color: #ffffff; text-decoration-color: #ffffff; background-color: #6b6ecf\">          </span><span style=\"color: #ffffff; text-decoration-color: #ffffff; background-color: #a55194\">          </span><span style=\"color: #ffffff; text-decoration-color: #ffffff; background-color: #8c6d31\">          </span>\n",
       "<span style=\"color: #ffffff; text-decoration-color: #ffffff; background-color: #393b79\">          </span><span style=\"color: #ffffff; text-decoration-color: #ffffff; background-color: #d6616b\">          </span><span style=\"color: #ffffff; text-decoration-color: #ffffff; background-color: #8ca252\">          </span><span style=\"color: #ffffff; text-decoration-color: #ffffff; background-color: #de9ed6\">          </span><span style=\"color: #000000; text-decoration-color: #000000; background-color: #e7cb94\">          </span><span style=\"color: #ffffff; text-decoration-color: #ffffff; background-color: #6b6ecf\">          </span><span style=\"color: #ffffff; text-decoration-color: #ffffff; background-color: #a55194\">          </span><span style=\"color: #ffffff; text-decoration-color: #ffffff; background-color: #8c6d31\">          </span>\n",
       "<span style=\"color: #ffffff; text-decoration-color: #ffffff; background-color: #393b79\">          </span><span style=\"color: #ffffff; text-decoration-color: #ffffff; background-color: #d6616b\">          </span><span style=\"color: #ffffff; text-decoration-color: #ffffff; background-color: #8ca252\">          </span><span style=\"color: #ffffff; text-decoration-color: #ffffff; background-color: #de9ed6\">          </span><span style=\"color: #000000; text-decoration-color: #000000; background-color: #e7cb94\">          </span><span style=\"color: #ffffff; text-decoration-color: #ffffff; background-color: #6b6ecf\">          </span><span style=\"color: #ffffff; text-decoration-color: #ffffff; background-color: #a55194\">          </span><span style=\"color: #ffffff; text-decoration-color: #ffffff; background-color: #8c6d31\">          </span>\n",
       "<span style=\"color: #ffffff; text-decoration-color: #ffffff; background-color: #393b79\">          </span><span style=\"color: #ffffff; text-decoration-color: #ffffff; background-color: #d6616b\">          </span><span style=\"color: #ffffff; text-decoration-color: #ffffff; background-color: #8ca252\">          </span><span style=\"color: #ffffff; text-decoration-color: #ffffff; background-color: #de9ed6\">          </span><span style=\"color: #000000; text-decoration-color: #000000; background-color: #e7cb94\">          </span><span style=\"color: #ffffff; text-decoration-color: #ffffff; background-color: #6b6ecf\">          </span><span style=\"color: #ffffff; text-decoration-color: #ffffff; background-color: #a55194\">          </span><span style=\"color: #ffffff; text-decoration-color: #ffffff; background-color: #8c6d31\">          </span>\n",
       "<span style=\"color: #ffffff; text-decoration-color: #ffffff; background-color: #393b79\">          </span><span style=\"color: #ffffff; text-decoration-color: #ffffff; background-color: #d6616b\">          </span><span style=\"color: #ffffff; text-decoration-color: #ffffff; background-color: #8ca252\">          </span><span style=\"color: #ffffff; text-decoration-color: #ffffff; background-color: #de9ed6\">          </span><span style=\"color: #000000; text-decoration-color: #000000; background-color: #e7cb94\">          </span><span style=\"color: #ffffff; text-decoration-color: #ffffff; background-color: #6b6ecf\">          </span><span style=\"color: #ffffff; text-decoration-color: #ffffff; background-color: #a55194\">          </span><span style=\"color: #ffffff; text-decoration-color: #ffffff; background-color: #8c6d31\">          </span>\n",
       "</pre>\n"
      ],
      "text/plain": [
       "\u001b[38;2;255;255;255;48;2;57;59;121m          \u001b[0m\u001b[38;2;255;255;255;48;2;214;97;107m          \u001b[0m\u001b[38;2;255;255;255;48;2;140;162;82m          \u001b[0m\u001b[38;2;255;255;255;48;2;222;158;214m          \u001b[0m\u001b[38;2;0;0;0;48;2;231;203;148m          \u001b[0m\u001b[38;2;255;255;255;48;2;107;110;207m          \u001b[0m\u001b[38;2;255;255;255;48;2;165;81;148m          \u001b[0m\u001b[38;2;255;255;255;48;2;140;109;49m          \u001b[0m\n",
       "\u001b[38;2;255;255;255;48;2;57;59;121m          \u001b[0m\u001b[38;2;255;255;255;48;2;214;97;107m          \u001b[0m\u001b[38;2;255;255;255;48;2;140;162;82m          \u001b[0m\u001b[38;2;255;255;255;48;2;222;158;214m          \u001b[0m\u001b[38;2;0;0;0;48;2;231;203;148m          \u001b[0m\u001b[38;2;255;255;255;48;2;107;110;207m          \u001b[0m\u001b[38;2;255;255;255;48;2;165;81;148m          \u001b[0m\u001b[38;2;255;255;255;48;2;140;109;49m          \u001b[0m\n",
       "\u001b[38;2;255;255;255;48;2;57;59;121m          \u001b[0m\u001b[38;2;255;255;255;48;2;214;97;107m          \u001b[0m\u001b[38;2;255;255;255;48;2;140;162;82m          \u001b[0m\u001b[38;2;255;255;255;48;2;222;158;214m          \u001b[0m\u001b[38;2;0;0;0;48;2;231;203;148m          \u001b[0m\u001b[38;2;255;255;255;48;2;107;110;207m          \u001b[0m\u001b[38;2;255;255;255;48;2;165;81;148m          \u001b[0m\u001b[38;2;255;255;255;48;2;140;109;49m          \u001b[0m\n",
       "\u001b[38;2;255;255;255;48;2;57;59;121m          \u001b[0m\u001b[38;2;255;255;255;48;2;214;97;107m          \u001b[0m\u001b[38;2;255;255;255;48;2;140;162;82m          \u001b[0m\u001b[38;2;255;255;255;48;2;222;158;214m          \u001b[0m\u001b[38;2;0;0;0;48;2;231;203;148m          \u001b[0m\u001b[38;2;255;255;255;48;2;107;110;207m          \u001b[0m\u001b[38;2;255;255;255;48;2;165;81;148m          \u001b[0m\u001b[38;2;255;255;255;48;2;140;109;49m          \u001b[0m\n",
       "\u001b[38;2;255;255;255;48;2;57;59;121m          \u001b[0m\u001b[38;2;255;255;255;48;2;214;97;107m          \u001b[0m\u001b[38;2;255;255;255;48;2;140;162;82m          \u001b[0m\u001b[38;2;255;255;255;48;2;222;158;214m          \u001b[0m\u001b[38;2;0;0;0;48;2;231;203;148m          \u001b[0m\u001b[38;2;255;255;255;48;2;107;110;207m          \u001b[0m\u001b[38;2;255;255;255;48;2;165;81;148m          \u001b[0m\u001b[38;2;255;255;255;48;2;140;109;49m          \u001b[0m\n",
       "\u001b[38;2;255;255;255;48;2;57;59;121m          \u001b[0m\u001b[38;2;255;255;255;48;2;214;97;107m          \u001b[0m\u001b[38;2;255;255;255;48;2;140;162;82m          \u001b[0m\u001b[38;2;255;255;255;48;2;222;158;214m          \u001b[0m\u001b[38;2;0;0;0;48;2;231;203;148m          \u001b[0m\u001b[38;2;255;255;255;48;2;107;110;207m          \u001b[0m\u001b[38;2;255;255;255;48;2;165;81;148m          \u001b[0m\u001b[38;2;255;255;255;48;2;140;109;49m          \u001b[0m\n",
       "\u001b[38;2;255;255;255;48;2;57;59;121m          \u001b[0m\u001b[38;2;255;255;255;48;2;214;97;107m          \u001b[0m\u001b[38;2;255;255;255;48;2;140;162;82m          \u001b[0m\u001b[38;2;255;255;255;48;2;222;158;214m          \u001b[0m\u001b[38;2;0;0;0;48;2;231;203;148m          \u001b[0m\u001b[38;2;255;255;255;48;2;107;110;207m          \u001b[0m\u001b[38;2;255;255;255;48;2;165;81;148m          \u001b[0m\u001b[38;2;255;255;255;48;2;140;109;49m          \u001b[0m\n",
       "\u001b[38;2;255;255;255;48;2;57;59;121m          \u001b[0m\u001b[38;2;255;255;255;48;2;214;97;107m          \u001b[0m\u001b[38;2;255;255;255;48;2;140;162;82m          \u001b[0m\u001b[38;2;255;255;255;48;2;222;158;214m          \u001b[0m\u001b[38;2;0;0;0;48;2;231;203;148m          \u001b[0m\u001b[38;2;255;255;255;48;2;107;110;207m          \u001b[0m\u001b[38;2;255;255;255;48;2;165;81;148m          \u001b[0m\u001b[38;2;255;255;255;48;2;140;109;49m          \u001b[0m\n",
       "\u001b[38;2;255;255;255;48;2;57;59;121m          \u001b[0m\u001b[38;2;255;255;255;48;2;214;97;107m          \u001b[0m\u001b[38;2;255;255;255;48;2;140;162;82m          \u001b[0m\u001b[38;2;255;255;255;48;2;222;158;214m          \u001b[0m\u001b[38;2;0;0;0;48;2;231;203;148m          \u001b[0m\u001b[38;2;255;255;255;48;2;107;110;207m          \u001b[0m\u001b[38;2;255;255;255;48;2;165;81;148m          \u001b[0m\u001b[38;2;255;255;255;48;2;140;109;49m          \u001b[0m\n",
       "\u001b[38;2;255;255;255;48;2;57;59;121m          \u001b[0m\u001b[38;2;255;255;255;48;2;214;97;107m          \u001b[0m\u001b[38;2;255;255;255;48;2;140;162;82m          \u001b[0m\u001b[38;2;255;255;255;48;2;222;158;214m          \u001b[0m\u001b[38;2;0;0;0;48;2;231;203;148m          \u001b[0m\u001b[38;2;255;255;255;48;2;107;110;207m          \u001b[0m\u001b[38;2;255;255;255;48;2;165;81;148m          \u001b[0m\u001b[38;2;255;255;255;48;2;140;109;49m          \u001b[0m\n"
      ]
     },
     "metadata": {},
     "output_type": "display_data"
    },
    {
     "data": {
      "text/html": [
       "<pre style=\"white-space:pre;overflow-x:auto;line-height:normal;font-family:Menlo,'DejaVu Sans Mono',consolas,'Courier New',monospace\"><span style=\"color: #ffffff; text-decoration-color: #ffffff; background-color: #393b79\">CPU 0,1,2,3,4,5,6,7</span>\n",
       "<span style=\"color: #ffffff; text-decoration-color: #ffffff; background-color: #393b79\">                   </span>\n",
       "</pre>\n"
      ],
      "text/plain": [
       "\u001b[38;2;255;255;255;48;2;57;59;121mCPU 0,1,2,3,4,5,6,7\u001b[0m\n",
       "\u001b[38;2;255;255;255;48;2;57;59;121m                   \u001b[0m\n"
      ]
     },
     "metadata": {},
     "output_type": "display_data"
    },
    {
     "data": {
      "text/html": [
       "<pre style=\"white-space:pre;overflow-x:auto;line-height:normal;font-family:Menlo,'DejaVu Sans Mono',consolas,'Courier New',monospace\"><span style=\"color: #ffffff; text-decoration-color: #ffffff; background-color: #393b79\">         </span><span style=\"color: #ffffff; text-decoration-color: #ffffff; background-color: #d6616b\">         </span><span style=\"color: #ffffff; text-decoration-color: #ffffff; background-color: #8ca252\">         </span><span style=\"color: #ffffff; text-decoration-color: #ffffff; background-color: #de9ed6\">         </span><span style=\"color: #000000; text-decoration-color: #000000; background-color: #e7cb94\">         </span><span style=\"color: #ffffff; text-decoration-color: #ffffff; background-color: #6b6ecf\">         </span><span style=\"color: #ffffff; text-decoration-color: #ffffff; background-color: #a55194\">         </span><span style=\"color: #ffffff; text-decoration-color: #ffffff; background-color: #8c6d31\">         </span>\n",
       "<span style=\"color: #ffffff; text-decoration-color: #ffffff; background-color: #393b79\">         </span><span style=\"color: #ffffff; text-decoration-color: #ffffff; background-color: #d6616b\">         </span><span style=\"color: #ffffff; text-decoration-color: #ffffff; background-color: #8ca252\">         </span><span style=\"color: #ffffff; text-decoration-color: #ffffff; background-color: #de9ed6\">         </span><span style=\"color: #000000; text-decoration-color: #000000; background-color: #e7cb94\">         </span><span style=\"color: #ffffff; text-decoration-color: #ffffff; background-color: #6b6ecf\">         </span><span style=\"color: #ffffff; text-decoration-color: #ffffff; background-color: #a55194\">         </span><span style=\"color: #ffffff; text-decoration-color: #ffffff; background-color: #8c6d31\">         </span>\n",
       "<span style=\"color: #ffffff; text-decoration-color: #ffffff; background-color: #393b79\">         </span><span style=\"color: #ffffff; text-decoration-color: #ffffff; background-color: #d6616b\">         </span><span style=\"color: #ffffff; text-decoration-color: #ffffff; background-color: #8ca252\">         </span><span style=\"color: #ffffff; text-decoration-color: #ffffff; background-color: #de9ed6\">         </span><span style=\"color: #000000; text-decoration-color: #000000; background-color: #e7cb94\">         </span><span style=\"color: #ffffff; text-decoration-color: #ffffff; background-color: #6b6ecf\">         </span><span style=\"color: #ffffff; text-decoration-color: #ffffff; background-color: #a55194\">         </span><span style=\"color: #ffffff; text-decoration-color: #ffffff; background-color: #8c6d31\">         </span>\n",
       "<span style=\"color: #ffffff; text-decoration-color: #ffffff; background-color: #393b79\">         </span><span style=\"color: #ffffff; text-decoration-color: #ffffff; background-color: #d6616b\">         </span><span style=\"color: #ffffff; text-decoration-color: #ffffff; background-color: #8ca252\">         </span><span style=\"color: #ffffff; text-decoration-color: #ffffff; background-color: #de9ed6\">         </span><span style=\"color: #000000; text-decoration-color: #000000; background-color: #e7cb94\">         </span><span style=\"color: #ffffff; text-decoration-color: #ffffff; background-color: #6b6ecf\">         </span><span style=\"color: #ffffff; text-decoration-color: #ffffff; background-color: #a55194\">         </span><span style=\"color: #ffffff; text-decoration-color: #ffffff; background-color: #8c6d31\">         </span>\n",
       "<span style=\"color: #ffffff; text-decoration-color: #ffffff; background-color: #393b79\">         </span><span style=\"color: #ffffff; text-decoration-color: #ffffff; background-color: #d6616b\">         </span><span style=\"color: #ffffff; text-decoration-color: #ffffff; background-color: #8ca252\">         </span><span style=\"color: #ffffff; text-decoration-color: #ffffff; background-color: #de9ed6\">         </span><span style=\"color: #000000; text-decoration-color: #000000; background-color: #e7cb94\">         </span><span style=\"color: #ffffff; text-decoration-color: #ffffff; background-color: #6b6ecf\">         </span><span style=\"color: #ffffff; text-decoration-color: #ffffff; background-color: #a55194\">         </span><span style=\"color: #ffffff; text-decoration-color: #ffffff; background-color: #8c6d31\">         </span>\n",
       "<span style=\"color: #ffffff; text-decoration-color: #ffffff; background-color: #393b79\">  CPU 0  </span><span style=\"color: #ffffff; text-decoration-color: #ffffff; background-color: #d6616b\">  CPU 1  </span><span style=\"color: #ffffff; text-decoration-color: #ffffff; background-color: #8ca252\">  CPU 2  </span><span style=\"color: #ffffff; text-decoration-color: #ffffff; background-color: #de9ed6\">  CPU 3  </span><span style=\"color: #000000; text-decoration-color: #000000; background-color: #e7cb94\">  CPU 4  </span><span style=\"color: #ffffff; text-decoration-color: #ffffff; background-color: #6b6ecf\">  CPU 5  </span><span style=\"color: #ffffff; text-decoration-color: #ffffff; background-color: #a55194\">  CPU 6  </span><span style=\"color: #ffffff; text-decoration-color: #ffffff; background-color: #8c6d31\">  CPU 7  </span>\n",
       "<span style=\"color: #ffffff; text-decoration-color: #ffffff; background-color: #393b79\">         </span><span style=\"color: #ffffff; text-decoration-color: #ffffff; background-color: #d6616b\">         </span><span style=\"color: #ffffff; text-decoration-color: #ffffff; background-color: #8ca252\">         </span><span style=\"color: #ffffff; text-decoration-color: #ffffff; background-color: #de9ed6\">         </span><span style=\"color: #000000; text-decoration-color: #000000; background-color: #e7cb94\">         </span><span style=\"color: #ffffff; text-decoration-color: #ffffff; background-color: #6b6ecf\">         </span><span style=\"color: #ffffff; text-decoration-color: #ffffff; background-color: #a55194\">         </span><span style=\"color: #ffffff; text-decoration-color: #ffffff; background-color: #8c6d31\">         </span>\n",
       "<span style=\"color: #ffffff; text-decoration-color: #ffffff; background-color: #393b79\">         </span><span style=\"color: #ffffff; text-decoration-color: #ffffff; background-color: #d6616b\">         </span><span style=\"color: #ffffff; text-decoration-color: #ffffff; background-color: #8ca252\">         </span><span style=\"color: #ffffff; text-decoration-color: #ffffff; background-color: #de9ed6\">         </span><span style=\"color: #000000; text-decoration-color: #000000; background-color: #e7cb94\">         </span><span style=\"color: #ffffff; text-decoration-color: #ffffff; background-color: #6b6ecf\">         </span><span style=\"color: #ffffff; text-decoration-color: #ffffff; background-color: #a55194\">         </span><span style=\"color: #ffffff; text-decoration-color: #ffffff; background-color: #8c6d31\">         </span>\n",
       "<span style=\"color: #ffffff; text-decoration-color: #ffffff; background-color: #393b79\">         </span><span style=\"color: #ffffff; text-decoration-color: #ffffff; background-color: #d6616b\">         </span><span style=\"color: #ffffff; text-decoration-color: #ffffff; background-color: #8ca252\">         </span><span style=\"color: #ffffff; text-decoration-color: #ffffff; background-color: #de9ed6\">         </span><span style=\"color: #000000; text-decoration-color: #000000; background-color: #e7cb94\">         </span><span style=\"color: #ffffff; text-decoration-color: #ffffff; background-color: #6b6ecf\">         </span><span style=\"color: #ffffff; text-decoration-color: #ffffff; background-color: #a55194\">         </span><span style=\"color: #ffffff; text-decoration-color: #ffffff; background-color: #8c6d31\">         </span>\n",
       "<span style=\"color: #ffffff; text-decoration-color: #ffffff; background-color: #393b79\">         </span><span style=\"color: #ffffff; text-decoration-color: #ffffff; background-color: #d6616b\">         </span><span style=\"color: #ffffff; text-decoration-color: #ffffff; background-color: #8ca252\">         </span><span style=\"color: #ffffff; text-decoration-color: #ffffff; background-color: #de9ed6\">         </span><span style=\"color: #000000; text-decoration-color: #000000; background-color: #e7cb94\">         </span><span style=\"color: #ffffff; text-decoration-color: #ffffff; background-color: #6b6ecf\">         </span><span style=\"color: #ffffff; text-decoration-color: #ffffff; background-color: #a55194\">         </span><span style=\"color: #ffffff; text-decoration-color: #ffffff; background-color: #8c6d31\">         </span>\n",
       "<span style=\"color: #ffffff; text-decoration-color: #ffffff; background-color: #393b79\">         </span><span style=\"color: #ffffff; text-decoration-color: #ffffff; background-color: #d6616b\">         </span><span style=\"color: #ffffff; text-decoration-color: #ffffff; background-color: #8ca252\">         </span><span style=\"color: #ffffff; text-decoration-color: #ffffff; background-color: #de9ed6\">         </span><span style=\"color: #000000; text-decoration-color: #000000; background-color: #e7cb94\">         </span><span style=\"color: #ffffff; text-decoration-color: #ffffff; background-color: #6b6ecf\">         </span><span style=\"color: #ffffff; text-decoration-color: #ffffff; background-color: #a55194\">         </span><span style=\"color: #ffffff; text-decoration-color: #ffffff; background-color: #8c6d31\">         </span>\n",
       "</pre>\n"
      ],
      "text/plain": [
       "\u001b[38;2;255;255;255;48;2;57;59;121m         \u001b[0m\u001b[38;2;255;255;255;48;2;214;97;107m         \u001b[0m\u001b[38;2;255;255;255;48;2;140;162;82m         \u001b[0m\u001b[38;2;255;255;255;48;2;222;158;214m         \u001b[0m\u001b[38;2;0;0;0;48;2;231;203;148m         \u001b[0m\u001b[38;2;255;255;255;48;2;107;110;207m         \u001b[0m\u001b[38;2;255;255;255;48;2;165;81;148m         \u001b[0m\u001b[38;2;255;255;255;48;2;140;109;49m         \u001b[0m\n",
       "\u001b[38;2;255;255;255;48;2;57;59;121m         \u001b[0m\u001b[38;2;255;255;255;48;2;214;97;107m         \u001b[0m\u001b[38;2;255;255;255;48;2;140;162;82m         \u001b[0m\u001b[38;2;255;255;255;48;2;222;158;214m         \u001b[0m\u001b[38;2;0;0;0;48;2;231;203;148m         \u001b[0m\u001b[38;2;255;255;255;48;2;107;110;207m         \u001b[0m\u001b[38;2;255;255;255;48;2;165;81;148m         \u001b[0m\u001b[38;2;255;255;255;48;2;140;109;49m         \u001b[0m\n",
       "\u001b[38;2;255;255;255;48;2;57;59;121m         \u001b[0m\u001b[38;2;255;255;255;48;2;214;97;107m         \u001b[0m\u001b[38;2;255;255;255;48;2;140;162;82m         \u001b[0m\u001b[38;2;255;255;255;48;2;222;158;214m         \u001b[0m\u001b[38;2;0;0;0;48;2;231;203;148m         \u001b[0m\u001b[38;2;255;255;255;48;2;107;110;207m         \u001b[0m\u001b[38;2;255;255;255;48;2;165;81;148m         \u001b[0m\u001b[38;2;255;255;255;48;2;140;109;49m         \u001b[0m\n",
       "\u001b[38;2;255;255;255;48;2;57;59;121m         \u001b[0m\u001b[38;2;255;255;255;48;2;214;97;107m         \u001b[0m\u001b[38;2;255;255;255;48;2;140;162;82m         \u001b[0m\u001b[38;2;255;255;255;48;2;222;158;214m         \u001b[0m\u001b[38;2;0;0;0;48;2;231;203;148m         \u001b[0m\u001b[38;2;255;255;255;48;2;107;110;207m         \u001b[0m\u001b[38;2;255;255;255;48;2;165;81;148m         \u001b[0m\u001b[38;2;255;255;255;48;2;140;109;49m         \u001b[0m\n",
       "\u001b[38;2;255;255;255;48;2;57;59;121m         \u001b[0m\u001b[38;2;255;255;255;48;2;214;97;107m         \u001b[0m\u001b[38;2;255;255;255;48;2;140;162;82m         \u001b[0m\u001b[38;2;255;255;255;48;2;222;158;214m         \u001b[0m\u001b[38;2;0;0;0;48;2;231;203;148m         \u001b[0m\u001b[38;2;255;255;255;48;2;107;110;207m         \u001b[0m\u001b[38;2;255;255;255;48;2;165;81;148m         \u001b[0m\u001b[38;2;255;255;255;48;2;140;109;49m         \u001b[0m\n",
       "\u001b[38;2;255;255;255;48;2;57;59;121m  \u001b[0m\u001b[38;2;255;255;255;48;2;57;59;121mCPU 0\u001b[0m\u001b[38;2;255;255;255;48;2;57;59;121m  \u001b[0m\u001b[38;2;255;255;255;48;2;214;97;107m  \u001b[0m\u001b[38;2;255;255;255;48;2;214;97;107mCPU 1\u001b[0m\u001b[38;2;255;255;255;48;2;214;97;107m  \u001b[0m\u001b[38;2;255;255;255;48;2;140;162;82m  \u001b[0m\u001b[38;2;255;255;255;48;2;140;162;82mCPU 2\u001b[0m\u001b[38;2;255;255;255;48;2;140;162;82m  \u001b[0m\u001b[38;2;255;255;255;48;2;222;158;214m  \u001b[0m\u001b[38;2;255;255;255;48;2;222;158;214mCPU 3\u001b[0m\u001b[38;2;255;255;255;48;2;222;158;214m  \u001b[0m\u001b[38;2;0;0;0;48;2;231;203;148m  \u001b[0m\u001b[38;2;0;0;0;48;2;231;203;148mCPU 4\u001b[0m\u001b[38;2;0;0;0;48;2;231;203;148m  \u001b[0m\u001b[38;2;255;255;255;48;2;107;110;207m  \u001b[0m\u001b[38;2;255;255;255;48;2;107;110;207mCPU 5\u001b[0m\u001b[38;2;255;255;255;48;2;107;110;207m  \u001b[0m\u001b[38;2;255;255;255;48;2;165;81;148m  \u001b[0m\u001b[38;2;255;255;255;48;2;165;81;148mCPU 6\u001b[0m\u001b[38;2;255;255;255;48;2;165;81;148m  \u001b[0m\u001b[38;2;255;255;255;48;2;140;109;49m  \u001b[0m\u001b[38;2;255;255;255;48;2;140;109;49mCPU 7\u001b[0m\u001b[38;2;255;255;255;48;2;140;109;49m  \u001b[0m\n",
       "\u001b[38;2;255;255;255;48;2;57;59;121m         \u001b[0m\u001b[38;2;255;255;255;48;2;214;97;107m         \u001b[0m\u001b[38;2;255;255;255;48;2;140;162;82m         \u001b[0m\u001b[38;2;255;255;255;48;2;222;158;214m         \u001b[0m\u001b[38;2;0;0;0;48;2;231;203;148m         \u001b[0m\u001b[38;2;255;255;255;48;2;107;110;207m         \u001b[0m\u001b[38;2;255;255;255;48;2;165;81;148m         \u001b[0m\u001b[38;2;255;255;255;48;2;140;109;49m         \u001b[0m\n",
       "\u001b[38;2;255;255;255;48;2;57;59;121m         \u001b[0m\u001b[38;2;255;255;255;48;2;214;97;107m         \u001b[0m\u001b[38;2;255;255;255;48;2;140;162;82m         \u001b[0m\u001b[38;2;255;255;255;48;2;222;158;214m         \u001b[0m\u001b[38;2;0;0;0;48;2;231;203;148m         \u001b[0m\u001b[38;2;255;255;255;48;2;107;110;207m         \u001b[0m\u001b[38;2;255;255;255;48;2;165;81;148m         \u001b[0m\u001b[38;2;255;255;255;48;2;140;109;49m         \u001b[0m\n",
       "\u001b[38;2;255;255;255;48;2;57;59;121m         \u001b[0m\u001b[38;2;255;255;255;48;2;214;97;107m         \u001b[0m\u001b[38;2;255;255;255;48;2;140;162;82m         \u001b[0m\u001b[38;2;255;255;255;48;2;222;158;214m         \u001b[0m\u001b[38;2;0;0;0;48;2;231;203;148m         \u001b[0m\u001b[38;2;255;255;255;48;2;107;110;207m         \u001b[0m\u001b[38;2;255;255;255;48;2;165;81;148m         \u001b[0m\u001b[38;2;255;255;255;48;2;140;109;49m         \u001b[0m\n",
       "\u001b[38;2;255;255;255;48;2;57;59;121m         \u001b[0m\u001b[38;2;255;255;255;48;2;214;97;107m         \u001b[0m\u001b[38;2;255;255;255;48;2;140;162;82m         \u001b[0m\u001b[38;2;255;255;255;48;2;222;158;214m         \u001b[0m\u001b[38;2;0;0;0;48;2;231;203;148m         \u001b[0m\u001b[38;2;255;255;255;48;2;107;110;207m         \u001b[0m\u001b[38;2;255;255;255;48;2;165;81;148m         \u001b[0m\u001b[38;2;255;255;255;48;2;140;109;49m         \u001b[0m\n",
       "\u001b[38;2;255;255;255;48;2;57;59;121m         \u001b[0m\u001b[38;2;255;255;255;48;2;214;97;107m         \u001b[0m\u001b[38;2;255;255;255;48;2;140;162;82m         \u001b[0m\u001b[38;2;255;255;255;48;2;222;158;214m         \u001b[0m\u001b[38;2;0;0;0;48;2;231;203;148m         \u001b[0m\u001b[38;2;255;255;255;48;2;107;110;207m         \u001b[0m\u001b[38;2;255;255;255;48;2;165;81;148m         \u001b[0m\u001b[38;2;255;255;255;48;2;140;109;49m         \u001b[0m\n"
      ]
     },
     "metadata": {},
     "output_type": "display_data"
    },
    {
     "data": {
      "text/html": [
       "<pre style=\"white-space:pre;overflow-x:auto;line-height:normal;font-family:Menlo,'DejaVu Sans Mono',consolas,'Courier New',monospace\"><span style=\"color: #ffffff; text-decoration-color: #ffffff; background-color: #393b79\">CPU 0,1,2,3,4,5,6,7</span>\n",
       "<span style=\"color: #ffffff; text-decoration-color: #ffffff; background-color: #393b79\">                   </span>\n",
       "</pre>\n"
      ],
      "text/plain": [
       "\u001b[38;2;255;255;255;48;2;57;59;121mCPU 0,1,2,3,4,5,6,7\u001b[0m\n",
       "\u001b[38;2;255;255;255;48;2;57;59;121m                   \u001b[0m\n"
      ]
     },
     "metadata": {},
     "output_type": "display_data"
    },
    {
     "data": {
      "text/html": [
       "<pre style=\"white-space:pre;overflow-x:auto;line-height:normal;font-family:Menlo,'DejaVu Sans Mono',consolas,'Courier New',monospace\"><span style=\"color: #ffffff; text-decoration-color: #ffffff; background-color: #393b79\">CPU 0,1,2,3,4,5,6,7</span>\n",
       "<span style=\"color: #ffffff; text-decoration-color: #ffffff; background-color: #393b79\">                   </span>\n",
       "</pre>\n"
      ],
      "text/plain": [
       "\u001b[38;2;255;255;255;48;2;57;59;121mCPU 0,1,2,3,4,5,6,7\u001b[0m\n",
       "\u001b[38;2;255;255;255;48;2;57;59;121m                   \u001b[0m\n"
      ]
     },
     "metadata": {},
     "output_type": "display_data"
    },
    {
     "data": {
      "text/html": [
       "<pre style=\"white-space:pre;overflow-x:auto;line-height:normal;font-family:Menlo,'DejaVu Sans Mono',consolas,'Courier New',monospace\"><span style=\"color: #ffffff; text-decoration-color: #ffffff; background-color: #393b79\">CPU 0,1,2,3,4,5,6,7</span>\n",
       "<span style=\"color: #ffffff; text-decoration-color: #ffffff; background-color: #393b79\">                   </span>\n",
       "</pre>\n"
      ],
      "text/plain": [
       "\u001b[38;2;255;255;255;48;2;57;59;121mCPU 0,1,2,3,4,5,6,7\u001b[0m\n",
       "\u001b[38;2;255;255;255;48;2;57;59;121m                   \u001b[0m\n"
      ]
     },
     "metadata": {},
     "output_type": "display_data"
    },
    {
     "data": {
      "text/html": [
       "<pre style=\"white-space:pre;overflow-x:auto;line-height:normal;font-family:Menlo,'DejaVu Sans Mono',consolas,'Courier New',monospace\"><span style=\"color: #ffffff; text-decoration-color: #ffffff; background-color: #393b79\">CPU 0,1,2,3,4,5,6,7</span>\n",
       "<span style=\"color: #ffffff; text-decoration-color: #ffffff; background-color: #393b79\">                   </span>\n",
       "</pre>\n"
      ],
      "text/plain": [
       "\u001b[38;2;255;255;255;48;2;57;59;121mCPU 0,1,2,3,4,5,6,7\u001b[0m\n",
       "\u001b[38;2;255;255;255;48;2;57;59;121m                   \u001b[0m\n"
      ]
     },
     "metadata": {},
     "output_type": "display_data"
    },
    {
     "data": {
      "text/html": [
       "<pre style=\"white-space:pre;overflow-x:auto;line-height:normal;font-family:Menlo,'DejaVu Sans Mono',consolas,'Courier New',monospace\"><span style=\"color: #ffffff; text-decoration-color: #ffffff; background-color: #393b79\">CPU 0,1,2,3,4,5,6,7</span>\n",
       "<span style=\"color: #ffffff; text-decoration-color: #ffffff; background-color: #393b79\">                   </span>\n",
       "</pre>\n"
      ],
      "text/plain": [
       "\u001b[38;2;255;255;255;48;2;57;59;121mCPU 0,1,2,3,4,5,6,7\u001b[0m\n",
       "\u001b[38;2;255;255;255;48;2;57;59;121m                   \u001b[0m\n"
      ]
     },
     "metadata": {},
     "output_type": "display_data"
    },
    {
     "data": {
      "text/html": [
       "<pre style=\"white-space:pre;overflow-x:auto;line-height:normal;font-family:Menlo,'DejaVu Sans Mono',consolas,'Courier New',monospace\"><span style=\"color: #ffffff; text-decoration-color: #ffffff; background-color: #393b79\">          </span><span style=\"color: #ffffff; text-decoration-color: #ffffff; background-color: #d6616b\">          </span><span style=\"color: #ffffff; text-decoration-color: #ffffff; background-color: #8ca252\">          </span><span style=\"color: #ffffff; text-decoration-color: #ffffff; background-color: #de9ed6\">          </span><span style=\"color: #000000; text-decoration-color: #000000; background-color: #e7cb94\">          </span><span style=\"color: #ffffff; text-decoration-color: #ffffff; background-color: #6b6ecf\">          </span><span style=\"color: #ffffff; text-decoration-color: #ffffff; background-color: #a55194\">          </span><span style=\"color: #ffffff; text-decoration-color: #ffffff; background-color: #8c6d31\">          </span>\n",
       "<span style=\"color: #ffffff; text-decoration-color: #ffffff; background-color: #393b79\">          </span><span style=\"color: #ffffff; text-decoration-color: #ffffff; background-color: #d6616b\">          </span><span style=\"color: #ffffff; text-decoration-color: #ffffff; background-color: #8ca252\">          </span><span style=\"color: #ffffff; text-decoration-color: #ffffff; background-color: #de9ed6\">          </span><span style=\"color: #000000; text-decoration-color: #000000; background-color: #e7cb94\">          </span><span style=\"color: #ffffff; text-decoration-color: #ffffff; background-color: #6b6ecf\">          </span><span style=\"color: #ffffff; text-decoration-color: #ffffff; background-color: #a55194\">          </span><span style=\"color: #ffffff; text-decoration-color: #ffffff; background-color: #8c6d31\">          </span>\n",
       "<span style=\"color: #ffffff; text-decoration-color: #ffffff; background-color: #393b79\">          </span><span style=\"color: #ffffff; text-decoration-color: #ffffff; background-color: #d6616b\">          </span><span style=\"color: #ffffff; text-decoration-color: #ffffff; background-color: #8ca252\">          </span><span style=\"color: #ffffff; text-decoration-color: #ffffff; background-color: #de9ed6\">          </span><span style=\"color: #000000; text-decoration-color: #000000; background-color: #e7cb94\">          </span><span style=\"color: #ffffff; text-decoration-color: #ffffff; background-color: #6b6ecf\">          </span><span style=\"color: #ffffff; text-decoration-color: #ffffff; background-color: #a55194\">          </span><span style=\"color: #ffffff; text-decoration-color: #ffffff; background-color: #8c6d31\">          </span>\n",
       "<span style=\"color: #ffffff; text-decoration-color: #ffffff; background-color: #393b79\">          </span><span style=\"color: #ffffff; text-decoration-color: #ffffff; background-color: #d6616b\">          </span><span style=\"color: #ffffff; text-decoration-color: #ffffff; background-color: #8ca252\">          </span><span style=\"color: #ffffff; text-decoration-color: #ffffff; background-color: #de9ed6\">          </span><span style=\"color: #000000; text-decoration-color: #000000; background-color: #e7cb94\">          </span><span style=\"color: #ffffff; text-decoration-color: #ffffff; background-color: #6b6ecf\">          </span><span style=\"color: #ffffff; text-decoration-color: #ffffff; background-color: #a55194\">          </span><span style=\"color: #ffffff; text-decoration-color: #ffffff; background-color: #8c6d31\">          </span>\n",
       "<span style=\"color: #ffffff; text-decoration-color: #ffffff; background-color: #393b79\">          </span><span style=\"color: #ffffff; text-decoration-color: #ffffff; background-color: #d6616b\">          </span><span style=\"color: #ffffff; text-decoration-color: #ffffff; background-color: #8ca252\">          </span><span style=\"color: #ffffff; text-decoration-color: #ffffff; background-color: #de9ed6\">          </span><span style=\"color: #000000; text-decoration-color: #000000; background-color: #e7cb94\">          </span><span style=\"color: #ffffff; text-decoration-color: #ffffff; background-color: #6b6ecf\">          </span><span style=\"color: #ffffff; text-decoration-color: #ffffff; background-color: #a55194\">          </span><span style=\"color: #ffffff; text-decoration-color: #ffffff; background-color: #8c6d31\">          </span>\n",
       "<span style=\"color: #ffffff; text-decoration-color: #ffffff; background-color: #393b79\">   CPU    </span><span style=\"color: #ffffff; text-decoration-color: #ffffff; background-color: #d6616b\">   CPU    </span><span style=\"color: #ffffff; text-decoration-color: #ffffff; background-color: #8ca252\">   CPU    </span><span style=\"color: #ffffff; text-decoration-color: #ffffff; background-color: #de9ed6\">   CPU    </span><span style=\"color: #000000; text-decoration-color: #000000; background-color: #e7cb94\">   CPU    </span><span style=\"color: #ffffff; text-decoration-color: #ffffff; background-color: #6b6ecf\">   CPU    </span><span style=\"color: #ffffff; text-decoration-color: #ffffff; background-color: #a55194\">   CPU    </span><span style=\"color: #ffffff; text-decoration-color: #ffffff; background-color: #8c6d31\">   CPU    </span>\n",
       "<span style=\"color: #ffffff; text-decoration-color: #ffffff; background-color: #393b79\">   0      </span><span style=\"color: #ffffff; text-decoration-color: #ffffff; background-color: #d6616b\">   1      </span><span style=\"color: #ffffff; text-decoration-color: #ffffff; background-color: #8ca252\">   2      </span><span style=\"color: #ffffff; text-decoration-color: #ffffff; background-color: #de9ed6\">   3      </span><span style=\"color: #000000; text-decoration-color: #000000; background-color: #e7cb94\">   4      </span><span style=\"color: #ffffff; text-decoration-color: #ffffff; background-color: #6b6ecf\">   5      </span><span style=\"color: #ffffff; text-decoration-color: #ffffff; background-color: #a55194\">   6      </span><span style=\"color: #ffffff; text-decoration-color: #ffffff; background-color: #8c6d31\">   7      </span>\n",
       "<span style=\"color: #ffffff; text-decoration-color: #ffffff; background-color: #393b79\">          </span><span style=\"color: #ffffff; text-decoration-color: #ffffff; background-color: #d6616b\">          </span><span style=\"color: #ffffff; text-decoration-color: #ffffff; background-color: #8ca252\">          </span><span style=\"color: #ffffff; text-decoration-color: #ffffff; background-color: #de9ed6\">          </span><span style=\"color: #000000; text-decoration-color: #000000; background-color: #e7cb94\">          </span><span style=\"color: #ffffff; text-decoration-color: #ffffff; background-color: #6b6ecf\">          </span><span style=\"color: #ffffff; text-decoration-color: #ffffff; background-color: #a55194\">          </span><span style=\"color: #ffffff; text-decoration-color: #ffffff; background-color: #8c6d31\">          </span>\n",
       "<span style=\"color: #ffffff; text-decoration-color: #ffffff; background-color: #393b79\">          </span><span style=\"color: #ffffff; text-decoration-color: #ffffff; background-color: #d6616b\">          </span><span style=\"color: #ffffff; text-decoration-color: #ffffff; background-color: #8ca252\">          </span><span style=\"color: #ffffff; text-decoration-color: #ffffff; background-color: #de9ed6\">          </span><span style=\"color: #000000; text-decoration-color: #000000; background-color: #e7cb94\">          </span><span style=\"color: #ffffff; text-decoration-color: #ffffff; background-color: #6b6ecf\">          </span><span style=\"color: #ffffff; text-decoration-color: #ffffff; background-color: #a55194\">          </span><span style=\"color: #ffffff; text-decoration-color: #ffffff; background-color: #8c6d31\">          </span>\n",
       "<span style=\"color: #ffffff; text-decoration-color: #ffffff; background-color: #393b79\">          </span><span style=\"color: #ffffff; text-decoration-color: #ffffff; background-color: #d6616b\">          </span><span style=\"color: #ffffff; text-decoration-color: #ffffff; background-color: #8ca252\">          </span><span style=\"color: #ffffff; text-decoration-color: #ffffff; background-color: #de9ed6\">          </span><span style=\"color: #000000; text-decoration-color: #000000; background-color: #e7cb94\">          </span><span style=\"color: #ffffff; text-decoration-color: #ffffff; background-color: #6b6ecf\">          </span><span style=\"color: #ffffff; text-decoration-color: #ffffff; background-color: #a55194\">          </span><span style=\"color: #ffffff; text-decoration-color: #ffffff; background-color: #8c6d31\">          </span>\n",
       "<span style=\"color: #ffffff; text-decoration-color: #ffffff; background-color: #393b79\">          </span><span style=\"color: #ffffff; text-decoration-color: #ffffff; background-color: #d6616b\">          </span><span style=\"color: #ffffff; text-decoration-color: #ffffff; background-color: #8ca252\">          </span><span style=\"color: #ffffff; text-decoration-color: #ffffff; background-color: #de9ed6\">          </span><span style=\"color: #000000; text-decoration-color: #000000; background-color: #e7cb94\">          </span><span style=\"color: #ffffff; text-decoration-color: #ffffff; background-color: #6b6ecf\">          </span><span style=\"color: #ffffff; text-decoration-color: #ffffff; background-color: #a55194\">          </span><span style=\"color: #ffffff; text-decoration-color: #ffffff; background-color: #8c6d31\">          </span>\n",
       "<span style=\"color: #ffffff; text-decoration-color: #ffffff; background-color: #393b79\">          </span><span style=\"color: #ffffff; text-decoration-color: #ffffff; background-color: #d6616b\">          </span><span style=\"color: #ffffff; text-decoration-color: #ffffff; background-color: #8ca252\">          </span><span style=\"color: #ffffff; text-decoration-color: #ffffff; background-color: #de9ed6\">          </span><span style=\"color: #000000; text-decoration-color: #000000; background-color: #e7cb94\">          </span><span style=\"color: #ffffff; text-decoration-color: #ffffff; background-color: #6b6ecf\">          </span><span style=\"color: #ffffff; text-decoration-color: #ffffff; background-color: #a55194\">          </span><span style=\"color: #ffffff; text-decoration-color: #ffffff; background-color: #8c6d31\">          </span>\n",
       "</pre>\n"
      ],
      "text/plain": [
       "\u001b[38;2;255;255;255;48;2;57;59;121m          \u001b[0m\u001b[38;2;255;255;255;48;2;214;97;107m          \u001b[0m\u001b[38;2;255;255;255;48;2;140;162;82m          \u001b[0m\u001b[38;2;255;255;255;48;2;222;158;214m          \u001b[0m\u001b[38;2;0;0;0;48;2;231;203;148m          \u001b[0m\u001b[38;2;255;255;255;48;2;107;110;207m          \u001b[0m\u001b[38;2;255;255;255;48;2;165;81;148m          \u001b[0m\u001b[38;2;255;255;255;48;2;140;109;49m          \u001b[0m\n",
       "\u001b[38;2;255;255;255;48;2;57;59;121m          \u001b[0m\u001b[38;2;255;255;255;48;2;214;97;107m          \u001b[0m\u001b[38;2;255;255;255;48;2;140;162;82m          \u001b[0m\u001b[38;2;255;255;255;48;2;222;158;214m          \u001b[0m\u001b[38;2;0;0;0;48;2;231;203;148m          \u001b[0m\u001b[38;2;255;255;255;48;2;107;110;207m          \u001b[0m\u001b[38;2;255;255;255;48;2;165;81;148m          \u001b[0m\u001b[38;2;255;255;255;48;2;140;109;49m          \u001b[0m\n",
       "\u001b[38;2;255;255;255;48;2;57;59;121m          \u001b[0m\u001b[38;2;255;255;255;48;2;214;97;107m          \u001b[0m\u001b[38;2;255;255;255;48;2;140;162;82m          \u001b[0m\u001b[38;2;255;255;255;48;2;222;158;214m          \u001b[0m\u001b[38;2;0;0;0;48;2;231;203;148m          \u001b[0m\u001b[38;2;255;255;255;48;2;107;110;207m          \u001b[0m\u001b[38;2;255;255;255;48;2;165;81;148m          \u001b[0m\u001b[38;2;255;255;255;48;2;140;109;49m          \u001b[0m\n",
       "\u001b[38;2;255;255;255;48;2;57;59;121m          \u001b[0m\u001b[38;2;255;255;255;48;2;214;97;107m          \u001b[0m\u001b[38;2;255;255;255;48;2;140;162;82m          \u001b[0m\u001b[38;2;255;255;255;48;2;222;158;214m          \u001b[0m\u001b[38;2;0;0;0;48;2;231;203;148m          \u001b[0m\u001b[38;2;255;255;255;48;2;107;110;207m          \u001b[0m\u001b[38;2;255;255;255;48;2;165;81;148m          \u001b[0m\u001b[38;2;255;255;255;48;2;140;109;49m          \u001b[0m\n",
       "\u001b[38;2;255;255;255;48;2;57;59;121m          \u001b[0m\u001b[38;2;255;255;255;48;2;214;97;107m          \u001b[0m\u001b[38;2;255;255;255;48;2;140;162;82m          \u001b[0m\u001b[38;2;255;255;255;48;2;222;158;214m          \u001b[0m\u001b[38;2;0;0;0;48;2;231;203;148m          \u001b[0m\u001b[38;2;255;255;255;48;2;107;110;207m          \u001b[0m\u001b[38;2;255;255;255;48;2;165;81;148m          \u001b[0m\u001b[38;2;255;255;255;48;2;140;109;49m          \u001b[0m\n",
       "\u001b[38;2;255;255;255;48;2;57;59;121m   \u001b[0m\u001b[38;2;255;255;255;48;2;57;59;121mCPU\u001b[0m\u001b[38;2;255;255;255;48;2;57;59;121m    \u001b[0m\u001b[38;2;255;255;255;48;2;214;97;107m   \u001b[0m\u001b[38;2;255;255;255;48;2;214;97;107mCPU\u001b[0m\u001b[38;2;255;255;255;48;2;214;97;107m    \u001b[0m\u001b[38;2;255;255;255;48;2;140;162;82m   \u001b[0m\u001b[38;2;255;255;255;48;2;140;162;82mCPU\u001b[0m\u001b[38;2;255;255;255;48;2;140;162;82m    \u001b[0m\u001b[38;2;255;255;255;48;2;222;158;214m   \u001b[0m\u001b[38;2;255;255;255;48;2;222;158;214mCPU\u001b[0m\u001b[38;2;255;255;255;48;2;222;158;214m    \u001b[0m\u001b[38;2;0;0;0;48;2;231;203;148m   \u001b[0m\u001b[38;2;0;0;0;48;2;231;203;148mCPU\u001b[0m\u001b[38;2;0;0;0;48;2;231;203;148m    \u001b[0m\u001b[38;2;255;255;255;48;2;107;110;207m   \u001b[0m\u001b[38;2;255;255;255;48;2;107;110;207mCPU\u001b[0m\u001b[38;2;255;255;255;48;2;107;110;207m    \u001b[0m\u001b[38;2;255;255;255;48;2;165;81;148m   \u001b[0m\u001b[38;2;255;255;255;48;2;165;81;148mCPU\u001b[0m\u001b[38;2;255;255;255;48;2;165;81;148m    \u001b[0m\u001b[38;2;255;255;255;48;2;140;109;49m   \u001b[0m\u001b[38;2;255;255;255;48;2;140;109;49mCPU\u001b[0m\u001b[38;2;255;255;255;48;2;140;109;49m    \u001b[0m\n",
       "\u001b[38;2;255;255;255;48;2;57;59;121m   \u001b[0m\u001b[38;2;255;255;255;48;2;57;59;121m0  \u001b[0m\u001b[38;2;255;255;255;48;2;57;59;121m    \u001b[0m\u001b[38;2;255;255;255;48;2;214;97;107m   \u001b[0m\u001b[38;2;255;255;255;48;2;214;97;107m1  \u001b[0m\u001b[38;2;255;255;255;48;2;214;97;107m    \u001b[0m\u001b[38;2;255;255;255;48;2;140;162;82m   \u001b[0m\u001b[38;2;255;255;255;48;2;140;162;82m2  \u001b[0m\u001b[38;2;255;255;255;48;2;140;162;82m    \u001b[0m\u001b[38;2;255;255;255;48;2;222;158;214m   \u001b[0m\u001b[38;2;255;255;255;48;2;222;158;214m3  \u001b[0m\u001b[38;2;255;255;255;48;2;222;158;214m    \u001b[0m\u001b[38;2;0;0;0;48;2;231;203;148m   \u001b[0m\u001b[38;2;0;0;0;48;2;231;203;148m4  \u001b[0m\u001b[38;2;0;0;0;48;2;231;203;148m    \u001b[0m\u001b[38;2;255;255;255;48;2;107;110;207m   \u001b[0m\u001b[38;2;255;255;255;48;2;107;110;207m5  \u001b[0m\u001b[38;2;255;255;255;48;2;107;110;207m    \u001b[0m\u001b[38;2;255;255;255;48;2;165;81;148m   \u001b[0m\u001b[38;2;255;255;255;48;2;165;81;148m6  \u001b[0m\u001b[38;2;255;255;255;48;2;165;81;148m    \u001b[0m\u001b[38;2;255;255;255;48;2;140;109;49m   \u001b[0m\u001b[38;2;255;255;255;48;2;140;109;49m7  \u001b[0m\u001b[38;2;255;255;255;48;2;140;109;49m    \u001b[0m\n",
       "\u001b[38;2;255;255;255;48;2;57;59;121m          \u001b[0m\u001b[38;2;255;255;255;48;2;214;97;107m          \u001b[0m\u001b[38;2;255;255;255;48;2;140;162;82m          \u001b[0m\u001b[38;2;255;255;255;48;2;222;158;214m          \u001b[0m\u001b[38;2;0;0;0;48;2;231;203;148m          \u001b[0m\u001b[38;2;255;255;255;48;2;107;110;207m          \u001b[0m\u001b[38;2;255;255;255;48;2;165;81;148m          \u001b[0m\u001b[38;2;255;255;255;48;2;140;109;49m          \u001b[0m\n",
       "\u001b[38;2;255;255;255;48;2;57;59;121m          \u001b[0m\u001b[38;2;255;255;255;48;2;214;97;107m          \u001b[0m\u001b[38;2;255;255;255;48;2;140;162;82m          \u001b[0m\u001b[38;2;255;255;255;48;2;222;158;214m          \u001b[0m\u001b[38;2;0;0;0;48;2;231;203;148m          \u001b[0m\u001b[38;2;255;255;255;48;2;107;110;207m          \u001b[0m\u001b[38;2;255;255;255;48;2;165;81;148m          \u001b[0m\u001b[38;2;255;255;255;48;2;140;109;49m          \u001b[0m\n",
       "\u001b[38;2;255;255;255;48;2;57;59;121m          \u001b[0m\u001b[38;2;255;255;255;48;2;214;97;107m          \u001b[0m\u001b[38;2;255;255;255;48;2;140;162;82m          \u001b[0m\u001b[38;2;255;255;255;48;2;222;158;214m          \u001b[0m\u001b[38;2;0;0;0;48;2;231;203;148m          \u001b[0m\u001b[38;2;255;255;255;48;2;107;110;207m          \u001b[0m\u001b[38;2;255;255;255;48;2;165;81;148m          \u001b[0m\u001b[38;2;255;255;255;48;2;140;109;49m          \u001b[0m\n",
       "\u001b[38;2;255;255;255;48;2;57;59;121m          \u001b[0m\u001b[38;2;255;255;255;48;2;214;97;107m          \u001b[0m\u001b[38;2;255;255;255;48;2;140;162;82m          \u001b[0m\u001b[38;2;255;255;255;48;2;222;158;214m          \u001b[0m\u001b[38;2;0;0;0;48;2;231;203;148m          \u001b[0m\u001b[38;2;255;255;255;48;2;107;110;207m          \u001b[0m\u001b[38;2;255;255;255;48;2;165;81;148m          \u001b[0m\u001b[38;2;255;255;255;48;2;140;109;49m          \u001b[0m\n",
       "\u001b[38;2;255;255;255;48;2;57;59;121m          \u001b[0m\u001b[38;2;255;255;255;48;2;214;97;107m          \u001b[0m\u001b[38;2;255;255;255;48;2;140;162;82m          \u001b[0m\u001b[38;2;255;255;255;48;2;222;158;214m          \u001b[0m\u001b[38;2;0;0;0;48;2;231;203;148m          \u001b[0m\u001b[38;2;255;255;255;48;2;107;110;207m          \u001b[0m\u001b[38;2;255;255;255;48;2;165;81;148m          \u001b[0m\u001b[38;2;255;255;255;48;2;140;109;49m          \u001b[0m\n"
      ]
     },
     "metadata": {},
     "output_type": "display_data"
    },
    {
     "data": {
      "text/html": [
       "<pre style=\"white-space:pre;overflow-x:auto;line-height:normal;font-family:Menlo,'DejaVu Sans Mono',consolas,'Courier New',monospace\"><span style=\"color: #ffffff; text-decoration-color: #ffffff; background-color: #393b79\">CPU 0,1,2,3,4,5,6,7</span>\n",
       "<span style=\"color: #ffffff; text-decoration-color: #ffffff; background-color: #393b79\">                   </span>\n",
       "</pre>\n"
      ],
      "text/plain": [
       "\u001b[38;2;255;255;255;48;2;57;59;121mCPU 0,1,2,3,4,5,6,7\u001b[0m\n",
       "\u001b[38;2;255;255;255;48;2;57;59;121m                   \u001b[0m\n"
      ]
     },
     "metadata": {},
     "output_type": "display_data"
    },
    {
     "data": {
      "text/html": [
       "<pre style=\"white-space:pre;overflow-x:auto;line-height:normal;font-family:Menlo,'DejaVu Sans Mono',consolas,'Courier New',monospace\"><span style=\"color: #ffffff; text-decoration-color: #ffffff; background-color: #393b79\">          </span><span style=\"color: #ffffff; text-decoration-color: #ffffff; background-color: #d6616b\">          </span><span style=\"color: #ffffff; text-decoration-color: #ffffff; background-color: #8ca252\">          </span><span style=\"color: #ffffff; text-decoration-color: #ffffff; background-color: #de9ed6\">          </span><span style=\"color: #000000; text-decoration-color: #000000; background-color: #e7cb94\">          </span><span style=\"color: #ffffff; text-decoration-color: #ffffff; background-color: #6b6ecf\">          </span><span style=\"color: #ffffff; text-decoration-color: #ffffff; background-color: #a55194\">          </span><span style=\"color: #ffffff; text-decoration-color: #ffffff; background-color: #8c6d31\">          </span>\n",
       "<span style=\"color: #ffffff; text-decoration-color: #ffffff; background-color: #393b79\">          </span><span style=\"color: #ffffff; text-decoration-color: #ffffff; background-color: #d6616b\">          </span><span style=\"color: #ffffff; text-decoration-color: #ffffff; background-color: #8ca252\">          </span><span style=\"color: #ffffff; text-decoration-color: #ffffff; background-color: #de9ed6\">          </span><span style=\"color: #000000; text-decoration-color: #000000; background-color: #e7cb94\">          </span><span style=\"color: #ffffff; text-decoration-color: #ffffff; background-color: #6b6ecf\">          </span><span style=\"color: #ffffff; text-decoration-color: #ffffff; background-color: #a55194\">          </span><span style=\"color: #ffffff; text-decoration-color: #ffffff; background-color: #8c6d31\">          </span>\n",
       "<span style=\"color: #ffffff; text-decoration-color: #ffffff; background-color: #393b79\">          </span><span style=\"color: #ffffff; text-decoration-color: #ffffff; background-color: #d6616b\">          </span><span style=\"color: #ffffff; text-decoration-color: #ffffff; background-color: #8ca252\">          </span><span style=\"color: #ffffff; text-decoration-color: #ffffff; background-color: #de9ed6\">          </span><span style=\"color: #000000; text-decoration-color: #000000; background-color: #e7cb94\">          </span><span style=\"color: #ffffff; text-decoration-color: #ffffff; background-color: #6b6ecf\">          </span><span style=\"color: #ffffff; text-decoration-color: #ffffff; background-color: #a55194\">          </span><span style=\"color: #ffffff; text-decoration-color: #ffffff; background-color: #8c6d31\">          </span>\n",
       "<span style=\"color: #ffffff; text-decoration-color: #ffffff; background-color: #393b79\">          </span><span style=\"color: #ffffff; text-decoration-color: #ffffff; background-color: #d6616b\">          </span><span style=\"color: #ffffff; text-decoration-color: #ffffff; background-color: #8ca252\">          </span><span style=\"color: #ffffff; text-decoration-color: #ffffff; background-color: #de9ed6\">          </span><span style=\"color: #000000; text-decoration-color: #000000; background-color: #e7cb94\">          </span><span style=\"color: #ffffff; text-decoration-color: #ffffff; background-color: #6b6ecf\">          </span><span style=\"color: #ffffff; text-decoration-color: #ffffff; background-color: #a55194\">          </span><span style=\"color: #ffffff; text-decoration-color: #ffffff; background-color: #8c6d31\">          </span>\n",
       "<span style=\"color: #ffffff; text-decoration-color: #ffffff; background-color: #393b79\">          </span><span style=\"color: #ffffff; text-decoration-color: #ffffff; background-color: #d6616b\">          </span><span style=\"color: #ffffff; text-decoration-color: #ffffff; background-color: #8ca252\">          </span><span style=\"color: #ffffff; text-decoration-color: #ffffff; background-color: #de9ed6\">          </span><span style=\"color: #000000; text-decoration-color: #000000; background-color: #e7cb94\">          </span><span style=\"color: #ffffff; text-decoration-color: #ffffff; background-color: #6b6ecf\">          </span><span style=\"color: #ffffff; text-decoration-color: #ffffff; background-color: #a55194\">          </span><span style=\"color: #ffffff; text-decoration-color: #ffffff; background-color: #8c6d31\">          </span>\n",
       "<span style=\"color: #ffffff; text-decoration-color: #ffffff; background-color: #393b79\">          </span><span style=\"color: #ffffff; text-decoration-color: #ffffff; background-color: #d6616b\">          </span><span style=\"color: #ffffff; text-decoration-color: #ffffff; background-color: #8ca252\">          </span><span style=\"color: #ffffff; text-decoration-color: #ffffff; background-color: #de9ed6\">          </span><span style=\"color: #000000; text-decoration-color: #000000; background-color: #e7cb94\">          </span><span style=\"color: #ffffff; text-decoration-color: #ffffff; background-color: #6b6ecf\">          </span><span style=\"color: #ffffff; text-decoration-color: #ffffff; background-color: #a55194\">          </span><span style=\"color: #ffffff; text-decoration-color: #ffffff; background-color: #8c6d31\">          </span>\n",
       "<span style=\"color: #ffffff; text-decoration-color: #ffffff; background-color: #393b79\">          </span><span style=\"color: #ffffff; text-decoration-color: #ffffff; background-color: #d6616b\">          </span><span style=\"color: #ffffff; text-decoration-color: #ffffff; background-color: #8ca252\">          </span><span style=\"color: #ffffff; text-decoration-color: #ffffff; background-color: #de9ed6\">          </span><span style=\"color: #000000; text-decoration-color: #000000; background-color: #e7cb94\">          </span><span style=\"color: #ffffff; text-decoration-color: #ffffff; background-color: #6b6ecf\">          </span><span style=\"color: #ffffff; text-decoration-color: #ffffff; background-color: #a55194\">          </span><span style=\"color: #ffffff; text-decoration-color: #ffffff; background-color: #8c6d31\">          </span>\n",
       "<span style=\"color: #ffffff; text-decoration-color: #ffffff; background-color: #393b79\">          </span><span style=\"color: #ffffff; text-decoration-color: #ffffff; background-color: #d6616b\">          </span><span style=\"color: #ffffff; text-decoration-color: #ffffff; background-color: #8ca252\">          </span><span style=\"color: #ffffff; text-decoration-color: #ffffff; background-color: #de9ed6\">          </span><span style=\"color: #000000; text-decoration-color: #000000; background-color: #e7cb94\">          </span><span style=\"color: #ffffff; text-decoration-color: #ffffff; background-color: #6b6ecf\">          </span><span style=\"color: #ffffff; text-decoration-color: #ffffff; background-color: #a55194\">          </span><span style=\"color: #ffffff; text-decoration-color: #ffffff; background-color: #8c6d31\">          </span>\n",
       "<span style=\"color: #ffffff; text-decoration-color: #ffffff; background-color: #393b79\">          </span><span style=\"color: #ffffff; text-decoration-color: #ffffff; background-color: #d6616b\">          </span><span style=\"color: #ffffff; text-decoration-color: #ffffff; background-color: #8ca252\">          </span><span style=\"color: #ffffff; text-decoration-color: #ffffff; background-color: #de9ed6\">          </span><span style=\"color: #000000; text-decoration-color: #000000; background-color: #e7cb94\">          </span><span style=\"color: #ffffff; text-decoration-color: #ffffff; background-color: #6b6ecf\">          </span><span style=\"color: #ffffff; text-decoration-color: #ffffff; background-color: #a55194\">          </span><span style=\"color: #ffffff; text-decoration-color: #ffffff; background-color: #8c6d31\">          </span>\n",
       "<span style=\"color: #ffffff; text-decoration-color: #ffffff; background-color: #393b79\">          </span><span style=\"color: #ffffff; text-decoration-color: #ffffff; background-color: #d6616b\">          </span><span style=\"color: #ffffff; text-decoration-color: #ffffff; background-color: #8ca252\">          </span><span style=\"color: #ffffff; text-decoration-color: #ffffff; background-color: #de9ed6\">          </span><span style=\"color: #000000; text-decoration-color: #000000; background-color: #e7cb94\">          </span><span style=\"color: #ffffff; text-decoration-color: #ffffff; background-color: #6b6ecf\">          </span><span style=\"color: #ffffff; text-decoration-color: #ffffff; background-color: #a55194\">          </span><span style=\"color: #ffffff; text-decoration-color: #ffffff; background-color: #8c6d31\">          </span>\n",
       "</pre>\n"
      ],
      "text/plain": [
       "\u001b[38;2;255;255;255;48;2;57;59;121m          \u001b[0m\u001b[38;2;255;255;255;48;2;214;97;107m          \u001b[0m\u001b[38;2;255;255;255;48;2;140;162;82m          \u001b[0m\u001b[38;2;255;255;255;48;2;222;158;214m          \u001b[0m\u001b[38;2;0;0;0;48;2;231;203;148m          \u001b[0m\u001b[38;2;255;255;255;48;2;107;110;207m          \u001b[0m\u001b[38;2;255;255;255;48;2;165;81;148m          \u001b[0m\u001b[38;2;255;255;255;48;2;140;109;49m          \u001b[0m\n",
       "\u001b[38;2;255;255;255;48;2;57;59;121m          \u001b[0m\u001b[38;2;255;255;255;48;2;214;97;107m          \u001b[0m\u001b[38;2;255;255;255;48;2;140;162;82m          \u001b[0m\u001b[38;2;255;255;255;48;2;222;158;214m          \u001b[0m\u001b[38;2;0;0;0;48;2;231;203;148m          \u001b[0m\u001b[38;2;255;255;255;48;2;107;110;207m          \u001b[0m\u001b[38;2;255;255;255;48;2;165;81;148m          \u001b[0m\u001b[38;2;255;255;255;48;2;140;109;49m          \u001b[0m\n",
       "\u001b[38;2;255;255;255;48;2;57;59;121m          \u001b[0m\u001b[38;2;255;255;255;48;2;214;97;107m          \u001b[0m\u001b[38;2;255;255;255;48;2;140;162;82m          \u001b[0m\u001b[38;2;255;255;255;48;2;222;158;214m          \u001b[0m\u001b[38;2;0;0;0;48;2;231;203;148m          \u001b[0m\u001b[38;2;255;255;255;48;2;107;110;207m          \u001b[0m\u001b[38;2;255;255;255;48;2;165;81;148m          \u001b[0m\u001b[38;2;255;255;255;48;2;140;109;49m          \u001b[0m\n",
       "\u001b[38;2;255;255;255;48;2;57;59;121m          \u001b[0m\u001b[38;2;255;255;255;48;2;214;97;107m          \u001b[0m\u001b[38;2;255;255;255;48;2;140;162;82m          \u001b[0m\u001b[38;2;255;255;255;48;2;222;158;214m          \u001b[0m\u001b[38;2;0;0;0;48;2;231;203;148m          \u001b[0m\u001b[38;2;255;255;255;48;2;107;110;207m          \u001b[0m\u001b[38;2;255;255;255;48;2;165;81;148m          \u001b[0m\u001b[38;2;255;255;255;48;2;140;109;49m          \u001b[0m\n",
       "\u001b[38;2;255;255;255;48;2;57;59;121m          \u001b[0m\u001b[38;2;255;255;255;48;2;214;97;107m          \u001b[0m\u001b[38;2;255;255;255;48;2;140;162;82m          \u001b[0m\u001b[38;2;255;255;255;48;2;222;158;214m          \u001b[0m\u001b[38;2;0;0;0;48;2;231;203;148m          \u001b[0m\u001b[38;2;255;255;255;48;2;107;110;207m          \u001b[0m\u001b[38;2;255;255;255;48;2;165;81;148m          \u001b[0m\u001b[38;2;255;255;255;48;2;140;109;49m          \u001b[0m\n",
       "\u001b[38;2;255;255;255;48;2;57;59;121m          \u001b[0m\u001b[38;2;255;255;255;48;2;214;97;107m          \u001b[0m\u001b[38;2;255;255;255;48;2;140;162;82m          \u001b[0m\u001b[38;2;255;255;255;48;2;222;158;214m          \u001b[0m\u001b[38;2;0;0;0;48;2;231;203;148m          \u001b[0m\u001b[38;2;255;255;255;48;2;107;110;207m          \u001b[0m\u001b[38;2;255;255;255;48;2;165;81;148m          \u001b[0m\u001b[38;2;255;255;255;48;2;140;109;49m          \u001b[0m\n",
       "\u001b[38;2;255;255;255;48;2;57;59;121m          \u001b[0m\u001b[38;2;255;255;255;48;2;214;97;107m          \u001b[0m\u001b[38;2;255;255;255;48;2;140;162;82m          \u001b[0m\u001b[38;2;255;255;255;48;2;222;158;214m          \u001b[0m\u001b[38;2;0;0;0;48;2;231;203;148m          \u001b[0m\u001b[38;2;255;255;255;48;2;107;110;207m          \u001b[0m\u001b[38;2;255;255;255;48;2;165;81;148m          \u001b[0m\u001b[38;2;255;255;255;48;2;140;109;49m          \u001b[0m\n",
       "\u001b[38;2;255;255;255;48;2;57;59;121m          \u001b[0m\u001b[38;2;255;255;255;48;2;214;97;107m          \u001b[0m\u001b[38;2;255;255;255;48;2;140;162;82m          \u001b[0m\u001b[38;2;255;255;255;48;2;222;158;214m          \u001b[0m\u001b[38;2;0;0;0;48;2;231;203;148m          \u001b[0m\u001b[38;2;255;255;255;48;2;107;110;207m          \u001b[0m\u001b[38;2;255;255;255;48;2;165;81;148m          \u001b[0m\u001b[38;2;255;255;255;48;2;140;109;49m          \u001b[0m\n",
       "\u001b[38;2;255;255;255;48;2;57;59;121m          \u001b[0m\u001b[38;2;255;255;255;48;2;214;97;107m          \u001b[0m\u001b[38;2;255;255;255;48;2;140;162;82m          \u001b[0m\u001b[38;2;255;255;255;48;2;222;158;214m          \u001b[0m\u001b[38;2;0;0;0;48;2;231;203;148m          \u001b[0m\u001b[38;2;255;255;255;48;2;107;110;207m          \u001b[0m\u001b[38;2;255;255;255;48;2;165;81;148m          \u001b[0m\u001b[38;2;255;255;255;48;2;140;109;49m          \u001b[0m\n",
       "\u001b[38;2;255;255;255;48;2;57;59;121m          \u001b[0m\u001b[38;2;255;255;255;48;2;214;97;107m          \u001b[0m\u001b[38;2;255;255;255;48;2;140;162;82m          \u001b[0m\u001b[38;2;255;255;255;48;2;222;158;214m          \u001b[0m\u001b[38;2;0;0;0;48;2;231;203;148m          \u001b[0m\u001b[38;2;255;255;255;48;2;107;110;207m          \u001b[0m\u001b[38;2;255;255;255;48;2;165;81;148m          \u001b[0m\u001b[38;2;255;255;255;48;2;140;109;49m          \u001b[0m\n"
      ]
     },
     "metadata": {},
     "output_type": "display_data"
    },
    {
     "data": {
      "text/html": [
       "<pre style=\"white-space:pre;overflow-x:auto;line-height:normal;font-family:Menlo,'DejaVu Sans Mono',consolas,'Courier New',monospace\"><span style=\"color: #ffffff; text-decoration-color: #ffffff; background-color: #393b79\">CPU 0,1,2,3,4,5,6,7</span>\n",
       "<span style=\"color: #ffffff; text-decoration-color: #ffffff; background-color: #393b79\">                   </span>\n",
       "</pre>\n"
      ],
      "text/plain": [
       "\u001b[38;2;255;255;255;48;2;57;59;121mCPU 0,1,2,3,4,5,6,7\u001b[0m\n",
       "\u001b[38;2;255;255;255;48;2;57;59;121m                   \u001b[0m\n"
      ]
     },
     "metadata": {},
     "output_type": "display_data"
    },
    {
     "data": {
      "text/html": [
       "<pre style=\"white-space:pre;overflow-x:auto;line-height:normal;font-family:Menlo,'DejaVu Sans Mono',consolas,'Courier New',monospace\"><span style=\"color: #ffffff; text-decoration-color: #ffffff; background-color: #393b79\">          </span><span style=\"color: #ffffff; text-decoration-color: #ffffff; background-color: #d6616b\">          </span><span style=\"color: #ffffff; text-decoration-color: #ffffff; background-color: #8ca252\">          </span><span style=\"color: #ffffff; text-decoration-color: #ffffff; background-color: #de9ed6\">          </span><span style=\"color: #000000; text-decoration-color: #000000; background-color: #e7cb94\">          </span><span style=\"color: #ffffff; text-decoration-color: #ffffff; background-color: #6b6ecf\">          </span><span style=\"color: #ffffff; text-decoration-color: #ffffff; background-color: #a55194\">          </span><span style=\"color: #ffffff; text-decoration-color: #ffffff; background-color: #8c6d31\">          </span>\n",
       "<span style=\"color: #ffffff; text-decoration-color: #ffffff; background-color: #393b79\">          </span><span style=\"color: #ffffff; text-decoration-color: #ffffff; background-color: #d6616b\">          </span><span style=\"color: #ffffff; text-decoration-color: #ffffff; background-color: #8ca252\">          </span><span style=\"color: #ffffff; text-decoration-color: #ffffff; background-color: #de9ed6\">          </span><span style=\"color: #000000; text-decoration-color: #000000; background-color: #e7cb94\">          </span><span style=\"color: #ffffff; text-decoration-color: #ffffff; background-color: #6b6ecf\">          </span><span style=\"color: #ffffff; text-decoration-color: #ffffff; background-color: #a55194\">          </span><span style=\"color: #ffffff; text-decoration-color: #ffffff; background-color: #8c6d31\">          </span>\n",
       "<span style=\"color: #ffffff; text-decoration-color: #ffffff; background-color: #393b79\">          </span><span style=\"color: #ffffff; text-decoration-color: #ffffff; background-color: #d6616b\">          </span><span style=\"color: #ffffff; text-decoration-color: #ffffff; background-color: #8ca252\">          </span><span style=\"color: #ffffff; text-decoration-color: #ffffff; background-color: #de9ed6\">          </span><span style=\"color: #000000; text-decoration-color: #000000; background-color: #e7cb94\">          </span><span style=\"color: #ffffff; text-decoration-color: #ffffff; background-color: #6b6ecf\">          </span><span style=\"color: #ffffff; text-decoration-color: #ffffff; background-color: #a55194\">          </span><span style=\"color: #ffffff; text-decoration-color: #ffffff; background-color: #8c6d31\">          </span>\n",
       "<span style=\"color: #ffffff; text-decoration-color: #ffffff; background-color: #393b79\">          </span><span style=\"color: #ffffff; text-decoration-color: #ffffff; background-color: #d6616b\">          </span><span style=\"color: #ffffff; text-decoration-color: #ffffff; background-color: #8ca252\">          </span><span style=\"color: #ffffff; text-decoration-color: #ffffff; background-color: #de9ed6\">          </span><span style=\"color: #000000; text-decoration-color: #000000; background-color: #e7cb94\">          </span><span style=\"color: #ffffff; text-decoration-color: #ffffff; background-color: #6b6ecf\">          </span><span style=\"color: #ffffff; text-decoration-color: #ffffff; background-color: #a55194\">          </span><span style=\"color: #ffffff; text-decoration-color: #ffffff; background-color: #8c6d31\">          </span>\n",
       "<span style=\"color: #ffffff; text-decoration-color: #ffffff; background-color: #393b79\">          </span><span style=\"color: #ffffff; text-decoration-color: #ffffff; background-color: #d6616b\">          </span><span style=\"color: #ffffff; text-decoration-color: #ffffff; background-color: #8ca252\">          </span><span style=\"color: #ffffff; text-decoration-color: #ffffff; background-color: #de9ed6\">          </span><span style=\"color: #000000; text-decoration-color: #000000; background-color: #e7cb94\">          </span><span style=\"color: #ffffff; text-decoration-color: #ffffff; background-color: #6b6ecf\">          </span><span style=\"color: #ffffff; text-decoration-color: #ffffff; background-color: #a55194\">          </span><span style=\"color: #ffffff; text-decoration-color: #ffffff; background-color: #8c6d31\">          </span>\n",
       "<span style=\"color: #ffffff; text-decoration-color: #ffffff; background-color: #393b79\">          </span><span style=\"color: #ffffff; text-decoration-color: #ffffff; background-color: #d6616b\">          </span><span style=\"color: #ffffff; text-decoration-color: #ffffff; background-color: #8ca252\">          </span><span style=\"color: #ffffff; text-decoration-color: #ffffff; background-color: #de9ed6\">          </span><span style=\"color: #000000; text-decoration-color: #000000; background-color: #e7cb94\">          </span><span style=\"color: #ffffff; text-decoration-color: #ffffff; background-color: #6b6ecf\">          </span><span style=\"color: #ffffff; text-decoration-color: #ffffff; background-color: #a55194\">          </span><span style=\"color: #ffffff; text-decoration-color: #ffffff; background-color: #8c6d31\">          </span>\n",
       "<span style=\"color: #ffffff; text-decoration-color: #ffffff; background-color: #393b79\">          </span><span style=\"color: #ffffff; text-decoration-color: #ffffff; background-color: #d6616b\">          </span><span style=\"color: #ffffff; text-decoration-color: #ffffff; background-color: #8ca252\">          </span><span style=\"color: #ffffff; text-decoration-color: #ffffff; background-color: #de9ed6\">          </span><span style=\"color: #000000; text-decoration-color: #000000; background-color: #e7cb94\">          </span><span style=\"color: #ffffff; text-decoration-color: #ffffff; background-color: #6b6ecf\">          </span><span style=\"color: #ffffff; text-decoration-color: #ffffff; background-color: #a55194\">          </span><span style=\"color: #ffffff; text-decoration-color: #ffffff; background-color: #8c6d31\">          </span>\n",
       "<span style=\"color: #ffffff; text-decoration-color: #ffffff; background-color: #393b79\">          </span><span style=\"color: #ffffff; text-decoration-color: #ffffff; background-color: #d6616b\">          </span><span style=\"color: #ffffff; text-decoration-color: #ffffff; background-color: #8ca252\">          </span><span style=\"color: #ffffff; text-decoration-color: #ffffff; background-color: #de9ed6\">          </span><span style=\"color: #000000; text-decoration-color: #000000; background-color: #e7cb94\">          </span><span style=\"color: #ffffff; text-decoration-color: #ffffff; background-color: #6b6ecf\">          </span><span style=\"color: #ffffff; text-decoration-color: #ffffff; background-color: #a55194\">          </span><span style=\"color: #ffffff; text-decoration-color: #ffffff; background-color: #8c6d31\">          </span>\n",
       "<span style=\"color: #ffffff; text-decoration-color: #ffffff; background-color: #393b79\">          </span><span style=\"color: #ffffff; text-decoration-color: #ffffff; background-color: #d6616b\">          </span><span style=\"color: #ffffff; text-decoration-color: #ffffff; background-color: #8ca252\">          </span><span style=\"color: #ffffff; text-decoration-color: #ffffff; background-color: #de9ed6\">          </span><span style=\"color: #000000; text-decoration-color: #000000; background-color: #e7cb94\">          </span><span style=\"color: #ffffff; text-decoration-color: #ffffff; background-color: #6b6ecf\">          </span><span style=\"color: #ffffff; text-decoration-color: #ffffff; background-color: #a55194\">          </span><span style=\"color: #ffffff; text-decoration-color: #ffffff; background-color: #8c6d31\">          </span>\n",
       "<span style=\"color: #ffffff; text-decoration-color: #ffffff; background-color: #393b79\">          </span><span style=\"color: #ffffff; text-decoration-color: #ffffff; background-color: #d6616b\">          </span><span style=\"color: #ffffff; text-decoration-color: #ffffff; background-color: #8ca252\">          </span><span style=\"color: #ffffff; text-decoration-color: #ffffff; background-color: #de9ed6\">          </span><span style=\"color: #000000; text-decoration-color: #000000; background-color: #e7cb94\">          </span><span style=\"color: #ffffff; text-decoration-color: #ffffff; background-color: #6b6ecf\">          </span><span style=\"color: #ffffff; text-decoration-color: #ffffff; background-color: #a55194\">          </span><span style=\"color: #ffffff; text-decoration-color: #ffffff; background-color: #8c6d31\">          </span>\n",
       "</pre>\n"
      ],
      "text/plain": [
       "\u001b[38;2;255;255;255;48;2;57;59;121m          \u001b[0m\u001b[38;2;255;255;255;48;2;214;97;107m          \u001b[0m\u001b[38;2;255;255;255;48;2;140;162;82m          \u001b[0m\u001b[38;2;255;255;255;48;2;222;158;214m          \u001b[0m\u001b[38;2;0;0;0;48;2;231;203;148m          \u001b[0m\u001b[38;2;255;255;255;48;2;107;110;207m          \u001b[0m\u001b[38;2;255;255;255;48;2;165;81;148m          \u001b[0m\u001b[38;2;255;255;255;48;2;140;109;49m          \u001b[0m\n",
       "\u001b[38;2;255;255;255;48;2;57;59;121m          \u001b[0m\u001b[38;2;255;255;255;48;2;214;97;107m          \u001b[0m\u001b[38;2;255;255;255;48;2;140;162;82m          \u001b[0m\u001b[38;2;255;255;255;48;2;222;158;214m          \u001b[0m\u001b[38;2;0;0;0;48;2;231;203;148m          \u001b[0m\u001b[38;2;255;255;255;48;2;107;110;207m          \u001b[0m\u001b[38;2;255;255;255;48;2;165;81;148m          \u001b[0m\u001b[38;2;255;255;255;48;2;140;109;49m          \u001b[0m\n",
       "\u001b[38;2;255;255;255;48;2;57;59;121m          \u001b[0m\u001b[38;2;255;255;255;48;2;214;97;107m          \u001b[0m\u001b[38;2;255;255;255;48;2;140;162;82m          \u001b[0m\u001b[38;2;255;255;255;48;2;222;158;214m          \u001b[0m\u001b[38;2;0;0;0;48;2;231;203;148m          \u001b[0m\u001b[38;2;255;255;255;48;2;107;110;207m          \u001b[0m\u001b[38;2;255;255;255;48;2;165;81;148m          \u001b[0m\u001b[38;2;255;255;255;48;2;140;109;49m          \u001b[0m\n",
       "\u001b[38;2;255;255;255;48;2;57;59;121m          \u001b[0m\u001b[38;2;255;255;255;48;2;214;97;107m          \u001b[0m\u001b[38;2;255;255;255;48;2;140;162;82m          \u001b[0m\u001b[38;2;255;255;255;48;2;222;158;214m          \u001b[0m\u001b[38;2;0;0;0;48;2;231;203;148m          \u001b[0m\u001b[38;2;255;255;255;48;2;107;110;207m          \u001b[0m\u001b[38;2;255;255;255;48;2;165;81;148m          \u001b[0m\u001b[38;2;255;255;255;48;2;140;109;49m          \u001b[0m\n",
       "\u001b[38;2;255;255;255;48;2;57;59;121m          \u001b[0m\u001b[38;2;255;255;255;48;2;214;97;107m          \u001b[0m\u001b[38;2;255;255;255;48;2;140;162;82m          \u001b[0m\u001b[38;2;255;255;255;48;2;222;158;214m          \u001b[0m\u001b[38;2;0;0;0;48;2;231;203;148m          \u001b[0m\u001b[38;2;255;255;255;48;2;107;110;207m          \u001b[0m\u001b[38;2;255;255;255;48;2;165;81;148m          \u001b[0m\u001b[38;2;255;255;255;48;2;140;109;49m          \u001b[0m\n",
       "\u001b[38;2;255;255;255;48;2;57;59;121m          \u001b[0m\u001b[38;2;255;255;255;48;2;214;97;107m          \u001b[0m\u001b[38;2;255;255;255;48;2;140;162;82m          \u001b[0m\u001b[38;2;255;255;255;48;2;222;158;214m          \u001b[0m\u001b[38;2;0;0;0;48;2;231;203;148m          \u001b[0m\u001b[38;2;255;255;255;48;2;107;110;207m          \u001b[0m\u001b[38;2;255;255;255;48;2;165;81;148m          \u001b[0m\u001b[38;2;255;255;255;48;2;140;109;49m          \u001b[0m\n",
       "\u001b[38;2;255;255;255;48;2;57;59;121m          \u001b[0m\u001b[38;2;255;255;255;48;2;214;97;107m          \u001b[0m\u001b[38;2;255;255;255;48;2;140;162;82m          \u001b[0m\u001b[38;2;255;255;255;48;2;222;158;214m          \u001b[0m\u001b[38;2;0;0;0;48;2;231;203;148m          \u001b[0m\u001b[38;2;255;255;255;48;2;107;110;207m          \u001b[0m\u001b[38;2;255;255;255;48;2;165;81;148m          \u001b[0m\u001b[38;2;255;255;255;48;2;140;109;49m          \u001b[0m\n",
       "\u001b[38;2;255;255;255;48;2;57;59;121m          \u001b[0m\u001b[38;2;255;255;255;48;2;214;97;107m          \u001b[0m\u001b[38;2;255;255;255;48;2;140;162;82m          \u001b[0m\u001b[38;2;255;255;255;48;2;222;158;214m          \u001b[0m\u001b[38;2;0;0;0;48;2;231;203;148m          \u001b[0m\u001b[38;2;255;255;255;48;2;107;110;207m          \u001b[0m\u001b[38;2;255;255;255;48;2;165;81;148m          \u001b[0m\u001b[38;2;255;255;255;48;2;140;109;49m          \u001b[0m\n",
       "\u001b[38;2;255;255;255;48;2;57;59;121m          \u001b[0m\u001b[38;2;255;255;255;48;2;214;97;107m          \u001b[0m\u001b[38;2;255;255;255;48;2;140;162;82m          \u001b[0m\u001b[38;2;255;255;255;48;2;222;158;214m          \u001b[0m\u001b[38;2;0;0;0;48;2;231;203;148m          \u001b[0m\u001b[38;2;255;255;255;48;2;107;110;207m          \u001b[0m\u001b[38;2;255;255;255;48;2;165;81;148m          \u001b[0m\u001b[38;2;255;255;255;48;2;140;109;49m          \u001b[0m\n",
       "\u001b[38;2;255;255;255;48;2;57;59;121m          \u001b[0m\u001b[38;2;255;255;255;48;2;214;97;107m          \u001b[0m\u001b[38;2;255;255;255;48;2;140;162;82m          \u001b[0m\u001b[38;2;255;255;255;48;2;222;158;214m          \u001b[0m\u001b[38;2;0;0;0;48;2;231;203;148m          \u001b[0m\u001b[38;2;255;255;255;48;2;107;110;207m          \u001b[0m\u001b[38;2;255;255;255;48;2;165;81;148m          \u001b[0m\u001b[38;2;255;255;255;48;2;140;109;49m          \u001b[0m\n"
      ]
     },
     "metadata": {},
     "output_type": "display_data"
    },
    {
     "data": {
      "text/html": [
       "<pre style=\"white-space:pre;overflow-x:auto;line-height:normal;font-family:Menlo,'DejaVu Sans Mono',consolas,'Courier New',monospace\"><span style=\"color: #ffffff; text-decoration-color: #ffffff; background-color: #393b79\">CPU 0,1,2,3,4,5,6,7</span>\n",
       "<span style=\"color: #ffffff; text-decoration-color: #ffffff; background-color: #393b79\">                   </span>\n",
       "</pre>\n"
      ],
      "text/plain": [
       "\u001b[38;2;255;255;255;48;2;57;59;121mCPU 0,1,2,3,4,5,6,7\u001b[0m\n",
       "\u001b[38;2;255;255;255;48;2;57;59;121m                   \u001b[0m\n"
      ]
     },
     "metadata": {},
     "output_type": "display_data"
    },
    {
     "data": {
      "text/html": [
       "<pre style=\"white-space:pre;overflow-x:auto;line-height:normal;font-family:Menlo,'DejaVu Sans Mono',consolas,'Courier New',monospace\"><span style=\"color: #ffffff; text-decoration-color: #ffffff; background-color: #393b79\">          </span><span style=\"color: #ffffff; text-decoration-color: #ffffff; background-color: #d6616b\">          </span><span style=\"color: #ffffff; text-decoration-color: #ffffff; background-color: #8ca252\">          </span><span style=\"color: #ffffff; text-decoration-color: #ffffff; background-color: #de9ed6\">          </span><span style=\"color: #000000; text-decoration-color: #000000; background-color: #e7cb94\">          </span><span style=\"color: #ffffff; text-decoration-color: #ffffff; background-color: #6b6ecf\">          </span><span style=\"color: #ffffff; text-decoration-color: #ffffff; background-color: #a55194\">          </span><span style=\"color: #ffffff; text-decoration-color: #ffffff; background-color: #8c6d31\">          </span>\n",
       "<span style=\"color: #ffffff; text-decoration-color: #ffffff; background-color: #393b79\">          </span><span style=\"color: #ffffff; text-decoration-color: #ffffff; background-color: #d6616b\">          </span><span style=\"color: #ffffff; text-decoration-color: #ffffff; background-color: #8ca252\">          </span><span style=\"color: #ffffff; text-decoration-color: #ffffff; background-color: #de9ed6\">          </span><span style=\"color: #000000; text-decoration-color: #000000; background-color: #e7cb94\">          </span><span style=\"color: #ffffff; text-decoration-color: #ffffff; background-color: #6b6ecf\">          </span><span style=\"color: #ffffff; text-decoration-color: #ffffff; background-color: #a55194\">          </span><span style=\"color: #ffffff; text-decoration-color: #ffffff; background-color: #8c6d31\">          </span>\n",
       "<span style=\"color: #ffffff; text-decoration-color: #ffffff; background-color: #393b79\">          </span><span style=\"color: #ffffff; text-decoration-color: #ffffff; background-color: #d6616b\">          </span><span style=\"color: #ffffff; text-decoration-color: #ffffff; background-color: #8ca252\">          </span><span style=\"color: #ffffff; text-decoration-color: #ffffff; background-color: #de9ed6\">          </span><span style=\"color: #000000; text-decoration-color: #000000; background-color: #e7cb94\">          </span><span style=\"color: #ffffff; text-decoration-color: #ffffff; background-color: #6b6ecf\">          </span><span style=\"color: #ffffff; text-decoration-color: #ffffff; background-color: #a55194\">          </span><span style=\"color: #ffffff; text-decoration-color: #ffffff; background-color: #8c6d31\">          </span>\n",
       "<span style=\"color: #ffffff; text-decoration-color: #ffffff; background-color: #393b79\">          </span><span style=\"color: #ffffff; text-decoration-color: #ffffff; background-color: #d6616b\">          </span><span style=\"color: #ffffff; text-decoration-color: #ffffff; background-color: #8ca252\">          </span><span style=\"color: #ffffff; text-decoration-color: #ffffff; background-color: #de9ed6\">          </span><span style=\"color: #000000; text-decoration-color: #000000; background-color: #e7cb94\">          </span><span style=\"color: #ffffff; text-decoration-color: #ffffff; background-color: #6b6ecf\">          </span><span style=\"color: #ffffff; text-decoration-color: #ffffff; background-color: #a55194\">          </span><span style=\"color: #ffffff; text-decoration-color: #ffffff; background-color: #8c6d31\">          </span>\n",
       "<span style=\"color: #ffffff; text-decoration-color: #ffffff; background-color: #393b79\">          </span><span style=\"color: #ffffff; text-decoration-color: #ffffff; background-color: #d6616b\">          </span><span style=\"color: #ffffff; text-decoration-color: #ffffff; background-color: #8ca252\">          </span><span style=\"color: #ffffff; text-decoration-color: #ffffff; background-color: #de9ed6\">          </span><span style=\"color: #000000; text-decoration-color: #000000; background-color: #e7cb94\">          </span><span style=\"color: #ffffff; text-decoration-color: #ffffff; background-color: #6b6ecf\">          </span><span style=\"color: #ffffff; text-decoration-color: #ffffff; background-color: #a55194\">          </span><span style=\"color: #ffffff; text-decoration-color: #ffffff; background-color: #8c6d31\">          </span>\n",
       "<span style=\"color: #ffffff; text-decoration-color: #ffffff; background-color: #393b79\">          </span><span style=\"color: #ffffff; text-decoration-color: #ffffff; background-color: #d6616b\">          </span><span style=\"color: #ffffff; text-decoration-color: #ffffff; background-color: #8ca252\">          </span><span style=\"color: #ffffff; text-decoration-color: #ffffff; background-color: #de9ed6\">          </span><span style=\"color: #000000; text-decoration-color: #000000; background-color: #e7cb94\">          </span><span style=\"color: #ffffff; text-decoration-color: #ffffff; background-color: #6b6ecf\">          </span><span style=\"color: #ffffff; text-decoration-color: #ffffff; background-color: #a55194\">          </span><span style=\"color: #ffffff; text-decoration-color: #ffffff; background-color: #8c6d31\">          </span>\n",
       "<span style=\"color: #ffffff; text-decoration-color: #ffffff; background-color: #393b79\">          </span><span style=\"color: #ffffff; text-decoration-color: #ffffff; background-color: #d6616b\">          </span><span style=\"color: #ffffff; text-decoration-color: #ffffff; background-color: #8ca252\">          </span><span style=\"color: #ffffff; text-decoration-color: #ffffff; background-color: #de9ed6\">          </span><span style=\"color: #000000; text-decoration-color: #000000; background-color: #e7cb94\">          </span><span style=\"color: #ffffff; text-decoration-color: #ffffff; background-color: #6b6ecf\">          </span><span style=\"color: #ffffff; text-decoration-color: #ffffff; background-color: #a55194\">          </span><span style=\"color: #ffffff; text-decoration-color: #ffffff; background-color: #8c6d31\">          </span>\n",
       "<span style=\"color: #ffffff; text-decoration-color: #ffffff; background-color: #393b79\">          </span><span style=\"color: #ffffff; text-decoration-color: #ffffff; background-color: #d6616b\">          </span><span style=\"color: #ffffff; text-decoration-color: #ffffff; background-color: #8ca252\">          </span><span style=\"color: #ffffff; text-decoration-color: #ffffff; background-color: #de9ed6\">          </span><span style=\"color: #000000; text-decoration-color: #000000; background-color: #e7cb94\">          </span><span style=\"color: #ffffff; text-decoration-color: #ffffff; background-color: #6b6ecf\">          </span><span style=\"color: #ffffff; text-decoration-color: #ffffff; background-color: #a55194\">          </span><span style=\"color: #ffffff; text-decoration-color: #ffffff; background-color: #8c6d31\">          </span>\n",
       "<span style=\"color: #ffffff; text-decoration-color: #ffffff; background-color: #393b79\">          </span><span style=\"color: #ffffff; text-decoration-color: #ffffff; background-color: #d6616b\">          </span><span style=\"color: #ffffff; text-decoration-color: #ffffff; background-color: #8ca252\">          </span><span style=\"color: #ffffff; text-decoration-color: #ffffff; background-color: #de9ed6\">          </span><span style=\"color: #000000; text-decoration-color: #000000; background-color: #e7cb94\">          </span><span style=\"color: #ffffff; text-decoration-color: #ffffff; background-color: #6b6ecf\">          </span><span style=\"color: #ffffff; text-decoration-color: #ffffff; background-color: #a55194\">          </span><span style=\"color: #ffffff; text-decoration-color: #ffffff; background-color: #8c6d31\">          </span>\n",
       "<span style=\"color: #ffffff; text-decoration-color: #ffffff; background-color: #393b79\">          </span><span style=\"color: #ffffff; text-decoration-color: #ffffff; background-color: #d6616b\">          </span><span style=\"color: #ffffff; text-decoration-color: #ffffff; background-color: #8ca252\">          </span><span style=\"color: #ffffff; text-decoration-color: #ffffff; background-color: #de9ed6\">          </span><span style=\"color: #000000; text-decoration-color: #000000; background-color: #e7cb94\">          </span><span style=\"color: #ffffff; text-decoration-color: #ffffff; background-color: #6b6ecf\">          </span><span style=\"color: #ffffff; text-decoration-color: #ffffff; background-color: #a55194\">          </span><span style=\"color: #ffffff; text-decoration-color: #ffffff; background-color: #8c6d31\">          </span>\n",
       "</pre>\n"
      ],
      "text/plain": [
       "\u001b[38;2;255;255;255;48;2;57;59;121m          \u001b[0m\u001b[38;2;255;255;255;48;2;214;97;107m          \u001b[0m\u001b[38;2;255;255;255;48;2;140;162;82m          \u001b[0m\u001b[38;2;255;255;255;48;2;222;158;214m          \u001b[0m\u001b[38;2;0;0;0;48;2;231;203;148m          \u001b[0m\u001b[38;2;255;255;255;48;2;107;110;207m          \u001b[0m\u001b[38;2;255;255;255;48;2;165;81;148m          \u001b[0m\u001b[38;2;255;255;255;48;2;140;109;49m          \u001b[0m\n",
       "\u001b[38;2;255;255;255;48;2;57;59;121m          \u001b[0m\u001b[38;2;255;255;255;48;2;214;97;107m          \u001b[0m\u001b[38;2;255;255;255;48;2;140;162;82m          \u001b[0m\u001b[38;2;255;255;255;48;2;222;158;214m          \u001b[0m\u001b[38;2;0;0;0;48;2;231;203;148m          \u001b[0m\u001b[38;2;255;255;255;48;2;107;110;207m          \u001b[0m\u001b[38;2;255;255;255;48;2;165;81;148m          \u001b[0m\u001b[38;2;255;255;255;48;2;140;109;49m          \u001b[0m\n",
       "\u001b[38;2;255;255;255;48;2;57;59;121m          \u001b[0m\u001b[38;2;255;255;255;48;2;214;97;107m          \u001b[0m\u001b[38;2;255;255;255;48;2;140;162;82m          \u001b[0m\u001b[38;2;255;255;255;48;2;222;158;214m          \u001b[0m\u001b[38;2;0;0;0;48;2;231;203;148m          \u001b[0m\u001b[38;2;255;255;255;48;2;107;110;207m          \u001b[0m\u001b[38;2;255;255;255;48;2;165;81;148m          \u001b[0m\u001b[38;2;255;255;255;48;2;140;109;49m          \u001b[0m\n",
       "\u001b[38;2;255;255;255;48;2;57;59;121m          \u001b[0m\u001b[38;2;255;255;255;48;2;214;97;107m          \u001b[0m\u001b[38;2;255;255;255;48;2;140;162;82m          \u001b[0m\u001b[38;2;255;255;255;48;2;222;158;214m          \u001b[0m\u001b[38;2;0;0;0;48;2;231;203;148m          \u001b[0m\u001b[38;2;255;255;255;48;2;107;110;207m          \u001b[0m\u001b[38;2;255;255;255;48;2;165;81;148m          \u001b[0m\u001b[38;2;255;255;255;48;2;140;109;49m          \u001b[0m\n",
       "\u001b[38;2;255;255;255;48;2;57;59;121m          \u001b[0m\u001b[38;2;255;255;255;48;2;214;97;107m          \u001b[0m\u001b[38;2;255;255;255;48;2;140;162;82m          \u001b[0m\u001b[38;2;255;255;255;48;2;222;158;214m          \u001b[0m\u001b[38;2;0;0;0;48;2;231;203;148m          \u001b[0m\u001b[38;2;255;255;255;48;2;107;110;207m          \u001b[0m\u001b[38;2;255;255;255;48;2;165;81;148m          \u001b[0m\u001b[38;2;255;255;255;48;2;140;109;49m          \u001b[0m\n",
       "\u001b[38;2;255;255;255;48;2;57;59;121m          \u001b[0m\u001b[38;2;255;255;255;48;2;214;97;107m          \u001b[0m\u001b[38;2;255;255;255;48;2;140;162;82m          \u001b[0m\u001b[38;2;255;255;255;48;2;222;158;214m          \u001b[0m\u001b[38;2;0;0;0;48;2;231;203;148m          \u001b[0m\u001b[38;2;255;255;255;48;2;107;110;207m          \u001b[0m\u001b[38;2;255;255;255;48;2;165;81;148m          \u001b[0m\u001b[38;2;255;255;255;48;2;140;109;49m          \u001b[0m\n",
       "\u001b[38;2;255;255;255;48;2;57;59;121m          \u001b[0m\u001b[38;2;255;255;255;48;2;214;97;107m          \u001b[0m\u001b[38;2;255;255;255;48;2;140;162;82m          \u001b[0m\u001b[38;2;255;255;255;48;2;222;158;214m          \u001b[0m\u001b[38;2;0;0;0;48;2;231;203;148m          \u001b[0m\u001b[38;2;255;255;255;48;2;107;110;207m          \u001b[0m\u001b[38;2;255;255;255;48;2;165;81;148m          \u001b[0m\u001b[38;2;255;255;255;48;2;140;109;49m          \u001b[0m\n",
       "\u001b[38;2;255;255;255;48;2;57;59;121m          \u001b[0m\u001b[38;2;255;255;255;48;2;214;97;107m          \u001b[0m\u001b[38;2;255;255;255;48;2;140;162;82m          \u001b[0m\u001b[38;2;255;255;255;48;2;222;158;214m          \u001b[0m\u001b[38;2;0;0;0;48;2;231;203;148m          \u001b[0m\u001b[38;2;255;255;255;48;2;107;110;207m          \u001b[0m\u001b[38;2;255;255;255;48;2;165;81;148m          \u001b[0m\u001b[38;2;255;255;255;48;2;140;109;49m          \u001b[0m\n",
       "\u001b[38;2;255;255;255;48;2;57;59;121m          \u001b[0m\u001b[38;2;255;255;255;48;2;214;97;107m          \u001b[0m\u001b[38;2;255;255;255;48;2;140;162;82m          \u001b[0m\u001b[38;2;255;255;255;48;2;222;158;214m          \u001b[0m\u001b[38;2;0;0;0;48;2;231;203;148m          \u001b[0m\u001b[38;2;255;255;255;48;2;107;110;207m          \u001b[0m\u001b[38;2;255;255;255;48;2;165;81;148m          \u001b[0m\u001b[38;2;255;255;255;48;2;140;109;49m          \u001b[0m\n",
       "\u001b[38;2;255;255;255;48;2;57;59;121m          \u001b[0m\u001b[38;2;255;255;255;48;2;214;97;107m          \u001b[0m\u001b[38;2;255;255;255;48;2;140;162;82m          \u001b[0m\u001b[38;2;255;255;255;48;2;222;158;214m          \u001b[0m\u001b[38;2;0;0;0;48;2;231;203;148m          \u001b[0m\u001b[38;2;255;255;255;48;2;107;110;207m          \u001b[0m\u001b[38;2;255;255;255;48;2;165;81;148m          \u001b[0m\u001b[38;2;255;255;255;48;2;140;109;49m          \u001b[0m\n"
      ]
     },
     "metadata": {},
     "output_type": "display_data"
    },
    {
     "data": {
      "text/plain": [
       "{'params': {'Embeddings_0': {'embedding': {'embedding': Partitioned(value=None, names=(None, 'model'), mesh=None)},\n",
       "   'layer_norm': {'bias': None, 'scale': None}},\n",
       "  'EncoderBlock_0': {'Block_0': {'FeedForward_0': {'FFBody_0': {'TPDense_0': {'Dense_0': {'bias': None,\n",
       "        'kernel': Partitioned(value=None, names=(None, 'model'), mesh=None)}},\n",
       "      'TPDense_1': {'Dense_0': {'bias': None,\n",
       "        'kernel': Partitioned(value=None, names=(None, 'model'), mesh=None)}}}},\n",
       "    'LayerNorm_0': {'bias': None, 'scale': None},\n",
       "    'LayerNorm_1': {'bias': None, 'scale': None},\n",
       "    'MLA_0': {'W_down': {'Dense_0': {'bias': None,\n",
       "       'kernel': Partitioned(value=None, names=(None, 'model'), mesh=None)}},\n",
       "     'W_uKV': {'Dense_0': {'bias': None,\n",
       "       'kernel': Partitioned(value=None, names=(None, 'model'), mesh=None)}},\n",
       "     'W_uQ': {'Dense_0': {'bias': None,\n",
       "       'kernel': Partitioned(value=None, names=(None, 'model'), mesh=None)}},\n",
       "     'output': {'Dense_0': {'bias': None,\n",
       "       'kernel': Partitioned(value=None, names=(None, 'model'), mesh=None)}}}}},\n",
       "  'EncoderBlock_1': {'Block_0': {'FeedForward_0': {'FFBody_0': {'TPDense_0': {'Dense_0': {'bias': None,\n",
       "        'kernel': Partitioned(value=None, names=(None, 'model'), mesh=None)}},\n",
       "      'TPDense_1': {'Dense_0': {'bias': None,\n",
       "        'kernel': Partitioned(value=None, names=(None, 'model'), mesh=None)}}}},\n",
       "    'LayerNorm_0': {'bias': None, 'scale': None},\n",
       "    'LayerNorm_1': {'bias': None, 'scale': None},\n",
       "    'MLA_0': {'W_down': {'Dense_0': {'bias': None,\n",
       "       'kernel': Partitioned(value=None, names=(None, 'model'), mesh=None)}},\n",
       "     'W_uKV': {'Dense_0': {'bias': None,\n",
       "       'kernel': Partitioned(value=None, names=(None, 'model'), mesh=None)}},\n",
       "     'W_uQ': {'Dense_0': {'bias': None,\n",
       "       'kernel': Partitioned(value=None, names=(None, 'model'), mesh=None)}},\n",
       "     'output': {'Dense_0': {'bias': None,\n",
       "       'kernel': Partitioned(value=None, names=(None, 'model'), mesh=None)}}}}},\n",
       "  'EncoderBlock_2': {'Block_0': {'FeedForward_0': {'FFBody_0': {'TPDense_0': {'Dense_0': {'bias': None,\n",
       "        'kernel': Partitioned(value=None, names=(None, 'model'), mesh=None)}},\n",
       "      'TPDense_1': {'Dense_0': {'bias': None,\n",
       "        'kernel': Partitioned(value=None, names=(None, 'model'), mesh=None)}}}},\n",
       "    'LayerNorm_0': {'bias': None, 'scale': None},\n",
       "    'LayerNorm_1': {'bias': None, 'scale': None},\n",
       "    'MLA_0': {'W_down': {'Dense_0': {'bias': None,\n",
       "       'kernel': Partitioned(value=None, names=(None, 'model'), mesh=None)}},\n",
       "     'W_uKV': {'Dense_0': {'bias': None,\n",
       "       'kernel': Partitioned(value=None, names=(None, 'model'), mesh=None)}},\n",
       "     'W_uQ': {'Dense_0': {'bias': None,\n",
       "       'kernel': Partitioned(value=None, names=(None, 'model'), mesh=None)}},\n",
       "     'output': {'Dense_0': {'bias': None,\n",
       "       'kernel': Partitioned(value=None, names=(None, 'model'), mesh=None)}}}}},\n",
       "  'EncoderBlock_3': {'Block_0': {'FeedForward_0': {'FFBody_0': {'TPDense_0': {'Dense_0': {'bias': None,\n",
       "        'kernel': Partitioned(value=None, names=(None, 'model'), mesh=None)}},\n",
       "      'TPDense_1': {'Dense_0': {'bias': None,\n",
       "        'kernel': Partitioned(value=None, names=(None, 'model'), mesh=None)}}}},\n",
       "    'LayerNorm_0': {'bias': None, 'scale': None},\n",
       "    'LayerNorm_1': {'bias': None, 'scale': None},\n",
       "    'MLA_0': {'W_down': {'Dense_0': {'bias': None,\n",
       "       'kernel': Partitioned(value=None, names=(None, 'model'), mesh=None)}},\n",
       "     'W_uKV': {'Dense_0': {'bias': None,\n",
       "       'kernel': Partitioned(value=None, names=(None, 'model'), mesh=None)}},\n",
       "     'W_uQ': {'Dense_0': {'bias': None,\n",
       "       'kernel': Partitioned(value=None, names=(None, 'model'), mesh=None)}},\n",
       "     'output': {'Dense_0': {'bias': None,\n",
       "       'kernel': Partitioned(value=None, names=(None, 'model'), mesh=None)}}}}}}}"
      ]
     },
     "execution_count": 18,
     "metadata": {},
     "output_type": "execute_result"
    }
   ],
   "source": [
    "jax.tree.map(lambda x: jax.debug.visualize_array_sharding(x), params)"
   ]
  },
  {
   "cell_type": "code",
   "execution_count": 143,
   "id": "2fbb7560",
   "metadata": {},
   "outputs": [
    {
     "data": {
      "text/plain": [
       "Mesh(device_ids=array([0]), axis_names=('model',), axis_types=(Auto,))"
      ]
     },
     "execution_count": 143,
     "metadata": {},
     "output_type": "execute_result"
    }
   ],
   "source": [
    "mesh"
   ]
  },
  {
   "cell_type": "code",
   "execution_count": null,
   "id": "c009490b",
   "metadata": {},
   "outputs": [],
   "source": []
  }
 ],
 "metadata": {
  "kernelspec": {
   "display_name": "jax_intro",
   "language": "python",
   "name": "python3"
  },
  "language_info": {
   "codemirror_mode": {
    "name": "ipython",
    "version": 3
   },
   "file_extension": ".py",
   "mimetype": "text/x-python",
   "name": "python",
   "nbconvert_exporter": "python",
   "pygments_lexer": "ipython3",
   "version": "3.11.12"
  }
 },
 "nbformat": 4,
 "nbformat_minor": 5
}
