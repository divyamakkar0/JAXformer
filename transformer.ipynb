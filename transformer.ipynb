{
 "cells": [
  {
   "cell_type": "code",
   "execution_count": 2,
   "id": "99683331",
   "metadata": {},
   "outputs": [],
   "source": [
    "import jax\n",
    "import jax.numpy as jnp\n",
    "from jax import random\n",
    "import math"
   ]
  },
  {
   "cell_type": "code",
   "execution_count": 3,
   "id": "96f5c320",
   "metadata": {},
   "outputs": [],
   "source": [
    "try:\n",
    "    import flax\n",
    "except ModuleNotFoundError: # Install flax if missing\n",
    "    !pip install --quiet flax\n",
    "    import flax\n",
    "\n",
    "from flax import linen as nn"
   ]
  },
  {
   "cell_type": "code",
   "execution_count": 4,
   "id": "3b708221",
   "metadata": {},
   "outputs": [],
   "source": [
    "class InputEmbeddings(nn.Module):\n",
    "    model_dimension : int\n",
    "    vocab_size : int\n",
    "\n",
    "    def setup(self):\n",
    "        self.embedding = nn.Embed(num_embeddings=self.vocab_size, features=self.model_dimension)\n",
    "    \n",
    "    def __call__(self, x):\n",
    "        x = self.embedding(x) * math.sqrt(self.model_dimension)\n",
    "        return x"
   ]
  },
  {
   "cell_type": "code",
   "execution_count": 5,
   "id": "120fcaf0",
   "metadata": {},
   "outputs": [],
   "source": [
    "class FeedForward(nn.Module):\n",
    "    model_dimension : int\n",
    "    ff_dim : int\n",
    "    dropout : float\n",
    "\n",
    "    def setup(self):\n",
    "        self.linear1 = nn.Dense(features=self.ff_dim)\n",
    "        self.linear2 = nn.Dense(features=self.model_dimension) \n",
    "    \n",
    "    def __call__(self, x):\n",
    "        x = self.linear1(x)\n",
    "        x = nn.relu(x)\n",
    "        x = self.linear2(x)\n",
    "        x = nn.relu(x)\n",
    "        return x"
   ]
  },
  {
   "cell_type": "code",
   "execution_count": null,
   "id": "328fff43",
   "metadata": {},
   "outputs": [],
   "source": [
    "#defining single head of attention\n",
    "def ScaledDotProduct(q, k, v):\n",
    "    dk = q.shape[-1]\n",
    "    kT = jnp.transpose(k, (0, 2, 1))\n",
    "    weights = jnp.matmul(q, kT)\n",
    "    size = weights.shape[-1]\n",
    "    weights = weights/math.sqrt(dk)\n",
    "    mask = jnp.tril(jnp.ones((size, size)))\n",
    "    logits = jnp.where(mask == 0, -9e15, weights)\n",
    "    attention = nn.softmax(logits, axis=-1)\n",
    "    values = jnp.matmul(attention, v)\n",
    "    return values \n",
    "    "
   ]
  },
  {
   "cell_type": "code",
   "execution_count": 8,
   "id": "02b61529",
   "metadata": {},
   "outputs": [],
   "source": [
    "#einsum version\n",
    "#defining single head of attention\n",
    "def ScaledDotProduct(q, k, v):\n",
    "    dk = q.shape[-1]\n",
    "    weights = jnp.einsum('b t c, b T c -> b t T', q, k) / math.sqrt(dk)\n",
    "    size = weights.shape[-1]\n",
    "    mask = jnp.tril(jnp.ones((size, size)))\n",
    "    logits = jnp.where(mask == 0, -9e15, weights)\n",
    "    attention = nn.softmax(logits, axis=-1)\n",
    "    values = jnp.einsum('b t T, b T c -> b t c', attention, v)\n",
    "    return values "
   ]
  },
  {
   "cell_type": "code",
   "execution_count": null,
   "id": "b65c4b89",
   "metadata": {},
   "outputs": [],
   "source": [
    "class MultiHeadAttention(nn.Module):\n",
    "    "
   ]
  },
  {
   "cell_type": "code",
   "execution_count": null,
   "id": "d88b9ea2",
   "metadata": {},
   "outputs": [],
   "source": [
    "class PositionalEmbeddings(nn.Module):\n",
    "    model_dimension : int\n",
    "    seq_len : int\n",
    "#doto"
   ]
  },
  {
   "cell_type": "code",
   "execution_count": null,
   "id": "87ac79f7",
   "metadata": {},
   "outputs": [],
   "source": [
    "#MH Attention\n",
    "#Feedforward"
   ]
  }
 ],
 "metadata": {
  "kernelspec": {
   "display_name": "jax_intro",
   "language": "python",
   "name": "python3"
  },
  "language_info": {
   "codemirror_mode": {
    "name": "ipython",
    "version": 3
   },
   "file_extension": ".py",
   "mimetype": "text/x-python",
   "name": "python",
   "nbconvert_exporter": "python",
   "pygments_lexer": "ipython3",
   "version": "3.11.12"
  }
 },
 "nbformat": 4,
 "nbformat_minor": 5
}
