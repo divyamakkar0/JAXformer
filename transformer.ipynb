{
 "cells": [
  {
   "cell_type": "code",
   "execution_count": 17,
   "id": "99683331",
   "metadata": {},
   "outputs": [],
   "source": [
    "import jax\n",
    "import jax.numpy as jnp\n",
    "from jax import random\n",
    "import math\n",
    "from typing import Callable"
   ]
  },
  {
   "cell_type": "code",
   "execution_count": 18,
   "id": "96f5c320",
   "metadata": {},
   "outputs": [],
   "source": [
    "try:\n",
    "    import flax\n",
    "except ModuleNotFoundError: # Install flax if missing\n",
    "    !pip install --quiet flax\n",
    "    import flax\n",
    "\n",
    "from flax import linen as nn"
   ]
  },
  {
   "cell_type": "code",
   "execution_count": 19,
   "id": "3b708221",
   "metadata": {},
   "outputs": [],
   "source": [
    "class Embeddings(nn.Module):\n",
    "    model_dimension : int\n",
    "    vocab_size : int\n",
    "\n",
    "    def setup(self):\n",
    "        self.embedding = nn.Embed(num_embeddings=self.vocab_size, features=self.model_dimension)\n",
    "    \n",
    "    def __call__(self, x):\n",
    "        x = self.embedding(x) * math.sqrt(self.model_dimension)\n",
    "        return x"
   ]
  },
  {
   "cell_type": "code",
   "execution_count": 20,
   "id": "78e2a048",
   "metadata": {},
   "outputs": [],
   "source": [
    "class PositionalEncoding(nn.Module):\n",
    "    model_dimension : int\n",
    "    seq_len : int\n",
    "\n",
    "    def setup(self):\n",
    "        zeros = jnp.zeros((self.seq_len, self.model_dimension))\n",
    "        row = jnp.arange(0, self.seq_len, 1)\n",
    "        pos_matrix = row.reshape(-1, 1)\n",
    "        row2 = jnp.arange(0, self.model_dimension, 1)\n",
    "        pos2 = zeros + row2\n",
    "        j = pos2 // 2\n",
    "        denom = 1/(10000 ** ((2*j)/self.model_dimension))\n",
    "        inp = pos_matrix * denom\n",
    "        pi2j = jnp.sin(inp)\n",
    "        pi2j1 = jnp.cos(inp)\n",
    "        zeros = zeros.at[:, 0::2].set(pi2j[:, ::2])\n",
    "        zeros = zeros.at[:, 1::2].set(pi2j1[:, 1: :2])\n",
    "        self.encodings = zeros\n",
    "        \n",
    "    def __call__(self, x):\n",
    "        return x + self.encodings"
   ]
  },
  {
   "cell_type": "code",
   "execution_count": 21,
   "id": "2a55c26a",
   "metadata": {},
   "outputs": [],
   "source": [
    "class ScaledDotProduct(nn.Module):\n",
    "    dk : int \n",
    "\n",
    "    def setup(self):\n",
    "        self.W = nn.Dense(features=3*self.dk)\n",
    "\n",
    "    def __call__(self, x):\n",
    "        qkv = self.W(x)\n",
    "        q,k,v = jnp.split(qkv, 3, axis=-1)\n",
    "        weights = jnp.einsum('b t c, b T c -> b t T', q, k) / math.sqrt(self.dk)\n",
    "        size = weights.shape[-1]\n",
    "        mask = jnp.tril(jnp.ones((size, size)))\n",
    "        logits = jnp.where(mask == 0, -9e15, weights)\n",
    "        attention = nn.softmax(logits, axis=-1)\n",
    "        values = jnp.einsum('b t T, b T c -> b t c', attention, v)\n",
    "        return values"
   ]
  },
  {
   "cell_type": "code",
   "execution_count": 24,
   "id": "b65c4b89",
   "metadata": {},
   "outputs": [],
   "source": [
    "class MultiHeadAttention(nn.Module):\n",
    "    n_heads :int \n",
    "    model_dim : int\n",
    "\n",
    "    def setup(self):\n",
    "        self.dk = self.model_dim / self.n_heads\n",
    "        self.SA_layers = [ScaledDotProduct(self.dk) for i in range(self.n_heads)]\n",
    "        self.WO = nn.Dense(features=self.model_dim)\n",
    "\n",
    "    def __call__(self, x):\n",
    "        scores = [layer(x) for layer in self.SA_layers] \n",
    "        mha = jnp.concatenate(scores, axis=-1)\n",
    "        res = self.WO(mha)\n",
    "        return res"
   ]
  },
  {
   "cell_type": "code",
   "execution_count": null,
   "id": "a298577c",
   "metadata": {},
   "outputs": [],
   "source": [
    "#fix this\n",
    "class LayerNorm(nn.Module):\n",
    "    model_dimension : int\n",
    "    gamma_init : Callable = nn.initializers.lecun_normal()\n",
    "    beta_init : Callable = nn.initializers.lecun_normal()\n",
    "\n",
    "    def setup(self):\n",
    "        self.rng = jax.random.PRNGKey(42)\n",
    "        self.gamma = self.param('gamma', self.gamma_init, self.model_dimension)\n",
    "        self.beta = self.param('beta',self.beta_init, self.model_dimension)\n",
    "        self.eps = 1e-05\n",
    "    \n",
    "    def __call__(self, x):\n",
    "        mean = jnp.mean(x, axis=-1, keepdims=True)\n",
    "        var = jnp.var(x, axis=-1, keepdims=True)\n",
    "        norm = ((x - mean)/jnp.sqrt(var + self.eps))\n",
    "        y = jnp.einsum('B T C, C -> B T C', norm, self.gamma) + self.beta[None, None, :]\n",
    "        \n",
    "        return y"
   ]
  },
  {
   "cell_type": "code",
   "execution_count": 10,
   "id": "d88b9ea2",
   "metadata": {},
   "outputs": [],
   "source": [
    "class FeedForward(nn.Module):\n",
    "    model_dimension : int\n",
    "    ff_dim : int\n",
    "    dropout : float\n",
    "\n",
    "    def setup(self):\n",
    "        self.linear1 = nn.Dense(features=self.ff_dim)\n",
    "        self.linear2 = nn.Dense(features=self.model_dimension) \n",
    "    \n",
    "    def __call__(self, x):\n",
    "        x = self.linear1(x)\n",
    "        x = nn.relu(x)\n",
    "        x = self.linear2(x)\n",
    "        x = nn.relu(x)\n",
    "        return x"
   ]
  },
  {
   "cell_type": "code",
   "execution_count": 14,
   "id": "f3ca4161",
   "metadata": {},
   "outputs": [],
   "source": [
    "class Block(nn.Module):\n",
    "    model_dimension : int\n",
    "    n_heads : int\n",
    "    dropount : float\n",
    "    \n",
    "    def setup(self):\n",
    "        self.attention = MultiHeadAttention(model_dim=self.model_dimension, n_heads=self.n_heads)\n",
    "        self.norm1 = LayerNorm(model_dimension=self.model_dimension)\n",
    "        self.norm2 = LayerNorm(model_dimension=self.model_dimension)\n",
    "        self.feedForward = FeedForward(model_dimension=self.model_dimension, ff_dim=4*self.model_dimension, dropout=self.dropout)\n",
    "    \n",
    "    def __call__(self, x):\n",
    "        x = self.norm1(x + self.attention(x))\n",
    "        x = self.norm2(x + self.feedForward(x))\n",
    "        return x"
   ]
  },
  {
   "cell_type": "code",
   "execution_count": 15,
   "id": "62dc13eb",
   "metadata": {},
   "outputs": [],
   "source": [
    "class Decoder(nn.Module):\n",
    "    model_dimension : int\n",
    "    n_heads : int\n",
    "    seq_len : int\n",
    "    vocab_size : int\n",
    "    dropout : float\n",
    "    blocks : int\n",
    "\n",
    "    def setup(self):\n",
    "        self.embeddingTable = Embeddings(model_dimension=self.model_dimension, vocab_size=self.vocab_size)\n",
    "        self.Blocks = [Block(model_dimension=self.model_dimension, n_heads=self.n_heads, dropount=self.dropout) for i in range(self.blocks)]\n",
    "        self.encodings = PositionalEncoding(model_dimension=self.model_dimension, seq_len=self.seq_len)\n",
    "        self.linear = nn.Dense(features=self.vocab_size)\n",
    "\n",
    "    def __call__(self, x):\n",
    "        #B,T\n",
    "        x = self.embeddingTable(x) #B,T,C\n",
    "        x = self.encodings(x) \n",
    "        x = [Block(x) for Block in self.blocks]\n",
    "        x = self.linear(x)\n",
    "        result = nn.softmax(x, axis=-1)\n",
    "        return result"
   ]
  },
  {
   "cell_type": "code",
   "execution_count": null,
   "id": "4b4f5e9f",
   "metadata": {},
   "outputs": [],
   "source": []
  }
 ],
 "metadata": {
  "kernelspec": {
   "display_name": "jax_intro",
   "language": "python",
   "name": "python3"
  },
  "language_info": {
   "codemirror_mode": {
    "name": "ipython",
    "version": 3
   },
   "file_extension": ".py",
   "mimetype": "text/x-python",
   "name": "python",
   "nbconvert_exporter": "python",
   "pygments_lexer": "ipython3",
   "version": "3.11.12"
  }
 },
 "nbformat": 4,
 "nbformat_minor": 5
}
