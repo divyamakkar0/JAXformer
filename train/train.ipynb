{
 "cells": [
  {
   "cell_type": "code",
   "execution_count": 25,
   "id": "39f87246",
   "metadata": {},
   "outputs": [],
   "source": [
    "import jax\n",
    "import jax.numpy as jnp\n",
    "from jax import random\n",
    "import math\n",
    "from typing import Callable\n",
    "from einops import rearrange"
   ]
  },
  {
   "cell_type": "code",
   "execution_count": 27,
   "id": "3bce4022",
   "metadata": {},
   "outputs": [],
   "source": [
    "try:\n",
    "    import flax\n",
    "except ModuleNotFoundError: # Install flax if missing\n",
    "    !pip install --quiet flax\n",
    "    import flax\n",
    "\n",
    "from flax import linen as nn"
   ]
  },
  {
   "cell_type": "code",
   "execution_count": 28,
   "id": "c848a9ba",
   "metadata": {},
   "outputs": [
    {
     "data": {
      "text/plain": [
       "(4, 8, 32)"
      ]
     },
     "execution_count": 28,
     "metadata": {},
     "output_type": "execute_result"
    }
   ],
   "source": [
    "rng = jax.random.PRNGKey(1)\n",
    "rng, inp_rng, init_rng = jax.random.split(rng, 3)\n",
    "\n",
    "B = 4\n",
    "T = 8\n",
    "C = 32\n",
    "# inp = jax.random.randint(inp_rng, (B, T), 0, 256)  # Batch size 8, input size 2\n",
    "inp = jax.random.normal(inp_rng, (B, T, C)) \n",
    "inp.shape"
   ]
  },
  {
   "cell_type": "code",
   "execution_count": 29,
   "id": "7c8b4dca",
   "metadata": {},
   "outputs": [],
   "source": [
    "class FeedForward(nn.Module):\n",
    "    model_dimension : int\n",
    "    ff_dim : int\n",
    "    dropout : float\n",
    "\n",
    "    def setup(self):\n",
    "        self.linear1 = nn.Dense(features=self.ff_dim)\n",
    "        self.linear2 = nn.Dense(features=self.model_dimension)\n",
    "        self.dropout_layer = nn.Dropout(rate=self.dropout) \n",
    "    \n",
    "    def __call__(self, x, train: bool = True):\n",
    "        x = self.linear1(x)\n",
    "        x = nn.relu(x)\n",
    "        x = self.dropout_layer(x, deterministic=not train)\n",
    "        x = self.linear2(x)\n",
    "        return x"
   ]
  },
  {
   "cell_type": "code",
   "execution_count": 30,
   "id": "b4e9d381",
   "metadata": {},
   "outputs": [],
   "source": [
    "class NoisyKGate(nn.Module):\n",
    "    model_dimension : int\n",
    "    n_experts : int\n",
    "    k : int\n",
    "\n",
    "    def setup(self):\n",
    "        self.rng = jax.random.PRNGKey(42)\n",
    "        self.Wg = nn.Dense(features=self.n_experts)\n",
    "        self.Wnoise = nn.Dense(features=self.n_experts)\n",
    "    \n",
    "    def top(self, x):\n",
    "        k = self.k\n",
    "        y,i = jax.lax.top_k(x, k)\n",
    "        y = nn.softmax(y)\n",
    "        return y, i\n",
    "    \n",
    "    def __call__(self, x):\n",
    "        b = x.shape[0]\n",
    "        t = x.shape[1]\n",
    "        Hx = self.Wg(x) + ((jax.random.normal(self.rng, shape=(b, t, self.n_experts))) * nn.softplus(self.Wnoise(x)))\n",
    "        g_scores, indices = jnp.apply_along_axis(func1d=self.top, axis=-1, arr=Hx)\n",
    "        return g_scores, indices"
   ]
  },
  {
   "cell_type": "code",
   "execution_count": 110,
   "id": "dba8df60",
   "metadata": {},
   "outputs": [],
   "source": [
    "class MoE(nn.Module):\n",
    "    model_dimension : int\n",
    "    n_experts : int\n",
    "    k : int\n",
    "    dropout : float\n",
    "    \n",
    "    def setup(self):\n",
    "        self.experts = [FeedForward(model_dimension=self.model_dimension, ff_dim=4*self.model_dimension, dropout=self.dropout) for i in range(self.n_experts)]\n",
    "        self.gate = NoisyKGate(model_dimension=self.model_dimension, n_experts=self.n_experts, k=self.k)\n",
    "\n",
    "    def get_gScores(self, scores, indices, x, train=True):\n",
    "        \n",
    "\n",
    "        expert_lambda = [lambda mdl, x: mdl.experts[i](x) for i in range(self.n_experts)] \n",
    "\n",
    "        if self.is_mutable_collection('params'):\n",
    "            for expert_ffn in expert_lambda: \n",
    "                _ = expert_ffn(self, x) \n",
    "                \n",
    "        expert_fn = lambda j, experts, x : nn.switch(j, expert_lambda, self, x)\n",
    "        expert_parallel = jax.vmap(fun=expert_fn, in_axes=(0, None, None), out_axes=(0)) \n",
    "\n",
    "        expert_scores = expert_parallel(indices, self.experts, x) # (K) -> (K, C)\n",
    "        gScore = scores[:, None] * expert_scores #(K, 1), (K, C) -> (K, C)\n",
    "        gScore = jnp.sum(gScore, axis=0) #(K, C) -> C\n",
    "\n",
    "        return gScore\n",
    "    \n",
    "    def __call__(self, x):\n",
    "        s, i = self.gate(x)\n",
    "        gscore_parallel = jax.vmap(fun=jax.vmap(fun=self.get_gScores, in_axes=(0,0,0), out_axes=(0)), in_axes=(0,0,0), out_axes=(0))\n",
    "        res = gscore_parallel(s, i, x)\n",
    "        return res"
   ]
  },
  {
   "cell_type": "code",
   "execution_count": 107,
   "id": "b9b85bda",
   "metadata": {},
   "outputs": [
    {
     "name": "stdout",
     "output_type": "stream",
     "text": [
      "MoE(\n",
      "    # attributes\n",
      "    model_dimension = 32\n",
      "    n_experts = 8\n",
      "    k = 2\n",
      "    dropout = 0.2\n",
      ")\n"
     ]
    }
   ],
   "source": [
    "model = MoE(model_dimension=C, n_experts=8, k=2, dropout=0.2)\n",
    "print(model)"
   ]
  },
  {
   "cell_type": "code",
   "execution_count": 109,
   "id": "39d23f2a",
   "metadata": {},
   "outputs": [
    {
     "name": "stdout",
     "output_type": "stream",
     "text": [
      "7\n",
      "8880\n",
      "(4, 8, 32)\n"
     ]
    }
   ],
   "source": [
    "# Initialize the model\n",
    "params = model.init(init_rng, inp)\n",
    "\n",
    "print(jax.tree.reduce(lambda acc, p: acc + p.size, jax.tree.leaves(params), 0))\n",
    "print(inp.shape)\n"
   ]
  },
  {
   "cell_type": "code",
   "execution_count": 102,
   "id": "7212e1db",
   "metadata": {},
   "outputs": [
    {
     "name": "stdout",
     "output_type": "stream",
     "text": [
      "[[[-0.24392003  0.12287012 -0.7633101  ... -0.11720864 -1.5185605\n",
      "    1.5217804 ]\n",
      "  [-0.84688747  0.30684185 -0.07057513 ... -0.9426277  -0.38939518\n",
      "   -0.7442158 ]\n",
      "  [-0.81580335  0.13533224  0.6767916  ...  0.50519985 -0.9484449\n",
      "   -0.61324644]\n",
      "  ...\n",
      "  [-0.9497825   0.5360208   1.7091829  ... -1.7208983   1.242111\n",
      "   -0.47621638]\n",
      "  [ 0.46530464 -0.7567534  -1.0421433  ...  1.1826577  -0.56831634\n",
      "   -0.29065755]\n",
      "  [ 1.9868064   0.9201935  -0.22226302 ...  2.0525253  -0.37513527\n",
      "    1.0895865 ]]\n",
      "\n",
      " [[-1.2303954  -2.248714    1.058285   ... -0.1294223  -0.77748317\n",
      "    2.0040932 ]\n",
      "  [ 0.15732075  1.1365863   0.08460022 ... -0.66197455 -1.0347629\n",
      "   -1.2902288 ]\n",
      "  [-1.5851781  -0.7893366  -0.96769536 ...  0.7012614  -1.1963965\n",
      "   -1.5259213 ]\n",
      "  ...\n",
      "  [ 0.9598219  -0.97783214 -1.4395024  ...  0.39721426  2.2276711\n",
      "   -0.61668503]\n",
      "  [ 0.6563103   0.52220154 -0.5418465  ... -0.67837745  2.0536146\n",
      "   -0.17622429]\n",
      "  [-0.9547713   0.03570899 -0.00437756 ... -2.0016026   0.79181325\n",
      "    0.22056514]]\n",
      "\n",
      " [[ 0.38946077  0.43988717  0.6272792  ...  0.3706966   1.5039963\n",
      "    0.30535504]\n",
      "  [ 0.05694043  0.57511425  0.43372685 ...  0.64617467 -0.24753565\n",
      "   -0.16289574]\n",
      "  [ 1.5535067  -1.3908391  -1.485158   ...  0.34347436  1.1370847\n",
      "    0.786977  ]\n",
      "  ...\n",
      "  [-0.24457483  0.14173482  0.1262381  ...  1.12825    -0.04643008\n",
      "   -1.7699564 ]\n",
      "  [-0.16331907 -0.7196883   2.3663285  ... -0.6672152  -0.15171768\n",
      "   -0.6161268 ]\n",
      "  [-0.05521731  0.54097205  0.38966867 ...  0.21882184  0.36732456\n",
      "   -0.98892343]]\n",
      "\n",
      " [[ 0.40293264  1.0797777   2.38417    ...  0.5352101   0.5007003\n",
      "    0.7385681 ]\n",
      "  [ 0.44127804  1.6090097  -1.6696558  ...  1.1511514   0.08677159\n",
      "    0.16761662]\n",
      "  [ 0.18691817  0.59443504  0.6177676  ...  1.7697927  -0.8771765\n",
      "    0.15985587]\n",
      "  ...\n",
      "  [-0.17721921 -0.23840514  1.4676172  ...  0.05246827 -1.3773413\n",
      "    0.46089327]\n",
      "  [ 2.1469548   1.4361719   1.5441043  ...  1.0454704   0.8149157\n",
      "    0.43066108]\n",
      "  [-1.472562    0.6814707   0.12309172 ... -1.0740819  -0.30973178\n",
      "   -0.11728416]]]\n"
     ]
    }
   ],
   "source": [
    "print(inp)"
   ]
  },
  {
   "cell_type": "code",
   "execution_count": 36,
   "id": "8d019763",
   "metadata": {},
   "outputs": [
    {
     "ename": "AttributeError",
     "evalue": "'tuple' object has no attribute 'shape'",
     "output_type": "error",
     "traceback": [
      "\u001b[31m---------------------------------------------------------------------------\u001b[39m",
      "\u001b[31mAttributeError\u001b[39m                            Traceback (most recent call last)",
      "\u001b[36mCell\u001b[39m\u001b[36m \u001b[39m\u001b[32mIn[36]\u001b[39m\u001b[32m, line 1\u001b[39m\n\u001b[32m----> \u001b[39m\u001b[32m1\u001b[39m \u001b[43mmodel\u001b[49m\u001b[43m.\u001b[49m\u001b[43mapply\u001b[49m\u001b[43m(\u001b[49m\u001b[43mparams\u001b[49m\u001b[43m,\u001b[49m\u001b[43m \u001b[49m\u001b[43minp\u001b[49m\u001b[43m)\u001b[49m\u001b[43m.\u001b[49m\u001b[43mshape\u001b[49m\n",
      "\u001b[31mAttributeError\u001b[39m: 'tuple' object has no attribute 'shape'"
     ]
    }
   ],
   "source": [
    "model.apply(params, inp).shape\n"
   ]
  },
  {
   "cell_type": "code",
   "execution_count": 24,
   "id": "efea19b2",
   "metadata": {},
   "outputs": [
    {
     "ename": "AttributeError",
     "evalue": "\"FeedForward\" object has no attribute \"linear1\". If \"linear1\" is defined in '.setup()', remember these fields are only accessible from inside 'init' or 'apply'.",
     "output_type": "error",
     "traceback": [
      "\u001b[31m---------------------------------------------------------------------------\u001b[39m",
      "\u001b[31mAttributeError\u001b[39m                            Traceback (most recent call last)",
      "\u001b[36mCell\u001b[39m\u001b[36m \u001b[39m\u001b[32mIn[24]\u001b[39m\u001b[32m, line 13\u001b[39m\n\u001b[32m     11\u001b[39m \u001b[38;5;66;03m# expert_fn = lambda j : experts[j](inp, train=True) # (C) -> (C)\u001b[39;00m\n\u001b[32m     12\u001b[39m expert_parallel = jax.vmap(fun=expert_fn, in_axes=(\u001b[32m0\u001b[39m), out_axes=(\u001b[32m0\u001b[39m)) \n\u001b[32m---> \u001b[39m\u001b[32m13\u001b[39m expert_dims = \u001b[43mexpert_parallel\u001b[49m\u001b[43m(\u001b[49m\u001b[43mi\u001b[49m\u001b[43m[\u001b[49m\u001b[32;43m0\u001b[39;49m\u001b[43m]\u001b[49m\u001b[43m[\u001b[49m\u001b[32;43m0\u001b[39;49m\u001b[43m]\u001b[49m\u001b[43m)\u001b[49m \u001b[38;5;66;03m# (K) -> (K, C)\u001b[39;00m\n\u001b[32m     14\u001b[39m expert_dims\n\u001b[32m     15\u001b[39m \u001b[38;5;66;03m# gscore = scores[:, None] * experts #(K, 1), (K, C) -> (K, C)\u001b[39;00m\n\u001b[32m     16\u001b[39m \u001b[38;5;66;03m# gscore = jnp.sum(gscore, axis=0) #(K, C) -> C\u001b[39;00m\n",
      "    \u001b[31m[... skipping hidden 7 frame]\u001b[39m\n",
      "\u001b[36mCell\u001b[39m\u001b[36m \u001b[39m\u001b[32mIn[24]\u001b[39m\u001b[32m, line 8\u001b[39m, in \u001b[36mexpert_fn\u001b[39m\u001b[34m(j)\u001b[39m\n\u001b[32m      7\u001b[39m \u001b[38;5;28;01mdef\u001b[39;00m\u001b[38;5;250m \u001b[39m\u001b[34mexpert_fn\u001b[39m(j):\n\u001b[32m----> \u001b[39m\u001b[32m8\u001b[39m     \u001b[43mjax\u001b[49m\u001b[43m.\u001b[49m\u001b[43mlax\u001b[49m\u001b[43m.\u001b[49m\u001b[43mswitch\u001b[49m\u001b[43m(\u001b[49m\u001b[43mj\u001b[49m\u001b[43m,\u001b[49m\u001b[43m \u001b[49m\u001b[43mexperts\u001b[49m\u001b[43m,\u001b[49m\u001b[43m \u001b[49m\u001b[43minp\u001b[49m\u001b[43m)\u001b[49m\n",
      "    \u001b[31m[... skipping hidden 12 frame]\u001b[39m\n",
      "\u001b[36mCell\u001b[39m\u001b[36m \u001b[39m\u001b[32mIn[4]\u001b[39m\u001b[32m, line 12\u001b[39m, in \u001b[36mFeedForward.__call__\u001b[39m\u001b[34m(self, x, train)\u001b[39m\n\u001b[32m     11\u001b[39m \u001b[38;5;28;01mdef\u001b[39;00m\u001b[38;5;250m \u001b[39m\u001b[34m__call__\u001b[39m(\u001b[38;5;28mself\u001b[39m, x, train: \u001b[38;5;28mbool\u001b[39m = \u001b[38;5;28;01mTrue\u001b[39;00m):\n\u001b[32m---> \u001b[39m\u001b[32m12\u001b[39m     x = \u001b[38;5;28;43mself\u001b[39;49m\u001b[43m.\u001b[49m\u001b[43mlinear1\u001b[49m(x)\n\u001b[32m     13\u001b[39m     x = nn.relu(x)\n\u001b[32m     14\u001b[39m     x = \u001b[38;5;28mself\u001b[39m.dropout_layer(x, deterministic=\u001b[38;5;129;01mnot\u001b[39;00m train)\n",
      "\u001b[36mFile \u001b[39m\u001b[32m/opt/miniconda3/envs/jax_intro/lib/python3.11/site-packages/flax/linen/module.py:1314\u001b[39m, in \u001b[36mModule.__getattr__\u001b[39m\u001b[34m(self, name)\u001b[39m\n\u001b[32m   1309\u001b[39m \u001b[38;5;28;01mif\u001b[39;00m \u001b[38;5;28mself\u001b[39m.scope \u001b[38;5;129;01mis\u001b[39;00m \u001b[38;5;28;01mNone\u001b[39;00m:\n\u001b[32m   1310\u001b[39m   msg += (\n\u001b[32m   1311\u001b[39m     \u001b[33mf\u001b[39m\u001b[33m'\u001b[39m\u001b[33m If \u001b[39m\u001b[33m\"\u001b[39m\u001b[38;5;132;01m{\u001b[39;00mname\u001b[38;5;132;01m}\u001b[39;00m\u001b[33m\"\u001b[39m\u001b[33m is defined in \u001b[39m\u001b[38;5;130;01m\\'\u001b[39;00m\u001b[33m.setup()\u001b[39m\u001b[38;5;130;01m\\'\u001b[39;00m\u001b[33m, remember these fields \u001b[39m\u001b[33m'\u001b[39m\n\u001b[32m   1312\u001b[39m     \u001b[33m\"\u001b[39m\u001b[33mare only accessible from inside \u001b[39m\u001b[33m'\u001b[39m\u001b[33minit\u001b[39m\u001b[33m'\u001b[39m\u001b[33m or \u001b[39m\u001b[33m'\u001b[39m\u001b[33mapply\u001b[39m\u001b[33m'\u001b[39m\u001b[33m.\u001b[39m\u001b[33m\"\u001b[39m\n\u001b[32m   1313\u001b[39m   )\n\u001b[32m-> \u001b[39m\u001b[32m1314\u001b[39m \u001b[38;5;28;01mraise\u001b[39;00m \u001b[38;5;167;01mAttributeError\u001b[39;00m(msg)\n",
      "\u001b[31mAttributeError\u001b[39m: \"FeedForward\" object has no attribute \"linear1\". If \"linear1\" is defined in '.setup()', remember these fields are only accessible from inside 'init' or 'apply'."
     ]
    }
   ],
   "source": [
    "n_experts = 8\n",
    "model_dim = 32\n",
    "dropout = 0.2\n",
    "\n",
    "experts = [FeedForward(model_dimension=model_dim, ff_dim=4*model_dim, dropout=dropout) for i in range(n_experts)]\n",
    "\n",
    "def expert_fn(j):\n",
    "    jax.lax.switch(j, experts, inp)\n",
    "    \n",
    "\n",
    "# expert_fn = lambda j : experts[j](inp, train=True) # (C) -> (C)\n",
    "expert_parallel = jax.vmap(fun=expert_fn, in_axes=(0), out_axes=(0)) \n",
    "expert_dims = expert_parallel(i[0][0]) # (K) -> (K, C)\n",
    "expert_dims\n",
    "# gscore = scores[:, None] * experts #(K, 1), (K, C) -> (K, C)\n",
    "# gscore = jnp.sum(gscore, axis=0) #(K, C) -> C"
   ]
  },
  {
   "cell_type": "code",
   "execution_count": null,
   "id": "5ae0c9df",
   "metadata": {},
   "outputs": [],
   "source": []
  }
 ],
 "metadata": {
  "kernelspec": {
   "display_name": "jax_intro",
   "language": "python",
   "name": "python3"
  },
  "language_info": {
   "codemirror_mode": {
    "name": "ipython",
    "version": 3
   },
   "file_extension": ".py",
   "mimetype": "text/x-python",
   "name": "python",
   "nbconvert_exporter": "python",
   "pygments_lexer": "ipython3",
   "version": "3.11.12"
  }
 },
 "nbformat": 4,
 "nbformat_minor": 5
}
