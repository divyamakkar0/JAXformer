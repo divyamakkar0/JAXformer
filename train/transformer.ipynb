{
 "cells": [
  {
   "cell_type": "code",
   "execution_count": 1,
   "id": "39f87246",
   "metadata": {},
   "outputs": [],
   "source": [
    "import jax\n",
    "import jax.numpy as jnp\n",
    "from jax import random\n",
    "import math\n",
    "from typing import Callable\n",
    "from einops import rearrange"
   ]
  },
  {
   "cell_type": "code",
   "execution_count": 12,
   "id": "3bce4022",
   "metadata": {},
   "outputs": [],
   "source": [
    "try:\n",
    "    import flax\n",
    "except ModuleNotFoundError: # Install flax if missing\n",
    "    !pip install --quiet flax\n",
    "    import flax\n",
    "\n",
    "from flax import linen as nn"
   ]
  },
  {
   "cell_type": "code",
   "execution_count": 18,
   "id": "c848a9ba",
   "metadata": {},
   "outputs": [
    {
     "data": {
      "text/plain": [
       "(32, 64)"
      ]
     },
     "execution_count": 18,
     "metadata": {},
     "output_type": "execute_result"
    }
   ],
   "source": [
    "rng = jax.random.PRNGKey(1)\n",
    "rng, inp_rng, init_rng = jax.random.split(rng, 3)\n",
    "\n",
    "B = 32\n",
    "T = 64\n",
    "C = 512\n",
    "inp = jax.random.randint(inp_rng, (B, T), 0, 256)  # Batch size 8, input size 2\n",
    "inp.shape"
   ]
  },
  {
   "cell_type": "code",
   "execution_count": 19,
   "id": "b4e9d381",
   "metadata": {},
   "outputs": [],
   "source": [
    "class Embeddings(nn.Module):\n",
    "    model_dimension : int\n",
    "    vocab_size : int\n",
    "\n",
    "    def setup(self):\n",
    "        self.embedding = nn.Embed(num_embeddings=self.vocab_size, features=self.model_dimension)\n",
    "    \n",
    "    def __call__(self, x):\n",
    "        x = self.embedding(x) * math.sqrt(self.model_dimension)\n",
    "        return x"
   ]
  },
  {
   "cell_type": "code",
   "execution_count": null,
   "id": "41a3f976",
   "metadata": {},
   "outputs": [],
   "source": [
    "class LayerNorm(nn.Module):\n",
    "    model_dimension : int\n",
    "    gamma_init : Callable = nn.initializers.lecun_normal()\n",
    "    beta_init : Callable = nn.initializers.lecun_normal()\n",
    "\n",
    "    def setup(self):\n",
    "        self.gamma = self.param('gamma', self.gamma_init, (1, 1, self.model_dimension))\n",
    "        self.beta = self.param('beta',self.beta_init, (1, 1, self.model_dimension))\n",
    "        self.eps = 1e-05\n",
    "    \n",
    "    def __call__(self, x):\n",
    "        mean = jnp.mean(x, axis=-1, keepdims=True)\n",
    "        var = jnp.var(x, axis=-1, keepdims=True)\n",
    "        norm = ((x - mean)/jnp.sqrt(var + self.eps))\n",
    "        y = norm * self.gamma + self.beta\n",
    "        \n",
    "        return y"
   ]
  },
  {
   "cell_type": "code",
   "execution_count": 20,
   "id": "b9b85bda",
   "metadata": {},
   "outputs": [
    {
     "name": "stdout",
     "output_type": "stream",
     "text": [
      "Embeddings(\n",
      "    # attributes\n",
      "    model_dimension = 512\n",
      "    vocab_size = 256\n",
      ")\n"
     ]
    }
   ],
   "source": [
    "model = Embeddings(model_dimension=C, vocab_size=256)\n",
    "print(model)"
   ]
  },
  {
   "cell_type": "code",
   "execution_count": 21,
   "id": "39d23f2a",
   "metadata": {},
   "outputs": [
    {
     "name": "stdout",
     "output_type": "stream",
     "text": [
      "{'params': {'embedding': {'embedding': Array([[ 0.0180604 ,  0.00516129, -0.03475013, ..., -0.01153203,\n",
      "        -0.07170662,  0.04004765],\n",
      "       [ 0.05600861, -0.04859962,  0.0012374 , ...,  0.01420904,\n",
      "        -0.02650646, -0.04624134],\n",
      "       [ 0.01814407,  0.02494509,  0.06067709, ..., -0.00804305,\n",
      "         0.01008524, -0.03755622],\n",
      "       ...,\n",
      "       [-0.03716417, -0.03236735,  0.06689288, ..., -0.01243117,\n",
      "         0.04572471,  0.04765891],\n",
      "       [-0.05248969,  0.07601349,  0.02349232, ..., -0.01345753,\n",
      "        -0.08337483,  0.02151756],\n",
      "       [-0.03665387,  0.04299542, -0.01967484, ..., -0.01788876,\n",
      "        -0.01530913,  0.00988401]], dtype=float32)}}}\n"
     ]
    }
   ],
   "source": [
    "# Initialize the model\n",
    "params = model.init(init_rng, inp)\n",
    "print(params)"
   ]
  },
  {
   "cell_type": "code",
   "execution_count": 24,
   "id": "8d019763",
   "metadata": {},
   "outputs": [
    {
     "data": {
      "text/plain": [
       "(32, 64, 512)"
      ]
     },
     "execution_count": 24,
     "metadata": {},
     "output_type": "execute_result"
    }
   ],
   "source": [
    "res = model.apply(params, inp)\n",
    "res.shape"
   ]
  }
 ],
 "metadata": {
  "kernelspec": {
   "display_name": "jax_intro",
   "language": "python",
   "name": "python3"
  },
  "language_info": {
   "codemirror_mode": {
    "name": "ipython",
    "version": 3
   },
   "file_extension": ".py",
   "mimetype": "text/x-python",
   "name": "python",
   "nbconvert_exporter": "python",
   "pygments_lexer": "ipython3",
   "version": "3.11.12"
  }
 },
 "nbformat": 4,
 "nbformat_minor": 5
}
