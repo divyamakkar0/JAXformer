{
 "cells": [
  {
   "cell_type": "code",
   "execution_count": 22,
   "id": "7f26e597",
   "metadata": {},
   "outputs": [],
   "source": [
    "import jax\n",
    "import jax.numpy as jnp\n",
    "from jax import random\n",
    "import math\n",
    "from typing import Callable\n",
    "import os\n",
    "import orbax.checkpoint\n",
    "import optax\n",
    "os.environ[\"XLA_FLAGS\"] = '--xla_force_host_platform_device_count=8'\n"
   ]
  },
  {
   "cell_type": "code",
   "execution_count": 9,
   "id": "b0856f73",
   "metadata": {},
   "outputs": [],
   "source": [
    "try:\n",
    "    import flax\n",
    "except ModuleNotFoundError:  # Install flax if missing\n",
    "    !pip install --quiet flax\n",
    "    import flax\n",
    "\n",
    "from flax import linen as nn"
   ]
  },
  {
   "cell_type": "code",
   "execution_count": 10,
   "id": "88cc7433",
   "metadata": {},
   "outputs": [],
   "source": [
    "rng = jax.random.PRNGKey(42)"
   ]
  },
  {
   "cell_type": "code",
   "execution_count": 17,
   "id": "a0f9bd11",
   "metadata": {},
   "outputs": [],
   "source": [
    "class SimpleClassifier(nn.Module):\n",
    "    num_hidden: int  # Number of hidden neurons\n",
    "    num_outputs: int  # Number of output neurons\n",
    "\n",
    "    def setup(self):\n",
    "        # Create the modules we need to build the network\n",
    "        # nn.Dense is a linear layer\n",
    "        self.linear1 = nn.Dense(features=self.num_hidden)\n",
    "        self.linear2 = nn.Dense(features=self.num_outputs)\n",
    "\n",
    "    def __call__(self, x):\n",
    "        # Perform the calculation of the model to determine the prediction\n",
    "        x = self.linear1(x)\n",
    "        x = nn.tanh(x)\n",
    "        x = self.linear2(x)\n",
    "        return x"
   ]
  },
  {
   "cell_type": "code",
   "execution_count": 18,
   "id": "cb8af482",
   "metadata": {},
   "outputs": [
    {
     "name": "stdout",
     "output_type": "stream",
     "text": [
      "SimpleClassifier(\n",
      "    # attributes\n",
      "    num_hidden = 8\n",
      "    num_outputs = 1\n",
      ")\n"
     ]
    }
   ],
   "source": [
    "model = SimpleClassifier(num_hidden=8, num_outputs=1)\n",
    "# Printing the model shows its attributes\n",
    "print(model)"
   ]
  },
  {
   "cell_type": "code",
   "execution_count": 19,
   "id": "d841442f",
   "metadata": {},
   "outputs": [
    {
     "name": "stdout",
     "output_type": "stream",
     "text": [
      "[[-0.21089035 -1.3627948 ]\n",
      " [-0.04500385 -1.1536394 ]\n",
      " [ 1.9141139  -0.47701314]\n",
      " [ 0.6478766   0.6747401 ]\n",
      " [ 2.9508727  -0.8744793 ]\n",
      " [ 1.3046614  -0.525778  ]\n",
      " [ 0.5039801   1.0394477 ]\n",
      " [-0.16569884 -0.4633415 ]]\n"
     ]
    }
   ],
   "source": [
    "rng, inp_rng, init_rng = jax.random.split(rng, 3)\n",
    "inp = jax.random.normal(inp_rng, (8, 2))  # Batch size 8, input size 2\n",
    "# Initialize the model\n",
    "params = model.init(init_rng, inp)\n",
    "print(inp)"
   ]
  },
  {
   "cell_type": "code",
   "execution_count": 20,
   "id": "3c90ddee",
   "metadata": {},
   "outputs": [
    {
     "data": {
      "text/plain": [
       "Array([[-0.15102524],\n",
       "       [-0.24684235],\n",
       "       [-1.0363195 ],\n",
       "       [-0.4635623 ],\n",
       "       [-1.1413009 ],\n",
       "       [-0.9482199 ],\n",
       "       [-0.27979338],\n",
       "       [ 0.10091412]], dtype=float32)"
      ]
     },
     "execution_count": 20,
     "metadata": {},
     "output_type": "execute_result"
    }
   ],
   "source": [
    "model.apply(params, inp)"
   ]
  },
  {
   "cell_type": "code",
   "execution_count": 21,
   "id": "e04e37b4",
   "metadata": {},
   "outputs": [
    {
     "data": {
      "text/plain": [
       "{'params': {'linear1': {'kernel': Array([[ 0.9349091 , -0.6829195 ,  1.1437343 , -0.00761674,  0.708436  ,\n",
       "            0.43199268,  0.3907109 ,  0.2719054 ],\n",
       "          [-1.3076503 ,  0.7088574 ,  0.01150007, -0.22155732, -0.4058151 ,\n",
       "            0.738009  ,  0.26554996, -0.18983054]], dtype=float32),\n",
       "   'bias': Array([0., 0., 0., 0., 0., 0., 0., 0.], dtype=float32)},\n",
       "  'linear2': {'kernel': Array([[ 0.5661024 ],\n",
       "          [ 0.45534813],\n",
       "          [-0.55111575],\n",
       "          [-0.4596257 ],\n",
       "          [-0.7046358 ],\n",
       "          [ 0.16724774],\n",
       "          [-0.0724616 ],\n",
       "          [ 0.03341391]], dtype=float32),\n",
       "   'bias': Array([0.], dtype=float32)}}}"
      ]
     },
     "execution_count": 21,
     "metadata": {},
     "output_type": "execute_result"
    }
   ],
   "source": [
    "params"
   ]
  },
  {
   "cell_type": "code",
   "execution_count": 23,
   "id": "72031a38",
   "metadata": {},
   "outputs": [],
   "source": [
    "ckpt_dir = '/tmp/flax_ckpt'\n",
    "\n",
    "if os.path.exists(ckpt_dir):\n",
    "    shutil.rmtree(ckpt_dir)  "
   ]
  },
  {
   "cell_type": "code",
   "execution_count": null,
   "id": "77a7dcc8",
   "metadata": {},
   "outputs": [],
   "source": []
  }
 ],
 "metadata": {
  "kernelspec": {
   "display_name": "jax_intro",
   "language": "python",
   "name": "python3"
  },
  "language_info": {
   "codemirror_mode": {
    "name": "ipython",
    "version": 3
   },
   "file_extension": ".py",
   "mimetype": "text/x-python",
   "name": "python",
   "nbconvert_exporter": "python",
   "pygments_lexer": "ipython3",
   "version": "3.11.12"
  }
 },
 "nbformat": 4,
 "nbformat_minor": 5
}
