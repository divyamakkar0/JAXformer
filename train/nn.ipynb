{
 "cells": [
  {
   "cell_type": "code",
   "execution_count": 14,
   "id": "7f26e597",
   "metadata": {},
   "outputs": [],
   "source": [
    "import jax\n",
    "import jax.numpy as jnp\n",
    "from jax import random\n",
    "import math\n",
    "from typing import Callable\n",
    "import os\n",
    "import orbax.checkpoint\n",
    "import optax\n",
    "os.environ[\"XLA_FLAGS\"] = '--xla_force_host_platform_device_count=8'\n"
   ]
  },
  {
   "cell_type": "code",
   "execution_count": 15,
   "id": "b0856f73",
   "metadata": {},
   "outputs": [],
   "source": [
    "try:\n",
    "    import flax\n",
    "except ModuleNotFoundError:  # Install flax if missing\n",
    "    !pip install --quiet flax\n",
    "    import flax\n",
    "\n",
    "from flax import linen as nn"
   ]
  },
  {
   "cell_type": "code",
   "execution_count": 16,
   "id": "88cc7433",
   "metadata": {},
   "outputs": [],
   "source": [
    "rng = jax.random.PRNGKey(42)"
   ]
  },
  {
   "cell_type": "code",
   "execution_count": 17,
   "id": "a0f9bd11",
   "metadata": {},
   "outputs": [],
   "source": [
    "class SimpleClassifier(nn.Module):\n",
    "    num_hidden: int  # Number of hidden neurons\n",
    "    num_outputs: int  # Number of output neurons\n",
    "\n",
    "    def setup(self):\n",
    "        # Create the modules we need to build the network\n",
    "        # nn.Dense is a linear layer\n",
    "        self.linear1 = nn.Dense(features=self.num_hidden)\n",
    "        self.linear2 = nn.Dense(features=self.num_outputs)\n",
    "\n",
    "    def __call__(self, x):\n",
    "        # Perform the calculation of the model to determine the prediction\n",
    "        x = self.linear1(x)\n",
    "        x = nn.tanh(x)\n",
    "        x = self.linear2(x)\n",
    "        return x"
   ]
  },
  {
   "cell_type": "code",
   "execution_count": 18,
   "id": "cb8af482",
   "metadata": {},
   "outputs": [
    {
     "name": "stdout",
     "output_type": "stream",
     "text": [
      "SimpleClassifier(\n",
      "    # attributes\n",
      "    num_hidden = 8\n",
      "    num_outputs = 1\n",
      ")\n"
     ]
    }
   ],
   "source": [
    "model = SimpleClassifier(num_hidden=8, num_outputs=1)\n",
    "# Printing the model shows its attributes\n",
    "print(model)"
   ]
  },
  {
   "cell_type": "code",
   "execution_count": 19,
   "id": "d841442f",
   "metadata": {},
   "outputs": [
    {
     "name": "stdout",
     "output_type": "stream",
     "text": [
      "[[ 0.60576403  0.7990441 ]\n",
      " [-0.908927   -0.63525754]\n",
      " [-1.2226585  -0.83226097]\n",
      " [-0.47417238 -1.2504351 ]\n",
      " [-0.17678244 -0.04917514]\n",
      " [-0.41177532 -0.39363015]\n",
      " [ 1.3116323   0.21555556]\n",
      " [ 0.41164538 -0.28955024]]\n"
     ]
    }
   ],
   "source": [
    "rng, inp_rng, init_rng = jax.random.split(rng, 3)\n",
    "inp = jax.random.normal(inp_rng, (8, 2))  # Batch size 8, input size 2\n",
    "# Initialize the model\n",
    "params = model.init(init_rng, inp)\n",
    "print(inp)"
   ]
  },
  {
   "cell_type": "code",
   "execution_count": 20,
   "id": "3c90ddee",
   "metadata": {},
   "outputs": [
    {
     "data": {
      "text/plain": [
       "dtype('float32')"
      ]
     },
     "execution_count": 20,
     "metadata": {},
     "output_type": "execute_result"
    }
   ],
   "source": [
    "res = model.apply(params, inp)\n",
    "res.dtype"
   ]
  },
  {
   "cell_type": "code",
   "execution_count": 22,
   "id": "c114b403",
   "metadata": {},
   "outputs": [
    {
     "data": {
      "text/plain": [
       "dtype(bfloat16)"
      ]
     },
     "execution_count": 22,
     "metadata": {},
     "output_type": "execute_result"
    }
   ],
   "source": [
    "res = jnp.asarray(res, dtype=jnp.bfloat16)\n",
    "res.dtype"
   ]
  },
  {
   "cell_type": "code",
   "execution_count": 8,
   "id": "e04e37b4",
   "metadata": {},
   "outputs": [
    {
     "data": {
      "text/plain": [
       "{'params': {'linear1': {'kernel': Array([[-1.4184448 , -0.13778795,  0.01538001, -0.16879076, -0.04171572,\n",
       "           -0.13396461,  1.3444221 ,  0.3372816 ],\n",
       "          [-0.88903946, -0.36091748, -0.41084424,  1.3910713 ,  1.4182491 ,\n",
       "           -0.68443036, -0.84274894,  1.0029515 ]], dtype=float32),\n",
       "   'bias': Array([0., 0., 0., 0., 0., 0., 0., 0.], dtype=float32)},\n",
       "  'linear2': {'kernel': Array([[ 0.06771415],\n",
       "          [ 0.3815392 ],\n",
       "          [-0.44763517],\n",
       "          [ 0.10989622],\n",
       "          [-0.12707736],\n",
       "          [ 0.03953529],\n",
       "          [-0.51339453],\n",
       "          [ 0.33707327]], dtype=float32),\n",
       "   'bias': Array([0.], dtype=float32)}}}"
      ]
     },
     "execution_count": 8,
     "metadata": {},
     "output_type": "execute_result"
    }
   ],
   "source": [
    "params"
   ]
  },
  {
   "cell_type": "code",
   "execution_count": null,
   "id": "72031a38",
   "metadata": {},
   "outputs": [],
   "source": [
    "\n",
    "if os.path.exists(ckpt_dir):\n",
    "    shutil.rmtree(ckpt_dir)  "
   ]
  },
  {
   "cell_type": "code",
   "execution_count": null,
   "id": "77a7dcc8",
   "metadata": {},
   "outputs": [],
   "source": []
  }
 ],
 "metadata": {
  "kernelspec": {
   "display_name": "jax_intro",
   "language": "python",
   "name": "python3"
  },
  "language_info": {
   "codemirror_mode": {
    "name": "ipython",
    "version": 3
   },
   "file_extension": ".py",
   "mimetype": "text/x-python",
   "name": "python",
   "nbconvert_exporter": "python",
   "pygments_lexer": "ipython3",
   "version": "3.11.12"
  }
 },
 "nbformat": 4,
 "nbformat_minor": 5
}
