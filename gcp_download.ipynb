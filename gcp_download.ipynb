{
 "cells": [
  {
   "cell_type": "code",
   "execution_count": 10,
   "id": "23e12f1e",
   "metadata": {},
   "outputs": [],
   "source": [
    "from google.cloud import storage\n",
    "import shutil\n",
    "import os\n",
    "\n",
    "bucket_name = \"10bt_gpt4\"\n",
    "source_blob_name = \"edufineweb_train_00000\"\n",
    "destination_file_name = \"./bucketDownloads\"\n",
    "folder = \"./bucket_downloads/\"\n",
    "os.makedirs(folder, exist_ok=True)"
   ]
  },
  {
   "cell_type": "code",
   "execution_count": 11,
   "id": "218e32ed",
   "metadata": {},
   "outputs": [],
   "source": [
    "def download_blob_to_stream(bucket_name, source_blob_name, file_obj):\n",
    "    \"\"\"Downloads a blob to a stream or other file-like object.\"\"\"\n",
    "    storage_client = storage.Client()\n",
    "    bucket = storage_client.bucket(bucket_name)\n",
    "    \n",
    "    blob = bucket.blob(source_blob_name)\n",
    "    blob.download_to_file(file_obj)\n",
    "    print(f\"Downloaded blob {source_blob_name} to file-like object.\")\n",
    "\n",
    "    return file_obj\n",
    "    # Before reading from file_obj, remember to rewind with file_obj.seek(0)."
   ]
  },
  {
   "cell_type": "code",
   "execution_count": null,
   "id": "9bfeaa62",
   "metadata": {},
   "outputs": [
    {
     "name": "stdout",
     "output_type": "stream",
     "text": [
      "Downloaded blob edufineweb_train_000001.npy to file-like object.\n",
      "Downloaded blob edufineweb_train_000002.npy to file-like object.\n"
     ]
    }
   ],
   "source": [
    "for i in range(1,6):\n",
    "    source_name = source_blob_name + str(i) + \".npy\"\n",
    "    dest = destination_file_name + str(i) + \".npy\"\n",
    "\n",
    "    with open(dest, \"wb\") as f:\n",
    "        download_blob_to_stream(bucket_name, source_name, f)\n",
    "\n",
    "    shutil.move(dest, folder)"
   ]
  }
 ],
 "metadata": {
  "kernelspec": {
   "display_name": "jax_intro",
   "language": "python",
   "name": "python3"
  },
  "language_info": {
   "codemirror_mode": {
    "name": "ipython",
    "version": 3
   },
   "file_extension": ".py",
   "mimetype": "text/x-python",
   "name": "python",
   "nbconvert_exporter": "python",
   "pygments_lexer": "ipython3",
   "version": "3.11.12"
  }
 },
 "nbformat": 4,
 "nbformat_minor": 5
}
