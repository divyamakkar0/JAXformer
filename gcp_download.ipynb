{
 "cells": [
  {
   "cell_type": "code",
   "execution_count": 1,
   "id": "23e12f1e",
   "metadata": {},
   "outputs": [],
   "source": [
    "from google.cloud import storage\n",
    "import shutil\n",
    "import os\n",
    "import time\n",
    "\n",
    "bucket_name = \"10bt_gpt4\"\n",
    "source_blob_name = \"edufineweb_train_00000\"\n",
    "destination_file_name = \"./bucketDownloads\"\n",
    "folder = \"./bucket_downloads/\"\n",
    "os.makedirs(folder, exist_ok=True)"
   ]
  },
  {
   "cell_type": "code",
   "execution_count": 2,
   "id": "218e32ed",
   "metadata": {},
   "outputs": [],
   "source": [
    "def download_blob_to_stream(bucket_name, source_blob_name, file_obj):\n",
    "    \"\"\"Downloads a blob to a stream or other file-like object.\"\"\"\n",
    "    storage_client = storage.Client()\n",
    "    bucket = storage_client.bucket(bucket_name)\n",
    "    \n",
    "    blob = bucket.blob(source_blob_name)\n",
    "    blob.download_to_file(file_obj)\n",
    "    print(\"done\")\n",
    "    print(f\"Downloaded blob {source_blob_name} to file-like object.\")\n",
    "\n",
    "    return file_obj\n",
    "    # rewind with file_obj.seek(0)."
   ]
  },
  {
   "cell_type": "code",
   "execution_count": 4,
   "id": "3ef161fe",
   "metadata": {},
   "outputs": [],
   "source": [
    "def download_bucket(bucket_name, source_name, f):\n",
    "    result = download_blob_to_stream(bucket_name, source_name, f)\n",
    "    print(\"here again\")\n",
    "    while isinstance(result, Exception):\n",
    "        print(\"Failed to download due to exception\")\n",
    "        time.sleep(5)\n",
    "        result = download_bucket(bucket_name, source_name, f)\n",
    "     \n",
    "    print(\"Downloaded\")\n",
    "    return result"
   ]
  },
  {
   "cell_type": "code",
   "execution_count": 5,
   "id": "9bfeaa62",
   "metadata": {},
   "outputs": [
    {
     "name": "stdout",
     "output_type": "stream",
     "text": [
      "here\n",
      "done\n",
      "Downloaded blob edufineweb_train_000001.npy to file-like object.\n",
      "here again\n",
      "Downloaded\n",
      "<_io.BufferedWriter name='./bucketDownloads1.npy'>\n",
      "removed ./bucket_downloads/./bucketDownloads1.npy successfully\n",
      "here\n",
      "done\n",
      "Downloaded blob edufineweb_train_000002.npy to file-like object.\n",
      "here again\n",
      "Downloaded\n",
      "<_io.BufferedWriter name='./bucketDownloads2.npy'>\n",
      "removed ./bucket_downloads/./bucketDownloads2.npy successfully\n",
      "here\n",
      "done\n",
      "Downloaded blob edufineweb_train_000003.npy to file-like object.\n",
      "here again\n",
      "Downloaded\n",
      "<_io.BufferedWriter name='./bucketDownloads3.npy'>\n",
      "removed ./bucket_downloads/./bucketDownloads3.npy successfully\n",
      "here\n",
      "done\n",
      "Downloaded blob edufineweb_train_000004.npy to file-like object.\n",
      "here again\n",
      "Downloaded\n",
      "<_io.BufferedWriter name='./bucketDownloads4.npy'>\n",
      "removed ./bucket_downloads/./bucketDownloads4.npy successfully\n",
      "here\n",
      "done\n",
      "Downloaded blob edufineweb_train_000005.npy to file-like object.\n",
      "here again\n",
      "Downloaded\n",
      "<_io.BufferedWriter name='./bucketDownloads5.npy'>\n",
      "removed ./bucket_downloads/./bucketDownloads5.npy successfully\n"
     ]
    }
   ],
   "source": [
    "for i in range(1,6):\n",
    "    source_name = source_blob_name + str(i) + \".npy\"\n",
    "    dest = destination_file_name + str(i) + \".npy\"\n",
    "\n",
    "    with open(dest, \"wb\") as f:\n",
    "        print(\"here\")\n",
    "        result = download_bucket(bucket_name, source_name, f)\n",
    "        print(result)\n",
    " \n",
    "    shutil.move(dest, folder)\n",
    "    #the sharding \n",
    "\n",
    "    full_path = folder + dest\n",
    "    os.remove(full_path)\n",
    "    print(f'removed {full_path} successfully')"
   ]
  },
  {
   "cell_type": "code",
   "execution_count": 13,
   "id": "c80a854d",
   "metadata": {},
   "outputs": [],
   "source": [
    "def list_blobs_with_prefix(bucket_name, prefix, delimiter=None):\n",
    "    len = 0\n",
    "    storage_client = storage.Client()\n",
    "    # Note: Client.list_blobs requires at least package version 1.17.0.\n",
    "    blobs = storage_client.list_blobs(bucket_name, prefix=prefix, delimiter=delimiter)\n",
    "    # Note: The call returns a response only when the iterator is consumed.\n",
    "    print(\"Blobs:\")\n",
    "    for blob in blobs:\n",
    "        len += 1\n",
    "        print(blob.name)\n",
    "\n",
    "\n",
    "    if delimiter:\n",
    "        print(\"Prefixes:\")\n",
    "        for prefix in blobs.prefixes:\n",
    "            print(prefix)\n",
    "    \n",
    "    return len\n"
   ]
  },
  {
   "cell_type": "code",
   "execution_count": 17,
   "id": "965d9a78",
   "metadata": {},
   "outputs": [],
   "source": [
    "def len_blobs(bucket_name, prefix, delimiter=None):\n",
    "    len = 0\n",
    "    storage_client = storage.Client()\n",
    "    blobs = storage_client.list_blobs(bucket_name, prefix=prefix, delimiter=delimiter)\n",
    "    print(\"Blobs:\")\n",
    "    for blob in blobs:\n",
    "        len += 1\n",
    "    \n",
    "    return len\n"
   ]
  },
  {
   "cell_type": "code",
   "execution_count": 19,
   "id": "e8465d3c",
   "metadata": {},
   "outputs": [
    {
     "name": "stdout",
     "output_type": "stream",
     "text": [
      "Blobs:\n",
      "96\n"
     ]
    }
   ],
   "source": [
    "print(len_blobs(bucket_name,\"edufineweb_train\"))"
   ]
  }
 ],
 "metadata": {
  "kernelspec": {
   "display_name": "jax_intro",
   "language": "python",
   "name": "python3"
  },
  "language_info": {
   "codemirror_mode": {
    "name": "ipython",
    "version": 3
   },
   "file_extension": ".py",
   "mimetype": "text/x-python",
   "name": "python",
   "nbconvert_exporter": "python",
   "pygments_lexer": "ipython3",
   "version": "3.11.12"
  }
 },
 "nbformat": 4,
 "nbformat_minor": 5
}
