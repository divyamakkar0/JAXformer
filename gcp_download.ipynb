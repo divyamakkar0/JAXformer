{
 "cells": [
  {
   "cell_type": "code",
   "execution_count": 19,
   "id": "23e12f1e",
   "metadata": {},
   "outputs": [],
   "source": [
    "from google.cloud import storage\n",
    "import shutil\n",
    "import os\n",
    "\n",
    "bucket_name = \"10bt_gpt4\"\n",
    "source_blob_name = \"edufineweb_train_00000\"\n",
    "destination_file_name = \"./bucketDownloads\"\n",
    "folder = \"./bucket_downloads/\"\n",
    "os.makedirs(folder, exist_ok=True)"
   ]
  },
  {
   "cell_type": "code",
   "execution_count": 20,
   "id": "218e32ed",
   "metadata": {},
   "outputs": [],
   "source": [
    "def download_blob(bucket_name, source_blob_name, destination_file_name):\n",
    "    \"\"\"Downloads a blob from the bucket.\"\"\"\n",
    "    # The ID of your GCS bucket\n",
    "    # bucket_name = \"your-bucket-name\"\n",
    "\n",
    "    # The ID of your GCS object\n",
    "    # source_blob_name = \"storage-object-name\"\n",
    "\n",
    "    # The path to which the file should be downloaded\n",
    "    # destination_file_name = \"local/path/to/file\"\n",
    "\n",
    "    storage_client = storage.Client()\n",
    "\n",
    "    bucket = storage_client.bucket(bucket_name)\n",
    "\n",
    "    # Construct a client side representation of a blob.\n",
    "    # Note `Bucket.blob` differs from `Bucket.get_blob` as it doesn't retrieve\n",
    "    # any content from Google Cloud Storage. As we don't need additional data,\n",
    "    # using `Bucket.blob` is preferred here.\n",
    "    blob = bucket.blob(source_blob_name)\n",
    "    blob.download_to_filename(destination_file_name)\n",
    "\n",
    "    print(\n",
    "        \"Downloaded storage object {} from bucket {} to local file {}.\".format(\n",
    "            source_blob_name, bucket_name, destination_file_name\n",
    "        )\n",
    "    )"
   ]
  },
  {
   "cell_type": "code",
   "execution_count": 21,
   "id": "9bfeaa62",
   "metadata": {},
   "outputs": [
    {
     "name": "stdout",
     "output_type": "stream",
     "text": [
      "Downloaded storage object edufineweb_train_000001.npy from bucket 10bt_gpt4 to local file ./bucketDownloads1.npy.\n",
      "Downloaded storage object edufineweb_train_000002.npy from bucket 10bt_gpt4 to local file ./bucketDownloads2.npy.\n",
      "Downloaded storage object edufineweb_train_000003.npy from bucket 10bt_gpt4 to local file ./bucketDownloads3.npy.\n",
      "Downloaded storage object edufineweb_train_000004.npy from bucket 10bt_gpt4 to local file ./bucketDownloads4.npy.\n",
      "Downloaded storage object edufineweb_train_000005.npy from bucket 10bt_gpt4 to local file ./bucketDownloads5.npy.\n"
     ]
    }
   ],
   "source": [
    "for i in range(1,6):\n",
    "    source_name = source_blob_name + str(i) + \".npy\"\n",
    "    dest = destination_file_name + str(i) + \".npy\"\n",
    "    download_blob(bucket_name, source_name, dest)\n",
    "    shutil.move(dest, folder)"
   ]
  },
  {
   "cell_type": "code",
   "execution_count": null,
   "id": "2372bce5",
   "metadata": {},
   "outputs": [],
   "source": []
  }
 ],
 "metadata": {
  "kernelspec": {
   "display_name": "jax_intro",
   "language": "python",
   "name": "python3"
  },
  "language_info": {
   "codemirror_mode": {
    "name": "ipython",
    "version": 3
   },
   "file_extension": ".py",
   "mimetype": "text/x-python",
   "name": "python",
   "nbconvert_exporter": "python",
   "pygments_lexer": "ipython3",
   "version": "3.11.12"
  }
 },
 "nbformat": 4,
 "nbformat_minor": 5
}
