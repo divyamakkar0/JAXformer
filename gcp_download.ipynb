{
 "cells": [
  {
   "cell_type": "code",
   "execution_count": 1,
   "id": "23e12f1e",
   "metadata": {},
   "outputs": [],
   "source": [
    "from google.cloud import storage\n",
    "import shutil\n",
    "import os\n",
    "import time\n",
    "\n",
    "bucket_name = \"10bt_gpt4\"\n",
    "source_blob_name = \"edufineweb_train_00000\"\n",
    "destination_file_name = \"./bucketDownloads\"\n",
    "folder = \"./bucket_downloads/\"\n",
    "os.makedirs(folder, exist_ok=True)"
   ]
  },
  {
   "cell_type": "code",
   "execution_count": null,
   "id": "218e32ed",
   "metadata": {},
   "outputs": [],
   "source": [
    "def download_blob_to_stream(bucket_name, source_blob_name, file_obj):\n",
    "    \"\"\"Downloads a blob to a stream or other file-like object.\"\"\"\n",
    "    storage_client = storage.Client()\n",
    "    bucket = storage_client.bucket(bucket_name)\n",
    "    \n",
    "    blob = bucket.blob(source_blob_name)\n",
    "    blob.download_to_file(file_obj)\n",
    "    print(f\"Downloaded blob {source_blob_name} to file-like object.\")\n",
    "\n",
    "    return file_obj\n",
    "    # rewind with file_obj.seek(0)."
   ]
  },
  {
   "cell_type": "code",
   "execution_count": 3,
   "id": "9bfeaa62",
   "metadata": {},
   "outputs": [
    {
     "name": "stdout",
     "output_type": "stream",
     "text": [
      "Downloaded blob edufineweb_train_000001.npy to file-like object.\n",
      "Downloaded\n"
     ]
    },
    {
     "ename": "Error",
     "evalue": "Destination path './bucket_downloads/bucketDownloads1.npy' already exists",
     "output_type": "error",
     "traceback": [
      "\u001b[31m---------------------------------------------------------------------------\u001b[39m",
      "\u001b[31mError\u001b[39m                                     Traceback (most recent call last)",
      "\u001b[36mCell\u001b[39m\u001b[36m \u001b[39m\u001b[32mIn[3]\u001b[39m\u001b[32m, line 19\u001b[39m\n\u001b[32m     16\u001b[39m \u001b[38;5;28;01mwith\u001b[39;00m \u001b[38;5;28mopen\u001b[39m(dest, \u001b[33m\"\u001b[39m\u001b[33mwb\u001b[39m\u001b[33m\"\u001b[39m) \u001b[38;5;28;01mas\u001b[39;00m f:\n\u001b[32m     17\u001b[39m     result = download_bucket(bucket_name, source_name, f)\n\u001b[32m---> \u001b[39m\u001b[32m19\u001b[39m \u001b[43mshutil\u001b[49m\u001b[43m.\u001b[49m\u001b[43mmove\u001b[49m\u001b[43m(\u001b[49m\u001b[43mdest\u001b[49m\u001b[43m,\u001b[49m\u001b[43m \u001b[49m\u001b[43mfolder\u001b[49m\u001b[43m)\u001b[49m\n\u001b[32m     20\u001b[39m \u001b[38;5;66;03m#the sharding \u001b[39;00m\n\u001b[32m     22\u001b[39m full_path = folder + dest\n",
      "\u001b[36mFile \u001b[39m\u001b[32m/opt/miniconda3/envs/jax_intro/lib/python3.11/shutil.py:851\u001b[39m, in \u001b[36mmove\u001b[39m\u001b[34m(src, dst, copy_function)\u001b[39m\n\u001b[32m    848\u001b[39m     real_dst = os.path.join(dst, _basename(src))\n\u001b[32m    850\u001b[39m     \u001b[38;5;28;01mif\u001b[39;00m os.path.exists(real_dst):\n\u001b[32m--> \u001b[39m\u001b[32m851\u001b[39m         \u001b[38;5;28;01mraise\u001b[39;00m Error(\u001b[33m\"\u001b[39m\u001b[33mDestination path \u001b[39m\u001b[33m'\u001b[39m\u001b[38;5;132;01m%s\u001b[39;00m\u001b[33m'\u001b[39m\u001b[33m already exists\u001b[39m\u001b[33m\"\u001b[39m % real_dst)\n\u001b[32m    852\u001b[39m \u001b[38;5;28;01mtry\u001b[39;00m:\n\u001b[32m    853\u001b[39m     os.rename(src, real_dst)\n",
      "\u001b[31mError\u001b[39m: Destination path './bucket_downloads/bucketDownloads1.npy' already exists"
     ]
    }
   ],
   "source": [
    "def download_bucket(bucket_name, source_name, f):\n",
    "    result = download_blob_to_stream(bucket_name, source_name, f)\n",
    "    while isinstance(result, Exception):\n",
    "        print(\"Failed to download due to exception\")\n",
    "        time.sleep(5)\n",
    "        result = download_bucket(bucket_name, source_name, f)\n",
    "     \n",
    "    print(\"Downloaded\")\n",
    "    return result\n",
    "        \n",
    "\n",
    "for i in range(1,6):\n",
    "    source_name = source_blob_name + str(i) + \".npy\"\n",
    "    dest = destination_file_name + str(i) + \".npy\"\n",
    "\n",
    "    with open(dest, \"wb\") as f:\n",
    "        result = download_bucket(bucket_name, source_name, f)\n",
    "        \n",
    "    shutil.move(dest, folder)\n",
    "    #the sharding \n",
    "\n",
    "    full_path = folder + dest\n",
    "    os.remove(full_path)\n",
    "    print(f'removed {full_path} successfully')"
   ]
  }
 ],
 "metadata": {
  "kernelspec": {
   "display_name": "jax_intro",
   "language": "python",
   "name": "python3"
  },
  "language_info": {
   "codemirror_mode": {
    "name": "ipython",
    "version": 3
   },
   "file_extension": ".py",
   "mimetype": "text/x-python",
   "name": "python",
   "nbconvert_exporter": "python",
   "pygments_lexer": "ipython3",
   "version": "3.11.12"
  }
 },
 "nbformat": 4,
 "nbformat_minor": 5
}
