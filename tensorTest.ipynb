{
 "cells": [
  {
   "cell_type": "code",
   "execution_count": 256,
   "id": "efd8a3e8",
   "metadata": {},
   "outputs": [
    {
     "data": {
      "text/plain": [
       "Mesh(device_ids=array([0, 1, 2, 3, 4, 5, 6, 7]), axis_names=('tensor',), axis_types=(Auto,))"
      ]
     },
     "execution_count": 256,
     "metadata": {},
     "output_type": "execute_result"
    }
   ],
   "source": [
    "import os\n",
    "\n",
    "os.environ[\"XLA_FLAGS\"] = (\n",
    "    \"--xla_force_host_platform_device_count=8\"  # Use 8 CPU devices\n",
    ")\n",
    "import jax\n",
    "\n",
    "jax.config.update(\"jax_debug_nans\", False)\n",
    "\n",
    "import jax.numpy as jnp\n",
    "\n",
    "mesh = jax.make_mesh((8,), (\"tensor\",))\n",
    "mesh"
   ]
  },
  {
   "cell_type": "code",
   "execution_count": null,
   "id": "454179ed",
   "metadata": {},
   "outputs": [],
   "source": [
    "import flax.linen as nn\n",
    "from jaxtyping import Array\n",
    "\n",
    "\n",
    "class Dense(nn.Module):\n",
    "    features: int = 8\n",
    "\n",
    "    @nn.compact\n",
    "    def __call__(self, x: Array):\n",
    "        x = nn.Dense(self.features)(x)\n",
    "        print(f\"x shape before scatter: {x.shape}\")\n",
    "        x = jax.lax.psum_scatter(x, \"tensor\", scatter_dimension=x.ndim - 1, tiled=True)\n",
    "        print(f\"x shape after scatter: {x.shape}\")\n",
    "        return x\n",
    "\n",
    "\n",
    "class Embeddings(nn.Module):\n",
    "    model_dimension: int\n",
    "    vocab_size: int\n",
    "    model_dtype: jnp.dtype\n",
    "\n",
    "    def setup(self):\n",
    "        self.embedding = nn.Embed(\n",
    "            num_embeddings=self.vocab_size,\n",
    "            features=self.model_dimension,\n",
    "            dtype=self.model_dtype,\n",
    "        )\n",
    "        self.norm = RMSNorm(\n",
    "            model_dimension=self.model_dimension, model_dtype=self.model_dtype\n",
    "        )\n",
    "\n",
    "    def __call__(self, x: Array, out: bool = False) -> Array:\n",
    "        if not out:\n",
    "            x = self.embedding(x)\n",
    "            x = jax.lax.all_to_all(x, \"tensor\", split_axis=2, concat_axis=1, tiled=True)\n",
    "            if self.is_mutable_collection(\"params\"):\n",
    "                x = jax.lax.all_gather(x, \"tensor\", axis=-1, tiled=True)\n",
    "                _ = self.norm(x)\n",
    "        else:\n",
    "            x = jax.lax.all_to_all(x, \"tensor\", split_axis=1, concat_axis=2, tiled=True)\n",
    "            x = self.norm(x)\n",
    "            x = self.embedding.attend(x)\n",
    "\n",
    "        return x\n",
    "\n",
    "\n",
    "class RMSNorm(nn.Module):\n",
    "    model_dtype: jnp.dtype = jnp.float32\n",
    "\n",
    "    @nn.compact\n",
    "    def __call__(self, x: Array) -> Array:\n",
    "        rms = jnp.mean(jnp.square(x), axis=-1, keepdims=True)\n",
    "        rms = jax.lax.pmean(rms, \"tensor\")\n",
    "        x = x / jnp.sqrt(rms + 1e-6)\n",
    "\n",
    "        gamma = self.param(\n",
    "            \"gamma\", nn.initializers.ones, (x.shape[-1],), self.model_dtype\n",
    "        )\n",
    "        beta = self.param(\n",
    "            \"beta\", nn.initializers.zeros, (x.shape[-1],), self.model_dtype\n",
    "        )\n",
    "\n",
    "        print(\n",
    "            f\"RMS shape: {rms.shape}, x shape: {x.shape}, gamma shape: {gamma.shape}, beta shape: {beta.shape}\"\n",
    "        )\n",
    "        x = x * gamma + beta\n",
    "\n",
    "        return x\n",
    "\n",
    "\n",
    "class Attention(nn.Module):\n",
    "    model_dimension: int\n",
    "    num_heads: int\n",
    "    model_dtype: jnp.dtype\n",
    "\n",
    "    def setup(self):\n",
    "        self.qkv = Dense(features=self.model_dimension * 3)\n",
    "        self.out = Dense(features=self.model_dimension)\n",
    "\n",
    "    def __call__(self, x: Array) -> Array:\n",
    "        B, S, D = x.shape\n",
    "        print(\n",
    "            f\"Input shape: {x.shape}, Batch: {B}, Sequence Length: {S}, Model Dimension: {D}\"\n",
    "        )\n",
    "        x = self.qkv(x)  # (batch, seq_len, model_dimension // Tensor * 3)\n",
    "        print(f\"x shape: {x.shape}\")\n",
    "        x = x.reshape(\n",
    "            B, S, self.num_heads, D // self.num_heads * 3\n",
    "        )  # (batch, seq_len, num_heads, model_dimension // Tensor * 3)\n",
    "        x = jax.lax.all_to_all(x, \"tensor\", split_axis=2, concat_axis=3, tiled=True)\n",
    "        print(f\"x shape after all_to_all: {x.shape}\")\n",
    "        q, k, v = jnp.split(x, 3, axis=-1)\n",
    "        print(f\"q shape: {q.shape}, k shape: {k.shape}, v shape: {v.shape}\")\n",
    "        score = jnp.einsum(\"bshd,bShd->bhsS\", q, k) / jnp.sqrt(D // self.num_heads)\n",
    "        score = jax.nn.softmax(score, axis=-1)\n",
    "        print(f\"score shape: {score.shape}\")\n",
    "        x = jnp.einsum(\"bhsS,bShd->bshd\", score, v)\n",
    "        print(f\"x shape {x.shape}\")\n",
    "\n",
    "        x = jax.lax.all_to_all(x, \"tensor\", split_axis=3, concat_axis=2, tiled=True)\n",
    "\n",
    "        print(f\"x shape after all_to_all: {x.shape}\")\n",
    "        x = x.reshape(B, S, D)\n",
    "        print(f\"x shape after reshape: {x.shape}\")\n",
    "        x = self.out(x)\n",
    "\n",
    "        return x"
   ]
  },
  {
   "cell_type": "code",
   "execution_count": null,
   "id": "b1874119",
   "metadata": {},
   "outputs": [],
   "source": []
  },
  {
   "cell_type": "code",
   "execution_count": 476,
   "id": "e1c31dca",
   "metadata": {},
   "outputs": [
    {
     "ename": "TypeError",
     "evalue": "RMSNorm.__call__() got an unexpected keyword argument 'eval'",
     "output_type": "error",
     "traceback": [
      "\u001b[31m---------------------------------------------------------------------------\u001b[39m",
      "\u001b[31mTypeError\u001b[39m                                 Traceback (most recent call last)",
      "\u001b[36mCell\u001b[39m\u001b[36m \u001b[39m\u001b[32mIn[476]\u001b[39m\u001b[32m, line 7\u001b[39m\n\u001b[32m      5\u001b[39m x = jnp.ones((\u001b[32m2\u001b[39m, \u001b[32m8\u001b[39m, \u001b[32m32\u001b[39m), dtype=jnp.float32)\n\u001b[32m      6\u001b[39m init_key = jax.random.PRNGKey(\u001b[32m0\u001b[39m)\n\u001b[32m----> \u001b[39m\u001b[32m7\u001b[39m params1 = \u001b[43mmodel1\u001b[49m\u001b[43m.\u001b[49m\u001b[43minit\u001b[49m\u001b[43m(\u001b[49m\u001b[43minit_key\u001b[49m\u001b[43m,\u001b[49m\u001b[43m \u001b[49m\u001b[43mx\u001b[49m\u001b[43m,\u001b[49m\u001b[43m \u001b[49m\u001b[38;5;28;43meval\u001b[39;49m\u001b[43m=\u001b[49m\u001b[38;5;28;43;01mTrue\u001b[39;49;00m\u001b[43m)\u001b[49m[\u001b[33m'\u001b[39m\u001b[33mparams\u001b[39m\u001b[33m'\u001b[39m]\n\u001b[32m      8\u001b[39m test_out = model1.apply({\u001b[33m'\u001b[39m\u001b[33mparams\u001b[39m\u001b[33m'\u001b[39m: params1}, x, \u001b[38;5;28meval\u001b[39m=\u001b[38;5;28;01mTrue\u001b[39;00m)\n\u001b[32m      9\u001b[39m \u001b[38;5;28mprint\u001b[39m(test_out.shape)\n",
      "    \u001b[31m[... skipping hidden 8 frame]\u001b[39m\n",
      "\u001b[36mFile \u001b[39m\u001b[32m~/anaconda3/envs/jaxformer/lib/python3.13/site-packages/flax/linen/module.py:1216\u001b[39m, in \u001b[36mModule._call_wrapped_method\u001b[39m\u001b[34m(self, fun, args, kwargs)\u001b[39m\n\u001b[32m   1214\u001b[39m \u001b[38;5;28;01mif\u001b[39;00m _use_named_call:\n\u001b[32m   1215\u001b[39m   \u001b[38;5;28;01mwith\u001b[39;00m jax.named_scope(_derive_profiling_name(\u001b[38;5;28mself\u001b[39m, fun)):\n\u001b[32m-> \u001b[39m\u001b[32m1216\u001b[39m     y = \u001b[43mrun_fun\u001b[49m\u001b[43m(\u001b[49m\u001b[38;5;28;43mself\u001b[39;49m\u001b[43m,\u001b[49m\u001b[43m \u001b[49m\u001b[43m*\u001b[49m\u001b[43margs\u001b[49m\u001b[43m,\u001b[49m\u001b[43m \u001b[49m\u001b[43m*\u001b[49m\u001b[43m*\u001b[49m\u001b[43mkwargs\u001b[49m\u001b[43m)\u001b[49m\n\u001b[32m   1217\u001b[39m \u001b[38;5;28;01melse\u001b[39;00m:\n\u001b[32m   1218\u001b[39m   y = run_fun(\u001b[38;5;28mself\u001b[39m, *args, **kwargs)\n",
      "\u001b[31mTypeError\u001b[39m: RMSNorm.__call__() got an unexpected keyword argument 'eval'"
     ]
    }
   ],
   "source": [
    "model1 = RMSNorm(model_dimension=32, model_dtype=jnp.float32)\n",
    "x = jnp.ones((2, 8, 32), dtype=jnp.float32)\n",
    "init_key = jax.random.PRNGKey(0)\n",
    "params1 = model1.init(init_key, x, eval=True)[\"params\"]\n",
    "test_out = model1.apply({\"params\": params1}, x, eval=True)\n",
    "print(test_out.shape)"
   ]
  },
  {
   "cell_type": "code",
   "execution_count": 477,
   "id": "07ca95e2",
   "metadata": {},
   "outputs": [
    {
     "ename": "TypeError",
     "evalue": "Embeddings.__call__() got an unexpected keyword argument 'eval'",
     "output_type": "error",
     "traceback": [
      "\u001b[31m---------------------------------------------------------------------------\u001b[39m",
      "\u001b[31mTypeError\u001b[39m                                 Traceback (most recent call last)",
      "\u001b[36mCell\u001b[39m\u001b[36m \u001b[39m\u001b[32mIn[477]\u001b[39m\u001b[32m, line 8\u001b[39m\n\u001b[32m      6\u001b[39m x = jnp.ones((\u001b[32m2\u001b[39m,\u001b[32m8\u001b[39m), dtype=jnp.int32)\n\u001b[32m      7\u001b[39m init_key = jax.random.PRNGKey(\u001b[32m0\u001b[39m)\n\u001b[32m----> \u001b[39m\u001b[32m8\u001b[39m params = \u001b[43mmodel\u001b[49m\u001b[43m.\u001b[49m\u001b[43minit\u001b[49m\u001b[43m(\u001b[49m\u001b[43minit_key\u001b[49m\u001b[43m,\u001b[49m\u001b[43m \u001b[49m\u001b[43mx\u001b[49m\u001b[43m,\u001b[49m\u001b[43m \u001b[49m\u001b[38;5;28;43meval\u001b[39;49m\u001b[43m=\u001b[49m\u001b[38;5;28;43;01mTrue\u001b[39;49;00m\u001b[43m)\u001b[49m[\u001b[33m'\u001b[39m\u001b[33mparams\u001b[39m\u001b[33m'\u001b[39m]\n\u001b[32m      9\u001b[39m \u001b[38;5;28mprint\u001b[39m(model.apply({\u001b[33m'\u001b[39m\u001b[33mparams\u001b[39m\u001b[33m'\u001b[39m: params}, x, \u001b[38;5;28meval\u001b[39m=\u001b[38;5;28;01mTrue\u001b[39;00m).shape)\n",
      "    \u001b[31m[... skipping hidden 8 frame]\u001b[39m\n",
      "\u001b[36mFile \u001b[39m\u001b[32m~/anaconda3/envs/jaxformer/lib/python3.13/site-packages/flax/linen/module.py:1216\u001b[39m, in \u001b[36mModule._call_wrapped_method\u001b[39m\u001b[34m(self, fun, args, kwargs)\u001b[39m\n\u001b[32m   1214\u001b[39m \u001b[38;5;28;01mif\u001b[39;00m _use_named_call:\n\u001b[32m   1215\u001b[39m   \u001b[38;5;28;01mwith\u001b[39;00m jax.named_scope(_derive_profiling_name(\u001b[38;5;28mself\u001b[39m, fun)):\n\u001b[32m-> \u001b[39m\u001b[32m1216\u001b[39m     y = \u001b[43mrun_fun\u001b[49m\u001b[43m(\u001b[49m\u001b[38;5;28;43mself\u001b[39;49m\u001b[43m,\u001b[49m\u001b[43m \u001b[49m\u001b[43m*\u001b[49m\u001b[43margs\u001b[49m\u001b[43m,\u001b[49m\u001b[43m \u001b[49m\u001b[43m*\u001b[49m\u001b[43m*\u001b[49m\u001b[43mkwargs\u001b[49m\u001b[43m)\u001b[49m\n\u001b[32m   1217\u001b[39m \u001b[38;5;28;01melse\u001b[39;00m:\n\u001b[32m   1218\u001b[39m   y = run_fun(\u001b[38;5;28mself\u001b[39m, *args, **kwargs)\n",
      "\u001b[31mTypeError\u001b[39m: Embeddings.__call__() got an unexpected keyword argument 'eval'"
     ]
    }
   ],
   "source": [
    "model = Embeddings(model_dimension=32, vocab_size=16, model_dtype=jnp.float32)\n",
    "x = jnp.ones((2, 8), dtype=jnp.int32)\n",
    "init_key = jax.random.PRNGKey(0)\n",
    "params = model.init(init_key, x, eval=True)[\"params\"]\n",
    "print(model.apply({\"params\": params}, x, eval=True).shape)"
   ]
  },
  {
   "cell_type": "code",
   "execution_count": 478,
   "id": "bf1c650a",
   "metadata": {},
   "outputs": [
    {
     "data": {
      "text/plain": [
       "{'embedding': {'embedding': Array([[ 1.07713148e-01, -1.26537129e-01,  6.29703328e-02,\n",
       "          -1.95410237e-01,  5.84000796e-02, -2.08789915e-01,\n",
       "          -3.08006644e-01,  1.42043397e-01, -3.14659290e-02,\n",
       "           2.00732164e-02, -3.74735296e-01, -9.57105495e-03,\n",
       "          -1.77905113e-01,  1.31225690e-01,  7.06995949e-02,\n",
       "           8.56466219e-02,  3.86315644e-01,  1.02088936e-01,\n",
       "           6.53506815e-02, -7.32118904e-04, -3.34644876e-02,\n",
       "           9.92537811e-02, -5.35630845e-02,  2.26300865e-01,\n",
       "           6.99746236e-02, -3.59276868e-02, -1.37261957e-01,\n",
       "           2.63334811e-01, -4.09673393e-01,  3.60953480e-01,\n",
       "           1.35335410e-02,  2.75004357e-01],\n",
       "         [-1.76977396e-01, -6.37361258e-02, -8.02243203e-02,\n",
       "           1.58917308e-01, -2.11864665e-01, -9.58523303e-02,\n",
       "          -1.98677201e-02,  6.85228333e-02,  1.78853989e-01,\n",
       "           1.26904353e-01, -3.99270505e-02, -9.51974839e-02,\n",
       "          -1.49512723e-01,  2.98589945e-01,  3.47766168e-02,\n",
       "          -8.80140364e-02, -2.66490251e-01, -9.07461345e-02,\n",
       "           1.70012802e-01, -1.55797377e-01,  1.90570489e-01,\n",
       "           5.17548844e-02,  7.20491111e-02,  2.13847727e-01,\n",
       "           1.77593201e-01,  3.22061288e-03, -3.74195099e-01,\n",
       "          -1.80179216e-02,  2.49564677e-01, -4.07534689e-02,\n",
       "           3.55278365e-02, -2.36901239e-01],\n",
       "         [-2.43308216e-01, -1.68639287e-01, -2.00263001e-02,\n",
       "          -1.31535754e-01, -4.42074761e-02, -1.34494349e-01,\n",
       "          -5.87323606e-02, -2.45834723e-01, -4.00596589e-01,\n",
       "           2.27512000e-03, -5.14860312e-03,  8.03042762e-03,\n",
       "          -1.47030950e-01, -1.80037871e-01, -3.56994241e-01,\n",
       "           2.96065032e-01,  6.59555793e-02,  2.38349468e-01,\n",
       "          -2.06793591e-01,  6.83963746e-02, -5.49078872e-03,\n",
       "           3.24834976e-03, -3.11327726e-01,  2.88300693e-01,\n",
       "           1.65515795e-01, -1.46470964e-01, -8.30588490e-02,\n",
       "          -5.33035509e-02, -2.11396575e-01,  1.54110998e-01,\n",
       "           2.29382161e-02, -9.95883644e-02],\n",
       "         [-3.74407768e-01,  2.37324014e-01, -8.99521858e-02,\n",
       "           3.94428074e-01,  1.65069252e-01,  1.47350892e-01,\n",
       "          -2.52183080e-01,  1.57870799e-01,  1.48083732e-01,\n",
       "          -4.32326168e-01, -2.07607634e-02, -2.08024830e-01,\n",
       "           2.22435638e-01, -6.77809641e-02,  5.16216382e-02,\n",
       "           8.51056352e-02,  6.28987476e-02, -3.52922939e-02,\n",
       "          -3.85221206e-02,  2.35296898e-02,  2.30943501e-01,\n",
       "          -2.12751284e-01,  7.19596967e-02, -3.78672108e-02,\n",
       "          -2.49623433e-01,  9.21031907e-02,  3.31510365e-01,\n",
       "           1.39002085e-01, -9.60987732e-02, -1.58134207e-01,\n",
       "           3.90224345e-02,  2.46281520e-01],\n",
       "         [ 1.47974446e-01,  1.11635383e-02, -5.69928437e-02,\n",
       "           3.08287442e-01, -7.32036820e-03,  8.71684030e-02,\n",
       "          -1.21927887e-01, -2.13737786e-01,  1.35124013e-01,\n",
       "           1.35882586e-01,  1.50743008e-01,  2.86991540e-02,\n",
       "          -2.61903554e-01,  6.42779842e-03,  1.47657052e-01,\n",
       "          -1.51090100e-02, -9.33835283e-03,  2.44367927e-01,\n",
       "           1.26102120e-01, -3.20451468e-01,  5.21408021e-01,\n",
       "          -1.72818348e-01, -1.84469104e-01,  1.36226222e-01,\n",
       "           6.83235675e-02, -7.47842640e-02, -8.93899351e-02,\n",
       "          -1.40209883e-01, -4.65911329e-02,  1.66020021e-01,\n",
       "          -1.00813925e-01, -1.63930863e-01],\n",
       "         [ 1.79021060e-01, -3.30079682e-02, -3.07609975e-01,\n",
       "           5.99570572e-02, -2.21026644e-01, -3.07861388e-01,\n",
       "          -6.17759377e-02, -1.66133657e-01, -4.04365450e-01,\n",
       "          -4.70825136e-01,  2.30394796e-01, -2.82967299e-01,\n",
       "          -7.30903223e-02,  1.54914841e-01,  4.18497846e-02,\n",
       "           1.25898719e-01,  1.00439945e-02,  1.04978137e-01,\n",
       "          -1.03926137e-01,  2.66119063e-01,  1.87354267e-01,\n",
       "          -3.24126363e-01, -1.29869580e-01,  3.16681057e-01,\n",
       "           4.06435545e-04,  7.47575983e-02,  1.09365366e-01,\n",
       "           2.07100630e-01,  4.21278700e-02,  1.37563825e-01,\n",
       "           2.56207854e-01,  1.84068866e-02],\n",
       "         [ 1.16935104e-01, -7.26450533e-02, -3.32362279e-02,\n",
       "          -2.75616705e-01, -2.29584754e-01,  3.64536978e-02,\n",
       "           2.31282592e-01,  5.10488376e-02,  2.83047885e-01,\n",
       "           3.43765289e-01,  2.26905078e-01, -8.68239850e-02,\n",
       "          -2.19470307e-01,  2.39069033e-02, -3.07347208e-01,\n",
       "           1.29528552e-01, -6.32822067e-02, -2.87252873e-01,\n",
       "           1.18518062e-01,  2.70696193e-01,  1.74983516e-01,\n",
       "          -1.99973837e-01, -2.61790529e-02,  9.17471349e-02,\n",
       "           9.33234170e-02, -1.63365707e-01,  9.68434662e-02,\n",
       "           6.63957447e-02, -1.51942372e-01,  2.08286479e-01,\n",
       "           2.54354298e-01,  2.91004963e-02],\n",
       "         [ 4.02570367e-01,  7.87278041e-02, -1.11257166e-01,\n",
       "           2.14822870e-03,  1.42535776e-01,  1.31359443e-01,\n",
       "           1.87119693e-01,  3.27223539e-01,  2.22992301e-02,\n",
       "           4.79749441e-02,  1.06919833e-01,  1.06977351e-01,\n",
       "          -8.74557644e-02,  5.13555594e-02,  9.42137558e-03,\n",
       "           1.91843256e-01,  2.04908326e-01, -1.93673894e-01,\n",
       "           7.08925910e-03, -1.36671618e-01,  1.90375838e-02,\n",
       "          -1.67637870e-01,  1.33231729e-02, -1.22655421e-01,\n",
       "          -2.42514834e-01, -1.74829327e-02, -1.92305967e-01,\n",
       "          -1.72343664e-02, -6.27020421e-03,  4.79114875e-02,\n",
       "           1.78422257e-01, -3.96064296e-02],\n",
       "         [-5.83105758e-02, -1.56931430e-01,  1.77266017e-01,\n",
       "           2.02686429e-01, -1.41471386e-01,  2.33181775e-01,\n",
       "          -2.41772309e-02, -1.18228700e-02, -2.23889276e-01,\n",
       "          -7.85578340e-02, -5.14593981e-02, -9.21930149e-02,\n",
       "           9.52241942e-02, -1.69852868e-01,  2.97880143e-01,\n",
       "          -4.07756597e-01,  5.31981103e-02,  1.95533305e-01,\n",
       "          -4.66425456e-02,  1.46191311e-03, -5.59381172e-02,\n",
       "           1.97403058e-01, -2.18986660e-01, -7.42927799e-03,\n",
       "          -6.33369610e-02, -1.89742800e-02,  4.43583243e-02,\n",
       "          -1.01359099e-01, -3.90170030e-02, -7.59358406e-02,\n",
       "          -8.61756504e-02, -1.50010195e-02],\n",
       "         [ 2.20370784e-01,  1.29611745e-01,  2.02083677e-01,\n",
       "           3.44771594e-01,  2.18633860e-01,  5.46280527e-03,\n",
       "          -9.45912972e-02,  2.15994671e-01, -1.50595546e-01,\n",
       "          -1.08136095e-01, -6.46641329e-02, -3.08596753e-02,\n",
       "           1.86934635e-01, -1.41386595e-02, -4.01752263e-01,\n",
       "           9.74384993e-02, -4.06853482e-02, -4.41737860e-01,\n",
       "           8.60086270e-03, -9.84383151e-02, -1.36749402e-01,\n",
       "          -6.78904727e-02,  1.75661683e-01,  1.10017404e-01,\n",
       "          -1.36909962e-01, -9.31254923e-02,  6.45858273e-02,\n",
       "           4.51901913e-01, -3.56199853e-02, -5.39429933e-02,\n",
       "           6.06466569e-02, -9.78542259e-04],\n",
       "         [ 1.29883438e-01, -3.52326095e-01,  1.25850335e-01,\n",
       "          -1.58372834e-01, -6.96347505e-02,  1.92613602e-01,\n",
       "           7.52169639e-02,  3.07960957e-01, -2.18562663e-01,\n",
       "          -2.44604558e-01, -1.01265535e-01,  1.46677658e-01,\n",
       "           1.71624213e-01, -2.30942219e-01,  1.42695427e-01,\n",
       "          -2.22759828e-01,  1.04824692e-01, -2.25024655e-01,\n",
       "           6.84973132e-03, -3.93630952e-01, -2.35570237e-01,\n",
       "          -7.75847360e-02,  1.86478257e-01,  1.16829671e-01,\n",
       "           1.01494966e-02,  8.66433829e-02,  2.12349415e-01,\n",
       "           1.93061978e-01, -2.04432353e-01, -1.38361722e-01,\n",
       "          -6.56737238e-02, -1.82999462e-01],\n",
       "         [ 1.09969251e-01, -2.30770469e-01, -4.74032551e-01,\n",
       "           1.17492527e-01, -1.58504426e-01,  5.48932292e-02,\n",
       "          -4.32078615e-02,  1.58159751e-02, -9.10882279e-02,\n",
       "           2.04291437e-02,  6.25932068e-02,  1.66548848e-01,\n",
       "           2.44675368e-01,  8.05642232e-02,  5.10896564e-01,\n",
       "           8.10890347e-02, -1.48236707e-01, -2.09923144e-02,\n",
       "          -3.42150897e-01, -3.69618982e-02,  5.04469164e-02,\n",
       "           2.89845169e-01,  2.95016140e-01,  5.79736531e-02,\n",
       "           9.61062759e-02,  5.11925891e-02, -2.54057217e-02,\n",
       "          -1.09321602e-01, -1.27937034e-01, -5.11610322e-03,\n",
       "          -7.06438944e-02, -1.39808357e-01],\n",
       "         [ 1.40506238e-01, -1.40621275e-01, -1.98709786e-01,\n",
       "           2.58906364e-01,  1.27810001e-01,  2.08694930e-03,\n",
       "           1.70186341e-01,  3.79658252e-01,  1.23957947e-01,\n",
       "           2.03442454e-01, -2.95082852e-02, -2.32767642e-01,\n",
       "           2.97178216e-02,  3.76009226e-01,  3.15418430e-02,\n",
       "           1.69440269e-01,  3.70497145e-02, -1.74524695e-01,\n",
       "           1.79143012e-01, -3.51278305e-01,  5.86930327e-02,\n",
       "           2.05180556e-01, -1.80190913e-02, -1.71547517e-01,\n",
       "          -6.96811005e-02,  9.37813222e-02, -8.49564746e-03,\n",
       "           1.24831207e-01, -3.35666120e-01,  1.96220085e-01,\n",
       "           2.20595464e-01,  2.00329870e-01],\n",
       "         [ 2.23474130e-01,  2.19509557e-01, -5.91769889e-02,\n",
       "          -6.86339615e-03,  2.25675613e-01, -6.70947507e-02,\n",
       "          -3.12653445e-02, -2.90123791e-01, -4.87768836e-02,\n",
       "          -1.05644427e-01, -2.02156246e-01, -6.67615887e-03,\n",
       "           1.23234294e-01, -4.81287763e-02, -2.88352728e-01,\n",
       "           2.20690772e-01, -2.82941431e-01,  1.85976103e-01,\n",
       "          -2.38476872e-01, -1.48442090e-01,  2.05581382e-01,\n",
       "           2.96698302e-01,  1.10326909e-01, -2.93501347e-01,\n",
       "           3.37187946e-01, -8.75272788e-03, -8.32784921e-03,\n",
       "          -1.13807023e-01, -2.63070222e-02,  1.13075368e-01,\n",
       "          -9.56978463e-03,  1.69733793e-01],\n",
       "         [-3.41986716e-01, -1.63080711e-02,  1.18534267e-01,\n",
       "          -2.94113904e-02,  2.84939229e-01,  2.54839938e-02,\n",
       "          -2.12452412e-01, -6.36325702e-02, -8.32133740e-02,\n",
       "          -2.52119124e-01,  1.77721214e-02, -1.29141733e-02,\n",
       "           8.72472301e-03, -8.58448073e-02, -4.26570177e-01,\n",
       "           2.48729691e-01,  1.42789975e-01,  1.93164438e-01,\n",
       "           1.63445935e-01, -1.19309738e-01, -2.93498009e-01,\n",
       "          -9.13884044e-02, -2.29148030e-01,  5.25011271e-02,\n",
       "           2.32471183e-01, -3.75535995e-01, -2.28388831e-01,\n",
       "           3.96249831e-01, -1.04212843e-01,  7.29661584e-02,\n",
       "           9.43675861e-02,  2.56701782e-02],\n",
       "         [ 9.38312989e-03,  6.78031594e-02,  2.07487345e-01,\n",
       "           5.73783554e-03, -1.81186348e-01,  3.94137055e-01,\n",
       "          -1.50960490e-01, -2.33003628e-02,  1.25982404e-01,\n",
       "           2.06823468e-01, -8.82504210e-02,  7.89008513e-02,\n",
       "           3.39638651e-03,  4.19208139e-01, -4.03300911e-01,\n",
       "          -5.18597886e-02, -1.94415107e-01, -1.98849946e-01,\n",
       "           1.82944104e-01,  1.97211042e-01,  9.40997303e-02,\n",
       "          -1.78405777e-01, -1.72863826e-01,  1.29399732e-01,\n",
       "           1.19013689e-01,  2.47519925e-01, -8.29484910e-02,\n",
       "          -4.35218930e-01, -5.86123057e-02,  1.10239431e-01,\n",
       "          -1.28730208e-01,  4.10505533e-02]], dtype=float32)},\n",
       " 'norm': {'gamma': Array([1., 1., 1., 1., 1., 1., 1., 1., 1., 1., 1., 1., 1., 1., 1., 1., 1.,\n",
       "         1., 1., 1., 1., 1., 1., 1., 1., 1., 1., 1., 1., 1., 1., 1.],      dtype=float32),\n",
       "  'beta': Array([0., 0., 0., 0., 0., 0., 0., 0., 0., 0., 0., 0., 0., 0., 0., 0., 0.,\n",
       "         0., 0., 0., 0., 0., 0., 0., 0., 0., 0., 0., 0., 0., 0., 0.],      dtype=float32)}}"
      ]
     },
     "execution_count": 478,
     "metadata": {},
     "output_type": "execute_result"
    }
   ],
   "source": [
    "params"
   ]
  },
  {
   "cell_type": "code",
   "execution_count": 479,
   "id": "66451afc",
   "metadata": {},
   "outputs": [],
   "source": [
    "def display_param_sharding(params):\n",
    "    jax.tree.map(lambda p: jax.debug.visualize_array_sharding(p), params)"
   ]
  },
  {
   "cell_type": "code",
   "execution_count": null,
   "id": "91ee38ae",
   "metadata": {},
   "outputs": [
    {
     "name": "stdout",
     "output_type": "stream",
     "text": [
      "RMS shape: (2, 8, 1), x shape: (2, 8, 32), gamma shape: (32,), beta shape: (32,)\n",
      "{'embedding': {'embedding': ShapeDtypeStruct(shape=(128, 32), dtype=float32)}, 'norm': {'beta': ShapeDtypeStruct(shape=(256,), dtype=float32), 'gamma': ShapeDtypeStruct(shape=(256,), dtype=float32)}}\n",
      "{'embedding': {'embedding': PartitionSpec('tensor',)}, 'norm': {'beta': PartitionSpec(), 'gamma': PartitionSpec()}}\n"
     ]
    }
   ],
   "source": [
    "from functools import partial\n",
    "from jax.sharding import PartitionSpec as P\n",
    "\n",
    "model_tensor = Embeddings()\n",
    "\n",
    "tensor_keys = jax.random.split(init_key, 8)\n",
    "tensor_keys = jnp.array(tensor_keys)\n",
    "\n",
    "\n",
    "@partial(\n",
    "    jax.shard_map,\n",
    "    mesh=mesh,\n",
    "    in_specs=(P(None, \"tensor\"), P(\"tensor\")),\n",
    "    out_specs=P(\"tensor\"),\n",
    ")\n",
    "def get_var_spec(x, key):\n",
    "    out = model_tensor.init(key[0], x)[\"params\"]\n",
    "    return out\n",
    "\n",
    "\n",
    "var_spec = jax.eval_shape(lambda x, key: get_var_spec(x, key), x, tensor_keys)\n",
    "print(var_spec)\n",
    "\n",
    "\n",
    "def get_sharding(current_shape):\n",
    "    if current_shape.ndim < 2:\n",
    "        return P()\n",
    "    return P(\"tensor\")\n",
    "\n",
    "\n",
    "out_spec = jax.tree.map(lambda x: get_sharding(x), var_spec)\n",
    "\n",
    "\n",
    "@partial(\n",
    "    jax.shard_map,\n",
    "    mesh=mesh,\n",
    "    in_specs=(P(None, \"tensor\"), P(\"tensor\")),\n",
    "    out_specs=out_spec,\n",
    ")\n",
    "def init_tensor(x, key):\n",
    "    out = model_tensor.init(key[0], x)[\"params\"]\n",
    "    print(out.keys())\n",
    "    return out\n",
    "\n",
    "\n",
    "@partial(\n",
    "    jax.shard_map,\n",
    "    mesh=mesh,\n",
    "    in_specs=(out_spec, P(None, \"tensor\")),\n",
    "    out_specs=(P(None, None, \"tensor\")),\n",
    ")\n",
    "def predict_tensor(params, x):\n",
    "    return model_tensor.apply({\"params\": params}, x)\n",
    "\n",
    "\n",
    "@partial(\n",
    "    jax.shard_map,\n",
    "    mesh=mesh,\n",
    "    in_specs=(out_spec, P(None, None, \"tensor\")),\n",
    "    out_specs=(P(None, \"tensor\")),\n",
    ")\n",
    "def out_predict_tensor(params, x):\n",
    "    return model_tensor.apply({\"params\": params}, x, out=True)\n",
    "\n",
    "\n",
    "print(out_spec)"
   ]
  },
  {
   "cell_type": "code",
   "execution_count": 481,
   "id": "cd19c4ee",
   "metadata": {},
   "outputs": [
    {
     "name": "stdout",
     "output_type": "stream",
     "text": [
      "RMS shape: (2, 8, 1), x shape: (2, 8, 32), gamma shape: (32,), beta shape: (32,)\n",
      "dict_keys(['embedding', 'norm'])\n"
     ]
    }
   ],
   "source": [
    "params_tensor = init_tensor(x, tensor_keys)"
   ]
  },
  {
   "cell_type": "code",
   "execution_count": 482,
   "id": "e7f79757",
   "metadata": {},
   "outputs": [
    {
     "data": {
      "text/html": [
       "<pre style=\"white-space:pre;overflow-x:auto;line-height:normal;font-family:Menlo,'DejaVu Sans Mono',consolas,'Courier New',monospace\">┌───────┐\n",
       "│ CPU <span style=\"color: #008080; text-decoration-color: #008080; font-weight: bold\">0</span> │\n",
       "├───────┤\n",
       "│ CPU <span style=\"color: #008080; text-decoration-color: #008080; font-weight: bold\">1</span> │\n",
       "├───────┤\n",
       "│ CPU <span style=\"color: #008080; text-decoration-color: #008080; font-weight: bold\">2</span> │\n",
       "├───────┤\n",
       "│ CPU <span style=\"color: #008080; text-decoration-color: #008080; font-weight: bold\">3</span> │\n",
       "├───────┤\n",
       "│ CPU <span style=\"color: #008080; text-decoration-color: #008080; font-weight: bold\">4</span> │\n",
       "├───────┤\n",
       "│ CPU <span style=\"color: #008080; text-decoration-color: #008080; font-weight: bold\">5</span> │\n",
       "├───────┤\n",
       "│ CPU <span style=\"color: #008080; text-decoration-color: #008080; font-weight: bold\">6</span> │\n",
       "├───────┤\n",
       "│ CPU <span style=\"color: #008080; text-decoration-color: #008080; font-weight: bold\">7</span> │\n",
       "└───────┘\n",
       "</pre>\n"
      ],
      "text/plain": [
       "┌───────┐\n",
       "│ CPU \u001b[1;36m0\u001b[0m │\n",
       "├───────┤\n",
       "│ CPU \u001b[1;36m1\u001b[0m │\n",
       "├───────┤\n",
       "│ CPU \u001b[1;36m2\u001b[0m │\n",
       "├───────┤\n",
       "│ CPU \u001b[1;36m3\u001b[0m │\n",
       "├───────┤\n",
       "│ CPU \u001b[1;36m4\u001b[0m │\n",
       "├───────┤\n",
       "│ CPU \u001b[1;36m5\u001b[0m │\n",
       "├───────┤\n",
       "│ CPU \u001b[1;36m6\u001b[0m │\n",
       "├───────┤\n",
       "│ CPU \u001b[1;36m7\u001b[0m │\n",
       "└───────┘\n"
      ]
     },
     "metadata": {},
     "output_type": "display_data"
    },
    {
     "data": {
      "text/html": [
       "<pre style=\"white-space:pre;overflow-x:auto;line-height:normal;font-family:Menlo,'DejaVu Sans Mono',consolas,'Courier New',monospace\">┌───────────────────┐\n",
       "│CPU <span style=\"color: #008080; text-decoration-color: #008080; font-weight: bold\">0</span>,<span style=\"color: #008080; text-decoration-color: #008080; font-weight: bold\">1</span>,<span style=\"color: #008080; text-decoration-color: #008080; font-weight: bold\">2</span>,<span style=\"color: #008080; text-decoration-color: #008080; font-weight: bold\">3</span>,<span style=\"color: #008080; text-decoration-color: #008080; font-weight: bold\">4</span>,<span style=\"color: #008080; text-decoration-color: #008080; font-weight: bold\">5</span>,<span style=\"color: #008080; text-decoration-color: #008080; font-weight: bold\">6</span>,<span style=\"color: #008080; text-decoration-color: #008080; font-weight: bold\">7</span>│\n",
       "└───────────────────┘\n",
       "</pre>\n"
      ],
      "text/plain": [
       "┌───────────────────┐\n",
       "│CPU \u001b[1;36m0\u001b[0m,\u001b[1;36m1\u001b[0m,\u001b[1;36m2\u001b[0m,\u001b[1;36m3\u001b[0m,\u001b[1;36m4\u001b[0m,\u001b[1;36m5\u001b[0m,\u001b[1;36m6\u001b[0m,\u001b[1;36m7\u001b[0m│\n",
       "└───────────────────┘\n"
      ]
     },
     "metadata": {},
     "output_type": "display_data"
    },
    {
     "data": {
      "text/html": [
       "<pre style=\"white-space:pre;overflow-x:auto;line-height:normal;font-family:Menlo,'DejaVu Sans Mono',consolas,'Courier New',monospace\">┌───────────────────┐\n",
       "│CPU <span style=\"color: #008080; text-decoration-color: #008080; font-weight: bold\">0</span>,<span style=\"color: #008080; text-decoration-color: #008080; font-weight: bold\">1</span>,<span style=\"color: #008080; text-decoration-color: #008080; font-weight: bold\">2</span>,<span style=\"color: #008080; text-decoration-color: #008080; font-weight: bold\">3</span>,<span style=\"color: #008080; text-decoration-color: #008080; font-weight: bold\">4</span>,<span style=\"color: #008080; text-decoration-color: #008080; font-weight: bold\">5</span>,<span style=\"color: #008080; text-decoration-color: #008080; font-weight: bold\">6</span>,<span style=\"color: #008080; text-decoration-color: #008080; font-weight: bold\">7</span>│\n",
       "└───────────────────┘\n",
       "</pre>\n"
      ],
      "text/plain": [
       "┌───────────────────┐\n",
       "│CPU \u001b[1;36m0\u001b[0m,\u001b[1;36m1\u001b[0m,\u001b[1;36m2\u001b[0m,\u001b[1;36m3\u001b[0m,\u001b[1;36m4\u001b[0m,\u001b[1;36m5\u001b[0m,\u001b[1;36m6\u001b[0m,\u001b[1;36m7\u001b[0m│\n",
       "└───────────────────┘\n"
      ]
     },
     "metadata": {},
     "output_type": "display_data"
    }
   ],
   "source": [
    "display_param_sharding(params_tensor)"
   ]
  },
  {
   "cell_type": "code",
   "execution_count": 483,
   "id": "13c5d877",
   "metadata": {},
   "outputs": [
    {
     "name": "stdout",
     "output_type": "stream",
     "text": [
      "(2, 8, 32)\n"
     ]
    }
   ],
   "source": [
    "x_tensor = predict_tensor(params_tensor, x)\n",
    "print(x_tensor.shape)"
   ]
  },
  {
   "cell_type": "code",
   "execution_count": 484,
   "id": "42382d9a",
   "metadata": {},
   "outputs": [
    {
     "data": {
      "text/html": [
       "<pre style=\"white-space:pre;overflow-x:auto;line-height:normal;font-family:Menlo,'DejaVu Sans Mono',consolas,'Courier New',monospace\">┌─────────┬─────────┬─────────┬─────────┬─────────┬─────────┬────────┬─────────┐\n",
       "│         │         │         │         │         │         │        │         │\n",
       "│         │         │         │         │         │         │        │         │\n",
       "│         │         │         │         │         │         │        │         │\n",
       "│         │         │         │         │         │         │        │         │\n",
       "│  CPU    │  CPU    │  CPU    │  CPU    │  CPU    │  CPU    │  CPU   │  CPU    │\n",
       "│  <span style=\"color: #008080; text-decoration-color: #008080; font-weight: bold\">0</span>      │  <span style=\"color: #008080; text-decoration-color: #008080; font-weight: bold\">1</span>      │  <span style=\"color: #008080; text-decoration-color: #008080; font-weight: bold\">2</span>      │  <span style=\"color: #008080; text-decoration-color: #008080; font-weight: bold\">3</span>      │  <span style=\"color: #008080; text-decoration-color: #008080; font-weight: bold\">4</span>      │  <span style=\"color: #008080; text-decoration-color: #008080; font-weight: bold\">5</span>      │  <span style=\"color: #008080; text-decoration-color: #008080; font-weight: bold\">6</span>     │  <span style=\"color: #008080; text-decoration-color: #008080; font-weight: bold\">7</span>      │\n",
       "│         │         │         │         │         │         │        │         │\n",
       "│         │         │         │         │         │         │        │         │\n",
       "│         │         │         │         │         │         │        │         │\n",
       "│         │         │         │         │         │         │        │         │\n",
       "└─────────┴─────────┴─────────┴─────────┴─────────┴─────────┴────────┴─────────┘\n",
       "</pre>\n"
      ],
      "text/plain": [
       "┌─────────┬─────────┬─────────┬─────────┬─────────┬─────────┬────────┬─────────┐\n",
       "│         │         │         │         │         │         │        │         │\n",
       "│         │         │         │         │         │         │        │         │\n",
       "│         │         │         │         │         │         │        │         │\n",
       "│         │         │         │         │         │         │        │         │\n",
       "│  CPU    │  CPU    │  CPU    │  CPU    │  CPU    │  CPU    │  CPU   │  CPU    │\n",
       "│  \u001b[1;36m0\u001b[0m      │  \u001b[1;36m1\u001b[0m      │  \u001b[1;36m2\u001b[0m      │  \u001b[1;36m3\u001b[0m      │  \u001b[1;36m4\u001b[0m      │  \u001b[1;36m5\u001b[0m      │  \u001b[1;36m6\u001b[0m     │  \u001b[1;36m7\u001b[0m      │\n",
       "│         │         │         │         │         │         │        │         │\n",
       "│         │         │         │         │         │         │        │         │\n",
       "│         │         │         │         │         │         │        │         │\n",
       "│         │         │         │         │         │         │        │         │\n",
       "└─────────┴─────────┴─────────┴─────────┴─────────┴─────────┴────────┴─────────┘\n"
      ]
     },
     "metadata": {},
     "output_type": "display_data"
    }
   ],
   "source": [
    "jax.debug.visualize_array_sharding(x_tensor[0])"
   ]
  },
  {
   "cell_type": "code",
   "execution_count": 485,
   "id": "48b824da",
   "metadata": {},
   "outputs": [
    {
     "data": {
      "text/plain": [
       "(2, 8, 32)"
      ]
     },
     "execution_count": 485,
     "metadata": {},
     "output_type": "execute_result"
    }
   ],
   "source": [
    "x_tensor.shape"
   ]
  },
  {
   "cell_type": "code",
   "execution_count": 486,
   "id": "496efe48",
   "metadata": {},
   "outputs": [
    {
     "data": {
      "text/plain": [
       "(2, 8)"
      ]
     },
     "execution_count": 486,
     "metadata": {},
     "output_type": "execute_result"
    }
   ],
   "source": [
    "x.shape"
   ]
  },
  {
   "cell_type": "code",
   "execution_count": 487,
   "id": "938d4d10",
   "metadata": {},
   "outputs": [
    {
     "name": "stdout",
     "output_type": "stream",
     "text": [
      "RMS shape: (2, 1, 1), x shape: (2, 1, 32), gamma shape: (32,), beta shape: (32,)\n"
     ]
    }
   ],
   "source": [
    "x_tensor_out = out_predict_tensor(params_tensor, x_tensor)"
   ]
  },
  {
   "cell_type": "code",
   "execution_count": 488,
   "id": "ab79d01b",
   "metadata": {},
   "outputs": [
    {
     "name": "stdout",
     "output_type": "stream",
     "text": [
      "(2, 8, 16)\n"
     ]
    }
   ],
   "source": [
    "print(x_tensor_out.shape)"
   ]
  },
  {
   "cell_type": "code",
   "execution_count": 489,
   "id": "8bbd5e21",
   "metadata": {},
   "outputs": [
    {
     "data": {
      "text/html": [
       "<pre style=\"white-space:pre;overflow-x:auto;line-height:normal;font-family:Menlo,'DejaVu Sans Mono',consolas,'Courier New',monospace\">┌────────────────────────────────────────────────┐\n",
       "│                     CPU <span style=\"color: #008080; text-decoration-color: #008080; font-weight: bold\">0</span>                      │\n",
       "├────────────────────────────────────────────────┤\n",
       "│                     CPU <span style=\"color: #008080; text-decoration-color: #008080; font-weight: bold\">1</span>                      │\n",
       "├────────────────────────────────────────────────┤\n",
       "│                     CPU <span style=\"color: #008080; text-decoration-color: #008080; font-weight: bold\">2</span>                      │\n",
       "├────────────────────────────────────────────────┤\n",
       "│                     CPU <span style=\"color: #008080; text-decoration-color: #008080; font-weight: bold\">3</span>                      │\n",
       "├────────────────────────────────────────────────┤\n",
       "│                     CPU <span style=\"color: #008080; text-decoration-color: #008080; font-weight: bold\">4</span>                      │\n",
       "├────────────────────────────────────────────────┤\n",
       "│                     CPU <span style=\"color: #008080; text-decoration-color: #008080; font-weight: bold\">5</span>                      │\n",
       "├────────────────────────────────────────────────┤\n",
       "│                     CPU <span style=\"color: #008080; text-decoration-color: #008080; font-weight: bold\">6</span>                      │\n",
       "├────────────────────────────────────────────────┤\n",
       "│                     CPU <span style=\"color: #008080; text-decoration-color: #008080; font-weight: bold\">7</span>                      │\n",
       "└────────────────────────────────────────────────┘\n",
       "</pre>\n"
      ],
      "text/plain": [
       "┌────────────────────────────────────────────────┐\n",
       "│                     CPU \u001b[1;36m0\u001b[0m                      │\n",
       "├────────────────────────────────────────────────┤\n",
       "│                     CPU \u001b[1;36m1\u001b[0m                      │\n",
       "├────────────────────────────────────────────────┤\n",
       "│                     CPU \u001b[1;36m2\u001b[0m                      │\n",
       "├────────────────────────────────────────────────┤\n",
       "│                     CPU \u001b[1;36m3\u001b[0m                      │\n",
       "├────────────────────────────────────────────────┤\n",
       "│                     CPU \u001b[1;36m4\u001b[0m                      │\n",
       "├────────────────────────────────────────────────┤\n",
       "│                     CPU \u001b[1;36m5\u001b[0m                      │\n",
       "├────────────────────────────────────────────────┤\n",
       "│                     CPU \u001b[1;36m6\u001b[0m                      │\n",
       "├────────────────────────────────────────────────┤\n",
       "│                     CPU \u001b[1;36m7\u001b[0m                      │\n",
       "└────────────────────────────────────────────────┘\n"
      ]
     },
     "metadata": {},
     "output_type": "display_data"
    }
   ],
   "source": [
    "display_param_sharding(x_tensor_out[0])"
   ]
  },
  {
   "cell_type": "code",
   "execution_count": 491,
   "id": "824710cf",
   "metadata": {},
   "outputs": [
    {
     "name": "stdout",
     "output_type": "stream",
     "text": [
      "Input shape: (2, 8, 8), Batch: 2, Sequence Length: 8, Model Dimension: 8\n",
      "x shape before scatter: (2, 8, 192)\n",
      "x shape after scatter: (2, 8, 24)\n",
      "x shape: (2, 8, 24)\n",
      "x shape after all_to_all: (2, 8, 1, 24)\n",
      "q shape: (2, 8, 1, 8), k shape: (2, 8, 1, 8), v shape: (2, 8, 1, 8)\n",
      "score shape: (2, 1, 8, 8)\n",
      "x shape (2, 8, 1, 8)\n",
      "x shape after all_to_all: (2, 8, 8, 1)\n",
      "x shape after reshape: (2, 8, 8)\n",
      "x shape before scatter: (2, 8, 64)\n",
      "x shape after scatter: (2, 8, 8)\n"
     ]
    }
   ],
   "source": [
    "from functools import partial\n",
    "from jax.sharding import PartitionSpec as P\n",
    "\n",
    "model_tensor = Attention(model_dimension=64, num_heads=8, model_dtype=jnp.float32)\n",
    "\n",
    "tensor_keys = jax.random.split(init_key, 8)\n",
    "tensor_keys = jnp.array(tensor_keys)\n",
    "x = jnp.ones((2, 8, 64), dtype=jnp.float32)\n",
    "\n",
    "\n",
    "@partial(\n",
    "    jax.shard_map,\n",
    "    mesh=mesh,\n",
    "    in_specs=(P(None, None, \"tensor\"), P(\"tensor\")),\n",
    "    out_specs=P(\"tensor\"),\n",
    ")\n",
    "def init_var_spec(x, key):\n",
    "    return model_tensor.init(key[0], x)[\"params\"]\n",
    "\n",
    "\n",
    "var_spec = jax.eval_shape(lambda key, x: init_var_spec(x, key), tensor_keys, x)\n",
    "\n",
    "\n",
    "def get_sharding(current_shape):\n",
    "    if current_shape.ndim < 2:\n",
    "        return P()\n",
    "    else:\n",
    "        return P(\"tensor\")\n",
    "\n",
    "\n",
    "out_spec = jax.tree.map(lambda x: get_sharding(x), var_spec)\n",
    "\n",
    "\n",
    "@partial(\n",
    "    jax.shard_map,\n",
    "    mesh=mesh,\n",
    "    in_specs=(P(None, None, \"tensor\"), P(\"tensor\")),\n",
    "    out_specs=out_spec,\n",
    ")\n",
    "def init_tensor(x, key):\n",
    "    return model_tensor.init(key[0], x)[\"params\"]\n",
    "\n",
    "\n",
    "@partial(\n",
    "    jax.shard_map,\n",
    "    mesh=mesh,\n",
    "    in_specs=(out_spec, P(None, None, \"tensor\")),\n",
    "    out_specs=(P(None, None, \"tensor\")),\n",
    ")\n",
    "def predict_tensor(params, x):\n",
    "    return model_tensor.apply({\"params\": params}, x)\n",
    "\n",
    "\n",
    "@partial(\n",
    "    jax.shard_map,\n",
    "    mesh=mesh,\n",
    "    in_specs=(out_spec, P(None, None, \"tensor\")),\n",
    "    out_specs=(P(None, None, \"tensor\")),\n",
    ")\n",
    "def out_predict_tensor(params, x):\n",
    "    return model_tensor.apply({\"params\": params}, x, out=True)"
   ]
  },
  {
   "cell_type": "code",
   "execution_count": 492,
   "id": "cdcd8795",
   "metadata": {},
   "outputs": [
    {
     "name": "stdout",
     "output_type": "stream",
     "text": [
      "Input shape: (2, 8, 8), Batch: 2, Sequence Length: 8, Model Dimension: 8\n",
      "x shape before scatter: (2, 8, 192)\n",
      "x shape after scatter: (2, 8, 24)\n",
      "x shape: (2, 8, 24)\n",
      "x shape after all_to_all: (2, 8, 1, 24)\n",
      "q shape: (2, 8, 1, 8), k shape: (2, 8, 1, 8), v shape: (2, 8, 1, 8)\n",
      "score shape: (2, 1, 8, 8)\n",
      "x shape (2, 8, 1, 8)\n",
      "x shape after all_to_all: (2, 8, 8, 1)\n",
      "x shape after reshape: (2, 8, 8)\n",
      "x shape before scatter: (2, 8, 64)\n",
      "x shape after scatter: (2, 8, 8)\n"
     ]
    }
   ],
   "source": [
    "attention_params = init_tensor(x, tensor_keys)"
   ]
  },
  {
   "cell_type": "markdown",
   "id": "6bf08b77",
   "metadata": {},
   "source": []
  },
  {
   "cell_type": "code",
   "execution_count": 493,
   "id": "cde457a6",
   "metadata": {},
   "outputs": [
    {
     "data": {
      "text/html": [
       "<pre style=\"white-space:pre;overflow-x:auto;line-height:normal;font-family:Menlo,'DejaVu Sans Mono',consolas,'Courier New',monospace\">┌───────────────────┐\n",
       "│CPU <span style=\"color: #008080; text-decoration-color: #008080; font-weight: bold\">0</span>,<span style=\"color: #008080; text-decoration-color: #008080; font-weight: bold\">1</span>,<span style=\"color: #008080; text-decoration-color: #008080; font-weight: bold\">2</span>,<span style=\"color: #008080; text-decoration-color: #008080; font-weight: bold\">3</span>,<span style=\"color: #008080; text-decoration-color: #008080; font-weight: bold\">4</span>,<span style=\"color: #008080; text-decoration-color: #008080; font-weight: bold\">5</span>,<span style=\"color: #008080; text-decoration-color: #008080; font-weight: bold\">6</span>,<span style=\"color: #008080; text-decoration-color: #008080; font-weight: bold\">7</span>│\n",
       "└───────────────────┘\n",
       "</pre>\n"
      ],
      "text/plain": [
       "┌───────────────────┐\n",
       "│CPU \u001b[1;36m0\u001b[0m,\u001b[1;36m1\u001b[0m,\u001b[1;36m2\u001b[0m,\u001b[1;36m3\u001b[0m,\u001b[1;36m4\u001b[0m,\u001b[1;36m5\u001b[0m,\u001b[1;36m6\u001b[0m,\u001b[1;36m7\u001b[0m│\n",
       "└───────────────────┘\n"
      ]
     },
     "metadata": {},
     "output_type": "display_data"
    },
    {
     "data": {
      "text/html": [
       "<pre style=\"white-space:pre;overflow-x:auto;line-height:normal;font-family:Menlo,'DejaVu Sans Mono',consolas,'Courier New',monospace\">┌───────────────────────┐\n",
       "│         CPU <span style=\"color: #008080; text-decoration-color: #008080; font-weight: bold\">0</span>         │\n",
       "├───────────────────────┤\n",
       "│         CPU <span style=\"color: #008080; text-decoration-color: #008080; font-weight: bold\">1</span>         │\n",
       "├───────────────────────┤\n",
       "│         CPU <span style=\"color: #008080; text-decoration-color: #008080; font-weight: bold\">2</span>         │\n",
       "├───────────────────────┤\n",
       "│         CPU <span style=\"color: #008080; text-decoration-color: #008080; font-weight: bold\">3</span>         │\n",
       "├───────────────────────┤\n",
       "│         CPU <span style=\"color: #008080; text-decoration-color: #008080; font-weight: bold\">4</span>         │\n",
       "├───────────────────────┤\n",
       "│         CPU <span style=\"color: #008080; text-decoration-color: #008080; font-weight: bold\">5</span>         │\n",
       "├───────────────────────┤\n",
       "│         CPU <span style=\"color: #008080; text-decoration-color: #008080; font-weight: bold\">6</span>         │\n",
       "├───────────────────────┤\n",
       "│         CPU <span style=\"color: #008080; text-decoration-color: #008080; font-weight: bold\">7</span>         │\n",
       "└───────────────────────┘\n",
       "</pre>\n"
      ],
      "text/plain": [
       "┌───────────────────────┐\n",
       "│         CPU \u001b[1;36m0\u001b[0m         │\n",
       "├───────────────────────┤\n",
       "│         CPU \u001b[1;36m1\u001b[0m         │\n",
       "├───────────────────────┤\n",
       "│         CPU \u001b[1;36m2\u001b[0m         │\n",
       "├───────────────────────┤\n",
       "│         CPU \u001b[1;36m3\u001b[0m         │\n",
       "├───────────────────────┤\n",
       "│         CPU \u001b[1;36m4\u001b[0m         │\n",
       "├───────────────────────┤\n",
       "│         CPU \u001b[1;36m5\u001b[0m         │\n",
       "├───────────────────────┤\n",
       "│         CPU \u001b[1;36m6\u001b[0m         │\n",
       "├───────────────────────┤\n",
       "│         CPU \u001b[1;36m7\u001b[0m         │\n",
       "└───────────────────────┘\n"
      ]
     },
     "metadata": {},
     "output_type": "display_data"
    },
    {
     "data": {
      "text/html": [
       "<pre style=\"white-space:pre;overflow-x:auto;line-height:normal;font-family:Menlo,'DejaVu Sans Mono',consolas,'Courier New',monospace\">┌───────────────────┐\n",
       "│CPU <span style=\"color: #008080; text-decoration-color: #008080; font-weight: bold\">0</span>,<span style=\"color: #008080; text-decoration-color: #008080; font-weight: bold\">1</span>,<span style=\"color: #008080; text-decoration-color: #008080; font-weight: bold\">2</span>,<span style=\"color: #008080; text-decoration-color: #008080; font-weight: bold\">3</span>,<span style=\"color: #008080; text-decoration-color: #008080; font-weight: bold\">4</span>,<span style=\"color: #008080; text-decoration-color: #008080; font-weight: bold\">5</span>,<span style=\"color: #008080; text-decoration-color: #008080; font-weight: bold\">6</span>,<span style=\"color: #008080; text-decoration-color: #008080; font-weight: bold\">7</span>│\n",
       "└───────────────────┘\n",
       "</pre>\n"
      ],
      "text/plain": [
       "┌───────────────────┐\n",
       "│CPU \u001b[1;36m0\u001b[0m,\u001b[1;36m1\u001b[0m,\u001b[1;36m2\u001b[0m,\u001b[1;36m3\u001b[0m,\u001b[1;36m4\u001b[0m,\u001b[1;36m5\u001b[0m,\u001b[1;36m6\u001b[0m,\u001b[1;36m7\u001b[0m│\n",
       "└───────────────────┘\n"
      ]
     },
     "metadata": {},
     "output_type": "display_data"
    },
    {
     "data": {
      "text/html": [
       "<pre style=\"white-space:pre;overflow-x:auto;line-height:normal;font-family:Menlo,'DejaVu Sans Mono',consolas,'Courier New',monospace\">┌─────────────────────────────────────────────────────────────────────────┐\n",
       "│                                  CPU <span style=\"color: #008080; text-decoration-color: #008080; font-weight: bold\">0</span>                                  │\n",
       "├─────────────────────────────────────────────────────────────────────────┤\n",
       "│                                  CPU <span style=\"color: #008080; text-decoration-color: #008080; font-weight: bold\">1</span>                                  │\n",
       "├─────────────────────────────────────────────────────────────────────────┤\n",
       "│                                  CPU <span style=\"color: #008080; text-decoration-color: #008080; font-weight: bold\">2</span>                                  │\n",
       "├─────────────────────────────────────────────────────────────────────────┤\n",
       "│                                  CPU <span style=\"color: #008080; text-decoration-color: #008080; font-weight: bold\">3</span>                                  │\n",
       "├─────────────────────────────────────────────────────────────────────────┤\n",
       "│                                  CPU <span style=\"color: #008080; text-decoration-color: #008080; font-weight: bold\">4</span>                                  │\n",
       "├─────────────────────────────────────────────────────────────────────────┤\n",
       "│                                  CPU <span style=\"color: #008080; text-decoration-color: #008080; font-weight: bold\">5</span>                                  │\n",
       "├─────────────────────────────────────────────────────────────────────────┤\n",
       "│                                  CPU <span style=\"color: #008080; text-decoration-color: #008080; font-weight: bold\">6</span>                                  │\n",
       "├─────────────────────────────────────────────────────────────────────────┤\n",
       "│                                  CPU <span style=\"color: #008080; text-decoration-color: #008080; font-weight: bold\">7</span>                                  │\n",
       "└─────────────────────────────────────────────────────────────────────────┘\n",
       "</pre>\n"
      ],
      "text/plain": [
       "┌─────────────────────────────────────────────────────────────────────────┐\n",
       "│                                  CPU \u001b[1;36m0\u001b[0m                                  │\n",
       "├─────────────────────────────────────────────────────────────────────────┤\n",
       "│                                  CPU \u001b[1;36m1\u001b[0m                                  │\n",
       "├─────────────────────────────────────────────────────────────────────────┤\n",
       "│                                  CPU \u001b[1;36m2\u001b[0m                                  │\n",
       "├─────────────────────────────────────────────────────────────────────────┤\n",
       "│                                  CPU \u001b[1;36m3\u001b[0m                                  │\n",
       "├─────────────────────────────────────────────────────────────────────────┤\n",
       "│                                  CPU \u001b[1;36m4\u001b[0m                                  │\n",
       "├─────────────────────────────────────────────────────────────────────────┤\n",
       "│                                  CPU \u001b[1;36m5\u001b[0m                                  │\n",
       "├─────────────────────────────────────────────────────────────────────────┤\n",
       "│                                  CPU \u001b[1;36m6\u001b[0m                                  │\n",
       "├─────────────────────────────────────────────────────────────────────────┤\n",
       "│                                  CPU \u001b[1;36m7\u001b[0m                                  │\n",
       "└─────────────────────────────────────────────────────────────────────────┘\n"
      ]
     },
     "metadata": {},
     "output_type": "display_data"
    }
   ],
   "source": [
    "display_param_sharding(attention_params)"
   ]
  },
  {
   "cell_type": "code",
   "execution_count": 494,
   "id": "35277934",
   "metadata": {},
   "outputs": [
    {
     "name": "stdout",
     "output_type": "stream",
     "text": [
      "Input shape: (2, 8, 8), Batch: 2, Sequence Length: 8, Model Dimension: 8\n",
      "x shape before scatter: (2, 8, 192)\n",
      "x shape after scatter: (2, 8, 24)\n",
      "x shape: (2, 8, 24)\n",
      "x shape after all_to_all: (2, 8, 1, 24)\n",
      "q shape: (2, 8, 1, 8), k shape: (2, 8, 1, 8), v shape: (2, 8, 1, 8)\n",
      "score shape: (2, 1, 8, 8)\n",
      "x shape (2, 8, 1, 8)\n",
      "x shape after all_to_all: (2, 8, 8, 1)\n",
      "x shape after reshape: (2, 8, 8)\n",
      "x shape before scatter: (2, 8, 64)\n",
      "x shape after scatter: (2, 8, 8)\n"
     ]
    },
    {
     "data": {
      "text/plain": [
       "(2, 8, 64)"
      ]
     },
     "execution_count": 494,
     "metadata": {},
     "output_type": "execute_result"
    }
   ],
   "source": [
    "predict_tensor(attention_params, x).shape"
   ]
  },
  {
   "cell_type": "code",
   "execution_count": null,
   "id": "1007a308",
   "metadata": {},
   "outputs": [],
   "source": []
  },
  {
   "cell_type": "code",
   "execution_count": null,
   "id": "4a051ca6",
   "metadata": {},
   "outputs": [],
   "source": []
  }
 ],
 "metadata": {
  "kernelspec": {
   "display_name": "jaxformer",
   "language": "python",
   "name": "python3"
  },
  "language_info": {
   "codemirror_mode": {
    "name": "ipython",
    "version": 3
   },
   "file_extension": ".py",
   "mimetype": "text/x-python",
   "name": "python",
   "nbconvert_exporter": "python",
   "pygments_lexer": "ipython3",
   "version": "3.13.5"
  }
 },
 "nbformat": 4,
 "nbformat_minor": 5
}
