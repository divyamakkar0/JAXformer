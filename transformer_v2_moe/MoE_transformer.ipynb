{
 "cells": [
  {
   "cell_type": "code",
   "execution_count": 2,
   "id": "99683331",
   "metadata": {},
   "outputs": [],
   "source": [
    "import jax\n",
    "import jax.numpy as jnp\n",
    "from jax import random\n",
    "import math\n",
    "from typing import Callable"
   ]
  },
  {
   "cell_type": "code",
   "execution_count": 3,
   "id": "96f5c320",
   "metadata": {},
   "outputs": [],
   "source": [
    "try:\n",
    "    import flax\n",
    "except ModuleNotFoundError:  # Install flax if missing\n",
    "    !pip install --quiet flax\n",
    "    import flax\n",
    "\n",
    "from flax import linen as nn"
   ]
  },
  {
   "cell_type": "code",
   "execution_count": 4,
   "id": "3b708221",
   "metadata": {},
   "outputs": [],
   "source": [
    "class Embeddings(nn.Module):\n",
    "    model_dimension: int\n",
    "    vocab_size: int\n",
    "\n",
    "    def setup(self):\n",
    "        self.embedding = nn.Embed(\n",
    "            num_embeddings=self.vocab_size, features=self.model_dimension\n",
    "        )\n",
    "\n",
    "    def __call__(self, x):\n",
    "        x = self.embedding(x) * math.sqrt(self.model_dimension)\n",
    "        return x"
   ]
  },
  {
   "cell_type": "code",
   "execution_count": 5,
   "id": "78e2a048",
   "metadata": {},
   "outputs": [],
   "source": [
    "class PositionalEncoding(nn.Module):\n",
    "    model_dimension: int\n",
    "    seq_len: int\n",
    "\n",
    "    def setup(self):\n",
    "        zeros = jnp.zeros((self.seq_len, self.model_dimension))\n",
    "        row = jnp.arange(0, self.seq_len, 1)\n",
    "        pos_matrix = row.reshape(-1, 1)\n",
    "        row2 = jnp.arange(0, self.model_dimension, 1)\n",
    "        pos2 = zeros + row2\n",
    "        j = pos2 // 2\n",
    "        denom = 1 / (10000 ** ((2 * j) / self.model_dimension))\n",
    "        inp = pos_matrix * denom\n",
    "        pi2j = jnp.sin(inp)\n",
    "        pi2j1 = jnp.cos(inp)\n",
    "        zeros = zeros.at[:, 0::2].set(pi2j[:, ::2])\n",
    "        zeros = zeros.at[:, 1::2].set(pi2j1[:, 1::2])\n",
    "        self.encodings = zeros\n",
    "\n",
    "    def __call__(self, x):\n",
    "        return x + self.encodings"
   ]
  },
  {
   "cell_type": "code",
   "execution_count": 6,
   "id": "2a55c26a",
   "metadata": {},
   "outputs": [],
   "source": [
    "class ScaledDotProduct(nn.Module):\n",
    "    dk: int\n",
    "\n",
    "    def setup(self):\n",
    "        self.W = nn.Dense(features=3 * self.dk)\n",
    "\n",
    "    def __call__(self, x):\n",
    "        qkv = self.W(x)\n",
    "        q, k, v = jnp.split(qkv, 3, axis=-1)\n",
    "        weights = jnp.einsum(\"b t c, b T c -> b t T\", q, k) / math.sqrt(self.dk)\n",
    "        size = weights.shape[-1]\n",
    "        mask = jnp.tril(jnp.ones((size, size)))\n",
    "        logits = jnp.where(mask == 0, -9e15, weights)\n",
    "        attention = nn.softmax(logits, axis=-1)\n",
    "        values = jnp.einsum(\"b t T, b T c -> b t c\", attention, v)\n",
    "        return values"
   ]
  },
  {
   "cell_type": "code",
   "execution_count": 7,
   "id": "b65c4b89",
   "metadata": {},
   "outputs": [],
   "source": [
    "class MultiHeadAttention(nn.Module):\n",
    "    n_heads: int\n",
    "    model_dim: int\n",
    "\n",
    "    def setup(self):\n",
    "        self.dk = self.model_dim / self.n_heads\n",
    "        self.SA_layers = [ScaledDotProduct(self.dk) for i in range(self.n_heads)]\n",
    "        self.WO = nn.Dense(features=self.model_dim)\n",
    "\n",
    "    def __call__(self, x):\n",
    "        scores = [layer(x) for layer in self.SA_layers]\n",
    "        mha = jnp.concatenate(scores, axis=-1)\n",
    "        res = self.WO(mha)\n",
    "        return res"
   ]
  },
  {
   "cell_type": "code",
   "execution_count": 8,
   "id": "a298577c",
   "metadata": {},
   "outputs": [],
   "source": [
    "class LayerNorm(nn.Module):\n",
    "    model_dimension: int\n",
    "    gamma_init: Callable = nn.initializers.lecun_normal()\n",
    "    beta_init: Callable = nn.initializers.lecun_normal()\n",
    "\n",
    "    def setup(self):\n",
    "        self.gamma = self.param(\"gamma\", self.gamma_init, self.model_dimension)\n",
    "        self.beta = self.param(\"beta\", self.beta_init, self.model_dimension)\n",
    "        self.eps = 1e-05\n",
    "\n",
    "    def __call__(self, x):\n",
    "        mean = jnp.mean(x, axis=-1, keepdims=True)\n",
    "        var = jnp.var(x, axis=-1, keepdims=True)\n",
    "        norm = (x - mean) / jnp.sqrt(var + self.eps)\n",
    "        y = jnp.einsum(\"B T C, C -> B T C\", norm, self.gamma) + self.beta[None, None, :]\n",
    "\n",
    "        return y"
   ]
  },
  {
   "cell_type": "code",
   "execution_count": 9,
   "id": "a223c85a",
   "metadata": {},
   "outputs": [],
   "source": [
    "class Expert(nn.Module):\n",
    "    model_dimension: int\n",
    "    ff_dim: int\n",
    "    dropout: float\n",
    "\n",
    "    def setup(self):\n",
    "        self.linear1 = nn.Dense(features=self.ff_dim)\n",
    "        self.linear2 = nn.Dense(features=self.model_dimension)\n",
    "        self.dropout = nn.Dropout(rate=self.dropout)\n",
    "\n",
    "    def __call__(self, x):\n",
    "        x = self.linear1(x)\n",
    "        x = nn.relu(x)\n",
    "        x = nn.dropout(x)\n",
    "        x = self.linear2(x)\n",
    "        return x"
   ]
  },
  {
   "cell_type": "code",
   "execution_count": 10,
   "id": "4557f9f9",
   "metadata": {},
   "outputs": [],
   "source": [
    "class SoftmaxGate(nn.Module):\n",
    "    model_dimension: int\n",
    "    n_experts: int\n",
    "\n",
    "    def setup(self):\n",
    "        self.Wg = nn.Dense(features=self.n_experts)\n",
    "\n",
    "    def __call__(self, x):\n",
    "        g = self.Wg(x)\n",
    "        gate = nn.softmax(g, axis=-1)\n",
    "        return gate"
   ]
  },
  {
   "cell_type": "code",
   "execution_count": null,
   "id": "b1433506",
   "metadata": {},
   "outputs": [],
   "source": [
    "class NoisyKGate(nn.Module):\n",
    "    model_dimension: int\n",
    "    n_experts: int\n",
    "    k: int\n",
    "    dropout: float\n",
    "\n",
    "    def setup(self):\n",
    "        self.rng = jax.random.PRNGKey(42)\n",
    "        self.Wg = nn.Dense(features=self.n_experts)\n",
    "        self.Wnoise = nn.Dense(features=self.n_experts)\n",
    "\n",
    "    def top(self, x):\n",
    "        k = self.k\n",
    "        y, i = jax.lax.top_k(x, k)\n",
    "        y = nn.softmax(y)\n",
    "        # z = jnp.ones(x.shape) * -jnp.inf\n",
    "        # z = z.at[i].set(y)\n",
    "        return y, i\n",
    "\n",
    "    def __call__(self, x):\n",
    "        # B,T,N\n",
    "        b = x.shape[0]\n",
    "        t = x.shape[1]\n",
    "        Hx = self.Wg(x) + (\n",
    "            (jax.random.normal(self.rng, shape=(b, t, self.n_experts)))\n",
    "            * nn.softplus(self.Wnoise(x))\n",
    "        )\n",
    "        g_scores, indices = jnp.apply_along_axis(func1d=self.top, axis=-1, arr=Hx)\n",
    "        return g_scores, indices"
   ]
  },
  {
   "cell_type": "code",
   "execution_count": 13,
   "id": "94872669",
   "metadata": {},
   "outputs": [],
   "source": [
    "y = jnp.ones(2)\n",
    "y\n",
    "expert1 = jnp.ones((2, 3, 4)) * 2\n",
    "expert2 = jnp.ones((2, 3, 4)) * 3\n",
    "experts = [expert1, expert2]"
   ]
  },
  {
   "cell_type": "code",
   "execution_count": 14,
   "id": "928f6e32",
   "metadata": {},
   "outputs": [
    {
     "data": {
      "text/plain": [
       "Array([0, 1], dtype=int32)"
      ]
     },
     "execution_count": 14,
     "metadata": {},
     "output_type": "execute_result"
    }
   ],
   "source": [
    "z = jnp.arange(2)\n",
    "z"
   ]
  },
  {
   "cell_type": "code",
   "execution_count": 15,
   "id": "bc77d3f5",
   "metadata": {},
   "outputs": [
    {
     "data": {
      "text/plain": [
       "Array([[[3., 3., 3., 3.],\n",
       "        [3., 3., 3., 3.],\n",
       "        [3., 3., 3., 3.]],\n",
       "\n",
       "       [[3., 3., 3., 3.],\n",
       "        [3., 3., 3., 3.],\n",
       "        [3., 3., 3., 3.]]], dtype=float32)"
      ]
     },
     "execution_count": 15,
     "metadata": {},
     "output_type": "execute_result"
    }
   ],
   "source": [
    "# scores = [i * experts[i] for i in z]\n",
    "scores = [z[i] * experts[i] for i in range(2)]\n",
    "sum(scores)"
   ]
  },
  {
   "cell_type": "code",
   "execution_count": null,
   "id": "f8883f26",
   "metadata": {},
   "outputs": [],
   "source": [
    "class MoE(nn.Module):\n",
    "    model_dimension: int\n",
    "    n_experts: int\n",
    "    k: int\n",
    "    dropout: float\n",
    "\n",
    "    def setup(self):\n",
    "        self.experts = [\n",
    "            Expert(\n",
    "                model_dimension=self.model_dimension,\n",
    "                ff_dim=4 * self.model_dimension,\n",
    "                dropout=self.dropout,\n",
    "            )\n",
    "            for i in range(self.n_experts)\n",
    "        ]\n",
    "        self.gate = NoisyKGate(\n",
    "            model_dim=self.model_dimension, num_experts=self.n_experts, k=self.k\n",
    "        )\n",
    "\n",
    "    def gScores(self, scores, indices, x):\n",
    "        expert = lambda i: self.experts[i](x)  # (C) -> (C)\n",
    "        expert_parallel = jax.vmap(fun=expert, in_axes=(0), out_axes=(0))\n",
    "\n",
    "        experts = expert_parallel(indices)  # (K) -> (K, C)\n",
    "        gscore = scores[:, None] * experts  # (K, 1), (K, C) -> (K, C)\n",
    "        gscore = jnp.sum(gscore, axis=0)  # (K, C) -> C\n",
    "        return gscore\n",
    "\n",
    "    def __call__(self, x):\n",
    "        s, i = self.gate(x)\n",
    "        gscore_parallel = jax.vmap(\n",
    "            fun=jax.vmap(fun=self.gScores, in_axes=(0, 0, 0), out_axes=(0)),\n",
    "            in_axis=(0, 0, 0),\n",
    "            out_axes=(0),\n",
    "        )\n",
    "        res = gscore_parallel(s, i, x)\n",
    "        return res"
   ]
  },
  {
   "cell_type": "code",
   "execution_count": null,
   "id": "d88b9ea2",
   "metadata": {},
   "outputs": [],
   "source": [
    "class FeedForward(nn.Module):\n",
    "    model_dimension: int\n",
    "    ff_dim: int\n",
    "    dropout: float\n",
    "\n",
    "    def setup(self):\n",
    "        self.linear1 = nn.Dense(features=self.ff_dim)\n",
    "        self.linear2 = nn.Dense(features=self.model_dimension)\n",
    "        self.dropout = nn.Dropout(rate=self.dropout)\n",
    "\n",
    "    def __call__(self, x):\n",
    "        x = self.linear1(x)\n",
    "        x = nn.relu(x)\n",
    "        x = nn.dropout(x)\n",
    "        x = self.linear2(x)\n",
    "        return x"
   ]
  },
  {
   "cell_type": "code",
   "execution_count": 11,
   "id": "f3ca4161",
   "metadata": {},
   "outputs": [],
   "source": [
    "class Block(nn.Module):\n",
    "    model_dimension: int\n",
    "    n_heads: int\n",
    "    dropount: float\n",
    "\n",
    "    def setup(self):\n",
    "        self.attention = MultiHeadAttention(\n",
    "            model_dim=self.model_dimension, n_heads=self.n_heads\n",
    "        )\n",
    "        self.norm1 = LayerNorm(model_dimension=self.model_dimension)\n",
    "        self.norm2 = LayerNorm(model_dimension=self.model_dimension)\n",
    "        self.feedForward = FeedForward(\n",
    "            model_dimension=self.model_dimension,\n",
    "            ff_dim=4 * self.model_dimension,\n",
    "            dropout=self.dropout,\n",
    "        )\n",
    "\n",
    "    def __call__(self, x):\n",
    "        x = self.norm1(x + self.attention(x))\n",
    "        x = self.norm2(x + self.feedForward(x))\n",
    "        return x"
   ]
  },
  {
   "cell_type": "code",
   "execution_count": 12,
   "id": "62dc13eb",
   "metadata": {},
   "outputs": [],
   "source": [
    "class Decoder(nn.Module):\n",
    "    model_dimension: int\n",
    "    n_heads: int\n",
    "    seq_len: int\n",
    "    vocab_size: int\n",
    "    dropout: float\n",
    "    blocks: int\n",
    "\n",
    "    def setup(self):\n",
    "        self.embeddingTable = Embeddings(\n",
    "            model_dimension=self.model_dimension, vocab_size=self.vocab_size\n",
    "        )\n",
    "        self.Blocks = [\n",
    "            Block(\n",
    "                model_dimension=self.model_dimension,\n",
    "                n_heads=self.n_heads,\n",
    "                dropount=self.dropout,\n",
    "            )\n",
    "            for i in range(self.blocks)\n",
    "        ]\n",
    "        self.encodings = PositionalEncoding(\n",
    "            model_dimension=self.model_dimension, seq_len=self.seq_len\n",
    "        )\n",
    "        self.linear = nn.Dense(features=self.vocab_size)\n",
    "\n",
    "    def __call__(self, x):\n",
    "        # B,T\n",
    "        x = self.embeddingTable(x)  # B,T,C\n",
    "        x = self.encodings(x)\n",
    "        x = [Block(x) for Block in self.blocks]\n",
    "        x = self.linear(x)\n",
    "        result = nn.softmax(x, axis=-1)\n",
    "        return result"
   ]
  }
 ],
 "metadata": {
  "kernelspec": {
   "display_name": "jax_intro",
   "language": "python",
   "name": "python3"
  },
  "language_info": {
   "codemirror_mode": {
    "name": "ipython",
    "version": 3
   },
   "file_extension": ".py",
   "mimetype": "text/x-python",
   "name": "python",
   "nbconvert_exporter": "python",
   "pygments_lexer": "ipython3",
   "version": "3.11.12"
  }
 },
 "nbformat": 4,
 "nbformat_minor": 5
}
