{
 "cells": [
  {
   "cell_type": "code",
   "execution_count": 2,
   "id": "293895dc",
   "metadata": {},
   "outputs": [],
   "source": [
    "import os\n",
    "os.environ[\"XLA_FLAGS\"] = \"--xla_force_host_platform_device_count=8\"\n",
    "\n",
    "import functools\n",
    "\n",
    "import flax.linen as nn\n",
    "import jax\n",
    "import jax.numpy as jnp\n",
    "import numpy as np\n",
    "import optax\n",
    "from jax.experimental.shard_map import shard_map\n",
    "from jax.sharding import Mesh\n",
    "from jax.sharding import PartitionSpec as P\n",
    "from ml_collections import ConfigDict\n",
    "from functools import partial"
   ]
  },
  {
   "cell_type": "code",
   "execution_count": 3,
   "id": "9ef177e4",
   "metadata": {},
   "outputs": [],
   "source": [
    "device_array = np.array(jax.devices())\n",
    "mesh = Mesh(device_array, (\"model\",))"
   ]
  },
  {
   "cell_type": "code",
   "execution_count": 21,
   "id": "74b3cc2b",
   "metadata": {},
   "outputs": [],
   "source": [
    "class TPDense(nn.Module):\n",
    "  features: int\n",
    "  dtype: jnp.dtype = jnp.bfloat16\n",
    "  @nn.compact\n",
    "  def __call__(self, x):\n",
    "    ki = nn.linear.default_kernel_init\n",
    "    h = nn.Dense(\n",
    "        self.features,\n",
    "        dtype=self.dtype,\n",
    "        kernel_init=nn.with_partitioning(ki, (None, 'model')))(x)\n",
    "    return h\n",
    "\n",
    "dense = TPDense(4096)"
   ]
  },
  {
   "cell_type": "code",
   "execution_count": 22,
   "id": "f9c845a3",
   "metadata": {},
   "outputs": [],
   "source": [
    "x = jnp.ones((8 * 1024, 1024))\n",
    "\n",
    "# use eval_shape to get the Partitioned instances for the variables.\n",
    "# this way we can determinte the PartitionSpecs for the init variables\n",
    "# before we call the init fn.\n",
    "var_spec = jax.eval_shape(dense.init, jax.random.PRNGKey(0), x)\n",
    "var_spec_out = nn.get_partition_spec(var_spec) #generates a PyTree of PartitionSpecs as out_spec needs to be a pytree\n",
    "\n",
    "init_specs = (None, P(None, \"model\"))\n",
    "\n",
    "init_fn_sharded = partial(shard_map, mesh=mesh, in_specs=init_specs, out_specs=var_spec_out)(mlp.init)\n",
    "\n",
    "variables = init_fn_sharded(jax.random.PRNGKey(0), x)\n",
    "\n",
    "\n",
    "apply_fn_sharded = partial(shard_map, mesh=mesh, in_specs=(var_spec_out, P(None, \"model\")), out_specs=P(None, \"model\"))(mlp.apply)\n",
    "\n",
    "output = apply_fn_sharded(variables, x)\n"
   ]
  },
  {
   "cell_type": "code",
   "execution_count": 24,
   "id": "e91b3d5f",
   "metadata": {},
   "outputs": [
    {
     "data": {
      "text/plain": [
       "NamedSharding(mesh=Mesh('model': 8, axis_types=(Auto,)), spec=PartitionSpec(None, 'model'), memory_kind=unpinned_host)"
      ]
     },
     "execution_count": 24,
     "metadata": {},
     "output_type": "execute_result"
    }
   ],
   "source": [
    "jax.tree.map( lambda x: x.sharding, output)"
   ]
  },
  {
   "cell_type": "code",
   "execution_count": null,
   "id": "f76b00dc",
   "metadata": {},
   "outputs": [],
   "source": []
  }
 ],
 "metadata": {
  "kernelspec": {
   "display_name": "jax_intro",
   "language": "python",
   "name": "python3"
  },
  "language_info": {
   "codemirror_mode": {
    "name": "ipython",
    "version": 3
   },
   "file_extension": ".py",
   "mimetype": "text/x-python",
   "name": "python",
   "nbconvert_exporter": "python",
   "pygments_lexer": "ipython3",
   "version": "3.11.12"
  }
 },
 "nbformat": 4,
 "nbformat_minor": 5
}
