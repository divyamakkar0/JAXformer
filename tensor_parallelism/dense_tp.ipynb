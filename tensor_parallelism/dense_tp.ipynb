{
 "cells": [
  {
   "cell_type": "code",
   "execution_count": 2,
   "id": "293895dc",
   "metadata": {},
   "outputs": [],
   "source": [
    "import os\n",
    "os.environ[\"XLA_FLAGS\"] = \"--xla_force_host_platform_device_count=8\"\n",
    "\n",
    "import functools\n",
    "\n",
    "import flax.linen as nn\n",
    "import jax\n",
    "import jax.numpy as jnp\n",
    "import numpy as np\n",
    "import optax\n",
    "from jax.experimental.shard_map import shard_map\n",
    "from jax.sharding import Mesh\n",
    "from jax.sharding import PartitionSpec as P\n",
    "from ml_collections import ConfigDict\n",
    "from functools import partial"
   ]
  },
  {
   "cell_type": "code",
   "execution_count": 3,
   "id": "9ef177e4",
   "metadata": {},
   "outputs": [],
   "source": [
    "device_array = np.array(jax.devices())\n",
    "mesh = Mesh(device_array, (\"model\",))"
   ]
  },
  {
   "cell_type": "code",
   "execution_count": 13,
   "id": "74b3cc2b",
   "metadata": {},
   "outputs": [],
   "source": [
    "class TPDense(nn.Module):\n",
    "  features: int\n",
    "  @nn.compact\n",
    "  def __call__(self, x):\n",
    "    ki = nn.linear.default_kernel_init\n",
    "    h = nn.Dense(\n",
    "        self.features,\n",
    "        kernel_init=nn.with_partitioning(ki, (None, 'model')))(x)\n",
    "    return h\n",
    "\n",
    "dense = TPDense(4096)"
   ]
  },
  {
   "cell_type": "code",
   "execution_count": 14,
   "id": "f9c845a3",
   "metadata": {},
   "outputs": [],
   "source": [
    "x = jnp.ones((8 * 1024, 1024))\n",
    "\n",
    "# use eval_shape to get the Partitioned instances for the variables.\n",
    "# this way we can determinte the PartitionSpecs for the init variables\n",
    "# before we call the init fn.\n",
    "var_spec = jax.eval_shape(dense.init, jax.random.PRNGKey(0), x)\n",
    "var_spec_out = nn.get_partition_spec(var_spec) #generates a PyTree of PartitionSpecs as out_spec needs to be a pytree\n",
    "\n",
    "init_specs = (None, P(None, \"model\"))\n",
    "\n",
    "init_fn_sharded = partial(shard_map, mesh=mesh, in_specs=init_specs, out_specs=var_spec_out)(mlp.init)\n",
    "\n",
    "variables = init_fn_sharded(jax.random.PRNGKey(0), x)\n",
    "\n",
    "\n",
    "apply_fn_sharded = partial(shard_map, mesh=mesh, in_specs=(var_spec_out, P(None, \"model\")), out_specs=P(None, \"model\"))(mlp.apply)\n",
    "\n",
    "output = apply_fn_sharded(variables, x)\n"
   ]
  },
  {
   "cell_type": "code",
   "execution_count": 15,
   "id": "e91b3d5f",
   "metadata": {},
   "outputs": [
    {
     "data": {
      "text/html": [
       "<pre style=\"white-space:pre;overflow-x:auto;line-height:normal;font-family:Menlo,'DejaVu Sans Mono',consolas,'Courier New',monospace\"><span style=\"color: #ffffff; text-decoration-color: #ffffff; background-color: #393b79\">          </span><span style=\"color: #ffffff; text-decoration-color: #ffffff; background-color: #d6616b\">          </span><span style=\"color: #ffffff; text-decoration-color: #ffffff; background-color: #8ca252\">          </span><span style=\"color: #ffffff; text-decoration-color: #ffffff; background-color: #de9ed6\">          </span><span style=\"color: #000000; text-decoration-color: #000000; background-color: #e7cb94\">          </span><span style=\"color: #ffffff; text-decoration-color: #ffffff; background-color: #6b6ecf\">          </span><span style=\"color: #ffffff; text-decoration-color: #ffffff; background-color: #a55194\">          </span><span style=\"color: #ffffff; text-decoration-color: #ffffff; background-color: #8c6d31\">          </span>\n",
       "<span style=\"color: #ffffff; text-decoration-color: #ffffff; background-color: #393b79\">          </span><span style=\"color: #ffffff; text-decoration-color: #ffffff; background-color: #d6616b\">          </span><span style=\"color: #ffffff; text-decoration-color: #ffffff; background-color: #8ca252\">          </span><span style=\"color: #ffffff; text-decoration-color: #ffffff; background-color: #de9ed6\">          </span><span style=\"color: #000000; text-decoration-color: #000000; background-color: #e7cb94\">          </span><span style=\"color: #ffffff; text-decoration-color: #ffffff; background-color: #6b6ecf\">          </span><span style=\"color: #ffffff; text-decoration-color: #ffffff; background-color: #a55194\">          </span><span style=\"color: #ffffff; text-decoration-color: #ffffff; background-color: #8c6d31\">          </span>\n",
       "<span style=\"color: #ffffff; text-decoration-color: #ffffff; background-color: #393b79\">          </span><span style=\"color: #ffffff; text-decoration-color: #ffffff; background-color: #d6616b\">          </span><span style=\"color: #ffffff; text-decoration-color: #ffffff; background-color: #8ca252\">          </span><span style=\"color: #ffffff; text-decoration-color: #ffffff; background-color: #de9ed6\">          </span><span style=\"color: #000000; text-decoration-color: #000000; background-color: #e7cb94\">          </span><span style=\"color: #ffffff; text-decoration-color: #ffffff; background-color: #6b6ecf\">          </span><span style=\"color: #ffffff; text-decoration-color: #ffffff; background-color: #a55194\">          </span><span style=\"color: #ffffff; text-decoration-color: #ffffff; background-color: #8c6d31\">          </span>\n",
       "<span style=\"color: #ffffff; text-decoration-color: #ffffff; background-color: #393b79\">          </span><span style=\"color: #ffffff; text-decoration-color: #ffffff; background-color: #d6616b\">          </span><span style=\"color: #ffffff; text-decoration-color: #ffffff; background-color: #8ca252\">          </span><span style=\"color: #ffffff; text-decoration-color: #ffffff; background-color: #de9ed6\">          </span><span style=\"color: #000000; text-decoration-color: #000000; background-color: #e7cb94\">          </span><span style=\"color: #ffffff; text-decoration-color: #ffffff; background-color: #6b6ecf\">          </span><span style=\"color: #ffffff; text-decoration-color: #ffffff; background-color: #a55194\">          </span><span style=\"color: #ffffff; text-decoration-color: #ffffff; background-color: #8c6d31\">          </span>\n",
       "<span style=\"color: #ffffff; text-decoration-color: #ffffff; background-color: #393b79\">          </span><span style=\"color: #ffffff; text-decoration-color: #ffffff; background-color: #d6616b\">          </span><span style=\"color: #ffffff; text-decoration-color: #ffffff; background-color: #8ca252\">          </span><span style=\"color: #ffffff; text-decoration-color: #ffffff; background-color: #de9ed6\">          </span><span style=\"color: #000000; text-decoration-color: #000000; background-color: #e7cb94\">          </span><span style=\"color: #ffffff; text-decoration-color: #ffffff; background-color: #6b6ecf\">          </span><span style=\"color: #ffffff; text-decoration-color: #ffffff; background-color: #a55194\">          </span><span style=\"color: #ffffff; text-decoration-color: #ffffff; background-color: #8c6d31\">          </span>\n",
       "<span style=\"color: #ffffff; text-decoration-color: #ffffff; background-color: #393b79\">   CPU    </span><span style=\"color: #ffffff; text-decoration-color: #ffffff; background-color: #d6616b\">   CPU    </span><span style=\"color: #ffffff; text-decoration-color: #ffffff; background-color: #8ca252\">   CPU    </span><span style=\"color: #ffffff; text-decoration-color: #ffffff; background-color: #de9ed6\">   CPU    </span><span style=\"color: #000000; text-decoration-color: #000000; background-color: #e7cb94\">   CPU    </span><span style=\"color: #ffffff; text-decoration-color: #ffffff; background-color: #6b6ecf\">   CPU    </span><span style=\"color: #ffffff; text-decoration-color: #ffffff; background-color: #a55194\">   CPU    </span><span style=\"color: #ffffff; text-decoration-color: #ffffff; background-color: #8c6d31\">   CPU    </span>\n",
       "<span style=\"color: #ffffff; text-decoration-color: #ffffff; background-color: #393b79\">   0      </span><span style=\"color: #ffffff; text-decoration-color: #ffffff; background-color: #d6616b\">   1      </span><span style=\"color: #ffffff; text-decoration-color: #ffffff; background-color: #8ca252\">   2      </span><span style=\"color: #ffffff; text-decoration-color: #ffffff; background-color: #de9ed6\">   3      </span><span style=\"color: #000000; text-decoration-color: #000000; background-color: #e7cb94\">   4      </span><span style=\"color: #ffffff; text-decoration-color: #ffffff; background-color: #6b6ecf\">   5      </span><span style=\"color: #ffffff; text-decoration-color: #ffffff; background-color: #a55194\">   6      </span><span style=\"color: #ffffff; text-decoration-color: #ffffff; background-color: #8c6d31\">   7      </span>\n",
       "<span style=\"color: #ffffff; text-decoration-color: #ffffff; background-color: #393b79\">          </span><span style=\"color: #ffffff; text-decoration-color: #ffffff; background-color: #d6616b\">          </span><span style=\"color: #ffffff; text-decoration-color: #ffffff; background-color: #8ca252\">          </span><span style=\"color: #ffffff; text-decoration-color: #ffffff; background-color: #de9ed6\">          </span><span style=\"color: #000000; text-decoration-color: #000000; background-color: #e7cb94\">          </span><span style=\"color: #ffffff; text-decoration-color: #ffffff; background-color: #6b6ecf\">          </span><span style=\"color: #ffffff; text-decoration-color: #ffffff; background-color: #a55194\">          </span><span style=\"color: #ffffff; text-decoration-color: #ffffff; background-color: #8c6d31\">          </span>\n",
       "<span style=\"color: #ffffff; text-decoration-color: #ffffff; background-color: #393b79\">          </span><span style=\"color: #ffffff; text-decoration-color: #ffffff; background-color: #d6616b\">          </span><span style=\"color: #ffffff; text-decoration-color: #ffffff; background-color: #8ca252\">          </span><span style=\"color: #ffffff; text-decoration-color: #ffffff; background-color: #de9ed6\">          </span><span style=\"color: #000000; text-decoration-color: #000000; background-color: #e7cb94\">          </span><span style=\"color: #ffffff; text-decoration-color: #ffffff; background-color: #6b6ecf\">          </span><span style=\"color: #ffffff; text-decoration-color: #ffffff; background-color: #a55194\">          </span><span style=\"color: #ffffff; text-decoration-color: #ffffff; background-color: #8c6d31\">          </span>\n",
       "<span style=\"color: #ffffff; text-decoration-color: #ffffff; background-color: #393b79\">          </span><span style=\"color: #ffffff; text-decoration-color: #ffffff; background-color: #d6616b\">          </span><span style=\"color: #ffffff; text-decoration-color: #ffffff; background-color: #8ca252\">          </span><span style=\"color: #ffffff; text-decoration-color: #ffffff; background-color: #de9ed6\">          </span><span style=\"color: #000000; text-decoration-color: #000000; background-color: #e7cb94\">          </span><span style=\"color: #ffffff; text-decoration-color: #ffffff; background-color: #6b6ecf\">          </span><span style=\"color: #ffffff; text-decoration-color: #ffffff; background-color: #a55194\">          </span><span style=\"color: #ffffff; text-decoration-color: #ffffff; background-color: #8c6d31\">          </span>\n",
       "<span style=\"color: #ffffff; text-decoration-color: #ffffff; background-color: #393b79\">          </span><span style=\"color: #ffffff; text-decoration-color: #ffffff; background-color: #d6616b\">          </span><span style=\"color: #ffffff; text-decoration-color: #ffffff; background-color: #8ca252\">          </span><span style=\"color: #ffffff; text-decoration-color: #ffffff; background-color: #de9ed6\">          </span><span style=\"color: #000000; text-decoration-color: #000000; background-color: #e7cb94\">          </span><span style=\"color: #ffffff; text-decoration-color: #ffffff; background-color: #6b6ecf\">          </span><span style=\"color: #ffffff; text-decoration-color: #ffffff; background-color: #a55194\">          </span><span style=\"color: #ffffff; text-decoration-color: #ffffff; background-color: #8c6d31\">          </span>\n",
       "<span style=\"color: #ffffff; text-decoration-color: #ffffff; background-color: #393b79\">          </span><span style=\"color: #ffffff; text-decoration-color: #ffffff; background-color: #d6616b\">          </span><span style=\"color: #ffffff; text-decoration-color: #ffffff; background-color: #8ca252\">          </span><span style=\"color: #ffffff; text-decoration-color: #ffffff; background-color: #de9ed6\">          </span><span style=\"color: #000000; text-decoration-color: #000000; background-color: #e7cb94\">          </span><span style=\"color: #ffffff; text-decoration-color: #ffffff; background-color: #6b6ecf\">          </span><span style=\"color: #ffffff; text-decoration-color: #ffffff; background-color: #a55194\">          </span><span style=\"color: #ffffff; text-decoration-color: #ffffff; background-color: #8c6d31\">          </span>\n",
       "</pre>\n"
      ],
      "text/plain": [
       "\u001b[38;2;255;255;255;48;2;57;59;121m          \u001b[0m\u001b[38;2;255;255;255;48;2;214;97;107m          \u001b[0m\u001b[38;2;255;255;255;48;2;140;162;82m          \u001b[0m\u001b[38;2;255;255;255;48;2;222;158;214m          \u001b[0m\u001b[38;2;0;0;0;48;2;231;203;148m          \u001b[0m\u001b[38;2;255;255;255;48;2;107;110;207m          \u001b[0m\u001b[38;2;255;255;255;48;2;165;81;148m          \u001b[0m\u001b[38;2;255;255;255;48;2;140;109;49m          \u001b[0m\n",
       "\u001b[38;2;255;255;255;48;2;57;59;121m          \u001b[0m\u001b[38;2;255;255;255;48;2;214;97;107m          \u001b[0m\u001b[38;2;255;255;255;48;2;140;162;82m          \u001b[0m\u001b[38;2;255;255;255;48;2;222;158;214m          \u001b[0m\u001b[38;2;0;0;0;48;2;231;203;148m          \u001b[0m\u001b[38;2;255;255;255;48;2;107;110;207m          \u001b[0m\u001b[38;2;255;255;255;48;2;165;81;148m          \u001b[0m\u001b[38;2;255;255;255;48;2;140;109;49m          \u001b[0m\n",
       "\u001b[38;2;255;255;255;48;2;57;59;121m          \u001b[0m\u001b[38;2;255;255;255;48;2;214;97;107m          \u001b[0m\u001b[38;2;255;255;255;48;2;140;162;82m          \u001b[0m\u001b[38;2;255;255;255;48;2;222;158;214m          \u001b[0m\u001b[38;2;0;0;0;48;2;231;203;148m          \u001b[0m\u001b[38;2;255;255;255;48;2;107;110;207m          \u001b[0m\u001b[38;2;255;255;255;48;2;165;81;148m          \u001b[0m\u001b[38;2;255;255;255;48;2;140;109;49m          \u001b[0m\n",
       "\u001b[38;2;255;255;255;48;2;57;59;121m          \u001b[0m\u001b[38;2;255;255;255;48;2;214;97;107m          \u001b[0m\u001b[38;2;255;255;255;48;2;140;162;82m          \u001b[0m\u001b[38;2;255;255;255;48;2;222;158;214m          \u001b[0m\u001b[38;2;0;0;0;48;2;231;203;148m          \u001b[0m\u001b[38;2;255;255;255;48;2;107;110;207m          \u001b[0m\u001b[38;2;255;255;255;48;2;165;81;148m          \u001b[0m\u001b[38;2;255;255;255;48;2;140;109;49m          \u001b[0m\n",
       "\u001b[38;2;255;255;255;48;2;57;59;121m          \u001b[0m\u001b[38;2;255;255;255;48;2;214;97;107m          \u001b[0m\u001b[38;2;255;255;255;48;2;140;162;82m          \u001b[0m\u001b[38;2;255;255;255;48;2;222;158;214m          \u001b[0m\u001b[38;2;0;0;0;48;2;231;203;148m          \u001b[0m\u001b[38;2;255;255;255;48;2;107;110;207m          \u001b[0m\u001b[38;2;255;255;255;48;2;165;81;148m          \u001b[0m\u001b[38;2;255;255;255;48;2;140;109;49m          \u001b[0m\n",
       "\u001b[38;2;255;255;255;48;2;57;59;121m   \u001b[0m\u001b[38;2;255;255;255;48;2;57;59;121mCPU\u001b[0m\u001b[38;2;255;255;255;48;2;57;59;121m    \u001b[0m\u001b[38;2;255;255;255;48;2;214;97;107m   \u001b[0m\u001b[38;2;255;255;255;48;2;214;97;107mCPU\u001b[0m\u001b[38;2;255;255;255;48;2;214;97;107m    \u001b[0m\u001b[38;2;255;255;255;48;2;140;162;82m   \u001b[0m\u001b[38;2;255;255;255;48;2;140;162;82mCPU\u001b[0m\u001b[38;2;255;255;255;48;2;140;162;82m    \u001b[0m\u001b[38;2;255;255;255;48;2;222;158;214m   \u001b[0m\u001b[38;2;255;255;255;48;2;222;158;214mCPU\u001b[0m\u001b[38;2;255;255;255;48;2;222;158;214m    \u001b[0m\u001b[38;2;0;0;0;48;2;231;203;148m   \u001b[0m\u001b[38;2;0;0;0;48;2;231;203;148mCPU\u001b[0m\u001b[38;2;0;0;0;48;2;231;203;148m    \u001b[0m\u001b[38;2;255;255;255;48;2;107;110;207m   \u001b[0m\u001b[38;2;255;255;255;48;2;107;110;207mCPU\u001b[0m\u001b[38;2;255;255;255;48;2;107;110;207m    \u001b[0m\u001b[38;2;255;255;255;48;2;165;81;148m   \u001b[0m\u001b[38;2;255;255;255;48;2;165;81;148mCPU\u001b[0m\u001b[38;2;255;255;255;48;2;165;81;148m    \u001b[0m\u001b[38;2;255;255;255;48;2;140;109;49m   \u001b[0m\u001b[38;2;255;255;255;48;2;140;109;49mCPU\u001b[0m\u001b[38;2;255;255;255;48;2;140;109;49m    \u001b[0m\n",
       "\u001b[38;2;255;255;255;48;2;57;59;121m   \u001b[0m\u001b[38;2;255;255;255;48;2;57;59;121m0  \u001b[0m\u001b[38;2;255;255;255;48;2;57;59;121m    \u001b[0m\u001b[38;2;255;255;255;48;2;214;97;107m   \u001b[0m\u001b[38;2;255;255;255;48;2;214;97;107m1  \u001b[0m\u001b[38;2;255;255;255;48;2;214;97;107m    \u001b[0m\u001b[38;2;255;255;255;48;2;140;162;82m   \u001b[0m\u001b[38;2;255;255;255;48;2;140;162;82m2  \u001b[0m\u001b[38;2;255;255;255;48;2;140;162;82m    \u001b[0m\u001b[38;2;255;255;255;48;2;222;158;214m   \u001b[0m\u001b[38;2;255;255;255;48;2;222;158;214m3  \u001b[0m\u001b[38;2;255;255;255;48;2;222;158;214m    \u001b[0m\u001b[38;2;0;0;0;48;2;231;203;148m   \u001b[0m\u001b[38;2;0;0;0;48;2;231;203;148m4  \u001b[0m\u001b[38;2;0;0;0;48;2;231;203;148m    \u001b[0m\u001b[38;2;255;255;255;48;2;107;110;207m   \u001b[0m\u001b[38;2;255;255;255;48;2;107;110;207m5  \u001b[0m\u001b[38;2;255;255;255;48;2;107;110;207m    \u001b[0m\u001b[38;2;255;255;255;48;2;165;81;148m   \u001b[0m\u001b[38;2;255;255;255;48;2;165;81;148m6  \u001b[0m\u001b[38;2;255;255;255;48;2;165;81;148m    \u001b[0m\u001b[38;2;255;255;255;48;2;140;109;49m   \u001b[0m\u001b[38;2;255;255;255;48;2;140;109;49m7  \u001b[0m\u001b[38;2;255;255;255;48;2;140;109;49m    \u001b[0m\n",
       "\u001b[38;2;255;255;255;48;2;57;59;121m          \u001b[0m\u001b[38;2;255;255;255;48;2;214;97;107m          \u001b[0m\u001b[38;2;255;255;255;48;2;140;162;82m          \u001b[0m\u001b[38;2;255;255;255;48;2;222;158;214m          \u001b[0m\u001b[38;2;0;0;0;48;2;231;203;148m          \u001b[0m\u001b[38;2;255;255;255;48;2;107;110;207m          \u001b[0m\u001b[38;2;255;255;255;48;2;165;81;148m          \u001b[0m\u001b[38;2;255;255;255;48;2;140;109;49m          \u001b[0m\n",
       "\u001b[38;2;255;255;255;48;2;57;59;121m          \u001b[0m\u001b[38;2;255;255;255;48;2;214;97;107m          \u001b[0m\u001b[38;2;255;255;255;48;2;140;162;82m          \u001b[0m\u001b[38;2;255;255;255;48;2;222;158;214m          \u001b[0m\u001b[38;2;0;0;0;48;2;231;203;148m          \u001b[0m\u001b[38;2;255;255;255;48;2;107;110;207m          \u001b[0m\u001b[38;2;255;255;255;48;2;165;81;148m          \u001b[0m\u001b[38;2;255;255;255;48;2;140;109;49m          \u001b[0m\n",
       "\u001b[38;2;255;255;255;48;2;57;59;121m          \u001b[0m\u001b[38;2;255;255;255;48;2;214;97;107m          \u001b[0m\u001b[38;2;255;255;255;48;2;140;162;82m          \u001b[0m\u001b[38;2;255;255;255;48;2;222;158;214m          \u001b[0m\u001b[38;2;0;0;0;48;2;231;203;148m          \u001b[0m\u001b[38;2;255;255;255;48;2;107;110;207m          \u001b[0m\u001b[38;2;255;255;255;48;2;165;81;148m          \u001b[0m\u001b[38;2;255;255;255;48;2;140;109;49m          \u001b[0m\n",
       "\u001b[38;2;255;255;255;48;2;57;59;121m          \u001b[0m\u001b[38;2;255;255;255;48;2;214;97;107m          \u001b[0m\u001b[38;2;255;255;255;48;2;140;162;82m          \u001b[0m\u001b[38;2;255;255;255;48;2;222;158;214m          \u001b[0m\u001b[38;2;0;0;0;48;2;231;203;148m          \u001b[0m\u001b[38;2;255;255;255;48;2;107;110;207m          \u001b[0m\u001b[38;2;255;255;255;48;2;165;81;148m          \u001b[0m\u001b[38;2;255;255;255;48;2;140;109;49m          \u001b[0m\n",
       "\u001b[38;2;255;255;255;48;2;57;59;121m          \u001b[0m\u001b[38;2;255;255;255;48;2;214;97;107m          \u001b[0m\u001b[38;2;255;255;255;48;2;140;162;82m          \u001b[0m\u001b[38;2;255;255;255;48;2;222;158;214m          \u001b[0m\u001b[38;2;0;0;0;48;2;231;203;148m          \u001b[0m\u001b[38;2;255;255;255;48;2;107;110;207m          \u001b[0m\u001b[38;2;255;255;255;48;2;165;81;148m          \u001b[0m\u001b[38;2;255;255;255;48;2;140;109;49m          \u001b[0m\n"
      ]
     },
     "metadata": {},
     "output_type": "display_data"
    }
   ],
   "source": [
    "jax.tree.map( lambda x: jax.debug.visualize_array_sharding(x), output)"
   ]
  }
 ],
 "metadata": {
  "kernelspec": {
   "display_name": "jax_intro",
   "language": "python",
   "name": "python3"
  },
  "language_info": {
   "codemirror_mode": {
    "name": "ipython",
    "version": 3
   },
   "file_extension": ".py",
   "mimetype": "text/x-python",
   "name": "python",
   "nbconvert_exporter": "python",
   "pygments_lexer": "ipython3",
   "version": "3.11.12"
  }
 },
 "nbformat": 4,
 "nbformat_minor": 5
}
