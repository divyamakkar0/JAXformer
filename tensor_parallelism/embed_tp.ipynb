{
 "cells": [
  {
   "cell_type": "code",
   "execution_count": 1,
   "id": "38fa6efc",
   "metadata": {},
   "outputs": [],
   "source": [
    "import os\n",
    "\n",
    "os.environ[\"XLA_FLAGS\"] = \"--xla_force_host_platform_device_count=8\"\n",
    "\n",
    "import functools\n",
    "\n",
    "import flax.linen as nn\n",
    "import jax\n",
    "import jax.numpy as jnp\n",
    "import numpy as np\n",
    "import optax\n",
    "from jax.experimental.shard_map import shard_map\n",
    "from jax.sharding import Mesh\n",
    "from jax.sharding import PartitionSpec as P\n",
    "from ml_collections import ConfigDict\n",
    "from functools import partial\n",
    "from jaxtyping import Array, PyTree"
   ]
  },
  {
   "cell_type": "code",
   "execution_count": 2,
   "id": "4807b758",
   "metadata": {},
   "outputs": [],
   "source": [
    "device_array = np.array(jax.devices())\n",
    "mesh = Mesh(device_array, (\"model\",))"
   ]
  },
  {
   "cell_type": "code",
   "execution_count": 3,
   "id": "d327fa17",
   "metadata": {},
   "outputs": [],
   "source": [
    "class Embeddings(nn.Module):\n",
    "    model_dimension: int\n",
    "    vocab_size: int\n",
    "    model_dtype: jnp.dtype = jnp.float32\n",
    "\n",
    "    def setup(self):\n",
    "        ei = nn.initializers.variance_scaling(1.0, \"fan_in\", \"normal\", out_axis=0)\n",
    "        self.embedding = nn.Embed(\n",
    "            num_embeddings=self.vocab_size,\n",
    "            features=self.model_dimension,\n",
    "            dtype=self.model_dtype,\n",
    "            embedding_init=nn.with_partitioning(ei, (None, \"model\")),\n",
    "        )\n",
    "        self.layer_norm = nn.LayerNorm()\n",
    "\n",
    "    def __call__(self, x: Array, out: bool = False) -> Array:\n",
    "        if not out:\n",
    "            x = self.embedding(x)\n",
    "        else:\n",
    "            x = self.layer_norm(x)\n",
    "            x = self.embedding.attend(x)\n",
    "        return x\n",
    "\n",
    "\n",
    "dense = Embeddings(1024, 64)"
   ]
  },
  {
   "cell_type": "code",
   "execution_count": 4,
   "id": "78e394d8",
   "metadata": {},
   "outputs": [
    {
     "name": "stdout",
     "output_type": "stream",
     "text": [
      "{'params': {'embedding': {'embedding': PartitionSpec(None, 'model')}}}\n"
     ]
    }
   ],
   "source": [
    "x = jnp.ones((8 * 1024, 1024), dtype=jnp.int32)\n",
    "\n",
    "var_spec = jax.eval_shape(dense.init, jax.random.PRNGKey(0), x)\n",
    "var_spec_out = nn.get_partition_spec(\n",
    "    var_spec\n",
    ")  # generates a PyTree of PartitionSpecs as out_spec needs to be a pytree\n",
    "print(var_spec_out)\n",
    "\n",
    "init_specs = (None, P(None, \"model\"))\n",
    "\n",
    "init_fn_sharded = partial(\n",
    "    shard_map, mesh=mesh, in_specs=init_specs, out_specs=var_spec_out\n",
    ")(dense.init)\n",
    "\n",
    "variables = init_fn_sharded(jax.random.PRNGKey(0), x)\n",
    "\n",
    "apply_fn_sharded = partial(\n",
    "    shard_map,\n",
    "    mesh=mesh,\n",
    "    in_specs=(var_spec_out, P(None, \"model\")),\n",
    "    out_specs=P(None, \"model\"),\n",
    ")(dense.apply)\n",
    "\n",
    "output = apply_fn_sharded(variables, x)"
   ]
  },
  {
   "cell_type": "code",
   "execution_count": 2,
   "id": "0f070886",
   "metadata": {},
   "outputs": [
    {
     "ename": "NameError",
     "evalue": "name 'jax' is not defined",
     "output_type": "error",
     "traceback": [
      "\u001b[31m---------------------------------------------------------------------------\u001b[39m",
      "\u001b[31mNameError\u001b[39m                                 Traceback (most recent call last)",
      "\u001b[36mCell\u001b[39m\u001b[36m \u001b[39m\u001b[32mIn[2]\u001b[39m\u001b[32m, line 1\u001b[39m\n\u001b[32m----> \u001b[39m\u001b[32m1\u001b[39m \u001b[43mjax\u001b[49m.debug.visualize_array_sharding(output[\u001b[32m0\u001b[39m])\n",
      "\u001b[31mNameError\u001b[39m: name 'jax' is not defined"
     ]
    }
   ],
   "source": [
    "jax.debug.visualize_array_sharding(output[0])"
   ]
  },
  {
   "cell_type": "code",
   "execution_count": null,
   "id": "1c00deed",
   "metadata": {},
   "outputs": [],
   "source": []
  }
 ],
 "metadata": {
  "kernelspec": {
   "display_name": "jax_intro",
   "language": "python",
   "name": "python3"
  },
  "language_info": {
   "codemirror_mode": {
    "name": "ipython",
    "version": 3
   },
   "file_extension": ".py",
   "mimetype": "text/x-python",
   "name": "python",
   "nbconvert_exporter": "python",
   "pygments_lexer": "ipython3",
   "version": "3.11.12"
  }
 },
 "nbformat": 4,
 "nbformat_minor": 5
}
