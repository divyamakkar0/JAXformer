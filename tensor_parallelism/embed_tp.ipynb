{
 "cells": [
  {
   "cell_type": "code",
   "execution_count": 1,
   "id": "38fa6efc",
   "metadata": {},
   "outputs": [],
   "source": [
    "import os\n",
    "\n",
    "os.environ[\"XLA_FLAGS\"] = \"--xla_force_host_platform_device_count=8\"\n",
    "\n",
    "import functools\n",
    "\n",
    "import flax.linen as nn\n",
    "import jax\n",
    "import jax.numpy as jnp\n",
    "import numpy as np\n",
    "import optax\n",
    "from jax.experimental.shard_map import shard_map\n",
    "from jax.sharding import Mesh\n",
    "from jax.sharding import PartitionSpec as P\n",
    "from ml_collections import ConfigDict\n",
    "from functools import partial\n",
    "from jaxtyping import Array, PyTree"
   ]
  },
  {
   "cell_type": "code",
   "execution_count": 2,
   "id": "4807b758",
   "metadata": {},
   "outputs": [],
   "source": [
    "device_array = np.array(jax.devices())\n",
    "mesh = Mesh(device_array, (\"model\",))"
   ]
  },
  {
   "cell_type": "code",
   "execution_count": 3,
   "id": "d327fa17",
   "metadata": {},
   "outputs": [],
   "source": [
    "class Embeddings(nn.Module):\n",
    "    model_dimension: int\n",
    "    vocab_size: int\n",
    "    model_dtype: jnp.dtype = jnp.float32\n",
    "\n",
    "    def setup(self):\n",
    "        ei = nn.initializers.variance_scaling(1.0, \"fan_in\", \"normal\", out_axis=0)\n",
    "        self.embedding = nn.Embed(\n",
    "            num_embeddings=self.vocab_size,\n",
    "            features=self.model_dimension,\n",
    "            dtype=self.model_dtype,\n",
    "            embedding_init=nn.with_partitioning(ei, (None, \"model\")),\n",
    "        )\n",
    "        self.layer_norm = nn.LayerNorm()\n",
    "\n",
    "    def __call__(self, x: Array, out: bool = False) -> Array:\n",
    "        if not out:\n",
    "            x = self.embedding(x)\n",
    "        else:\n",
    "            x = self.layer_norm(x)\n",
    "            x = self.embedding.attend(x)\n",
    "        return x\n",
    "\n",
    "\n",
    "dense = Embeddings(1024, 64)"
   ]
  },
  {
   "cell_type": "code",
   "execution_count": 4,
   "id": "78e394d8",
   "metadata": {},
   "outputs": [
    {
     "name": "stdout",
     "output_type": "stream",
     "text": [
      "{'params': {'embedding': {'embedding': PartitionSpec(None, 'model')}}}\n"
     ]
    }
   ],
   "source": [
    "x = jnp.ones((8 * 1024, 1024), dtype=jnp.int32)\n",
    "\n",
    "var_spec = jax.eval_shape(dense.init, jax.random.PRNGKey(0), x)\n",
    "var_spec_out = nn.get_partition_spec(\n",
    "    var_spec\n",
    ")  # generates a PyTree of PartitionSpecs as out_spec needs to be a pytree\n",
    "print(var_spec_out)\n",
    "\n",
    "init_specs = (None, P(None, \"model\"))\n",
    "\n",
    "init_fn_sharded = partial(\n",
    "    shard_map, mesh=mesh, in_specs=init_specs, out_specs=var_spec_out\n",
    ")(dense.init)\n",
    "\n",
    "variables = init_fn_sharded(jax.random.PRNGKey(0), x)\n",
    "\n",
    "apply_fn_sharded = partial(\n",
    "    shard_map,\n",
    "    mesh=mesh,\n",
    "    in_specs=(var_spec_out, P(None, \"model\")),\n",
    "    out_specs=P(None, \"model\"),\n",
    ")(dense.apply)\n",
    "\n",
    "output = apply_fn_sharded(variables, x)"
   ]
  },
  {
   "cell_type": "code",
   "execution_count": 5,
   "id": "0f070886",
   "metadata": {},
   "outputs": [
    {
     "data": {
      "text/html": [
       "<pre style=\"white-space:pre;overflow-x:auto;line-height:normal;font-family:Menlo,'DejaVu Sans Mono',consolas,'Courier New',monospace\"><span style=\"color: #ffffff; text-decoration-color: #ffffff; background-color: #393b79\">          CPU 0          </span>\n",
       "<span style=\"color: #ffffff; text-decoration-color: #ffffff; background-color: #393b79\">                         </span>\n",
       "<span style=\"color: #ffffff; text-decoration-color: #ffffff; background-color: #d6616b\">          CPU 1          </span>\n",
       "<span style=\"color: #ffffff; text-decoration-color: #ffffff; background-color: #d6616b\">                         </span>\n",
       "<span style=\"color: #ffffff; text-decoration-color: #ffffff; background-color: #8ca252\">          CPU 2          </span>\n",
       "<span style=\"color: #ffffff; text-decoration-color: #ffffff; background-color: #8ca252\">                         </span>\n",
       "<span style=\"color: #ffffff; text-decoration-color: #ffffff; background-color: #de9ed6\">          CPU 3          </span>\n",
       "<span style=\"color: #ffffff; text-decoration-color: #ffffff; background-color: #de9ed6\">                         </span>\n",
       "<span style=\"color: #000000; text-decoration-color: #000000; background-color: #e7cb94\">          CPU 4          </span>\n",
       "<span style=\"color: #000000; text-decoration-color: #000000; background-color: #e7cb94\">                         </span>\n",
       "<span style=\"color: #ffffff; text-decoration-color: #ffffff; background-color: #6b6ecf\">          CPU 5          </span>\n",
       "<span style=\"color: #ffffff; text-decoration-color: #ffffff; background-color: #6b6ecf\">                         </span>\n",
       "<span style=\"color: #ffffff; text-decoration-color: #ffffff; background-color: #a55194\">          CPU 6          </span>\n",
       "<span style=\"color: #ffffff; text-decoration-color: #ffffff; background-color: #a55194\">                         </span>\n",
       "<span style=\"color: #ffffff; text-decoration-color: #ffffff; background-color: #8c6d31\">          CPU 7          </span>\n",
       "<span style=\"color: #ffffff; text-decoration-color: #ffffff; background-color: #8c6d31\">                         </span>\n",
       "</pre>\n"
      ],
      "text/plain": [
       "\u001b[38;2;255;255;255;48;2;57;59;121m          \u001b[0m\u001b[38;2;255;255;255;48;2;57;59;121mCPU 0\u001b[0m\u001b[38;2;255;255;255;48;2;57;59;121m          \u001b[0m\n",
       "\u001b[38;2;255;255;255;48;2;57;59;121m                         \u001b[0m\n",
       "\u001b[38;2;255;255;255;48;2;214;97;107m          \u001b[0m\u001b[38;2;255;255;255;48;2;214;97;107mCPU 1\u001b[0m\u001b[38;2;255;255;255;48;2;214;97;107m          \u001b[0m\n",
       "\u001b[38;2;255;255;255;48;2;214;97;107m                         \u001b[0m\n",
       "\u001b[38;2;255;255;255;48;2;140;162;82m          \u001b[0m\u001b[38;2;255;255;255;48;2;140;162;82mCPU 2\u001b[0m\u001b[38;2;255;255;255;48;2;140;162;82m          \u001b[0m\n",
       "\u001b[38;2;255;255;255;48;2;140;162;82m                         \u001b[0m\n",
       "\u001b[38;2;255;255;255;48;2;222;158;214m          \u001b[0m\u001b[38;2;255;255;255;48;2;222;158;214mCPU 3\u001b[0m\u001b[38;2;255;255;255;48;2;222;158;214m          \u001b[0m\n",
       "\u001b[38;2;255;255;255;48;2;222;158;214m                         \u001b[0m\n",
       "\u001b[38;2;0;0;0;48;2;231;203;148m          \u001b[0m\u001b[38;2;0;0;0;48;2;231;203;148mCPU 4\u001b[0m\u001b[38;2;0;0;0;48;2;231;203;148m          \u001b[0m\n",
       "\u001b[38;2;0;0;0;48;2;231;203;148m                         \u001b[0m\n",
       "\u001b[38;2;255;255;255;48;2;107;110;207m          \u001b[0m\u001b[38;2;255;255;255;48;2;107;110;207mCPU 5\u001b[0m\u001b[38;2;255;255;255;48;2;107;110;207m          \u001b[0m\n",
       "\u001b[38;2;255;255;255;48;2;107;110;207m                         \u001b[0m\n",
       "\u001b[38;2;255;255;255;48;2;165;81;148m          \u001b[0m\u001b[38;2;255;255;255;48;2;165;81;148mCPU 6\u001b[0m\u001b[38;2;255;255;255;48;2;165;81;148m          \u001b[0m\n",
       "\u001b[38;2;255;255;255;48;2;165;81;148m                         \u001b[0m\n",
       "\u001b[38;2;255;255;255;48;2;140;109;49m          \u001b[0m\u001b[38;2;255;255;255;48;2;140;109;49mCPU 7\u001b[0m\u001b[38;2;255;255;255;48;2;140;109;49m          \u001b[0m\n",
       "\u001b[38;2;255;255;255;48;2;140;109;49m                         \u001b[0m\n"
      ]
     },
     "metadata": {},
     "output_type": "display_data"
    }
   ],
   "source": [
    "jax.debug.visualize_array_sharding(output[0])"
   ]
  },
  {
   "cell_type": "code",
   "execution_count": null,
   "id": "1c00deed",
   "metadata": {},
   "outputs": [],
   "source": []
  }
 ],
 "metadata": {
  "kernelspec": {
   "display_name": "jax_intro",
   "language": "python",
   "name": "python3"
  },
  "language_info": {
   "codemirror_mode": {
    "name": "ipython",
    "version": 3
   },
   "file_extension": ".py",
   "mimetype": "text/x-python",
   "name": "python",
   "nbconvert_exporter": "python",
   "pygments_lexer": "ipython3",
   "version": "3.11.12"
  }
 },
 "nbformat": 4,
 "nbformat_minor": 5
}
