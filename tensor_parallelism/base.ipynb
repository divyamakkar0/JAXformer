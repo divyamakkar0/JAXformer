{
 "cells": [
  {
   "cell_type": "code",
   "execution_count": 5,
   "id": "07502d45",
   "metadata": {},
   "outputs": [],
   "source": [
    "import os\n",
    "os.environ[\"XLA_FLAGS\"] = \"--xla_force_host_platform_device_count=8\"\n",
    "\n",
    "import functools\n",
    "\n",
    "import flax.linen as nn\n",
    "import jax\n",
    "import jax.numpy as jnp\n",
    "import numpy as np\n",
    "import optax\n",
    "from jax.experimental.shard_map import shard_map\n",
    "from jax.sharding import Mesh\n",
    "from jax.sharding import PartitionSpec as P\n",
    "from ml_collections import ConfigDict\n"
   ]
  },
  {
   "cell_type": "code",
   "execution_count": null,
   "id": "ffe0d582",
   "metadata": {},
   "outputs": [],
   "source": [
    "device_array = np.array(jax.devices())\n",
    "mesh = Mesh(device_array, (\"dp\", \"tp\"))"
   ]
  },
  {
   "cell_type": "code",
   "execution_count": 8,
   "id": "99465a9b",
   "metadata": {},
   "outputs": [
    {
     "data": {
      "text/plain": [
       "array([CpuDevice(id=0), CpuDevice(id=1), CpuDevice(id=2), CpuDevice(id=3),\n",
       "       CpuDevice(id=4), CpuDevice(id=5), CpuDevice(id=6), CpuDevice(id=7)],\n",
       "      dtype=object)"
      ]
     },
     "execution_count": 8,
     "metadata": {},
     "output_type": "execute_result"
    }
   ],
   "source": [
    "device_array"
   ]
  },
  {
   "cell_type": "code",
   "execution_count": 16,
   "id": "3b97dd0d",
   "metadata": {},
   "outputs": [],
   "source": [
    "class ShardedDense(nn.Module):\n",
    "    features: int\n",
    "    kernel_init: nn.initializers.Initializer = nn.initializers.lecun_normal()\n",
    "    bias_init: nn.initializers.Initializer = nn.initializers.zeros\n",
    "    use_bias: bool = True\n",
    "    tp_axis_name: str = 'tp'\n",
    "\n",
    "    @nn.compact\n",
    "    def __call__(self, x):\n",
    "        weights_sharding = P(None, self.tp_axis_name)\n",
    "        weights = self.param(\n",
    "                'weights', \n",
    "                self.kernel_init, \n",
    "                (input_dim, self.features), \n",
    "                jax.default_prng_key(),\n",
    "                _param_axes=nn.split_axis('hidden', 1, self.tp_axis_name)\n",
    "            )\n",
    "        if self.use_bias:\n",
    "            bias_sharding = P(None, self.tp_axis_name)\n",
    "            bias = self.param(\n",
    "                    'bias',\n",
    "                    self.bias_init,\n",
    "                    (self.features,),\n",
    "                    jax.default_prng_key(),\n",
    "                    _param_axes=nn.split_axis('hidden', 1, self.tp_axis_name)\n",
    "            )\n",
    "        else:\n",
    "            bias = None\n",
    "        \n",
    "        y_local = x @ weights\n",
    "        y_local = y_local + bias if bias is not None else y_local\n",
    "        y_global = jax.lax.all_gather(y_local, self.tp_axis_name, axis=1, tiled=True)\n",
    "\n",
    "        return y_global"
   ]
  },
  {
   "cell_type": "code",
   "execution_count": 9,
   "id": "df96e7d4",
   "metadata": {},
   "outputs": [
    {
     "data": {
      "text/plain": [
       "[CpuDevice(id=0),\n",
       " CpuDevice(id=1),\n",
       " CpuDevice(id=2),\n",
       " CpuDevice(id=3),\n",
       " CpuDevice(id=4),\n",
       " CpuDevice(id=5),\n",
       " CpuDevice(id=6),\n",
       " CpuDevice(id=7)]"
      ]
     },
     "execution_count": 9,
     "metadata": {},
     "output_type": "execute_result"
    }
   ],
   "source": [
    "jax.devices()"
   ]
  }
 ],
 "metadata": {
  "kernelspec": {
   "display_name": "jax_intro",
   "language": "python",
   "name": "python3"
  },
  "language_info": {
   "codemirror_mode": {
    "name": "ipython",
    "version": 3
   },
   "file_extension": ".py",
   "mimetype": "text/x-python",
   "name": "python",
   "nbconvert_exporter": "python",
   "pygments_lexer": "ipython3",
   "version": "3.11.12"
  }
 },
 "nbformat": 4,
 "nbformat_minor": 5
}
