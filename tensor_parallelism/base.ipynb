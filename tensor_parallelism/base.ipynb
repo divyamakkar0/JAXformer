{
 "cells": [
  {
   "cell_type": "code",
   "execution_count": null,
   "id": "07502d45",
   "metadata": {},
   "outputs": [],
   "source": [
    "import os\n",
    "os.environ[\"XLA_FLAGS\"] = \"--xla_force_host_platform_device_count=8\"\n",
    "\n",
    "import functools\n",
    "\n",
    "import flax.linen as nn\n",
    "import jax\n",
    "import jax.numpy as jnp\n",
    "import numpy as np\n",
    "import optax\n",
    "from jax.experimental.shard_map import shard_map\n",
    "from jax.sharding import Mesh\n",
    "from jax.sharding import PartitionSpec as P\n",
    "from ml_collections import ConfigDict"
   ]
  },
  {
   "cell_type": "code",
   "execution_count": 66,
   "id": "ffe0d582",
   "metadata": {},
   "outputs": [
    {
     "data": {
      "text/plain": [
       "Mesh(device_ids=array([0, 1, 2, 3, 4, 5, 6, 7]), axis_names=('x',), axis_types=(Auto,))"
      ]
     },
     "execution_count": 66,
     "metadata": {},
     "output_type": "execute_result"
    }
   ],
   "source": [
    "device_array = np.array(jax.devices())\n",
    "mesh = Mesh(device_array, (\"x\",))\n",
    "mesh"
   ]
  },
  {
   "cell_type": "code",
   "execution_count": 67,
   "id": "99465a9b",
   "metadata": {},
   "outputs": [
    {
     "data": {
      "text/plain": [
       "array([CpuDevice(id=0), CpuDevice(id=1), CpuDevice(id=2), CpuDevice(id=3),\n",
       "       CpuDevice(id=4), CpuDevice(id=5), CpuDevice(id=6), CpuDevice(id=7)],\n",
       "      dtype=object)"
      ]
     },
     "execution_count": 67,
     "metadata": {},
     "output_type": "execute_result"
    }
   ],
   "source": [
    "device_array"
   ]
  },
  {
   "cell_type": "code",
   "execution_count": 77,
   "id": "3b97dd0d",
   "metadata": {},
   "outputs": [],
   "source": [
    "class ShardedDense(nn.Module):\n",
    "    features: int = 64\n",
    "    kernel_init: nn.initializers.Initializer = nn.initializers.lecun_normal()\n",
    "    bias_init: nn.initializers.Initializer = nn.initializers.zeros\n",
    "    use_bias: bool = True\n",
    "    tp_axis_name: str = 'tp'\n",
    "\n",
    "    @nn.compact\n",
    "    def __call__(self, x):\n",
    "        input_dim = x[0]\n",
    "        weights_sharding = P(None, self.tp_axis_name)\n",
    "        weights = self.param(\n",
    "                'weights', \n",
    "                self.kernel_init, \n",
    "                (input_dim, self.features), \n",
    "                jax.default_prng_key(),\n",
    "                _param_axes=nn.split_axis('hidden', 0, self.tp_axis_name)\n",
    "            )\n",
    "        if self.use_bias:\n",
    "            bias_sharding = P(None, self.tp_axis_name)\n",
    "            bias = self.param(\n",
    "                    'bias',\n",
    "                    self.bias_init,\n",
    "                    (self.features,),\n",
    "                    jax.default_prng_key(),\n",
    "                    _param_axes=nn.split_axis('hidden', 0, self.tp_axis_name)\n",
    "            )\n",
    "        else:\n",
    "            bias = None\n",
    "        \n",
    "        y_local = x @ weights\n",
    "        y_local = y_local + bias if bias is not None else y_local\n",
    "        y_global = jax.lax.all_gather(y_local, self.tp_axis_name, axis=1, tiled=True)\n",
    "\n",
    "        return y_global"
   ]
  },
  {
   "cell_type": "code",
   "execution_count": 78,
   "id": "83af62ec",
   "metadata": {},
   "outputs": [],
   "source": [
    "key = jax.random.PRNGKey(0)\n",
    "input_shape = (8, 32)\n",
    "output_features = 64\n",
    "\n",
    "sharded_dense_layer = ShardedDense(features=output_features)"
   ]
  },
  {
   "cell_type": "code",
   "execution_count": 79,
   "id": "06e60da3",
   "metadata": {},
   "outputs": [],
   "source": [
    "#shard x upon initlization\n",
    "x = jax.numpy.ones(input_shape)\n",
    "input_sharding = jax.sharding.NamedSharding(mesh, P('x',))\n",
    "sharded_input = jax.device_put(x, input_sharding)"
   ]
  },
  {
   "cell_type": "code",
   "execution_count": 80,
   "id": "71c8db2a",
   "metadata": {},
   "outputs": [
    {
     "ename": "AttributeError",
     "evalue": "module 'jax' has no attribute 'default_prng_key'",
     "output_type": "error",
     "traceback": [
      "\u001b[31m---------------------------------------------------------------------------\u001b[39m",
      "\u001b[31mAttributeError\u001b[39m                            Traceback (most recent call last)",
      "\u001b[36mCell\u001b[39m\u001b[36m \u001b[39m\u001b[32mIn[80]\u001b[39m\u001b[32m, line 6\u001b[39m\n\u001b[32m      3\u001b[39m     variables = sharded_dense_layer.init(key, \u001b[38;5;28minput\u001b[39m)\n\u001b[32m      4\u001b[39m     \u001b[38;5;28;01mreturn\u001b[39;00m variables[\u001b[33m'\u001b[39m\u001b[33mparams\u001b[39m\u001b[33m'\u001b[39m]\n\u001b[32m----> \u001b[39m\u001b[32m6\u001b[39m params = \u001b[43minit_params\u001b[49m\u001b[43m(\u001b[49m\u001b[43mkey\u001b[49m\u001b[43m,\u001b[49m\u001b[43m \u001b[49m\u001b[43msharded_input\u001b[49m\u001b[43m)\u001b[49m\n",
      "    \u001b[31m[... skipping hidden 14 frame]\u001b[39m\n",
      "\u001b[36mCell\u001b[39m\u001b[36m \u001b[39m\u001b[32mIn[80]\u001b[39m\u001b[32m, line 3\u001b[39m, in \u001b[36minit_params\u001b[39m\u001b[34m(key, input)\u001b[39m\n\u001b[32m      1\u001b[39m \u001b[38;5;129m@jax\u001b[39m.jit\n\u001b[32m      2\u001b[39m \u001b[38;5;28;01mdef\u001b[39;00m\u001b[38;5;250m \u001b[39m\u001b[34minit_params\u001b[39m(key, \u001b[38;5;28minput\u001b[39m):\n\u001b[32m----> \u001b[39m\u001b[32m3\u001b[39m     variables = \u001b[43msharded_dense_layer\u001b[49m\u001b[43m.\u001b[49m\u001b[43minit\u001b[49m\u001b[43m(\u001b[49m\u001b[43mkey\u001b[49m\u001b[43m,\u001b[49m\u001b[43m \u001b[49m\u001b[38;5;28;43minput\u001b[39;49m\u001b[43m)\u001b[49m\n\u001b[32m      4\u001b[39m     \u001b[38;5;28;01mreturn\u001b[39;00m variables[\u001b[33m'\u001b[39m\u001b[33mparams\u001b[39m\u001b[33m'\u001b[39m]\n",
      "    \u001b[31m[... skipping hidden 9 frame]\u001b[39m\n",
      "\u001b[36mCell\u001b[39m\u001b[36m \u001b[39m\u001b[32mIn[77]\u001b[39m\u001b[32m, line 16\u001b[39m, in \u001b[36mShardedDense.__call__\u001b[39m\u001b[34m(self, x)\u001b[39m\n\u001b[32m     10\u001b[39m input_dim = x[\u001b[32m0\u001b[39m]\n\u001b[32m     11\u001b[39m weights_sharding = P(\u001b[38;5;28;01mNone\u001b[39;00m, \u001b[38;5;28mself\u001b[39m.tp_axis_name)\n\u001b[32m     12\u001b[39m weights = \u001b[38;5;28mself\u001b[39m.param(\n\u001b[32m     13\u001b[39m         \u001b[33m'\u001b[39m\u001b[33mweights\u001b[39m\u001b[33m'\u001b[39m, \n\u001b[32m     14\u001b[39m         \u001b[38;5;28mself\u001b[39m.kernel_init, \n\u001b[32m     15\u001b[39m         (input_dim, \u001b[38;5;28mself\u001b[39m.features), \n\u001b[32m---> \u001b[39m\u001b[32m16\u001b[39m         \u001b[43mjax\u001b[49m\u001b[43m.\u001b[49m\u001b[43mdefault_prng_key\u001b[49m(),\n\u001b[32m     17\u001b[39m         _param_axes=nn.split_axis(\u001b[33m'\u001b[39m\u001b[33mhidden\u001b[39m\u001b[33m'\u001b[39m, \u001b[32m0\u001b[39m, \u001b[38;5;28mself\u001b[39m.tp_axis_name)\n\u001b[32m     18\u001b[39m     )\n\u001b[32m     19\u001b[39m \u001b[38;5;28;01mif\u001b[39;00m \u001b[38;5;28mself\u001b[39m.use_bias:\n\u001b[32m     20\u001b[39m     bias_sharding = P(\u001b[38;5;28;01mNone\u001b[39;00m, \u001b[38;5;28mself\u001b[39m.tp_axis_name)\n",
      "\u001b[36mFile \u001b[39m\u001b[32m/opt/miniconda3/envs/jax_intro/lib/python3.11/site-packages/jax/_src/deprecations.py:57\u001b[39m, in \u001b[36mdeprecation_getattr.<locals>.getattr\u001b[39m\u001b[34m(name)\u001b[39m\n\u001b[32m     55\u001b[39m   warnings.warn(message, \u001b[38;5;167;01mDeprecationWarning\u001b[39;00m, stacklevel=\u001b[32m2\u001b[39m)\n\u001b[32m     56\u001b[39m   \u001b[38;5;28;01mreturn\u001b[39;00m fn\n\u001b[32m---> \u001b[39m\u001b[32m57\u001b[39m \u001b[38;5;28;01mraise\u001b[39;00m \u001b[38;5;167;01mAttributeError\u001b[39;00m(\u001b[33mf\u001b[39m\u001b[33m\"\u001b[39m\u001b[33mmodule \u001b[39m\u001b[38;5;132;01m{\u001b[39;00mmodule\u001b[38;5;132;01m!r}\u001b[39;00m\u001b[33m has no attribute \u001b[39m\u001b[38;5;132;01m{\u001b[39;00mname\u001b[38;5;132;01m!r}\u001b[39;00m\u001b[33m\"\u001b[39m)\n",
      "\u001b[31mAttributeError\u001b[39m: module 'jax' has no attribute 'default_prng_key'"
     ]
    }
   ],
   "source": [
    "@jax.jit\n",
    "def init_params(key, input):\n",
    "    variables = sharded_dense_layer.init(key, input)\n",
    "    return variables['params']\n",
    "\n",
    "params = init_params(key, sharded_input)"
   ]
  }
 ],
 "metadata": {
  "kernelspec": {
   "display_name": "jax_intro",
   "language": "python",
   "name": "python3"
  },
  "language_info": {
   "codemirror_mode": {
    "name": "ipython",
    "version": 3
   },
   "file_extension": ".py",
   "mimetype": "text/x-python",
   "name": "python",
   "nbconvert_exporter": "python",
   "pygments_lexer": "ipython3",
   "version": "3.11.12"
  }
 },
 "nbformat": 4,
 "nbformat_minor": 5
}
