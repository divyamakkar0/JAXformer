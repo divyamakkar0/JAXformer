{
 "cells": [
  {
   "cell_type": "code",
   "execution_count": 2,
   "id": "41c4e14a",
   "metadata": {},
   "outputs": [],
   "source": [
    "import os\n",
    "os.environ[\"XLA_FLAGS\"] = '--xla_force_host_platform_device_count=8' # Use 8 CPU devices\n",
    "import jax\n",
    "jax.config.update(\"jax_debug_nans\", False)\n",
    "\n",
    "import jax.numpy as jnp\n",
    "mesh = jax.make_mesh((8,), ('tensor',))"
   ]
  },
  {
   "cell_type": "code",
   "execution_count": null,
   "id": "777e28d1",
   "metadata": {},
   "outputs": [],
   "source": [
    "def predict(params, inputs):\n",
    "  for W, b in params:\n",
    "    outputs = jnp.dot(inputs, W) + b\n",
    "    inputs = jax.nn.relu(outputs)\n",
    "  return outputs\n",
    "\n",
    "def loss(params, batch):\n",
    "  inputs, targets = batch\n",
    "  predictions = predict(params, inputs)\n",
    "  return jnp.mean(jnp.sum((predictions - targets)**2, axis=-1))"
   ]
  },
  {
   "cell_type": "code",
   "execution_count": 3,
   "id": "0061b6a7",
   "metadata": {},
   "outputs": [],
   "source": [
    "def init_layer(key, n_in, n_out):\n",
    "  k1, k2 = jax.random.split(key)\n",
    "  W = jax.random.normal(k1, (n_in, n_out)) / jnp.sqrt(n_in)\n",
    "  b = jax.random.normal(k2, (n_out,))\n",
    "  return W, b\n",
    "\n",
    "def init(key, layer_sizes, batch_size):\n",
    "  key, *keys = jax.random.split(key, len(layer_sizes))\n",
    "  params = list(map(init_layer, keys, layer_sizes[:-1], layer_sizes[1:]))\n",
    "\n",
    "  key, *keys = jax.random.split(key, 3)\n",
    "  inputs = jax.random.normal(keys[0], (batch_size, layer_sizes[0]))\n",
    "  targets = jax.random.normal(keys[1], (batch_size, layer_sizes[-1]))\n",
    "\n",
    "  return params, (inputs, targets)"
   ]
  },
  {
   "cell_type": "code",
   "execution_count": 4,
   "id": "d33726c9",
   "metadata": {},
   "outputs": [],
   "source": [
    "layer_sizes = [784, 128, 128, 128, 128, 128, 8]\n",
    "batch_size = 32\n",
    "\n",
    "params, batch = init(jax.random.key(0), layer_sizes, batch_size)"
   ]
  },
  {
   "cell_type": "code",
   "execution_count": null,
   "id": "4e88ee79",
   "metadata": {},
   "outputs": [],
   "source": [
    "from functools import partial\n",
    "\n",
    "from jax.sharding import NamedSharding, Mesh, PartitionSpec as P\n",
    "\n",
    "\n",
    "\n",
    "# replicate initial params on all devices, shard data batch over devices\n",
    "batch = jax.device_put(batch, NamedSharding(mesh, P('batch')))\n",
    "params = jax.device_put(params, NamedSharding(mesh, P()))\n",
    "\n",
    "# adapt the loss function to sum the losses across devices\n",
    "def loss_dp(params, batch):\n",
    "  @partial(jax.shard_map, mesh=mesh, in_specs=P('batch', None), out_specs=P())\n",
    "  def loss_spmd(local_batch):\n",
    "    inputs, targets = local_batch\n",
    "    predictions = predict(params, inputs)  # use reference 'predict`\n",
    "    local_loss = jnp.mean(jnp.sum((predictions - targets)**2, axis=-1))\n",
    "    return jax.lax.pmean(local_loss, 'batch')\n",
    "  return loss_spmd(batch)"
   ]
  },
  {
   "cell_type": "code",
   "execution_count": 6,
   "id": "8338005a",
   "metadata": {},
   "outputs": [
    {
     "name": "stdout",
     "output_type": "stream",
     "text": [
      "11.920299\n",
      "11.920299\n"
     ]
    }
   ],
   "source": [
    "print(jax.jit(loss)(params, batch))\n",
    "print(jax.jit(loss_dp)(params, batch))"
   ]
  },
  {
   "cell_type": "code",
   "execution_count": 7,
   "id": "2aca55ac",
   "metadata": {},
   "outputs": [
    {
     "ename": "NameError",
     "evalue": "name 'tree_all' is not defined",
     "output_type": "error",
     "traceback": [
      "\u001b[31m---------------------------------------------------------------------------\u001b[39m",
      "\u001b[31mNameError\u001b[39m                                 Traceback (most recent call last)",
      "\u001b[36mCell\u001b[39m\u001b[36m \u001b[39m\u001b[32mIn[7]\u001b[39m\u001b[32m, line 4\u001b[39m\n\u001b[32m      1\u001b[39m \u001b[38;5;28;01mdef\u001b[39;00m\u001b[38;5;250m \u001b[39m\u001b[34mallclose\u001b[39m(a, b):\n\u001b[32m      2\u001b[39m   \u001b[38;5;28;01mreturn\u001b[39;00m tree_all(tree_map(partial(jnp.allclose, atol=\u001b[32m1e-2\u001b[39m, rtol=\u001b[32m1e-2\u001b[39m), a, b))\n\u001b[32m----> \u001b[39m\u001b[32m4\u001b[39m \u001b[38;5;28mprint\u001b[39m(\u001b[43mallclose\u001b[49m\u001b[43m(\u001b[49m\u001b[43mjax\u001b[49m\u001b[43m.\u001b[49m\u001b[43mjit\u001b[49m\u001b[43m(\u001b[49m\u001b[43mjax\u001b[49m\u001b[43m.\u001b[49m\u001b[43mgrad\u001b[49m\u001b[43m(\u001b[49m\u001b[43mloss\u001b[49m\u001b[43m)\u001b[49m\u001b[43m)\u001b[49m\u001b[43m(\u001b[49m\u001b[43mparams\u001b[49m\u001b[43m,\u001b[49m\u001b[43m \u001b[49m\u001b[43mbatch\u001b[49m\u001b[43m)\u001b[49m\u001b[43m,\u001b[49m\n\u001b[32m      5\u001b[39m \u001b[43m               \u001b[49m\u001b[43mjax\u001b[49m\u001b[43m.\u001b[49m\u001b[43mjit\u001b[49m\u001b[43m(\u001b[49m\u001b[43mjax\u001b[49m\u001b[43m.\u001b[49m\u001b[43mgrad\u001b[49m\u001b[43m(\u001b[49m\u001b[43mloss_dp\u001b[49m\u001b[43m)\u001b[49m\u001b[43m)\u001b[49m\u001b[43m(\u001b[49m\u001b[43mparams\u001b[49m\u001b[43m,\u001b[49m\u001b[43m \u001b[49m\u001b[43mbatch\u001b[49m\u001b[43m)\u001b[49m\u001b[43m)\u001b[49m)\n",
      "\u001b[36mCell\u001b[39m\u001b[36m \u001b[39m\u001b[32mIn[7]\u001b[39m\u001b[32m, line 2\u001b[39m, in \u001b[36mallclose\u001b[39m\u001b[34m(a, b)\u001b[39m\n\u001b[32m      1\u001b[39m \u001b[38;5;28;01mdef\u001b[39;00m\u001b[38;5;250m \u001b[39m\u001b[34mallclose\u001b[39m(a, b):\n\u001b[32m----> \u001b[39m\u001b[32m2\u001b[39m   \u001b[38;5;28;01mreturn\u001b[39;00m \u001b[43mtree_all\u001b[49m(tree_map(partial(jnp.allclose, atol=\u001b[32m1e-2\u001b[39m, rtol=\u001b[32m1e-2\u001b[39m), a, b))\n",
      "\u001b[31mNameError\u001b[39m: name 'tree_all' is not defined"
     ]
    }
   ],
   "source": [
    "def allclose(a, b):\n",
    "  return tree_all(tree_map(partial(jnp.allclose, atol=1e-2, rtol=1e-2), a, b))\n",
    "\n",
    "print(allclose(jax.jit(jax.grad(loss))(params, batch),\n",
    "               jax.jit(jax.grad(loss_dp))(params, batch)))"
   ]
  },
  {
   "cell_type": "code",
   "execution_count": 7,
   "id": "695ea3af",
   "metadata": {},
   "outputs": [
    {
     "name": "stdout",
     "output_type": "stream",
     "text": [
      "2 stages, 2 layer(s) per stage, 4 pipelined layers total\n",
      "8 examples per microbatch, 4 microbatches total\n"
     ]
    }
   ],
   "source": [
    "L = len(params) - 2        # num layers, excluding first and last\n",
    "N = batch_size             # batch size\n",
    "F = params[0][0].shape[1]  # num features\n",
    "\n",
    "# choose some pipeline parameters\n",
    "S = 2      # number of stages\n",
    "B = 8      # size of each microbatch\n",
    "assert L % S == 0, \"S (number of stages) must divide L (number of inner layers)\"\n",
    "\n",
    "# compute some useful quantities\n",
    "M, ragged = divmod(N, B)  # M is number of microbatches\n",
    "assert not ragged, \"B (size of each microbatch) must divide total batch size\"\n",
    "K, ragged = divmod(M, S)  # K is microbatches per stage\n",
    "assert not ragged, \"S (number of stages) must divide number of microbatches\"\n",
    "print(f'{S} stages, {L // S} layer(s) per stage, {L} pipelined layers total')\n",
    "print(f'{B} examples per microbatch, {M} microbatches total')"
   ]
  },
  {
   "cell_type": "code",
   "execution_count": 8,
   "id": "03c1f240",
   "metadata": {},
   "outputs": [],
   "source": [
    "mesh = Mesh(jax.devices()[:S], ('stages',))\n",
    "def spmd_pipeline(fn, stage_params, inputs):\n",
    "  stage = jax.lax.axis_index('stages')\n",
    "  outputs = jnp.zeros_like(inputs) * jnp.nan\n",
    "  state = jnp.zeros((L // S, B, F)) * jnp.nan\n",
    "  for i in range(M+L-1):\n",
    "    state = state.at[0].set(jnp.where(stage == 0, inputs[i % K], state[0]))\n",
    "    state = jax.vmap(fn)(stage_params, state)\n",
    "    outputs = outputs.at[(i-L+1) % K].set(jnp.where(stage == S-1, state[-1], outputs[(i-L+1) % K]))\n",
    "    state, inputs, outputs = shift(i, state, inputs, outputs)\n",
    "  outputs = jax.lax.ppermute(outputs, 'stages', [(i, (i+1) % S) for i in range(S)])\n",
    "  return outputs\n",
    "\n",
    "def shift(i, state, inputs, outputs):\n",
    "  sh = lambda x, d: jax.lax.ppermute(x, 'stages', [(i, (i+d) % S) for i in range(S)])\n",
    "  state = jnp.roll(state, +1, axis=0).at[0].set(sh(state[-1], +1))\n",
    "  if (i % K) == (-1 % K):\n",
    "    inputs = sh(inputs, +1)\n",
    "  if ((i-L+1) % K) == (-1 % K):\n",
    "    outputs = sh(outputs, +1)\n",
    "  return state, inputs, outputs\n",
    "def predict_pp(params, inputs):\n",
    "  (W_first, b_first), inner_params, (W_last, b_last) = params\n",
    "  inputs = jax.nn.relu(jnp.dot(inputs, W_first) + b_first)\n",
    "  inputs = spmd_pipeline(lambda Wb, x: jax.nn.relu(x @ Wb[0] + Wb[1]),\n",
    "                        inner_params, inputs)\n",
    "  outputs = jnp.dot(inputs, W_last) + b_last\n",
    "  return outputs\n",
    "\n",
    "@partial(jax.shard_map, mesh=mesh, in_specs=((P(), P('stages'), P()), P('stages')),\n",
    "         out_specs=P())\n",
    "def loss_pp(params, batch):\n",
    "  inputs, targets = batch\n",
    "  predictions = predict_pp(params, inputs.reshape(K, B, -1)).reshape(K * B, -1)\n",
    "  local_loss = jnp.mean(jnp.sum((predictions - targets)**2, axis=-1))\n",
    "  return jax.lax.pmean(local_loss, 'stages')"
   ]
  },
  {
   "cell_type": "code",
   "execution_count": 9,
   "id": "0c35a5a6",
   "metadata": {},
   "outputs": [],
   "source": [
    "first_params, *inner_params, last_params = params\n",
    "Ws, bs = zip(*inner_params)\n",
    "params_stacked = jnp.stack(Ws), jnp.stack(bs)\n",
    "first_params = jax.device_put(first_params, NamedSharding(mesh, P()))\n",
    "params_stacked = jax.device_put(params_stacked, NamedSharding(mesh, P('stages')))\n",
    "last_params = jax.device_put(last_params, NamedSharding(mesh, P()))\n",
    "params_ = first_params, params_stacked, last_params\n",
    "\n",
    "batch_ = jax.device_put(batch, NamedSharding(mesh, P('stages')))"
   ]
  },
  {
   "cell_type": "code",
   "execution_count": 12,
   "id": "e27b9f4f",
   "metadata": {},
   "outputs": [
    {
     "name": "stdout",
     "output_type": "stream",
     "text": [
      "11.920298\n"
     ]
    }
   ],
   "source": [
    "print(loss_pp(params_, batch_))"
   ]
  },
  {
   "cell_type": "code",
   "execution_count": 11,
   "id": "aa81e771",
   "metadata": {},
   "outputs": [],
   "source": [
    "_ = jax.jit(jax.grad(loss_pp))(params_, batch_)   # don't crash"
   ]
  },
  {
   "cell_type": "code",
   "execution_count": 14,
   "id": "9f91ce98",
   "metadata": {},
   "outputs": [
    {
     "data": {
      "text/plain": [
       "((Array([[ 0.00083114, -0.02315384, -0.01116189, ...,  0.00821616,\n",
       "          -0.03333623,  0.02138161],\n",
       "         [ 0.00264254,  0.01418981, -0.00351758, ...,  0.00914318,\n",
       "           0.00340969,  0.00174211],\n",
       "         [ 0.00046268, -0.06213158, -0.00636453, ..., -0.00573286,\n",
       "          -0.00366312,  0.0008602 ],\n",
       "         ...,\n",
       "         [ 0.00031812, -0.00743218,  0.02016719, ...,  0.00143266,\n",
       "           0.02880489, -0.01309206],\n",
       "         [ 0.00283473, -0.00373359,  0.01345176, ...,  0.00291418,\n",
       "           0.04606411,  0.01251762],\n",
       "         [ 0.00109067, -0.03741013,  0.01151825, ...,  0.00170438,\n",
       "           0.01178429,  0.01915886]], dtype=float32),\n",
       "  Array([-0.00184396,  0.01669584,  0.02164971, -0.00165527, -0.12654759,\n",
       "          0.01433781, -0.00963732, -0.03216164,  0.01713463, -0.03323705,\n",
       "          0.09363743,  0.07619127,  0.00747464,  0.15072134,  0.03830011,\n",
       "         -0.05274152,  0.10495227, -0.01853032,  0.00505064, -0.03301641,\n",
       "         -0.13752127,  0.04429763,  0.        ,  0.13068958, -0.00281699,\n",
       "          0.09199921,  0.04045091,  0.01775631, -0.03483508, -0.03397213,\n",
       "          0.03071964,  0.02729207,  0.02848404, -0.12119067,  0.01554678,\n",
       "         -0.02298718, -0.05522048, -0.00874226,  0.04424183,  0.03757786,\n",
       "          0.02130635,  0.08325298,  0.02758676,  0.00205522,  0.1043497 ,\n",
       "          0.01023852,  0.02511747,  0.05832164, -0.03362846,  0.00353074,\n",
       "          0.00461265, -0.01684548, -0.01169367, -0.03328053, -0.04930897,\n",
       "         -0.10824765, -0.00272248, -0.00858142, -0.00820894,  0.07359241,\n",
       "          0.08439898,  0.13125911, -0.00282903,  0.0240153 , -0.04294941,\n",
       "          0.00422006, -0.08968063, -0.00554258,  0.02868595,  0.04311348,\n",
       "         -0.03913429, -0.04001272,  0.12695153,  0.0336613 , -0.03412065,\n",
       "         -0.01803411, -0.02300445, -0.01677985,  0.02457104, -0.01580979,\n",
       "         -0.04813565, -0.01739233, -0.06986099,  0.00708072, -0.14785726,\n",
       "         -0.03633817, -0.00853637, -0.09840491,  0.01691112,  0.00232224,\n",
       "         -0.01252756, -0.01381765,  0.0537699 ,  0.13776389, -0.02069774,\n",
       "         -0.00269699, -0.07519463, -0.08239403,  0.        ,  0.05259967,\n",
       "         -0.00761871, -0.04070273,  0.00340198,  0.        ,  0.09680262,\n",
       "          0.        , -0.00119984, -0.01517395,  0.01713536, -0.01418154,\n",
       "          0.06421502,  0.05175471, -0.04926908, -0.03725249, -0.06356706,\n",
       "          0.01194382, -0.02724368, -0.04221717,  0.05091975,  0.06228562,\n",
       "          0.05127762, -0.00046288,  0.05443878,  0.06798664, -0.03232395,\n",
       "         -0.00595605,  0.04722899, -0.04363479], dtype=float32)),\n",
       " (Array([[[-0.0003258 ,  0.        , -0.00822339, ..., -0.01983836,\n",
       "            0.        ,  0.        ],\n",
       "          [-0.0348091 ,  0.        ,  0.09501331, ...,  0.03472304,\n",
       "            0.        ,  0.        ],\n",
       "          [-0.06205574,  0.        ,  0.15474388, ...,  0.04515057,\n",
       "            0.        ,  0.        ],\n",
       "          ...,\n",
       "          [-0.00354938,  0.        ,  0.00810202, ...,  0.00644932,\n",
       "            0.        ,  0.        ],\n",
       "          [-0.07816831,  0.        ,  0.21290544, ...,  0.12908792,\n",
       "            0.        ,  0.        ],\n",
       "          [-0.03381335,  0.        ,  0.10911106, ...,  0.04658864,\n",
       "            0.        ,  0.        ]],\n",
       "  \n",
       "         [[        nan,         nan,         nan, ...,         nan,\n",
       "                   nan,         nan],\n",
       "          [        nan,         nan,         nan, ...,         nan,\n",
       "                   nan,         nan],\n",
       "          [        nan,         nan,         nan, ...,         nan,\n",
       "                   nan,         nan],\n",
       "          ...,\n",
       "          [        nan,         nan,         nan, ...,         nan,\n",
       "                   nan,         nan],\n",
       "          [        nan,         nan,         nan, ...,         nan,\n",
       "                   nan,         nan],\n",
       "          [        nan,         nan,         nan, ...,         nan,\n",
       "                   nan,         nan]],\n",
       "  \n",
       "         [[        nan,         nan,         nan, ...,         nan,\n",
       "                   nan,         nan],\n",
       "          [        nan,         nan,         nan, ...,         nan,\n",
       "                   nan,         nan],\n",
       "          [        nan,         nan,         nan, ...,         nan,\n",
       "                   nan,         nan],\n",
       "          ...,\n",
       "          [        nan,         nan,         nan, ...,         nan,\n",
       "                   nan,         nan],\n",
       "          [        nan,         nan,         nan, ...,         nan,\n",
       "                   nan,         nan],\n",
       "          [        nan,         nan,         nan, ...,         nan,\n",
       "                   nan,         nan]],\n",
       "  \n",
       "         [[        nan,         nan,         nan, ...,         nan,\n",
       "                   nan,         nan],\n",
       "          [        nan,         nan,         nan, ...,         nan,\n",
       "                   nan,         nan],\n",
       "          [        nan,         nan,         nan, ...,         nan,\n",
       "                   nan,         nan],\n",
       "          ...,\n",
       "          [        nan,         nan,         nan, ...,         nan,\n",
       "                   nan,         nan],\n",
       "          [        nan,         nan,         nan, ...,         nan,\n",
       "                   nan,         nan],\n",
       "          [        nan,         nan,         nan, ...,         nan,\n",
       "                   nan,         nan]]], dtype=float32),\n",
       "  Array([[-1.45977229e-01,  0.00000000e+00,  3.05727959e-01,\n",
       "          -7.35545997e-04,  0.00000000e+00, -1.38029113e-01,\n",
       "          -8.74516834e-03,  0.00000000e+00, -1.22207962e-02,\n",
       "           3.72824296e-02, -4.53206263e-02, -1.29236504e-01,\n",
       "           3.86470743e-03, -9.44109261e-02,  1.04671210e-01,\n",
       "           9.15940031e-02,  0.00000000e+00,  0.00000000e+00,\n",
       "          -1.30137976e-03,  6.28624018e-03, -8.57341103e-03,\n",
       "           8.14056769e-02, -2.85175163e-03,  1.33080915e-01,\n",
       "           5.97576145e-03, -1.61533639e-01,  1.25472605e-01,\n",
       "           7.61542171e-02,  9.63987689e-03,  6.81508183e-02,\n",
       "           4.66852933e-02,  2.69437721e-03, -2.38122433e-01,\n",
       "           5.59919812e-02,  0.00000000e+00, -1.60346806e-01,\n",
       "          -1.34216631e-02,  4.08559069e-02, -6.31467551e-02,\n",
       "          -7.49457926e-02,  6.12460338e-02,  1.58422776e-02,\n",
       "           2.28121635e-02,  0.00000000e+00,  3.42172943e-02,\n",
       "           2.56225523e-02, -4.12407127e-04,  1.20974779e-02,\n",
       "          -1.81045718e-02, -3.42261568e-02,  0.00000000e+00,\n",
       "           0.00000000e+00,  0.00000000e+00, -1.63163450e-02,\n",
       "          -6.30812049e-02, -5.82721867e-02, -1.77467465e-01,\n",
       "           6.32800162e-02, -6.77610794e-03,  1.28627107e-01,\n",
       "           7.33524933e-03, -1.45513220e-02,  3.51676252e-03,\n",
       "           8.99778157e-02, -1.70486625e-02, -5.45181334e-04,\n",
       "          -1.14487365e-01,  1.25611529e-01,  1.56699896e-01,\n",
       "           2.24324763e-01,  0.00000000e+00,  7.19128400e-02,\n",
       "          -8.27791989e-02, -1.10224131e-02,  9.32759885e-03,\n",
       "           0.00000000e+00,  2.40978613e-01,  5.67201301e-02,\n",
       "          -1.56826042e-02, -8.45826715e-02, -1.63864754e-02,\n",
       "           0.00000000e+00,  8.98756832e-03, -1.11348271e-01,\n",
       "           0.00000000e+00,  8.74781888e-03, -2.52851006e-02,\n",
       "           0.00000000e+00, -7.54261315e-02,  1.56142889e-02,\n",
       "           2.10164189e-02, -5.86691964e-03,  0.00000000e+00,\n",
       "          -2.12084036e-03, -5.59918769e-03,  1.29127741e-01,\n",
       "           1.63673703e-02, -3.19162682e-02,  1.24082239e-02,\n",
       "          -2.30624497e-01, -1.81259751e-01,  2.88606696e-02,\n",
       "           1.13654342e-02, -6.86737522e-03,  0.00000000e+00,\n",
       "          -2.75719371e-02,  9.61019173e-02,  0.00000000e+00,\n",
       "           0.00000000e+00, -1.14647135e-01, -3.91243026e-02,\n",
       "           1.67887919e-02,  2.57559121e-02,  0.00000000e+00,\n",
       "          -1.01696569e-02, -1.12715870e-01, -2.79107206e-02,\n",
       "          -4.07177489e-03,  8.12293589e-03, -1.95516851e-02,\n",
       "           7.41956085e-02,  1.76537842e-01,  0.00000000e+00,\n",
       "          -9.99665931e-02, -2.83033133e-01,  1.47171631e-01,\n",
       "           0.00000000e+00,  0.00000000e+00],\n",
       "         [ 2.61004686e-01,  1.52737442e-02,  0.00000000e+00,\n",
       "          -2.01265126e-01, -2.81709611e-01,  1.74317453e-02,\n",
       "           2.08325870e-02,  9.04435813e-02,  0.00000000e+00,\n",
       "           2.83658534e-01, -4.80481863e-01,  0.00000000e+00,\n",
       "           0.00000000e+00,  2.47400999e-02,  0.00000000e+00,\n",
       "           4.46332991e-02, -3.72589901e-02,  1.33999556e-01,\n",
       "          -2.54650181e-03, -7.16351494e-02,  5.01085147e-02,\n",
       "           5.45386821e-02, -1.06631905e-01,  1.28615797e-01,\n",
       "          -3.23984832e-01, -1.66009933e-01,  0.00000000e+00,\n",
       "           1.40118286e-01,  0.00000000e+00,  0.00000000e+00,\n",
       "           0.00000000e+00, -1.00220077e-01, -5.18736616e-02,\n",
       "           0.00000000e+00,  0.00000000e+00,  2.11915493e-01,\n",
       "          -6.81945980e-01,  4.19858024e-02,  0.00000000e+00,\n",
       "           0.00000000e+00,  6.62399828e-03, -6.84795715e-03,\n",
       "           8.78126472e-02,  2.56527141e-02,  0.00000000e+00,\n",
       "           2.60759201e-02,  1.92766339e-02,  1.61826789e-01,\n",
       "          -2.01391727e-01,  6.70199469e-02,  0.00000000e+00,\n",
       "          -4.89676520e-02, -1.16592482e-01,  2.65231639e-01,\n",
       "           0.00000000e+00,  0.00000000e+00,  0.00000000e+00,\n",
       "          -3.45993519e-01,  7.35777318e-02, -1.14444615e-02,\n",
       "          -2.85329998e-01, -2.46804431e-01, -1.33570746e-01,\n",
       "          -3.01876590e-02,  0.00000000e+00,  0.00000000e+00,\n",
       "           0.00000000e+00,  9.80933607e-02, -1.57302946e-01,\n",
       "           1.63683295e-01,  1.57983065e-01,  0.00000000e+00,\n",
       "          -4.16801050e-02,  3.61172915e-01, -2.28257507e-01,\n",
       "          -1.19661707e-02,  0.00000000e+00,  1.43034145e-01,\n",
       "          -2.16071773e-02,  0.00000000e+00,  2.84076244e-01,\n",
       "          -9.69934314e-02,  0.00000000e+00, -1.22369230e-02,\n",
       "           4.99838358e-03, -5.51211387e-02, -6.24284148e-05,\n",
       "          -2.32964903e-02,  8.04512855e-03,  1.55172469e-02,\n",
       "          -1.08045146e-01,  1.57037616e-01,  5.96946478e-02,\n",
       "           2.49309510e-01, -2.76350547e-02,  2.35254377e-01,\n",
       "          -3.68469255e-03,  1.44031132e-03, -1.55948311e-01,\n",
       "          -3.14215064e-01, -5.07917739e-02,  0.00000000e+00,\n",
       "           4.46206853e-02,  6.70400411e-02,  3.89216393e-02,\n",
       "           0.00000000e+00, -2.19374187e-02, -6.95756376e-02,\n",
       "           1.34827271e-01,  4.24860001e-01,  0.00000000e+00,\n",
       "           9.90600977e-03,  1.53280348e-01,  0.00000000e+00,\n",
       "           0.00000000e+00, -1.25662625e-01,  1.56121299e-01,\n",
       "           1.36804894e-01,  0.00000000e+00, -1.16441272e-01,\n",
       "           1.16469397e-03,  0.00000000e+00,  3.01055536e-02,\n",
       "           0.00000000e+00, -1.69716235e-02,  0.00000000e+00,\n",
       "           4.00373846e-01,  0.00000000e+00],\n",
       "         [ 2.14163631e-01, -1.52550563e-02,  3.38832512e-02,\n",
       "          -1.28846854e-01,  3.43141824e-01,  1.26351137e-02,\n",
       "           0.00000000e+00,  1.43117130e-01,  0.00000000e+00,\n",
       "          -5.51233441e-03,  3.40430215e-02,  0.00000000e+00,\n",
       "           2.37583280e-01,  3.67959559e-01, -3.81627440e-01,\n",
       "          -5.46235800e-01,  2.30320953e-02,  3.41791734e-02,\n",
       "           0.00000000e+00, -3.13637555e-01,  6.48030162e-01,\n",
       "           5.22192359e-01,  2.67481655e-02,  0.00000000e+00,\n",
       "           0.00000000e+00, -1.46093369e-01,  0.00000000e+00,\n",
       "          -1.25907302e-01,  0.00000000e+00,  0.00000000e+00,\n",
       "           3.63683462e-01,  0.00000000e+00,  4.25451279e-01,\n",
       "          -5.15534950e-04, -1.65463895e-01,  2.60831509e-02,\n",
       "          -1.80134922e-02,  6.63296785e-03,  0.00000000e+00,\n",
       "           6.02815375e-02,  0.00000000e+00,  2.62944520e-01,\n",
       "          -8.83755237e-02,  3.95653993e-02,  0.00000000e+00,\n",
       "           1.82764195e-02,  5.63084662e-01,  4.21096534e-01,\n",
       "           2.71263719e-01,  0.00000000e+00, -1.97380483e-01,\n",
       "          -4.88457859e-01,  0.00000000e+00, -1.01693146e-01,\n",
       "           0.00000000e+00,  1.43266827e-01, -4.53126766e-02,\n",
       "          -1.88568190e-01, -2.64420547e-03,  2.68935859e-01,\n",
       "           0.00000000e+00, -6.50755346e-01,  0.00000000e+00,\n",
       "           0.00000000e+00,  5.32693416e-02, -8.50490034e-02,\n",
       "           0.00000000e+00,  5.54448366e-01,  1.06049165e-01,\n",
       "          -1.65299580e-01,  0.00000000e+00,  1.16732761e-01,\n",
       "          -1.45855263e-01, -1.99958354e-01,  5.13533168e-02,\n",
       "           2.37491131e-02,  0.00000000e+00,  6.75836504e-02,\n",
       "          -3.91075248e-03, -5.38977347e-02,  0.00000000e+00,\n",
       "           2.00682312e-01, -3.36809039e-01, -1.12698108e-01,\n",
       "           2.29001790e-01,  0.00000000e+00, -3.33550125e-01,\n",
       "           4.55006808e-01,  0.00000000e+00, -4.20080334e-01,\n",
       "           1.18500993e-01,  0.00000000e+00,  0.00000000e+00,\n",
       "           0.00000000e+00,  1.09257596e-02,  1.04794070e-01,\n",
       "          -1.71855781e-02,  2.76788771e-01,  4.59056683e-02,\n",
       "          -4.97900285e-02,  0.00000000e+00, -1.31581113e-01,\n",
       "           0.00000000e+00,  0.00000000e+00,  4.91160974e-02,\n",
       "           0.00000000e+00, -5.37977457e-01,  1.65287763e-01,\n",
       "           0.00000000e+00,  6.43075258e-02,  0.00000000e+00,\n",
       "           0.00000000e+00,  0.00000000e+00, -2.78625369e-01,\n",
       "          -4.20464337e-01,  0.00000000e+00, -1.25836283e-01,\n",
       "           1.27817482e-01, -1.84178814e-01,  0.00000000e+00,\n",
       "           0.00000000e+00,  0.00000000e+00,  0.00000000e+00,\n",
       "          -9.25897993e-03,  2.52518654e-02,  0.00000000e+00,\n",
       "          -8.91099423e-02,  0.00000000e+00],\n",
       "         [ 1.40999015e-02,  1.05564392e+00, -7.54415020e-02,\n",
       "           0.00000000e+00, -2.82009095e-01,  2.87913978e-01,\n",
       "           0.00000000e+00,  0.00000000e+00,  0.00000000e+00,\n",
       "          -1.23560198e-01, -6.99465692e-01,  0.00000000e+00,\n",
       "           3.13889384e-02, -1.34921536e-01,  2.37620965e-01,\n",
       "           0.00000000e+00,  2.65977904e-02, -5.51295757e-01,\n",
       "           0.00000000e+00,  0.00000000e+00,  0.00000000e+00,\n",
       "           2.32000157e-01,  0.00000000e+00, -1.40774757e-01,\n",
       "          -2.30779126e-03,  3.95597927e-02,  6.59628153e-01,\n",
       "           4.04122949e-01,  0.00000000e+00, -2.19815448e-01,\n",
       "           0.00000000e+00,  0.00000000e+00,  4.35925603e-01,\n",
       "           0.00000000e+00, -1.50379203e-02,  0.00000000e+00,\n",
       "           0.00000000e+00,  0.00000000e+00,  5.57128906e-01,\n",
       "          -2.02813700e-01, -1.56022422e-02,  5.78498915e-02,\n",
       "          -1.21441826e-01,  0.00000000e+00,  7.84698248e-01,\n",
       "           3.37233067e-01, -3.54781002e-03, -2.40859583e-01,\n",
       "           0.00000000e+00,  0.00000000e+00,  2.96941757e-01,\n",
       "          -2.49976233e-01,  4.53813553e-01,  1.76445432e-02,\n",
       "          -4.23530377e-02,  0.00000000e+00, -3.50272596e-01,\n",
       "           0.00000000e+00,  0.00000000e+00,  0.00000000e+00,\n",
       "          -7.82495439e-02,  2.50729054e-01,  0.00000000e+00,\n",
       "           3.24737370e-01,  0.00000000e+00,  0.00000000e+00,\n",
       "          -2.83512592e-01,  0.00000000e+00,  5.49309328e-02,\n",
       "           3.00949086e-02,  0.00000000e+00,  3.99489880e-01,\n",
       "           0.00000000e+00,  3.89058441e-01,  0.00000000e+00,\n",
       "           0.00000000e+00,  0.00000000e+00, -2.08702177e-01,\n",
       "           2.54716188e-01,  2.44497284e-01,  5.05881384e-04,\n",
       "           5.91449916e-01,  2.14892685e-01,  4.66272719e-02,\n",
       "          -1.67305380e-01,  9.40196589e-03,  2.96234459e-01,\n",
       "           1.88800693e-01,  5.64903498e-01,  0.00000000e+00,\n",
       "           0.00000000e+00,  0.00000000e+00,  5.22634566e-01,\n",
       "          -2.40206361e-01, -2.26135015e-01,  0.00000000e+00,\n",
       "          -5.50419688e-01,  0.00000000e+00,  0.00000000e+00,\n",
       "          -6.83565140e-01,  2.75631756e-01, -9.66221020e-02,\n",
       "           4.58620787e-01,  6.52832687e-02,  0.00000000e+00,\n",
       "           3.15435171e-01, -1.93028539e-01,  0.00000000e+00,\n",
       "           2.47612596e-02,  0.00000000e+00, -5.77687204e-01,\n",
       "          -1.71661586e-01, -3.60950738e-01,  0.00000000e+00,\n",
       "           0.00000000e+00,  0.00000000e+00, -5.64298481e-02,\n",
       "           0.00000000e+00,  0.00000000e+00, -1.56871416e-02,\n",
       "           6.18742108e-01,  2.66589254e-01,  0.00000000e+00,\n",
       "          -8.59726742e-02, -4.98165078e-02,  0.00000000e+00,\n",
       "           0.00000000e+00, -4.92178500e-01]], dtype=float32)),\n",
       " (Array([[-2.6512296 , -1.4927715 , -0.7135204 , ..., -1.4832448 ,\n",
       "           2.7543812 ,  3.643106  ],\n",
       "         [-2.2162595 , -1.3661367 , -0.449667  , ..., -1.2973354 ,\n",
       "           2.2829359 ,  3.0231133 ],\n",
       "         [-1.7379752 , -0.97243834, -0.3466113 , ..., -0.96466494,\n",
       "           1.8404083 ,  2.327265  ],\n",
       "         ...,\n",
       "         [ 0.        ,  0.        ,  0.        , ...,  0.        ,\n",
       "           0.        ,  0.        ],\n",
       "         [ 0.        ,  0.        ,  0.        , ...,  0.        ,\n",
       "           0.        ,  0.        ],\n",
       "         [-0.97197264, -0.5639565 , -0.2931819 , ..., -0.39448345,\n",
       "           1.0898998 ,  1.3715397 ]], dtype=float32),\n",
       "  Array([-1.415689  , -0.8264712 , -0.18524446, -0.8410125 ,  2.6755123 ,\n",
       "         -0.79140574,  1.4509702 ,  1.8042331 ], dtype=float32)))"
      ]
     },
     "execution_count": 14,
     "metadata": {},
     "output_type": "execute_result"
    }
   ],
   "source": [
    "_\n"
   ]
  },
  {
   "cell_type": "code",
   "execution_count": 13,
   "id": "2f7b1f92",
   "metadata": {},
   "outputs": [],
   "source": [
    "A = jnp.array([[0, -1], [2, 3]])\n",
    "def matrix_exp(A, n):\n",
    "  for i in range(n-1):\n",
    "    A = A @ A\n",
    "  return A"
   ]
  },
  {
   "cell_type": "code",
   "execution_count": 15,
   "id": "2aa5e43d",
   "metadata": {},
   "outputs": [
    {
     "data": {
      "text/plain": [
       "Array([[ 2,  1],\n",
       "       [-2, -1]], dtype=int32)"
      ]
     },
     "execution_count": 15,
     "metadata": {},
     "output_type": "execute_result"
    }
   ],
   "source": [
    "matrix_exp(A, 7)"
   ]
  },
  {
   "cell_type": "code",
   "execution_count": 23,
   "id": "258fbab5",
   "metadata": {},
   "outputs": [],
   "source": [
    "A = jnp.array([[1/jnp.sqrt(2), -1/jnp.sqrt(2)], [1/jnp.sqrt(2), 1/jnp.sqrt(2)]])\n",
    "B = jnp.array([[3, -1], [1, 1]])"
   ]
  },
  {
   "cell_type": "code",
   "execution_count": 19,
   "id": "38e2ab7a",
   "metadata": {},
   "outputs": [
    {
     "data": {
      "text/plain": [
       "Array([[1., 0.],\n",
       "       [0., 1.]], dtype=float16)"
      ]
     },
     "execution_count": 19,
     "metadata": {},
     "output_type": "execute_result"
    }
   ],
   "source": [
    "(A.T @ A).astype(jnp.float16)"
   ]
  },
  {
   "cell_type": "code",
   "execution_count": 22,
   "id": "f96ac625",
   "metadata": {},
   "outputs": [
    {
     "ename": "ValueError",
     "evalue": "matmul input operand 1 must have ndim at least 1, but it has ndim 0",
     "output_type": "error",
     "traceback": [
      "\u001b[31m---------------------------------------------------------------------------\u001b[39m",
      "\u001b[31mValueError\u001b[39m                                Traceback (most recent call last)",
      "\u001b[36mCell\u001b[39m\u001b[36m \u001b[39m\u001b[32mIn[22]\u001b[39m\u001b[32m, line 1\u001b[39m\n\u001b[32m----> \u001b[39m\u001b[32m1\u001b[39m C  = (\u001b[43mA\u001b[49m\u001b[43m.\u001b[49m\u001b[43mT\u001b[49m\u001b[43m \u001b[49m\u001b[43m@\u001b[49m\u001b[43m \u001b[49m\u001b[43mB\u001b[49m).astype(jnp.float16)\n",
      "\u001b[36mFile \u001b[39m\u001b[32m~/anaconda3/envs/jaxformer/lib/python3.13/site-packages/jax/_src/numpy/array_methods.py:583\u001b[39m, in \u001b[36m_defer_to_unrecognized_arg.<locals>.deferring_binary_op\u001b[39m\u001b[34m(self, other)\u001b[39m\n\u001b[32m    581\u001b[39m args = (other, \u001b[38;5;28mself\u001b[39m) \u001b[38;5;28;01mif\u001b[39;00m swap \u001b[38;5;28;01melse\u001b[39;00m (\u001b[38;5;28mself\u001b[39m, other)\n\u001b[32m    582\u001b[39m \u001b[38;5;28;01mif\u001b[39;00m \u001b[38;5;28misinstance\u001b[39m(other, _accepted_binop_types):\n\u001b[32m--> \u001b[39m\u001b[32m583\u001b[39m   \u001b[38;5;28;01mreturn\u001b[39;00m \u001b[43mbinary_op\u001b[49m\u001b[43m(\u001b[49m\u001b[43m*\u001b[49m\u001b[43margs\u001b[49m\u001b[43m)\u001b[49m\n\u001b[32m    584\u001b[39m \u001b[38;5;66;03m# Note: don't use isinstance here, because we don't want to raise for\u001b[39;00m\n\u001b[32m    585\u001b[39m \u001b[38;5;66;03m# subclasses, e.g. NamedTuple objects that may override operators.\u001b[39;00m\n\u001b[32m    586\u001b[39m \u001b[38;5;28;01mif\u001b[39;00m \u001b[38;5;28mtype\u001b[39m(other) \u001b[38;5;129;01min\u001b[39;00m _rejected_binop_types:\n",
      "    \u001b[31m[... skipping hidden 15 frame]\u001b[39m\n",
      "\u001b[36mFile \u001b[39m\u001b[32m~/anaconda3/envs/jaxformer/lib/python3.13/site-packages/jax/_src/numpy/tensor_contractions.py:195\u001b[39m, in \u001b[36mmatmul\u001b[39m\u001b[34m(a, b, precision, preferred_element_type)\u001b[39m\n\u001b[32m    192\u001b[39m   \u001b[38;5;28;01mif\u001b[39;00m np.ndim(x) < \u001b[32m1\u001b[39m:\n\u001b[32m    193\u001b[39m     msg = (\u001b[33mf\u001b[39m\u001b[33m\"\u001b[39m\u001b[33mmatmul input operand \u001b[39m\u001b[38;5;132;01m{\u001b[39;00mi\u001b[38;5;132;01m}\u001b[39;00m\u001b[33m must have ndim at least 1, \u001b[39m\u001b[33m\"\u001b[39m\n\u001b[32m    194\u001b[39m            \u001b[33mf\u001b[39m\u001b[33m\"\u001b[39m\u001b[33mbut it has ndim \u001b[39m\u001b[38;5;132;01m{\u001b[39;00mnp.ndim(x)\u001b[38;5;132;01m}\u001b[39;00m\u001b[33m\"\u001b[39m)\n\u001b[32m--> \u001b[39m\u001b[32m195\u001b[39m     \u001b[38;5;28;01mraise\u001b[39;00m \u001b[38;5;167;01mValueError\u001b[39;00m(msg)\n\u001b[32m    196\u001b[39m \u001b[38;5;28;01mif\u001b[39;00m preferred_element_type \u001b[38;5;129;01mis\u001b[39;00m \u001b[38;5;28;01mNone\u001b[39;00m:\n\u001b[32m    197\u001b[39m   preferred_element_type, output_weak_type = dtypes.result_type(a, b, return_weak_type_flag=\u001b[38;5;28;01mTrue\u001b[39;00m)\n",
      "\u001b[31mValueError\u001b[39m: matmul input operand 1 must have ndim at least 1, but it has ndim 0"
     ]
    }
   ],
   "source": [
    "C  = (A.T @ B).astype(jnp.float16)"
   ]
  },
  {
   "cell_type": "code",
   "execution_count": 26,
   "id": "7c944716",
   "metadata": {},
   "outputs": [],
   "source": [
    "A_T = A.T"
   ]
  },
  {
   "cell_type": "code",
   "execution_count": null,
   "id": "44c3aa9c",
   "metadata": {},
   "outputs": [],
   "source": [
    "C = A_T @ B"
   ]
  },
  {
   "cell_type": "code",
   "execution_count": 29,
   "id": "cc0c3a46",
   "metadata": {},
   "outputs": [],
   "source": [
    "D = C @ A"
   ]
  },
  {
   "cell_type": "code",
   "execution_count": null,
   "id": "6a487da6",
   "metadata": {},
   "outputs": [
    {
     "data": {
      "text/plain": [
       "Array([[ 2.e+00, -2.e+00],\n",
       "       [ 6.e-08,  2.e+00]], dtype=float16)"
      ]
     },
     "execution_count": 31,
     "metadata": {},
     "output_type": "execute_result"
    }
   ],
   "source": [
    "D.astype(jnp.float16)"
   ]
  },
  {
   "cell_type": "code",
   "execution_count": 3,
   "id": "7889b60b",
   "metadata": {},
   "outputs": [
    {
     "data": {
      "text/plain": [
       "Mesh(device_ids=array([0, 1, 2, 3, 4, 5, 6, 7]), axis_names=('tensor',), axis_types=(Auto,))"
      ]
     },
     "execution_count": 3,
     "metadata": {},
     "output_type": "execute_result"
    }
   ],
   "source": [
    "import os\n",
    "os.environ[\"XLA_FLAGS\"] = '--xla_force_host_platform_device_count=8' # Use 8 CPU devices\n",
    "import jax\n",
    "jax.config.update(\"jax_debug_nans\", False)\n",
    "\n",
    "import jax.numpy as jnp\n",
    "mesh = jax.make_mesh((8,), ('tensor',))\n",
    "mesh"
   ]
  },
  {
   "cell_type": "code",
   "execution_count": 4,
   "id": "ea4a3e96",
   "metadata": {},
   "outputs": [],
   "source": [
    "import flax.linen as nn\n",
    "from jaxtyping import Array\n",
    "\n",
    "class TestNet(nn.Module):\n",
    "  features: int = 8\n",
    "\n",
    "  @nn.compact\n",
    "  def __call__(self, x: Array):\n",
    "    # params = self.scope.get_variable(\"params\", \"Dense_0\")\n",
    "    # params = jax.lax.all_gather(params, 'data')\n",
    "    out = nn.Dense(self.features)(x)\n",
    "    return out\n",
    "\n",
    "class TensorNet(nn.Module):\n",
    "  features: int = 8\n",
    "\n",
    "  @nn.compact\n",
    "  def __call__(self, x: Array):\n",
    "    local_out = nn.Dense(self.features)(x)\n",
    "    if not self.is_mutable_collection(\"params\"):\n",
    "      local_out = jax.lax.psum_scatter(\n",
    "        local_out,\n",
    "        'tensor',\n",
    "        scatter_dimension=local_out.ndim - 1,\n",
    "        tiled=True\n",
    "      )\n",
    "    return local_out\n"
   ]
  },
  {
   "cell_type": "code",
   "execution_count": 5,
   "id": "828ab7cb",
   "metadata": {},
   "outputs": [],
   "source": [
    "model = TestNet()\n",
    "x = jnp.ones((2, 4, 16))\n",
    "init_key = jax.random.PRNGKey(0)\n",
    "params = model.init(init_key, x)['params']"
   ]
  },
  {
   "cell_type": "code",
   "execution_count": null,
   "id": "13874d56",
   "metadata": {},
   "outputs": [],
   "source": [
    "from functools import partial\n",
    "from jax.sharding import PartitionSpec as P\n",
    "model_tensor = TensorNet()\n",
    "\n",
    "tensor_keys = jax.random.split(init_key, 8)\n",
    "tensor_keys = jnp.array(tensor_keys)\n",
    "\n",
    "var_spec = jax.eval_shape(lambda key, x: model_tensor.init(key, x)['params'],  init_key, x)\n",
    "def get_sharding(current_shape):\n",
    "  if(current_shape.ndim < 2):\n",
    "    return P()\n",
    "  else:\n",
    "   return P('tensor')\n",
    "\n",
    "out_spec = jax.tree.map(lambda x: get_sharding(x), var_spec)\n",
    "@partial(jax.shard_map, mesh=mesh, in_specs=(P(None, None, 'tensor'), P('tensor')), out_specs=out_spec)\n",
    "def init_tensor(x, key):\n",
    "  return model_tensor.init(key[0], x)['params']\n",
    "\n",
    "@partial(jax.shard_map, mesh=mesh, in_specs=(out_spec, P(None, None, 'tensor')), out_specs=(P(None, None, 'tensor')))\n",
    "def predict_tensor(params, x):\n",
    "  return model_tensor.apply({'params': params}, x)"
   ]
  },
  {
   "cell_type": "code",
   "execution_count": 13,
   "id": "7aee7b05",
   "metadata": {},
   "outputs": [],
   "source": [
    "\n",
    "params_tensor = init_tensor(x, tensor_keys)"
   ]
  },
  {
   "cell_type": "code",
   "execution_count": 8,
   "id": "012d795a",
   "metadata": {},
   "outputs": [
    {
     "data": {
      "text/html": [
       "<pre style=\"white-space:pre;overflow-x:auto;line-height:normal;font-family:Menlo,'DejaVu Sans Mono',consolas,'Courier New',monospace\">┌──────────┐\n",
       "│  CPU <span style=\"color: #008080; text-decoration-color: #008080; font-weight: bold\">0</span>   │\n",
       "├──────────┤\n",
       "│  CPU <span style=\"color: #008080; text-decoration-color: #008080; font-weight: bold\">1</span>   │\n",
       "├──────────┤\n",
       "│  CPU <span style=\"color: #008080; text-decoration-color: #008080; font-weight: bold\">2</span>   │\n",
       "├──────────┤\n",
       "│  CPU <span style=\"color: #008080; text-decoration-color: #008080; font-weight: bold\">3</span>   │\n",
       "├──────────┤\n",
       "│  CPU <span style=\"color: #008080; text-decoration-color: #008080; font-weight: bold\">4</span>   │\n",
       "├──────────┤\n",
       "│  CPU <span style=\"color: #008080; text-decoration-color: #008080; font-weight: bold\">5</span>   │\n",
       "├──────────┤\n",
       "│  CPU <span style=\"color: #008080; text-decoration-color: #008080; font-weight: bold\">6</span>   │\n",
       "├──────────┤\n",
       "│  CPU <span style=\"color: #008080; text-decoration-color: #008080; font-weight: bold\">7</span>   │\n",
       "└──────────┘\n",
       "</pre>\n"
      ],
      "text/plain": [
       "┌──────────┐\n",
       "│  CPU \u001b[1;36m0\u001b[0m   │\n",
       "├──────────┤\n",
       "│  CPU \u001b[1;36m1\u001b[0m   │\n",
       "├──────────┤\n",
       "│  CPU \u001b[1;36m2\u001b[0m   │\n",
       "├──────────┤\n",
       "│  CPU \u001b[1;36m3\u001b[0m   │\n",
       "├──────────┤\n",
       "│  CPU \u001b[1;36m4\u001b[0m   │\n",
       "├──────────┤\n",
       "│  CPU \u001b[1;36m5\u001b[0m   │\n",
       "├──────────┤\n",
       "│  CPU \u001b[1;36m6\u001b[0m   │\n",
       "├──────────┤\n",
       "│  CPU \u001b[1;36m7\u001b[0m   │\n",
       "└──────────┘\n"
      ]
     },
     "metadata": {},
     "output_type": "display_data"
    }
   ],
   "source": [
    "jax.debug.visualize_array_sharding(params_tensor['Dense_0']['kernel'])"
   ]
  },
  {
   "cell_type": "code",
   "execution_count": 86,
   "id": "00ef97b4",
   "metadata": {},
   "outputs": [
    {
     "data": {
      "text/plain": [
       "(16, 8)"
      ]
     },
     "execution_count": 86,
     "metadata": {},
     "output_type": "execute_result"
    }
   ],
   "source": [
    "params['Dense_0']['kernel'].shape"
   ]
  },
  {
   "cell_type": "code",
   "execution_count": 102,
   "id": "9ae30031",
   "metadata": {},
   "outputs": [
    {
     "name": "stdout",
     "output_type": "stream",
     "text": [
      "(2, 4, 16)\n",
      "{'kernel': Array([[-0.4129499 ,  0.18863787, -0.34443754, -0.21300575,  0.22984762,\n",
      "         0.32090548,  0.26101372, -0.01162406],\n",
      "       [ 0.10569897,  0.19433817, -0.45485714,  0.21357062, -0.17656627,\n",
      "         0.12733398,  0.30540565, -0.0687379 ],\n",
      "       [-0.37083328, -0.33003575, -0.17782678, -0.00833714, -0.08470196,\n",
      "        -0.1561097 , -0.527091  , -0.13473354],\n",
      "       [-0.28729278, -0.1519707 ,  0.13622738, -0.18332122,  0.31884882,\n",
      "         0.30622914,  0.42549726, -0.36607867],\n",
      "       [ 0.1551552 ,  0.4243707 ,  0.2194014 , -0.06142971, -0.00613193,\n",
      "        -0.21234725,  0.27880386,  0.11867873],\n",
      "       [ 0.14646956, -0.06827474, -0.02934157,  0.17079332,  0.1213038 ,\n",
      "         0.00091495,  0.09979176, -0.2644029 ],\n",
      "       [ 0.09694615, -0.3536361 , -0.2172665 ,  0.20046584,  0.26204365,\n",
      "         0.24415551,  0.48724577, -0.00846941],\n",
      "       [-0.10895626,  0.2645487 ,  0.11885007, -0.09636065, -0.30997655,\n",
      "         0.2348184 , -0.13377994, -0.16334581],\n",
      "       [ 0.38135648,  0.301419  ,  0.3801262 ,  0.47393668,  0.03276315,\n",
      "        -0.32987136, -0.45521027, -0.11839878],\n",
      "       [ 0.28043976,  0.01757216, -0.09872494, -0.13484621, -0.41795325,\n",
      "        -0.01341711, -0.37803486,  0.10773873],\n",
      "       [ 0.10744629,  0.05622234, -0.01479541, -0.30416957, -0.1979944 ,\n",
      "        -0.13983305,  0.2372171 , -0.4426827 ],\n",
      "       [ 0.3809516 , -0.00554435, -0.33128747,  0.07749499,  0.18592882,\n",
      "         0.29820028,  0.00504703,  0.28936255],\n",
      "       [ 0.09961081,  0.17322868, -0.02573254, -0.18345319, -0.27971604,\n",
      "        -0.16128623,  0.21609971, -0.07201824],\n",
      "       [-0.00131272,  0.10706826,  0.05359006,  0.06121672, -0.4851377 ,\n",
      "        -0.06935648,  0.11438566, -0.27403733],\n",
      "       [-0.55105233, -0.10108422,  0.03280942,  0.4443536 , -0.4622792 ,\n",
      "        -0.18981554,  0.07759292, -0.11257126],\n",
      "       [-0.40595058, -0.27768427,  0.13453403, -0.17686771, -0.21211709,\n",
      "         0.06155866, -0.02223628, -0.09069449]], dtype=float32), 'bias': Array([0., 0., 0., 0., 0., 0., 0., 0.], dtype=float32)}\n",
      "[[[-0.38427302  0.43917572 -0.61873126  0.28004062 -1.4818386\n",
      "    0.32207966  0.99174803 -1.612015  ]\n",
      "  [-0.38427302  0.43917572 -0.61873126  0.28004062 -1.4818386\n",
      "    0.32207966  0.99174803 -1.612015  ]\n",
      "  [-0.38427302  0.43917572 -0.61873126  0.28004062 -1.4818386\n",
      "    0.32207966  0.99174803 -1.612015  ]\n",
      "  [-0.38427302  0.43917572 -0.61873126  0.28004062 -1.4818386\n",
      "    0.32207966  0.99174803 -1.612015  ]]\n",
      "\n",
      " [[-0.38427302  0.43917572 -0.61873126  0.28004062 -1.4818386\n",
      "    0.32207966  0.99174803 -1.612015  ]\n",
      "  [-0.38427302  0.43917572 -0.61873126  0.28004062 -1.4818386\n",
      "    0.32207966  0.99174803 -1.612015  ]\n",
      "  [-0.38427302  0.43917572 -0.61873126  0.28004062 -1.4818386\n",
      "    0.32207966  0.99174803 -1.612015  ]\n",
      "  [-0.38427302  0.43917572 -0.61873126  0.28004062 -1.4818386\n",
      "    0.32207966  0.99174803 -1.612015  ]]]\n"
     ]
    }
   ],
   "source": [
    "print(x.shape)\n",
    "print(model.apply({'params': params}, x))"
   ]
  },
  {
   "cell_type": "code",
   "execution_count": 95,
   "id": "af0da9f3",
   "metadata": {},
   "outputs": [
    {
     "name": "stdout",
     "output_type": "stream",
     "text": [
      "x shape: (2, 4, 2)\n",
      "local_out shape: (2, 4, 8)\n",
      "2\n",
      "(2, 4, 1)\n"
     ]
    }
   ],
   "source": [
    "x_shard = predict_tensor(params_tensor, x)"
   ]
  },
  {
   "cell_type": "code",
   "execution_count": 98,
   "id": "e9355fc8",
   "metadata": {},
   "outputs": [
    {
     "data": {
      "text/html": [
       "<pre style=\"white-space:pre;overflow-x:auto;line-height:normal;font-family:Menlo,'DejaVu Sans Mono',consolas,'Courier New',monospace\">┌───────┬───────┬───────┬───────┬───────┬───────┬───────┬───────┐\n",
       "│       │       │       │       │       │       │       │       │\n",
       "│       │       │       │       │       │       │       │       │\n",
       "│       │       │       │       │       │       │       │       │\n",
       "│       │       │       │       │       │       │       │       │\n",
       "│ CPU <span style=\"color: #008080; text-decoration-color: #008080; font-weight: bold\">0</span> │ CPU <span style=\"color: #008080; text-decoration-color: #008080; font-weight: bold\">1</span> │ CPU <span style=\"color: #008080; text-decoration-color: #008080; font-weight: bold\">2</span> │ CPU <span style=\"color: #008080; text-decoration-color: #008080; font-weight: bold\">3</span> │ CPU <span style=\"color: #008080; text-decoration-color: #008080; font-weight: bold\">4</span> │ CPU <span style=\"color: #008080; text-decoration-color: #008080; font-weight: bold\">5</span> │ CPU <span style=\"color: #008080; text-decoration-color: #008080; font-weight: bold\">6</span> │ CPU <span style=\"color: #008080; text-decoration-color: #008080; font-weight: bold\">7</span> │\n",
       "│       │       │       │       │       │       │       │       │\n",
       "│       │       │       │       │       │       │       │       │\n",
       "│       │       │       │       │       │       │       │       │\n",
       "│       │       │       │       │       │       │       │       │\n",
       "└───────┴───────┴───────┴───────┴───────┴───────┴───────┴───────┘\n",
       "</pre>\n"
      ],
      "text/plain": [
       "┌───────┬───────┬───────┬───────┬───────┬───────┬───────┬───────┐\n",
       "│       │       │       │       │       │       │       │       │\n",
       "│       │       │       │       │       │       │       │       │\n",
       "│       │       │       │       │       │       │       │       │\n",
       "│       │       │       │       │       │       │       │       │\n",
       "│ CPU \u001b[1;36m0\u001b[0m │ CPU \u001b[1;36m1\u001b[0m │ CPU \u001b[1;36m2\u001b[0m │ CPU \u001b[1;36m3\u001b[0m │ CPU \u001b[1;36m4\u001b[0m │ CPU \u001b[1;36m5\u001b[0m │ CPU \u001b[1;36m6\u001b[0m │ CPU \u001b[1;36m7\u001b[0m │\n",
       "│       │       │       │       │       │       │       │       │\n",
       "│       │       │       │       │       │       │       │       │\n",
       "│       │       │       │       │       │       │       │       │\n",
       "│       │       │       │       │       │       │       │       │\n",
       "└───────┴───────┴───────┴───────┴───────┴───────┴───────┴───────┘\n"
      ]
     },
     "metadata": {},
     "output_type": "display_data"
    }
   ],
   "source": [
    "jax.debug.visualize_array_sharding(x_shard[0])"
   ]
  },
  {
   "cell_type": "code",
   "execution_count": 94,
   "id": "547bd514",
   "metadata": {},
   "outputs": [
    {
     "data": {
      "text/plain": [
       "(2, 4, 8)"
      ]
     },
     "execution_count": 94,
     "metadata": {},
     "output_type": "execute_result"
    }
   ],
   "source": [
    "x_shard"
   ]
  },
  {
   "cell_type": "code",
   "execution_count": 9,
   "id": "b7e4a553",
   "metadata": {},
   "outputs": [],
   "source": [
    "def display_param_sharding(params):\n",
    "  jax.tree.map(\n",
    "    lambda p: jax.debug.visualize_array_sharding(p), params\n",
    "  )"
   ]
  },
  {
   "cell_type": "code",
   "execution_count": 10,
   "id": "48c3142a",
   "metadata": {},
   "outputs": [
    {
     "data": {
      "text/html": [
       "<pre style=\"white-space:pre;overflow-x:auto;line-height:normal;font-family:Menlo,'DejaVu Sans Mono',consolas,'Courier New',monospace\">┌───────┐\n",
       "│ CPU <span style=\"color: #008080; text-decoration-color: #008080; font-weight: bold\">0</span> │\n",
       "└───────┘\n",
       "</pre>\n"
      ],
      "text/plain": [
       "┌───────┐\n",
       "│ CPU \u001b[1;36m0\u001b[0m │\n",
       "└───────┘\n"
      ]
     },
     "metadata": {},
     "output_type": "display_data"
    },
    {
     "data": {
      "text/html": [
       "<pre style=\"white-space:pre;overflow-x:auto;line-height:normal;font-family:Menlo,'DejaVu Sans Mono',consolas,'Courier New',monospace\">┌──────────┐\n",
       "│          │\n",
       "│          │\n",
       "│          │\n",
       "│          │\n",
       "│  CPU <span style=\"color: #008080; text-decoration-color: #008080; font-weight: bold\">0</span>   │\n",
       "│          │\n",
       "│          │\n",
       "│          │\n",
       "│          │\n",
       "└──────────┘\n",
       "</pre>\n"
      ],
      "text/plain": [
       "┌──────────┐\n",
       "│          │\n",
       "│          │\n",
       "│          │\n",
       "│          │\n",
       "│  CPU \u001b[1;36m0\u001b[0m   │\n",
       "│          │\n",
       "│          │\n",
       "│          │\n",
       "│          │\n",
       "└──────────┘\n"
      ]
     },
     "metadata": {},
     "output_type": "display_data"
    }
   ],
   "source": [
    "display_param_sharding(params)"
   ]
  },
  {
   "cell_type": "code",
   "execution_count": 14,
   "id": "b712209c",
   "metadata": {},
   "outputs": [
    {
     "data": {
      "text/html": [
       "<pre style=\"white-space:pre;overflow-x:auto;line-height:normal;font-family:Menlo,'DejaVu Sans Mono',consolas,'Courier New',monospace\">┌───────────────────┐\n",
       "│CPU <span style=\"color: #008080; text-decoration-color: #008080; font-weight: bold\">0</span>,<span style=\"color: #008080; text-decoration-color: #008080; font-weight: bold\">1</span>,<span style=\"color: #008080; text-decoration-color: #008080; font-weight: bold\">2</span>,<span style=\"color: #008080; text-decoration-color: #008080; font-weight: bold\">3</span>,<span style=\"color: #008080; text-decoration-color: #008080; font-weight: bold\">4</span>,<span style=\"color: #008080; text-decoration-color: #008080; font-weight: bold\">5</span>,<span style=\"color: #008080; text-decoration-color: #008080; font-weight: bold\">6</span>,<span style=\"color: #008080; text-decoration-color: #008080; font-weight: bold\">7</span>│\n",
       "└───────────────────┘\n",
       "</pre>\n"
      ],
      "text/plain": [
       "┌───────────────────┐\n",
       "│CPU \u001b[1;36m0\u001b[0m,\u001b[1;36m1\u001b[0m,\u001b[1;36m2\u001b[0m,\u001b[1;36m3\u001b[0m,\u001b[1;36m4\u001b[0m,\u001b[1;36m5\u001b[0m,\u001b[1;36m6\u001b[0m,\u001b[1;36m7\u001b[0m│\n",
       "└───────────────────┘\n"
      ]
     },
     "metadata": {},
     "output_type": "display_data"
    },
    {
     "data": {
      "text/html": [
       "<pre style=\"white-space:pre;overflow-x:auto;line-height:normal;font-family:Menlo,'DejaVu Sans Mono',consolas,'Courier New',monospace\">┌──────────┐\n",
       "│  CPU <span style=\"color: #008080; text-decoration-color: #008080; font-weight: bold\">0</span>   │\n",
       "├──────────┤\n",
       "│  CPU <span style=\"color: #008080; text-decoration-color: #008080; font-weight: bold\">1</span>   │\n",
       "├──────────┤\n",
       "│  CPU <span style=\"color: #008080; text-decoration-color: #008080; font-weight: bold\">2</span>   │\n",
       "├──────────┤\n",
       "│  CPU <span style=\"color: #008080; text-decoration-color: #008080; font-weight: bold\">3</span>   │\n",
       "├──────────┤\n",
       "│  CPU <span style=\"color: #008080; text-decoration-color: #008080; font-weight: bold\">4</span>   │\n",
       "├──────────┤\n",
       "│  CPU <span style=\"color: #008080; text-decoration-color: #008080; font-weight: bold\">5</span>   │\n",
       "├──────────┤\n",
       "│  CPU <span style=\"color: #008080; text-decoration-color: #008080; font-weight: bold\">6</span>   │\n",
       "├──────────┤\n",
       "│  CPU <span style=\"color: #008080; text-decoration-color: #008080; font-weight: bold\">7</span>   │\n",
       "└──────────┘\n",
       "</pre>\n"
      ],
      "text/plain": [
       "┌──────────┐\n",
       "│  CPU \u001b[1;36m0\u001b[0m   │\n",
       "├──────────┤\n",
       "│  CPU \u001b[1;36m1\u001b[0m   │\n",
       "├──────────┤\n",
       "│  CPU \u001b[1;36m2\u001b[0m   │\n",
       "├──────────┤\n",
       "│  CPU \u001b[1;36m3\u001b[0m   │\n",
       "├──────────┤\n",
       "│  CPU \u001b[1;36m4\u001b[0m   │\n",
       "├──────────┤\n",
       "│  CPU \u001b[1;36m5\u001b[0m   │\n",
       "├──────────┤\n",
       "│  CPU \u001b[1;36m6\u001b[0m   │\n",
       "├──────────┤\n",
       "│  CPU \u001b[1;36m7\u001b[0m   │\n",
       "└──────────┘\n"
      ]
     },
     "metadata": {},
     "output_type": "display_data"
    }
   ],
   "source": [
    "display_param_sharding(params_tensor)"
   ]
  },
  {
   "cell_type": "code",
   "execution_count": null,
   "id": "c8162f26",
   "metadata": {},
   "outputs": [],
   "source": []
  }
 ],
 "metadata": {
  "kernelspec": {
   "display_name": "jaxformer",
   "language": "python",
   "name": "python3"
  },
  "language_info": {
   "codemirror_mode": {
    "name": "ipython",
    "version": 3
   },
   "file_extension": ".py",
   "mimetype": "text/x-python",
   "name": "python",
   "nbconvert_exporter": "python",
   "pygments_lexer": "ipython3",
   "version": "3.13.5"
  }
 },
 "nbformat": 4,
 "nbformat_minor": 5
}
