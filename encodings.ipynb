{
 "cells": [
  {
   "cell_type": "code",
   "execution_count": null,
   "id": "64fd0c64",
   "metadata": {},
   "outputs": [],
   "source": [
    "encodings = jnp.zeros((2, 3))\n",
    "\n",
    "a = [1,2,3]\n",
    "\n",
    "T = 256\n",
    "d = 512\n",
    "\n",
    "zeros = jnp.zeros((T,d))\n",
    "row = jnp.arange(0, T, 1)\n",
    "pos_matrix = row.reshape(-1, 1)\n",
    "row2 = jnp.arange(0, d, 1)\n",
    "pos2 = zeros + row2\n",
    "j = pos2 // 2\n",
    "denom = 1/(10000 ** ((2*j)/d))\n",
    "inp = pos_matrix * denom\n",
    "pi2j = jnp.sin(inp)\n",
    "pi2j1 = jnp.cos(inp)\n",
    "zeros = zeros.at[:, 0::2].set(pi2j[:, ::2])\n",
    "zeros = zeros.at[:, 1::2].set(pi2j1[:, 1: :2])\n",
    "\n",
    "#another way\n",
    "time = jnp.arange(0, T)\n",
    "d_test = jnp.arange(0, d//2)\n",
    "angular =  1/(10000 ** (2 * (d_test)/d))\n",
    "theta = time[:, None] * angular[None, :]\n",
    "sin = jnp.sin(theta)\n",
    "cos = jnp.cos(theta)\n",
    "\n",
    "ans = jnp.stack([sin, cos], axis=-1).reshape(T, -1)\n",
    "ans.shape\n",
    "\n",
    "#visualization\n",
    "import matplotlib.pyplot as plt\n",
    "plt.imshow(zeros)"
   ]
  }
 ],
 "metadata": {
  "language_info": {
   "name": "python"
  }
 },
 "nbformat": 4,
 "nbformat_minor": 5
}
