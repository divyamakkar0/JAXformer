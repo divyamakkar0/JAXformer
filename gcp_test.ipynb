{
 "cells": [
  {
   "cell_type": "code",
   "execution_count": 1,
   "id": "23e12f1e",
   "metadata": {},
   "outputs": [],
   "source": [
    "from google.cloud import storage\n",
    "import shutil\n",
    "import os\n",
    "import time\n",
    "\n",
    "bucket_name = \"10bt_gpt4\"\n",
    "source_blob_name = \"edufineweb_train_00000\"\n",
    "destination_file_name = \"./bucketDownloads\"\n",
    "folder = \"./bucket_downloads/\"\n",
    "os.makedirs(folder, exist_ok=True)"
   ]
  },
  {
   "cell_type": "code",
   "execution_count": 2,
   "id": "218e32ed",
   "metadata": {},
   "outputs": [],
   "source": [
    "def download_blob_to_stream(bucket_name, source_blob_name, file_obj):\n",
    "    \"\"\"Downloads a blob to a stream or other file-like object.\"\"\"\n",
    "    storage_client = storage.Client()\n",
    "    bucket = storage_client.bucket(bucket_name)\n",
    "    \n",
    "    blob = bucket.blob(source_blob_name)\n",
    "    blob.download_to_file(file_obj)\n",
    "    print(\"done\")\n",
    "    print(f\"Downloaded blob {source_blob_name} to file-like object.\")\n",
    "\n",
    "    return file_obj\n",
    "    # rewind with file_obj.seek(0)."
   ]
  },
  {
   "cell_type": "code",
   "execution_count": 4,
   "id": "3ef161fe",
   "metadata": {},
   "outputs": [],
   "source": [
    "def download_bucket(bucket_name, source_name, f):\n",
    "    result = download_blob_to_stream(bucket_name, source_name, f)\n",
    "    print(\"here again\")\n",
    "    while isinstance(result, Exception):\n",
    "        print(\"Failed to download due to exception\")\n",
    "        time.sleep(5)\n",
    "        result = download_bucket(bucket_name, source_name, f)\n",
    "     \n",
    "    print(\"Downloaded\")\n",
    "    return result"
   ]
  },
  {
   "cell_type": "code",
   "execution_count": 5,
   "id": "9bfeaa62",
   "metadata": {},
   "outputs": [
    {
     "name": "stdout",
     "output_type": "stream",
     "text": [
      "here\n",
      "done\n",
      "Downloaded blob edufineweb_train_000001.npy to file-like object.\n",
      "here again\n",
      "Downloaded\n",
      "<_io.BufferedWriter name='./bucketDownloads1.npy'>\n",
      "removed ./bucket_downloads/./bucketDownloads1.npy successfully\n",
      "here\n",
      "done\n",
      "Downloaded blob edufineweb_train_000002.npy to file-like object.\n",
      "here again\n",
      "Downloaded\n",
      "<_io.BufferedWriter name='./bucketDownloads2.npy'>\n",
      "removed ./bucket_downloads/./bucketDownloads2.npy successfully\n",
      "here\n",
      "done\n",
      "Downloaded blob edufineweb_train_000003.npy to file-like object.\n",
      "here again\n",
      "Downloaded\n",
      "<_io.BufferedWriter name='./bucketDownloads3.npy'>\n",
      "removed ./bucket_downloads/./bucketDownloads3.npy successfully\n",
      "here\n",
      "done\n",
      "Downloaded blob edufineweb_train_000004.npy to file-like object.\n",
      "here again\n",
      "Downloaded\n",
      "<_io.BufferedWriter name='./bucketDownloads4.npy'>\n",
      "removed ./bucket_downloads/./bucketDownloads4.npy successfully\n",
      "here\n",
      "done\n",
      "Downloaded blob edufineweb_train_000005.npy to file-like object.\n",
      "here again\n",
      "Downloaded\n",
      "<_io.BufferedWriter name='./bucketDownloads5.npy'>\n",
      "removed ./bucket_downloads/./bucketDownloads5.npy successfully\n"
     ]
    }
   ],
   "source": [
    "for i in range(1,6):\n",
    "    source_name = source_blob_name + str(i) + \".npy\"\n",
    "    dest = destination_file_name + str(i) + \".npy\"\n",
    "\n",
    "    with open(dest, \"wb\") as f:\n",
    "        print(\"here\")\n",
    "        result = download_bucket(bucket_name, source_name, f)\n",
    "        print(result)\n",
    " \n",
    "    shutil.move(dest, folder)\n",
    "    #the sharding \n",
    "\n",
    "    full_path = folder + dest\n",
    "    os.remove(full_path)\n",
    "    print(f'removed {full_path} successfully')"
   ]
  },
  {
   "cell_type": "code",
   "execution_count": 13,
   "id": "c80a854d",
   "metadata": {},
   "outputs": [],
   "source": [
    "def list_blobs_with_prefix(bucket_name, prefix, delimiter=None):\n",
    "    len = 0\n",
    "    storage_client = storage.Client()\n",
    "    # Note: Client.list_blobs requires at least package version 1.17.0.\n",
    "    blobs = storage_client.list_blobs(bucket_name, prefix=prefix, delimiter=delimiter)\n",
    "    # Note: The call returns a response only when the iterator is consumed.\n",
    "    print(\"Blobs:\")\n",
    "    for blob in blobs:\n",
    "        len += 1\n",
    "        print(blob.name)\n",
    "\n",
    "\n",
    "    if delimiter:\n",
    "        print(\"Prefixes:\")\n",
    "        for prefix in blobs.prefixes:\n",
    "            print(prefix)\n",
    "    \n",
    "    return len\n"
   ]
  },
  {
   "cell_type": "code",
   "execution_count": 20,
   "id": "021560b1",
   "metadata": {},
   "outputs": [],
   "source": [
    "def list_blobs(bucket_name):\n",
    "    \"\"\"Lists all the blobs in the bucket.\"\"\"\n",
    "    # bucket_name = \"your-bucket-name\"\n",
    "\n",
    "    storage_client = storage.Client()\n",
    "\n",
    "    # Note: Client.list_blobs requires at least package version 1.17.0.\n",
    "    blobs = storage_client.list_blobs(bucket_name)\n",
    "\n",
    "    # Note: The call returns a response only when the iterator is consumed.\n",
    "    for blob in blobs:\n",
    "        print(blob.name)"
   ]
  },
  {
   "cell_type": "code",
   "execution_count": 25,
   "id": "24269c28",
   "metadata": {},
   "outputs": [],
   "source": [
    "def list_blobs_with_prefix(bucket_name, prefix, delimiter=None):\n",
    "    storage_client = storage.Client()\n",
    "\n",
    "    blobs = storage_client.list_blobs(bucket_name, prefix=prefix, delimiter=delimiter)\n",
    "\n",
    "    res = []\n",
    "    print(\"Blobs:\")\n",
    "    for blob in blobs:\n",
    "        res.append(blob.name)\n",
    "        print(blob.name)\n",
    "    \n",
    "    return res[1:]\n",
    "\n",
    "   \n",
    "\n"
   ]
  },
  {
   "cell_type": "code",
   "execution_count": 26,
   "id": "104c6bc3",
   "metadata": {},
   "outputs": [
    {
     "name": "stdout",
     "output_type": "stream",
     "text": [
      "Blobs:\n",
      "val/\n",
      "val/edufineweb_val_000000.npy\n"
     ]
    },
    {
     "data": {
      "text/plain": [
       "['val/edufineweb_val_000000.npy']"
      ]
     },
     "execution_count": 26,
     "metadata": {},
     "output_type": "execute_result"
    }
   ],
   "source": [
    "list_blobs_with_prefix(bucket_name, \"val\")"
   ]
  },
  {
   "cell_type": "code",
   "execution_count": null,
   "id": "4e0b0aa4",
   "metadata": {},
   "outputs": [
    {
     "name": "stdout",
     "output_type": "stream",
     "text": [
      "edufineweb_train_000003.npy\n",
      "edufineweb_train_000004.npy\n",
      "edufineweb_train_000005.npy\n",
      "edufineweb_train_000006.npy\n",
      "edufineweb_train_000007.npy\n",
      "edufineweb_train_000008.npy\n",
      "edufineweb_train_000009.npy\n",
      "edufineweb_train_000010.npy\n",
      "edufineweb_train_000011.npy\n",
      "edufineweb_train_000012.npy\n",
      "edufineweb_train_000013.npy\n",
      "edufineweb_train_000014.npy\n",
      "edufineweb_train_000015.npy\n",
      "edufineweb_train_000016.npy\n",
      "edufineweb_train_000017.npy\n",
      "edufineweb_train_000018.npy\n",
      "edufineweb_train_000019.npy\n",
      "edufineweb_train_000020.npy\n",
      "edufineweb_train_000021.npy\n",
      "edufineweb_train_000022.npy\n",
      "edufineweb_train_000023.npy\n",
      "edufineweb_train_000024.npy\n",
      "edufineweb_train_000025.npy\n",
      "edufineweb_train_000026.npy\n",
      "edufineweb_train_000027.npy\n",
      "edufineweb_train_000028.npy\n",
      "edufineweb_train_000029.npy\n",
      "edufineweb_train_000030.npy\n",
      "edufineweb_train_000031.npy\n",
      "edufineweb_train_000032.npy\n",
      "edufineweb_train_000033.npy\n",
      "edufineweb_train_000034.npy\n",
      "edufineweb_train_000035.npy\n",
      "edufineweb_train_000036.npy\n",
      "edufineweb_train_000037.npy\n",
      "edufineweb_train_000038.npy\n",
      "edufineweb_train_000039.npy\n",
      "edufineweb_train_000040.npy\n",
      "edufineweb_train_000041.npy\n",
      "edufineweb_train_000042.npy\n",
      "edufineweb_train_000043.npy\n",
      "edufineweb_train_000044.npy\n",
      "edufineweb_train_000045.npy\n",
      "edufineweb_train_000046.npy\n",
      "edufineweb_train_000047.npy\n",
      "edufineweb_train_000048.npy\n",
      "edufineweb_train_000049.npy\n",
      "edufineweb_train_000050.npy\n",
      "edufineweb_train_000051.npy\n",
      "edufineweb_train_000052.npy\n",
      "edufineweb_train_000053.npy\n",
      "edufineweb_train_000054.npy\n",
      "edufineweb_train_000055.npy\n",
      "edufineweb_train_000056.npy\n",
      "edufineweb_train_000057.npy\n",
      "edufineweb_train_000058.npy\n",
      "edufineweb_train_000059.npy\n",
      "edufineweb_train_000060.npy\n",
      "edufineweb_train_000061.npy\n",
      "edufineweb_train_000062.npy\n",
      "edufineweb_train_000063.npy\n",
      "edufineweb_train_000064.npy\n",
      "edufineweb_train_000065.npy\n",
      "edufineweb_train_000066.npy\n",
      "edufineweb_train_000067.npy\n",
      "edufineweb_train_000068.npy\n",
      "edufineweb_train_000069.npy\n",
      "edufineweb_train_000070.npy\n",
      "edufineweb_train_000071.npy\n",
      "edufineweb_train_000072.npy\n",
      "edufineweb_train_000073.npy\n",
      "edufineweb_train_000074.npy\n",
      "edufineweb_train_000075.npy\n",
      "edufineweb_train_000076.npy\n",
      "edufineweb_train_000077.npy\n",
      "edufineweb_train_000078.npy\n",
      "edufineweb_train_000079.npy\n",
      "edufineweb_train_000080.npy\n",
      "edufineweb_train_000081.npy\n",
      "edufineweb_train_000082.npy\n",
      "edufineweb_train_000083.npy\n",
      "edufineweb_train_000084.npy\n",
      "edufineweb_train_000085.npy\n",
      "edufineweb_train_000086.npy\n",
      "edufineweb_train_000087.npy\n",
      "edufineweb_train_000088.npy\n",
      "edufineweb_train_000089.npy\n",
      "edufineweb_train_000090.npy\n",
      "edufineweb_train_000091.npy\n",
      "edufineweb_train_000092.npy\n",
      "edufineweb_train_000093.npy\n",
      "edufineweb_train_000094.npy\n",
      "edufineweb_train_000095.npy\n",
      "edufineweb_train_000096.npy\n",
      "train/\n",
      "train/edufineweb_train_000001.npy\n",
      "train/edufineweb_train_000002.npy\n",
      "val/\n",
      "val/edufineweb_val_000000.npy\n"
     ]
    }
   ],
   "source": [
    "list_blobs(bucket_name)\n"
   ]
  },
  {
   "cell_type": "code",
   "execution_count": 17,
   "id": "965d9a78",
   "metadata": {},
   "outputs": [],
   "source": [
    "def len_blobs(bucket_name, prefix, delimiter=None):\n",
    "    len = 0\n",
    "    storage_client = storage.Client()\n",
    "    blobs = storage_client.list_blobs(bucket_name, prefix=prefix, delimiter=delimiter)\n",
    "    print(\"Blobs:\")\n",
    "    for blob in blobs:\n",
    "        len += 1\n",
    "    \n",
    "    return len\n"
   ]
  },
  {
   "cell_type": "code",
   "execution_count": 19,
   "id": "e8465d3c",
   "metadata": {},
   "outputs": [
    {
     "name": "stdout",
     "output_type": "stream",
     "text": [
      "Blobs:\n",
      "96\n"
     ]
    }
   ],
   "source": [
    "print(len_blobs(bucket_name,\"edufineweb_train\"))"
   ]
  }
 ],
 "metadata": {
  "kernelspec": {
   "display_name": "jax_intro",
   "language": "python",
   "name": "python3"
  },
  "language_info": {
   "codemirror_mode": {
    "name": "ipython",
    "version": 3
   },
   "file_extension": ".py",
   "mimetype": "text/x-python",
   "name": "python",
   "nbconvert_exporter": "python",
   "pygments_lexer": "ipython3",
   "version": "3.11.12"
  }
 },
 "nbformat": 4,
 "nbformat_minor": 5
}
